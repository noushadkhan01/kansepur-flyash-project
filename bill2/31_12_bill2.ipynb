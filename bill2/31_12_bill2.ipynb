{
  "nbformat": 4,
  "nbformat_minor": 0,
  "metadata": {
    "colab": {
      "name": "31-12-bill2.ipynb",
      "version": "0.3.2",
      "provenance": [],
      "collapsed_sections": [],
      "include_colab_link": true
    },
    "kernelspec": {
      "name": "python3",
      "display_name": "Python 3"
    }
  },
  "cells": [
    {
      "cell_type": "markdown",
      "metadata": {
        "id": "view-in-github",
        "colab_type": "text"
      },
      "source": [
        "<a href=\"https://colab.research.google.com/github/noushadkhan01/kansepur-flyash-project/blob/master/bill2/31_12_bill2.ipynb\" target=\"_parent\"><img src=\"https://colab.research.google.com/assets/colab-badge.svg\" alt=\"Open In Colab\"/></a>"
      ]
    },
    {
      "metadata": {
        "id": "so-LEjYwlBUq",
        "colab_type": "code",
        "outputId": "e01cbe00-e379-4600-cb2b-13009c032c16",
        "colab": {
          "base_uri": "https://localhost:8080/",
          "height": 119
        }
      },
      "cell_type": "code",
      "source": [
        "!git clone https://github.com/noushadkhan01/kansepur-flyash-project.git"
      ],
      "execution_count": 1,
      "outputs": [
        {
          "output_type": "stream",
          "text": [
            "Cloning into 'kansepur-flyash-project'...\n",
            "remote: Enumerating objects: 69, done.\u001b[K\n",
            "remote: Counting objects:   1% (1/69)   \u001b[K\rremote: Counting objects:   2% (2/69)   \u001b[K\rremote: Counting objects:   4% (3/69)   \u001b[K\rremote: Counting objects:   5% (4/69)   \u001b[K\rremote: Counting objects:   7% (5/69)   \u001b[K\rremote: Counting objects:   8% (6/69)   \u001b[K\rremote: Counting objects:  10% (7/69)   \u001b[K\rremote: Counting objects:  11% (8/69)   \u001b[K\rremote: Counting objects:  13% (9/69)   \u001b[K\rremote: Counting objects:  14% (10/69)   \u001b[K\rremote: Counting objects:  15% (11/69)   \u001b[K\rremote: Counting objects:  17% (12/69)   \u001b[K\rremote: Counting objects:  18% (13/69)   \u001b[K\rremote: Counting objects:  20% (14/69)   \u001b[K\rremote: Counting objects:  21% (15/69)   \u001b[K\rremote: Counting objects:  23% (16/69)   \u001b[K\rremote: Counting objects:  24% (17/69)   \u001b[K\rremote: Counting objects:  26% (18/69)   \u001b[K\rremote: Counting objects:  27% (19/69)   \u001b[K\rremote: Counting objects:  28% (20/69)   \u001b[K\rremote: Counting objects:  30% (21/69)   \u001b[K\rremote: Counting objects:  31% (22/69)   \u001b[K\rremote: Counting objects:  33% (23/69)   \u001b[K\rremote: Counting objects:  34% (24/69)   \u001b[K\rremote: Counting objects:  36% (25/69)   \u001b[K\rremote: Counting objects:  37% (26/69)   \u001b[K\rremote: Counting objects:  39% (27/69)   \u001b[K\rremote: Counting objects:  40% (28/69)   \u001b[K\rremote: Counting objects:  42% (29/69)   \u001b[K\rremote: Counting objects:  43% (30/69)   \u001b[K\rremote: Counting objects:  44% (31/69)   \u001b[K\rremote: Counting objects:  46% (32/69)   \u001b[K\rremote: Counting objects:  47% (33/69)   \u001b[K\rremote: Counting objects:  49% (34/69)   \u001b[K\rremote: Counting objects:  50% (35/69)   \u001b[K\rremote: Counting objects:  52% (36/69)   \u001b[K\rremote: Counting objects:  53% (37/69)   \u001b[K\rremote: Counting objects:  55% (38/69)   \u001b[K\rremote: Counting objects:  56% (39/69)   \u001b[K\rremote: Counting objects:  57% (40/69)   \u001b[K\rremote: Counting objects:  59% (41/69)   \u001b[K\rremote: Counting objects:  60% (42/69)   \u001b[K\rremote: Counting objects:  62% (43/69)   \u001b[K\rremote: Counting objects:  63% (44/69)   \u001b[K\rremote: Counting objects:  65% (45/69)   \u001b[K\rremote: Counting objects:  66% (46/69)   \u001b[K\rremote: Counting objects:  68% (47/69)   \u001b[K\rremote: Counting objects:  69% (48/69)   \u001b[K\rremote: Counting objects:  71% (49/69)   \u001b[K\rremote: Counting objects:  72% (50/69)   \u001b[K\rremote: Counting objects:  73% (51/69)   \u001b[K\rremote: Counting objects:  75% (52/69)   \u001b[K\rremote: Counting objects:  76% (53/69)   \u001b[K\rremote: Counting objects:  78% (54/69)   \u001b[K\rremote: Counting objects:  79% (55/69)   \u001b[K\rremote: Counting objects:  81% (56/69)   \u001b[K\rremote: Counting objects:  82% (57/69)   \u001b[K\rremote: Counting objects:  84% (58/69)   \u001b[K\rremote: Counting objects:  85% (59/69)   \u001b[K\rremote: Counting objects:  86% (60/69)   \u001b[K\rremote: Counting objects:  88% (61/69)   \u001b[K\rremote: Counting objects:  89% (62/69)   \u001b[K\rremote: Counting objects:  91% (63/69)   \u001b[K\rremote: Counting objects:  92% (64/69)   \u001b[K\rremote: Counting objects:  94% (65/69)   \u001b[K\rremote: Counting objects:  95% (66/69)   \u001b[K\rremote: Counting objects:  97% (67/69)   \u001b[K\rremote: Counting objects:  98% (68/69)   \u001b[K\rremote: Counting objects: 100% (69/69)   \u001b[K\rremote: Counting objects: 100% (69/69), done.\u001b[K\n",
            "remote: Compressing objects:   1% (1/64)   \u001b[K\rremote: Compressing objects:   3% (2/64)   \u001b[K\rremote: Compressing objects:   4% (3/64)   \u001b[K\rremote: Compressing objects:   6% (4/64)   \u001b[K\rremote: Compressing objects:   7% (5/64)   \u001b[K\rremote: Compressing objects:   9% (6/64)   \u001b[K\rremote: Compressing objects:  10% (7/64)   \u001b[K\rremote: Compressing objects:  12% (8/64)   \u001b[K\rremote: Compressing objects:  14% (9/64)   \u001b[K\rremote: Compressing objects:  15% (10/64)   \u001b[K\rremote: Compressing objects:  17% (11/64)   \u001b[K\rremote: Compressing objects:  18% (12/64)   \u001b[K\rremote: Compressing objects:  20% (13/64)   \u001b[K\rremote: Compressing objects:  21% (14/64)   \u001b[K\rremote: Compressing objects:  23% (15/64)   \u001b[K\rremote: Compressing objects:  25% (16/64)   \u001b[K\rremote: Compressing objects:  26% (17/64)   \u001b[K\rremote: Compressing objects:  28% (18/64)   \u001b[K\rremote: Compressing objects:  29% (19/64)   \u001b[K\rremote: Compressing objects:  31% (20/64)   \u001b[K\rremote: Compressing objects:  32% (21/64)   \u001b[K\rremote: Compressing objects:  34% (22/64)   \u001b[K\rremote: Compressing objects:  35% (23/64)   \u001b[K\rremote: Compressing objects:  37% (24/64)   \u001b[K\rremote: Compressing objects:  39% (25/64)   \u001b[K\rremote: Compressing objects:  40% (26/64)   \u001b[K\rremote: Compressing objects:  42% (27/64)   \u001b[K\rremote: Compressing objects:  43% (28/64)   \u001b[K\rremote: Compressing objects:  45% (29/64)   \u001b[K\rremote: Compressing objects:  46% (30/64)   \u001b[K\rremote: Compressing objects:  48% (31/64)   \u001b[K\rremote: Compressing objects:  50% (32/64)   \u001b[K\rremote: Compressing objects:  51% (33/64)   \u001b[K\rremote: Compressing objects:  53% (34/64)   \u001b[K\rremote: Compressing objects:  54% (35/64)   \u001b[K\rremote: Compressing objects:  56% (36/64)   \u001b[K\rremote: Compressing objects:  57% (37/64)   \u001b[K\rremote: Compressing objects:  59% (38/64)   \u001b[K\rremote: Compressing objects:  60% (39/64)   \u001b[K\rremote: Compressing objects:  62% (40/64)   \u001b[K\rremote: Compressing objects:  64% (41/64)   \u001b[K\rremote: Compressing objects:  65% (42/64)   \u001b[K\rremote: Compressing objects:  67% (43/64)   \u001b[K\rremote: Compressing objects:  68% (44/64)   \u001b[K\rremote: Compressing objects:  70% (45/64)   \u001b[K\rremote: Compressing objects:  71% (46/64)   \u001b[K\rremote: Compressing objects:  73% (47/64)   \u001b[K\rremote: Compressing objects:  75% (48/64)   \u001b[K\rremote: Compressing objects:  76% (49/64)   \u001b[K\rremote: Compressing objects:  78% (50/64)   \u001b[K\rremote: Compressing objects:  79% (51/64)   \u001b[K\rremote: Compressing objects:  81% (52/64)   \u001b[K\rremote: Compressing objects:  82% (53/64)   \u001b[K\rremote: Compressing objects:  84% (54/64)   \u001b[K\rremote: Compressing objects:  85% (55/64)   \u001b[K\rremote: Compressing objects:  87% (56/64)   \u001b[K\rremote: Compressing objects:  89% (57/64)   \u001b[K\rremote: Compressing objects:  90% (58/64)   \u001b[K\rremote: Compressing objects:  92% (59/64)   \u001b[K\rremote: Compressing objects:  93% (60/64)   \u001b[K\rremote: Compressing objects:  95% (61/64)   \u001b[K\rremote: Compressing objects:  96% (62/64)   \u001b[K\rremote: Compressing objects:  98% (63/64)   \u001b[K\rremote: Compressing objects: 100% (64/64)   \u001b[K\rremote: Compressing objects: 100% (64/64), done.\u001b[K\n",
            "Unpacking objects:   1% (1/69)   \rUnpacking objects:   2% (2/69)   \rUnpacking objects:   4% (3/69)   \rUnpacking objects:   5% (4/69)   \rUnpacking objects:   7% (5/69)   \rUnpacking objects:   8% (6/69)   \rUnpacking objects:  10% (7/69)   \rUnpacking objects:  11% (8/69)   \rUnpacking objects:  13% (9/69)   \rUnpacking objects:  14% (10/69)   \rUnpacking objects:  15% (11/69)   \rUnpacking objects:  17% (12/69)   \rUnpacking objects:  18% (13/69)   \rUnpacking objects:  20% (14/69)   \rUnpacking objects:  21% (15/69)   \rUnpacking objects:  23% (16/69)   \rUnpacking objects:  24% (17/69)   \rUnpacking objects:  26% (18/69)   \rUnpacking objects:  27% (19/69)   \rUnpacking objects:  28% (20/69)   \rUnpacking objects:  30% (21/69)   \rUnpacking objects:  31% (22/69)   \rUnpacking objects:  33% (23/69)   \rUnpacking objects:  34% (24/69)   \rUnpacking objects:  36% (25/69)   \rUnpacking objects:  37% (26/69)   \rUnpacking objects:  39% (27/69)   \rUnpacking objects:  40% (28/69)   \rUnpacking objects:  42% (29/69)   \rUnpacking objects:  43% (30/69)   \rUnpacking objects:  44% (31/69)   \rUnpacking objects:  46% (32/69)   \rUnpacking objects:  47% (33/69)   \rUnpacking objects:  49% (34/69)   \rUnpacking objects:  50% (35/69)   \rUnpacking objects:  52% (36/69)   \rUnpacking objects:  53% (37/69)   \rUnpacking objects:  55% (38/69)   \rUnpacking objects:  56% (39/69)   \rremote: Total 69 (delta 31), reused 0 (delta 0), pack-reused 0\u001b[K\n",
            "Unpacking objects:  57% (40/69)   \rUnpacking objects:  59% (41/69)   \rUnpacking objects:  60% (42/69)   \rUnpacking objects:  62% (43/69)   \rUnpacking objects:  63% (44/69)   \rUnpacking objects:  65% (45/69)   \rUnpacking objects:  66% (46/69)   \rUnpacking objects:  68% (47/69)   \rUnpacking objects:  69% (48/69)   \rUnpacking objects:  71% (49/69)   \rUnpacking objects:  72% (50/69)   \rUnpacking objects:  73% (51/69)   \rUnpacking objects:  75% (52/69)   \rUnpacking objects:  76% (53/69)   \rUnpacking objects:  78% (54/69)   \rUnpacking objects:  79% (55/69)   \rUnpacking objects:  81% (56/69)   \rUnpacking objects:  82% (57/69)   \rUnpacking objects:  84% (58/69)   \rUnpacking objects:  85% (59/69)   \rUnpacking objects:  86% (60/69)   \rUnpacking objects:  88% (61/69)   \rUnpacking objects:  89% (62/69)   \rUnpacking objects:  91% (63/69)   \rUnpacking objects:  92% (64/69)   \rUnpacking objects:  94% (65/69)   \rUnpacking objects:  95% (66/69)   \rUnpacking objects:  97% (67/69)   \rUnpacking objects:  98% (68/69)   \rUnpacking objects: 100% (69/69)   \rUnpacking objects: 100% (69/69), done.\n"
          ],
          "name": "stdout"
        }
      ]
    },
    {
      "metadata": {
        "id": "g1NpP5jtlH5r",
        "colab_type": "code",
        "colab": {}
      },
      "cell_type": "code",
      "source": [
        "import pandas as pd"
      ],
      "execution_count": 0,
      "outputs": []
    },
    {
      "metadata": {
        "id": "vgRnsjiMlJvN",
        "colab_type": "code",
        "outputId": "615be412-b81d-4f93-dcfc-d39dd216d1dd",
        "colab": {
          "base_uri": "https://localhost:8080/",
          "height": 34
        }
      },
      "cell_type": "code",
      "source": [
        "%cd ./kansepur-flyash-project/bill2/"
      ],
      "execution_count": 3,
      "outputs": [
        {
          "output_type": "stream",
          "text": [
            "/content/kansepur-flyash-project/bill2\n"
          ],
          "name": "stdout"
        }
      ]
    },
    {
      "metadata": {
        "id": "B6lL48hFlOrB",
        "colab_type": "code",
        "outputId": "160247a9-b8e2-47c8-f8cc-8a9e03a3476b",
        "colab": {
          "base_uri": "https://localhost:8080/",
          "height": 34
        }
      },
      "cell_type": "code",
      "source": [
        "!ls"
      ],
      "execution_count": 4,
      "outputs": [
        {
          "output_type": "stream",
          "text": [
            " 31_12_bill2.ipynb  'kansepur bill2.xlsx'\n"
          ],
          "name": "stdout"
        }
      ]
    },
    {
      "metadata": {
        "id": "THAUXyC0lPYh",
        "colab_type": "code",
        "outputId": "afcfc1d5-0ce1-462d-d23a-0e95f09c0eeb",
        "colab": {
          "base_uri": "https://localhost:8080/",
          "height": 204
        }
      },
      "cell_type": "code",
      "source": [
        "df = pd.read_excel('kansepur bill2.xlsx', 'Sheet1')\n",
        "df.head()"
      ],
      "execution_count": 5,
      "outputs": [
        {
          "output_type": "execute_result",
          "data": {
            "text/html": [
              "<div>\n",
              "<style scoped>\n",
              "    .dataframe tbody tr th:only-of-type {\n",
              "        vertical-align: middle;\n",
              "    }\n",
              "\n",
              "    .dataframe tbody tr th {\n",
              "        vertical-align: top;\n",
              "    }\n",
              "\n",
              "    .dataframe thead th {\n",
              "        text-align: right;\n",
              "    }\n",
              "</style>\n",
              "<table border=\"1\" class=\"dataframe\">\n",
              "  <thead>\n",
              "    <tr style=\"text-align: right;\">\n",
              "      <th></th>\n",
              "      <th>Date</th>\n",
              "      <th>Name</th>\n",
              "      <th>Quantity</th>\n",
              "      <th>kaat</th>\n",
              "    </tr>\n",
              "  </thead>\n",
              "  <tbody>\n",
              "    <tr>\n",
              "      <th>0</th>\n",
              "      <td>2018-12-14</td>\n",
              "      <td>jabir</td>\n",
              "      <td>419</td>\n",
              "      <td>NaN</td>\n",
              "    </tr>\n",
              "    <tr>\n",
              "      <th>1</th>\n",
              "      <td>NaT</td>\n",
              "      <td>zakir</td>\n",
              "      <td>436</td>\n",
              "      <td>NaN</td>\n",
              "    </tr>\n",
              "    <tr>\n",
              "      <th>2</th>\n",
              "      <td>NaT</td>\n",
              "      <td>amjad</td>\n",
              "      <td>411</td>\n",
              "      <td>NaN</td>\n",
              "    </tr>\n",
              "    <tr>\n",
              "      <th>3</th>\n",
              "      <td>NaT</td>\n",
              "      <td>akram</td>\n",
              "      <td>400</td>\n",
              "      <td>NaN</td>\n",
              "    </tr>\n",
              "    <tr>\n",
              "      <th>4</th>\n",
              "      <td>NaT</td>\n",
              "      <td>safi</td>\n",
              "      <td>462</td>\n",
              "      <td>NaN</td>\n",
              "    </tr>\n",
              "  </tbody>\n",
              "</table>\n",
              "</div>"
            ],
            "text/plain": [
              "        Date   Name  Quantity  kaat\n",
              "0 2018-12-14  jabir       419   NaN\n",
              "1        NaT  zakir       436   NaN\n",
              "2        NaT  amjad       411   NaN\n",
              "3        NaT  akram       400   NaN\n",
              "4        NaT   safi       462   NaN"
            ]
          },
          "metadata": {
            "tags": []
          },
          "execution_count": 5
        }
      ]
    },
    {
      "metadata": {
        "id": "e1gUo92O-r5c",
        "colab_type": "code",
        "colab": {
          "base_uri": "https://localhost:8080/",
          "height": 111
        },
        "outputId": "dbb035b9-62ce-4988-9547-64c023268191"
      },
      "cell_type": "code",
      "source": [
        "df.tail(2)"
      ],
      "execution_count": 6,
      "outputs": [
        {
          "output_type": "execute_result",
          "data": {
            "text/html": [
              "<div>\n",
              "<style scoped>\n",
              "    .dataframe tbody tr th:only-of-type {\n",
              "        vertical-align: middle;\n",
              "    }\n",
              "\n",
              "    .dataframe tbody tr th {\n",
              "        vertical-align: top;\n",
              "    }\n",
              "\n",
              "    .dataframe thead th {\n",
              "        text-align: right;\n",
              "    }\n",
              "</style>\n",
              "<table border=\"1\" class=\"dataframe\">\n",
              "  <thead>\n",
              "    <tr style=\"text-align: right;\">\n",
              "      <th></th>\n",
              "      <th>Date</th>\n",
              "      <th>Name</th>\n",
              "      <th>Quantity</th>\n",
              "      <th>kaat</th>\n",
              "    </tr>\n",
              "  </thead>\n",
              "  <tbody>\n",
              "    <tr>\n",
              "      <th>489</th>\n",
              "      <td>NaT</td>\n",
              "      <td>hasan</td>\n",
              "      <td>538</td>\n",
              "      <td>NaN</td>\n",
              "    </tr>\n",
              "    <tr>\n",
              "      <th>490</th>\n",
              "      <td>NaT</td>\n",
              "      <td>NaN</td>\n",
              "      <td>214374</td>\n",
              "      <td>NaN</td>\n",
              "    </tr>\n",
              "  </tbody>\n",
              "</table>\n",
              "</div>"
            ],
            "text/plain": [
              "    Date   Name  Quantity  kaat\n",
              "489  NaT  hasan       538   NaN\n",
              "490  NaT    NaN    214374   NaN"
            ]
          },
          "metadata": {
            "tags": []
          },
          "execution_count": 6
        }
      ]
    },
    {
      "metadata": {
        "id": "oUmdiUIj-xel",
        "colab_type": "code",
        "colab": {
          "base_uri": "https://localhost:8080/",
          "height": 80
        },
        "outputId": "7493a5bb-1eb1-4984-c19e-880cce7ff27f"
      },
      "cell_type": "code",
      "source": [
        "df = df[:-1]\n",
        "df.tail(1)"
      ],
      "execution_count": 7,
      "outputs": [
        {
          "output_type": "execute_result",
          "data": {
            "text/html": [
              "<div>\n",
              "<style scoped>\n",
              "    .dataframe tbody tr th:only-of-type {\n",
              "        vertical-align: middle;\n",
              "    }\n",
              "\n",
              "    .dataframe tbody tr th {\n",
              "        vertical-align: top;\n",
              "    }\n",
              "\n",
              "    .dataframe thead th {\n",
              "        text-align: right;\n",
              "    }\n",
              "</style>\n",
              "<table border=\"1\" class=\"dataframe\">\n",
              "  <thead>\n",
              "    <tr style=\"text-align: right;\">\n",
              "      <th></th>\n",
              "      <th>Date</th>\n",
              "      <th>Name</th>\n",
              "      <th>Quantity</th>\n",
              "      <th>kaat</th>\n",
              "    </tr>\n",
              "  </thead>\n",
              "  <tbody>\n",
              "    <tr>\n",
              "      <th>489</th>\n",
              "      <td>NaT</td>\n",
              "      <td>hasan</td>\n",
              "      <td>538</td>\n",
              "      <td>NaN</td>\n",
              "    </tr>\n",
              "  </tbody>\n",
              "</table>\n",
              "</div>"
            ],
            "text/plain": [
              "    Date   Name  Quantity  kaat\n",
              "489  NaT  hasan       538   NaN"
            ]
          },
          "metadata": {
            "tags": []
          },
          "execution_count": 7
        }
      ]
    },
    {
      "metadata": {
        "id": "vYJmIHd8lWZY",
        "colab_type": "code",
        "outputId": "bf627196-83c1-4e44-b1df-86e19a063f13",
        "colab": {
          "base_uri": "https://localhost:8080/",
          "height": 170
        }
      },
      "cell_type": "code",
      "source": [
        "df.info()"
      ],
      "execution_count": 8,
      "outputs": [
        {
          "output_type": "stream",
          "text": [
            "<class 'pandas.core.frame.DataFrame'>\n",
            "RangeIndex: 490 entries, 0 to 489\n",
            "Data columns (total 4 columns):\n",
            "Date        15 non-null datetime64[ns]\n",
            "Name        490 non-null object\n",
            "Quantity    490 non-null int64\n",
            "kaat        38 non-null float64\n",
            "dtypes: datetime64[ns](1), float64(1), int64(1), object(1)\n",
            "memory usage: 15.4+ KB\n"
          ],
          "name": "stdout"
        }
      ]
    },
    {
      "metadata": {
        "id": "vZ9H0uvuAxf5",
        "colab_type": "code",
        "outputId": "632690d5-be95-43b2-de40-e82dc89ee0ce",
        "colab": {
          "base_uri": "https://localhost:8080/",
          "height": 289
        }
      },
      "cell_type": "code",
      "source": [
        "unique_dates = df.Date.unique()\n",
        "unique_dates = pd.Series(unique_dates).dropna()\n",
        "print(unique_dates)"
      ],
      "execution_count": 9,
      "outputs": [
        {
          "output_type": "stream",
          "text": [
            "0    2018-12-14\n",
            "2    2018-12-15\n",
            "3    2018-12-16\n",
            "4    2018-12-17\n",
            "5    2018-12-18\n",
            "6    2018-12-19\n",
            "7    2018-12-20\n",
            "8    2018-12-21\n",
            "9    2018-12-22\n",
            "10   2018-12-23\n",
            "11   2018-12-27\n",
            "12   2018-12-28\n",
            "13   2018-12-29\n",
            "14   2018-12-30\n",
            "15   2018-12-31\n",
            "dtype: datetime64[ns]\n"
          ],
          "name": "stdout"
        }
      ]
    },
    {
      "metadata": {
        "id": "yOdejLAFA7j1",
        "colab_type": "code",
        "outputId": "59c207ac-d19e-4b45-ab0d-49b149d53632",
        "colab": {
          "base_uri": "https://localhost:8080/",
          "height": 34
        }
      },
      "cell_type": "code",
      "source": [
        "df.Date.nunique()"
      ],
      "execution_count": 10,
      "outputs": [
        {
          "output_type": "execute_result",
          "data": {
            "text/plain": [
              "15"
            ]
          },
          "metadata": {
            "tags": []
          },
          "execution_count": 10
        }
      ]
    },
    {
      "metadata": {
        "id": "TTiF585xBBNC",
        "colab_type": "code",
        "outputId": "990d12e6-52ae-4fce-9086-4a0761336666",
        "colab": {
          "base_uri": "https://localhost:8080/",
          "height": 289
        }
      },
      "cell_type": "code",
      "source": [
        "df.Date.value_counts()"
      ],
      "execution_count": 11,
      "outputs": [
        {
          "output_type": "execute_result",
          "data": {
            "text/plain": [
              "2018-12-27    1\n",
              "2018-12-30    1\n",
              "2018-12-16    1\n",
              "2018-12-19    1\n",
              "2018-12-22    1\n",
              "2018-12-28    1\n",
              "2018-12-21    1\n",
              "2018-12-14    1\n",
              "2018-12-31    1\n",
              "2018-12-17    1\n",
              "2018-12-20    1\n",
              "2018-12-23    1\n",
              "2018-12-29    1\n",
              "2018-12-15    1\n",
              "2018-12-18    1\n",
              "Name: Date, dtype: int64"
            ]
          },
          "metadata": {
            "tags": []
          },
          "execution_count": 11
        }
      ]
    },
    {
      "metadata": {
        "id": "uXqNsOzRDDSf",
        "colab_type": "code",
        "colab": {}
      },
      "cell_type": "code",
      "source": [
        "import numpy as np"
      ],
      "execution_count": 0,
      "outputs": []
    },
    {
      "metadata": {
        "id": "BKMk-7t1Dq2J",
        "colab_type": "text"
      },
      "cell_type": "markdown",
      "source": [
        "### Fill Date"
      ]
    },
    {
      "metadata": {
        "id": "6Ze_xV9TAFkT",
        "colab_type": "code",
        "colab": {}
      },
      "cell_type": "code",
      "source": [
        "for n, i in enumerate(df.Date.values):\n",
        "  if not pd.isnull(i):\n",
        "    date = i\n",
        "  else:\n",
        "    df.iloc[n, 0] = date\n",
        "  "
      ],
      "execution_count": 0,
      "outputs": []
    },
    {
      "metadata": {
        "id": "fHoGR8F5DhjA",
        "colab_type": "code",
        "colab": {
          "base_uri": "https://localhost:8080/",
          "height": 111
        },
        "outputId": "16751553-64a5-41da-c8b1-5e69ff680593"
      },
      "cell_type": "code",
      "source": [
        "df.head(2)"
      ],
      "execution_count": 14,
      "outputs": [
        {
          "output_type": "execute_result",
          "data": {
            "text/html": [
              "<div>\n",
              "<style scoped>\n",
              "    .dataframe tbody tr th:only-of-type {\n",
              "        vertical-align: middle;\n",
              "    }\n",
              "\n",
              "    .dataframe tbody tr th {\n",
              "        vertical-align: top;\n",
              "    }\n",
              "\n",
              "    .dataframe thead th {\n",
              "        text-align: right;\n",
              "    }\n",
              "</style>\n",
              "<table border=\"1\" class=\"dataframe\">\n",
              "  <thead>\n",
              "    <tr style=\"text-align: right;\">\n",
              "      <th></th>\n",
              "      <th>Date</th>\n",
              "      <th>Name</th>\n",
              "      <th>Quantity</th>\n",
              "      <th>kaat</th>\n",
              "    </tr>\n",
              "  </thead>\n",
              "  <tbody>\n",
              "    <tr>\n",
              "      <th>0</th>\n",
              "      <td>2018-12-14</td>\n",
              "      <td>jabir</td>\n",
              "      <td>419</td>\n",
              "      <td>NaN</td>\n",
              "    </tr>\n",
              "    <tr>\n",
              "      <th>1</th>\n",
              "      <td>2018-12-14</td>\n",
              "      <td>zakir</td>\n",
              "      <td>436</td>\n",
              "      <td>NaN</td>\n",
              "    </tr>\n",
              "  </tbody>\n",
              "</table>\n",
              "</div>"
            ],
            "text/plain": [
              "        Date   Name  Quantity  kaat\n",
              "0 2018-12-14  jabir       419   NaN\n",
              "1 2018-12-14  zakir       436   NaN"
            ]
          },
          "metadata": {
            "tags": []
          },
          "execution_count": 14
        }
      ]
    },
    {
      "metadata": {
        "id": "jsPDiLK9mCMB",
        "colab_type": "code",
        "outputId": "fdb268c2-8ba4-4250-f8b4-025474755171",
        "colab": {
          "base_uri": "https://localhost:8080/",
          "height": 85
        }
      },
      "cell_type": "code",
      "source": [
        "df.Name.unique()"
      ],
      "execution_count": 15,
      "outputs": [
        {
          "output_type": "execute_result",
          "data": {
            "text/plain": [
              "array(['jabir', 'zakir', 'amjad', 'akram', 'safi', 'farookh', 'gulfam',\n",
              "       'aarif', 'toheed', 'intazar', 'hasan', 'wazid', 'sehzad',\n",
              "       'rafakat', 'rasid', 'shabir', 'aashu', 'mustakim', 'kayum',\n",
              "       'shokeen'], dtype=object)"
            ]
          },
          "metadata": {
            "tags": []
          },
          "execution_count": 15
        }
      ]
    },
    {
      "metadata": {
        "id": "cJArT99yo39E",
        "colab_type": "code",
        "outputId": "d3972bb5-88e6-4efa-bb6e-3602938d5df4",
        "colab": {
          "base_uri": "https://localhost:8080/",
          "height": 34
        }
      },
      "cell_type": "code",
      "source": [
        "sum(df.Quantity)"
      ],
      "execution_count": 16,
      "outputs": [
        {
          "output_type": "execute_result",
          "data": {
            "text/plain": [
              "214374"
            ]
          },
          "metadata": {
            "tags": []
          },
          "execution_count": 16
        }
      ]
    },
    {
      "metadata": {
        "id": "KDfUKDebnJUR",
        "colab_type": "code",
        "outputId": "e44edfc0-3584-4592-f638-687c07f7c969",
        "colab": {
          "base_uri": "https://localhost:8080/",
          "height": 374
        }
      },
      "cell_type": "code",
      "source": [
        "df.Name.value_counts()"
      ],
      "execution_count": 17,
      "outputs": [
        {
          "output_type": "execute_result",
          "data": {
            "text/plain": [
              "jabir       38\n",
              "wazid       35\n",
              "toheed      34\n",
              "hasan       34\n",
              "aarif       32\n",
              "safi        29\n",
              "farookh     27\n",
              "amjad       27\n",
              "intazar     27\n",
              "gulfam      26\n",
              "akram       24\n",
              "rafakat     24\n",
              "sehzad      23\n",
              "rasid       21\n",
              "mustakim    20\n",
              "shabir      19\n",
              "zakir       19\n",
              "shokeen     11\n",
              "aashu       11\n",
              "kayum        9\n",
              "Name: Name, dtype: int64"
            ]
          },
          "metadata": {
            "tags": []
          },
          "execution_count": 17
        }
      ]
    },
    {
      "metadata": {
        "id": "LiyQphzHEraa",
        "colab_type": "text"
      },
      "cell_type": "markdown",
      "source": [
        "### Counts per Date"
      ]
    },
    {
      "metadata": {
        "id": "Nd9PsJd_Gl6I",
        "colab_type": "code",
        "colab": {
          "base_uri": "https://localhost:8080/",
          "height": 34
        },
        "outputId": "b9c8e45f-c994-4cbe-a27f-22b08b9ced59"
      },
      "cell_type": "code",
      "source": [
        "print(df.Date[0].date())"
      ],
      "execution_count": 18,
      "outputs": [
        {
          "output_type": "stream",
          "text": [
            "2018-12-14\n"
          ],
          "name": "stdout"
        }
      ]
    },
    {
      "metadata": {
        "id": "HXs8LKveEvkU",
        "colab_type": "code",
        "colab": {
          "base_uri": "https://localhost:8080/",
          "height": 814
        },
        "outputId": "1eb643a1-d748-4f72-e89e-fb1e0c47e9c9"
      },
      "cell_type": "code",
      "source": [
        "import seaborn as sns\n",
        "import numpy as np\n",
        "import matplotlib.pyplot as plt\n",
        "%matplotlib inline\n",
        "sns.set_context('poster')\n",
        "sns.countplot(df.Date)\n",
        "plt.xticks(rotation = 90)\n",
        "plt.show()"
      ],
      "execution_count": 19,
      "outputs": [
        {
          "output_type": "stream",
          "text": [
            "/usr/local/lib/python3.6/dist-packages/seaborn/categorical.py:1428: FutureWarning: remove_na is deprecated and is a private function. Do not use.\n",
            "  stat_data = remove_na(group_data)\n"
          ],
          "name": "stderr"
        },
        {
          "output_type": "display_data",
          "data": {
            "image/png": "[encoded data removed]",
            "text/plain": [
              "<matplotlib.figure.Figure at 0x7ffa80e71ba8>"
            ]
          },
          "metadata": {
            "tags": []
          }
        }
      ]
    },
    {
      "metadata": {
        "id": "bfNp_BNaIxFr",
        "colab_type": "code",
        "colab": {
          "base_uri": "https://localhost:8080/",
          "height": 102
        },
        "outputId": "5b192902-ab36-4e0c-899a-50dce0cfd9b9"
      },
      "cell_type": "code",
      "source": [
        "df.isnull().sum()"
      ],
      "execution_count": 20,
      "outputs": [
        {
          "output_type": "execute_result",
          "data": {
            "text/plain": [
              "Date          0\n",
              "Name          0\n",
              "Quantity      0\n",
              "kaat        452\n",
              "dtype: int64"
            ]
          },
          "metadata": {
            "tags": []
          },
          "execution_count": 20
        }
      ]
    },
    {
      "metadata": {
        "id": "YUlIG0NVI2ZL",
        "colab_type": "code",
        "colab": {
          "base_uri": "https://localhost:8080/",
          "height": 289
        },
        "outputId": "8f8fdd9a-494d-4b9f-fa45-8e227df1f228"
      },
      "cell_type": "code",
      "source": [
        "df.Date.value_counts(sort = False)"
      ],
      "execution_count": 21,
      "outputs": [
        {
          "output_type": "execute_result",
          "data": {
            "text/plain": [
              "2018-12-21    20\n",
              "2018-12-18    37\n",
              "2018-12-15    40\n",
              "2018-12-29    28\n",
              "2018-12-23    16\n",
              "2018-12-20    45\n",
              "2018-12-17    40\n",
              "2018-12-31    35\n",
              "2018-12-14    38\n",
              "2018-12-28    27\n",
              "2018-12-22    43\n",
              "2018-12-19    38\n",
              "2018-12-16    47\n",
              "2018-12-30    31\n",
              "2018-12-27     5\n",
              "Name: Date, dtype: int64"
            ]
          },
          "metadata": {
            "tags": []
          },
          "execution_count": 21
        }
      ]
    },
    {
      "metadata": {
        "id": "vegaPxckns74",
        "colab_type": "text"
      },
      "cell_type": "markdown",
      "source": [
        "## unique feets per name"
      ]
    },
    {
      "metadata": {
        "id": "-ITvOwaBwJ1t",
        "colab_type": "code",
        "outputId": "758463b1-1439-474d-9cf0-98598f987290",
        "colab": {
          "base_uri": "https://localhost:8080/",
          "height": 34
        }
      },
      "cell_type": "code",
      "source": [
        "group = df.groupby(df.Name)\n",
        "group"
      ],
      "execution_count": 22,
      "outputs": [
        {
          "output_type": "execute_result",
          "data": {
            "text/plain": [
              "<pandas.core.groupby.DataFrameGroupBy object at 0x7ffa80aa1cc0>"
            ]
          },
          "metadata": {
            "tags": []
          },
          "execution_count": 22
        }
      ]
    },
    {
      "metadata": {
        "id": "ndW_Qg-IwSkJ",
        "colab_type": "code",
        "outputId": "42b18f82-16fb-4dbd-806e-1e86f594a36b",
        "colab": {
          "base_uri": "https://localhost:8080/",
          "height": 697
        }
      },
      "cell_type": "code",
      "source": [
        "for i, j in group:\n",
        "  print(i, j.Quantity.unique(), '\\n')"
      ],
      "execution_count": 23,
      "outputs": [
        {
          "output_type": "stream",
          "text": [
            "aarif [416 386] \n",
            "\n",
            "aashu [400 410 430 450] \n",
            "\n",
            "akram [400 370 380 390] \n",
            "\n",
            "amjad [411 381 401] \n",
            "\n",
            "farookh [409 379 399 420] \n",
            "\n",
            "gulfam [500 470 490 480 450] \n",
            "\n",
            "hasan [360 330 538 488] \n",
            "\n",
            "intazar [425 395 517] \n",
            "\n",
            "jabir [419 389 409] \n",
            "\n",
            "kayum [450] \n",
            "\n",
            "mustakim [405] \n",
            "\n",
            "rafakat [538 508 528 518] \n",
            "\n",
            "rasid [380 538] \n",
            "\n",
            "safi [462 432 452 412] \n",
            "\n",
            "sehzad [401 371 391 386] \n",
            "\n",
            "shabir [470] \n",
            "\n",
            "shokeen [453] \n",
            "\n",
            "toheed [486 456 476] \n",
            "\n",
            "wazid [399 419 389 409] \n",
            "\n",
            "zakir [436 406 426] \n",
            "\n"
          ],
          "name": "stdout"
        }
      ]
    },
    {
      "metadata": {
        "id": "0y2uPtUlJ6jo",
        "colab_type": "text"
      },
      "cell_type": "markdown",
      "source": [
        "# Diesel"
      ]
    },
    {
      "metadata": {
        "id": "O5znZR4bJ8Ri",
        "colab_type": "code",
        "colab": {
          "base_uri": "https://localhost:8080/",
          "height": 258
        },
        "outputId": "2eb6a18f-7496-48ae-b66f-e11fb425c24a"
      },
      "cell_type": "code",
      "source": [
        "diesel = pd.read_excel('kansepur bill2.xlsx', 'Sheet2')\n",
        "diesel.head()"
      ],
      "execution_count": 78,
      "outputs": [
        {
          "output_type": "execute_result",
          "data": {
            "text/html": [
              "<div>\n",
              "<style scoped>\n",
              "    .dataframe tbody tr th:only-of-type {\n",
              "        vertical-align: middle;\n",
              "    }\n",
              "\n",
              "    .dataframe tbody tr th {\n",
              "        vertical-align: top;\n",
              "    }\n",
              "\n",
              "    .dataframe thead th {\n",
              "        text-align: right;\n",
              "    }\n",
              "</style>\n",
              "<table border=\"1\" class=\"dataframe\">\n",
              "  <thead>\n",
              "    <tr style=\"text-align: right;\">\n",
              "      <th></th>\n",
              "      <th>Name</th>\n",
              "      <th>2019-12-14 00:00:00</th>\n",
              "      <th>2019-12-15 00:00:00</th>\n",
              "      <th>2019-12-16 00:00:00</th>\n",
              "      <th>2019-12-17 00:00:00</th>\n",
              "      <th>2019-12-18 00:00:00</th>\n",
              "      <th>2019-12-19 00:00:00</th>\n",
              "      <th>2019-12-20 00:00:00</th>\n",
              "      <th>2019-12-21 00:00:00</th>\n",
              "      <th>2019-12-22 00:00:00</th>\n",
              "      <th>2019-12-23 00:00:00</th>\n",
              "      <th>2019-12-27 00:00:00</th>\n",
              "      <th>2019-12-28 00:00:00</th>\n",
              "      <th>2019-12-29 00:00:00</th>\n",
              "      <th>2019-12-30 00:00:00</th>\n",
              "      <th>2019-12-31 00:00:00</th>\n",
              "      <th>Total</th>\n",
              "    </tr>\n",
              "  </thead>\n",
              "  <tbody>\n",
              "    <tr>\n",
              "      <th>0</th>\n",
              "      <td>aarif</td>\n",
              "      <td>1500</td>\n",
              "      <td>1500</td>\n",
              "      <td>2000</td>\n",
              "      <td>0</td>\n",
              "      <td>2000</td>\n",
              "      <td>1000</td>\n",
              "      <td>1000</td>\n",
              "      <td>0</td>\n",
              "      <td>2000</td>\n",
              "      <td>0</td>\n",
              "      <td>0</td>\n",
              "      <td>1500</td>\n",
              "      <td>2000</td>\n",
              "      <td>2000</td>\n",
              "      <td>2000</td>\n",
              "      <td>18500.0</td>\n",
              "    </tr>\n",
              "    <tr>\n",
              "      <th>1</th>\n",
              "      <td>aashu</td>\n",
              "      <td>0</td>\n",
              "      <td>0</td>\n",
              "      <td>0</td>\n",
              "      <td>0</td>\n",
              "      <td>0</td>\n",
              "      <td>2000</td>\n",
              "      <td>2000</td>\n",
              "      <td>2000</td>\n",
              "      <td>0</td>\n",
              "      <td>1000</td>\n",
              "      <td>0</td>\n",
              "      <td>0</td>\n",
              "      <td>0</td>\n",
              "      <td>2000</td>\n",
              "      <td>0</td>\n",
              "      <td>9000.0</td>\n",
              "    </tr>\n",
              "    <tr>\n",
              "      <th>2</th>\n",
              "      <td>akram</td>\n",
              "      <td>2500</td>\n",
              "      <td>2000</td>\n",
              "      <td>2000</td>\n",
              "      <td>2000</td>\n",
              "      <td>0</td>\n",
              "      <td>1500</td>\n",
              "      <td>1500</td>\n",
              "      <td>0</td>\n",
              "      <td>1500</td>\n",
              "      <td>0</td>\n",
              "      <td>0</td>\n",
              "      <td>0</td>\n",
              "      <td>0</td>\n",
              "      <td>0</td>\n",
              "      <td>0</td>\n",
              "      <td>NaN</td>\n",
              "    </tr>\n",
              "    <tr>\n",
              "      <th>3</th>\n",
              "      <td>amjad</td>\n",
              "      <td>2250</td>\n",
              "      <td>2000</td>\n",
              "      <td>2000</td>\n",
              "      <td>2000</td>\n",
              "      <td>1400</td>\n",
              "      <td>0</td>\n",
              "      <td>0</td>\n",
              "      <td>2000</td>\n",
              "      <td>2000</td>\n",
              "      <td>0</td>\n",
              "      <td>0</td>\n",
              "      <td>0</td>\n",
              "      <td>0</td>\n",
              "      <td>0</td>\n",
              "      <td>0</td>\n",
              "      <td>13650.0</td>\n",
              "    </tr>\n",
              "    <tr>\n",
              "      <th>4</th>\n",
              "      <td>farookh</td>\n",
              "      <td>2000</td>\n",
              "      <td>2000</td>\n",
              "      <td>2000</td>\n",
              "      <td>0</td>\n",
              "      <td>0</td>\n",
              "      <td>0</td>\n",
              "      <td>0</td>\n",
              "      <td>2020</td>\n",
              "      <td>0</td>\n",
              "      <td>0</td>\n",
              "      <td>2000</td>\n",
              "      <td>2000</td>\n",
              "      <td>2000</td>\n",
              "      <td>2000</td>\n",
              "      <td>0</td>\n",
              "      <td>16020.0</td>\n",
              "    </tr>\n",
              "  </tbody>\n",
              "</table>\n",
              "</div>"
            ],
            "text/plain": [
              "      Name  2019-12-14 00:00:00  2019-12-15 00:00:00  2019-12-16 00:00:00  \\\n",
              "0    aarif                 1500                 1500                 2000   \n",
              "1    aashu                    0                    0                    0   \n",
              "2    akram                 2500                 2000                 2000   \n",
              "3    amjad                 2250                 2000                 2000   \n",
              "4  farookh                 2000                 2000                 2000   \n",
              "\n",
              "   2019-12-17 00:00:00  2019-12-18 00:00:00  2019-12-19 00:00:00  \\\n",
              "0                    0                 2000                 1000   \n",
              "1                    0                    0                 2000   \n",
              "2                 2000                    0                 1500   \n",
              "3                 2000                 1400                    0   \n",
              "4                    0                    0                    0   \n",
              "\n",
              "   2019-12-20 00:00:00  2019-12-21 00:00:00  2019-12-22 00:00:00  \\\n",
              "0                 1000                    0                 2000   \n",
              "1                 2000                 2000                    0   \n",
              "2                 1500                    0                 1500   \n",
              "3                    0                 2000                 2000   \n",
              "4                    0                 2020                    0   \n",
              "\n",
              "   2019-12-23 00:00:00  2019-12-27 00:00:00  2019-12-28 00:00:00  \\\n",
              "0                    0                    0                 1500   \n",
              "1                 1000                    0                    0   \n",
              "2                    0                    0                    0   \n",
              "3                    0                    0                    0   \n",
              "4                    0                 2000                 2000   \n",
              "\n",
              "   2019-12-29 00:00:00  2019-12-30 00:00:00  2019-12-31 00:00:00    Total  \n",
              "0                 2000                 2000                 2000  18500.0  \n",
              "1                    0                 2000                    0   9000.0  \n",
              "2                    0                    0                    0      NaN  \n",
              "3                    0                    0                    0  13650.0  \n",
              "4                 2000                 2000                    0  16020.0  "
            ]
          },
          "metadata": {
            "tags": []
          },
          "execution_count": 78
        }
      ]
    },
    {
      "metadata": {
        "id": "aNms0DItMFZ8",
        "colab_type": "code",
        "colab": {}
      },
      "cell_type": "code",
      "source": [
        ""
      ],
      "execution_count": 0,
      "outputs": []
    },
    {
      "metadata": {
        "id": "hISVmorfLybA",
        "colab_type": "code",
        "colab": {
          "base_uri": "https://localhost:8080/",
          "height": 111
        },
        "outputId": "11c9dbbb-c612-43cf-a774-1b33f11db6f8"
      },
      "cell_type": "code",
      "source": [
        "df.head(2)"
      ],
      "execution_count": 27,
      "outputs": [
        {
          "output_type": "execute_result",
          "data": {
            "text/html": [
              "<div>\n",
              "<style scoped>\n",
              "    .dataframe tbody tr th:only-of-type {\n",
              "        vertical-align: middle;\n",
              "    }\n",
              "\n",
              "    .dataframe tbody tr th {\n",
              "        vertical-align: top;\n",
              "    }\n",
              "\n",
              "    .dataframe thead th {\n",
              "        text-align: right;\n",
              "    }\n",
              "</style>\n",
              "<table border=\"1\" class=\"dataframe\">\n",
              "  <thead>\n",
              "    <tr style=\"text-align: right;\">\n",
              "      <th></th>\n",
              "      <th>Date</th>\n",
              "      <th>Name</th>\n",
              "      <th>Quantity</th>\n",
              "      <th>kaat</th>\n",
              "    </tr>\n",
              "  </thead>\n",
              "  <tbody>\n",
              "    <tr>\n",
              "      <th>0</th>\n",
              "      <td>2018-12-14</td>\n",
              "      <td>jabir</td>\n",
              "      <td>419</td>\n",
              "      <td>NaN</td>\n",
              "    </tr>\n",
              "    <tr>\n",
              "      <th>1</th>\n",
              "      <td>2018-12-14</td>\n",
              "      <td>zakir</td>\n",
              "      <td>436</td>\n",
              "      <td>NaN</td>\n",
              "    </tr>\n",
              "  </tbody>\n",
              "</table>\n",
              "</div>"
            ],
            "text/plain": [
              "        Date   Name  Quantity  kaat\n",
              "0 2018-12-14  jabir       419   NaN\n",
              "1 2018-12-14  zakir       436   NaN"
            ]
          },
          "metadata": {
            "tags": []
          },
          "execution_count": 27
        }
      ]
    },
    {
      "metadata": {
        "id": "jsQ52FyRCZz9",
        "colab_type": "text"
      },
      "cell_type": "markdown",
      "source": [
        "# Total Quantity per name"
      ]
    },
    {
      "metadata": {
        "id": "aAtFy8oyD3dM",
        "colab_type": "code",
        "colab": {}
      },
      "cell_type": "code",
      "source": [
        "name_groups = df.groupby('Name')\n",
        "name_total_quantity = pd.DataFrame(columns = ['Name', 'Total Quantity'])\n",
        "for i, j in name_groups:\n",
        "  name_total_quantity = name_total_quantity.append({'Name':i, 'Total Quantity': sum(j.Quantity)}, ignore_index = True)\n",
        "  \n",
        "name_total_quantity.sort_values(by = ['Total Quantity'], ascending = False, inplace = True)"
      ],
      "execution_count": 0,
      "outputs": []
    },
    {
      "metadata": {
        "id": "4VCgjQr2INk1",
        "colab_type": "code",
        "colab": {
          "base_uri": "https://localhost:8080/",
          "height": 669
        },
        "outputId": "ee0ec91c-1479-419d-9aaa-1a126a81c170"
      },
      "cell_type": "code",
      "source": [
        "name_total_quantity"
      ],
      "execution_count": 61,
      "outputs": [
        {
          "output_type": "execute_result",
          "data": {
            "text/html": [
              "<div>\n",
              "<style scoped>\n",
              "    .dataframe tbody tr th:only-of-type {\n",
              "        vertical-align: middle;\n",
              "    }\n",
              "\n",
              "    .dataframe tbody tr th {\n",
              "        vertical-align: top;\n",
              "    }\n",
              "\n",
              "    .dataframe thead th {\n",
              "        text-align: right;\n",
              "    }\n",
              "</style>\n",
              "<table border=\"1\" class=\"dataframe\">\n",
              "  <thead>\n",
              "    <tr style=\"text-align: right;\">\n",
              "      <th></th>\n",
              "      <th>Name</th>\n",
              "      <th>Total Quantity</th>\n",
              "    </tr>\n",
              "  </thead>\n",
              "  <tbody>\n",
              "    <tr>\n",
              "      <th>17</th>\n",
              "      <td>toheed</td>\n",
              "      <td>16444</td>\n",
              "    </tr>\n",
              "    <tr>\n",
              "      <th>8</th>\n",
              "      <td>jabir</td>\n",
              "      <td>15882</td>\n",
              "    </tr>\n",
              "    <tr>\n",
              "      <th>18</th>\n",
              "      <td>wazid</td>\n",
              "      <td>14525</td>\n",
              "    </tr>\n",
              "    <tr>\n",
              "      <th>6</th>\n",
              "      <td>hasan</td>\n",
              "      <td>14296</td>\n",
              "    </tr>\n",
              "    <tr>\n",
              "      <th>0</th>\n",
              "      <td>aarif</td>\n",
              "      <td>13282</td>\n",
              "    </tr>\n",
              "    <tr>\n",
              "      <th>13</th>\n",
              "      <td>safi</td>\n",
              "      <td>13258</td>\n",
              "    </tr>\n",
              "    <tr>\n",
              "      <th>7</th>\n",
              "      <td>intazar</td>\n",
              "      <td>13009</td>\n",
              "    </tr>\n",
              "    <tr>\n",
              "      <th>5</th>\n",
              "      <td>gulfam</td>\n",
              "      <td>12870</td>\n",
              "    </tr>\n",
              "    <tr>\n",
              "      <th>11</th>\n",
              "      <td>rafakat</td>\n",
              "      <td>12852</td>\n",
              "    </tr>\n",
              "    <tr>\n",
              "      <th>4</th>\n",
              "      <td>farookh</td>\n",
              "      <td>11146</td>\n",
              "    </tr>\n",
              "    <tr>\n",
              "      <th>3</th>\n",
              "      <td>amjad</td>\n",
              "      <td>11057</td>\n",
              "    </tr>\n",
              "    <tr>\n",
              "      <th>2</th>\n",
              "      <td>akram</td>\n",
              "      <td>9520</td>\n",
              "    </tr>\n",
              "    <tr>\n",
              "      <th>14</th>\n",
              "      <td>sehzad</td>\n",
              "      <td>9168</td>\n",
              "    </tr>\n",
              "    <tr>\n",
              "      <th>15</th>\n",
              "      <td>shabir</td>\n",
              "      <td>8930</td>\n",
              "    </tr>\n",
              "    <tr>\n",
              "      <th>19</th>\n",
              "      <td>zakir</td>\n",
              "      <td>8244</td>\n",
              "    </tr>\n",
              "    <tr>\n",
              "      <th>12</th>\n",
              "      <td>rasid</td>\n",
              "      <td>8138</td>\n",
              "    </tr>\n",
              "    <tr>\n",
              "      <th>10</th>\n",
              "      <td>mustakim</td>\n",
              "      <td>8100</td>\n",
              "    </tr>\n",
              "    <tr>\n",
              "      <th>16</th>\n",
              "      <td>shokeen</td>\n",
              "      <td>4983</td>\n",
              "    </tr>\n",
              "    <tr>\n",
              "      <th>1</th>\n",
              "      <td>aashu</td>\n",
              "      <td>4620</td>\n",
              "    </tr>\n",
              "    <tr>\n",
              "      <th>9</th>\n",
              "      <td>kayum</td>\n",
              "      <td>4050</td>\n",
              "    </tr>\n",
              "  </tbody>\n",
              "</table>\n",
              "</div>"
            ],
            "text/plain": [
              "        Name Total Quantity\n",
              "17    toheed          16444\n",
              "8      jabir          15882\n",
              "18     wazid          14525\n",
              "6      hasan          14296\n",
              "0      aarif          13282\n",
              "13      safi          13258\n",
              "7    intazar          13009\n",
              "5     gulfam          12870\n",
              "11   rafakat          12852\n",
              "4    farookh          11146\n",
              "3      amjad          11057\n",
              "2      akram           9520\n",
              "14    sehzad           9168\n",
              "15    shabir           8930\n",
              "19     zakir           8244\n",
              "12     rasid           8138\n",
              "10  mustakim           8100\n",
              "16   shokeen           4983\n",
              "1      aashu           4620\n",
              "9      kayum           4050"
            ]
          },
          "metadata": {
            "tags": []
          },
          "execution_count": 61
        }
      ]
    },
    {
      "metadata": {
        "id": "INqOC5E_EZTz",
        "colab_type": "code",
        "colab": {
          "base_uri": "https://localhost:8080/",
          "height": 134
        },
        "outputId": "2089b735-03f5-47c0-fe4f-f67973d48665"
      },
      "cell_type": "code",
      "source": [
        "diesel.head(1)"
      ],
      "execution_count": 39,
      "outputs": [
        {
          "output_type": "execute_result",
          "data": {
            "text/html": [
              "<div>\n",
              "<style scoped>\n",
              "    .dataframe tbody tr th:only-of-type {\n",
              "        vertical-align: middle;\n",
              "    }\n",
              "\n",
              "    .dataframe tbody tr th {\n",
              "        vertical-align: top;\n",
              "    }\n",
              "\n",
              "    .dataframe thead th {\n",
              "        text-align: right;\n",
              "    }\n",
              "</style>\n",
              "<table border=\"1\" class=\"dataframe\">\n",
              "  <thead>\n",
              "    <tr style=\"text-align: right;\">\n",
              "      <th></th>\n",
              "      <th>Name</th>\n",
              "      <th>2019-12-14 00:00:00</th>\n",
              "      <th>2019-12-15 00:00:00</th>\n",
              "      <th>2019-12-16 00:00:00</th>\n",
              "      <th>2019-12-17 00:00:00</th>\n",
              "      <th>2019-12-18 00:00:00</th>\n",
              "      <th>2019-12-19 00:00:00</th>\n",
              "      <th>2019-12-20 00:00:00</th>\n",
              "      <th>2019-12-21 00:00:00</th>\n",
              "      <th>2019-12-22 00:00:00</th>\n",
              "      <th>2019-12-23 00:00:00</th>\n",
              "      <th>2019-12-27 00:00:00</th>\n",
              "      <th>2019-12-28 00:00:00</th>\n",
              "      <th>2019-12-29 00:00:00</th>\n",
              "      <th>2019-12-30 00:00:00</th>\n",
              "      <th>2019-12-31 00:00:00</th>\n",
              "      <th>Total</th>\n",
              "    </tr>\n",
              "  </thead>\n",
              "  <tbody>\n",
              "    <tr>\n",
              "      <th>0</th>\n",
              "      <td>aarif</td>\n",
              "      <td>1500</td>\n",
              "      <td>1500</td>\n",
              "      <td>2000</td>\n",
              "      <td>0</td>\n",
              "      <td>2000</td>\n",
              "      <td>1000</td>\n",
              "      <td>1000</td>\n",
              "      <td>0</td>\n",
              "      <td>2000</td>\n",
              "      <td>0</td>\n",
              "      <td>0</td>\n",
              "      <td>1500</td>\n",
              "      <td>2000</td>\n",
              "      <td>2000</td>\n",
              "      <td>2000</td>\n",
              "      <td>18500.0</td>\n",
              "    </tr>\n",
              "  </tbody>\n",
              "</table>\n",
              "</div>"
            ],
            "text/plain": [
              "    Name  2019-12-14 00:00:00  2019-12-15 00:00:00  2019-12-16 00:00:00  \\\n",
              "0  aarif                 1500                 1500                 2000   \n",
              "\n",
              "   2019-12-17 00:00:00  2019-12-18 00:00:00  2019-12-19 00:00:00  \\\n",
              "0                    0                 2000                 1000   \n",
              "\n",
              "   2019-12-20 00:00:00  2019-12-21 00:00:00  2019-12-22 00:00:00  \\\n",
              "0                 1000                    0                 2000   \n",
              "\n",
              "   2019-12-23 00:00:00  2019-12-27 00:00:00  2019-12-28 00:00:00  \\\n",
              "0                    0                    0                 1500   \n",
              "\n",
              "   2019-12-29 00:00:00  2019-12-30 00:00:00  2019-12-31 00:00:00    Total  \n",
              "0                 2000                 2000                 2000  18500.0  "
            ]
          },
          "metadata": {
            "tags": []
          },
          "execution_count": 39
        }
      ]
    },
    {
      "metadata": {
        "id": "IKei-78JFgBM",
        "colab_type": "code",
        "colab": {
          "base_uri": "https://localhost:8080/",
          "height": 102
        },
        "outputId": "fa4ac900-fe56-44e4-d41b-cf5aa214e9e6"
      },
      "cell_type": "code",
      "source": [
        "for i in range(len(diesel)):\n",
        "  diesel.Total[i] = sum(diesel.iloc[i, 1:-1])"
      ],
      "execution_count": 79,
      "outputs": [
        {
          "output_type": "stream",
          "text": [
            "/usr/local/lib/python3.6/dist-packages/ipykernel_launcher.py:2: SettingWithCopyWarning: \n",
            "A value is trying to be set on a copy of a slice from a DataFrame\n",
            "\n",
            "See the caveats in the documentation: http://pandas.pydata.org/pandas-docs/stable/indexing.html#indexing-view-versus-copy\n",
            "  \n"
          ],
          "name": "stderr"
        }
      ]
    },
    {
      "metadata": {
        "id": "2yjavOQTNghu",
        "colab_type": "code",
        "colab": {
          "base_uri": "https://localhost:8080/",
          "height": 793
        },
        "outputId": "e06fbb91-37dd-4c3d-9276-0934aa3609aa"
      },
      "cell_type": "code",
      "source": [
        "diesel = diesel[['Name', 'Total']]\n",
        "diesel.sort_values(by = 'Total', ascending = False, inplace = True)\n",
        "diesel"
      ],
      "execution_count": 81,
      "outputs": [
        {
          "output_type": "execute_result",
          "data": {
            "text/html": [
              "<div>\n",
              "<style scoped>\n",
              "    .dataframe tbody tr th:only-of-type {\n",
              "        vertical-align: middle;\n",
              "    }\n",
              "\n",
              "    .dataframe tbody tr th {\n",
              "        vertical-align: top;\n",
              "    }\n",
              "\n",
              "    .dataframe thead th {\n",
              "        text-align: right;\n",
              "    }\n",
              "</style>\n",
              "<table border=\"1\" class=\"dataframe\">\n",
              "  <thead>\n",
              "    <tr style=\"text-align: right;\">\n",
              "      <th></th>\n",
              "      <th>Name</th>\n",
              "      <th>Total</th>\n",
              "    </tr>\n",
              "  </thead>\n",
              "  <tbody>\n",
              "    <tr>\n",
              "      <th>23</th>\n",
              "      <td>Zztotal</td>\n",
              "      <td>360180.0</td>\n",
              "    </tr>\n",
              "    <tr>\n",
              "      <th>11</th>\n",
              "      <td>poclain</td>\n",
              "      <td>56000.0</td>\n",
              "    </tr>\n",
              "    <tr>\n",
              "      <th>19</th>\n",
              "      <td>toheed</td>\n",
              "      <td>23294.0</td>\n",
              "    </tr>\n",
              "    <tr>\n",
              "      <th>20</th>\n",
              "      <td>wajid</td>\n",
              "      <td>21500.0</td>\n",
              "    </tr>\n",
              "    <tr>\n",
              "      <th>5</th>\n",
              "      <td>gulfam</td>\n",
              "      <td>21500.0</td>\n",
              "    </tr>\n",
              "    <tr>\n",
              "      <th>6</th>\n",
              "      <td>hasan</td>\n",
              "      <td>20500.0</td>\n",
              "    </tr>\n",
              "    <tr>\n",
              "      <th>7</th>\n",
              "      <td>intazar</td>\n",
              "      <td>18870.0</td>\n",
              "    </tr>\n",
              "    <tr>\n",
              "      <th>0</th>\n",
              "      <td>aarif</td>\n",
              "      <td>18500.0</td>\n",
              "    </tr>\n",
              "    <tr>\n",
              "      <th>15</th>\n",
              "      <td>safi</td>\n",
              "      <td>18300.0</td>\n",
              "    </tr>\n",
              "    <tr>\n",
              "      <th>12</th>\n",
              "      <td>rafakat</td>\n",
              "      <td>16500.0</td>\n",
              "    </tr>\n",
              "    <tr>\n",
              "      <th>4</th>\n",
              "      <td>farookh</td>\n",
              "      <td>16020.0</td>\n",
              "    </tr>\n",
              "    <tr>\n",
              "      <th>8</th>\n",
              "      <td>jabir</td>\n",
              "      <td>16000.0</td>\n",
              "    </tr>\n",
              "    <tr>\n",
              "      <th>21</th>\n",
              "      <td>zakir</td>\n",
              "      <td>14006.0</td>\n",
              "    </tr>\n",
              "    <tr>\n",
              "      <th>17</th>\n",
              "      <td>shabir</td>\n",
              "      <td>14000.0</td>\n",
              "    </tr>\n",
              "    <tr>\n",
              "      <th>3</th>\n",
              "      <td>amjad</td>\n",
              "      <td>13650.0</td>\n",
              "    </tr>\n",
              "    <tr>\n",
              "      <th>2</th>\n",
              "      <td>akram</td>\n",
              "      <td>13000.0</td>\n",
              "    </tr>\n",
              "    <tr>\n",
              "      <th>10</th>\n",
              "      <td>mustakim</td>\n",
              "      <td>11000.0</td>\n",
              "    </tr>\n",
              "    <tr>\n",
              "      <th>16</th>\n",
              "      <td>sehzad</td>\n",
              "      <td>10580.0</td>\n",
              "    </tr>\n",
              "    <tr>\n",
              "      <th>13</th>\n",
              "      <td>rasid</td>\n",
              "      <td>9960.0</td>\n",
              "    </tr>\n",
              "    <tr>\n",
              "      <th>1</th>\n",
              "      <td>aashu</td>\n",
              "      <td>9000.0</td>\n",
              "    </tr>\n",
              "    <tr>\n",
              "      <th>18</th>\n",
              "      <td>shokeen</td>\n",
              "      <td>8000.0</td>\n",
              "    </tr>\n",
              "    <tr>\n",
              "      <th>9</th>\n",
              "      <td>kayum</td>\n",
              "      <td>6000.0</td>\n",
              "    </tr>\n",
              "    <tr>\n",
              "      <th>14</th>\n",
              "      <td>sabir jcb</td>\n",
              "      <td>4000.0</td>\n",
              "    </tr>\n",
              "    <tr>\n",
              "      <th>22</th>\n",
              "      <td>cash</td>\n",
              "      <td>2000.0</td>\n",
              "    </tr>\n",
              "  </tbody>\n",
              "</table>\n",
              "</div>"
            ],
            "text/plain": [
              "         Name     Total\n",
              "23    Zztotal  360180.0\n",
              "11    poclain   56000.0\n",
              "19     toheed   23294.0\n",
              "20      wajid   21500.0\n",
              "5      gulfam   21500.0\n",
              "6       hasan   20500.0\n",
              "7     intazar   18870.0\n",
              "0       aarif   18500.0\n",
              "15       safi   18300.0\n",
              "12    rafakat   16500.0\n",
              "4     farookh   16020.0\n",
              "8       jabir   16000.0\n",
              "21      zakir   14006.0\n",
              "17     shabir   14000.0\n",
              "3       amjad   13650.0\n",
              "2       akram   13000.0\n",
              "10   mustakim   11000.0\n",
              "16     sehzad   10580.0\n",
              "13      rasid    9960.0\n",
              "1       aashu    9000.0\n",
              "18    shokeen    8000.0\n",
              "9       kayum    6000.0\n",
              "14  sabir jcb    4000.0\n",
              "22       cash    2000.0"
            ]
          },
          "metadata": {
            "tags": []
          },
          "execution_count": 81
        }
      ]
    },
    {
      "metadata": {
        "id": "cJvCrs5eHUzH",
        "colab_type": "code",
        "colab": {
          "base_uri": "https://localhost:8080/",
          "height": 34
        },
        "outputId": "76740f41-67d6-4fe6-a3ee-b9affa3ded04"
      },
      "cell_type": "code",
      "source": [
        "name_total_quantity.shape"
      ],
      "execution_count": 66,
      "outputs": [
        {
          "output_type": "execute_result",
          "data": {
            "text/plain": [
              "(20, 2)"
            ]
          },
          "metadata": {
            "tags": []
          },
          "execution_count": 66
        }
      ]
    },
    {
      "metadata": {
        "id": "bIgFlZSgHZ2Z",
        "colab_type": "code",
        "colab": {
          "base_uri": "https://localhost:8080/",
          "height": 34
        },
        "outputId": "0e185bda-822d-4ca8-f03c-f23e58ededcc"
      },
      "cell_type": "code",
      "source": [
        "diesel.shape"
      ],
      "execution_count": 67,
      "outputs": [
        {
          "output_type": "execute_result",
          "data": {
            "text/plain": [
              "(24, 17)"
            ]
          },
          "metadata": {
            "tags": []
          },
          "execution_count": 67
        }
      ]
    },
    {
      "metadata": {
        "id": "Dt0tY1MmKWaE",
        "colab_type": "code",
        "colab": {}
      },
      "cell_type": "code",
      "source": [
        "final = pd.DataFrame(columns = ['Name','Total Quantity', 'Rs.', 'Diesel', 'Rs. - Diesel'])\n",
        "for i in range(len(name_total_quantity)):\n",
        "  for j in range(len(diesel)):\n",
        "    if name_total_quantity.Name[i] == diesel.Name[j]:\n",
        "      final = final.append({'Name': diesel.Name[j],'Total Quantity':name_total_quantity['Total Quantity'][i] ,\n",
        "                            'Rs.':name_total_quantity['Total Quantity'][i]*3,\n",
        "                            'Diesel':diesel.Total[j],\n",
        "                            'Rs. - Diesel':name_total_quantity['Total Quantity'][i]*3 - diesel.Total[j]}, ignore_index = True)\n",
        "    "
      ],
      "execution_count": 0,
      "outputs": []
    },
    {
      "metadata": {
        "id": "pqq9bOw3M6j4",
        "colab_type": "code",
        "colab": {
          "base_uri": "https://localhost:8080/",
          "height": 638
        },
        "outputId": "7db6a339-82db-4b4e-f64e-b9e412bb957d"
      },
      "cell_type": "code",
      "source": [
        "final.sort_values(by = 'Total Quantity', ascending = False, inplace = True)\n",
        "final"
      ],
      "execution_count": 92,
      "outputs": [
        {
          "output_type": "execute_result",
          "data": {
            "text/html": [
              "<div>\n",
              "<style scoped>\n",
              "    .dataframe tbody tr th:only-of-type {\n",
              "        vertical-align: middle;\n",
              "    }\n",
              "\n",
              "    .dataframe tbody tr th {\n",
              "        vertical-align: top;\n",
              "    }\n",
              "\n",
              "    .dataframe thead th {\n",
              "        text-align: right;\n",
              "    }\n",
              "</style>\n",
              "<table border=\"1\" class=\"dataframe\">\n",
              "  <thead>\n",
              "    <tr style=\"text-align: right;\">\n",
              "      <th></th>\n",
              "      <th>Name</th>\n",
              "      <th>Total Quantity</th>\n",
              "      <th>Rs.</th>\n",
              "      <th>Diesel</th>\n",
              "      <th>Rs. - Diesel</th>\n",
              "    </tr>\n",
              "  </thead>\n",
              "  <tbody>\n",
              "    <tr>\n",
              "      <th>17</th>\n",
              "      <td>toheed</td>\n",
              "      <td>16444</td>\n",
              "      <td>49332</td>\n",
              "      <td>23294.0</td>\n",
              "      <td>26038.0</td>\n",
              "    </tr>\n",
              "    <tr>\n",
              "      <th>8</th>\n",
              "      <td>jabir</td>\n",
              "      <td>15882</td>\n",
              "      <td>47646</td>\n",
              "      <td>16000.0</td>\n",
              "      <td>31646.0</td>\n",
              "    </tr>\n",
              "    <tr>\n",
              "      <th>6</th>\n",
              "      <td>hasan</td>\n",
              "      <td>14296</td>\n",
              "      <td>42888</td>\n",
              "      <td>20500.0</td>\n",
              "      <td>22388.0</td>\n",
              "    </tr>\n",
              "    <tr>\n",
              "      <th>0</th>\n",
              "      <td>aarif</td>\n",
              "      <td>13282</td>\n",
              "      <td>39846</td>\n",
              "      <td>18500.0</td>\n",
              "      <td>21346.0</td>\n",
              "    </tr>\n",
              "    <tr>\n",
              "      <th>13</th>\n",
              "      <td>safi</td>\n",
              "      <td>13258</td>\n",
              "      <td>39774</td>\n",
              "      <td>18300.0</td>\n",
              "      <td>21474.0</td>\n",
              "    </tr>\n",
              "    <tr>\n",
              "      <th>7</th>\n",
              "      <td>intazar</td>\n",
              "      <td>13009</td>\n",
              "      <td>39027</td>\n",
              "      <td>18870.0</td>\n",
              "      <td>20157.0</td>\n",
              "    </tr>\n",
              "    <tr>\n",
              "      <th>5</th>\n",
              "      <td>gulfam</td>\n",
              "      <td>12870</td>\n",
              "      <td>38610</td>\n",
              "      <td>21500.0</td>\n",
              "      <td>17110.0</td>\n",
              "    </tr>\n",
              "    <tr>\n",
              "      <th>11</th>\n",
              "      <td>rafakat</td>\n",
              "      <td>12852</td>\n",
              "      <td>38556</td>\n",
              "      <td>16500.0</td>\n",
              "      <td>22056.0</td>\n",
              "    </tr>\n",
              "    <tr>\n",
              "      <th>4</th>\n",
              "      <td>farookh</td>\n",
              "      <td>11146</td>\n",
              "      <td>33438</td>\n",
              "      <td>16020.0</td>\n",
              "      <td>17418.0</td>\n",
              "    </tr>\n",
              "    <tr>\n",
              "      <th>3</th>\n",
              "      <td>amjad</td>\n",
              "      <td>11057</td>\n",
              "      <td>33171</td>\n",
              "      <td>13650.0</td>\n",
              "      <td>19521.0</td>\n",
              "    </tr>\n",
              "    <tr>\n",
              "      <th>2</th>\n",
              "      <td>akram</td>\n",
              "      <td>9520</td>\n",
              "      <td>28560</td>\n",
              "      <td>13000.0</td>\n",
              "      <td>15560.0</td>\n",
              "    </tr>\n",
              "    <tr>\n",
              "      <th>14</th>\n",
              "      <td>sehzad</td>\n",
              "      <td>9168</td>\n",
              "      <td>27504</td>\n",
              "      <td>10580.0</td>\n",
              "      <td>16924.0</td>\n",
              "    </tr>\n",
              "    <tr>\n",
              "      <th>15</th>\n",
              "      <td>shabir</td>\n",
              "      <td>8930</td>\n",
              "      <td>26790</td>\n",
              "      <td>14000.0</td>\n",
              "      <td>12790.0</td>\n",
              "    </tr>\n",
              "    <tr>\n",
              "      <th>18</th>\n",
              "      <td>zakir</td>\n",
              "      <td>8244</td>\n",
              "      <td>24732</td>\n",
              "      <td>14006.0</td>\n",
              "      <td>10726.0</td>\n",
              "    </tr>\n",
              "    <tr>\n",
              "      <th>12</th>\n",
              "      <td>rasid</td>\n",
              "      <td>8138</td>\n",
              "      <td>24414</td>\n",
              "      <td>9960.0</td>\n",
              "      <td>14454.0</td>\n",
              "    </tr>\n",
              "    <tr>\n",
              "      <th>10</th>\n",
              "      <td>mustakim</td>\n",
              "      <td>8100</td>\n",
              "      <td>24300</td>\n",
              "      <td>11000.0</td>\n",
              "      <td>13300.0</td>\n",
              "    </tr>\n",
              "    <tr>\n",
              "      <th>16</th>\n",
              "      <td>shokeen</td>\n",
              "      <td>4983</td>\n",
              "      <td>14949</td>\n",
              "      <td>8000.0</td>\n",
              "      <td>6949.0</td>\n",
              "    </tr>\n",
              "    <tr>\n",
              "      <th>1</th>\n",
              "      <td>aashu</td>\n",
              "      <td>4620</td>\n",
              "      <td>13860</td>\n",
              "      <td>9000.0</td>\n",
              "      <td>4860.0</td>\n",
              "    </tr>\n",
              "    <tr>\n",
              "      <th>9</th>\n",
              "      <td>kayum</td>\n",
              "      <td>4050</td>\n",
              "      <td>12150</td>\n",
              "      <td>6000.0</td>\n",
              "      <td>6150.0</td>\n",
              "    </tr>\n",
              "  </tbody>\n",
              "</table>\n",
              "</div>"
            ],
            "text/plain": [
              "        Name Total Quantity    Rs.   Diesel  Rs. - Diesel\n",
              "17    toheed          16444  49332  23294.0       26038.0\n",
              "8      jabir          15882  47646  16000.0       31646.0\n",
              "6      hasan          14296  42888  20500.0       22388.0\n",
              "0      aarif          13282  39846  18500.0       21346.0\n",
              "13      safi          13258  39774  18300.0       21474.0\n",
              "7    intazar          13009  39027  18870.0       20157.0\n",
              "5     gulfam          12870  38610  21500.0       17110.0\n",
              "11   rafakat          12852  38556  16500.0       22056.0\n",
              "4    farookh          11146  33438  16020.0       17418.0\n",
              "3      amjad          11057  33171  13650.0       19521.0\n",
              "2      akram           9520  28560  13000.0       15560.0\n",
              "14    sehzad           9168  27504  10580.0       16924.0\n",
              "15    shabir           8930  26790  14000.0       12790.0\n",
              "18     zakir           8244  24732  14006.0       10726.0\n",
              "12     rasid           8138  24414   9960.0       14454.0\n",
              "10  mustakim           8100  24300  11000.0       13300.0\n",
              "16   shokeen           4983  14949   8000.0        6949.0\n",
              "1      aashu           4620  13860   9000.0        4860.0\n",
              "9      kayum           4050  12150   6000.0        6150.0"
            ]
          },
          "metadata": {
            "tags": []
          },
          "execution_count": 92
        }
      ]
    },
    {
      "metadata": {
        "id": "j9mtOxxVNFDu",
        "colab_type": "code",
        "colab": {}
      },
      "cell_type": "code",
      "source": [
        ""
      ],
      "execution_count": 0,
      "outputs": []
    }
  ]
}