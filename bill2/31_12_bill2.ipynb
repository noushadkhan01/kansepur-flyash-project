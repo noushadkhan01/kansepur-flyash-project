{
  "nbformat": 4,
  "nbformat_minor": 0,
  "metadata": {
    "colab": {
      "name": "31-12-bill2.ipynb",
      "version": "0.3.2",
      "provenance": [],
      "collapsed_sections": [],
      "include_colab_link": true
    },
    "kernelspec": {
      "name": "python3",
      "display_name": "Python 3"
    }
  },
  "cells": [
    {
      "cell_type": "markdown",
      "metadata": {
        "id": "view-in-github",
        "colab_type": "text"
      },
      "source": [
        "<a href=\"https://colab.research.google.com/github/noushadkhan01/kansepur-flyash-project/blob/master/bill2/31_12_bill2.ipynb\" target=\"_parent\"><img src=\"https://colab.research.google.com/assets/colab-badge.svg\" alt=\"Open In Colab\"/></a>"
      ]
    },
    {
      "metadata": {
        "id": "so-LEjYwlBUq",
        "colab_type": "code",
        "outputId": "35dbaeb5-40b9-4b20-c92f-96fe7ff5fcc8",
        "colab": {
          "base_uri": "https://localhost:8080/",
          "height": 119
        }
      },
      "cell_type": "code",
      "source": [
        "!git clone https://github.com/noushadkhan01/kansepur-flyash-project.git"
      ],
      "execution_count": 1,
      "outputs": [
        {
          "output_type": "stream",
          "text": [
            "Cloning into 'kansepur-flyash-project'...\n",
            "remote: Enumerating objects: 77, done.\u001b[K\n",
            "remote: Counting objects:   1% (1/77)   \u001b[K\rremote: Counting objects:   2% (2/77)   \u001b[K\rremote: Counting objects:   3% (3/77)   \u001b[K\rremote: Counting objects:   5% (4/77)   \u001b[K\rremote: Counting objects:   6% (5/77)   \u001b[K\rremote: Counting objects:   7% (6/77)   \u001b[K\rremote: Counting objects:   9% (7/77)   \u001b[K\rremote: Counting objects:  10% (8/77)   \u001b[K\rremote: Counting objects:  11% (9/77)   \u001b[K\rremote: Counting objects:  12% (10/77)   \u001b[K\rremote: Counting objects:  14% (11/77)   \u001b[K\rremote: Counting objects:  15% (12/77)   \u001b[K\rremote: Counting objects:  16% (13/77)   \u001b[K\rremote: Counting objects:  18% (14/77)   \u001b[K\rremote: Counting objects:  19% (15/77)   \u001b[K\rremote: Counting objects:  20% (16/77)   \u001b[K\rremote: Counting objects:  22% (17/77)   \u001b[K\rremote: Counting objects:  23% (18/77)   \u001b[K\rremote: Counting objects:  24% (19/77)   \u001b[K\rremote: Counting objects:  25% (20/77)   \u001b[K\rremote: Counting objects:  27% (21/77)   \u001b[K\rremote: Counting objects:  28% (22/77)   \u001b[K\rremote: Counting objects:  29% (23/77)   \u001b[K\rremote: Counting objects:  31% (24/77)   \u001b[K\rremote: Counting objects:  32% (25/77)   \u001b[K\rremote: Counting objects:  33% (26/77)   \u001b[K\rremote: Counting objects:  35% (27/77)   \u001b[K\rremote: Counting objects:  36% (28/77)   \u001b[K\rremote: Counting objects:  37% (29/77)   \u001b[K\rremote: Counting objects:  38% (30/77)   \u001b[K\rremote: Counting objects:  40% (31/77)   \u001b[K\rremote: Counting objects:  41% (32/77)   \u001b[K\rremote: Counting objects:  42% (33/77)   \u001b[K\rremote: Counting objects:  44% (34/77)   \u001b[K\rremote: Counting objects:  45% (35/77)   \u001b[K\rremote: Counting objects:  46% (36/77)   \u001b[K\rremote: Counting objects:  48% (37/77)   \u001b[K\rremote: Counting objects:  49% (38/77)   \u001b[K\rremote: Counting objects:  50% (39/77)   \u001b[K\rremote: Counting objects:  51% (40/77)   \u001b[K\rremote: Counting objects:  53% (41/77)   \u001b[K\rremote: Counting objects:  54% (42/77)   \u001b[K\rremote: Counting objects:  55% (43/77)   \u001b[K\rremote: Counting objects:  57% (44/77)   \u001b[K\rremote: Counting objects:  58% (45/77)   \u001b[K\rremote: Counting objects:  59% (46/77)   \u001b[K\rremote: Counting objects:  61% (47/77)   \u001b[K\rremote: Counting objects:  62% (48/77)   \u001b[K\rremote: Counting objects:  63% (49/77)   \u001b[K\rremote: Counting objects:  64% (50/77)   \u001b[K\rremote: Counting objects:  66% (51/77)   \u001b[K\rremote: Counting objects:  67% (52/77)   \u001b[K\rremote: Counting objects:  68% (53/77)   \u001b[K\rremote: Counting objects:  70% (54/77)   \u001b[K\rremote: Counting objects:  71% (55/77)   \u001b[K\rremote: Counting objects:  72% (56/77)   \u001b[K\rremote: Counting objects:  74% (57/77)   \u001b[K\rremote: Counting objects:  75% (58/77)   \u001b[K\rremote: Counting objects:  76% (59/77)   \u001b[K\rremote: Counting objects:  77% (60/77)   \u001b[K\rremote: Counting objects:  79% (61/77)   \u001b[K\rremote: Counting objects:  80% (62/77)   \u001b[K\rremote: Counting objects:  81% (63/77)   \u001b[K\rremote: Counting objects:  83% (64/77)   \u001b[K\rremote: Counting objects:  84% (65/77)   \u001b[K\rremote: Counting objects:  85% (66/77)   \u001b[K\rremote: Counting objects:  87% (67/77)   \u001b[K\rremote: Counting objects:  88% (68/77)   \u001b[K\rremote: Counting objects:  89% (69/77)   \u001b[K\rremote: Counting objects:  90% (70/77)   \u001b[K\rremote: Counting objects:  92% (71/77)   \u001b[K\rremote: Counting objects:  93% (72/77)   \u001b[K\rremote: Counting objects:  94% (73/77)   \u001b[K\rremote: Counting objects:  96% (74/77)   \u001b[K\rremote: Counting objects:  97% (75/77)   \u001b[K\rremote: Counting objects:  98% (76/77)   \u001b[K\rremote: Counting objects: 100% (77/77)   \u001b[K\rremote: Counting objects: 100% (77/77), done.\u001b[K\n",
            "remote: Compressing objects:   1% (1/72)   \u001b[K\rremote: Compressing objects:   2% (2/72)   \u001b[K\rremote: Compressing objects:   4% (3/72)   \u001b[K\rremote: Compressing objects:   5% (4/72)   \u001b[K\rremote: Compressing objects:   6% (5/72)   \u001b[K\rremote: Compressing objects:   8% (6/72)   \u001b[K\rremote: Compressing objects:   9% (7/72)   \u001b[K\rremote: Compressing objects:  11% (8/72)   \u001b[K\rremote: Compressing objects:  12% (9/72)   \u001b[K\rremote: Compressing objects:  13% (10/72)   \u001b[K\rremote: Compressing objects:  15% (11/72)   \u001b[K\rremote: Compressing objects:  16% (12/72)   \u001b[K\rremote: Compressing objects:  18% (13/72)   \u001b[K\rremote: Compressing objects:  19% (14/72)   \u001b[K\rremote: Compressing objects:  20% (15/72)   \u001b[K\rremote: Compressing objects:  22% (16/72)   \u001b[K\rremote: Compressing objects:  23% (17/72)   \u001b[K\rremote: Compressing objects:  25% (18/72)   \u001b[K\rremote: Compressing objects:  26% (19/72)   \u001b[K\rremote: Compressing objects:  27% (20/72)   \u001b[K\rremote: Compressing objects:  29% (21/72)   \u001b[K\rremote: Compressing objects:  30% (22/72)   \u001b[K\rremote: Compressing objects:  31% (23/72)   \u001b[K\rremote: Compressing objects:  33% (24/72)   \u001b[K\rremote: Compressing objects:  34% (25/72)   \u001b[K\rremote: Compressing objects:  36% (26/72)   \u001b[K\rremote: Compressing objects:  37% (27/72)   \u001b[K\rremote: Compressing objects:  38% (28/72)   \u001b[K\rremote: Compressing objects:  40% (29/72)   \u001b[K\rremote: Compressing objects:  41% (30/72)   \u001b[K\rremote: Compressing objects:  43% (31/72)   \u001b[K\rremote: Compressing objects:  44% (32/72)   \u001b[K\rremote: Compressing objects:  45% (33/72)   \u001b[K\rremote: Compressing objects:  47% (34/72)   \u001b[K\rremote: Compressing objects:  48% (35/72)   \u001b[K\rremote: Compressing objects:  50% (36/72)   \u001b[K\rremote: Compressing objects:  51% (37/72)   \u001b[K\rremote: Compressing objects:  52% (38/72)   \u001b[K\rremote: Compressing objects:  54% (39/72)   \u001b[K\rremote: Compressing objects:  55% (40/72)   \u001b[K\rremote: Compressing objects:  56% (41/72)   \u001b[K\rremote: Compressing objects:  58% (42/72)   \u001b[K\rremote: Compressing objects:  59% (43/72)   \u001b[K\rremote: Compressing objects:  61% (44/72)   \u001b[K\rremote: Compressing objects:  62% (45/72)   \u001b[K\rremote: Compressing objects:  63% (46/72)   \u001b[K\rremote: Compressing objects:  65% (47/72)   \u001b[K\rremote: Compressing objects:  66% (48/72)   \u001b[K\rremote: Compressing objects:  68% (49/72)   \u001b[K\rremote: Compressing objects:  69% (50/72)   \u001b[K\rremote: Compressing objects:  70% (51/72)   \u001b[K\rremote: Compressing objects:  72% (52/72)   \u001b[K\rremote: Compressing objects:  73% (53/72)   \u001b[K\rremote: Compressing objects:  75% (54/72)   \u001b[K\rremote: Compressing objects:  76% (55/72)   \u001b[K\rremote: Compressing objects:  77% (56/72)   \u001b[K\rremote: Compressing objects:  79% (57/72)   \u001b[K\rremote: Compressing objects:  80% (58/72)   \u001b[K\rremote: Compressing objects:  81% (59/72)   \u001b[K\rremote: Compressing objects:  83% (60/72)   \u001b[K\rremote: Compressing objects:  84% (61/72)   \u001b[K\rremote: Compressing objects:  86% (62/72)   \u001b[K\rremote: Compressing objects:  87% (63/72)   \u001b[K\rremote: Compressing objects:  88% (64/72)   \u001b[K\rremote: Compressing objects:  90% (65/72)   \u001b[K\rremote: Compressing objects:  91% (66/72)   \u001b[K\rremote: Compressing objects:  93% (67/72)   \u001b[K\rremote: Compressing objects:  94% (68/72)   \u001b[K\rremote: Compressing objects:  95% (69/72)   \u001b[K\rremote: Compressing objects:  97% (70/72)   \u001b[K\rremote: Compressing objects:  98% (71/72)   \u001b[K\rremote: Compressing objects: 100% (72/72)   \u001b[K\rremote: Compressing objects: 100% (72/72), done.\u001b[K\n",
            "Unpacking objects:   1% (1/77)   \rUnpacking objects:   2% (2/77)   \rUnpacking objects:   3% (3/77)   \rUnpacking objects:   5% (4/77)   \rUnpacking objects:   6% (5/77)   \rUnpacking objects:   7% (6/77)   \rUnpacking objects:   9% (7/77)   \rUnpacking objects:  10% (8/77)   \rUnpacking objects:  11% (9/77)   \rUnpacking objects:  12% (10/77)   \rUnpacking objects:  14% (11/77)   \rUnpacking objects:  15% (12/77)   \rUnpacking objects:  16% (13/77)   \rUnpacking objects:  18% (14/77)   \rUnpacking objects:  19% (15/77)   \rUnpacking objects:  20% (16/77)   \rUnpacking objects:  22% (17/77)   \rUnpacking objects:  23% (18/77)   \rUnpacking objects:  24% (19/77)   \rUnpacking objects:  25% (20/77)   \rUnpacking objects:  27% (21/77)   \rUnpacking objects:  28% (22/77)   \rUnpacking objects:  29% (23/77)   \rUnpacking objects:  31% (24/77)   \rUnpacking objects:  32% (25/77)   \rUnpacking objects:  33% (26/77)   \rUnpacking objects:  35% (27/77)   \rUnpacking objects:  36% (28/77)   \rUnpacking objects:  37% (29/77)   \rUnpacking objects:  38% (30/77)   \rUnpacking objects:  40% (31/77)   \rUnpacking objects:  41% (32/77)   \rUnpacking objects:  42% (33/77)   \rUnpacking objects:  44% (34/77)   \rUnpacking objects:  45% (35/77)   \rUnpacking objects:  46% (36/77)   \rUnpacking objects:  48% (37/77)   \rUnpacking objects:  49% (38/77)   \rUnpacking objects:  50% (39/77)   \rUnpacking objects:  51% (40/77)   \rUnpacking objects:  53% (41/77)   \rUnpacking objects:  54% (42/77)   \rUnpacking objects:  55% (43/77)   \rUnpacking objects:  57% (44/77)   \rUnpacking objects:  58% (45/77)   \rUnpacking objects:  59% (46/77)   \rUnpacking objects:  61% (47/77)   \rUnpacking objects:  62% (48/77)   \rUnpacking objects:  63% (49/77)   \rUnpacking objects:  64% (50/77)   \rUnpacking objects:  66% (51/77)   \rUnpacking objects:  67% (52/77)   \rUnpacking objects:  68% (53/77)   \rUnpacking objects:  70% (54/77)   \rUnpacking objects:  71% (55/77)   \rUnpacking objects:  72% (56/77)   \rremote: Total 77 (delta 34), reused 0 (delta 0), pack-reused 0\u001b[K\n",
            "Unpacking objects:  74% (57/77)   \rUnpacking objects:  75% (58/77)   \rUnpacking objects:  76% (59/77)   \rUnpacking objects:  77% (60/77)   \rUnpacking objects:  79% (61/77)   \rUnpacking objects:  80% (62/77)   \rUnpacking objects:  81% (63/77)   \rUnpacking objects:  83% (64/77)   \rUnpacking objects:  84% (65/77)   \rUnpacking objects:  85% (66/77)   \rUnpacking objects:  87% (67/77)   \rUnpacking objects:  88% (68/77)   \rUnpacking objects:  89% (69/77)   \rUnpacking objects:  90% (70/77)   \rUnpacking objects:  92% (71/77)   \rUnpacking objects:  93% (72/77)   \rUnpacking objects:  94% (73/77)   \rUnpacking objects:  96% (74/77)   \rUnpacking objects:  97% (75/77)   \rUnpacking objects:  98% (76/77)   \rUnpacking objects: 100% (77/77)   \rUnpacking objects: 100% (77/77), done.\n"
          ],
          "name": "stdout"
        }
      ]
    },
    {
      "metadata": {
        "id": "g1NpP5jtlH5r",
        "colab_type": "code",
        "colab": {}
      },
      "cell_type": "code",
      "source": [
        "import pandas as pd"
      ],
      "execution_count": 0,
      "outputs": []
    },
    {
      "metadata": {
        "id": "vgRnsjiMlJvN",
        "colab_type": "code",
        "outputId": "1a503233-25a4-4f20-808b-77844b73a638",
        "colab": {
          "base_uri": "https://localhost:8080/",
          "height": 34
        }
      },
      "cell_type": "code",
      "source": [
        "%cd ./kansepur-flyash-project/bill2/"
      ],
      "execution_count": 3,
      "outputs": [
        {
          "output_type": "stream",
          "text": [
            "/content/kansepur-flyash-project/bill2\n"
          ],
          "name": "stdout"
        }
      ]
    },
    {
      "metadata": {
        "id": "B6lL48hFlOrB",
        "colab_type": "code",
        "outputId": "46d949d3-77b4-4f7e-ca39-ca5951214918",
        "colab": {
          "base_uri": "https://localhost:8080/",
          "height": 34
        }
      },
      "cell_type": "code",
      "source": [
        "!ls"
      ],
      "execution_count": 4,
      "outputs": [
        {
          "output_type": "stream",
          "text": [
            " 31_12_bill2.ipynb  'kansepur bill2.xlsx'\n"
          ],
          "name": "stdout"
        }
      ]
    },
    {
      "metadata": {
        "id": "THAUXyC0lPYh",
        "colab_type": "code",
        "outputId": "6ee35c20-f49b-48e2-f022-8b0384d09872",
        "colab": {
          "base_uri": "https://localhost:8080/",
          "height": 204
        }
      },
      "cell_type": "code",
      "source": [
        "df = pd.read_excel('kansepur bill2.xlsx', 'Sheet1')\n",
        "df.head()"
      ],
      "execution_count": 5,
      "outputs": [
        {
          "output_type": "execute_result",
          "data": {
            "text/html": [
              "<div>\n",
              "<style scoped>\n",
              "    .dataframe tbody tr th:only-of-type {\n",
              "        vertical-align: middle;\n",
              "    }\n",
              "\n",
              "    .dataframe tbody tr th {\n",
              "        vertical-align: top;\n",
              "    }\n",
              "\n",
              "    .dataframe thead th {\n",
              "        text-align: right;\n",
              "    }\n",
              "</style>\n",
              "<table border=\"1\" class=\"dataframe\">\n",
              "  <thead>\n",
              "    <tr style=\"text-align: right;\">\n",
              "      <th></th>\n",
              "      <th>Date</th>\n",
              "      <th>Name</th>\n",
              "      <th>Quantity</th>\n",
              "      <th>kaat</th>\n",
              "    </tr>\n",
              "  </thead>\n",
              "  <tbody>\n",
              "    <tr>\n",
              "      <th>0</th>\n",
              "      <td>2018-12-14</td>\n",
              "      <td>jabir</td>\n",
              "      <td>419</td>\n",
              "      <td>NaN</td>\n",
              "    </tr>\n",
              "    <tr>\n",
              "      <th>1</th>\n",
              "      <td>NaT</td>\n",
              "      <td>zakir</td>\n",
              "      <td>436</td>\n",
              "      <td>NaN</td>\n",
              "    </tr>\n",
              "    <tr>\n",
              "      <th>2</th>\n",
              "      <td>NaT</td>\n",
              "      <td>amjad</td>\n",
              "      <td>411</td>\n",
              "      <td>NaN</td>\n",
              "    </tr>\n",
              "    <tr>\n",
              "      <th>3</th>\n",
              "      <td>NaT</td>\n",
              "      <td>akram</td>\n",
              "      <td>400</td>\n",
              "      <td>NaN</td>\n",
              "    </tr>\n",
              "    <tr>\n",
              "      <th>4</th>\n",
              "      <td>NaT</td>\n",
              "      <td>safi</td>\n",
              "      <td>462</td>\n",
              "      <td>NaN</td>\n",
              "    </tr>\n",
              "  </tbody>\n",
              "</table>\n",
              "</div>"
            ],
            "text/plain": [
              "        Date   Name  Quantity  kaat\n",
              "0 2018-12-14  jabir       419   NaN\n",
              "1        NaT  zakir       436   NaN\n",
              "2        NaT  amjad       411   NaN\n",
              "3        NaT  akram       400   NaN\n",
              "4        NaT   safi       462   NaN"
            ]
          },
          "metadata": {
            "tags": []
          },
          "execution_count": 5
        }
      ]
    },
    {
      "metadata": {
        "id": "e1gUo92O-r5c",
        "colab_type": "code",
        "colab": {
          "base_uri": "https://localhost:8080/",
          "height": 111
        },
        "outputId": "28dac22a-790d-4421-cf44-45ef1249ae10"
      },
      "cell_type": "code",
      "source": [
        "df.tail(2)"
      ],
      "execution_count": 6,
      "outputs": [
        {
          "output_type": "execute_result",
          "data": {
            "text/html": [
              "<div>\n",
              "<style scoped>\n",
              "    .dataframe tbody tr th:only-of-type {\n",
              "        vertical-align: middle;\n",
              "    }\n",
              "\n",
              "    .dataframe tbody tr th {\n",
              "        vertical-align: top;\n",
              "    }\n",
              "\n",
              "    .dataframe thead th {\n",
              "        text-align: right;\n",
              "    }\n",
              "</style>\n",
              "<table border=\"1\" class=\"dataframe\">\n",
              "  <thead>\n",
              "    <tr style=\"text-align: right;\">\n",
              "      <th></th>\n",
              "      <th>Date</th>\n",
              "      <th>Name</th>\n",
              "      <th>Quantity</th>\n",
              "      <th>kaat</th>\n",
              "    </tr>\n",
              "  </thead>\n",
              "  <tbody>\n",
              "    <tr>\n",
              "      <th>488</th>\n",
              "      <td>NaT</td>\n",
              "      <td>hasan</td>\n",
              "      <td>538</td>\n",
              "      <td>NaN</td>\n",
              "    </tr>\n",
              "    <tr>\n",
              "      <th>489</th>\n",
              "      <td>NaT</td>\n",
              "      <td>hasan</td>\n",
              "      <td>538</td>\n",
              "      <td>NaN</td>\n",
              "    </tr>\n",
              "  </tbody>\n",
              "</table>\n",
              "</div>"
            ],
            "text/plain": [
              "    Date   Name  Quantity  kaat\n",
              "488  NaT  hasan       538   NaN\n",
              "489  NaT  hasan       538   NaN"
            ]
          },
          "metadata": {
            "tags": []
          },
          "execution_count": 6
        }
      ]
    },
    {
      "metadata": {
        "id": "oUmdiUIj-xel",
        "colab_type": "code",
        "colab": {
          "base_uri": "https://localhost:8080/",
          "height": 80
        },
        "outputId": "027624c8-bc10-4757-f1c9-0cc9ada13461"
      },
      "cell_type": "code",
      "source": [
        "df = df[:-1]\n",
        "df.tail(1)"
      ],
      "execution_count": 7,
      "outputs": [
        {
          "output_type": "execute_result",
          "data": {
            "text/html": [
              "<div>\n",
              "<style scoped>\n",
              "    .dataframe tbody tr th:only-of-type {\n",
              "        vertical-align: middle;\n",
              "    }\n",
              "\n",
              "    .dataframe tbody tr th {\n",
              "        vertical-align: top;\n",
              "    }\n",
              "\n",
              "    .dataframe thead th {\n",
              "        text-align: right;\n",
              "    }\n",
              "</style>\n",
              "<table border=\"1\" class=\"dataframe\">\n",
              "  <thead>\n",
              "    <tr style=\"text-align: right;\">\n",
              "      <th></th>\n",
              "      <th>Date</th>\n",
              "      <th>Name</th>\n",
              "      <th>Quantity</th>\n",
              "      <th>kaat</th>\n",
              "    </tr>\n",
              "  </thead>\n",
              "  <tbody>\n",
              "    <tr>\n",
              "      <th>488</th>\n",
              "      <td>NaT</td>\n",
              "      <td>hasan</td>\n",
              "      <td>538</td>\n",
              "      <td>NaN</td>\n",
              "    </tr>\n",
              "  </tbody>\n",
              "</table>\n",
              "</div>"
            ],
            "text/plain": [
              "    Date   Name  Quantity  kaat\n",
              "488  NaT  hasan       538   NaN"
            ]
          },
          "metadata": {
            "tags": []
          },
          "execution_count": 7
        }
      ]
    },
    {
      "metadata": {
        "id": "vYJmIHd8lWZY",
        "colab_type": "code",
        "outputId": "c2154e63-47ab-43af-9953-cf24319ec710",
        "colab": {
          "base_uri": "https://localhost:8080/",
          "height": 170
        }
      },
      "cell_type": "code",
      "source": [
        "df.info()"
      ],
      "execution_count": 8,
      "outputs": [
        {
          "output_type": "stream",
          "text": [
            "<class 'pandas.core.frame.DataFrame'>\n",
            "RangeIndex: 489 entries, 0 to 488\n",
            "Data columns (total 4 columns):\n",
            "Date        15 non-null datetime64[ns]\n",
            "Name        489 non-null object\n",
            "Quantity    489 non-null int64\n",
            "kaat        38 non-null float64\n",
            "dtypes: datetime64[ns](1), float64(1), int64(1), object(1)\n",
            "memory usage: 15.4+ KB\n"
          ],
          "name": "stdout"
        }
      ]
    },
    {
      "metadata": {
        "id": "vZ9H0uvuAxf5",
        "colab_type": "code",
        "outputId": "607e392f-a13f-4172-8ef8-a499e74d3f58",
        "colab": {
          "base_uri": "https://localhost:8080/",
          "height": 289
        }
      },
      "cell_type": "code",
      "source": [
        "unique_dates = df.Date.unique()\n",
        "unique_dates = pd.Series(unique_dates).dropna()\n",
        "print(unique_dates)"
      ],
      "execution_count": 9,
      "outputs": [
        {
          "output_type": "stream",
          "text": [
            "0    2018-12-14\n",
            "2    2018-12-15\n",
            "3    2018-12-16\n",
            "4    2018-12-17\n",
            "5    2018-12-18\n",
            "6    2018-12-19\n",
            "7    2018-12-20\n",
            "8    2018-12-21\n",
            "9    2018-12-22\n",
            "10   2018-12-23\n",
            "11   2018-12-27\n",
            "12   2018-12-28\n",
            "13   2018-12-29\n",
            "14   2018-12-30\n",
            "15   2018-12-31\n",
            "dtype: datetime64[ns]\n"
          ],
          "name": "stdout"
        }
      ]
    },
    {
      "metadata": {
        "id": "yOdejLAFA7j1",
        "colab_type": "code",
        "outputId": "ee9c0082-168a-4598-b3c2-f715d2e10434",
        "colab": {
          "base_uri": "https://localhost:8080/",
          "height": 34
        }
      },
      "cell_type": "code",
      "source": [
        "df.Date.nunique()"
      ],
      "execution_count": 10,
      "outputs": [
        {
          "output_type": "execute_result",
          "data": {
            "text/plain": [
              "15"
            ]
          },
          "metadata": {
            "tags": []
          },
          "execution_count": 10
        }
      ]
    },
    {
      "metadata": {
        "id": "TTiF585xBBNC",
        "colab_type": "code",
        "outputId": "0b5a2b64-95c2-4557-9446-65bfbefdeaff",
        "colab": {
          "base_uri": "https://localhost:8080/",
          "height": 289
        }
      },
      "cell_type": "code",
      "source": [
        "df.Date.value_counts()"
      ],
      "execution_count": 11,
      "outputs": [
        {
          "output_type": "execute_result",
          "data": {
            "text/plain": [
              "2018-12-27    1\n",
              "2018-12-30    1\n",
              "2018-12-16    1\n",
              "2018-12-19    1\n",
              "2018-12-22    1\n",
              "2018-12-28    1\n",
              "2018-12-21    1\n",
              "2018-12-14    1\n",
              "2018-12-31    1\n",
              "2018-12-17    1\n",
              "2018-12-20    1\n",
              "2018-12-23    1\n",
              "2018-12-29    1\n",
              "2018-12-15    1\n",
              "2018-12-18    1\n",
              "Name: Date, dtype: int64"
            ]
          },
          "metadata": {
            "tags": []
          },
          "execution_count": 11
        }
      ]
    },
    {
      "metadata": {
        "id": "uXqNsOzRDDSf",
        "colab_type": "code",
        "colab": {}
      },
      "cell_type": "code",
      "source": [
        "import numpy as np"
      ],
      "execution_count": 0,
      "outputs": []
    },
    {
      "metadata": {
        "id": "BKMk-7t1Dq2J",
        "colab_type": "text"
      },
      "cell_type": "markdown",
      "source": [
        "### Fill Date"
      ]
    },
    {
      "metadata": {
        "id": "6Ze_xV9TAFkT",
        "colab_type": "code",
        "colab": {}
      },
      "cell_type": "code",
      "source": [
        "for n, i in enumerate(df.Date.values):\n",
        "  if not pd.isnull(i):\n",
        "    date = i\n",
        "  else:\n",
        "    df.iloc[n, 0] = date\n",
        "  "
      ],
      "execution_count": 0,
      "outputs": []
    },
    {
      "metadata": {
        "id": "fHoGR8F5DhjA",
        "colab_type": "code",
        "colab": {
          "base_uri": "https://localhost:8080/",
          "height": 111
        },
        "outputId": "f0b57578-85c7-451c-9e54-92580ea033bd"
      },
      "cell_type": "code",
      "source": [
        "df.head(2)"
      ],
      "execution_count": 14,
      "outputs": [
        {
          "output_type": "execute_result",
          "data": {
            "text/html": [
              "<div>\n",
              "<style scoped>\n",
              "    .dataframe tbody tr th:only-of-type {\n",
              "        vertical-align: middle;\n",
              "    }\n",
              "\n",
              "    .dataframe tbody tr th {\n",
              "        vertical-align: top;\n",
              "    }\n",
              "\n",
              "    .dataframe thead th {\n",
              "        text-align: right;\n",
              "    }\n",
              "</style>\n",
              "<table border=\"1\" class=\"dataframe\">\n",
              "  <thead>\n",
              "    <tr style=\"text-align: right;\">\n",
              "      <th></th>\n",
              "      <th>Date</th>\n",
              "      <th>Name</th>\n",
              "      <th>Quantity</th>\n",
              "      <th>kaat</th>\n",
              "    </tr>\n",
              "  </thead>\n",
              "  <tbody>\n",
              "    <tr>\n",
              "      <th>0</th>\n",
              "      <td>2018-12-14</td>\n",
              "      <td>jabir</td>\n",
              "      <td>419</td>\n",
              "      <td>NaN</td>\n",
              "    </tr>\n",
              "    <tr>\n",
              "      <th>1</th>\n",
              "      <td>2018-12-14</td>\n",
              "      <td>zakir</td>\n",
              "      <td>436</td>\n",
              "      <td>NaN</td>\n",
              "    </tr>\n",
              "  </tbody>\n",
              "</table>\n",
              "</div>"
            ],
            "text/plain": [
              "        Date   Name  Quantity  kaat\n",
              "0 2018-12-14  jabir       419   NaN\n",
              "1 2018-12-14  zakir       436   NaN"
            ]
          },
          "metadata": {
            "tags": []
          },
          "execution_count": 14
        }
      ]
    },
    {
      "metadata": {
        "id": "jsPDiLK9mCMB",
        "colab_type": "code",
        "outputId": "b64e82ec-c343-41f6-e6aa-8e90640cdf4b",
        "colab": {
          "base_uri": "https://localhost:8080/",
          "height": 85
        }
      },
      "cell_type": "code",
      "source": [
        "df.Name.unique()"
      ],
      "execution_count": 15,
      "outputs": [
        {
          "output_type": "execute_result",
          "data": {
            "text/plain": [
              "array(['jabir', 'zakir', 'amjad', 'akram', 'safi', 'farookh', 'gulfam',\n",
              "       'aarif', 'toheed', 'intazar', 'hasan', 'wazid', 'sehzad',\n",
              "       'rafakat', 'rasid', 'shabir', 'aashu', 'mustakim', 'kayum',\n",
              "       'shokeen'], dtype=object)"
            ]
          },
          "metadata": {
            "tags": []
          },
          "execution_count": 15
        }
      ]
    },
    {
      "metadata": {
        "id": "cJArT99yo39E",
        "colab_type": "code",
        "outputId": "9f9883bb-f47e-429f-dd34-8d960cf55d51",
        "colab": {
          "base_uri": "https://localhost:8080/",
          "height": 34
        }
      },
      "cell_type": "code",
      "source": [
        "sum(df.Quantity)"
      ],
      "execution_count": 16,
      "outputs": [
        {
          "output_type": "execute_result",
          "data": {
            "text/plain": [
              "213836"
            ]
          },
          "metadata": {
            "tags": []
          },
          "execution_count": 16
        }
      ]
    },
    {
      "metadata": {
        "id": "KDfUKDebnJUR",
        "colab_type": "code",
        "outputId": "2b794918-37ad-4438-ac4d-54a41cc46ba6",
        "colab": {
          "base_uri": "https://localhost:8080/",
          "height": 374
        }
      },
      "cell_type": "code",
      "source": [
        "quantity_per_name = df.Name.value_counts()\n",
        "quantity_per_name"
      ],
      "execution_count": 17,
      "outputs": [
        {
          "output_type": "execute_result",
          "data": {
            "text/plain": [
              "jabir       38\n",
              "wazid       35\n",
              "toheed      34\n",
              "hasan       33\n",
              "aarif       32\n",
              "safi        29\n",
              "amjad       27\n",
              "farookh     27\n",
              "intazar     27\n",
              "gulfam      26\n",
              "akram       24\n",
              "rafakat     24\n",
              "sehzad      23\n",
              "rasid       21\n",
              "mustakim    20\n",
              "zakir       19\n",
              "shabir      19\n",
              "aashu       11\n",
              "shokeen     11\n",
              "kayum        9\n",
              "Name: Name, dtype: int64"
            ]
          },
          "metadata": {
            "tags": []
          },
          "execution_count": 17
        }
      ]
    },
    {
      "metadata": {
        "id": "LiyQphzHEraa",
        "colab_type": "text"
      },
      "cell_type": "markdown",
      "source": [
        "### Counts per Date"
      ]
    },
    {
      "metadata": {
        "id": "Nd9PsJd_Gl6I",
        "colab_type": "code",
        "colab": {
          "base_uri": "https://localhost:8080/",
          "height": 34
        },
        "outputId": "700b278a-9a5e-4de7-f3cd-4ae7321bb40f"
      },
      "cell_type": "code",
      "source": [
        "print(df.Date[0].date())"
      ],
      "execution_count": 18,
      "outputs": [
        {
          "output_type": "stream",
          "text": [
            "2018-12-14\n"
          ],
          "name": "stdout"
        }
      ]
    },
    {
      "metadata": {
        "id": "HXs8LKveEvkU",
        "colab_type": "code",
        "colab": {
          "base_uri": "https://localhost:8080/",
          "height": 814
        },
        "outputId": "8ed4af3a-beda-40bc-ca5a-f258aadbd719"
      },
      "cell_type": "code",
      "source": [
        "import seaborn as sns\n",
        "import numpy as np\n",
        "import matplotlib.pyplot as plt\n",
        "%matplotlib inline\n",
        "sns.set_context('poster')\n",
        "sns.countplot(df.Date)\n",
        "plt.xticks(rotation = 90)\n",
        "plt.show()"
      ],
      "execution_count": 19,
      "outputs": [
        {
          "output_type": "stream",
          "text": [
            "/usr/local/lib/python3.6/dist-packages/seaborn/categorical.py:1428: FutureWarning: remove_na is deprecated and is a private function. Do not use.\n",
            "  stat_data = remove_na(group_data)\n"
          ],
          "name": "stderr"
        },
        {
          "output_type": "display_data",
          "data": {
            "image/png": "[encoded data removed]",
            "text/plain": [
              "<matplotlib.figure.Figure at 0x7f8dd51c86d8>"
            ]
          },
          "metadata": {
            "tags": []
          }
        }
      ]
    },
    {
      "metadata": {
        "id": "bfNp_BNaIxFr",
        "colab_type": "code",
        "colab": {
          "base_uri": "https://localhost:8080/",
          "height": 102
        },
        "outputId": "498b3f6d-0e77-423c-a2da-1a770e38dc62"
      },
      "cell_type": "code",
      "source": [
        "df.isnull().sum()"
      ],
      "execution_count": 20,
      "outputs": [
        {
          "output_type": "execute_result",
          "data": {
            "text/plain": [
              "Date          0\n",
              "Name          0\n",
              "Quantity      0\n",
              "kaat        451\n",
              "dtype: int64"
            ]
          },
          "metadata": {
            "tags": []
          },
          "execution_count": 20
        }
      ]
    },
    {
      "metadata": {
        "id": "YUlIG0NVI2ZL",
        "colab_type": "code",
        "colab": {
          "base_uri": "https://localhost:8080/",
          "height": 289
        },
        "outputId": "cc04abd7-7cf2-45b2-aa56-b83b8c60755f"
      },
      "cell_type": "code",
      "source": [
        "df.Date.value_counts(sort = False)"
      ],
      "execution_count": 21,
      "outputs": [
        {
          "output_type": "execute_result",
          "data": {
            "text/plain": [
              "2018-12-21    20\n",
              "2018-12-18    37\n",
              "2018-12-15    40\n",
              "2018-12-29    28\n",
              "2018-12-23    16\n",
              "2018-12-20    45\n",
              "2018-12-17    40\n",
              "2018-12-31    34\n",
              "2018-12-14    38\n",
              "2018-12-28    27\n",
              "2018-12-22    43\n",
              "2018-12-19    38\n",
              "2018-12-16    47\n",
              "2018-12-30    31\n",
              "2018-12-27     5\n",
              "Name: Date, dtype: int64"
            ]
          },
          "metadata": {
            "tags": []
          },
          "execution_count": 21
        }
      ]
    },
    {
      "metadata": {
        "id": "vegaPxckns74",
        "colab_type": "text"
      },
      "cell_type": "markdown",
      "source": [
        "## unique feets per name"
      ]
    },
    {
      "metadata": {
        "id": "-ITvOwaBwJ1t",
        "colab_type": "code",
        "outputId": "ce9bcf54-4cbf-4ca0-940c-8aed190e75bf",
        "colab": {
          "base_uri": "https://localhost:8080/",
          "height": 34
        }
      },
      "cell_type": "code",
      "source": [
        "group = df.groupby(df.Name)\n",
        "group"
      ],
      "execution_count": 22,
      "outputs": [
        {
          "output_type": "execute_result",
          "data": {
            "text/plain": [
              "<pandas.core.groupby.DataFrameGroupBy object at 0x7f8dd50ab160>"
            ]
          },
          "metadata": {
            "tags": []
          },
          "execution_count": 22
        }
      ]
    },
    {
      "metadata": {
        "id": "ndW_Qg-IwSkJ",
        "colab_type": "code",
        "outputId": "d43e7c3b-e245-48be-f617-9ff7a4d63156",
        "colab": {
          "base_uri": "https://localhost:8080/",
          "height": 697
        }
      },
      "cell_type": "code",
      "source": [
        "for i, j in group:\n",
        "  print(i, j.Quantity.unique(), '\\n')"
      ],
      "execution_count": 23,
      "outputs": [
        {
          "output_type": "stream",
          "text": [
            "aarif [416 386] \n",
            "\n",
            "aashu [400 410 430 450] \n",
            "\n",
            "akram [400 370 380 390] \n",
            "\n",
            "amjad [411 381 401] \n",
            "\n",
            "farookh [409 379 399 420] \n",
            "\n",
            "gulfam [500 470 490 480 450] \n",
            "\n",
            "hasan [360 330 538 488] \n",
            "\n",
            "intazar [425 395 517] \n",
            "\n",
            "jabir [419 389 409] \n",
            "\n",
            "kayum [450] \n",
            "\n",
            "mustakim [405] \n",
            "\n",
            "rafakat [538 508 528 518] \n",
            "\n",
            "rasid [380 538] \n",
            "\n",
            "safi [462 432 452 412] \n",
            "\n",
            "sehzad [401 371 391 386] \n",
            "\n",
            "shabir [470] \n",
            "\n",
            "shokeen [453] \n",
            "\n",
            "toheed [486 456 476] \n",
            "\n",
            "wazid [399 419 389 409] \n",
            "\n",
            "zakir [436 406 426] \n",
            "\n"
          ],
          "name": "stdout"
        }
      ]
    },
    {
      "metadata": {
        "id": "0y2uPtUlJ6jo",
        "colab_type": "text"
      },
      "cell_type": "markdown",
      "source": [
        "# Diesel"
      ]
    },
    {
      "metadata": {
        "id": "O5znZR4bJ8Ri",
        "colab_type": "code",
        "colab": {
          "base_uri": "https://localhost:8080/",
          "height": 287
        },
        "outputId": "74d049cb-08f3-4fd9-eef8-6ae1c4f99f72"
      },
      "cell_type": "code",
      "source": [
        "diesel = pd.read_excel('kansepur bill2.xlsx', 'Sheet2')\n",
        "diesel.head()"
      ],
      "execution_count": 24,
      "outputs": [
        {
          "output_type": "execute_result",
          "data": {
            "text/html": [
              "<div>\n",
              "<style scoped>\n",
              "    .dataframe tbody tr th:only-of-type {\n",
              "        vertical-align: middle;\n",
              "    }\n",
              "\n",
              "    .dataframe tbody tr th {\n",
              "        vertical-align: top;\n",
              "    }\n",
              "\n",
              "    .dataframe thead th {\n",
              "        text-align: right;\n",
              "    }\n",
              "</style>\n",
              "<table border=\"1\" class=\"dataframe\">\n",
              "  <thead>\n",
              "    <tr style=\"text-align: right;\">\n",
              "      <th></th>\n",
              "      <th>Name</th>\n",
              "      <th>2019-12-14 00:00:00</th>\n",
              "      <th>2019-12-15 00:00:00</th>\n",
              "      <th>2019-12-16 00:00:00</th>\n",
              "      <th>2019-12-17 00:00:00</th>\n",
              "      <th>2019-12-18 00:00:00</th>\n",
              "      <th>2019-12-19 00:00:00</th>\n",
              "      <th>2019-12-20 00:00:00</th>\n",
              "      <th>2019-12-21 00:00:00</th>\n",
              "      <th>2019-12-22 00:00:00</th>\n",
              "      <th>...</th>\n",
              "      <th>2019-12-27 00:00:00</th>\n",
              "      <th>2019-12-28 00:00:00</th>\n",
              "      <th>2019-12-29 00:00:00</th>\n",
              "      <th>2019-12-30 00:00:00</th>\n",
              "      <th>2019-12-31 00:00:00</th>\n",
              "      <th>Diesel</th>\n",
              "      <th>Cash</th>\n",
              "      <th>in</th>\n",
              "      <th>out</th>\n",
              "      <th>balance</th>\n",
              "    </tr>\n",
              "  </thead>\n",
              "  <tbody>\n",
              "    <tr>\n",
              "      <th>0</th>\n",
              "      <td>aarif</td>\n",
              "      <td>1500</td>\n",
              "      <td>1500</td>\n",
              "      <td>2000</td>\n",
              "      <td>0</td>\n",
              "      <td>2000</td>\n",
              "      <td>1000</td>\n",
              "      <td>1000</td>\n",
              "      <td>0</td>\n",
              "      <td>2000</td>\n",
              "      <td>...</td>\n",
              "      <td>0</td>\n",
              "      <td>1500</td>\n",
              "      <td>2000</td>\n",
              "      <td>2000</td>\n",
              "      <td>2000</td>\n",
              "      <td>18500.0</td>\n",
              "      <td>28.0</td>\n",
              "      <td>NaN</td>\n",
              "      <td>NaN</td>\n",
              "      <td>NaN</td>\n",
              "    </tr>\n",
              "    <tr>\n",
              "      <th>1</th>\n",
              "      <td>aashu</td>\n",
              "      <td>0</td>\n",
              "      <td>0</td>\n",
              "      <td>0</td>\n",
              "      <td>0</td>\n",
              "      <td>0</td>\n",
              "      <td>2000</td>\n",
              "      <td>2000</td>\n",
              "      <td>2000</td>\n",
              "      <td>0</td>\n",
              "      <td>...</td>\n",
              "      <td>0</td>\n",
              "      <td>0</td>\n",
              "      <td>0</td>\n",
              "      <td>2000</td>\n",
              "      <td>0</td>\n",
              "      <td>9000.0</td>\n",
              "      <td>900.0</td>\n",
              "      <td>NaN</td>\n",
              "      <td>NaN</td>\n",
              "      <td>NaN</td>\n",
              "    </tr>\n",
              "    <tr>\n",
              "      <th>2</th>\n",
              "      <td>akram</td>\n",
              "      <td>2500</td>\n",
              "      <td>2000</td>\n",
              "      <td>2000</td>\n",
              "      <td>2000</td>\n",
              "      <td>0</td>\n",
              "      <td>1500</td>\n",
              "      <td>1500</td>\n",
              "      <td>0</td>\n",
              "      <td>1500</td>\n",
              "      <td>...</td>\n",
              "      <td>0</td>\n",
              "      <td>0</td>\n",
              "      <td>0</td>\n",
              "      <td>0</td>\n",
              "      <td>0</td>\n",
              "      <td>NaN</td>\n",
              "      <td>15000.0</td>\n",
              "      <td>NaN</td>\n",
              "      <td>NaN</td>\n",
              "      <td>NaN</td>\n",
              "    </tr>\n",
              "    <tr>\n",
              "      <th>3</th>\n",
              "      <td>amjad</td>\n",
              "      <td>2250</td>\n",
              "      <td>2000</td>\n",
              "      <td>2000</td>\n",
              "      <td>2000</td>\n",
              "      <td>1400</td>\n",
              "      <td>0</td>\n",
              "      <td>0</td>\n",
              "      <td>2000</td>\n",
              "      <td>2000</td>\n",
              "      <td>...</td>\n",
              "      <td>0</td>\n",
              "      <td>0</td>\n",
              "      <td>0</td>\n",
              "      <td>0</td>\n",
              "      <td>0</td>\n",
              "      <td>13650.0</td>\n",
              "      <td>16000.0</td>\n",
              "      <td>NaN</td>\n",
              "      <td>NaN</td>\n",
              "      <td>NaN</td>\n",
              "    </tr>\n",
              "    <tr>\n",
              "      <th>4</th>\n",
              "      <td>farookh</td>\n",
              "      <td>2000</td>\n",
              "      <td>2000</td>\n",
              "      <td>2000</td>\n",
              "      <td>0</td>\n",
              "      <td>0</td>\n",
              "      <td>0</td>\n",
              "      <td>0</td>\n",
              "      <td>2020</td>\n",
              "      <td>0</td>\n",
              "      <td>...</td>\n",
              "      <td>2000</td>\n",
              "      <td>2000</td>\n",
              "      <td>2000</td>\n",
              "      <td>2000</td>\n",
              "      <td>0</td>\n",
              "      <td>16020.0</td>\n",
              "      <td>10500.0</td>\n",
              "      <td>NaN</td>\n",
              "      <td>NaN</td>\n",
              "      <td>NaN</td>\n",
              "    </tr>\n",
              "  </tbody>\n",
              "</table>\n",
              "<p>5 rows × 21 columns</p>\n",
              "</div>"
            ],
            "text/plain": [
              "      Name  2019-12-14 00:00:00  2019-12-15 00:00:00  2019-12-16 00:00:00  \\\n",
              "0    aarif                 1500                 1500                 2000   \n",
              "1    aashu                    0                    0                    0   \n",
              "2    akram                 2500                 2000                 2000   \n",
              "3    amjad                 2250                 2000                 2000   \n",
              "4  farookh                 2000                 2000                 2000   \n",
              "\n",
              "   2019-12-17 00:00:00  2019-12-18 00:00:00  2019-12-19 00:00:00  \\\n",
              "0                    0                 2000                 1000   \n",
              "1                    0                    0                 2000   \n",
              "2                 2000                    0                 1500   \n",
              "3                 2000                 1400                    0   \n",
              "4                    0                    0                    0   \n",
              "\n",
              "   2019-12-20 00:00:00  2019-12-21 00:00:00  2019-12-22 00:00:00   ...     \\\n",
              "0                 1000                    0                 2000   ...      \n",
              "1                 2000                 2000                    0   ...      \n",
              "2                 1500                    0                 1500   ...      \n",
              "3                    0                 2000                 2000   ...      \n",
              "4                    0                 2020                    0   ...      \n",
              "\n",
              "   2019-12-27 00:00:00  2019-12-28 00:00:00  2019-12-29 00:00:00  \\\n",
              "0                    0                 1500                 2000   \n",
              "1                    0                    0                    0   \n",
              "2                    0                    0                    0   \n",
              "3                    0                    0                    0   \n",
              "4                 2000                 2000                 2000   \n",
              "\n",
              "   2019-12-30 00:00:00  2019-12-31 00:00:00   Diesel     Cash  in  out  \\\n",
              "0                 2000                 2000  18500.0     28.0 NaN  NaN   \n",
              "1                 2000                    0   9000.0    900.0 NaN  NaN   \n",
              "2                    0                    0      NaN  15000.0 NaN  NaN   \n",
              "3                    0                    0  13650.0  16000.0 NaN  NaN   \n",
              "4                 2000                    0  16020.0  10500.0 NaN  NaN   \n",
              "\n",
              "   balance  \n",
              "0      NaN  \n",
              "1      NaN  \n",
              "2      NaN  \n",
              "3      NaN  \n",
              "4      NaN  \n",
              "\n",
              "[5 rows x 21 columns]"
            ]
          },
          "metadata": {
            "tags": []
          },
          "execution_count": 24
        }
      ]
    },
    {
      "metadata": {
        "id": "aNms0DItMFZ8",
        "colab_type": "code",
        "colab": {
          "base_uri": "https://localhost:8080/",
          "height": 34
        },
        "outputId": "c8373325-613b-4d70-a3ec-f2e46a067069"
      },
      "cell_type": "code",
      "source": [
        "diesel.shape"
      ],
      "execution_count": 48,
      "outputs": [
        {
          "output_type": "execute_result",
          "data": {
            "text/plain": [
              "(24, 3)"
            ]
          },
          "metadata": {
            "tags": []
          },
          "execution_count": 48
        }
      ]
    },
    {
      "metadata": {
        "id": "hISVmorfLybA",
        "colab_type": "code",
        "colab": {
          "base_uri": "https://localhost:8080/",
          "height": 111
        },
        "outputId": "4de21dbd-21b2-4db6-aa74-5727407bf41f"
      },
      "cell_type": "code",
      "source": [
        "df.head(2)"
      ],
      "execution_count": 25,
      "outputs": [
        {
          "output_type": "execute_result",
          "data": {
            "text/html": [
              "<div>\n",
              "<style scoped>\n",
              "    .dataframe tbody tr th:only-of-type {\n",
              "        vertical-align: middle;\n",
              "    }\n",
              "\n",
              "    .dataframe tbody tr th {\n",
              "        vertical-align: top;\n",
              "    }\n",
              "\n",
              "    .dataframe thead th {\n",
              "        text-align: right;\n",
              "    }\n",
              "</style>\n",
              "<table border=\"1\" class=\"dataframe\">\n",
              "  <thead>\n",
              "    <tr style=\"text-align: right;\">\n",
              "      <th></th>\n",
              "      <th>Date</th>\n",
              "      <th>Name</th>\n",
              "      <th>Quantity</th>\n",
              "      <th>kaat</th>\n",
              "    </tr>\n",
              "  </thead>\n",
              "  <tbody>\n",
              "    <tr>\n",
              "      <th>0</th>\n",
              "      <td>2018-12-14</td>\n",
              "      <td>jabir</td>\n",
              "      <td>419</td>\n",
              "      <td>NaN</td>\n",
              "    </tr>\n",
              "    <tr>\n",
              "      <th>1</th>\n",
              "      <td>2018-12-14</td>\n",
              "      <td>zakir</td>\n",
              "      <td>436</td>\n",
              "      <td>NaN</td>\n",
              "    </tr>\n",
              "  </tbody>\n",
              "</table>\n",
              "</div>"
            ],
            "text/plain": [
              "        Date   Name  Quantity  kaat\n",
              "0 2018-12-14  jabir       419   NaN\n",
              "1 2018-12-14  zakir       436   NaN"
            ]
          },
          "metadata": {
            "tags": []
          },
          "execution_count": 25
        }
      ]
    },
    {
      "metadata": {
        "id": "jsQ52FyRCZz9",
        "colab_type": "text"
      },
      "cell_type": "markdown",
      "source": [
        "# Total Quantity per name"
      ]
    },
    {
      "metadata": {
        "id": "aAtFy8oyD3dM",
        "colab_type": "code",
        "colab": {}
      },
      "cell_type": "code",
      "source": [
        "name_groups = df.groupby('Name')\n",
        "name_total_quantity = pd.DataFrame(columns = ['Name', 'Total Quantity'])\n",
        "for i, j in name_groups:\n",
        "  name_total_quantity = name_total_quantity.append({'Name':i, 'Total Quantity': sum(j.Quantity)}, ignore_index = True)\n",
        "  \n",
        "name_total_quantity.sort_values(by = ['Total Quantity'], ascending = False, inplace = True)"
      ],
      "execution_count": 0,
      "outputs": []
    },
    {
      "metadata": {
        "id": "4VCgjQr2INk1",
        "colab_type": "code",
        "colab": {
          "base_uri": "https://localhost:8080/",
          "height": 669
        },
        "outputId": "bbacd9a1-b771-491f-962d-fc73af1382e1"
      },
      "cell_type": "code",
      "source": [
        "name_total_quantity"
      ],
      "execution_count": 27,
      "outputs": [
        {
          "output_type": "execute_result",
          "data": {
            "text/html": [
              "<div>\n",
              "<style scoped>\n",
              "    .dataframe tbody tr th:only-of-type {\n",
              "        vertical-align: middle;\n",
              "    }\n",
              "\n",
              "    .dataframe tbody tr th {\n",
              "        vertical-align: top;\n",
              "    }\n",
              "\n",
              "    .dataframe thead th {\n",
              "        text-align: right;\n",
              "    }\n",
              "</style>\n",
              "<table border=\"1\" class=\"dataframe\">\n",
              "  <thead>\n",
              "    <tr style=\"text-align: right;\">\n",
              "      <th></th>\n",
              "      <th>Name</th>\n",
              "      <th>Total Quantity</th>\n",
              "    </tr>\n",
              "  </thead>\n",
              "  <tbody>\n",
              "    <tr>\n",
              "      <th>17</th>\n",
              "      <td>toheed</td>\n",
              "      <td>16444</td>\n",
              "    </tr>\n",
              "    <tr>\n",
              "      <th>8</th>\n",
              "      <td>jabir</td>\n",
              "      <td>15882</td>\n",
              "    </tr>\n",
              "    <tr>\n",
              "      <th>18</th>\n",
              "      <td>wazid</td>\n",
              "      <td>14525</td>\n",
              "    </tr>\n",
              "    <tr>\n",
              "      <th>6</th>\n",
              "      <td>hasan</td>\n",
              "      <td>13758</td>\n",
              "    </tr>\n",
              "    <tr>\n",
              "      <th>0</th>\n",
              "      <td>aarif</td>\n",
              "      <td>13282</td>\n",
              "    </tr>\n",
              "    <tr>\n",
              "      <th>13</th>\n",
              "      <td>safi</td>\n",
              "      <td>13258</td>\n",
              "    </tr>\n",
              "    <tr>\n",
              "      <th>7</th>\n",
              "      <td>intazar</td>\n",
              "      <td>13009</td>\n",
              "    </tr>\n",
              "    <tr>\n",
              "      <th>5</th>\n",
              "      <td>gulfam</td>\n",
              "      <td>12870</td>\n",
              "    </tr>\n",
              "    <tr>\n",
              "      <th>11</th>\n",
              "      <td>rafakat</td>\n",
              "      <td>12852</td>\n",
              "    </tr>\n",
              "    <tr>\n",
              "      <th>4</th>\n",
              "      <td>farookh</td>\n",
              "      <td>11146</td>\n",
              "    </tr>\n",
              "    <tr>\n",
              "      <th>3</th>\n",
              "      <td>amjad</td>\n",
              "      <td>11057</td>\n",
              "    </tr>\n",
              "    <tr>\n",
              "      <th>2</th>\n",
              "      <td>akram</td>\n",
              "      <td>9520</td>\n",
              "    </tr>\n",
              "    <tr>\n",
              "      <th>14</th>\n",
              "      <td>sehzad</td>\n",
              "      <td>9168</td>\n",
              "    </tr>\n",
              "    <tr>\n",
              "      <th>15</th>\n",
              "      <td>shabir</td>\n",
              "      <td>8930</td>\n",
              "    </tr>\n",
              "    <tr>\n",
              "      <th>19</th>\n",
              "      <td>zakir</td>\n",
              "      <td>8244</td>\n",
              "    </tr>\n",
              "    <tr>\n",
              "      <th>12</th>\n",
              "      <td>rasid</td>\n",
              "      <td>8138</td>\n",
              "    </tr>\n",
              "    <tr>\n",
              "      <th>10</th>\n",
              "      <td>mustakim</td>\n",
              "      <td>8100</td>\n",
              "    </tr>\n",
              "    <tr>\n",
              "      <th>16</th>\n",
              "      <td>shokeen</td>\n",
              "      <td>4983</td>\n",
              "    </tr>\n",
              "    <tr>\n",
              "      <th>1</th>\n",
              "      <td>aashu</td>\n",
              "      <td>4620</td>\n",
              "    </tr>\n",
              "    <tr>\n",
              "      <th>9</th>\n",
              "      <td>kayum</td>\n",
              "      <td>4050</td>\n",
              "    </tr>\n",
              "  </tbody>\n",
              "</table>\n",
              "</div>"
            ],
            "text/plain": [
              "        Name Total Quantity\n",
              "17    toheed          16444\n",
              "8      jabir          15882\n",
              "18     wazid          14525\n",
              "6      hasan          13758\n",
              "0      aarif          13282\n",
              "13      safi          13258\n",
              "7    intazar          13009\n",
              "5     gulfam          12870\n",
              "11   rafakat          12852\n",
              "4    farookh          11146\n",
              "3      amjad          11057\n",
              "2      akram           9520\n",
              "14    sehzad           9168\n",
              "15    shabir           8930\n",
              "19     zakir           8244\n",
              "12     rasid           8138\n",
              "10  mustakim           8100\n",
              "16   shokeen           4983\n",
              "1      aashu           4620\n",
              "9      kayum           4050"
            ]
          },
          "metadata": {
            "tags": []
          },
          "execution_count": 27
        }
      ]
    },
    {
      "metadata": {
        "id": "INqOC5E_EZTz",
        "colab_type": "code",
        "colab": {
          "base_uri": "https://localhost:8080/",
          "height": 163
        },
        "outputId": "09e86f53-05fd-4b69-e00c-3671bf2e4be7"
      },
      "cell_type": "code",
      "source": [
        "diesel.head(1)"
      ],
      "execution_count": 28,
      "outputs": [
        {
          "output_type": "execute_result",
          "data": {
            "text/html": [
              "<div>\n",
              "<style scoped>\n",
              "    .dataframe tbody tr th:only-of-type {\n",
              "        vertical-align: middle;\n",
              "    }\n",
              "\n",
              "    .dataframe tbody tr th {\n",
              "        vertical-align: top;\n",
              "    }\n",
              "\n",
              "    .dataframe thead th {\n",
              "        text-align: right;\n",
              "    }\n",
              "</style>\n",
              "<table border=\"1\" class=\"dataframe\">\n",
              "  <thead>\n",
              "    <tr style=\"text-align: right;\">\n",
              "      <th></th>\n",
              "      <th>Name</th>\n",
              "      <th>2019-12-14 00:00:00</th>\n",
              "      <th>2019-12-15 00:00:00</th>\n",
              "      <th>2019-12-16 00:00:00</th>\n",
              "      <th>2019-12-17 00:00:00</th>\n",
              "      <th>2019-12-18 00:00:00</th>\n",
              "      <th>2019-12-19 00:00:00</th>\n",
              "      <th>2019-12-20 00:00:00</th>\n",
              "      <th>2019-12-21 00:00:00</th>\n",
              "      <th>2019-12-22 00:00:00</th>\n",
              "      <th>...</th>\n",
              "      <th>2019-12-27 00:00:00</th>\n",
              "      <th>2019-12-28 00:00:00</th>\n",
              "      <th>2019-12-29 00:00:00</th>\n",
              "      <th>2019-12-30 00:00:00</th>\n",
              "      <th>2019-12-31 00:00:00</th>\n",
              "      <th>Diesel</th>\n",
              "      <th>Cash</th>\n",
              "      <th>in</th>\n",
              "      <th>out</th>\n",
              "      <th>balance</th>\n",
              "    </tr>\n",
              "  </thead>\n",
              "  <tbody>\n",
              "    <tr>\n",
              "      <th>0</th>\n",
              "      <td>aarif</td>\n",
              "      <td>1500</td>\n",
              "      <td>1500</td>\n",
              "      <td>2000</td>\n",
              "      <td>0</td>\n",
              "      <td>2000</td>\n",
              "      <td>1000</td>\n",
              "      <td>1000</td>\n",
              "      <td>0</td>\n",
              "      <td>2000</td>\n",
              "      <td>...</td>\n",
              "      <td>0</td>\n",
              "      <td>1500</td>\n",
              "      <td>2000</td>\n",
              "      <td>2000</td>\n",
              "      <td>2000</td>\n",
              "      <td>18500.0</td>\n",
              "      <td>28.0</td>\n",
              "      <td>NaN</td>\n",
              "      <td>NaN</td>\n",
              "      <td>NaN</td>\n",
              "    </tr>\n",
              "  </tbody>\n",
              "</table>\n",
              "<p>1 rows × 21 columns</p>\n",
              "</div>"
            ],
            "text/plain": [
              "    Name  2019-12-14 00:00:00  2019-12-15 00:00:00  2019-12-16 00:00:00  \\\n",
              "0  aarif                 1500                 1500                 2000   \n",
              "\n",
              "   2019-12-17 00:00:00  2019-12-18 00:00:00  2019-12-19 00:00:00  \\\n",
              "0                    0                 2000                 1000   \n",
              "\n",
              "   2019-12-20 00:00:00  2019-12-21 00:00:00  2019-12-22 00:00:00   ...     \\\n",
              "0                 1000                    0                 2000   ...      \n",
              "\n",
              "   2019-12-27 00:00:00  2019-12-28 00:00:00  2019-12-29 00:00:00  \\\n",
              "0                    0                 1500                 2000   \n",
              "\n",
              "   2019-12-30 00:00:00  2019-12-31 00:00:00   Diesel  Cash  in  out  balance  \n",
              "0                 2000                 2000  18500.0  28.0 NaN  NaN      NaN  \n",
              "\n",
              "[1 rows x 21 columns]"
            ]
          },
          "metadata": {
            "tags": []
          },
          "execution_count": 28
        }
      ]
    },
    {
      "metadata": {
        "id": "IKei-78JFgBM",
        "colab_type": "code",
        "colab": {
          "base_uri": "https://localhost:8080/",
          "height": 102
        },
        "outputId": "c288c45d-ecda-4fbb-81e5-f27cfca422a9"
      },
      "cell_type": "code",
      "source": [
        "for i in range(len(diesel)):\n",
        "  diesel.Diesel[i] = sum(diesel.iloc[i, 1:-5])"
      ],
      "execution_count": 30,
      "outputs": [
        {
          "output_type": "stream",
          "text": [
            "/usr/local/lib/python3.6/dist-packages/ipykernel_launcher.py:2: SettingWithCopyWarning: \n",
            "A value is trying to be set on a copy of a slice from a DataFrame\n",
            "\n",
            "See the caveats in the documentation: http://pandas.pydata.org/pandas-docs/stable/indexing.html#indexing-view-versus-copy\n",
            "  \n"
          ],
          "name": "stderr"
        }
      ]
    },
    {
      "metadata": {
        "id": "2yjavOQTNghu",
        "colab_type": "code",
        "colab": {
          "base_uri": "https://localhost:8080/",
          "height": 793
        },
        "outputId": "2eaddcc4-e751-43e6-fbfb-02cee1079bca"
      },
      "cell_type": "code",
      "source": [
        "diesel = diesel[['Name', 'Diesel', 'Cash']]\n",
        "diesel.sort_values(by = 'Diesel', ascending = False, inplace = True)\n",
        "diesel"
      ],
      "execution_count": 33,
      "outputs": [
        {
          "output_type": "execute_result",
          "data": {
            "text/html": [
              "<div>\n",
              "<style scoped>\n",
              "    .dataframe tbody tr th:only-of-type {\n",
              "        vertical-align: middle;\n",
              "    }\n",
              "\n",
              "    .dataframe tbody tr th {\n",
              "        vertical-align: top;\n",
              "    }\n",
              "\n",
              "    .dataframe thead th {\n",
              "        text-align: right;\n",
              "    }\n",
              "</style>\n",
              "<table border=\"1\" class=\"dataframe\">\n",
              "  <thead>\n",
              "    <tr style=\"text-align: right;\">\n",
              "      <th></th>\n",
              "      <th>Name</th>\n",
              "      <th>Diesel</th>\n",
              "      <th>Cash</th>\n",
              "    </tr>\n",
              "  </thead>\n",
              "  <tbody>\n",
              "    <tr>\n",
              "      <th>23</th>\n",
              "      <td>Zztotal</td>\n",
              "      <td>360180.0</td>\n",
              "      <td>NaN</td>\n",
              "    </tr>\n",
              "    <tr>\n",
              "      <th>11</th>\n",
              "      <td>poclain</td>\n",
              "      <td>56000.0</td>\n",
              "      <td>0.0</td>\n",
              "    </tr>\n",
              "    <tr>\n",
              "      <th>19</th>\n",
              "      <td>toheed</td>\n",
              "      <td>23294.0</td>\n",
              "      <td>0.0</td>\n",
              "    </tr>\n",
              "    <tr>\n",
              "      <th>20</th>\n",
              "      <td>wajid</td>\n",
              "      <td>21500.0</td>\n",
              "      <td>15016.0</td>\n",
              "    </tr>\n",
              "    <tr>\n",
              "      <th>5</th>\n",
              "      <td>gulfam</td>\n",
              "      <td>21500.0</td>\n",
              "      <td>10000.0</td>\n",
              "    </tr>\n",
              "    <tr>\n",
              "      <th>6</th>\n",
              "      <td>hasan</td>\n",
              "      <td>20500.0</td>\n",
              "      <td>19100.0</td>\n",
              "    </tr>\n",
              "    <tr>\n",
              "      <th>7</th>\n",
              "      <td>intazar</td>\n",
              "      <td>18870.0</td>\n",
              "      <td>7500.0</td>\n",
              "    </tr>\n",
              "    <tr>\n",
              "      <th>0</th>\n",
              "      <td>aarif</td>\n",
              "      <td>18500.0</td>\n",
              "      <td>28.0</td>\n",
              "    </tr>\n",
              "    <tr>\n",
              "      <th>15</th>\n",
              "      <td>safi</td>\n",
              "      <td>18300.0</td>\n",
              "      <td>19040.0</td>\n",
              "    </tr>\n",
              "    <tr>\n",
              "      <th>12</th>\n",
              "      <td>rafakat</td>\n",
              "      <td>16500.0</td>\n",
              "      <td>1000.0</td>\n",
              "    </tr>\n",
              "    <tr>\n",
              "      <th>4</th>\n",
              "      <td>farookh</td>\n",
              "      <td>16020.0</td>\n",
              "      <td>10500.0</td>\n",
              "    </tr>\n",
              "    <tr>\n",
              "      <th>8</th>\n",
              "      <td>jabir</td>\n",
              "      <td>16000.0</td>\n",
              "      <td>0.0</td>\n",
              "    </tr>\n",
              "    <tr>\n",
              "      <th>21</th>\n",
              "      <td>zakir</td>\n",
              "      <td>14006.0</td>\n",
              "      <td>0.0</td>\n",
              "    </tr>\n",
              "    <tr>\n",
              "      <th>17</th>\n",
              "      <td>shabir</td>\n",
              "      <td>14000.0</td>\n",
              "      <td>10000.0</td>\n",
              "    </tr>\n",
              "    <tr>\n",
              "      <th>3</th>\n",
              "      <td>amjad</td>\n",
              "      <td>13650.0</td>\n",
              "      <td>16000.0</td>\n",
              "    </tr>\n",
              "    <tr>\n",
              "      <th>2</th>\n",
              "      <td>akram</td>\n",
              "      <td>13000.0</td>\n",
              "      <td>15000.0</td>\n",
              "    </tr>\n",
              "    <tr>\n",
              "      <th>10</th>\n",
              "      <td>mustakim</td>\n",
              "      <td>11000.0</td>\n",
              "      <td>0.0</td>\n",
              "    </tr>\n",
              "    <tr>\n",
              "      <th>16</th>\n",
              "      <td>sehzad</td>\n",
              "      <td>10580.0</td>\n",
              "      <td>10056.0</td>\n",
              "    </tr>\n",
              "    <tr>\n",
              "      <th>13</th>\n",
              "      <td>rasid</td>\n",
              "      <td>9960.0</td>\n",
              "      <td>0.0</td>\n",
              "    </tr>\n",
              "    <tr>\n",
              "      <th>1</th>\n",
              "      <td>aashu</td>\n",
              "      <td>9000.0</td>\n",
              "      <td>900.0</td>\n",
              "    </tr>\n",
              "    <tr>\n",
              "      <th>18</th>\n",
              "      <td>shokeen</td>\n",
              "      <td>8000.0</td>\n",
              "      <td>0.0</td>\n",
              "    </tr>\n",
              "    <tr>\n",
              "      <th>9</th>\n",
              "      <td>kayum</td>\n",
              "      <td>6000.0</td>\n",
              "      <td>0.0</td>\n",
              "    </tr>\n",
              "    <tr>\n",
              "      <th>14</th>\n",
              "      <td>sabir jcb</td>\n",
              "      <td>4000.0</td>\n",
              "      <td>0.0</td>\n",
              "    </tr>\n",
              "    <tr>\n",
              "      <th>22</th>\n",
              "      <td>cash</td>\n",
              "      <td>2000.0</td>\n",
              "      <td>NaN</td>\n",
              "    </tr>\n",
              "  </tbody>\n",
              "</table>\n",
              "</div>"
            ],
            "text/plain": [
              "         Name    Diesel     Cash\n",
              "23    Zztotal  360180.0      NaN\n",
              "11    poclain   56000.0      0.0\n",
              "19     toheed   23294.0      0.0\n",
              "20      wajid   21500.0  15016.0\n",
              "5      gulfam   21500.0  10000.0\n",
              "6       hasan   20500.0  19100.0\n",
              "7     intazar   18870.0   7500.0\n",
              "0       aarif   18500.0     28.0\n",
              "15       safi   18300.0  19040.0\n",
              "12    rafakat   16500.0   1000.0\n",
              "4     farookh   16020.0  10500.0\n",
              "8       jabir   16000.0      0.0\n",
              "21      zakir   14006.0      0.0\n",
              "17     shabir   14000.0  10000.0\n",
              "3       amjad   13650.0  16000.0\n",
              "2       akram   13000.0  15000.0\n",
              "10   mustakim   11000.0      0.0\n",
              "16     sehzad   10580.0  10056.0\n",
              "13      rasid    9960.0      0.0\n",
              "1       aashu    9000.0    900.0\n",
              "18    shokeen    8000.0      0.0\n",
              "9       kayum    6000.0      0.0\n",
              "14  sabir jcb    4000.0      0.0\n",
              "22       cash    2000.0      NaN"
            ]
          },
          "metadata": {
            "tags": []
          },
          "execution_count": 33
        }
      ]
    },
    {
      "metadata": {
        "id": "cJvCrs5eHUzH",
        "colab_type": "code",
        "colab": {
          "base_uri": "https://localhost:8080/",
          "height": 34
        },
        "outputId": "37122dab-cc37-4cb0-8597-f5ab8c55b448"
      },
      "cell_type": "code",
      "source": [
        "name_total_quantity.shape"
      ],
      "execution_count": 35,
      "outputs": [
        {
          "output_type": "execute_result",
          "data": {
            "text/plain": [
              "(20, 2)"
            ]
          },
          "metadata": {
            "tags": []
          },
          "execution_count": 35
        }
      ]
    },
    {
      "metadata": {
        "id": "bIgFlZSgHZ2Z",
        "colab_type": "code",
        "colab": {
          "base_uri": "https://localhost:8080/",
          "height": 34
        },
        "outputId": "e24cc8b7-7d9e-4a18-bf01-12d85c8aaf94"
      },
      "cell_type": "code",
      "source": [
        "diesel.shape"
      ],
      "execution_count": 36,
      "outputs": [
        {
          "output_type": "execute_result",
          "data": {
            "text/plain": [
              "(24, 3)"
            ]
          },
          "metadata": {
            "tags": []
          },
          "execution_count": 36
        }
      ]
    },
    {
      "metadata": {
        "id": "Dt0tY1MmKWaE",
        "colab_type": "code",
        "colab": {}
      },
      "cell_type": "code",
      "source": [
        "final = pd.DataFrame(columns = ['Name','Count' , 'Total Quantity', 'Amount', 'Diesel', 'Amount - Diesel','Cash', 'Balance(Amount - Diesel - Cash)'])\n",
        "for i in range(len(name_total_quantity)):\n",
        "  for j in range(len(diesel)):\n",
        "    if name_total_quantity.Name[i] == diesel.Name[j]:\n",
        "      final = final.append({'Name': diesel.Name[j],'Total Quantity':name_total_quantity['Total Quantity'][i] ,\n",
        "                            'Count':quantity_per_name.get(diesel.Name[j]),\n",
        "                            'Amount':name_total_quantity['Total Quantity'][i]*3,\n",
        "                            'Diesel':diesel.Diesel[j],\n",
        "                            'Amount - Diesel':name_total_quantity['Total Quantity'][i]*3 - diesel.Diesel[j],\n",
        "                            'Cash':diesel['Cash'][j],\n",
        "                           'Balance(Amount - Diesel - Cash)': name_total_quantity['Total Quantity'][i]*3 - diesel.Diesel[j] - diesel['Cash'][j]},\n",
        "                           ignore_index = True)\n",
        "    "
      ],
      "execution_count": 0,
      "outputs": []
    },
    {
      "metadata": {
        "id": "pqq9bOw3M6j4",
        "colab_type": "code",
        "colab": {
          "base_uri": "https://localhost:8080/",
          "height": 638
        },
        "outputId": "f50ee14e-8015-478b-c719-17ce822e48e7"
      },
      "cell_type": "code",
      "source": [
        "final.sort_values(by = 'Total Quantity', ascending = False, inplace = True)\n",
        "final"
      ],
      "execution_count": 47,
      "outputs": [
        {
          "output_type": "execute_result",
          "data": {
            "text/html": [
              "<div>\n",
              "<style scoped>\n",
              "    .dataframe tbody tr th:only-of-type {\n",
              "        vertical-align: middle;\n",
              "    }\n",
              "\n",
              "    .dataframe tbody tr th {\n",
              "        vertical-align: top;\n",
              "    }\n",
              "\n",
              "    .dataframe thead th {\n",
              "        text-align: right;\n",
              "    }\n",
              "</style>\n",
              "<table border=\"1\" class=\"dataframe\">\n",
              "  <thead>\n",
              "    <tr style=\"text-align: right;\">\n",
              "      <th></th>\n",
              "      <th>Name</th>\n",
              "      <th>Count</th>\n",
              "      <th>Total Quantity</th>\n",
              "      <th>Amount</th>\n",
              "      <th>Diesel</th>\n",
              "      <th>Amount - Diesel</th>\n",
              "      <th>Cash</th>\n",
              "      <th>Balance(Amount - Diesel - Cash)</th>\n",
              "    </tr>\n",
              "  </thead>\n",
              "  <tbody>\n",
              "    <tr>\n",
              "      <th>17</th>\n",
              "      <td>toheed</td>\n",
              "      <td>34</td>\n",
              "      <td>16444</td>\n",
              "      <td>49332</td>\n",
              "      <td>23294.0</td>\n",
              "      <td>26038.0</td>\n",
              "      <td>0.0</td>\n",
              "      <td>26038.0</td>\n",
              "    </tr>\n",
              "    <tr>\n",
              "      <th>8</th>\n",
              "      <td>jabir</td>\n",
              "      <td>38</td>\n",
              "      <td>15882</td>\n",
              "      <td>47646</td>\n",
              "      <td>16000.0</td>\n",
              "      <td>31646.0</td>\n",
              "      <td>0.0</td>\n",
              "      <td>31646.0</td>\n",
              "    </tr>\n",
              "    <tr>\n",
              "      <th>6</th>\n",
              "      <td>hasan</td>\n",
              "      <td>33</td>\n",
              "      <td>13758</td>\n",
              "      <td>41274</td>\n",
              "      <td>20500.0</td>\n",
              "      <td>20774.0</td>\n",
              "      <td>19100.0</td>\n",
              "      <td>1674.0</td>\n",
              "    </tr>\n",
              "    <tr>\n",
              "      <th>0</th>\n",
              "      <td>aarif</td>\n",
              "      <td>32</td>\n",
              "      <td>13282</td>\n",
              "      <td>39846</td>\n",
              "      <td>18500.0</td>\n",
              "      <td>21346.0</td>\n",
              "      <td>28.0</td>\n",
              "      <td>21318.0</td>\n",
              "    </tr>\n",
              "    <tr>\n",
              "      <th>13</th>\n",
              "      <td>safi</td>\n",
              "      <td>29</td>\n",
              "      <td>13258</td>\n",
              "      <td>39774</td>\n",
              "      <td>18300.0</td>\n",
              "      <td>21474.0</td>\n",
              "      <td>19040.0</td>\n",
              "      <td>2434.0</td>\n",
              "    </tr>\n",
              "    <tr>\n",
              "      <th>7</th>\n",
              "      <td>intazar</td>\n",
              "      <td>27</td>\n",
              "      <td>13009</td>\n",
              "      <td>39027</td>\n",
              "      <td>18870.0</td>\n",
              "      <td>20157.0</td>\n",
              "      <td>7500.0</td>\n",
              "      <td>12657.0</td>\n",
              "    </tr>\n",
              "    <tr>\n",
              "      <th>5</th>\n",
              "      <td>gulfam</td>\n",
              "      <td>26</td>\n",
              "      <td>12870</td>\n",
              "      <td>38610</td>\n",
              "      <td>21500.0</td>\n",
              "      <td>17110.0</td>\n",
              "      <td>10000.0</td>\n",
              "      <td>7110.0</td>\n",
              "    </tr>\n",
              "    <tr>\n",
              "      <th>11</th>\n",
              "      <td>rafakat</td>\n",
              "      <td>24</td>\n",
              "      <td>12852</td>\n",
              "      <td>38556</td>\n",
              "      <td>16500.0</td>\n",
              "      <td>22056.0</td>\n",
              "      <td>1000.0</td>\n",
              "      <td>21056.0</td>\n",
              "    </tr>\n",
              "    <tr>\n",
              "      <th>4</th>\n",
              "      <td>farookh</td>\n",
              "      <td>27</td>\n",
              "      <td>11146</td>\n",
              "      <td>33438</td>\n",
              "      <td>16020.0</td>\n",
              "      <td>17418.0</td>\n",
              "      <td>10500.0</td>\n",
              "      <td>6918.0</td>\n",
              "    </tr>\n",
              "    <tr>\n",
              "      <th>3</th>\n",
              "      <td>amjad</td>\n",
              "      <td>27</td>\n",
              "      <td>11057</td>\n",
              "      <td>33171</td>\n",
              "      <td>13650.0</td>\n",
              "      <td>19521.0</td>\n",
              "      <td>16000.0</td>\n",
              "      <td>3521.0</td>\n",
              "    </tr>\n",
              "    <tr>\n",
              "      <th>2</th>\n",
              "      <td>akram</td>\n",
              "      <td>24</td>\n",
              "      <td>9520</td>\n",
              "      <td>28560</td>\n",
              "      <td>13000.0</td>\n",
              "      <td>15560.0</td>\n",
              "      <td>15000.0</td>\n",
              "      <td>560.0</td>\n",
              "    </tr>\n",
              "    <tr>\n",
              "      <th>14</th>\n",
              "      <td>sehzad</td>\n",
              "      <td>23</td>\n",
              "      <td>9168</td>\n",
              "      <td>27504</td>\n",
              "      <td>10580.0</td>\n",
              "      <td>16924.0</td>\n",
              "      <td>10056.0</td>\n",
              "      <td>6868.0</td>\n",
              "    </tr>\n",
              "    <tr>\n",
              "      <th>15</th>\n",
              "      <td>shabir</td>\n",
              "      <td>19</td>\n",
              "      <td>8930</td>\n",
              "      <td>26790</td>\n",
              "      <td>14000.0</td>\n",
              "      <td>12790.0</td>\n",
              "      <td>10000.0</td>\n",
              "      <td>2790.0</td>\n",
              "    </tr>\n",
              "    <tr>\n",
              "      <th>18</th>\n",
              "      <td>zakir</td>\n",
              "      <td>19</td>\n",
              "      <td>8244</td>\n",
              "      <td>24732</td>\n",
              "      <td>14006.0</td>\n",
              "      <td>10726.0</td>\n",
              "      <td>0.0</td>\n",
              "      <td>10726.0</td>\n",
              "    </tr>\n",
              "    <tr>\n",
              "      <th>12</th>\n",
              "      <td>rasid</td>\n",
              "      <td>21</td>\n",
              "      <td>8138</td>\n",
              "      <td>24414</td>\n",
              "      <td>9960.0</td>\n",
              "      <td>14454.0</td>\n",
              "      <td>0.0</td>\n",
              "      <td>14454.0</td>\n",
              "    </tr>\n",
              "    <tr>\n",
              "      <th>10</th>\n",
              "      <td>mustakim</td>\n",
              "      <td>20</td>\n",
              "      <td>8100</td>\n",
              "      <td>24300</td>\n",
              "      <td>11000.0</td>\n",
              "      <td>13300.0</td>\n",
              "      <td>0.0</td>\n",
              "      <td>13300.0</td>\n",
              "    </tr>\n",
              "    <tr>\n",
              "      <th>16</th>\n",
              "      <td>shokeen</td>\n",
              "      <td>11</td>\n",
              "      <td>4983</td>\n",
              "      <td>14949</td>\n",
              "      <td>8000.0</td>\n",
              "      <td>6949.0</td>\n",
              "      <td>0.0</td>\n",
              "      <td>6949.0</td>\n",
              "    </tr>\n",
              "    <tr>\n",
              "      <th>1</th>\n",
              "      <td>aashu</td>\n",
              "      <td>11</td>\n",
              "      <td>4620</td>\n",
              "      <td>13860</td>\n",
              "      <td>9000.0</td>\n",
              "      <td>4860.0</td>\n",
              "      <td>900.0</td>\n",
              "      <td>3960.0</td>\n",
              "    </tr>\n",
              "    <tr>\n",
              "      <th>9</th>\n",
              "      <td>kayum</td>\n",
              "      <td>9</td>\n",
              "      <td>4050</td>\n",
              "      <td>12150</td>\n",
              "      <td>6000.0</td>\n",
              "      <td>6150.0</td>\n",
              "      <td>0.0</td>\n",
              "      <td>6150.0</td>\n",
              "    </tr>\n",
              "  </tbody>\n",
              "</table>\n",
              "</div>"
            ],
            "text/plain": [
              "        Name Count Total Quantity Amount   Diesel  Amount - Diesel     Cash  \\\n",
              "17    toheed    34          16444  49332  23294.0          26038.0      0.0   \n",
              "8      jabir    38          15882  47646  16000.0          31646.0      0.0   \n",
              "6      hasan    33          13758  41274  20500.0          20774.0  19100.0   \n",
              "0      aarif    32          13282  39846  18500.0          21346.0     28.0   \n",
              "13      safi    29          13258  39774  18300.0          21474.0  19040.0   \n",
              "7    intazar    27          13009  39027  18870.0          20157.0   7500.0   \n",
              "5     gulfam    26          12870  38610  21500.0          17110.0  10000.0   \n",
              "11   rafakat    24          12852  38556  16500.0          22056.0   1000.0   \n",
              "4    farookh    27          11146  33438  16020.0          17418.0  10500.0   \n",
              "3      amjad    27          11057  33171  13650.0          19521.0  16000.0   \n",
              "2      akram    24           9520  28560  13000.0          15560.0  15000.0   \n",
              "14    sehzad    23           9168  27504  10580.0          16924.0  10056.0   \n",
              "15    shabir    19           8930  26790  14000.0          12790.0  10000.0   \n",
              "18     zakir    19           8244  24732  14006.0          10726.0      0.0   \n",
              "12     rasid    21           8138  24414   9960.0          14454.0      0.0   \n",
              "10  mustakim    20           8100  24300  11000.0          13300.0      0.0   \n",
              "16   shokeen    11           4983  14949   8000.0           6949.0      0.0   \n",
              "1      aashu    11           4620  13860   9000.0           4860.0    900.0   \n",
              "9      kayum     9           4050  12150   6000.0           6150.0      0.0   \n",
              "\n",
              "    Balance(Amount - Diesel - Cash)  \n",
              "17                          26038.0  \n",
              "8                           31646.0  \n",
              "6                            1674.0  \n",
              "0                           21318.0  \n",
              "13                           2434.0  \n",
              "7                           12657.0  \n",
              "5                            7110.0  \n",
              "11                          21056.0  \n",
              "4                            6918.0  \n",
              "3                            3521.0  \n",
              "2                             560.0  \n",
              "14                           6868.0  \n",
              "15                           2790.0  \n",
              "18                          10726.0  \n",
              "12                          14454.0  \n",
              "10                          13300.0  \n",
              "16                           6949.0  \n",
              "1                            3960.0  \n",
              "9                            6150.0  "
            ]
          },
          "metadata": {
            "tags": []
          },
          "execution_count": 47
        }
      ]
    },
    {
      "metadata": {
        "id": "j9mtOxxVNFDu",
        "colab_type": "code",
        "colab": {
          "base_uri": "https://localhost:8080/",
          "height": 34
        },
        "outputId": "bbfb9f38-dbe3-4182-a880-e8396c58d8a5"
      },
      "cell_type": "code",
      "source": [
        "final.shape"
      ],
      "execution_count": 45,
      "outputs": [
        {
          "output_type": "execute_result",
          "data": {
            "text/plain": [
              "(19, 8)"
            ]
          },
          "metadata": {
            "tags": []
          },
          "execution_count": 45
        }
      ]
    },
    {
      "metadata": {
        "id": "_0al7GQXkDXf",
        "colab_type": "code",
        "colab": {}
      },
      "cell_type": "code",
      "source": [
        ""
      ],
      "execution_count": 0,
      "outputs": []
    }
  ]
}