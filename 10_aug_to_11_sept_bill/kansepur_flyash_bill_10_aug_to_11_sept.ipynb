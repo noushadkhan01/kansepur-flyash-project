{
  "nbformat": 4,
  "nbformat_minor": 0,
  "metadata": {
    "colab": {
      "name": "kansepur flyash bill 10 aug to 11 sept.ipynb",
      "version": "0.3.2",
      "provenance": [],
      "collapsed_sections": [],
      "include_colab_link": true
    },
    "kernelspec": {
      "name": "python3",
      "display_name": "Python 3"
    },
    "accelerator": "GPU"
  },
  "cells": [
    {
      "cell_type": "markdown",
      "metadata": {
        "id": "view-in-github",
        "colab_type": "text"
      },
      "source": [
        "<a href=\"https://colab.research.google.com/github/noushadkhan01/kansepur-flyash-project/blob/master/10_aug_to_11_sept_bill/kansepur_flyash_bill_10_aug_to_11_sept.ipynb\" target=\"_parent\"><img src=\"https://colab.research.google.com/assets/colab-badge.svg\" alt=\"Open In Colab\"/></a>"
      ]
    },
    {
      "cell_type": "code",
      "metadata": {
        "id": "so-LEjYwlBUq",
        "colab_type": "code",
        "outputId": "3369474b-4821-4a83-a1b6-57e568ba8b51",
        "colab": {
          "base_uri": "https://localhost:8080/",
          "height": 136
        }
      },
      "source": [
        "!git clone https://github.com/noushadkhan01/kansepur-flyash-project.git"
      ],
      "execution_count": 0,
      "outputs": [
        {
          "output_type": "stream",
          "text": [
            "Cloning into 'kansepur-flyash-project'...\n",
            "remote: Enumerating objects: 11, done.\u001b[K\n",
            "remote: Counting objects:   9% (1/11)\u001b[K\rremote: Counting objects:  18% (2/11)\u001b[K\rremote: Counting objects:  27% (3/11)\u001b[K\rremote: Counting objects:  36% (4/11)\u001b[K\rremote: Counting objects:  45% (5/11)\u001b[K\rremote: Counting objects:  54% (6/11)\u001b[K\rremote: Counting objects:  63% (7/11)\u001b[K\rremote: Counting objects:  72% (8/11)\u001b[K\rremote: Counting objects:  81% (9/11)\u001b[K\rremote: Counting objects:  90% (10/11)\u001b[K\rremote: Counting objects: 100% (11/11)\u001b[K\rremote: Counting objects: 100% (11/11), done.\u001b[K\n",
            "remote: Compressing objects:   9% (1/11)\u001b[K\rremote: Compressing objects:  18% (2/11)\u001b[K\rremote: Compressing objects:  27% (3/11)\u001b[K\rremote: Compressing objects:  36% (4/11)\u001b[K\rremote: Compressing objects:  45% (5/11)\u001b[K\rremote: Compressing objects:  54% (6/11)\u001b[K\rremote: Compressing objects:  63% (7/11)\u001b[K\rremote: Compressing objects:  72% (8/11)\u001b[K\rremote: Compressing objects:  81% (9/11)\u001b[K\rremote: Compressing objects:  90% (10/11)\u001b[K\rremote: Compressing objects: 100% (11/11)\u001b[K\rremote: Compressing objects: 100% (11/11), done.\u001b[K\n",
            "Receiving objects:   0% (1/352)   \rReceiving objects:   1% (4/352)   \rReceiving objects:   2% (8/352)   \rReceiving objects:   3% (11/352)   \rReceiving objects:   4% (15/352)   \rReceiving objects:   5% (18/352)   \rReceiving objects:   6% (22/352)   \rReceiving objects:   7% (25/352)   \rReceiving objects:   8% (29/352)   \rReceiving objects:   9% (32/352)   \rReceiving objects:  10% (36/352)   \rReceiving objects:  11% (39/352)   \rReceiving objects:  12% (43/352)   \rReceiving objects:  13% (46/352)   \rReceiving objects:  14% (50/352)   \rReceiving objects:  15% (53/352)   \rReceiving objects:  16% (57/352)   \rReceiving objects:  17% (60/352)   \rReceiving objects:  18% (64/352)   \rReceiving objects:  19% (67/352)   \rReceiving objects:  20% (71/352)   \rReceiving objects:  21% (74/352)   \rReceiving objects:  22% (78/352)   \rReceiving objects:  23% (81/352)   \rReceiving objects:  24% (85/352)   \rReceiving objects:  25% (88/352)   \rReceiving objects:  26% (92/352)   \rReceiving objects:  27% (96/352)   \rReceiving objects:  28% (99/352)   \rReceiving objects:  29% (103/352)   \rReceiving objects:  30% (106/352)   \rReceiving objects:  31% (110/352)   \rReceiving objects:  32% (113/352)   \rReceiving objects:  33% (117/352)   \rReceiving objects:  34% (120/352)   \rReceiving objects:  35% (124/352)   \rReceiving objects:  36% (127/352)   \rReceiving objects:  37% (131/352)   \rReceiving objects:  38% (134/352)   \rReceiving objects:  39% (138/352)   \rReceiving objects:  40% (141/352)   \rReceiving objects:  41% (145/352)   \rReceiving objects:  42% (148/352)   \rReceiving objects:  43% (152/352)   \rReceiving objects:  44% (155/352)   \rReceiving objects:  45% (159/352)   \rReceiving objects:  46% (162/352)   \rReceiving objects:  47% (166/352)   \rReceiving objects:  48% (169/352)   \rReceiving objects:  49% (173/352)   \rReceiving objects:  50% (176/352)   \rReceiving objects:  51% (180/352)   \rReceiving objects:  52% (184/352)   \rReceiving objects:  53% (187/352)   \rReceiving objects:  54% (191/352)   \rReceiving objects:  55% (194/352)   \rReceiving objects:  56% (198/352)   \rReceiving objects:  57% (201/352)   \rReceiving objects:  58% (205/352)   \rReceiving objects:  59% (208/352)   \rReceiving objects:  60% (212/352)   \rReceiving objects:  61% (215/352)   \rReceiving objects:  62% (219/352)   \rReceiving objects:  63% (222/352)   \rReceiving objects:  64% (226/352)   \rReceiving objects:  65% (229/352)   \rReceiving objects:  66% (233/352)   \rReceiving objects:  67% (236/352)   \rReceiving objects:  68% (240/352)   \rReceiving objects:  69% (243/352)   \rReceiving objects:  70% (247/352)   \rReceiving objects:  71% (250/352)   \rReceiving objects:  72% (254/352)   \rReceiving objects:  73% (257/352)   \rReceiving objects:  74% (261/352)   \rReceiving objects:  75% (264/352)   \rReceiving objects:  76% (268/352)   \rReceiving objects:  77% (272/352)   \rReceiving objects:  78% (275/352)   \rReceiving objects:  79% (279/352)   \rReceiving objects:  80% (282/352)   \rReceiving objects:  81% (286/352)   \rReceiving objects:  82% (289/352)   \rReceiving objects:  83% (293/352)   \rReceiving objects:  84% (296/352)   \rReceiving objects:  85% (300/352)   \rReceiving objects:  86% (303/352)   \rReceiving objects:  87% (307/352)   \rReceiving objects:  88% (310/352)   \rReceiving objects:  89% (314/352)   \rReceiving objects:  90% (317/352)   \rremote: Total 352 (delta 3), reused 0 (delta 0), pack-reused 341\u001b[K\n",
            "Receiving objects:  91% (321/352)   \rReceiving objects:  92% (324/352)   \rReceiving objects:  93% (328/352)   \rReceiving objects:  94% (331/352)   \rReceiving objects:  95% (335/352)   \rReceiving objects:  96% (338/352)   \rReceiving objects:  97% (342/352)   \rReceiving objects:  98% (345/352)   \rReceiving objects:  99% (349/352)   \rReceiving objects: 100% (352/352)   \rReceiving objects: 100% (352/352), 799.82 KiB | 15.68 MiB/s, done.\n",
            "Resolving deltas:   0% (0/164)   \rResolving deltas:  29% (48/164)   \rResolving deltas:  31% (51/164)   \rResolving deltas:  32% (53/164)   \rResolving deltas:  35% (58/164)   \rResolving deltas:  36% (60/164)   \rResolving deltas:  37% (62/164)   \rResolving deltas:  38% (63/164)   \rResolving deltas:  45% (75/164)   \rResolving deltas:  46% (76/164)   \rResolving deltas:  47% (78/164)   \rResolving deltas:  48% (79/164)   \rResolving deltas:  49% (81/164)   \rResolving deltas:  63% (104/164)   \rResolving deltas:  64% (105/164)   \rResolving deltas:  65% (107/164)   \rResolving deltas:  66% (109/164)   \rResolving deltas:  67% (111/164)   \rResolving deltas:  68% (112/164)   \rResolving deltas:  70% (115/164)   \rResolving deltas:  77% (127/164)   \rResolving deltas:  78% (129/164)   \rResolving deltas:  79% (130/164)   \rResolving deltas:  81% (134/164)   \rResolving deltas:  82% (136/164)   \rResolving deltas:  83% (137/164)   \rResolving deltas: 100% (164/164)   \rResolving deltas: 100% (164/164), done.\n"
          ],
          "name": "stdout"
        }
      ]
    },
    {
      "cell_type": "code",
      "metadata": {
        "id": "g1NpP5jtlH5r",
        "colab_type": "code",
        "colab": {}
      },
      "source": [
        "import pandas as pd"
      ],
      "execution_count": 0,
      "outputs": []
    },
    {
      "cell_type": "code",
      "metadata": {
        "id": "FLUkMDDD_vHp",
        "colab_type": "code",
        "outputId": "0778bae8-c24c-4f31-8250-f79429ae12b0",
        "colab": {
          "base_uri": "https://localhost:8080/",
          "height": 34
        }
      },
      "source": [
        "!ls"
      ],
      "execution_count": 0,
      "outputs": [
        {
          "output_type": "stream",
          "text": [
            "kansepur-flyash-project  sample_data\n"
          ],
          "name": "stdout"
        }
      ]
    },
    {
      "cell_type": "code",
      "metadata": {
        "id": "vgRnsjiMlJvN",
        "colab_type": "code",
        "outputId": "5c1cafc8-f63a-43f3-f03e-8a27ff1995a3",
        "colab": {
          "base_uri": "https://localhost:8080/",
          "height": 34
        }
      },
      "source": [
        "%cd kansepur-flyash-project/"
      ],
      "execution_count": 0,
      "outputs": [
        {
          "output_type": "stream",
          "text": [
            "/content/kansepur-flyash-project\n"
          ],
          "name": "stdout"
        }
      ]
    },
    {
      "cell_type": "code",
      "metadata": {
        "id": "6yPYXc0DAKp6",
        "colab_type": "code",
        "outputId": "0462a8b7-1951-4847-be23-a7b7f83086bb",
        "colab": {
          "base_uri": "https://localhost:8080/",
          "height": 34
        }
      },
      "source": [
        "%cd 10_aug_to_11_sept_bill\t"
      ],
      "execution_count": 0,
      "outputs": [
        {
          "output_type": "stream",
          "text": [
            "/content/kansepur-flyash-project/10_aug_to_11_sept_bill\n"
          ],
          "name": "stdout"
        }
      ]
    },
    {
      "cell_type": "code",
      "metadata": {
        "id": "B6lL48hFlOrB",
        "colab_type": "code",
        "outputId": "8cb9e98f-b421-4e78-eb38-3f5c5da0d3a8",
        "colab": {
          "base_uri": "https://localhost:8080/",
          "height": 51
        }
      },
      "source": [
        "!ls"
      ],
      "execution_count": 0,
      "outputs": [
        {
          "output_type": "stream",
          "text": [
            "'kansepur flyash bill 10 aug to 11 sept bill7.xlsx'\n",
            "'kansepur flyash bill 10 aug to 11 sept.xlsx'\n"
          ],
          "name": "stdout"
        }
      ]
    },
    {
      "cell_type": "code",
      "metadata": {
        "id": "THAUXyC0lPYh",
        "colab_type": "code",
        "outputId": "dcefab44-845d-4995-cb29-f516feeb81e5",
        "colab": {
          "base_uri": "https://localhost:8080/",
          "height": 204
        }
      },
      "source": [
        "df = pd.read_excel('kansepur flyash bill 10 aug to 11 sept bill7.xlsx', 'Sheet1')\n",
        "df.head()"
      ],
      "execution_count": 0,
      "outputs": [
        {
          "output_type": "execute_result",
          "data": {
            "text/html": [
              "<div>\n",
              "<style scoped>\n",
              "    .dataframe tbody tr th:only-of-type {\n",
              "        vertical-align: middle;\n",
              "    }\n",
              "\n",
              "    .dataframe tbody tr th {\n",
              "        vertical-align: top;\n",
              "    }\n",
              "\n",
              "    .dataframe thead th {\n",
              "        text-align: right;\n",
              "    }\n",
              "</style>\n",
              "<table border=\"1\" class=\"dataframe\">\n",
              "  <thead>\n",
              "    <tr style=\"text-align: right;\">\n",
              "      <th></th>\n",
              "      <th>S.No.</th>\n",
              "      <th>Date</th>\n",
              "      <th>Counts</th>\n",
              "      <th>Name</th>\n",
              "      <th>Quantity</th>\n",
              "      <th>Diesel</th>\n",
              "    </tr>\n",
              "  </thead>\n",
              "  <tbody>\n",
              "    <tr>\n",
              "      <th>0</th>\n",
              "      <td>1.0</td>\n",
              "      <td>2019-08-10</td>\n",
              "      <td>1</td>\n",
              "      <td>imran</td>\n",
              "      <td>397.0</td>\n",
              "      <td>5000.0</td>\n",
              "    </tr>\n",
              "    <tr>\n",
              "      <th>1</th>\n",
              "      <td>2.0</td>\n",
              "      <td>NaT</td>\n",
              "      <td>2</td>\n",
              "      <td>julfan</td>\n",
              "      <td>390.0</td>\n",
              "      <td>NaN</td>\n",
              "    </tr>\n",
              "    <tr>\n",
              "      <th>2</th>\n",
              "      <td>3.0</td>\n",
              "      <td>NaT</td>\n",
              "      <td>3</td>\n",
              "      <td>julfan</td>\n",
              "      <td>390.0</td>\n",
              "      <td>NaN</td>\n",
              "    </tr>\n",
              "    <tr>\n",
              "      <th>3</th>\n",
              "      <td>4.0</td>\n",
              "      <td>NaT</td>\n",
              "      <td>4</td>\n",
              "      <td>imran</td>\n",
              "      <td>397.0</td>\n",
              "      <td>NaN</td>\n",
              "    </tr>\n",
              "    <tr>\n",
              "      <th>4</th>\n",
              "      <td>5.0</td>\n",
              "      <td>2019-08-11</td>\n",
              "      <td>1</td>\n",
              "      <td>imran</td>\n",
              "      <td>397.0</td>\n",
              "      <td>13000.0</td>\n",
              "    </tr>\n",
              "  </tbody>\n",
              "</table>\n",
              "</div>"
            ],
            "text/plain": [
              "   S.No.       Date Counts    Name  Quantity   Diesel\n",
              "0    1.0 2019-08-10      1   imran     397.0   5000.0\n",
              "1    2.0        NaT      2  julfan     390.0      NaN\n",
              "2    3.0        NaT      3  julfan     390.0      NaN\n",
              "3    4.0        NaT      4   imran     397.0      NaN\n",
              "4    5.0 2019-08-11      1   imran     397.0  13000.0"
            ]
          },
          "metadata": {
            "tags": []
          },
          "execution_count": 7
        }
      ]
    },
    {
      "cell_type": "code",
      "metadata": {
        "id": "e1gUo92O-r5c",
        "colab_type": "code",
        "outputId": "0bad5e49-2c0e-4e14-a78f-19672f4737da",
        "colab": {
          "base_uri": "https://localhost:8080/",
          "height": 111
        }
      },
      "source": [
        "df.tail(2)"
      ],
      "execution_count": 0,
      "outputs": [
        {
          "output_type": "execute_result",
          "data": {
            "text/html": [
              "<div>\n",
              "<style scoped>\n",
              "    .dataframe tbody tr th:only-of-type {\n",
              "        vertical-align: middle;\n",
              "    }\n",
              "\n",
              "    .dataframe tbody tr th {\n",
              "        vertical-align: top;\n",
              "    }\n",
              "\n",
              "    .dataframe thead th {\n",
              "        text-align: right;\n",
              "    }\n",
              "</style>\n",
              "<table border=\"1\" class=\"dataframe\">\n",
              "  <thead>\n",
              "    <tr style=\"text-align: right;\">\n",
              "      <th></th>\n",
              "      <th>S.No.</th>\n",
              "      <th>Date</th>\n",
              "      <th>Counts</th>\n",
              "      <th>Name</th>\n",
              "      <th>Quantity</th>\n",
              "      <th>Diesel</th>\n",
              "    </tr>\n",
              "  </thead>\n",
              "  <tbody>\n",
              "    <tr>\n",
              "      <th>312</th>\n",
              "      <td>NaN</td>\n",
              "      <td>NaT</td>\n",
              "      <td>Amount = Qty * 4.25</td>\n",
              "      <td>NaN</td>\n",
              "      <td>519906.75</td>\n",
              "      <td>NaN</td>\n",
              "    </tr>\n",
              "    <tr>\n",
              "      <th>313</th>\n",
              "      <td>NaN</td>\n",
              "      <td>NaT</td>\n",
              "      <td>Balance = amt - dsl</td>\n",
              "      <td>NaN</td>\n",
              "      <td>217906.75</td>\n",
              "      <td>NaN</td>\n",
              "    </tr>\n",
              "  </tbody>\n",
              "</table>\n",
              "</div>"
            ],
            "text/plain": [
              "     S.No. Date               Counts Name   Quantity  Diesel\n",
              "312    NaN  NaT  Amount = Qty * 4.25  NaN  519906.75     NaN\n",
              "313    NaN  NaT  Balance = amt - dsl  NaN  217906.75     NaN"
            ]
          },
          "metadata": {
            "tags": []
          },
          "execution_count": 8
        }
      ]
    },
    {
      "cell_type": "code",
      "metadata": {
        "id": "JPFtx9DsA9QT",
        "colab_type": "code",
        "colab": {}
      },
      "source": [
        "maap = {'imran':397, 'julfan':390, 'gulfam':411, 'saddam': 465, 'khurseed': 391, 'jabir': 416, \n",
        "        'akram': 360, 'wajid': 357, 'kayum': 308, 'bhura': 397, 'zishan': 484, 'amjad':397, 'rasid':406\n",
        "        }"
      ],
      "execution_count": 0,
      "outputs": []
    },
    {
      "cell_type": "code",
      "metadata": {
        "id": "eRh-_m4xmgeg",
        "colab_type": "code",
        "colab": {}
      },
      "source": [
        "df = df[:-1]"
      ],
      "execution_count": 0,
      "outputs": []
    },
    {
      "cell_type": "code",
      "metadata": {
        "id": "vYJmIHd8lWZY",
        "colab_type": "code",
        "outputId": "86d85183-64ce-4d16-9958-d2dcf2d0c28e",
        "colab": {
          "base_uri": "https://localhost:8080/",
          "height": 204
        }
      },
      "source": [
        "df.info()"
      ],
      "execution_count": 0,
      "outputs": [
        {
          "output_type": "stream",
          "text": [
            "<class 'pandas.core.frame.DataFrame'>\n",
            "RangeIndex: 313 entries, 0 to 312\n",
            "Data columns (total 6 columns):\n",
            "S.No.       311 non-null float64\n",
            "Date        19 non-null datetime64[ns]\n",
            "Counts      313 non-null object\n",
            "Name        311 non-null object\n",
            "Quantity    313 non-null float64\n",
            "Diesel      20 non-null float64\n",
            "dtypes: datetime64[ns](1), float64(3), object(2)\n",
            "memory usage: 14.8+ KB\n"
          ],
          "name": "stdout"
        }
      ]
    },
    {
      "cell_type": "markdown",
      "metadata": {
        "id": "lBL0gCRvC42b",
        "colab_type": "text"
      },
      "source": [
        "##fill values"
      ]
    },
    {
      "cell_type": "code",
      "metadata": {
        "id": "AVk4AP-bC7wb",
        "colab_type": "code",
        "outputId": "159d68b9-9887-406f-9568-84c061e8787b",
        "colab": {
          "base_uri": "https://localhost:8080/",
          "height": 34
        }
      },
      "source": [
        "df.columns"
      ],
      "execution_count": 0,
      "outputs": [
        {
          "output_type": "execute_result",
          "data": {
            "text/plain": [
              "Index(['S.No.', 'Date', 'Counts', 'Name', 'Quantity', 'Diesel'], dtype='object')"
            ]
          },
          "metadata": {
            "tags": []
          },
          "execution_count": 12
        }
      ]
    },
    {
      "cell_type": "markdown",
      "metadata": {
        "id": "HOiPaH_eDNGg",
        "colab_type": "text"
      },
      "source": [
        "def fill_quantity(a):\n",
        "  name, qty = a\n",
        "  if pd.isnull(qty):\n",
        "    return maap.get(name)\n",
        "  return qty"
      ]
    },
    {
      "cell_type": "markdown",
      "metadata": {
        "id": "7gXmpQqCDAER",
        "colab_type": "text"
      },
      "source": [
        "df['Quantity'] = df[['Name', 'Quantity']].apply(fill_quantity, axis = 1)"
      ]
    },
    {
      "cell_type": "code",
      "metadata": {
        "id": "JC2hr9mFDu2U",
        "colab_type": "code",
        "outputId": "404504d7-5af7-4a7a-fb6c-e9efac2512b7",
        "colab": {
          "base_uri": "https://localhost:8080/",
          "height": 85
        }
      },
      "source": [
        "df.Quantity[:3]"
      ],
      "execution_count": 0,
      "outputs": [
        {
          "output_type": "execute_result",
          "data": {
            "text/plain": [
              "0    397.0\n",
              "1    390.0\n",
              "2    390.0\n",
              "Name: Quantity, dtype: float64"
            ]
          },
          "metadata": {
            "tags": []
          },
          "execution_count": 13
        }
      ]
    },
    {
      "cell_type": "code",
      "metadata": {
        "id": "c8Jf4TqQI_-f",
        "colab_type": "code",
        "outputId": "7f5c78e2-c2e2-469b-ebd2-6d8b60070f04",
        "colab": {
          "base_uri": "https://localhost:8080/",
          "height": 34
        }
      },
      "source": [
        "df.Quantity.isnull().sum()"
      ],
      "execution_count": 0,
      "outputs": [
        {
          "output_type": "execute_result",
          "data": {
            "text/plain": [
              "0"
            ]
          },
          "metadata": {
            "tags": []
          },
          "execution_count": 14
        }
      ]
    },
    {
      "cell_type": "markdown",
      "metadata": {
        "id": "F2hlXCQ6D562",
        "colab_type": "text"
      },
      "source": [
        "df.to_excel('my_excel2.xlsx', index = False)"
      ]
    },
    {
      "cell_type": "markdown",
      "metadata": {
        "id": "LsJrON4hEEhD",
        "colab_type": "text"
      },
      "source": [
        "from google.colab import files"
      ]
    },
    {
      "cell_type": "markdown",
      "metadata": {
        "id": "r3bUrv4XFWzY",
        "colab_type": "text"
      },
      "source": [
        "files.download('my_excel2.xlsx')"
      ]
    },
    {
      "cell_type": "code",
      "metadata": {
        "id": "vZ9H0uvuAxf5",
        "colab_type": "code",
        "outputId": "f1d117e1-58e4-4df6-d60d-310a253fc3ce",
        "colab": {
          "base_uri": "https://localhost:8080/",
          "height": 357
        }
      },
      "source": [
        "unique_dates = df.Date.unique()\n",
        "unique_dates = pd.Series(unique_dates).dropna()\n",
        "print(unique_dates)"
      ],
      "execution_count": 0,
      "outputs": [
        {
          "output_type": "stream",
          "text": [
            "0    2019-08-10\n",
            "2    2019-08-11\n",
            "3    2019-08-22\n",
            "4    2019-08-23\n",
            "5    2019-08-24\n",
            "6    2019-08-25\n",
            "7    2019-08-28\n",
            "8    2019-08-29\n",
            "9    2019-09-01\n",
            "10   2019-09-02\n",
            "11   2019-09-03\n",
            "12   2019-09-04\n",
            "13   2019-09-05\n",
            "14   2019-09-06\n",
            "15   2019-09-07\n",
            "16   2019-09-08\n",
            "17   2019-09-09\n",
            "18   2019-09-10\n",
            "19   2019-09-11\n",
            "dtype: datetime64[ns]\n"
          ],
          "name": "stdout"
        }
      ]
    },
    {
      "cell_type": "code",
      "metadata": {
        "id": "yOdejLAFA7j1",
        "colab_type": "code",
        "outputId": "4b7f2a22-0815-4bb8-b852-a8c12aac54b9",
        "colab": {
          "base_uri": "https://localhost:8080/",
          "height": 34
        }
      },
      "source": [
        "df.Date.nunique()"
      ],
      "execution_count": 0,
      "outputs": [
        {
          "output_type": "execute_result",
          "data": {
            "text/plain": [
              "19"
            ]
          },
          "metadata": {
            "tags": []
          },
          "execution_count": 16
        }
      ]
    },
    {
      "cell_type": "code",
      "metadata": {
        "id": "TTiF585xBBNC",
        "colab_type": "code",
        "outputId": "ddd16ba9-4954-4de2-ed79-da108bb8d141",
        "colab": {
          "base_uri": "https://localhost:8080/",
          "height": 357
        }
      },
      "source": [
        "df.Date.value_counts()"
      ],
      "execution_count": 0,
      "outputs": [
        {
          "output_type": "execute_result",
          "data": {
            "text/plain": [
              "2019-08-29    1\n",
              "2019-09-08    1\n",
              "2019-08-23    1\n",
              "2019-09-06    1\n",
              "2019-09-03    1\n",
              "2019-08-28    1\n",
              "2019-09-11    1\n",
              "2019-08-11    1\n",
              "2019-08-25    1\n",
              "2019-08-22    1\n",
              "2019-09-01    1\n",
              "2019-09-05    1\n",
              "2019-09-02    1\n",
              "2019-09-10    1\n",
              "2019-08-10    1\n",
              "2019-08-24    1\n",
              "2019-09-07    1\n",
              "2019-09-04    1\n",
              "2019-09-09    1\n",
              "Name: Date, dtype: int64"
            ]
          },
          "metadata": {
            "tags": []
          },
          "execution_count": 17
        }
      ]
    },
    {
      "cell_type": "code",
      "metadata": {
        "id": "uXqNsOzRDDSf",
        "colab_type": "code",
        "colab": {}
      },
      "source": [
        "import numpy as np"
      ],
      "execution_count": 0,
      "outputs": []
    },
    {
      "cell_type": "code",
      "metadata": {
        "id": "jsPDiLK9mCMB",
        "colab_type": "code",
        "outputId": "1366ec0b-2c2a-43b5-ea94-f889477b3885",
        "colab": {
          "base_uri": "https://localhost:8080/",
          "height": 68
        }
      },
      "source": [
        "df.Name.unique()"
      ],
      "execution_count": 0,
      "outputs": [
        {
          "output_type": "execute_result",
          "data": {
            "text/plain": [
              "array(['imran', 'julfan', 'gulfam', 'khurseed', 'saddam', 'jabir',\n",
              "       'amjad', 'kayum', 'akram', 'bhura', 'wajid', 'mehmood', 'rasid',\n",
              "       'zishan', nan], dtype=object)"
            ]
          },
          "metadata": {
            "tags": []
          },
          "execution_count": 19
        }
      ]
    },
    {
      "cell_type": "code",
      "metadata": {
        "id": "cJArT99yo39E",
        "colab_type": "code",
        "outputId": "aa8b3bb7-0c1f-4769-c1b0-b469c5b24ab4",
        "colab": {
          "base_uri": "https://localhost:8080/",
          "height": 34
        }
      },
      "source": [
        "total_quantity = sum(df.Quantity)\n",
        "total_quantity"
      ],
      "execution_count": 0,
      "outputs": [
        {
          "output_type": "execute_result",
          "data": {
            "text/plain": [
              "764568.75"
            ]
          },
          "metadata": {
            "tags": []
          },
          "execution_count": 20
        }
      ]
    },
    {
      "cell_type": "code",
      "metadata": {
        "id": "KDfUKDebnJUR",
        "colab_type": "code",
        "outputId": "161cce88-0de8-4778-e1f7-b606c8748f81",
        "colab": {
          "base_uri": "https://localhost:8080/",
          "height": 272
        }
      },
      "source": [
        "rounds_per_name = df.Name.value_counts()\n",
        "rounds_per_name"
      ],
      "execution_count": 0,
      "outputs": [
        {
          "output_type": "execute_result",
          "data": {
            "text/plain": [
              "imran       47\n",
              "gulfam      35\n",
              "khurseed    32\n",
              "saddam      32\n",
              "akram       29\n",
              "kayum       24\n",
              "julfan      24\n",
              "bhura       24\n",
              "wajid       22\n",
              "jabir       19\n",
              "rasid       13\n",
              "zishan       4\n",
              "mehmood      3\n",
              "amjad        3\n",
              "Name: Name, dtype: int64"
            ]
          },
          "metadata": {
            "tags": []
          },
          "execution_count": 21
        }
      ]
    },
    {
      "cell_type": "code",
      "metadata": {
        "id": "XN6SqFu8rOBZ",
        "colab_type": "code",
        "outputId": "bd0ece6d-ebfe-41b5-a791-f870453371e0",
        "colab": {
          "base_uri": "https://localhost:8080/",
          "height": 34
        }
      },
      "source": [
        "sum(rounds_per_name.values)"
      ],
      "execution_count": 0,
      "outputs": [
        {
          "output_type": "execute_result",
          "data": {
            "text/plain": [
              "311"
            ]
          },
          "metadata": {
            "tags": []
          },
          "execution_count": 22
        }
      ]
    },
    {
      "cell_type": "markdown",
      "metadata": {
        "id": "vegaPxckns74",
        "colab_type": "text"
      },
      "source": [
        "## unique feets per name"
      ]
    },
    {
      "cell_type": "code",
      "metadata": {
        "id": "-ITvOwaBwJ1t",
        "colab_type": "code",
        "outputId": "4418c184-0746-4ffd-a33d-edf9e1bf8b30",
        "colab": {
          "base_uri": "https://localhost:8080/",
          "height": 34
        }
      },
      "source": [
        "group = df.groupby(df.Name)\n",
        "group"
      ],
      "execution_count": 0,
      "outputs": [
        {
          "output_type": "execute_result",
          "data": {
            "text/plain": [
              "<pandas.core.groupby.generic.DataFrameGroupBy object at 0x7f0644050240>"
            ]
          },
          "metadata": {
            "tags": []
          },
          "execution_count": 23
        }
      ]
    },
    {
      "cell_type": "markdown",
      "metadata": {
        "id": "R0pQUd6CZ4Eg",
        "colab_type": "text"
      },
      "source": [
        "for i, j in group:\n",
        "  print(i, '\\n', j.Quantity, '\\n')  "
      ]
    },
    {
      "cell_type": "code",
      "metadata": {
        "id": "ndW_Qg-IwSkJ",
        "colab_type": "code",
        "outputId": "26d13241-5022-44d3-b9b3-c1e9cda5a13e",
        "colab": {
          "base_uri": "https://localhost:8080/",
          "height": 493
        }
      },
      "source": [
        "for i, j in group:\n",
        "  print(i, j.Quantity.unique(), '\\n')"
      ],
      "execution_count": 0,
      "outputs": [
        {
          "output_type": "stream",
          "text": [
            "akram [360.] \n",
            "\n",
            "amjad [397.] \n",
            "\n",
            "bhura [397.] \n",
            "\n",
            "gulfam [411.] \n",
            "\n",
            "imran [397.] \n",
            "\n",
            "jabir [416.] \n",
            "\n",
            "julfan [390.] \n",
            "\n",
            "kayum [308.] \n",
            "\n",
            "khurseed [391. 341.] \n",
            "\n",
            "mehmood [308. 357. 397.] \n",
            "\n",
            "rasid [406.] \n",
            "\n",
            "saddam [465.] \n",
            "\n",
            "wajid [357.] \n",
            "\n",
            "zishan [484.] \n",
            "\n"
          ],
          "name": "stdout"
        }
      ]
    },
    {
      "cell_type": "markdown",
      "metadata": {
        "id": "0y2uPtUlJ6jo",
        "colab_type": "text"
      },
      "source": [
        "# Diesel"
      ]
    },
    {
      "cell_type": "code",
      "metadata": {
        "id": "O5znZR4bJ8Ri",
        "colab_type": "code",
        "outputId": "ae16f5d3-6a1c-428e-f2b2-635245c0d25d",
        "colab": {
          "base_uri": "https://localhost:8080/",
          "height": 204
        }
      },
      "source": [
        "diesel = pd.read_excel('kansepur flyash bill 10 aug to 11 sept bill7.xlsx', 'Diesel')\n",
        "diesel.head()"
      ],
      "execution_count": 0,
      "outputs": [
        {
          "output_type": "execute_result",
          "data": {
            "text/html": [
              "<div>\n",
              "<style scoped>\n",
              "    .dataframe tbody tr th:only-of-type {\n",
              "        vertical-align: middle;\n",
              "    }\n",
              "\n",
              "    .dataframe tbody tr th {\n",
              "        vertical-align: top;\n",
              "    }\n",
              "\n",
              "    .dataframe thead th {\n",
              "        text-align: right;\n",
              "    }\n",
              "</style>\n",
              "<table border=\"1\" class=\"dataframe\">\n",
              "  <thead>\n",
              "    <tr style=\"text-align: right;\">\n",
              "      <th></th>\n",
              "      <th>Date</th>\n",
              "      <th>Name</th>\n",
              "      <th>Diesel</th>\n",
              "      <th>Cash</th>\n",
              "      <th>bharai</th>\n",
              "    </tr>\n",
              "  </thead>\n",
              "  <tbody>\n",
              "    <tr>\n",
              "      <th>0</th>\n",
              "      <td>2019-08-09</td>\n",
              "      <td>julfan</td>\n",
              "      <td>0</td>\n",
              "      <td>NaN</td>\n",
              "      <td>250.0</td>\n",
              "    </tr>\n",
              "    <tr>\n",
              "      <th>1</th>\n",
              "      <td>NaT</td>\n",
              "      <td>imran</td>\n",
              "      <td>0</td>\n",
              "      <td>NaN</td>\n",
              "      <td>250.0</td>\n",
              "    </tr>\n",
              "    <tr>\n",
              "      <th>2</th>\n",
              "      <td>2019-08-10</td>\n",
              "      <td>imran</td>\n",
              "      <td>1500</td>\n",
              "      <td>500.0</td>\n",
              "      <td>NaN</td>\n",
              "    </tr>\n",
              "    <tr>\n",
              "      <th>3</th>\n",
              "      <td>NaT</td>\n",
              "      <td>julfan</td>\n",
              "      <td>1500</td>\n",
              "      <td>NaN</td>\n",
              "      <td>NaN</td>\n",
              "    </tr>\n",
              "    <tr>\n",
              "      <th>4</th>\n",
              "      <td>NaT</td>\n",
              "      <td>vakil_jcb</td>\n",
              "      <td>2000</td>\n",
              "      <td>NaN</td>\n",
              "      <td>NaN</td>\n",
              "    </tr>\n",
              "  </tbody>\n",
              "</table>\n",
              "</div>"
            ],
            "text/plain": [
              "        Date       Name  Diesel   Cash  bharai\n",
              "0 2019-08-09     julfan       0    NaN   250.0\n",
              "1        NaT      imran       0    NaN   250.0\n",
              "2 2019-08-10      imran    1500  500.0     NaN\n",
              "3        NaT     julfan    1500    NaN     NaN\n",
              "4        NaT  vakil_jcb    2000    NaN     NaN"
            ]
          },
          "metadata": {
            "tags": []
          },
          "execution_count": 25
        }
      ]
    },
    {
      "cell_type": "code",
      "metadata": {
        "id": "aNms0DItMFZ8",
        "colab_type": "code",
        "outputId": "26755090-39c3-4097-de00-d71ccc44b016",
        "colab": {
          "base_uri": "https://localhost:8080/",
          "height": 34
        }
      },
      "source": [
        "diesel.shape"
      ],
      "execution_count": 0,
      "outputs": [
        {
          "output_type": "execute_result",
          "data": {
            "text/plain": [
              "(180, 5)"
            ]
          },
          "metadata": {
            "tags": []
          },
          "execution_count": 26
        }
      ]
    },
    {
      "cell_type": "code",
      "metadata": {
        "id": "FtBbwdi6GaOe",
        "colab_type": "code",
        "outputId": "ca5f077f-4c84-4b36-a6cc-7353de35d6dd",
        "colab": {
          "base_uri": "https://localhost:8080/",
          "height": 204
        }
      },
      "source": [
        "diesel.Date.unique()"
      ],
      "execution_count": 0,
      "outputs": [
        {
          "output_type": "execute_result",
          "data": {
            "text/plain": [
              "array(['2019-08-09T00:00:00.000000000',                           'NaT',\n",
              "       '2019-08-10T00:00:00.000000000', '2019-08-11T00:00:00.000000000',\n",
              "       '2019-08-22T00:00:00.000000000', '2019-08-23T00:00:00.000000000',\n",
              "       '2019-08-24T00:00:00.000000000', '2019-08-25T00:00:00.000000000',\n",
              "       '2019-08-28T00:00:00.000000000', '2019-08-29T00:00:00.000000000',\n",
              "       '2019-09-01T00:00:00.000000000', '2019-09-02T00:00:00.000000000',\n",
              "       '2019-09-03T00:00:00.000000000', '2019-09-04T00:00:00.000000000',\n",
              "       '2019-09-05T00:00:00.000000000', '2019-09-06T00:00:00.000000000',\n",
              "       '2019-09-07T00:00:00.000000000', '2019-09-08T00:00:00.000000000',\n",
              "       '2019-09-09T00:00:00.000000000', '2019-09-10T00:00:00.000000000',\n",
              "       '2019-09-11T00:00:00.000000000'], dtype='datetime64[ns]')"
            ]
          },
          "metadata": {
            "tags": []
          },
          "execution_count": 27
        }
      ]
    },
    {
      "cell_type": "code",
      "metadata": {
        "id": "n6yM4M_2GZJH",
        "colab_type": "code",
        "colab": {}
      },
      "source": [
        "for n, i in enumerate(diesel.Date.values):\n",
        "  if not pd.isnull(i):\n",
        "    date = i\n",
        "  else:\n",
        "    diesel.iloc[n, 0] = date"
      ],
      "execution_count": 0,
      "outputs": []
    },
    {
      "cell_type": "code",
      "metadata": {
        "id": "4iSR7MyjHAQf",
        "colab_type": "code",
        "outputId": "64d6004b-9929-4e90-c481-dd76a83f0f41",
        "colab": {
          "base_uri": "https://localhost:8080/",
          "height": 204
        }
      },
      "source": [
        "diesel.head()"
      ],
      "execution_count": 0,
      "outputs": [
        {
          "output_type": "execute_result",
          "data": {
            "text/html": [
              "<div>\n",
              "<style scoped>\n",
              "    .dataframe tbody tr th:only-of-type {\n",
              "        vertical-align: middle;\n",
              "    }\n",
              "\n",
              "    .dataframe tbody tr th {\n",
              "        vertical-align: top;\n",
              "    }\n",
              "\n",
              "    .dataframe thead th {\n",
              "        text-align: right;\n",
              "    }\n",
              "</style>\n",
              "<table border=\"1\" class=\"dataframe\">\n",
              "  <thead>\n",
              "    <tr style=\"text-align: right;\">\n",
              "      <th></th>\n",
              "      <th>Date</th>\n",
              "      <th>Name</th>\n",
              "      <th>Diesel</th>\n",
              "      <th>Cash</th>\n",
              "      <th>bharai</th>\n",
              "    </tr>\n",
              "  </thead>\n",
              "  <tbody>\n",
              "    <tr>\n",
              "      <th>0</th>\n",
              "      <td>2019-08-09</td>\n",
              "      <td>julfan</td>\n",
              "      <td>0</td>\n",
              "      <td>NaN</td>\n",
              "      <td>250.0</td>\n",
              "    </tr>\n",
              "    <tr>\n",
              "      <th>1</th>\n",
              "      <td>2019-08-09</td>\n",
              "      <td>imran</td>\n",
              "      <td>0</td>\n",
              "      <td>NaN</td>\n",
              "      <td>250.0</td>\n",
              "    </tr>\n",
              "    <tr>\n",
              "      <th>2</th>\n",
              "      <td>2019-08-10</td>\n",
              "      <td>imran</td>\n",
              "      <td>1500</td>\n",
              "      <td>500.0</td>\n",
              "      <td>NaN</td>\n",
              "    </tr>\n",
              "    <tr>\n",
              "      <th>3</th>\n",
              "      <td>2019-08-10</td>\n",
              "      <td>julfan</td>\n",
              "      <td>1500</td>\n",
              "      <td>NaN</td>\n",
              "      <td>NaN</td>\n",
              "    </tr>\n",
              "    <tr>\n",
              "      <th>4</th>\n",
              "      <td>2019-08-10</td>\n",
              "      <td>vakil_jcb</td>\n",
              "      <td>2000</td>\n",
              "      <td>NaN</td>\n",
              "      <td>NaN</td>\n",
              "    </tr>\n",
              "  </tbody>\n",
              "</table>\n",
              "</div>"
            ],
            "text/plain": [
              "        Date       Name  Diesel   Cash  bharai\n",
              "0 2019-08-09     julfan       0    NaN   250.0\n",
              "1 2019-08-09      imran       0    NaN   250.0\n",
              "2 2019-08-10      imran    1500  500.0     NaN\n",
              "3 2019-08-10     julfan    1500    NaN     NaN\n",
              "4 2019-08-10  vakil_jcb    2000    NaN     NaN"
            ]
          },
          "metadata": {
            "tags": []
          },
          "execution_count": 29
        }
      ]
    },
    {
      "cell_type": "markdown",
      "metadata": {
        "id": "-rLhXMKrHTRe",
        "colab_type": "text"
      },
      "source": [
        "# pivot table"
      ]
    },
    {
      "cell_type": "code",
      "metadata": {
        "id": "605hniozHVuB",
        "colab_type": "code",
        "outputId": "84fe4500-1a57-4921-f18d-99d9e40fd27e",
        "colab": {
          "base_uri": "https://localhost:8080/",
          "height": 740
        }
      },
      "source": [
        "pivot_diesel = diesel.pivot_table(index = 'Name', columns = 'Date', values = 'Diesel')\n",
        "pivot_diesel"
      ],
      "execution_count": 0,
      "outputs": [
        {
          "output_type": "execute_result",
          "data": {
            "text/html": [
              "<div>\n",
              "<style scoped>\n",
              "    .dataframe tbody tr th:only-of-type {\n",
              "        vertical-align: middle;\n",
              "    }\n",
              "\n",
              "    .dataframe tbody tr th {\n",
              "        vertical-align: top;\n",
              "    }\n",
              "\n",
              "    .dataframe thead th {\n",
              "        text-align: right;\n",
              "    }\n",
              "</style>\n",
              "<table border=\"1\" class=\"dataframe\">\n",
              "  <thead>\n",
              "    <tr style=\"text-align: right;\">\n",
              "      <th>Date</th>\n",
              "      <th>2019-08-09 00:00:00</th>\n",
              "      <th>2019-08-10 00:00:00</th>\n",
              "      <th>2019-08-11 00:00:00</th>\n",
              "      <th>2019-08-22 00:00:00</th>\n",
              "      <th>2019-08-23 00:00:00</th>\n",
              "      <th>2019-08-24 00:00:00</th>\n",
              "      <th>2019-08-25 00:00:00</th>\n",
              "      <th>2019-08-28 00:00:00</th>\n",
              "      <th>2019-08-29 00:00:00</th>\n",
              "      <th>2019-09-01 00:00:00</th>\n",
              "      <th>2019-09-02 00:00:00</th>\n",
              "      <th>2019-09-03 00:00:00</th>\n",
              "      <th>2019-09-04 00:00:00</th>\n",
              "      <th>2019-09-05 00:00:00</th>\n",
              "      <th>2019-09-06 00:00:00</th>\n",
              "      <th>2019-09-07 00:00:00</th>\n",
              "      <th>2019-09-08 00:00:00</th>\n",
              "      <th>2019-09-09 00:00:00</th>\n",
              "      <th>2019-09-10 00:00:00</th>\n",
              "      <th>2019-09-11 00:00:00</th>\n",
              "    </tr>\n",
              "    <tr>\n",
              "      <th>Name</th>\n",
              "      <th></th>\n",
              "      <th></th>\n",
              "      <th></th>\n",
              "      <th></th>\n",
              "      <th></th>\n",
              "      <th></th>\n",
              "      <th></th>\n",
              "      <th></th>\n",
              "      <th></th>\n",
              "      <th></th>\n",
              "      <th></th>\n",
              "      <th></th>\n",
              "      <th></th>\n",
              "      <th></th>\n",
              "      <th></th>\n",
              "      <th></th>\n",
              "      <th></th>\n",
              "      <th></th>\n",
              "      <th></th>\n",
              "      <th></th>\n",
              "    </tr>\n",
              "  </thead>\n",
              "  <tbody>\n",
              "    <tr>\n",
              "      <th>akram</th>\n",
              "      <td>NaN</td>\n",
              "      <td>NaN</td>\n",
              "      <td>NaN</td>\n",
              "      <td>NaN</td>\n",
              "      <td>NaN</td>\n",
              "      <td>NaN</td>\n",
              "      <td>NaN</td>\n",
              "      <td>NaN</td>\n",
              "      <td>NaN</td>\n",
              "      <td>1000.0</td>\n",
              "      <td>2000.0</td>\n",
              "      <td>0.0</td>\n",
              "      <td>2000.0</td>\n",
              "      <td>2000.0</td>\n",
              "      <td>2000.0</td>\n",
              "      <td>NaN</td>\n",
              "      <td>2000.0</td>\n",
              "      <td>NaN</td>\n",
              "      <td>2000.0</td>\n",
              "      <td>2000.0</td>\n",
              "    </tr>\n",
              "    <tr>\n",
              "      <th>amjad</th>\n",
              "      <td>NaN</td>\n",
              "      <td>NaN</td>\n",
              "      <td>NaN</td>\n",
              "      <td>NaN</td>\n",
              "      <td>NaN</td>\n",
              "      <td>2000.0</td>\n",
              "      <td>2000.0</td>\n",
              "      <td>NaN</td>\n",
              "      <td>NaN</td>\n",
              "      <td>NaN</td>\n",
              "      <td>NaN</td>\n",
              "      <td>NaN</td>\n",
              "      <td>NaN</td>\n",
              "      <td>NaN</td>\n",
              "      <td>NaN</td>\n",
              "      <td>NaN</td>\n",
              "      <td>NaN</td>\n",
              "      <td>NaN</td>\n",
              "      <td>NaN</td>\n",
              "      <td>NaN</td>\n",
              "    </tr>\n",
              "    <tr>\n",
              "      <th>bhada jcb</th>\n",
              "      <td>NaN</td>\n",
              "      <td>NaN</td>\n",
              "      <td>NaN</td>\n",
              "      <td>NaN</td>\n",
              "      <td>NaN</td>\n",
              "      <td>NaN</td>\n",
              "      <td>NaN</td>\n",
              "      <td>NaN</td>\n",
              "      <td>3000.0</td>\n",
              "      <td>NaN</td>\n",
              "      <td>NaN</td>\n",
              "      <td>NaN</td>\n",
              "      <td>NaN</td>\n",
              "      <td>NaN</td>\n",
              "      <td>3000.0</td>\n",
              "      <td>NaN</td>\n",
              "      <td>3000.0</td>\n",
              "      <td>3000.0</td>\n",
              "      <td>NaN</td>\n",
              "      <td>NaN</td>\n",
              "    </tr>\n",
              "    <tr>\n",
              "      <th>bhura</th>\n",
              "      <td>NaN</td>\n",
              "      <td>NaN</td>\n",
              "      <td>NaN</td>\n",
              "      <td>NaN</td>\n",
              "      <td>NaN</td>\n",
              "      <td>NaN</td>\n",
              "      <td>NaN</td>\n",
              "      <td>NaN</td>\n",
              "      <td>NaN</td>\n",
              "      <td>NaN</td>\n",
              "      <td>0.0</td>\n",
              "      <td>2000.0</td>\n",
              "      <td>2000.0</td>\n",
              "      <td>2000.0</td>\n",
              "      <td>2000.0</td>\n",
              "      <td>2000.0</td>\n",
              "      <td>2000.0</td>\n",
              "      <td>2000.0</td>\n",
              "      <td>2000.0</td>\n",
              "      <td>2000.0</td>\n",
              "    </tr>\n",
              "    <tr>\n",
              "      <th>car</th>\n",
              "      <td>NaN</td>\n",
              "      <td>NaN</td>\n",
              "      <td>NaN</td>\n",
              "      <td>NaN</td>\n",
              "      <td>NaN</td>\n",
              "      <td>NaN</td>\n",
              "      <td>NaN</td>\n",
              "      <td>NaN</td>\n",
              "      <td>NaN</td>\n",
              "      <td>NaN</td>\n",
              "      <td>NaN</td>\n",
              "      <td>NaN</td>\n",
              "      <td>NaN</td>\n",
              "      <td>NaN</td>\n",
              "      <td>500.0</td>\n",
              "      <td>NaN</td>\n",
              "      <td>NaN</td>\n",
              "      <td>500.0</td>\n",
              "      <td>NaN</td>\n",
              "      <td>NaN</td>\n",
              "    </tr>\n",
              "    <tr>\n",
              "      <th>cash</th>\n",
              "      <td>NaN</td>\n",
              "      <td>NaN</td>\n",
              "      <td>4500.0</td>\n",
              "      <td>2500.0</td>\n",
              "      <td>3500.0</td>\n",
              "      <td>2000.0</td>\n",
              "      <td>0.0</td>\n",
              "      <td>3500.0</td>\n",
              "      <td>3000.0</td>\n",
              "      <td>NaN</td>\n",
              "      <td>3000.0</td>\n",
              "      <td>4000.0</td>\n",
              "      <td>0.0</td>\n",
              "      <td>2000.0</td>\n",
              "      <td>3500.0</td>\n",
              "      <td>2000.0</td>\n",
              "      <td>2000.0</td>\n",
              "      <td>0.0</td>\n",
              "      <td>2000.0</td>\n",
              "      <td>2000.0</td>\n",
              "    </tr>\n",
              "    <tr>\n",
              "      <th>gulfam</th>\n",
              "      <td>NaN</td>\n",
              "      <td>NaN</td>\n",
              "      <td>2000.0</td>\n",
              "      <td>2000.0</td>\n",
              "      <td>2000.0</td>\n",
              "      <td>NaN</td>\n",
              "      <td>1000.0</td>\n",
              "      <td>1000.0</td>\n",
              "      <td>1500.0</td>\n",
              "      <td>NaN</td>\n",
              "      <td>NaN</td>\n",
              "      <td>2000.0</td>\n",
              "      <td>NaN</td>\n",
              "      <td>1000.0</td>\n",
              "      <td>2000.0</td>\n",
              "      <td>2000.0</td>\n",
              "      <td>2000.0</td>\n",
              "      <td>NaN</td>\n",
              "      <td>2000.0</td>\n",
              "      <td>2000.0</td>\n",
              "    </tr>\n",
              "    <tr>\n",
              "      <th>imran</th>\n",
              "      <td>0.0</td>\n",
              "      <td>1500.0</td>\n",
              "      <td>1500.0</td>\n",
              "      <td>2000.0</td>\n",
              "      <td>2000.0</td>\n",
              "      <td>2000.0</td>\n",
              "      <td>NaN</td>\n",
              "      <td>2000.0</td>\n",
              "      <td>2000.0</td>\n",
              "      <td>NaN</td>\n",
              "      <td>0.0</td>\n",
              "      <td>2000.0</td>\n",
              "      <td>2000.0</td>\n",
              "      <td>1000.0</td>\n",
              "      <td>2000.0</td>\n",
              "      <td>2000.0</td>\n",
              "      <td>2000.0</td>\n",
              "      <td>1500.0</td>\n",
              "      <td>2000.0</td>\n",
              "      <td>2000.0</td>\n",
              "    </tr>\n",
              "    <tr>\n",
              "      <th>jabir</th>\n",
              "      <td>NaN</td>\n",
              "      <td>NaN</td>\n",
              "      <td>NaN</td>\n",
              "      <td>NaN</td>\n",
              "      <td>2000.0</td>\n",
              "      <td>2000.0</td>\n",
              "      <td>0.0</td>\n",
              "      <td>NaN</td>\n",
              "      <td>NaN</td>\n",
              "      <td>NaN</td>\n",
              "      <td>NaN</td>\n",
              "      <td>NaN</td>\n",
              "      <td>NaN</td>\n",
              "      <td>NaN</td>\n",
              "      <td>NaN</td>\n",
              "      <td>1000.0</td>\n",
              "      <td>2000.0</td>\n",
              "      <td>NaN</td>\n",
              "      <td>2000.0</td>\n",
              "      <td>NaN</td>\n",
              "    </tr>\n",
              "    <tr>\n",
              "      <th>julfan</th>\n",
              "      <td>0.0</td>\n",
              "      <td>1500.0</td>\n",
              "      <td>1500.0</td>\n",
              "      <td>0.0</td>\n",
              "      <td>2000.0</td>\n",
              "      <td>2000.0</td>\n",
              "      <td>1000.0</td>\n",
              "      <td>2000.0</td>\n",
              "      <td>0.0</td>\n",
              "      <td>NaN</td>\n",
              "      <td>NaN</td>\n",
              "      <td>NaN</td>\n",
              "      <td>NaN</td>\n",
              "      <td>NaN</td>\n",
              "      <td>NaN</td>\n",
              "      <td>NaN</td>\n",
              "      <td>2000.0</td>\n",
              "      <td>2000.0</td>\n",
              "      <td>2000.0</td>\n",
              "      <td>0.0</td>\n",
              "    </tr>\n",
              "    <tr>\n",
              "      <th>kayum</th>\n",
              "      <td>NaN</td>\n",
              "      <td>NaN</td>\n",
              "      <td>NaN</td>\n",
              "      <td>NaN</td>\n",
              "      <td>NaN</td>\n",
              "      <td>NaN</td>\n",
              "      <td>NaN</td>\n",
              "      <td>1500.0</td>\n",
              "      <td>NaN</td>\n",
              "      <td>1000.0</td>\n",
              "      <td>2000.0</td>\n",
              "      <td>2000.0</td>\n",
              "      <td>NaN</td>\n",
              "      <td>2000.0</td>\n",
              "      <td>0.0</td>\n",
              "      <td>2000.0</td>\n",
              "      <td>NaN</td>\n",
              "      <td>2000.0</td>\n",
              "      <td>NaN</td>\n",
              "      <td>2000.0</td>\n",
              "    </tr>\n",
              "    <tr>\n",
              "      <th>khurseed</th>\n",
              "      <td>NaN</td>\n",
              "      <td>NaN</td>\n",
              "      <td>2000.0</td>\n",
              "      <td>NaN</td>\n",
              "      <td>1500.0</td>\n",
              "      <td>2000.0</td>\n",
              "      <td>2000.0</td>\n",
              "      <td>1000.0</td>\n",
              "      <td>NaN</td>\n",
              "      <td>NaN</td>\n",
              "      <td>2000.0</td>\n",
              "      <td>2000.0</td>\n",
              "      <td>1500.0</td>\n",
              "      <td>2000.0</td>\n",
              "      <td>NaN</td>\n",
              "      <td>2000.0</td>\n",
              "      <td>1500.0</td>\n",
              "      <td>2000.0</td>\n",
              "      <td>2000.0</td>\n",
              "      <td>2000.0</td>\n",
              "    </tr>\n",
              "    <tr>\n",
              "      <th>rasid</th>\n",
              "      <td>NaN</td>\n",
              "      <td>NaN</td>\n",
              "      <td>NaN</td>\n",
              "      <td>NaN</td>\n",
              "      <td>NaN</td>\n",
              "      <td>NaN</td>\n",
              "      <td>NaN</td>\n",
              "      <td>NaN</td>\n",
              "      <td>NaN</td>\n",
              "      <td>NaN</td>\n",
              "      <td>NaN</td>\n",
              "      <td>NaN</td>\n",
              "      <td>NaN</td>\n",
              "      <td>NaN</td>\n",
              "      <td>NaN</td>\n",
              "      <td>2000.0</td>\n",
              "      <td>2000.0</td>\n",
              "      <td>2000.0</td>\n",
              "      <td>NaN</td>\n",
              "      <td>2000.0</td>\n",
              "    </tr>\n",
              "    <tr>\n",
              "      <th>sabir jcb</th>\n",
              "      <td>NaN</td>\n",
              "      <td>NaN</td>\n",
              "      <td>NaN</td>\n",
              "      <td>NaN</td>\n",
              "      <td>NaN</td>\n",
              "      <td>NaN</td>\n",
              "      <td>NaN</td>\n",
              "      <td>NaN</td>\n",
              "      <td>NaN</td>\n",
              "      <td>NaN</td>\n",
              "      <td>NaN</td>\n",
              "      <td>NaN</td>\n",
              "      <td>NaN</td>\n",
              "      <td>NaN</td>\n",
              "      <td>NaN</td>\n",
              "      <td>NaN</td>\n",
              "      <td>NaN</td>\n",
              "      <td>2250.0</td>\n",
              "      <td>NaN</td>\n",
              "      <td>NaN</td>\n",
              "    </tr>\n",
              "    <tr>\n",
              "      <th>saddam</th>\n",
              "      <td>NaN</td>\n",
              "      <td>NaN</td>\n",
              "      <td>1500.0</td>\n",
              "      <td>1500.0</td>\n",
              "      <td>1500.0</td>\n",
              "      <td>2000.0</td>\n",
              "      <td>1000.0</td>\n",
              "      <td>2000.0</td>\n",
              "      <td>1500.0</td>\n",
              "      <td>NaN</td>\n",
              "      <td>NaN</td>\n",
              "      <td>2000.0</td>\n",
              "      <td>1500.0</td>\n",
              "      <td>1500.0</td>\n",
              "      <td>0.0</td>\n",
              "      <td>0.0</td>\n",
              "      <td>2000.0</td>\n",
              "      <td>2000.0</td>\n",
              "      <td>2000.0</td>\n",
              "      <td>NaN</td>\n",
              "    </tr>\n",
              "    <tr>\n",
              "      <th>total</th>\n",
              "      <td>NaN</td>\n",
              "      <td>5000.0</td>\n",
              "      <td>13000.0</td>\n",
              "      <td>8000.0</td>\n",
              "      <td>14500.0</td>\n",
              "      <td>17000.0</td>\n",
              "      <td>11000.0</td>\n",
              "      <td>15000.0</td>\n",
              "      <td>11000.0</td>\n",
              "      <td>NaN</td>\n",
              "      <td>12000.0</td>\n",
              "      <td>19000.0</td>\n",
              "      <td>15000.0</td>\n",
              "      <td>18500.0</td>\n",
              "      <td>18500.0</td>\n",
              "      <td>20000.0</td>\n",
              "      <td>26500.0</td>\n",
              "      <td>30000.0</td>\n",
              "      <td>23000.0</td>\n",
              "      <td>23000.0</td>\n",
              "    </tr>\n",
              "    <tr>\n",
              "      <th>vakil_jcb</th>\n",
              "      <td>NaN</td>\n",
              "      <td>2000.0</td>\n",
              "      <td>NaN</td>\n",
              "      <td>NaN</td>\n",
              "      <td>NaN</td>\n",
              "      <td>3000.0</td>\n",
              "      <td>3000.0</td>\n",
              "      <td>2000.0</td>\n",
              "      <td>NaN</td>\n",
              "      <td>NaN</td>\n",
              "      <td>3000.0</td>\n",
              "      <td>3000.0</td>\n",
              "      <td>5000.0</td>\n",
              "      <td>3000.0</td>\n",
              "      <td>3500.0</td>\n",
              "      <td>3000.0</td>\n",
              "      <td>2000.0</td>\n",
              "      <td>6500.0</td>\n",
              "      <td>3000.0</td>\n",
              "      <td>3000.0</td>\n",
              "    </tr>\n",
              "    <tr>\n",
              "      <th>wajid</th>\n",
              "      <td>NaN</td>\n",
              "      <td>NaN</td>\n",
              "      <td>NaN</td>\n",
              "      <td>NaN</td>\n",
              "      <td>NaN</td>\n",
              "      <td>NaN</td>\n",
              "      <td>NaN</td>\n",
              "      <td>NaN</td>\n",
              "      <td>NaN</td>\n",
              "      <td>NaN</td>\n",
              "      <td>NaN</td>\n",
              "      <td>NaN</td>\n",
              "      <td>1000.0</td>\n",
              "      <td>2000.0</td>\n",
              "      <td>NaN</td>\n",
              "      <td>2000.0</td>\n",
              "      <td>2000.0</td>\n",
              "      <td>2000.0</td>\n",
              "      <td>0.0</td>\n",
              "      <td>2000.0</td>\n",
              "    </tr>\n",
              "    <tr>\n",
              "      <th>zishan</th>\n",
              "      <td>NaN</td>\n",
              "      <td>NaN</td>\n",
              "      <td>NaN</td>\n",
              "      <td>NaN</td>\n",
              "      <td>NaN</td>\n",
              "      <td>NaN</td>\n",
              "      <td>NaN</td>\n",
              "      <td>NaN</td>\n",
              "      <td>NaN</td>\n",
              "      <td>NaN</td>\n",
              "      <td>NaN</td>\n",
              "      <td>NaN</td>\n",
              "      <td>NaN</td>\n",
              "      <td>NaN</td>\n",
              "      <td>NaN</td>\n",
              "      <td>NaN</td>\n",
              "      <td>NaN</td>\n",
              "      <td>NaN</td>\n",
              "      <td>2000.0</td>\n",
              "      <td>2000.0</td>\n",
              "    </tr>\n",
              "  </tbody>\n",
              "</table>\n",
              "</div>"
            ],
            "text/plain": [
              "Date       2019-08-09  2019-08-10  ...  2019-09-10  2019-09-11\n",
              "Name                               ...                        \n",
              "akram             NaN         NaN  ...      2000.0      2000.0\n",
              "amjad             NaN         NaN  ...         NaN         NaN\n",
              "bhada jcb         NaN         NaN  ...         NaN         NaN\n",
              "bhura             NaN         NaN  ...      2000.0      2000.0\n",
              "car               NaN         NaN  ...         NaN         NaN\n",
              "cash              NaN         NaN  ...      2000.0      2000.0\n",
              "gulfam            NaN         NaN  ...      2000.0      2000.0\n",
              "imran             0.0      1500.0  ...      2000.0      2000.0\n",
              "jabir             NaN         NaN  ...      2000.0         NaN\n",
              "julfan            0.0      1500.0  ...      2000.0         0.0\n",
              "kayum             NaN         NaN  ...         NaN      2000.0\n",
              "khurseed          NaN         NaN  ...      2000.0      2000.0\n",
              "rasid             NaN         NaN  ...         NaN      2000.0\n",
              "sabir jcb         NaN         NaN  ...         NaN         NaN\n",
              "saddam            NaN         NaN  ...      2000.0         NaN\n",
              "total             NaN      5000.0  ...     23000.0     23000.0\n",
              "vakil_jcb         NaN      2000.0  ...      3000.0      3000.0\n",
              "wajid             NaN         NaN  ...         0.0      2000.0\n",
              "zishan            NaN         NaN  ...      2000.0      2000.0\n",
              "\n",
              "[19 rows x 20 columns]"
            ]
          },
          "metadata": {
            "tags": []
          },
          "execution_count": 30
        }
      ]
    },
    {
      "cell_type": "code",
      "metadata": {
        "id": "oB45FXvkLUo_",
        "colab_type": "code",
        "colab": {}
      },
      "source": [
        "pivot_diesel.fillna(value = 0, inplace = True)"
      ],
      "execution_count": 0,
      "outputs": []
    },
    {
      "cell_type": "code",
      "metadata": {
        "id": "xEonX1pxLeBD",
        "colab_type": "code",
        "outputId": "c00409a6-529a-43e6-a660-f1b55cc403b6",
        "colab": {
          "base_uri": "https://localhost:8080/",
          "height": 196
        }
      },
      "source": [
        "pivot_diesel.head(2)"
      ],
      "execution_count": 0,
      "outputs": [
        {
          "output_type": "execute_result",
          "data": {
            "text/html": [
              "<div>\n",
              "<style scoped>\n",
              "    .dataframe tbody tr th:only-of-type {\n",
              "        vertical-align: middle;\n",
              "    }\n",
              "\n",
              "    .dataframe tbody tr th {\n",
              "        vertical-align: top;\n",
              "    }\n",
              "\n",
              "    .dataframe thead th {\n",
              "        text-align: right;\n",
              "    }\n",
              "</style>\n",
              "<table border=\"1\" class=\"dataframe\">\n",
              "  <thead>\n",
              "    <tr style=\"text-align: right;\">\n",
              "      <th>Date</th>\n",
              "      <th>2019-08-09 00:00:00</th>\n",
              "      <th>2019-08-10 00:00:00</th>\n",
              "      <th>2019-08-11 00:00:00</th>\n",
              "      <th>2019-08-22 00:00:00</th>\n",
              "      <th>2019-08-23 00:00:00</th>\n",
              "      <th>2019-08-24 00:00:00</th>\n",
              "      <th>2019-08-25 00:00:00</th>\n",
              "      <th>2019-08-28 00:00:00</th>\n",
              "      <th>2019-08-29 00:00:00</th>\n",
              "      <th>2019-09-01 00:00:00</th>\n",
              "      <th>2019-09-02 00:00:00</th>\n",
              "      <th>2019-09-03 00:00:00</th>\n",
              "      <th>2019-09-04 00:00:00</th>\n",
              "      <th>2019-09-05 00:00:00</th>\n",
              "      <th>2019-09-06 00:00:00</th>\n",
              "      <th>2019-09-07 00:00:00</th>\n",
              "      <th>2019-09-08 00:00:00</th>\n",
              "      <th>2019-09-09 00:00:00</th>\n",
              "      <th>2019-09-10 00:00:00</th>\n",
              "      <th>2019-09-11 00:00:00</th>\n",
              "    </tr>\n",
              "    <tr>\n",
              "      <th>Name</th>\n",
              "      <th></th>\n",
              "      <th></th>\n",
              "      <th></th>\n",
              "      <th></th>\n",
              "      <th></th>\n",
              "      <th></th>\n",
              "      <th></th>\n",
              "      <th></th>\n",
              "      <th></th>\n",
              "      <th></th>\n",
              "      <th></th>\n",
              "      <th></th>\n",
              "      <th></th>\n",
              "      <th></th>\n",
              "      <th></th>\n",
              "      <th></th>\n",
              "      <th></th>\n",
              "      <th></th>\n",
              "      <th></th>\n",
              "      <th></th>\n",
              "    </tr>\n",
              "  </thead>\n",
              "  <tbody>\n",
              "    <tr>\n",
              "      <th>akram</th>\n",
              "      <td>0.0</td>\n",
              "      <td>0.0</td>\n",
              "      <td>0.0</td>\n",
              "      <td>0.0</td>\n",
              "      <td>0.0</td>\n",
              "      <td>0.0</td>\n",
              "      <td>0.0</td>\n",
              "      <td>0.0</td>\n",
              "      <td>0.0</td>\n",
              "      <td>1000.0</td>\n",
              "      <td>2000.0</td>\n",
              "      <td>0.0</td>\n",
              "      <td>2000.0</td>\n",
              "      <td>2000.0</td>\n",
              "      <td>2000.0</td>\n",
              "      <td>0.0</td>\n",
              "      <td>2000.0</td>\n",
              "      <td>0.0</td>\n",
              "      <td>2000.0</td>\n",
              "      <td>2000.0</td>\n",
              "    </tr>\n",
              "    <tr>\n",
              "      <th>amjad</th>\n",
              "      <td>0.0</td>\n",
              "      <td>0.0</td>\n",
              "      <td>0.0</td>\n",
              "      <td>0.0</td>\n",
              "      <td>0.0</td>\n",
              "      <td>2000.0</td>\n",
              "      <td>2000.0</td>\n",
              "      <td>0.0</td>\n",
              "      <td>0.0</td>\n",
              "      <td>0.0</td>\n",
              "      <td>0.0</td>\n",
              "      <td>0.0</td>\n",
              "      <td>0.0</td>\n",
              "      <td>0.0</td>\n",
              "      <td>0.0</td>\n",
              "      <td>0.0</td>\n",
              "      <td>0.0</td>\n",
              "      <td>0.0</td>\n",
              "      <td>0.0</td>\n",
              "      <td>0.0</td>\n",
              "    </tr>\n",
              "  </tbody>\n",
              "</table>\n",
              "</div>"
            ],
            "text/plain": [
              "Date   2019-08-09  2019-08-10  2019-08-11  ...  2019-09-09  2019-09-10  2019-09-11\n",
              "Name                                       ...                                    \n",
              "akram         0.0         0.0         0.0  ...         0.0      2000.0      2000.0\n",
              "amjad         0.0         0.0         0.0  ...         0.0         0.0         0.0\n",
              "\n",
              "[2 rows x 20 columns]"
            ]
          },
          "metadata": {
            "tags": []
          },
          "execution_count": 32
        }
      ]
    },
    {
      "cell_type": "code",
      "metadata": {
        "id": "rEELWCKs_5Nx",
        "colab_type": "code",
        "outputId": "ecb087ca-5977-4e6d-fe1e-b4c5ee83e2a8",
        "colab": {
          "base_uri": "https://localhost:8080/",
          "height": 165
        }
      },
      "source": [
        "pivot_diesel['Total Diesel'] = pd.Series([0 for i in range(len(pivot_diesel))])\n",
        "pivot_diesel.head(1)"
      ],
      "execution_count": 0,
      "outputs": [
        {
          "output_type": "execute_result",
          "data": {
            "text/html": [
              "<div>\n",
              "<style scoped>\n",
              "    .dataframe tbody tr th:only-of-type {\n",
              "        vertical-align: middle;\n",
              "    }\n",
              "\n",
              "    .dataframe tbody tr th {\n",
              "        vertical-align: top;\n",
              "    }\n",
              "\n",
              "    .dataframe thead th {\n",
              "        text-align: right;\n",
              "    }\n",
              "</style>\n",
              "<table border=\"1\" class=\"dataframe\">\n",
              "  <thead>\n",
              "    <tr style=\"text-align: right;\">\n",
              "      <th>Date</th>\n",
              "      <th>2019-08-09 00:00:00</th>\n",
              "      <th>2019-08-10 00:00:00</th>\n",
              "      <th>2019-08-11 00:00:00</th>\n",
              "      <th>2019-08-22 00:00:00</th>\n",
              "      <th>2019-08-23 00:00:00</th>\n",
              "      <th>2019-08-24 00:00:00</th>\n",
              "      <th>2019-08-25 00:00:00</th>\n",
              "      <th>2019-08-28 00:00:00</th>\n",
              "      <th>2019-08-29 00:00:00</th>\n",
              "      <th>2019-09-01 00:00:00</th>\n",
              "      <th>2019-09-02 00:00:00</th>\n",
              "      <th>2019-09-03 00:00:00</th>\n",
              "      <th>2019-09-04 00:00:00</th>\n",
              "      <th>2019-09-05 00:00:00</th>\n",
              "      <th>2019-09-06 00:00:00</th>\n",
              "      <th>2019-09-07 00:00:00</th>\n",
              "      <th>2019-09-08 00:00:00</th>\n",
              "      <th>2019-09-09 00:00:00</th>\n",
              "      <th>2019-09-10 00:00:00</th>\n",
              "      <th>2019-09-11 00:00:00</th>\n",
              "      <th>Total Diesel</th>\n",
              "    </tr>\n",
              "    <tr>\n",
              "      <th>Name</th>\n",
              "      <th></th>\n",
              "      <th></th>\n",
              "      <th></th>\n",
              "      <th></th>\n",
              "      <th></th>\n",
              "      <th></th>\n",
              "      <th></th>\n",
              "      <th></th>\n",
              "      <th></th>\n",
              "      <th></th>\n",
              "      <th></th>\n",
              "      <th></th>\n",
              "      <th></th>\n",
              "      <th></th>\n",
              "      <th></th>\n",
              "      <th></th>\n",
              "      <th></th>\n",
              "      <th></th>\n",
              "      <th></th>\n",
              "      <th></th>\n",
              "      <th></th>\n",
              "    </tr>\n",
              "  </thead>\n",
              "  <tbody>\n",
              "    <tr>\n",
              "      <th>akram</th>\n",
              "      <td>0.0</td>\n",
              "      <td>0.0</td>\n",
              "      <td>0.0</td>\n",
              "      <td>0.0</td>\n",
              "      <td>0.0</td>\n",
              "      <td>0.0</td>\n",
              "      <td>0.0</td>\n",
              "      <td>0.0</td>\n",
              "      <td>0.0</td>\n",
              "      <td>1000.0</td>\n",
              "      <td>2000.0</td>\n",
              "      <td>0.0</td>\n",
              "      <td>2000.0</td>\n",
              "      <td>2000.0</td>\n",
              "      <td>2000.0</td>\n",
              "      <td>0.0</td>\n",
              "      <td>2000.0</td>\n",
              "      <td>0.0</td>\n",
              "      <td>2000.0</td>\n",
              "      <td>2000.0</td>\n",
              "      <td>NaN</td>\n",
              "    </tr>\n",
              "  </tbody>\n",
              "</table>\n",
              "</div>"
            ],
            "text/plain": [
              "Date   2019-08-09 00:00:00  ...  Total Diesel\n",
              "Name                        ...              \n",
              "akram                  0.0  ...           NaN\n",
              "\n",
              "[1 rows x 21 columns]"
            ]
          },
          "metadata": {
            "tags": []
          },
          "execution_count": 33
        }
      ]
    },
    {
      "cell_type": "code",
      "metadata": {
        "id": "Y2EvagJaL13R",
        "colab_type": "code",
        "colab": {}
      },
      "source": [
        "for i in range(len(pivot_diesel)):\n",
        "  pivot_diesel['Total Diesel'][i] = sum(pivot_diesel.iloc[i, 0:-1])"
      ],
      "execution_count": 0,
      "outputs": []
    },
    {
      "cell_type": "code",
      "metadata": {
        "id": "jmPDiMVJASVB",
        "colab_type": "code",
        "outputId": "bfc52320-72c5-4cfb-c270-fb2340daeb06",
        "colab": {
          "base_uri": "https://localhost:8080/",
          "height": 740
        }
      },
      "source": [
        "pivot_diesel"
      ],
      "execution_count": 0,
      "outputs": [
        {
          "output_type": "execute_result",
          "data": {
            "text/html": [
              "<div>\n",
              "<style scoped>\n",
              "    .dataframe tbody tr th:only-of-type {\n",
              "        vertical-align: middle;\n",
              "    }\n",
              "\n",
              "    .dataframe tbody tr th {\n",
              "        vertical-align: top;\n",
              "    }\n",
              "\n",
              "    .dataframe thead th {\n",
              "        text-align: right;\n",
              "    }\n",
              "</style>\n",
              "<table border=\"1\" class=\"dataframe\">\n",
              "  <thead>\n",
              "    <tr style=\"text-align: right;\">\n",
              "      <th>Date</th>\n",
              "      <th>2019-08-09 00:00:00</th>\n",
              "      <th>2019-08-10 00:00:00</th>\n",
              "      <th>2019-08-11 00:00:00</th>\n",
              "      <th>2019-08-22 00:00:00</th>\n",
              "      <th>2019-08-23 00:00:00</th>\n",
              "      <th>2019-08-24 00:00:00</th>\n",
              "      <th>2019-08-25 00:00:00</th>\n",
              "      <th>2019-08-28 00:00:00</th>\n",
              "      <th>2019-08-29 00:00:00</th>\n",
              "      <th>2019-09-01 00:00:00</th>\n",
              "      <th>2019-09-02 00:00:00</th>\n",
              "      <th>2019-09-03 00:00:00</th>\n",
              "      <th>2019-09-04 00:00:00</th>\n",
              "      <th>2019-09-05 00:00:00</th>\n",
              "      <th>2019-09-06 00:00:00</th>\n",
              "      <th>2019-09-07 00:00:00</th>\n",
              "      <th>2019-09-08 00:00:00</th>\n",
              "      <th>2019-09-09 00:00:00</th>\n",
              "      <th>2019-09-10 00:00:00</th>\n",
              "      <th>2019-09-11 00:00:00</th>\n",
              "      <th>Total Diesel</th>\n",
              "    </tr>\n",
              "    <tr>\n",
              "      <th>Name</th>\n",
              "      <th></th>\n",
              "      <th></th>\n",
              "      <th></th>\n",
              "      <th></th>\n",
              "      <th></th>\n",
              "      <th></th>\n",
              "      <th></th>\n",
              "      <th></th>\n",
              "      <th></th>\n",
              "      <th></th>\n",
              "      <th></th>\n",
              "      <th></th>\n",
              "      <th></th>\n",
              "      <th></th>\n",
              "      <th></th>\n",
              "      <th></th>\n",
              "      <th></th>\n",
              "      <th></th>\n",
              "      <th></th>\n",
              "      <th></th>\n",
              "      <th></th>\n",
              "    </tr>\n",
              "  </thead>\n",
              "  <tbody>\n",
              "    <tr>\n",
              "      <th>akram</th>\n",
              "      <td>0.0</td>\n",
              "      <td>0.0</td>\n",
              "      <td>0.0</td>\n",
              "      <td>0.0</td>\n",
              "      <td>0.0</td>\n",
              "      <td>0.0</td>\n",
              "      <td>0.0</td>\n",
              "      <td>0.0</td>\n",
              "      <td>0.0</td>\n",
              "      <td>1000.0</td>\n",
              "      <td>2000.0</td>\n",
              "      <td>0.0</td>\n",
              "      <td>2000.0</td>\n",
              "      <td>2000.0</td>\n",
              "      <td>2000.0</td>\n",
              "      <td>0.0</td>\n",
              "      <td>2000.0</td>\n",
              "      <td>0.0</td>\n",
              "      <td>2000.0</td>\n",
              "      <td>2000.0</td>\n",
              "      <td>15000.0</td>\n",
              "    </tr>\n",
              "    <tr>\n",
              "      <th>amjad</th>\n",
              "      <td>0.0</td>\n",
              "      <td>0.0</td>\n",
              "      <td>0.0</td>\n",
              "      <td>0.0</td>\n",
              "      <td>0.0</td>\n",
              "      <td>2000.0</td>\n",
              "      <td>2000.0</td>\n",
              "      <td>0.0</td>\n",
              "      <td>0.0</td>\n",
              "      <td>0.0</td>\n",
              "      <td>0.0</td>\n",
              "      <td>0.0</td>\n",
              "      <td>0.0</td>\n",
              "      <td>0.0</td>\n",
              "      <td>0.0</td>\n",
              "      <td>0.0</td>\n",
              "      <td>0.0</td>\n",
              "      <td>0.0</td>\n",
              "      <td>0.0</td>\n",
              "      <td>0.0</td>\n",
              "      <td>4000.0</td>\n",
              "    </tr>\n",
              "    <tr>\n",
              "      <th>bhada jcb</th>\n",
              "      <td>0.0</td>\n",
              "      <td>0.0</td>\n",
              "      <td>0.0</td>\n",
              "      <td>0.0</td>\n",
              "      <td>0.0</td>\n",
              "      <td>0.0</td>\n",
              "      <td>0.0</td>\n",
              "      <td>0.0</td>\n",
              "      <td>3000.0</td>\n",
              "      <td>0.0</td>\n",
              "      <td>0.0</td>\n",
              "      <td>0.0</td>\n",
              "      <td>0.0</td>\n",
              "      <td>0.0</td>\n",
              "      <td>3000.0</td>\n",
              "      <td>0.0</td>\n",
              "      <td>3000.0</td>\n",
              "      <td>3000.0</td>\n",
              "      <td>0.0</td>\n",
              "      <td>0.0</td>\n",
              "      <td>12000.0</td>\n",
              "    </tr>\n",
              "    <tr>\n",
              "      <th>bhura</th>\n",
              "      <td>0.0</td>\n",
              "      <td>0.0</td>\n",
              "      <td>0.0</td>\n",
              "      <td>0.0</td>\n",
              "      <td>0.0</td>\n",
              "      <td>0.0</td>\n",
              "      <td>0.0</td>\n",
              "      <td>0.0</td>\n",
              "      <td>0.0</td>\n",
              "      <td>0.0</td>\n",
              "      <td>0.0</td>\n",
              "      <td>2000.0</td>\n",
              "      <td>2000.0</td>\n",
              "      <td>2000.0</td>\n",
              "      <td>2000.0</td>\n",
              "      <td>2000.0</td>\n",
              "      <td>2000.0</td>\n",
              "      <td>2000.0</td>\n",
              "      <td>2000.0</td>\n",
              "      <td>2000.0</td>\n",
              "      <td>18000.0</td>\n",
              "    </tr>\n",
              "    <tr>\n",
              "      <th>car</th>\n",
              "      <td>0.0</td>\n",
              "      <td>0.0</td>\n",
              "      <td>0.0</td>\n",
              "      <td>0.0</td>\n",
              "      <td>0.0</td>\n",
              "      <td>0.0</td>\n",
              "      <td>0.0</td>\n",
              "      <td>0.0</td>\n",
              "      <td>0.0</td>\n",
              "      <td>0.0</td>\n",
              "      <td>0.0</td>\n",
              "      <td>0.0</td>\n",
              "      <td>0.0</td>\n",
              "      <td>0.0</td>\n",
              "      <td>500.0</td>\n",
              "      <td>0.0</td>\n",
              "      <td>0.0</td>\n",
              "      <td>500.0</td>\n",
              "      <td>0.0</td>\n",
              "      <td>0.0</td>\n",
              "      <td>1000.0</td>\n",
              "    </tr>\n",
              "    <tr>\n",
              "      <th>cash</th>\n",
              "      <td>0.0</td>\n",
              "      <td>0.0</td>\n",
              "      <td>4500.0</td>\n",
              "      <td>2500.0</td>\n",
              "      <td>3500.0</td>\n",
              "      <td>2000.0</td>\n",
              "      <td>0.0</td>\n",
              "      <td>3500.0</td>\n",
              "      <td>3000.0</td>\n",
              "      <td>0.0</td>\n",
              "      <td>3000.0</td>\n",
              "      <td>4000.0</td>\n",
              "      <td>0.0</td>\n",
              "      <td>2000.0</td>\n",
              "      <td>3500.0</td>\n",
              "      <td>2000.0</td>\n",
              "      <td>2000.0</td>\n",
              "      <td>0.0</td>\n",
              "      <td>2000.0</td>\n",
              "      <td>2000.0</td>\n",
              "      <td>39500.0</td>\n",
              "    </tr>\n",
              "    <tr>\n",
              "      <th>gulfam</th>\n",
              "      <td>0.0</td>\n",
              "      <td>0.0</td>\n",
              "      <td>2000.0</td>\n",
              "      <td>2000.0</td>\n",
              "      <td>2000.0</td>\n",
              "      <td>0.0</td>\n",
              "      <td>1000.0</td>\n",
              "      <td>1000.0</td>\n",
              "      <td>1500.0</td>\n",
              "      <td>0.0</td>\n",
              "      <td>0.0</td>\n",
              "      <td>2000.0</td>\n",
              "      <td>0.0</td>\n",
              "      <td>1000.0</td>\n",
              "      <td>2000.0</td>\n",
              "      <td>2000.0</td>\n",
              "      <td>2000.0</td>\n",
              "      <td>0.0</td>\n",
              "      <td>2000.0</td>\n",
              "      <td>2000.0</td>\n",
              "      <td>22500.0</td>\n",
              "    </tr>\n",
              "    <tr>\n",
              "      <th>imran</th>\n",
              "      <td>0.0</td>\n",
              "      <td>1500.0</td>\n",
              "      <td>1500.0</td>\n",
              "      <td>2000.0</td>\n",
              "      <td>2000.0</td>\n",
              "      <td>2000.0</td>\n",
              "      <td>0.0</td>\n",
              "      <td>2000.0</td>\n",
              "      <td>2000.0</td>\n",
              "      <td>0.0</td>\n",
              "      <td>0.0</td>\n",
              "      <td>2000.0</td>\n",
              "      <td>2000.0</td>\n",
              "      <td>1000.0</td>\n",
              "      <td>2000.0</td>\n",
              "      <td>2000.0</td>\n",
              "      <td>2000.0</td>\n",
              "      <td>1500.0</td>\n",
              "      <td>2000.0</td>\n",
              "      <td>2000.0</td>\n",
              "      <td>29500.0</td>\n",
              "    </tr>\n",
              "    <tr>\n",
              "      <th>jabir</th>\n",
              "      <td>0.0</td>\n",
              "      <td>0.0</td>\n",
              "      <td>0.0</td>\n",
              "      <td>0.0</td>\n",
              "      <td>2000.0</td>\n",
              "      <td>2000.0</td>\n",
              "      <td>0.0</td>\n",
              "      <td>0.0</td>\n",
              "      <td>0.0</td>\n",
              "      <td>0.0</td>\n",
              "      <td>0.0</td>\n",
              "      <td>0.0</td>\n",
              "      <td>0.0</td>\n",
              "      <td>0.0</td>\n",
              "      <td>0.0</td>\n",
              "      <td>1000.0</td>\n",
              "      <td>2000.0</td>\n",
              "      <td>0.0</td>\n",
              "      <td>2000.0</td>\n",
              "      <td>0.0</td>\n",
              "      <td>9000.0</td>\n",
              "    </tr>\n",
              "    <tr>\n",
              "      <th>julfan</th>\n",
              "      <td>0.0</td>\n",
              "      <td>1500.0</td>\n",
              "      <td>1500.0</td>\n",
              "      <td>0.0</td>\n",
              "      <td>2000.0</td>\n",
              "      <td>2000.0</td>\n",
              "      <td>1000.0</td>\n",
              "      <td>2000.0</td>\n",
              "      <td>0.0</td>\n",
              "      <td>0.0</td>\n",
              "      <td>0.0</td>\n",
              "      <td>0.0</td>\n",
              "      <td>0.0</td>\n",
              "      <td>0.0</td>\n",
              "      <td>0.0</td>\n",
              "      <td>0.0</td>\n",
              "      <td>2000.0</td>\n",
              "      <td>2000.0</td>\n",
              "      <td>2000.0</td>\n",
              "      <td>0.0</td>\n",
              "      <td>16000.0</td>\n",
              "    </tr>\n",
              "    <tr>\n",
              "      <th>kayum</th>\n",
              "      <td>0.0</td>\n",
              "      <td>0.0</td>\n",
              "      <td>0.0</td>\n",
              "      <td>0.0</td>\n",
              "      <td>0.0</td>\n",
              "      <td>0.0</td>\n",
              "      <td>0.0</td>\n",
              "      <td>1500.0</td>\n",
              "      <td>0.0</td>\n",
              "      <td>1000.0</td>\n",
              "      <td>2000.0</td>\n",
              "      <td>2000.0</td>\n",
              "      <td>0.0</td>\n",
              "      <td>2000.0</td>\n",
              "      <td>0.0</td>\n",
              "      <td>2000.0</td>\n",
              "      <td>0.0</td>\n",
              "      <td>2000.0</td>\n",
              "      <td>0.0</td>\n",
              "      <td>2000.0</td>\n",
              "      <td>14500.0</td>\n",
              "    </tr>\n",
              "    <tr>\n",
              "      <th>khurseed</th>\n",
              "      <td>0.0</td>\n",
              "      <td>0.0</td>\n",
              "      <td>2000.0</td>\n",
              "      <td>0.0</td>\n",
              "      <td>1500.0</td>\n",
              "      <td>2000.0</td>\n",
              "      <td>2000.0</td>\n",
              "      <td>1000.0</td>\n",
              "      <td>0.0</td>\n",
              "      <td>0.0</td>\n",
              "      <td>2000.0</td>\n",
              "      <td>2000.0</td>\n",
              "      <td>1500.0</td>\n",
              "      <td>2000.0</td>\n",
              "      <td>0.0</td>\n",
              "      <td>2000.0</td>\n",
              "      <td>1500.0</td>\n",
              "      <td>2000.0</td>\n",
              "      <td>2000.0</td>\n",
              "      <td>2000.0</td>\n",
              "      <td>25500.0</td>\n",
              "    </tr>\n",
              "    <tr>\n",
              "      <th>rasid</th>\n",
              "      <td>0.0</td>\n",
              "      <td>0.0</td>\n",
              "      <td>0.0</td>\n",
              "      <td>0.0</td>\n",
              "      <td>0.0</td>\n",
              "      <td>0.0</td>\n",
              "      <td>0.0</td>\n",
              "      <td>0.0</td>\n",
              "      <td>0.0</td>\n",
              "      <td>0.0</td>\n",
              "      <td>0.0</td>\n",
              "      <td>0.0</td>\n",
              "      <td>0.0</td>\n",
              "      <td>0.0</td>\n",
              "      <td>0.0</td>\n",
              "      <td>2000.0</td>\n",
              "      <td>2000.0</td>\n",
              "      <td>2000.0</td>\n",
              "      <td>0.0</td>\n",
              "      <td>2000.0</td>\n",
              "      <td>8000.0</td>\n",
              "    </tr>\n",
              "    <tr>\n",
              "      <th>sabir jcb</th>\n",
              "      <td>0.0</td>\n",
              "      <td>0.0</td>\n",
              "      <td>0.0</td>\n",
              "      <td>0.0</td>\n",
              "      <td>0.0</td>\n",
              "      <td>0.0</td>\n",
              "      <td>0.0</td>\n",
              "      <td>0.0</td>\n",
              "      <td>0.0</td>\n",
              "      <td>0.0</td>\n",
              "      <td>0.0</td>\n",
              "      <td>0.0</td>\n",
              "      <td>0.0</td>\n",
              "      <td>0.0</td>\n",
              "      <td>0.0</td>\n",
              "      <td>0.0</td>\n",
              "      <td>0.0</td>\n",
              "      <td>2250.0</td>\n",
              "      <td>0.0</td>\n",
              "      <td>0.0</td>\n",
              "      <td>2250.0</td>\n",
              "    </tr>\n",
              "    <tr>\n",
              "      <th>saddam</th>\n",
              "      <td>0.0</td>\n",
              "      <td>0.0</td>\n",
              "      <td>1500.0</td>\n",
              "      <td>1500.0</td>\n",
              "      <td>1500.0</td>\n",
              "      <td>2000.0</td>\n",
              "      <td>1000.0</td>\n",
              "      <td>2000.0</td>\n",
              "      <td>1500.0</td>\n",
              "      <td>0.0</td>\n",
              "      <td>0.0</td>\n",
              "      <td>2000.0</td>\n",
              "      <td>1500.0</td>\n",
              "      <td>1500.0</td>\n",
              "      <td>0.0</td>\n",
              "      <td>0.0</td>\n",
              "      <td>2000.0</td>\n",
              "      <td>2000.0</td>\n",
              "      <td>2000.0</td>\n",
              "      <td>0.0</td>\n",
              "      <td>22000.0</td>\n",
              "    </tr>\n",
              "    <tr>\n",
              "      <th>total</th>\n",
              "      <td>0.0</td>\n",
              "      <td>5000.0</td>\n",
              "      <td>13000.0</td>\n",
              "      <td>8000.0</td>\n",
              "      <td>14500.0</td>\n",
              "      <td>17000.0</td>\n",
              "      <td>11000.0</td>\n",
              "      <td>15000.0</td>\n",
              "      <td>11000.0</td>\n",
              "      <td>0.0</td>\n",
              "      <td>12000.0</td>\n",
              "      <td>19000.0</td>\n",
              "      <td>15000.0</td>\n",
              "      <td>18500.0</td>\n",
              "      <td>18500.0</td>\n",
              "      <td>20000.0</td>\n",
              "      <td>26500.0</td>\n",
              "      <td>30000.0</td>\n",
              "      <td>23000.0</td>\n",
              "      <td>23000.0</td>\n",
              "      <td>300000.0</td>\n",
              "    </tr>\n",
              "    <tr>\n",
              "      <th>vakil_jcb</th>\n",
              "      <td>0.0</td>\n",
              "      <td>2000.0</td>\n",
              "      <td>0.0</td>\n",
              "      <td>0.0</td>\n",
              "      <td>0.0</td>\n",
              "      <td>3000.0</td>\n",
              "      <td>3000.0</td>\n",
              "      <td>2000.0</td>\n",
              "      <td>0.0</td>\n",
              "      <td>0.0</td>\n",
              "      <td>3000.0</td>\n",
              "      <td>3000.0</td>\n",
              "      <td>5000.0</td>\n",
              "      <td>3000.0</td>\n",
              "      <td>3500.0</td>\n",
              "      <td>3000.0</td>\n",
              "      <td>2000.0</td>\n",
              "      <td>6500.0</td>\n",
              "      <td>3000.0</td>\n",
              "      <td>3000.0</td>\n",
              "      <td>45000.0</td>\n",
              "    </tr>\n",
              "    <tr>\n",
              "      <th>wajid</th>\n",
              "      <td>0.0</td>\n",
              "      <td>0.0</td>\n",
              "      <td>0.0</td>\n",
              "      <td>0.0</td>\n",
              "      <td>0.0</td>\n",
              "      <td>0.0</td>\n",
              "      <td>0.0</td>\n",
              "      <td>0.0</td>\n",
              "      <td>0.0</td>\n",
              "      <td>0.0</td>\n",
              "      <td>0.0</td>\n",
              "      <td>0.0</td>\n",
              "      <td>1000.0</td>\n",
              "      <td>2000.0</td>\n",
              "      <td>0.0</td>\n",
              "      <td>2000.0</td>\n",
              "      <td>2000.0</td>\n",
              "      <td>2000.0</td>\n",
              "      <td>0.0</td>\n",
              "      <td>2000.0</td>\n",
              "      <td>11000.0</td>\n",
              "    </tr>\n",
              "    <tr>\n",
              "      <th>zishan</th>\n",
              "      <td>0.0</td>\n",
              "      <td>0.0</td>\n",
              "      <td>0.0</td>\n",
              "      <td>0.0</td>\n",
              "      <td>0.0</td>\n",
              "      <td>0.0</td>\n",
              "      <td>0.0</td>\n",
              "      <td>0.0</td>\n",
              "      <td>0.0</td>\n",
              "      <td>0.0</td>\n",
              "      <td>0.0</td>\n",
              "      <td>0.0</td>\n",
              "      <td>0.0</td>\n",
              "      <td>0.0</td>\n",
              "      <td>0.0</td>\n",
              "      <td>0.0</td>\n",
              "      <td>0.0</td>\n",
              "      <td>0.0</td>\n",
              "      <td>2000.0</td>\n",
              "      <td>2000.0</td>\n",
              "      <td>4000.0</td>\n",
              "    </tr>\n",
              "  </tbody>\n",
              "</table>\n",
              "</div>"
            ],
            "text/plain": [
              "Date       2019-08-09 00:00:00  ...  Total Diesel\n",
              "Name                            ...              \n",
              "akram                      0.0  ...       15000.0\n",
              "amjad                      0.0  ...        4000.0\n",
              "bhada jcb                  0.0  ...       12000.0\n",
              "bhura                      0.0  ...       18000.0\n",
              "car                        0.0  ...        1000.0\n",
              "cash                       0.0  ...       39500.0\n",
              "gulfam                     0.0  ...       22500.0\n",
              "imran                      0.0  ...       29500.0\n",
              "jabir                      0.0  ...        9000.0\n",
              "julfan                     0.0  ...       16000.0\n",
              "kayum                      0.0  ...       14500.0\n",
              "khurseed                   0.0  ...       25500.0\n",
              "rasid                      0.0  ...        8000.0\n",
              "sabir jcb                  0.0  ...        2250.0\n",
              "saddam                     0.0  ...       22000.0\n",
              "total                      0.0  ...      300000.0\n",
              "vakil_jcb                  0.0  ...       45000.0\n",
              "wajid                      0.0  ...       11000.0\n",
              "zishan                     0.0  ...        4000.0\n",
              "\n",
              "[19 rows x 21 columns]"
            ]
          },
          "metadata": {
            "tags": []
          },
          "execution_count": 35
        }
      ]
    },
    {
      "cell_type": "code",
      "metadata": {
        "id": "jyp4QkHLo82j",
        "colab_type": "code",
        "outputId": "88075f74-2814-4a02-a59e-f1d4304c23b4",
        "colab": {
          "base_uri": "https://localhost:8080/",
          "height": 669
        }
      },
      "source": [
        "diesel = pivot_diesel[['Total Diesel']]\n",
        "diesel"
      ],
      "execution_count": 0,
      "outputs": [
        {
          "output_type": "execute_result",
          "data": {
            "text/html": [
              "<div>\n",
              "<style scoped>\n",
              "    .dataframe tbody tr th:only-of-type {\n",
              "        vertical-align: middle;\n",
              "    }\n",
              "\n",
              "    .dataframe tbody tr th {\n",
              "        vertical-align: top;\n",
              "    }\n",
              "\n",
              "    .dataframe thead th {\n",
              "        text-align: right;\n",
              "    }\n",
              "</style>\n",
              "<table border=\"1\" class=\"dataframe\">\n",
              "  <thead>\n",
              "    <tr style=\"text-align: right;\">\n",
              "      <th>Date</th>\n",
              "      <th>Total Diesel</th>\n",
              "    </tr>\n",
              "    <tr>\n",
              "      <th>Name</th>\n",
              "      <th></th>\n",
              "    </tr>\n",
              "  </thead>\n",
              "  <tbody>\n",
              "    <tr>\n",
              "      <th>akram</th>\n",
              "      <td>15000.0</td>\n",
              "    </tr>\n",
              "    <tr>\n",
              "      <th>amjad</th>\n",
              "      <td>4000.0</td>\n",
              "    </tr>\n",
              "    <tr>\n",
              "      <th>bhada jcb</th>\n",
              "      <td>12000.0</td>\n",
              "    </tr>\n",
              "    <tr>\n",
              "      <th>bhura</th>\n",
              "      <td>18000.0</td>\n",
              "    </tr>\n",
              "    <tr>\n",
              "      <th>car</th>\n",
              "      <td>1000.0</td>\n",
              "    </tr>\n",
              "    <tr>\n",
              "      <th>cash</th>\n",
              "      <td>39500.0</td>\n",
              "    </tr>\n",
              "    <tr>\n",
              "      <th>gulfam</th>\n",
              "      <td>22500.0</td>\n",
              "    </tr>\n",
              "    <tr>\n",
              "      <th>imran</th>\n",
              "      <td>29500.0</td>\n",
              "    </tr>\n",
              "    <tr>\n",
              "      <th>jabir</th>\n",
              "      <td>9000.0</td>\n",
              "    </tr>\n",
              "    <tr>\n",
              "      <th>julfan</th>\n",
              "      <td>16000.0</td>\n",
              "    </tr>\n",
              "    <tr>\n",
              "      <th>kayum</th>\n",
              "      <td>14500.0</td>\n",
              "    </tr>\n",
              "    <tr>\n",
              "      <th>khurseed</th>\n",
              "      <td>25500.0</td>\n",
              "    </tr>\n",
              "    <tr>\n",
              "      <th>rasid</th>\n",
              "      <td>8000.0</td>\n",
              "    </tr>\n",
              "    <tr>\n",
              "      <th>sabir jcb</th>\n",
              "      <td>2250.0</td>\n",
              "    </tr>\n",
              "    <tr>\n",
              "      <th>saddam</th>\n",
              "      <td>22000.0</td>\n",
              "    </tr>\n",
              "    <tr>\n",
              "      <th>total</th>\n",
              "      <td>300000.0</td>\n",
              "    </tr>\n",
              "    <tr>\n",
              "      <th>vakil_jcb</th>\n",
              "      <td>45000.0</td>\n",
              "    </tr>\n",
              "    <tr>\n",
              "      <th>wajid</th>\n",
              "      <td>11000.0</td>\n",
              "    </tr>\n",
              "    <tr>\n",
              "      <th>zishan</th>\n",
              "      <td>4000.0</td>\n",
              "    </tr>\n",
              "  </tbody>\n",
              "</table>\n",
              "</div>"
            ],
            "text/plain": [
              "Date       Total Diesel\n",
              "Name                   \n",
              "akram           15000.0\n",
              "amjad            4000.0\n",
              "bhada jcb       12000.0\n",
              "bhura           18000.0\n",
              "car              1000.0\n",
              "cash            39500.0\n",
              "gulfam          22500.0\n",
              "imran           29500.0\n",
              "jabir            9000.0\n",
              "julfan          16000.0\n",
              "kayum           14500.0\n",
              "khurseed        25500.0\n",
              "rasid            8000.0\n",
              "sabir jcb        2250.0\n",
              "saddam          22000.0\n",
              "total          300000.0\n",
              "vakil_jcb       45000.0\n",
              "wajid           11000.0\n",
              "zishan           4000.0"
            ]
          },
          "metadata": {
            "tags": []
          },
          "execution_count": 36
        }
      ]
    },
    {
      "cell_type": "markdown",
      "metadata": {
        "id": "jsQ52FyRCZz9",
        "colab_type": "text"
      },
      "source": [
        "# Total Quantity per name"
      ]
    },
    {
      "cell_type": "code",
      "metadata": {
        "id": "aAtFy8oyD3dM",
        "colab_type": "code",
        "colab": {}
      },
      "source": [
        "name_groups = df.groupby('Name')\n",
        "name_total_quantity = pd.DataFrame(columns = ['Name', 'Total Quantity'])\n",
        "for i, j in name_groups:\n",
        "  name_total_quantity = name_total_quantity.append({'Name':i, 'Total Quantity': sum(j.Quantity)}, ignore_index = True)\n",
        "  \n",
        "name_total_quantity.sort_values(by = ['Total Quantity'], ascending = False, inplace = True)"
      ],
      "execution_count": 0,
      "outputs": []
    },
    {
      "cell_type": "code",
      "metadata": {
        "id": "4VCgjQr2INk1",
        "colab_type": "code",
        "outputId": "9f3d156b-f929-4bfb-9c11-e36f4c677466",
        "colab": {
          "base_uri": "https://localhost:8080/",
          "height": 483
        }
      },
      "source": [
        "name_total_quantity"
      ],
      "execution_count": 0,
      "outputs": [
        {
          "output_type": "execute_result",
          "data": {
            "text/html": [
              "<div>\n",
              "<style scoped>\n",
              "    .dataframe tbody tr th:only-of-type {\n",
              "        vertical-align: middle;\n",
              "    }\n",
              "\n",
              "    .dataframe tbody tr th {\n",
              "        vertical-align: top;\n",
              "    }\n",
              "\n",
              "    .dataframe thead th {\n",
              "        text-align: right;\n",
              "    }\n",
              "</style>\n",
              "<table border=\"1\" class=\"dataframe\">\n",
              "  <thead>\n",
              "    <tr style=\"text-align: right;\">\n",
              "      <th></th>\n",
              "      <th>Name</th>\n",
              "      <th>Total Quantity</th>\n",
              "    </tr>\n",
              "  </thead>\n",
              "  <tbody>\n",
              "    <tr>\n",
              "      <th>4</th>\n",
              "      <td>imran</td>\n",
              "      <td>18659.0</td>\n",
              "    </tr>\n",
              "    <tr>\n",
              "      <th>11</th>\n",
              "      <td>saddam</td>\n",
              "      <td>14880.0</td>\n",
              "    </tr>\n",
              "    <tr>\n",
              "      <th>3</th>\n",
              "      <td>gulfam</td>\n",
              "      <td>14385.0</td>\n",
              "    </tr>\n",
              "    <tr>\n",
              "      <th>8</th>\n",
              "      <td>khurseed</td>\n",
              "      <td>12462.0</td>\n",
              "    </tr>\n",
              "    <tr>\n",
              "      <th>0</th>\n",
              "      <td>akram</td>\n",
              "      <td>10440.0</td>\n",
              "    </tr>\n",
              "    <tr>\n",
              "      <th>2</th>\n",
              "      <td>bhura</td>\n",
              "      <td>9528.0</td>\n",
              "    </tr>\n",
              "    <tr>\n",
              "      <th>6</th>\n",
              "      <td>julfan</td>\n",
              "      <td>9360.0</td>\n",
              "    </tr>\n",
              "    <tr>\n",
              "      <th>5</th>\n",
              "      <td>jabir</td>\n",
              "      <td>7904.0</td>\n",
              "    </tr>\n",
              "    <tr>\n",
              "      <th>12</th>\n",
              "      <td>wajid</td>\n",
              "      <td>7854.0</td>\n",
              "    </tr>\n",
              "    <tr>\n",
              "      <th>7</th>\n",
              "      <td>kayum</td>\n",
              "      <td>7392.0</td>\n",
              "    </tr>\n",
              "    <tr>\n",
              "      <th>10</th>\n",
              "      <td>rasid</td>\n",
              "      <td>5278.0</td>\n",
              "    </tr>\n",
              "    <tr>\n",
              "      <th>13</th>\n",
              "      <td>zishan</td>\n",
              "      <td>1936.0</td>\n",
              "    </tr>\n",
              "    <tr>\n",
              "      <th>1</th>\n",
              "      <td>amjad</td>\n",
              "      <td>1191.0</td>\n",
              "    </tr>\n",
              "    <tr>\n",
              "      <th>9</th>\n",
              "      <td>mehmood</td>\n",
              "      <td>1062.0</td>\n",
              "    </tr>\n",
              "  </tbody>\n",
              "</table>\n",
              "</div>"
            ],
            "text/plain": [
              "        Name  Total Quantity\n",
              "4      imran         18659.0\n",
              "11    saddam         14880.0\n",
              "3     gulfam         14385.0\n",
              "8   khurseed         12462.0\n",
              "0      akram         10440.0\n",
              "2      bhura          9528.0\n",
              "6     julfan          9360.0\n",
              "5      jabir          7904.0\n",
              "12     wajid          7854.0\n",
              "7      kayum          7392.0\n",
              "10     rasid          5278.0\n",
              "13    zishan          1936.0\n",
              "1      amjad          1191.0\n",
              "9    mehmood          1062.0"
            ]
          },
          "metadata": {
            "tags": []
          },
          "execution_count": 38
        }
      ]
    },
    {
      "cell_type": "code",
      "metadata": {
        "colab_type": "code",
        "id": "DDtvAy58pvm_",
        "colab": {}
      },
      "source": [
        "diesel.reset_index(inplace = True)"
      ],
      "execution_count": 0,
      "outputs": []
    },
    {
      "cell_type": "code",
      "metadata": {
        "id": "QmuplIIOMtwd",
        "colab_type": "code",
        "outputId": "eb18ba2c-0b66-40de-8cf4-1e2dc4cacac1",
        "colab": {
          "base_uri": "https://localhost:8080/",
          "height": 80
        }
      },
      "source": [
        "diesel.head(1)"
      ],
      "execution_count": 0,
      "outputs": [
        {
          "output_type": "execute_result",
          "data": {
            "text/html": [
              "<div>\n",
              "<style scoped>\n",
              "    .dataframe tbody tr th:only-of-type {\n",
              "        vertical-align: middle;\n",
              "    }\n",
              "\n",
              "    .dataframe tbody tr th {\n",
              "        vertical-align: top;\n",
              "    }\n",
              "\n",
              "    .dataframe thead th {\n",
              "        text-align: right;\n",
              "    }\n",
              "</style>\n",
              "<table border=\"1\" class=\"dataframe\">\n",
              "  <thead>\n",
              "    <tr style=\"text-align: right;\">\n",
              "      <th>Date</th>\n",
              "      <th>Name</th>\n",
              "      <th>Total Diesel</th>\n",
              "    </tr>\n",
              "  </thead>\n",
              "  <tbody>\n",
              "    <tr>\n",
              "      <th>0</th>\n",
              "      <td>akram</td>\n",
              "      <td>15000.0</td>\n",
              "    </tr>\n",
              "  </tbody>\n",
              "</table>\n",
              "</div>"
            ],
            "text/plain": [
              "Date   Name  Total Diesel\n",
              "0     akram       15000.0"
            ]
          },
          "metadata": {
            "tags": []
          },
          "execution_count": 40
        }
      ]
    },
    {
      "cell_type": "code",
      "metadata": {
        "id": "cJvCrs5eHUzH",
        "colab_type": "code",
        "outputId": "38200148-5eba-4440-99af-38b11f8a1156",
        "colab": {
          "base_uri": "https://localhost:8080/",
          "height": 34
        }
      },
      "source": [
        "name_total_quantity.shape"
      ],
      "execution_count": 0,
      "outputs": [
        {
          "output_type": "execute_result",
          "data": {
            "text/plain": [
              "(14, 2)"
            ]
          },
          "metadata": {
            "tags": []
          },
          "execution_count": 41
        }
      ]
    },
    {
      "cell_type": "code",
      "metadata": {
        "id": "bIgFlZSgHZ2Z",
        "colab_type": "code",
        "outputId": "1e1563f4-2769-40f8-efab-33d42773f6bd",
        "colab": {
          "base_uri": "https://localhost:8080/",
          "height": 34
        }
      },
      "source": [
        "diesel.shape"
      ],
      "execution_count": 0,
      "outputs": [
        {
          "output_type": "execute_result",
          "data": {
            "text/plain": [
              "(19, 2)"
            ]
          },
          "metadata": {
            "tags": []
          },
          "execution_count": 42
        }
      ]
    },
    {
      "cell_type": "code",
      "metadata": {
        "id": "qR3KHrjDqWmj",
        "colab_type": "code",
        "outputId": "fa19327f-c7bf-4a3d-fc83-4b6b0ea8820f",
        "colab": {
          "base_uri": "https://localhost:8080/",
          "height": 68
        }
      },
      "source": [
        "names = name_total_quantity.Name.values\n",
        "names"
      ],
      "execution_count": 0,
      "outputs": [
        {
          "output_type": "execute_result",
          "data": {
            "text/plain": [
              "array(['imran', 'saddam', 'gulfam', 'khurseed', 'akram', 'bhura',\n",
              "       'julfan', 'jabir', 'wajid', 'kayum', 'rasid', 'zishan', 'amjad',\n",
              "       'mehmood'], dtype=object)"
            ]
          },
          "metadata": {
            "tags": []
          },
          "execution_count": 43
        }
      ]
    },
    {
      "cell_type": "code",
      "metadata": {
        "id": "Dt0tY1MmKWaE",
        "colab_type": "code",
        "colab": {}
      },
      "source": [
        "final = pd.DataFrame(columns = ['Name','Counts' , 'Total Quantity', 'Amount', 'Diesel', 'Amount - Diesel'])\n",
        "for i in names:\n",
        "    total_quantity = name_total_quantity[name_total_quantity.Name == i]['Total Quantity'].values[0]\n",
        "    if i in diesel.Name.values:\n",
        "      total_diesel = diesel[diesel.Name == i]['Total Diesel'].values[0]\n",
        "    else:\n",
        "      total_diesel = 0\n",
        "    final = final.append({'Name': i,'Total Quantity':total_quantity,\n",
        "                            'Counts':rounds_per_name.get(i),\n",
        "                            'Amount':total_quantity*3,\n",
        "                            'Diesel':total_diesel,\n",
        "                            'Amount - Diesel':total_quantity*3 - total_diesel},\n",
        "                           ignore_index = True)\n",
        "        \n",
        "    "
      ],
      "execution_count": 0,
      "outputs": []
    },
    {
      "cell_type": "code",
      "metadata": {
        "id": "pqq9bOw3M6j4",
        "colab_type": "code",
        "outputId": "e2caf594-ee04-4369-8d20-5de30ffb2178",
        "colab": {
          "base_uri": "https://localhost:8080/",
          "height": 483
        }
      },
      "source": [
        "final.sort_values(by = 'Total Quantity', ascending = False, inplace = True)\n",
        "final"
      ],
      "execution_count": 0,
      "outputs": [
        {
          "output_type": "execute_result",
          "data": {
            "text/html": [
              "<div>\n",
              "<style scoped>\n",
              "    .dataframe tbody tr th:only-of-type {\n",
              "        vertical-align: middle;\n",
              "    }\n",
              "\n",
              "    .dataframe tbody tr th {\n",
              "        vertical-align: top;\n",
              "    }\n",
              "\n",
              "    .dataframe thead th {\n",
              "        text-align: right;\n",
              "    }\n",
              "</style>\n",
              "<table border=\"1\" class=\"dataframe\">\n",
              "  <thead>\n",
              "    <tr style=\"text-align: right;\">\n",
              "      <th></th>\n",
              "      <th>Name</th>\n",
              "      <th>Counts</th>\n",
              "      <th>Total Quantity</th>\n",
              "      <th>Amount</th>\n",
              "      <th>Diesel</th>\n",
              "      <th>Amount - Diesel</th>\n",
              "    </tr>\n",
              "  </thead>\n",
              "  <tbody>\n",
              "    <tr>\n",
              "      <th>0</th>\n",
              "      <td>imran</td>\n",
              "      <td>47</td>\n",
              "      <td>18659.0</td>\n",
              "      <td>55977.0</td>\n",
              "      <td>29500.0</td>\n",
              "      <td>26477.0</td>\n",
              "    </tr>\n",
              "    <tr>\n",
              "      <th>1</th>\n",
              "      <td>saddam</td>\n",
              "      <td>32</td>\n",
              "      <td>14880.0</td>\n",
              "      <td>44640.0</td>\n",
              "      <td>22000.0</td>\n",
              "      <td>22640.0</td>\n",
              "    </tr>\n",
              "    <tr>\n",
              "      <th>2</th>\n",
              "      <td>gulfam</td>\n",
              "      <td>35</td>\n",
              "      <td>14385.0</td>\n",
              "      <td>43155.0</td>\n",
              "      <td>22500.0</td>\n",
              "      <td>20655.0</td>\n",
              "    </tr>\n",
              "    <tr>\n",
              "      <th>3</th>\n",
              "      <td>khurseed</td>\n",
              "      <td>32</td>\n",
              "      <td>12462.0</td>\n",
              "      <td>37386.0</td>\n",
              "      <td>25500.0</td>\n",
              "      <td>11886.0</td>\n",
              "    </tr>\n",
              "    <tr>\n",
              "      <th>4</th>\n",
              "      <td>akram</td>\n",
              "      <td>29</td>\n",
              "      <td>10440.0</td>\n",
              "      <td>31320.0</td>\n",
              "      <td>15000.0</td>\n",
              "      <td>16320.0</td>\n",
              "    </tr>\n",
              "    <tr>\n",
              "      <th>5</th>\n",
              "      <td>bhura</td>\n",
              "      <td>24</td>\n",
              "      <td>9528.0</td>\n",
              "      <td>28584.0</td>\n",
              "      <td>18000.0</td>\n",
              "      <td>10584.0</td>\n",
              "    </tr>\n",
              "    <tr>\n",
              "      <th>6</th>\n",
              "      <td>julfan</td>\n",
              "      <td>24</td>\n",
              "      <td>9360.0</td>\n",
              "      <td>28080.0</td>\n",
              "      <td>16000.0</td>\n",
              "      <td>12080.0</td>\n",
              "    </tr>\n",
              "    <tr>\n",
              "      <th>7</th>\n",
              "      <td>jabir</td>\n",
              "      <td>19</td>\n",
              "      <td>7904.0</td>\n",
              "      <td>23712.0</td>\n",
              "      <td>9000.0</td>\n",
              "      <td>14712.0</td>\n",
              "    </tr>\n",
              "    <tr>\n",
              "      <th>8</th>\n",
              "      <td>wajid</td>\n",
              "      <td>22</td>\n",
              "      <td>7854.0</td>\n",
              "      <td>23562.0</td>\n",
              "      <td>11000.0</td>\n",
              "      <td>12562.0</td>\n",
              "    </tr>\n",
              "    <tr>\n",
              "      <th>9</th>\n",
              "      <td>kayum</td>\n",
              "      <td>24</td>\n",
              "      <td>7392.0</td>\n",
              "      <td>22176.0</td>\n",
              "      <td>14500.0</td>\n",
              "      <td>7676.0</td>\n",
              "    </tr>\n",
              "    <tr>\n",
              "      <th>10</th>\n",
              "      <td>rasid</td>\n",
              "      <td>13</td>\n",
              "      <td>5278.0</td>\n",
              "      <td>15834.0</td>\n",
              "      <td>8000.0</td>\n",
              "      <td>7834.0</td>\n",
              "    </tr>\n",
              "    <tr>\n",
              "      <th>11</th>\n",
              "      <td>zishan</td>\n",
              "      <td>4</td>\n",
              "      <td>1936.0</td>\n",
              "      <td>5808.0</td>\n",
              "      <td>4000.0</td>\n",
              "      <td>1808.0</td>\n",
              "    </tr>\n",
              "    <tr>\n",
              "      <th>12</th>\n",
              "      <td>amjad</td>\n",
              "      <td>3</td>\n",
              "      <td>1191.0</td>\n",
              "      <td>3573.0</td>\n",
              "      <td>4000.0</td>\n",
              "      <td>-427.0</td>\n",
              "    </tr>\n",
              "    <tr>\n",
              "      <th>13</th>\n",
              "      <td>mehmood</td>\n",
              "      <td>3</td>\n",
              "      <td>1062.0</td>\n",
              "      <td>3186.0</td>\n",
              "      <td>0.0</td>\n",
              "      <td>3186.0</td>\n",
              "    </tr>\n",
              "  </tbody>\n",
              "</table>\n",
              "</div>"
            ],
            "text/plain": [
              "        Name Counts  Total Quantity   Amount   Diesel  Amount - Diesel\n",
              "0      imran     47         18659.0  55977.0  29500.0          26477.0\n",
              "1     saddam     32         14880.0  44640.0  22000.0          22640.0\n",
              "2     gulfam     35         14385.0  43155.0  22500.0          20655.0\n",
              "3   khurseed     32         12462.0  37386.0  25500.0          11886.0\n",
              "4      akram     29         10440.0  31320.0  15000.0          16320.0\n",
              "5      bhura     24          9528.0  28584.0  18000.0          10584.0\n",
              "6     julfan     24          9360.0  28080.0  16000.0          12080.0\n",
              "7      jabir     19          7904.0  23712.0   9000.0          14712.0\n",
              "8      wajid     22          7854.0  23562.0  11000.0          12562.0\n",
              "9      kayum     24          7392.0  22176.0  14500.0           7676.0\n",
              "10     rasid     13          5278.0  15834.0   8000.0           7834.0\n",
              "11    zishan      4          1936.0   5808.0   4000.0           1808.0\n",
              "12     amjad      3          1191.0   3573.0   4000.0           -427.0\n",
              "13   mehmood      3          1062.0   3186.0      0.0           3186.0"
            ]
          },
          "metadata": {
            "tags": []
          },
          "execution_count": 45
        }
      ]
    },
    {
      "cell_type": "code",
      "metadata": {
        "id": "gnLKK1AMtx7o",
        "colab_type": "code",
        "outputId": "e11b18a6-fab0-4e42-b9ab-2a26ff2aab99",
        "colab": {
          "base_uri": "https://localhost:8080/",
          "height": 514
        }
      },
      "source": [
        "final.append({'Name': 'Total', 'Counts': sum(final.Counts), 'Total Quantity':sum(final['Total Quantity']),\t'Amount':sum(final.Amount),\n",
        "              'Diesel':sum(final.Diesel), 'Amount - Diesel':sum(final['Amount - Diesel'])}, ignore_index = True)"
      ],
      "execution_count": 0,
      "outputs": [
        {
          "output_type": "execute_result",
          "data": {
            "text/html": [
              "<div>\n",
              "<style scoped>\n",
              "    .dataframe tbody tr th:only-of-type {\n",
              "        vertical-align: middle;\n",
              "    }\n",
              "\n",
              "    .dataframe tbody tr th {\n",
              "        vertical-align: top;\n",
              "    }\n",
              "\n",
              "    .dataframe thead th {\n",
              "        text-align: right;\n",
              "    }\n",
              "</style>\n",
              "<table border=\"1\" class=\"dataframe\">\n",
              "  <thead>\n",
              "    <tr style=\"text-align: right;\">\n",
              "      <th></th>\n",
              "      <th>Name</th>\n",
              "      <th>Counts</th>\n",
              "      <th>Total Quantity</th>\n",
              "      <th>Amount</th>\n",
              "      <th>Diesel</th>\n",
              "      <th>Amount - Diesel</th>\n",
              "    </tr>\n",
              "  </thead>\n",
              "  <tbody>\n",
              "    <tr>\n",
              "      <th>0</th>\n",
              "      <td>imran</td>\n",
              "      <td>47</td>\n",
              "      <td>18659.0</td>\n",
              "      <td>55977.0</td>\n",
              "      <td>29500.0</td>\n",
              "      <td>26477.0</td>\n",
              "    </tr>\n",
              "    <tr>\n",
              "      <th>1</th>\n",
              "      <td>saddam</td>\n",
              "      <td>32</td>\n",
              "      <td>14880.0</td>\n",
              "      <td>44640.0</td>\n",
              "      <td>22000.0</td>\n",
              "      <td>22640.0</td>\n",
              "    </tr>\n",
              "    <tr>\n",
              "      <th>2</th>\n",
              "      <td>gulfam</td>\n",
              "      <td>35</td>\n",
              "      <td>14385.0</td>\n",
              "      <td>43155.0</td>\n",
              "      <td>22500.0</td>\n",
              "      <td>20655.0</td>\n",
              "    </tr>\n",
              "    <tr>\n",
              "      <th>3</th>\n",
              "      <td>khurseed</td>\n",
              "      <td>32</td>\n",
              "      <td>12462.0</td>\n",
              "      <td>37386.0</td>\n",
              "      <td>25500.0</td>\n",
              "      <td>11886.0</td>\n",
              "    </tr>\n",
              "    <tr>\n",
              "      <th>4</th>\n",
              "      <td>akram</td>\n",
              "      <td>29</td>\n",
              "      <td>10440.0</td>\n",
              "      <td>31320.0</td>\n",
              "      <td>15000.0</td>\n",
              "      <td>16320.0</td>\n",
              "    </tr>\n",
              "    <tr>\n",
              "      <th>5</th>\n",
              "      <td>bhura</td>\n",
              "      <td>24</td>\n",
              "      <td>9528.0</td>\n",
              "      <td>28584.0</td>\n",
              "      <td>18000.0</td>\n",
              "      <td>10584.0</td>\n",
              "    </tr>\n",
              "    <tr>\n",
              "      <th>6</th>\n",
              "      <td>julfan</td>\n",
              "      <td>24</td>\n",
              "      <td>9360.0</td>\n",
              "      <td>28080.0</td>\n",
              "      <td>16000.0</td>\n",
              "      <td>12080.0</td>\n",
              "    </tr>\n",
              "    <tr>\n",
              "      <th>7</th>\n",
              "      <td>jabir</td>\n",
              "      <td>19</td>\n",
              "      <td>7904.0</td>\n",
              "      <td>23712.0</td>\n",
              "      <td>9000.0</td>\n",
              "      <td>14712.0</td>\n",
              "    </tr>\n",
              "    <tr>\n",
              "      <th>8</th>\n",
              "      <td>wajid</td>\n",
              "      <td>22</td>\n",
              "      <td>7854.0</td>\n",
              "      <td>23562.0</td>\n",
              "      <td>11000.0</td>\n",
              "      <td>12562.0</td>\n",
              "    </tr>\n",
              "    <tr>\n",
              "      <th>9</th>\n",
              "      <td>kayum</td>\n",
              "      <td>24</td>\n",
              "      <td>7392.0</td>\n",
              "      <td>22176.0</td>\n",
              "      <td>14500.0</td>\n",
              "      <td>7676.0</td>\n",
              "    </tr>\n",
              "    <tr>\n",
              "      <th>10</th>\n",
              "      <td>rasid</td>\n",
              "      <td>13</td>\n",
              "      <td>5278.0</td>\n",
              "      <td>15834.0</td>\n",
              "      <td>8000.0</td>\n",
              "      <td>7834.0</td>\n",
              "    </tr>\n",
              "    <tr>\n",
              "      <th>11</th>\n",
              "      <td>zishan</td>\n",
              "      <td>4</td>\n",
              "      <td>1936.0</td>\n",
              "      <td>5808.0</td>\n",
              "      <td>4000.0</td>\n",
              "      <td>1808.0</td>\n",
              "    </tr>\n",
              "    <tr>\n",
              "      <th>12</th>\n",
              "      <td>amjad</td>\n",
              "      <td>3</td>\n",
              "      <td>1191.0</td>\n",
              "      <td>3573.0</td>\n",
              "      <td>4000.0</td>\n",
              "      <td>-427.0</td>\n",
              "    </tr>\n",
              "    <tr>\n",
              "      <th>13</th>\n",
              "      <td>mehmood</td>\n",
              "      <td>3</td>\n",
              "      <td>1062.0</td>\n",
              "      <td>3186.0</td>\n",
              "      <td>0.0</td>\n",
              "      <td>3186.0</td>\n",
              "    </tr>\n",
              "    <tr>\n",
              "      <th>14</th>\n",
              "      <td>Total</td>\n",
              "      <td>311</td>\n",
              "      <td>122331.0</td>\n",
              "      <td>366993.0</td>\n",
              "      <td>199000.0</td>\n",
              "      <td>167993.0</td>\n",
              "    </tr>\n",
              "  </tbody>\n",
              "</table>\n",
              "</div>"
            ],
            "text/plain": [
              "        Name Counts  Total Quantity    Amount    Diesel  Amount - Diesel\n",
              "0      imran     47         18659.0   55977.0   29500.0          26477.0\n",
              "1     saddam     32         14880.0   44640.0   22000.0          22640.0\n",
              "2     gulfam     35         14385.0   43155.0   22500.0          20655.0\n",
              "3   khurseed     32         12462.0   37386.0   25500.0          11886.0\n",
              "4      akram     29         10440.0   31320.0   15000.0          16320.0\n",
              "5      bhura     24          9528.0   28584.0   18000.0          10584.0\n",
              "6     julfan     24          9360.0   28080.0   16000.0          12080.0\n",
              "7      jabir     19          7904.0   23712.0    9000.0          14712.0\n",
              "8      wajid     22          7854.0   23562.0   11000.0          12562.0\n",
              "9      kayum     24          7392.0   22176.0   14500.0           7676.0\n",
              "10     rasid     13          5278.0   15834.0    8000.0           7834.0\n",
              "11    zishan      4          1936.0    5808.0    4000.0           1808.0\n",
              "12     amjad      3          1191.0    3573.0    4000.0           -427.0\n",
              "13   mehmood      3          1062.0    3186.0       0.0           3186.0\n",
              "14     Total    311        122331.0  366993.0  199000.0         167993.0"
            ]
          },
          "metadata": {
            "tags": []
          },
          "execution_count": 46
        }
      ]
    },
    {
      "cell_type": "code",
      "metadata": {
        "id": "j9mtOxxVNFDu",
        "colab_type": "code",
        "outputId": "f1f676ef-6fd3-43e5-d2ed-6c1f35ff82a4",
        "colab": {
          "base_uri": "https://localhost:8080/",
          "height": 34
        }
      },
      "source": [
        "final.shape"
      ],
      "execution_count": 0,
      "outputs": [
        {
          "output_type": "execute_result",
          "data": {
            "text/plain": [
              "(14, 6)"
            ]
          },
          "metadata": {
            "tags": []
          },
          "execution_count": 47
        }
      ]
    },
    {
      "cell_type": "code",
      "metadata": {
        "id": "4qByZQESnxAl",
        "colab_type": "code",
        "outputId": "909e6b3f-3376-4f0e-8951-648c61418903",
        "colab": {
          "base_uri": "https://localhost:8080/",
          "height": 136
        }
      },
      "source": [
        "final.sum(axis = 0, skipna = True)"
      ],
      "execution_count": 0,
      "outputs": [
        {
          "output_type": "execute_result",
          "data": {
            "text/plain": [
              "Name               imransaddamgulfamkhurseedakrambhurajulfanjabir...\n",
              "Counts                                                           311\n",
              "Total Quantity                                                122331\n",
              "Amount                                                        366993\n",
              "Diesel                                                        199000\n",
              "Amount - Diesel                                               167993\n",
              "dtype: object"
            ]
          },
          "metadata": {
            "tags": []
          },
          "execution_count": 48
        }
      ]
    },
    {
      "cell_type": "code",
      "metadata": {
        "id": "2dFxg-EjQHiR",
        "colab_type": "code",
        "outputId": "6571f151-5b0c-4ca7-85f3-1588d2d7528c",
        "colab": {
          "base_uri": "https://localhost:8080/",
          "height": 34
        }
      },
      "source": [
        "total_q = sum(final['Total Quantity'])\n",
        "total_q"
      ],
      "execution_count": 0,
      "outputs": [
        {
          "output_type": "execute_result",
          "data": {
            "text/plain": [
              "122331.0"
            ]
          },
          "metadata": {
            "tags": []
          },
          "execution_count": 49
        }
      ]
    },
    {
      "cell_type": "markdown",
      "metadata": {
        "id": "_0al7GQXkDXf",
        "colab_type": "text"
      },
      "source": [
        "# Total payable"
      ]
    },
    {
      "cell_type": "code",
      "metadata": {
        "id": "Gnvgr72nOi46",
        "colab_type": "code",
        "outputId": "f4756347-e1ef-4982-d2b9-5e61f202bf18",
        "colab": {
          "base_uri": "https://localhost:8080/",
          "height": 34
        }
      },
      "source": [
        "our_amount = total_quantity*4.25\n",
        "our_amount"
      ],
      "execution_count": 0,
      "outputs": [
        {
          "output_type": "execute_result",
          "data": {
            "text/plain": [
              "4513.5"
            ]
          },
          "metadata": {
            "tags": []
          },
          "execution_count": 50
        }
      ]
    },
    {
      "cell_type": "code",
      "metadata": {
        "id": "2y-CqyDROs15",
        "colab_type": "code",
        "outputId": "1b1cb732-98f4-4756-fa14-b0f9efd63872",
        "colab": {
          "base_uri": "https://localhost:8080/",
          "height": 34
        }
      },
      "source": [
        "total_diesel "
      ],
      "execution_count": 0,
      "outputs": [
        {
          "output_type": "execute_result",
          "data": {
            "text/plain": [
              "0"
            ]
          },
          "metadata": {
            "tags": []
          },
          "execution_count": 51
        }
      ]
    },
    {
      "cell_type": "code",
      "metadata": {
        "id": "fWPGu8mdvoVe",
        "colab_type": "code",
        "outputId": "eba10bbe-0630-4641-a7f8-95dcb84b3ea7",
        "colab": {
          "base_uri": "https://localhost:8080/",
          "height": 34
        }
      },
      "source": [
        "sabir_jcb = pivot_diesel.loc['sabir jcb']['Total Diesel']\n",
        "sabir_jcb"
      ],
      "execution_count": 0,
      "outputs": [
        {
          "output_type": "execute_result",
          "data": {
            "text/plain": [
              "2250.0"
            ]
          },
          "metadata": {
            "tags": []
          },
          "execution_count": 52
        }
      ]
    },
    {
      "cell_type": "markdown",
      "metadata": {
        "id": "RcA_MAG7O8eW",
        "colab_type": "text"
      },
      "source": [
        "# Our Balance"
      ]
    },
    {
      "cell_type": "code",
      "metadata": {
        "id": "0sA_9sP9OxEs",
        "colab_type": "code",
        "outputId": "d950dc0d-679b-4087-996e-6fb0c08b6e99",
        "colab": {
          "base_uri": "https://localhost:8080/",
          "height": 34
        }
      },
      "source": [
        "balance = our_amount - total_diesel\n",
        "balance"
      ],
      "execution_count": 0,
      "outputs": [
        {
          "output_type": "execute_result",
          "data": {
            "text/plain": [
              "4513.5"
            ]
          },
          "metadata": {
            "tags": []
          },
          "execution_count": 53
        }
      ]
    },
    {
      "cell_type": "markdown",
      "metadata": {
        "id": "qjdbMaeqO5Mo",
        "colab_type": "text"
      },
      "source": [
        "# Tot to People"
      ]
    },
    {
      "cell_type": "code",
      "metadata": {
        "id": "6XWkfa0VyQGy",
        "colab_type": "code",
        "outputId": "ae7b8408-a2a7-4dda-e6fb-7809aef22ce8",
        "colab": {
          "base_uri": "https://localhost:8080/",
          "height": 34
        }
      },
      "source": [
        "to_people = total_quantity*3\n",
        "to_people"
      ],
      "execution_count": 0,
      "outputs": [
        {
          "output_type": "execute_result",
          "data": {
            "text/plain": [
              "3186.0"
            ]
          },
          "metadata": {
            "tags": []
          },
          "execution_count": 54
        }
      ]
    }
  ]
}