{
  "nbformat": 4,
  "nbformat_minor": 0,
  "metadata": {
    "colab": {
      "name": "11_mar_to_5_apr_bill6.ipynb",
      "version": "0.3.2",
      "provenance": [],
      "collapsed_sections": [],
      "include_colab_link": true
    },
    "kernelspec": {
      "name": "python3",
      "display_name": "Python 3"
    },
    "accelerator": "GPU"
  },
  "cells": [
    {
      "cell_type": "markdown",
      "metadata": {
        "id": "view-in-github",
        "colab_type": "text"
      },
      "source": [
        "<a href=\"https://colab.research.google.com/github/noushadkhan01/kansepur-flyash-project/blob/master/11_mar_to_5_apr_bill/11_mar_to_5_apr_bill6.ipynb\" target=\"_parent\"><img src=\"https://colab.research.google.com/assets/colab-badge.svg\" alt=\"Open In Colab\"/></a>"
      ]
    },
    {
      "metadata": {
        "id": "so-LEjYwlBUq",
        "colab_type": "code",
        "outputId": "affbb8e3-21e9-4438-ecd1-14ac0c61168f",
        "colab": {
          "base_uri": "https://localhost:8080/",
          "height": 136
        }
      },
      "cell_type": "code",
      "source": [
        "!git clone https://github.com/noushadkhan01/kansepur-flyash-project.git"
      ],
      "execution_count": 94,
      "outputs": [
        {
          "output_type": "stream",
          "text": [
            "Cloning into 'kansepur-flyash-project'...\n",
            "remote: Enumerating objects: 94, done.\u001b[K\n",
            "remote: Counting objects:   1% (1/94)   \u001b[K\rremote: Counting objects:   2% (2/94)   \u001b[K\rremote: Counting objects:   3% (3/94)   \u001b[K\rremote: Counting objects:   4% (4/94)   \u001b[K\rremote: Counting objects:   5% (5/94)   \u001b[K\rremote: Counting objects:   6% (6/94)   \u001b[K\rremote: Counting objects:   7% (7/94)   \u001b[K\rremote: Counting objects:   8% (8/94)   \u001b[K\rremote: Counting objects:   9% (9/94)   \u001b[K\rremote: Counting objects:  10% (10/94)   \u001b[K\rremote: Counting objects:  11% (11/94)   \u001b[K\rremote: Counting objects:  12% (12/94)   \u001b[K\rremote: Counting objects:  13% (13/94)   \u001b[K\rremote: Counting objects:  14% (14/94)   \u001b[K\rremote: Counting objects:  15% (15/94)   \u001b[K\rremote: Counting objects:  17% (16/94)   \u001b[K\rremote: Counting objects:  18% (17/94)   \u001b[K\rremote: Counting objects:  19% (18/94)   \u001b[K\rremote: Counting objects:  20% (19/94)   \u001b[K\rremote: Counting objects:  21% (20/94)   \u001b[K\rremote: Counting objects:  22% (21/94)   \u001b[K\rremote: Counting objects:  23% (22/94)   \u001b[K\rremote: Counting objects:  24% (23/94)   \u001b[K\rremote: Counting objects:  25% (24/94)   \u001b[K\rremote: Counting objects:  26% (25/94)   \u001b[K\rremote: Counting objects:  27% (26/94)   \u001b[K\rremote: Counting objects:  28% (27/94)   \u001b[K\rremote: Counting objects:  29% (28/94)   \u001b[K\rremote: Counting objects:  30% (29/94)   \u001b[K\rremote: Counting objects:  31% (30/94)   \u001b[K\rremote: Counting objects:  32% (31/94)   \u001b[K\rremote: Counting objects:  34% (32/94)   \u001b[K\rremote: Counting objects:  35% (33/94)   \u001b[K\rremote: Counting objects:  36% (34/94)   \u001b[K\rremote: Counting objects:  37% (35/94)   \u001b[K\rremote: Counting objects:  38% (36/94)   \u001b[K\rremote: Counting objects:  39% (37/94)   \u001b[K\rremote: Counting objects:  40% (38/94)   \u001b[K\rremote: Counting objects:  41% (39/94)   \u001b[K\rremote: Counting objects:  42% (40/94)   \u001b[K\rremote: Counting objects:  43% (41/94)   \u001b[K\rremote: Counting objects:  44% (42/94)   \u001b[K\rremote: Counting objects:  45% (43/94)   \u001b[K\rremote: Counting objects:  46% (44/94)   \u001b[K\rremote: Counting objects:  47% (45/94)   \u001b[K\rremote: Counting objects:  48% (46/94)   \u001b[K\rremote: Counting objects:  50% (47/94)   \u001b[K\rremote: Counting objects:  51% (48/94)   \u001b[K\rremote: Counting objects:  52% (49/94)   \u001b[K\rremote: Counting objects:  53% (50/94)   \u001b[K\rremote: Counting objects:  54% (51/94)   \u001b[K\rremote: Counting objects:  55% (52/94)   \u001b[K\rremote: Counting objects:  56% (53/94)   \u001b[K\rremote: Counting objects:  57% (54/94)   \u001b[K\rremote: Counting objects:  58% (55/94)   \u001b[K\rremote: Counting objects:  59% (56/94)   \u001b[K\rremote: Counting objects:  60% (57/94)   \u001b[K\rremote: Counting objects:  61% (58/94)   \u001b[K\rremote: Counting objects:  62% (59/94)   \u001b[K\rremote: Counting objects:  63% (60/94)   \u001b[K\rremote: Counting objects:  64% (61/94)   \u001b[K\rremote: Counting objects:  65% (62/94)   \u001b[K\rremote: Counting objects:  67% (63/94)   \u001b[K\rremote: Counting objects:  68% (64/94)   \u001b[K\rremote: Counting objects:  69% (65/94)   \u001b[K\rremote: Counting objects:  70% (66/94)   \u001b[K\rremote: Counting objects:  71% (67/94)   \u001b[K\rremote: Counting objects:  72% (68/94)   \u001b[K\rremote: Counting objects:  73% (69/94)   \u001b[K\rremote: Counting objects:  74% (70/94)   \u001b[K\rremote: Counting objects:  75% (71/94)   \u001b[K\rremote: Counting objects:  76% (72/94)   \u001b[K\rremote: Counting objects:  77% (73/94)   \u001b[K\rremote: Counting objects:  78% (74/94)   \u001b[K\rremote: Counting objects:  79% (75/94)   \u001b[K\rremote: Counting objects:  80% (76/94)   \u001b[K\rremote: Counting objects:  81% (77/94)   \u001b[K\rremote: Counting objects:  82% (78/94)   \u001b[K\rremote: Counting objects:  84% (79/94)   \u001b[K\rremote: Counting objects:  85% (80/94)   \u001b[K\rremote: Counting objects:  86% (81/94)   \u001b[K\rremote: Counting objects:  87% (82/94)   \u001b[K\rremote: Counting objects:  88% (83/94)   \u001b[K\rremote: Counting objects:  89% (84/94)   \u001b[K\rremote: Counting objects:  90% (85/94)   \u001b[K\rremote: Counting objects:  91% (86/94)   \u001b[K\rremote: Counting objects:  92% (87/94)   \u001b[K\rremote: Counting objects:  93% (88/94)   \u001b[K\rremote: Counting objects:  94% (89/94)   \u001b[K\rremote: Counting objects:  95% (90/94)   \u001b[K\rremote: Counting objects:  96% (91/94)   \u001b[K\rremote: Counting objects:  97% (92/94)   \u001b[K\rremote: Counting objects:  98% (93/94)   \u001b[K\rremote: Counting objects: 100% (94/94)   \u001b[K\rremote: Counting objects: 100% (94/94), done.\u001b[K\n",
            "remote: Compressing objects:   1% (1/88)   \u001b[K\rremote: Compressing objects:   2% (2/88)   \u001b[K\rremote: Compressing objects:   3% (3/88)   \u001b[K\rremote: Compressing objects:   4% (4/88)   \u001b[K\rremote: Compressing objects:   5% (5/88)   \u001b[K\rremote: Compressing objects:   6% (6/88)   \u001b[K\rremote: Compressing objects:   7% (7/88)   \u001b[K\rremote: Compressing objects:   9% (8/88)   \u001b[K\rremote: Compressing objects:  10% (9/88)   \u001b[K\rremote: Compressing objects:  11% (10/88)   \u001b[K\rremote: Compressing objects:  12% (11/88)   \u001b[K\rremote: Compressing objects:  13% (12/88)   \u001b[K\rremote: Compressing objects:  14% (13/88)   \u001b[K\rremote: Compressing objects:  15% (14/88)   \u001b[K\rremote: Compressing objects:  17% (15/88)   \u001b[K\rremote: Compressing objects:  18% (16/88)   \u001b[K\rremote: Compressing objects:  19% (17/88)   \u001b[K\rremote: Compressing objects:  20% (18/88)   \u001b[K\rremote: Compressing objects:  21% (19/88)   \u001b[K\rremote: Compressing objects:  22% (20/88)   \u001b[K\rremote: Compressing objects:  23% (21/88)   \u001b[K\rremote: Compressing objects:  25% (22/88)   \u001b[K\rremote: Compressing objects:  26% (23/88)   \u001b[K\rremote: Compressing objects:  27% (24/88)   \u001b[K\rremote: Compressing objects:  28% (25/88)   \u001b[K\rremote: Compressing objects:  29% (26/88)   \u001b[K\rremote: Compressing objects:  30% (27/88)   \u001b[K\rremote: Compressing objects:  31% (28/88)   \u001b[K\rremote: Compressing objects:  32% (29/88)   \u001b[K\rremote: Compressing objects:  34% (30/88)   \u001b[K\rremote: Compressing objects:  35% (31/88)   \u001b[K\rremote: Compressing objects:  36% (32/88)   \u001b[K\rremote: Compressing objects:  37% (33/88)   \u001b[K\rremote: Compressing objects:  38% (34/88)   \u001b[K\rremote: Compressing objects:  39% (35/88)   \u001b[K\rremote: Compressing objects:  40% (36/88)   \u001b[K\rremote: Compressing objects:  42% (37/88)   \u001b[K\rremote: Compressing objects:  43% (38/88)   \u001b[K\rremote: Compressing objects:  44% (39/88)   \u001b[K\rremote: Compressing objects:  45% (40/88)   \u001b[K\rremote: Compressing objects:  46% (41/88)   \u001b[K\rremote: Compressing objects:  47% (42/88)   \u001b[K\rremote: Compressing objects:  48% (43/88)   \u001b[K\rremote: Compressing objects:  50% (44/88)   \u001b[K\rremote: Compressing objects:  51% (45/88)   \u001b[K\rremote: Compressing objects:  52% (46/88)   \u001b[K\rremote: Compressing objects:  53% (47/88)   \u001b[K\rremote: Compressing objects:  54% (48/88)   \u001b[K\rremote: Compressing objects:  55% (49/88)   \u001b[K\rremote: Compressing objects:  56% (50/88)   \u001b[K\rremote: Compressing objects:  57% (51/88)   \u001b[K\rremote: Compressing objects:  59% (52/88)   \u001b[K\rremote: Compressing objects:  60% (53/88)   \u001b[K\rremote: Compressing objects:  61% (54/88)   \u001b[K\rremote: Compressing objects:  62% (55/88)   \u001b[K\rremote: Compressing objects:  63% (56/88)   \u001b[K\rremote: Compressing objects:  64% (57/88)   \u001b[K\rremote: Compressing objects:  65% (58/88)   \u001b[K\rremote: Compressing objects:  67% (59/88)   \u001b[K\rremote: Compressing objects:  68% (60/88)   \u001b[K\rremote: Compressing objects:  69% (61/88)   \u001b[K\rremote: Compressing objects:  70% (62/88)   \u001b[K\rremote: Compressing objects:  71% (63/88)   \u001b[K\rremote: Compressing objects:  72% (64/88)   \u001b[K\rremote: Compressing objects:  73% (65/88)   \u001b[K\rremote: Compressing objects:  75% (66/88)   \u001b[K\rremote: Compressing objects:  76% (67/88)   \u001b[K\rremote: Compressing objects:  77% (68/88)   \u001b[K\rremote: Compressing objects:  78% (69/88)   \u001b[K\rremote: Compressing objects:  79% (70/88)   \u001b[K\rremote: Compressing objects:  80% (71/88)   \u001b[K\rremote: Compressing objects:  81% (72/88)   \u001b[K\rremote: Compressing objects:  82% (73/88)   \u001b[K\rremote: Compressing objects:  84% (74/88)   \u001b[K\rremote: Compressing objects:  85% (75/88)   \u001b[K\rremote: Compressing objects:  86% (76/88)   \u001b[K\rremote: Compressing objects:  87% (77/88)   \u001b[K\rremote: Compressing objects:  88% (78/88)   \u001b[K\rremote: Compressing objects:  89% (79/88)   \u001b[K\rremote: Compressing objects:  90% (80/88)   \u001b[K\rremote: Compressing objects:  92% (81/88)   \u001b[K\rremote: Compressing objects:  93% (82/88)   \u001b[K\rremote: Compressing objects:  94% (83/88)   \u001b[K\rremote: Compressing objects:  95% (84/88)   \u001b[K\rremote: Compressing objects:  96% (85/88)   \u001b[K\rremote: Compressing objects:  97% (86/88)   \u001b[K\rremote: Compressing objects:  98% (87/88)   \u001b[K\rremote: Compressing objects: 100% (88/88)   \u001b[K\rremote: Compressing objects: 100% (88/88), done.\u001b[K\n",
            "Receiving objects:   0% (1/334)   \rReceiving objects:   1% (4/334)   \rReceiving objects:   2% (7/334)   \rReceiving objects:   3% (11/334)   \rReceiving objects:   4% (14/334)   \rReceiving objects:   5% (17/334)   \rReceiving objects:   6% (21/334)   \rReceiving objects:   7% (24/334)   \rReceiving objects:   8% (27/334)   \rReceiving objects:   9% (31/334)   \rReceiving objects:  10% (34/334)   \rReceiving objects:  11% (37/334)   \rReceiving objects:  12% (41/334)   \rReceiving objects:  13% (44/334)   \rReceiving objects:  14% (47/334)   \rReceiving objects:  15% (51/334)   \rReceiving objects:  16% (54/334)   \rReceiving objects:  17% (57/334)   \rReceiving objects:  18% (61/334)   \rReceiving objects:  19% (64/334)   \rReceiving objects:  20% (67/334)   \rReceiving objects:  21% (71/334)   \rReceiving objects:  22% (74/334)   \rReceiving objects:  23% (77/334)   \rReceiving objects:  24% (81/334)   \rReceiving objects:  25% (84/334)   \rReceiving objects:  26% (87/334)   \rReceiving objects:  27% (91/334)   \rReceiving objects:  28% (94/334)   \rReceiving objects:  29% (97/334)   \rReceiving objects:  30% (101/334)   \rReceiving objects:  31% (104/334)   \rReceiving objects:  32% (107/334)   \rReceiving objects:  33% (111/334)   \rReceiving objects:  34% (114/334)   \rReceiving objects:  35% (117/334)   \rReceiving objects:  36% (121/334)   \rReceiving objects:  37% (124/334)   \rReceiving objects:  38% (127/334)   \rReceiving objects:  39% (131/334)   \rReceiving objects:  40% (134/334)   \rReceiving objects:  41% (137/334)   \rReceiving objects:  42% (141/334)   \rReceiving objects:  43% (144/334)   \rReceiving objects:  44% (147/334)   \rReceiving objects:  45% (151/334)   \rReceiving objects:  46% (154/334)   \rReceiving objects:  47% (157/334)   \rReceiving objects:  48% (161/334)   \rReceiving objects:  49% (164/334)   \rReceiving objects:  50% (167/334)   \rReceiving objects:  51% (171/334)   \rReceiving objects:  52% (174/334)   \rReceiving objects:  53% (178/334)   \rReceiving objects:  54% (181/334)   \rReceiving objects:  55% (184/334)   \rReceiving objects:  56% (188/334)   \rReceiving objects:  57% (191/334)   \rReceiving objects:  58% (194/334)   \rReceiving objects:  59% (198/334)   \rReceiving objects:  60% (201/334)   \rReceiving objects:  61% (204/334)   \rReceiving objects:  62% (208/334)   \rReceiving objects:  63% (211/334)   \rReceiving objects:  64% (214/334)   \rReceiving objects:  65% (218/334)   \rReceiving objects:  66% (221/334)   \rReceiving objects:  67% (224/334)   \rReceiving objects:  68% (228/334)   \rReceiving objects:  69% (231/334)   \rReceiving objects:  70% (234/334)   \rReceiving objects:  71% (238/334)   \rReceiving objects:  72% (241/334)   \rReceiving objects:  73% (244/334)   \rReceiving objects:  74% (248/334)   \rReceiving objects:  75% (251/334)   \rReceiving objects:  76% (254/334)   \rReceiving objects:  77% (258/334)   \rReceiving objects:  78% (261/334)   \rReceiving objects:  79% (264/334)   \rReceiving objects:  80% (268/334)   \rReceiving objects:  81% (271/334)   \rReceiving objects:  82% (274/334)   \rReceiving objects:  83% (278/334)   \rReceiving objects:  84% (281/334)   \rReceiving objects:  85% (284/334)   \rremote: Total 334 (delta 46), reused 0 (delta 0), pack-reused 240\u001b[K\n",
            "Receiving objects:  86% (288/334)   \rReceiving objects:  87% (291/334)   \rReceiving objects:  88% (294/334)   \rReceiving objects:  89% (298/334)   \rReceiving objects:  90% (301/334)   \rReceiving objects:  91% (304/334)   \rReceiving objects:  92% (308/334)   \rReceiving objects:  93% (311/334)   \rReceiving objects:  94% (314/334)   \rReceiving objects:  95% (318/334)   \rReceiving objects:  96% (321/334)   \rReceiving objects:  97% (324/334)   \rReceiving objects:  98% (328/334)   \rReceiving objects:  99% (331/334)   \rReceiving objects: 100% (334/334)   \rReceiving objects: 100% (334/334), 764.29 KiB | 17.77 MiB/s, done.\n",
            "Resolving deltas:   0% (0/154)   \rResolving deltas:  13% (21/154)   \rResolving deltas:  14% (22/154)   \rResolving deltas:  22% (34/154)   \rResolving deltas:  23% (36/154)   \rResolving deltas:  24% (37/154)   \rResolving deltas:  25% (40/154)   \rResolving deltas:  26% (41/154)   \rResolving deltas:  41% (64/154)   \rResolving deltas:  42% (65/154)   \rResolving deltas:  43% (67/154)   \rResolving deltas:  44% (68/154)   \rResolving deltas:  45% (70/154)   \rResolving deltas:  46% (71/154)   \rResolving deltas:  48% (74/154)   \rResolving deltas:  55% (86/154)   \rResolving deltas:  57% (88/154)   \rResolving deltas:  60% (93/154)   \rResolving deltas:  75% (117/154)   \rResolving deltas:  76% (118/154)   \rResolving deltas:  81% (126/154)   \rResolving deltas:  89% (138/154)   \rResolving deltas:  90% (139/154)   \rResolving deltas:  92% (143/154)   \rResolving deltas:  93% (144/154)   \rResolving deltas:  94% (145/154)   \rResolving deltas:  96% (148/154)   \rResolving deltas: 100% (154/154)   \rResolving deltas: 100% (154/154), done.\n"
          ],
          "name": "stdout"
        }
      ]
    },
    {
      "metadata": {
        "id": "g1NpP5jtlH5r",
        "colab_type": "code",
        "colab": {}
      },
      "cell_type": "code",
      "source": [
        "import pandas as pd"
      ],
      "execution_count": 0,
      "outputs": []
    },
    {
      "metadata": {
        "id": "vgRnsjiMlJvN",
        "colab_type": "code",
        "outputId": "11e7ff82-0803-45c5-b2b3-81eec1c3d6da",
        "colab": {
          "base_uri": "https://localhost:8080/",
          "height": 34
        }
      },
      "cell_type": "code",
      "source": [
        "%cd ./kansepur-flyash-project/11_mar_to_5_apr_bill/"
      ],
      "execution_count": 96,
      "outputs": [
        {
          "output_type": "stream",
          "text": [
            "/content/kansepur-flyash-project/11_mar_to_5_apr_bill/kansepur-flyash-project/11_mar_to_5_apr_bill\n"
          ],
          "name": "stdout"
        }
      ]
    },
    {
      "metadata": {
        "id": "B6lL48hFlOrB",
        "colab_type": "code",
        "outputId": "c2c08baa-c09c-4733-c7a0-5553fbd51c23",
        "colab": {
          "base_uri": "https://localhost:8080/",
          "height": 34
        }
      },
      "cell_type": "code",
      "source": [
        "!ls"
      ],
      "execution_count": 97,
      "outputs": [
        {
          "output_type": "stream",
          "text": [
            "11_mar_to_5_apr_bill6.ipynb  11_mar_to_5_apr.xlsx\n"
          ],
          "name": "stdout"
        }
      ]
    },
    {
      "metadata": {
        "id": "THAUXyC0lPYh",
        "colab_type": "code",
        "outputId": "716b8980-3454-4f92-859c-2872796b20bd",
        "colab": {
          "base_uri": "https://localhost:8080/",
          "height": 204
        }
      },
      "cell_type": "code",
      "source": [
        "df = pd.read_excel('11_mar_to_5_apr.xlsx', 'Sheet1')\n",
        "df.head()"
      ],
      "execution_count": 98,
      "outputs": [
        {
          "output_type": "execute_result",
          "data": {
            "text/html": [
              "<div>\n",
              "<style scoped>\n",
              "    .dataframe tbody tr th:only-of-type {\n",
              "        vertical-align: middle;\n",
              "    }\n",
              "\n",
              "    .dataframe tbody tr th {\n",
              "        vertical-align: top;\n",
              "    }\n",
              "\n",
              "    .dataframe thead th {\n",
              "        text-align: right;\n",
              "    }\n",
              "</style>\n",
              "<table border=\"1\" class=\"dataframe\">\n",
              "  <thead>\n",
              "    <tr style=\"text-align: right;\">\n",
              "      <th></th>\n",
              "      <th>S.No.</th>\n",
              "      <th>Date</th>\n",
              "      <th>Counts</th>\n",
              "      <th>Name</th>\n",
              "      <th>Quantity</th>\n",
              "      <th>Diesel</th>\n",
              "    </tr>\n",
              "  </thead>\n",
              "  <tbody>\n",
              "    <tr>\n",
              "      <th>0</th>\n",
              "      <td>1.0</td>\n",
              "      <td>2019-03-11</td>\n",
              "      <td>1.0</td>\n",
              "      <td>khurseed</td>\n",
              "      <td>455</td>\n",
              "      <td>NaN</td>\n",
              "    </tr>\n",
              "    <tr>\n",
              "      <th>1</th>\n",
              "      <td>2.0</td>\n",
              "      <td>NaT</td>\n",
              "      <td>2.0</td>\n",
              "      <td>jabir</td>\n",
              "      <td>419</td>\n",
              "      <td>NaN</td>\n",
              "    </tr>\n",
              "    <tr>\n",
              "      <th>2</th>\n",
              "      <td>3.0</td>\n",
              "      <td>NaT</td>\n",
              "      <td>3.0</td>\n",
              "      <td>khurseed</td>\n",
              "      <td>455</td>\n",
              "      <td>NaN</td>\n",
              "    </tr>\n",
              "    <tr>\n",
              "      <th>3</th>\n",
              "      <td>4.0</td>\n",
              "      <td>2019-03-12</td>\n",
              "      <td>1.0</td>\n",
              "      <td>khurseed</td>\n",
              "      <td>455</td>\n",
              "      <td>NaN</td>\n",
              "    </tr>\n",
              "    <tr>\n",
              "      <th>4</th>\n",
              "      <td>5.0</td>\n",
              "      <td>NaT</td>\n",
              "      <td>2.0</td>\n",
              "      <td>khurseed</td>\n",
              "      <td>455</td>\n",
              "      <td>NaN</td>\n",
              "    </tr>\n",
              "  </tbody>\n",
              "</table>\n",
              "</div>"
            ],
            "text/plain": [
              "   S.No.       Date  Counts      Name  Quantity Diesel\n",
              "0    1.0 2019-03-11     1.0  khurseed       455    NaN\n",
              "1    2.0        NaT     2.0     jabir       419    NaN\n",
              "2    3.0        NaT     3.0  khurseed       455    NaN\n",
              "3    4.0 2019-03-12     1.0  khurseed       455    NaN\n",
              "4    5.0        NaT     2.0  khurseed       455    NaN"
            ]
          },
          "metadata": {
            "tags": []
          },
          "execution_count": 98
        }
      ]
    },
    {
      "metadata": {
        "id": "e1gUo92O-r5c",
        "colab_type": "code",
        "outputId": "287c5733-4012-4569-c16e-c7348b5d8405",
        "colab": {
          "base_uri": "https://localhost:8080/",
          "height": 111
        }
      },
      "cell_type": "code",
      "source": [
        "df.tail(2)"
      ],
      "execution_count": 99,
      "outputs": [
        {
          "output_type": "execute_result",
          "data": {
            "text/html": [
              "<div>\n",
              "<style scoped>\n",
              "    .dataframe tbody tr th:only-of-type {\n",
              "        vertical-align: middle;\n",
              "    }\n",
              "\n",
              "    .dataframe tbody tr th {\n",
              "        vertical-align: top;\n",
              "    }\n",
              "\n",
              "    .dataframe thead th {\n",
              "        text-align: right;\n",
              "    }\n",
              "</style>\n",
              "<table border=\"1\" class=\"dataframe\">\n",
              "  <thead>\n",
              "    <tr style=\"text-align: right;\">\n",
              "      <th></th>\n",
              "      <th>S.No.</th>\n",
              "      <th>Date</th>\n",
              "      <th>Counts</th>\n",
              "      <th>Name</th>\n",
              "      <th>Quantity</th>\n",
              "      <th>Diesel</th>\n",
              "    </tr>\n",
              "  </thead>\n",
              "  <tbody>\n",
              "    <tr>\n",
              "      <th>294</th>\n",
              "      <td>295.0</td>\n",
              "      <td>2019-04-05</td>\n",
              "      <td>1.0</td>\n",
              "      <td>shokeen</td>\n",
              "      <td>453</td>\n",
              "      <td>NaN</td>\n",
              "    </tr>\n",
              "    <tr>\n",
              "      <th>295</th>\n",
              "      <td>NaN</td>\n",
              "      <td>NaT</td>\n",
              "      <td>NaN</td>\n",
              "      <td>NaN</td>\n",
              "      <td>138693</td>\n",
              "      <td>NaN</td>\n",
              "    </tr>\n",
              "  </tbody>\n",
              "</table>\n",
              "</div>"
            ],
            "text/plain": [
              "     S.No.       Date  Counts     Name  Quantity Diesel\n",
              "294  295.0 2019-04-05     1.0  shokeen       453    NaN\n",
              "295    NaN        NaT     NaN      NaN    138693    NaN"
            ]
          },
          "metadata": {
            "tags": []
          },
          "execution_count": 99
        }
      ]
    },
    {
      "metadata": {
        "id": "eRh-_m4xmgeg",
        "colab_type": "code",
        "colab": {}
      },
      "cell_type": "code",
      "source": [
        "df = df[:-1]"
      ],
      "execution_count": 0,
      "outputs": []
    },
    {
      "metadata": {
        "id": "vYJmIHd8lWZY",
        "colab_type": "code",
        "outputId": "c70993f8-7d5d-43db-9439-6096b999cbcb",
        "colab": {
          "base_uri": "https://localhost:8080/",
          "height": 204
        }
      },
      "cell_type": "code",
      "source": [
        "df.info()"
      ],
      "execution_count": 101,
      "outputs": [
        {
          "output_type": "stream",
          "text": [
            "<class 'pandas.core.frame.DataFrame'>\n",
            "RangeIndex: 295 entries, 0 to 294\n",
            "Data columns (total 6 columns):\n",
            "S.No.       295 non-null float64\n",
            "Date        24 non-null datetime64[ns]\n",
            "Counts      295 non-null float64\n",
            "Name        295 non-null object\n",
            "Quantity    295 non-null int64\n",
            "Diesel      12 non-null object\n",
            "dtypes: datetime64[ns](1), float64(2), int64(1), object(2)\n",
            "memory usage: 13.9+ KB\n"
          ],
          "name": "stdout"
        }
      ]
    },
    {
      "metadata": {
        "id": "vZ9H0uvuAxf5",
        "colab_type": "code",
        "outputId": "90681eb8-df3e-4e09-d604-32269b4a306a",
        "colab": {
          "base_uri": "https://localhost:8080/",
          "height": 442
        }
      },
      "cell_type": "code",
      "source": [
        "unique_dates = df.Date.unique()\n",
        "unique_dates = pd.Series(unique_dates).dropna()\n",
        "print(unique_dates)"
      ],
      "execution_count": 102,
      "outputs": [
        {
          "output_type": "stream",
          "text": [
            "0    2019-03-11\n",
            "2    2019-03-12\n",
            "3    2019-03-13\n",
            "4    2019-03-14\n",
            "5    2019-03-15\n",
            "6    2019-03-16\n",
            "7    2019-03-17\n",
            "8    2019-03-18\n",
            "9    2019-03-19\n",
            "10   2019-03-22\n",
            "11   2019-03-23\n",
            "12   2019-03-24\n",
            "13   2019-03-25\n",
            "14   2019-03-26\n",
            "15   2019-03-27\n",
            "16   2019-03-28\n",
            "17   2019-03-29\n",
            "18   2019-03-30\n",
            "19   2019-03-31\n",
            "20   2019-04-01\n",
            "21   2019-04-02\n",
            "22   2019-04-03\n",
            "23   2019-04-04\n",
            "24   2019-04-05\n",
            "dtype: datetime64[ns]\n"
          ],
          "name": "stdout"
        }
      ]
    },
    {
      "metadata": {
        "id": "yOdejLAFA7j1",
        "colab_type": "code",
        "outputId": "768e9913-b7ef-4ac8-d658-e64b42f60adb",
        "colab": {
          "base_uri": "https://localhost:8080/",
          "height": 34
        }
      },
      "cell_type": "code",
      "source": [
        "df.Date.nunique()"
      ],
      "execution_count": 103,
      "outputs": [
        {
          "output_type": "execute_result",
          "data": {
            "text/plain": [
              "24"
            ]
          },
          "metadata": {
            "tags": []
          },
          "execution_count": 103
        }
      ]
    },
    {
      "metadata": {
        "id": "TTiF585xBBNC",
        "colab_type": "code",
        "outputId": "024b1022-9408-4ec8-8af3-7f002f02eeb4",
        "colab": {
          "base_uri": "https://localhost:8080/",
          "height": 442
        }
      },
      "cell_type": "code",
      "source": [
        "df.Date.value_counts()"
      ],
      "execution_count": 104,
      "outputs": [
        {
          "output_type": "execute_result",
          "data": {
            "text/plain": [
              "2019-03-24    1\n",
              "2019-03-27    1\n",
              "2019-03-18    1\n",
              "2019-04-01    1\n",
              "2019-03-15    1\n",
              "2019-03-29    1\n",
              "2019-03-12    1\n",
              "2019-03-26    1\n",
              "2019-03-23    1\n",
              "2019-04-03    1\n",
              "2019-03-17    1\n",
              "2019-03-31    1\n",
              "2019-03-14    1\n",
              "2019-03-28    1\n",
              "2019-03-11    1\n",
              "2019-03-25    1\n",
              "2019-03-22    1\n",
              "2019-04-05    1\n",
              "2019-03-19    1\n",
              "2019-04-02    1\n",
              "2019-03-16    1\n",
              "2019-03-30    1\n",
              "2019-03-13    1\n",
              "2019-04-04    1\n",
              "Name: Date, dtype: int64"
            ]
          },
          "metadata": {
            "tags": []
          },
          "execution_count": 104
        }
      ]
    },
    {
      "metadata": {
        "id": "uXqNsOzRDDSf",
        "colab_type": "code",
        "colab": {}
      },
      "cell_type": "code",
      "source": [
        "import numpy as np"
      ],
      "execution_count": 0,
      "outputs": []
    },
    {
      "metadata": {
        "id": "jsPDiLK9mCMB",
        "colab_type": "code",
        "outputId": "bc296c65-57e1-458f-f49d-415cd6dc220a",
        "colab": {
          "base_uri": "https://localhost:8080/",
          "height": 68
        }
      },
      "cell_type": "code",
      "source": [
        "df.Name.unique()"
      ],
      "execution_count": 106,
      "outputs": [
        {
          "output_type": "execute_result",
          "data": {
            "text/plain": [
              "array(['khurseed', 'jabir', 'mustakim', 'haseen', 'rasid', 'gulfam',\n",
              "       'shokeen', 'hasan', 'isran', 'wajid', 'akran', 'julfan', 'rafakat',\n",
              "       'tasim'], dtype=object)"
            ]
          },
          "metadata": {
            "tags": []
          },
          "execution_count": 106
        }
      ]
    },
    {
      "metadata": {
        "id": "cJArT99yo39E",
        "colab_type": "code",
        "outputId": "cd29413c-68b6-4cca-ce78-2f0b458f952c",
        "colab": {
          "base_uri": "https://localhost:8080/",
          "height": 34
        }
      },
      "cell_type": "code",
      "source": [
        "total_quantity = sum(df.Quantity)\n",
        "total_quantity"
      ],
      "execution_count": 107,
      "outputs": [
        {
          "output_type": "execute_result",
          "data": {
            "text/plain": [
              "138693"
            ]
          },
          "metadata": {
            "tags": []
          },
          "execution_count": 107
        }
      ]
    },
    {
      "metadata": {
        "id": "KDfUKDebnJUR",
        "colab_type": "code",
        "outputId": "1e6ab48b-474d-4759-8652-806b8d849c34",
        "colab": {
          "base_uri": "https://localhost:8080/",
          "height": 272
        }
      },
      "cell_type": "code",
      "source": [
        "rounds_per_name = df.Name.value_counts()\n",
        "rounds_per_name"
      ],
      "execution_count": 108,
      "outputs": [
        {
          "output_type": "execute_result",
          "data": {
            "text/plain": [
              "hasan       48\n",
              "khurseed    43\n",
              "julfan      32\n",
              "mustakim    31\n",
              "rasid       29\n",
              "haseen      28\n",
              "shokeen     25\n",
              "gulfam      23\n",
              "rafakat     14\n",
              "jabir       11\n",
              "isran        6\n",
              "wajid        3\n",
              "akran        1\n",
              "tasim        1\n",
              "Name: Name, dtype: int64"
            ]
          },
          "metadata": {
            "tags": []
          },
          "execution_count": 108
        }
      ]
    },
    {
      "metadata": {
        "id": "XN6SqFu8rOBZ",
        "colab_type": "code",
        "outputId": "6bdc578b-ba07-4684-d226-875978a4643c",
        "colab": {
          "base_uri": "https://localhost:8080/",
          "height": 34
        }
      },
      "cell_type": "code",
      "source": [
        "sum(rounds_per_name.values)"
      ],
      "execution_count": 109,
      "outputs": [
        {
          "output_type": "execute_result",
          "data": {
            "text/plain": [
              "295"
            ]
          },
          "metadata": {
            "tags": []
          },
          "execution_count": 109
        }
      ]
    },
    {
      "metadata": {
        "id": "vegaPxckns74",
        "colab_type": "text"
      },
      "cell_type": "markdown",
      "source": [
        "## unique feets per name"
      ]
    },
    {
      "metadata": {
        "id": "-ITvOwaBwJ1t",
        "colab_type": "code",
        "outputId": "e609f769-1a3c-4d14-8bad-b013c11451a0",
        "colab": {
          "base_uri": "https://localhost:8080/",
          "height": 34
        }
      },
      "cell_type": "code",
      "source": [
        "group = df.groupby(df.Name)\n",
        "group"
      ],
      "execution_count": 110,
      "outputs": [
        {
          "output_type": "execute_result",
          "data": {
            "text/plain": [
              "<pandas.core.groupby.groupby.DataFrameGroupBy object at 0x7fe82e828f28>"
            ]
          },
          "metadata": {
            "tags": []
          },
          "execution_count": 110
        }
      ]
    },
    {
      "metadata": {
        "id": "R0pQUd6CZ4Eg",
        "colab_type": "text"
      },
      "cell_type": "markdown",
      "source": [
        "for i, j in group:\n",
        "  print(i, '\\n', j.Quantity, '\\n')  "
      ]
    },
    {
      "metadata": {
        "id": "ndW_Qg-IwSkJ",
        "colab_type": "code",
        "outputId": "f9b6119b-e4dd-4e5e-966a-f8f91f9777e6",
        "colab": {
          "base_uri": "https://localhost:8080/",
          "height": 493
        }
      },
      "cell_type": "code",
      "source": [
        "for i, j in group:\n",
        "  print(i, j.Quantity.unique(), '\\n')"
      ],
      "execution_count": 111,
      "outputs": [
        {
          "output_type": "stream",
          "text": [
            "akran [400] \n",
            "\n",
            "gulfam [500 450 480 460] \n",
            "\n",
            "hasan [538 528 488 498] \n",
            "\n",
            "haseen [496] \n",
            "\n",
            "isran [470] \n",
            "\n",
            "jabir [419 404] \n",
            "\n",
            "julfan [470 490 480 390] \n",
            "\n",
            "khurseed [455] \n",
            "\n",
            "mustakim [405 385 355] \n",
            "\n",
            "rafakat [538] \n",
            "\n",
            "rasid [410] \n",
            "\n",
            "shokeen [433 453] \n",
            "\n",
            "tasim [453] \n",
            "\n",
            "wajid [419] \n",
            "\n"
          ],
          "name": "stdout"
        }
      ]
    },
    {
      "metadata": {
        "id": "0y2uPtUlJ6jo",
        "colab_type": "text"
      },
      "cell_type": "markdown",
      "source": [
        "# Diesel"
      ]
    },
    {
      "metadata": {
        "id": "O5znZR4bJ8Ri",
        "colab_type": "code",
        "outputId": "dce25ab5-12a1-4c54-dae3-0f46fec0addf",
        "colab": {
          "base_uri": "https://localhost:8080/",
          "height": 204
        }
      },
      "cell_type": "code",
      "source": [
        "diesel = pd.read_excel('11_mar_to_5_apr.xlsx', 'Diesel')\n",
        "diesel.head()"
      ],
      "execution_count": 112,
      "outputs": [
        {
          "output_type": "execute_result",
          "data": {
            "text/html": [
              "<div>\n",
              "<style scoped>\n",
              "    .dataframe tbody tr th:only-of-type {\n",
              "        vertical-align: middle;\n",
              "    }\n",
              "\n",
              "    .dataframe tbody tr th {\n",
              "        vertical-align: top;\n",
              "    }\n",
              "\n",
              "    .dataframe thead th {\n",
              "        text-align: right;\n",
              "    }\n",
              "</style>\n",
              "<table border=\"1\" class=\"dataframe\">\n",
              "  <thead>\n",
              "    <tr style=\"text-align: right;\">\n",
              "      <th></th>\n",
              "      <th>Date</th>\n",
              "      <th>Name</th>\n",
              "      <th>Diesel</th>\n",
              "      <th>cash</th>\n",
              "    </tr>\n",
              "  </thead>\n",
              "  <tbody>\n",
              "    <tr>\n",
              "      <th>0</th>\n",
              "      <td>2019-03-11</td>\n",
              "      <td>jabir</td>\n",
              "      <td>2000</td>\n",
              "      <td>NaN</td>\n",
              "    </tr>\n",
              "    <tr>\n",
              "      <th>1</th>\n",
              "      <td>NaT</td>\n",
              "      <td>khurseed</td>\n",
              "      <td>2000</td>\n",
              "      <td>NaN</td>\n",
              "    </tr>\n",
              "    <tr>\n",
              "      <th>2</th>\n",
              "      <td>NaT</td>\n",
              "      <td>total</td>\n",
              "      <td>4000</td>\n",
              "      <td>NaN</td>\n",
              "    </tr>\n",
              "    <tr>\n",
              "      <th>3</th>\n",
              "      <td>2019-03-12</td>\n",
              "      <td>khurseed</td>\n",
              "      <td>2000</td>\n",
              "      <td>1000.0</td>\n",
              "    </tr>\n",
              "    <tr>\n",
              "      <th>4</th>\n",
              "      <td>NaT</td>\n",
              "      <td>noushad</td>\n",
              "      <td>500</td>\n",
              "      <td>NaN</td>\n",
              "    </tr>\n",
              "  </tbody>\n",
              "</table>\n",
              "</div>"
            ],
            "text/plain": [
              "        Date      Name  Diesel    cash\n",
              "0 2019-03-11     jabir    2000     NaN\n",
              "1        NaT  khurseed    2000     NaN\n",
              "2        NaT     total    4000     NaN\n",
              "3 2019-03-12  khurseed    2000  1000.0\n",
              "4        NaT   noushad     500     NaN"
            ]
          },
          "metadata": {
            "tags": []
          },
          "execution_count": 112
        }
      ]
    },
    {
      "metadata": {
        "id": "aNms0DItMFZ8",
        "colab_type": "code",
        "outputId": "bd31aaa6-e987-45fc-a462-8510393c0867",
        "colab": {
          "base_uri": "https://localhost:8080/",
          "height": 34
        }
      },
      "cell_type": "code",
      "source": [
        "diesel.shape"
      ],
      "execution_count": 113,
      "outputs": [
        {
          "output_type": "execute_result",
          "data": {
            "text/plain": [
              "(164, 4)"
            ]
          },
          "metadata": {
            "tags": []
          },
          "execution_count": 113
        }
      ]
    },
    {
      "metadata": {
        "id": "FtBbwdi6GaOe",
        "colab_type": "code",
        "outputId": "c52f4a1e-167f-4e89-c509-64a86094c6f0",
        "colab": {
          "base_uri": "https://localhost:8080/",
          "height": 221
        }
      },
      "cell_type": "code",
      "source": [
        "diesel.Date.unique()"
      ],
      "execution_count": 114,
      "outputs": [
        {
          "output_type": "execute_result",
          "data": {
            "text/plain": [
              "array(['2019-03-11T00:00:00.000000000',                           'NaT',\n",
              "       '2019-03-12T00:00:00.000000000', '2019-03-13T00:00:00.000000000',\n",
              "       '2019-03-14T00:00:00.000000000', '2019-03-15T00:00:00.000000000',\n",
              "       '2019-03-16T00:00:00.000000000', '2019-03-17T00:00:00.000000000',\n",
              "       '2019-03-18T00:00:00.000000000', '2019-03-19T00:00:00.000000000',\n",
              "       '2019-03-23T00:00:00.000000000', '2019-03-24T00:00:00.000000000',\n",
              "       '2019-03-25T00:00:00.000000000', '2019-03-26T00:00:00.000000000',\n",
              "       '2019-03-27T00:00:00.000000000', '2019-03-28T00:00:00.000000000',\n",
              "       '2019-03-29T00:00:00.000000000', '2019-03-30T00:00:00.000000000',\n",
              "       '2019-03-31T00:00:00.000000000', '2019-04-02T00:00:00.000000000',\n",
              "       '2019-04-03T00:00:00.000000000', '2019-04-04T00:00:00.000000000',\n",
              "       '2019-03-05T00:00:00.000000000'], dtype='datetime64[ns]')"
            ]
          },
          "metadata": {
            "tags": []
          },
          "execution_count": 114
        }
      ]
    },
    {
      "metadata": {
        "id": "n6yM4M_2GZJH",
        "colab_type": "code",
        "colab": {}
      },
      "cell_type": "code",
      "source": [
        "for n, i in enumerate(diesel.Date.values):\n",
        "  if not pd.isnull(i):\n",
        "    date = i\n",
        "  else:\n",
        "    diesel.iloc[n, 0] = date"
      ],
      "execution_count": 0,
      "outputs": []
    },
    {
      "metadata": {
        "id": "4iSR7MyjHAQf",
        "colab_type": "code",
        "outputId": "f6c93039-3d26-465f-ce05-4ae2b75ac4e6",
        "colab": {
          "base_uri": "https://localhost:8080/",
          "height": 204
        }
      },
      "cell_type": "code",
      "source": [
        "diesel.head()"
      ],
      "execution_count": 116,
      "outputs": [
        {
          "output_type": "execute_result",
          "data": {
            "text/html": [
              "<div>\n",
              "<style scoped>\n",
              "    .dataframe tbody tr th:only-of-type {\n",
              "        vertical-align: middle;\n",
              "    }\n",
              "\n",
              "    .dataframe tbody tr th {\n",
              "        vertical-align: top;\n",
              "    }\n",
              "\n",
              "    .dataframe thead th {\n",
              "        text-align: right;\n",
              "    }\n",
              "</style>\n",
              "<table border=\"1\" class=\"dataframe\">\n",
              "  <thead>\n",
              "    <tr style=\"text-align: right;\">\n",
              "      <th></th>\n",
              "      <th>Date</th>\n",
              "      <th>Name</th>\n",
              "      <th>Diesel</th>\n",
              "      <th>cash</th>\n",
              "    </tr>\n",
              "  </thead>\n",
              "  <tbody>\n",
              "    <tr>\n",
              "      <th>0</th>\n",
              "      <td>2019-03-11</td>\n",
              "      <td>jabir</td>\n",
              "      <td>2000</td>\n",
              "      <td>NaN</td>\n",
              "    </tr>\n",
              "    <tr>\n",
              "      <th>1</th>\n",
              "      <td>2019-03-11</td>\n",
              "      <td>khurseed</td>\n",
              "      <td>2000</td>\n",
              "      <td>NaN</td>\n",
              "    </tr>\n",
              "    <tr>\n",
              "      <th>2</th>\n",
              "      <td>2019-03-11</td>\n",
              "      <td>total</td>\n",
              "      <td>4000</td>\n",
              "      <td>NaN</td>\n",
              "    </tr>\n",
              "    <tr>\n",
              "      <th>3</th>\n",
              "      <td>2019-03-12</td>\n",
              "      <td>khurseed</td>\n",
              "      <td>2000</td>\n",
              "      <td>1000.0</td>\n",
              "    </tr>\n",
              "    <tr>\n",
              "      <th>4</th>\n",
              "      <td>2019-03-12</td>\n",
              "      <td>noushad</td>\n",
              "      <td>500</td>\n",
              "      <td>NaN</td>\n",
              "    </tr>\n",
              "  </tbody>\n",
              "</table>\n",
              "</div>"
            ],
            "text/plain": [
              "        Date      Name  Diesel    cash\n",
              "0 2019-03-11     jabir    2000     NaN\n",
              "1 2019-03-11  khurseed    2000     NaN\n",
              "2 2019-03-11     total    4000     NaN\n",
              "3 2019-03-12  khurseed    2000  1000.0\n",
              "4 2019-03-12   noushad     500     NaN"
            ]
          },
          "metadata": {
            "tags": []
          },
          "execution_count": 116
        }
      ]
    },
    {
      "metadata": {
        "id": "-rLhXMKrHTRe",
        "colab_type": "text"
      },
      "cell_type": "markdown",
      "source": [
        "# pivot table"
      ]
    },
    {
      "metadata": {
        "id": "605hniozHVuB",
        "colab_type": "code",
        "outputId": "bba62442-7cd0-4846-a435-eb3a6d36915c",
        "colab": {
          "base_uri": "https://localhost:8080/",
          "height": 769
        }
      },
      "cell_type": "code",
      "source": [
        "pivot_diesel = diesel.pivot_table(index = 'Name', columns = 'Date', values = 'Diesel')\n",
        "pivot_diesel"
      ],
      "execution_count": 117,
      "outputs": [
        {
          "output_type": "execute_result",
          "data": {
            "text/html": [
              "<div>\n",
              "<style scoped>\n",
              "    .dataframe tbody tr th:only-of-type {\n",
              "        vertical-align: middle;\n",
              "    }\n",
              "\n",
              "    .dataframe tbody tr th {\n",
              "        vertical-align: top;\n",
              "    }\n",
              "\n",
              "    .dataframe thead th {\n",
              "        text-align: right;\n",
              "    }\n",
              "</style>\n",
              "<table border=\"1\" class=\"dataframe\">\n",
              "  <thead>\n",
              "    <tr style=\"text-align: right;\">\n",
              "      <th>Date</th>\n",
              "      <th>2019-03-05 00:00:00</th>\n",
              "      <th>2019-03-11 00:00:00</th>\n",
              "      <th>2019-03-12 00:00:00</th>\n",
              "      <th>2019-03-13 00:00:00</th>\n",
              "      <th>2019-03-14 00:00:00</th>\n",
              "      <th>2019-03-15 00:00:00</th>\n",
              "      <th>2019-03-16 00:00:00</th>\n",
              "      <th>2019-03-17 00:00:00</th>\n",
              "      <th>2019-03-18 00:00:00</th>\n",
              "      <th>2019-03-19 00:00:00</th>\n",
              "      <th>...</th>\n",
              "      <th>2019-03-25 00:00:00</th>\n",
              "      <th>2019-03-26 00:00:00</th>\n",
              "      <th>2019-03-27 00:00:00</th>\n",
              "      <th>2019-03-28 00:00:00</th>\n",
              "      <th>2019-03-29 00:00:00</th>\n",
              "      <th>2019-03-30 00:00:00</th>\n",
              "      <th>2019-03-31 00:00:00</th>\n",
              "      <th>2019-04-02 00:00:00</th>\n",
              "      <th>2019-04-03 00:00:00</th>\n",
              "      <th>2019-04-04 00:00:00</th>\n",
              "    </tr>\n",
              "    <tr>\n",
              "      <th>Name</th>\n",
              "      <th></th>\n",
              "      <th></th>\n",
              "      <th></th>\n",
              "      <th></th>\n",
              "      <th></th>\n",
              "      <th></th>\n",
              "      <th></th>\n",
              "      <th></th>\n",
              "      <th></th>\n",
              "      <th></th>\n",
              "      <th></th>\n",
              "      <th></th>\n",
              "      <th></th>\n",
              "      <th></th>\n",
              "      <th></th>\n",
              "      <th></th>\n",
              "      <th></th>\n",
              "      <th></th>\n",
              "      <th></th>\n",
              "      <th></th>\n",
              "      <th></th>\n",
              "    </tr>\n",
              "  </thead>\n",
              "  <tbody>\n",
              "    <tr>\n",
              "      <th>arsad jcb</th>\n",
              "      <td>NaN</td>\n",
              "      <td>NaN</td>\n",
              "      <td>NaN</td>\n",
              "      <td>NaN</td>\n",
              "      <td>3000.0</td>\n",
              "      <td>2000.0</td>\n",
              "      <td>NaN</td>\n",
              "      <td>2000.0</td>\n",
              "      <td>1500.0</td>\n",
              "      <td>NaN</td>\n",
              "      <td>...</td>\n",
              "      <td>NaN</td>\n",
              "      <td>NaN</td>\n",
              "      <td>NaN</td>\n",
              "      <td>NaN</td>\n",
              "      <td>NaN</td>\n",
              "      <td>NaN</td>\n",
              "      <td>NaN</td>\n",
              "      <td>NaN</td>\n",
              "      <td>NaN</td>\n",
              "      <td>NaN</td>\n",
              "    </tr>\n",
              "    <tr>\n",
              "      <th>gulfam</th>\n",
              "      <td>NaN</td>\n",
              "      <td>NaN</td>\n",
              "      <td>NaN</td>\n",
              "      <td>2000.0</td>\n",
              "      <td>2000.0</td>\n",
              "      <td>NaN</td>\n",
              "      <td>NaN</td>\n",
              "      <td>1500.0</td>\n",
              "      <td>2000.0</td>\n",
              "      <td>NaN</td>\n",
              "      <td>...</td>\n",
              "      <td>2000.0</td>\n",
              "      <td>2000.0</td>\n",
              "      <td>1000.0</td>\n",
              "      <td>1500.0</td>\n",
              "      <td>1500.0</td>\n",
              "      <td>1500.0</td>\n",
              "      <td>2000.0</td>\n",
              "      <td>1500.0</td>\n",
              "      <td>1500.0</td>\n",
              "      <td>2000.0</td>\n",
              "    </tr>\n",
              "    <tr>\n",
              "      <th>haroon jcb</th>\n",
              "      <td>NaN</td>\n",
              "      <td>NaN</td>\n",
              "      <td>NaN</td>\n",
              "      <td>NaN</td>\n",
              "      <td>NaN</td>\n",
              "      <td>NaN</td>\n",
              "      <td>NaN</td>\n",
              "      <td>NaN</td>\n",
              "      <td>NaN</td>\n",
              "      <td>NaN</td>\n",
              "      <td>...</td>\n",
              "      <td>NaN</td>\n",
              "      <td>3500.0</td>\n",
              "      <td>NaN</td>\n",
              "      <td>3500.0</td>\n",
              "      <td>3500.0</td>\n",
              "      <td>3500.0</td>\n",
              "      <td>3500.0</td>\n",
              "      <td>3500.0</td>\n",
              "      <td>3500.0</td>\n",
              "      <td>3500.0</td>\n",
              "    </tr>\n",
              "    <tr>\n",
              "      <th>hasan</th>\n",
              "      <td>NaN</td>\n",
              "      <td>NaN</td>\n",
              "      <td>NaN</td>\n",
              "      <td>1500.0</td>\n",
              "      <td>NaN</td>\n",
              "      <td>1500.0</td>\n",
              "      <td>2000.0</td>\n",
              "      <td>2000.0</td>\n",
              "      <td>NaN</td>\n",
              "      <td>NaN</td>\n",
              "      <td>...</td>\n",
              "      <td>2000.0</td>\n",
              "      <td>2000.0</td>\n",
              "      <td>NaN</td>\n",
              "      <td>2000.0</td>\n",
              "      <td>1500.0</td>\n",
              "      <td>2000.0</td>\n",
              "      <td>1500.0</td>\n",
              "      <td>2000.0</td>\n",
              "      <td>1500.0</td>\n",
              "      <td>2000.0</td>\n",
              "    </tr>\n",
              "    <tr>\n",
              "      <th>haseen</th>\n",
              "      <td>NaN</td>\n",
              "      <td>NaN</td>\n",
              "      <td>NaN</td>\n",
              "      <td>2000.0</td>\n",
              "      <td>2000.0</td>\n",
              "      <td>NaN</td>\n",
              "      <td>1500.0</td>\n",
              "      <td>1500.0</td>\n",
              "      <td>1225.0</td>\n",
              "      <td>NaN</td>\n",
              "      <td>...</td>\n",
              "      <td>NaN</td>\n",
              "      <td>NaN</td>\n",
              "      <td>NaN</td>\n",
              "      <td>2000.0</td>\n",
              "      <td>NaN</td>\n",
              "      <td>2000.0</td>\n",
              "      <td>2000.0</td>\n",
              "      <td>2000.0</td>\n",
              "      <td>NaN</td>\n",
              "      <td>2000.0</td>\n",
              "    </tr>\n",
              "    <tr>\n",
              "      <th>isran</th>\n",
              "      <td>NaN</td>\n",
              "      <td>NaN</td>\n",
              "      <td>NaN</td>\n",
              "      <td>NaN</td>\n",
              "      <td>NaN</td>\n",
              "      <td>2000.0</td>\n",
              "      <td>1340.0</td>\n",
              "      <td>NaN</td>\n",
              "      <td>NaN</td>\n",
              "      <td>NaN</td>\n",
              "      <td>...</td>\n",
              "      <td>NaN</td>\n",
              "      <td>2000.0</td>\n",
              "      <td>2000.0</td>\n",
              "      <td>NaN</td>\n",
              "      <td>NaN</td>\n",
              "      <td>NaN</td>\n",
              "      <td>NaN</td>\n",
              "      <td>NaN</td>\n",
              "      <td>NaN</td>\n",
              "      <td>NaN</td>\n",
              "    </tr>\n",
              "    <tr>\n",
              "      <th>jabir</th>\n",
              "      <td>NaN</td>\n",
              "      <td>2000.0</td>\n",
              "      <td>NaN</td>\n",
              "      <td>2000.0</td>\n",
              "      <td>NaN</td>\n",
              "      <td>2000.0</td>\n",
              "      <td>1500.0</td>\n",
              "      <td>1500.0</td>\n",
              "      <td>NaN</td>\n",
              "      <td>1500.0</td>\n",
              "      <td>...</td>\n",
              "      <td>NaN</td>\n",
              "      <td>NaN</td>\n",
              "      <td>NaN</td>\n",
              "      <td>NaN</td>\n",
              "      <td>NaN</td>\n",
              "      <td>NaN</td>\n",
              "      <td>NaN</td>\n",
              "      <td>NaN</td>\n",
              "      <td>NaN</td>\n",
              "      <td>NaN</td>\n",
              "    </tr>\n",
              "    <tr>\n",
              "      <th>julfan</th>\n",
              "      <td>NaN</td>\n",
              "      <td>NaN</td>\n",
              "      <td>NaN</td>\n",
              "      <td>NaN</td>\n",
              "      <td>NaN</td>\n",
              "      <td>NaN</td>\n",
              "      <td>NaN</td>\n",
              "      <td>NaN</td>\n",
              "      <td>NaN</td>\n",
              "      <td>NaN</td>\n",
              "      <td>...</td>\n",
              "      <td>2000.0</td>\n",
              "      <td>2000.0</td>\n",
              "      <td>1000.0</td>\n",
              "      <td>1500.0</td>\n",
              "      <td>2000.0</td>\n",
              "      <td>1500.0</td>\n",
              "      <td>2000.0</td>\n",
              "      <td>2000.0</td>\n",
              "      <td>2000.0</td>\n",
              "      <td>2000.0</td>\n",
              "    </tr>\n",
              "    <tr>\n",
              "      <th>khurseed</th>\n",
              "      <td>NaN</td>\n",
              "      <td>2000.0</td>\n",
              "      <td>2000.0</td>\n",
              "      <td>NaN</td>\n",
              "      <td>2000.0</td>\n",
              "      <td>1500.0</td>\n",
              "      <td>NaN</td>\n",
              "      <td>2000.0</td>\n",
              "      <td>NaN</td>\n",
              "      <td>NaN</td>\n",
              "      <td>...</td>\n",
              "      <td>1500.0</td>\n",
              "      <td>2000.0</td>\n",
              "      <td>NaN</td>\n",
              "      <td>1500.0</td>\n",
              "      <td>2000.0</td>\n",
              "      <td>1500.0</td>\n",
              "      <td>2000.0</td>\n",
              "      <td>2000.0</td>\n",
              "      <td>2000.0</td>\n",
              "      <td>2000.0</td>\n",
              "    </tr>\n",
              "    <tr>\n",
              "      <th>mustakim</th>\n",
              "      <td>NaN</td>\n",
              "      <td>NaN</td>\n",
              "      <td>NaN</td>\n",
              "      <td>NaN</td>\n",
              "      <td>2000.0</td>\n",
              "      <td>NaN</td>\n",
              "      <td>1500.0</td>\n",
              "      <td>NaN</td>\n",
              "      <td>1500.0</td>\n",
              "      <td>NaN</td>\n",
              "      <td>...</td>\n",
              "      <td>NaN</td>\n",
              "      <td>1500.0</td>\n",
              "      <td>NaN</td>\n",
              "      <td>1500.0</td>\n",
              "      <td>1500.0</td>\n",
              "      <td>1500.0</td>\n",
              "      <td>NaN</td>\n",
              "      <td>1500.0</td>\n",
              "      <td>NaN</td>\n",
              "      <td>NaN</td>\n",
              "    </tr>\n",
              "    <tr>\n",
              "      <th>noushad</th>\n",
              "      <td>NaN</td>\n",
              "      <td>NaN</td>\n",
              "      <td>500.0</td>\n",
              "      <td>4500.0</td>\n",
              "      <td>NaN</td>\n",
              "      <td>NaN</td>\n",
              "      <td>NaN</td>\n",
              "      <td>NaN</td>\n",
              "      <td>NaN</td>\n",
              "      <td>NaN</td>\n",
              "      <td>...</td>\n",
              "      <td>5500.0</td>\n",
              "      <td>2500.0</td>\n",
              "      <td>NaN</td>\n",
              "      <td>2000.0</td>\n",
              "      <td>1500.0</td>\n",
              "      <td>500.0</td>\n",
              "      <td>4500.0</td>\n",
              "      <td>1000.0</td>\n",
              "      <td>NaN</td>\n",
              "      <td>1500.0</td>\n",
              "    </tr>\n",
              "    <tr>\n",
              "      <th>rafakat</th>\n",
              "      <td>NaN</td>\n",
              "      <td>NaN</td>\n",
              "      <td>NaN</td>\n",
              "      <td>NaN</td>\n",
              "      <td>NaN</td>\n",
              "      <td>NaN</td>\n",
              "      <td>NaN</td>\n",
              "      <td>NaN</td>\n",
              "      <td>NaN</td>\n",
              "      <td>NaN</td>\n",
              "      <td>...</td>\n",
              "      <td>1500.0</td>\n",
              "      <td>2000.0</td>\n",
              "      <td>NaN</td>\n",
              "      <td>1500.0</td>\n",
              "      <td>2000.0</td>\n",
              "      <td>1500.0</td>\n",
              "      <td>NaN</td>\n",
              "      <td>NaN</td>\n",
              "      <td>1500.0</td>\n",
              "      <td>NaN</td>\n",
              "    </tr>\n",
              "    <tr>\n",
              "      <th>rasid</th>\n",
              "      <td>NaN</td>\n",
              "      <td>NaN</td>\n",
              "      <td>NaN</td>\n",
              "      <td>2000.0</td>\n",
              "      <td>NaN</td>\n",
              "      <td>NaN</td>\n",
              "      <td>2000.0</td>\n",
              "      <td>1500.0</td>\n",
              "      <td>2000.0</td>\n",
              "      <td>NaN</td>\n",
              "      <td>...</td>\n",
              "      <td>NaN</td>\n",
              "      <td>NaN</td>\n",
              "      <td>2000.0</td>\n",
              "      <td>NaN</td>\n",
              "      <td>1500.0</td>\n",
              "      <td>1500.0</td>\n",
              "      <td>2000.0</td>\n",
              "      <td>2000.0</td>\n",
              "      <td>NaN</td>\n",
              "      <td>2000.0</td>\n",
              "    </tr>\n",
              "    <tr>\n",
              "      <th>sabir jcb</th>\n",
              "      <td>NaN</td>\n",
              "      <td>NaN</td>\n",
              "      <td>NaN</td>\n",
              "      <td>NaN</td>\n",
              "      <td>NaN</td>\n",
              "      <td>NaN</td>\n",
              "      <td>NaN</td>\n",
              "      <td>NaN</td>\n",
              "      <td>NaN</td>\n",
              "      <td>NaN</td>\n",
              "      <td>...</td>\n",
              "      <td>NaN</td>\n",
              "      <td>NaN</td>\n",
              "      <td>NaN</td>\n",
              "      <td>NaN</td>\n",
              "      <td>NaN</td>\n",
              "      <td>NaN</td>\n",
              "      <td>NaN</td>\n",
              "      <td>NaN</td>\n",
              "      <td>4000.0</td>\n",
              "      <td>NaN</td>\n",
              "    </tr>\n",
              "    <tr>\n",
              "      <th>shokeen</th>\n",
              "      <td>1000.0</td>\n",
              "      <td>NaN</td>\n",
              "      <td>NaN</td>\n",
              "      <td>2000.0</td>\n",
              "      <td>NaN</td>\n",
              "      <td>NaN</td>\n",
              "      <td>1500.0</td>\n",
              "      <td>2000.0</td>\n",
              "      <td>1500.0</td>\n",
              "      <td>NaN</td>\n",
              "      <td>...</td>\n",
              "      <td>NaN</td>\n",
              "      <td>2000.0</td>\n",
              "      <td>NaN</td>\n",
              "      <td>2000.0</td>\n",
              "      <td>NaN</td>\n",
              "      <td>NaN</td>\n",
              "      <td>NaN</td>\n",
              "      <td>2000.0</td>\n",
              "      <td>2000.0</td>\n",
              "      <td>NaN</td>\n",
              "    </tr>\n",
              "    <tr>\n",
              "      <th>tasim</th>\n",
              "      <td>NaN</td>\n",
              "      <td>NaN</td>\n",
              "      <td>NaN</td>\n",
              "      <td>NaN</td>\n",
              "      <td>NaN</td>\n",
              "      <td>NaN</td>\n",
              "      <td>NaN</td>\n",
              "      <td>NaN</td>\n",
              "      <td>NaN</td>\n",
              "      <td>NaN</td>\n",
              "      <td>...</td>\n",
              "      <td>NaN</td>\n",
              "      <td>NaN</td>\n",
              "      <td>NaN</td>\n",
              "      <td>NaN</td>\n",
              "      <td>NaN</td>\n",
              "      <td>NaN</td>\n",
              "      <td>NaN</td>\n",
              "      <td>NaN</td>\n",
              "      <td>2000.0</td>\n",
              "      <td>NaN</td>\n",
              "    </tr>\n",
              "    <tr>\n",
              "      <th>total</th>\n",
              "      <td>1000.0</td>\n",
              "      <td>4000.0</td>\n",
              "      <td>3000.0</td>\n",
              "      <td>16000.0</td>\n",
              "      <td>11000.0</td>\n",
              "      <td>9000.0</td>\n",
              "      <td>11340.0</td>\n",
              "      <td>15500.0</td>\n",
              "      <td>9725.0</td>\n",
              "      <td>1500.0</td>\n",
              "      <td>...</td>\n",
              "      <td>14500.0</td>\n",
              "      <td>21500.0</td>\n",
              "      <td>6000.0</td>\n",
              "      <td>19000.0</td>\n",
              "      <td>17000.0</td>\n",
              "      <td>17000.0</td>\n",
              "      <td>19500.0</td>\n",
              "      <td>19500.0</td>\n",
              "      <td>20000.0</td>\n",
              "      <td>17000.0</td>\n",
              "    </tr>\n",
              "    <tr>\n",
              "      <th>vijay</th>\n",
              "      <td>NaN</td>\n",
              "      <td>NaN</td>\n",
              "      <td>500.0</td>\n",
              "      <td>NaN</td>\n",
              "      <td>NaN</td>\n",
              "      <td>NaN</td>\n",
              "      <td>NaN</td>\n",
              "      <td>NaN</td>\n",
              "      <td>NaN</td>\n",
              "      <td>NaN</td>\n",
              "      <td>...</td>\n",
              "      <td>NaN</td>\n",
              "      <td>NaN</td>\n",
              "      <td>NaN</td>\n",
              "      <td>NaN</td>\n",
              "      <td>NaN</td>\n",
              "      <td>NaN</td>\n",
              "      <td>NaN</td>\n",
              "      <td>NaN</td>\n",
              "      <td>NaN</td>\n",
              "      <td>NaN</td>\n",
              "    </tr>\n",
              "    <tr>\n",
              "      <th>wajid</th>\n",
              "      <td>NaN</td>\n",
              "      <td>NaN</td>\n",
              "      <td>NaN</td>\n",
              "      <td>NaN</td>\n",
              "      <td>NaN</td>\n",
              "      <td>NaN</td>\n",
              "      <td>NaN</td>\n",
              "      <td>1500.0</td>\n",
              "      <td>NaN</td>\n",
              "      <td>NaN</td>\n",
              "      <td>...</td>\n",
              "      <td>NaN</td>\n",
              "      <td>NaN</td>\n",
              "      <td>NaN</td>\n",
              "      <td>NaN</td>\n",
              "      <td>NaN</td>\n",
              "      <td>NaN</td>\n",
              "      <td>NaN</td>\n",
              "      <td>NaN</td>\n",
              "      <td>NaN</td>\n",
              "      <td>NaN</td>\n",
              "    </tr>\n",
              "  </tbody>\n",
              "</table>\n",
              "<p>19 rows × 22 columns</p>\n",
              "</div>"
            ],
            "text/plain": [
              "Date        2019-03-05  2019-03-11  2019-03-12  2019-03-13  2019-03-14  \\\n",
              "Name                                                                     \n",
              "arsad jcb          NaN         NaN         NaN         NaN      3000.0   \n",
              "gulfam             NaN         NaN         NaN      2000.0      2000.0   \n",
              "haroon jcb         NaN         NaN         NaN         NaN         NaN   \n",
              "hasan              NaN         NaN         NaN      1500.0         NaN   \n",
              "haseen             NaN         NaN         NaN      2000.0      2000.0   \n",
              "isran              NaN         NaN         NaN         NaN         NaN   \n",
              "jabir              NaN      2000.0         NaN      2000.0         NaN   \n",
              "julfan             NaN         NaN         NaN         NaN         NaN   \n",
              "khurseed           NaN      2000.0      2000.0         NaN      2000.0   \n",
              "mustakim           NaN         NaN         NaN         NaN      2000.0   \n",
              "noushad            NaN         NaN       500.0      4500.0         NaN   \n",
              "rafakat            NaN         NaN         NaN         NaN         NaN   \n",
              "rasid              NaN         NaN         NaN      2000.0         NaN   \n",
              "sabir jcb          NaN         NaN         NaN         NaN         NaN   \n",
              "shokeen         1000.0         NaN         NaN      2000.0         NaN   \n",
              "tasim              NaN         NaN         NaN         NaN         NaN   \n",
              "total           1000.0      4000.0      3000.0     16000.0     11000.0   \n",
              "vijay              NaN         NaN       500.0         NaN         NaN   \n",
              "wajid              NaN         NaN         NaN         NaN         NaN   \n",
              "\n",
              "Date        2019-03-15  2019-03-16  2019-03-17  2019-03-18  2019-03-19  \\\n",
              "Name                                                                     \n",
              "arsad jcb       2000.0         NaN      2000.0      1500.0         NaN   \n",
              "gulfam             NaN         NaN      1500.0      2000.0         NaN   \n",
              "haroon jcb         NaN         NaN         NaN         NaN         NaN   \n",
              "hasan           1500.0      2000.0      2000.0         NaN         NaN   \n",
              "haseen             NaN      1500.0      1500.0      1225.0         NaN   \n",
              "isran           2000.0      1340.0         NaN         NaN         NaN   \n",
              "jabir           2000.0      1500.0      1500.0         NaN      1500.0   \n",
              "julfan             NaN         NaN         NaN         NaN         NaN   \n",
              "khurseed        1500.0         NaN      2000.0         NaN         NaN   \n",
              "mustakim           NaN      1500.0         NaN      1500.0         NaN   \n",
              "noushad            NaN         NaN         NaN         NaN         NaN   \n",
              "rafakat            NaN         NaN         NaN         NaN         NaN   \n",
              "rasid              NaN      2000.0      1500.0      2000.0         NaN   \n",
              "sabir jcb          NaN         NaN         NaN         NaN         NaN   \n",
              "shokeen            NaN      1500.0      2000.0      1500.0         NaN   \n",
              "tasim              NaN         NaN         NaN         NaN         NaN   \n",
              "total           9000.0     11340.0     15500.0      9725.0      1500.0   \n",
              "vijay              NaN         NaN         NaN         NaN         NaN   \n",
              "wajid              NaN         NaN      1500.0         NaN         NaN   \n",
              "\n",
              "Date           ...      2019-03-25  2019-03-26  2019-03-27  2019-03-28  \\\n",
              "Name           ...                                                       \n",
              "arsad jcb      ...             NaN         NaN         NaN         NaN   \n",
              "gulfam         ...          2000.0      2000.0      1000.0      1500.0   \n",
              "haroon jcb     ...             NaN      3500.0         NaN      3500.0   \n",
              "hasan          ...          2000.0      2000.0         NaN      2000.0   \n",
              "haseen         ...             NaN         NaN         NaN      2000.0   \n",
              "isran          ...             NaN      2000.0      2000.0         NaN   \n",
              "jabir          ...             NaN         NaN         NaN         NaN   \n",
              "julfan         ...          2000.0      2000.0      1000.0      1500.0   \n",
              "khurseed       ...          1500.0      2000.0         NaN      1500.0   \n",
              "mustakim       ...             NaN      1500.0         NaN      1500.0   \n",
              "noushad        ...          5500.0      2500.0         NaN      2000.0   \n",
              "rafakat        ...          1500.0      2000.0         NaN      1500.0   \n",
              "rasid          ...             NaN         NaN      2000.0         NaN   \n",
              "sabir jcb      ...             NaN         NaN         NaN         NaN   \n",
              "shokeen        ...             NaN      2000.0         NaN      2000.0   \n",
              "tasim          ...             NaN         NaN         NaN         NaN   \n",
              "total          ...         14500.0     21500.0      6000.0     19000.0   \n",
              "vijay          ...             NaN         NaN         NaN         NaN   \n",
              "wajid          ...             NaN         NaN         NaN         NaN   \n",
              "\n",
              "Date        2019-03-29  2019-03-30  2019-03-31  2019-04-02  2019-04-03  \\\n",
              "Name                                                                     \n",
              "arsad jcb          NaN         NaN         NaN         NaN         NaN   \n",
              "gulfam          1500.0      1500.0      2000.0      1500.0      1500.0   \n",
              "haroon jcb      3500.0      3500.0      3500.0      3500.0      3500.0   \n",
              "hasan           1500.0      2000.0      1500.0      2000.0      1500.0   \n",
              "haseen             NaN      2000.0      2000.0      2000.0         NaN   \n",
              "isran              NaN         NaN         NaN         NaN         NaN   \n",
              "jabir              NaN         NaN         NaN         NaN         NaN   \n",
              "julfan          2000.0      1500.0      2000.0      2000.0      2000.0   \n",
              "khurseed        2000.0      1500.0      2000.0      2000.0      2000.0   \n",
              "mustakim        1500.0      1500.0         NaN      1500.0         NaN   \n",
              "noushad         1500.0       500.0      4500.0      1000.0         NaN   \n",
              "rafakat         2000.0      1500.0         NaN         NaN      1500.0   \n",
              "rasid           1500.0      1500.0      2000.0      2000.0         NaN   \n",
              "sabir jcb          NaN         NaN         NaN         NaN      4000.0   \n",
              "shokeen            NaN         NaN         NaN      2000.0      2000.0   \n",
              "tasim              NaN         NaN         NaN         NaN      2000.0   \n",
              "total          17000.0     17000.0     19500.0     19500.0     20000.0   \n",
              "vijay              NaN         NaN         NaN         NaN         NaN   \n",
              "wajid              NaN         NaN         NaN         NaN         NaN   \n",
              "\n",
              "Date        2019-04-04  \n",
              "Name                    \n",
              "arsad jcb          NaN  \n",
              "gulfam          2000.0  \n",
              "haroon jcb      3500.0  \n",
              "hasan           2000.0  \n",
              "haseen          2000.0  \n",
              "isran              NaN  \n",
              "jabir              NaN  \n",
              "julfan          2000.0  \n",
              "khurseed        2000.0  \n",
              "mustakim           NaN  \n",
              "noushad         1500.0  \n",
              "rafakat            NaN  \n",
              "rasid           2000.0  \n",
              "sabir jcb          NaN  \n",
              "shokeen            NaN  \n",
              "tasim              NaN  \n",
              "total          17000.0  \n",
              "vijay              NaN  \n",
              "wajid              NaN  \n",
              "\n",
              "[19 rows x 22 columns]"
            ]
          },
          "metadata": {
            "tags": []
          },
          "execution_count": 117
        }
      ]
    },
    {
      "metadata": {
        "id": "oB45FXvkLUo_",
        "colab_type": "code",
        "colab": {}
      },
      "cell_type": "code",
      "source": [
        "pivot_diesel.fillna(value = 0, inplace = True)"
      ],
      "execution_count": 0,
      "outputs": []
    },
    {
      "metadata": {
        "id": "xEonX1pxLeBD",
        "colab_type": "code",
        "outputId": "5b4315cb-d001-4eb4-8665-6db9782b165b",
        "colab": {
          "base_uri": "https://localhost:8080/",
          "height": 242
        }
      },
      "cell_type": "code",
      "source": [
        "pivot_diesel.head(2)"
      ],
      "execution_count": 119,
      "outputs": [
        {
          "output_type": "execute_result",
          "data": {
            "text/html": [
              "<div>\n",
              "<style scoped>\n",
              "    .dataframe tbody tr th:only-of-type {\n",
              "        vertical-align: middle;\n",
              "    }\n",
              "\n",
              "    .dataframe tbody tr th {\n",
              "        vertical-align: top;\n",
              "    }\n",
              "\n",
              "    .dataframe thead th {\n",
              "        text-align: right;\n",
              "    }\n",
              "</style>\n",
              "<table border=\"1\" class=\"dataframe\">\n",
              "  <thead>\n",
              "    <tr style=\"text-align: right;\">\n",
              "      <th>Date</th>\n",
              "      <th>2019-03-05 00:00:00</th>\n",
              "      <th>2019-03-11 00:00:00</th>\n",
              "      <th>2019-03-12 00:00:00</th>\n",
              "      <th>2019-03-13 00:00:00</th>\n",
              "      <th>2019-03-14 00:00:00</th>\n",
              "      <th>2019-03-15 00:00:00</th>\n",
              "      <th>2019-03-16 00:00:00</th>\n",
              "      <th>2019-03-17 00:00:00</th>\n",
              "      <th>2019-03-18 00:00:00</th>\n",
              "      <th>2019-03-19 00:00:00</th>\n",
              "      <th>...</th>\n",
              "      <th>2019-03-25 00:00:00</th>\n",
              "      <th>2019-03-26 00:00:00</th>\n",
              "      <th>2019-03-27 00:00:00</th>\n",
              "      <th>2019-03-28 00:00:00</th>\n",
              "      <th>2019-03-29 00:00:00</th>\n",
              "      <th>2019-03-30 00:00:00</th>\n",
              "      <th>2019-03-31 00:00:00</th>\n",
              "      <th>2019-04-02 00:00:00</th>\n",
              "      <th>2019-04-03 00:00:00</th>\n",
              "      <th>2019-04-04 00:00:00</th>\n",
              "    </tr>\n",
              "    <tr>\n",
              "      <th>Name</th>\n",
              "      <th></th>\n",
              "      <th></th>\n",
              "      <th></th>\n",
              "      <th></th>\n",
              "      <th></th>\n",
              "      <th></th>\n",
              "      <th></th>\n",
              "      <th></th>\n",
              "      <th></th>\n",
              "      <th></th>\n",
              "      <th></th>\n",
              "      <th></th>\n",
              "      <th></th>\n",
              "      <th></th>\n",
              "      <th></th>\n",
              "      <th></th>\n",
              "      <th></th>\n",
              "      <th></th>\n",
              "      <th></th>\n",
              "      <th></th>\n",
              "      <th></th>\n",
              "    </tr>\n",
              "  </thead>\n",
              "  <tbody>\n",
              "    <tr>\n",
              "      <th>arsad jcb</th>\n",
              "      <td>0.0</td>\n",
              "      <td>0.0</td>\n",
              "      <td>0.0</td>\n",
              "      <td>0.0</td>\n",
              "      <td>3000.0</td>\n",
              "      <td>2000.0</td>\n",
              "      <td>0.0</td>\n",
              "      <td>2000.0</td>\n",
              "      <td>1500.0</td>\n",
              "      <td>0.0</td>\n",
              "      <td>...</td>\n",
              "      <td>0.0</td>\n",
              "      <td>0.0</td>\n",
              "      <td>0.0</td>\n",
              "      <td>0.0</td>\n",
              "      <td>0.0</td>\n",
              "      <td>0.0</td>\n",
              "      <td>0.0</td>\n",
              "      <td>0.0</td>\n",
              "      <td>0.0</td>\n",
              "      <td>0.0</td>\n",
              "    </tr>\n",
              "    <tr>\n",
              "      <th>gulfam</th>\n",
              "      <td>0.0</td>\n",
              "      <td>0.0</td>\n",
              "      <td>0.0</td>\n",
              "      <td>2000.0</td>\n",
              "      <td>2000.0</td>\n",
              "      <td>0.0</td>\n",
              "      <td>0.0</td>\n",
              "      <td>1500.0</td>\n",
              "      <td>2000.0</td>\n",
              "      <td>0.0</td>\n",
              "      <td>...</td>\n",
              "      <td>2000.0</td>\n",
              "      <td>2000.0</td>\n",
              "      <td>1000.0</td>\n",
              "      <td>1500.0</td>\n",
              "      <td>1500.0</td>\n",
              "      <td>1500.0</td>\n",
              "      <td>2000.0</td>\n",
              "      <td>1500.0</td>\n",
              "      <td>1500.0</td>\n",
              "      <td>2000.0</td>\n",
              "    </tr>\n",
              "  </tbody>\n",
              "</table>\n",
              "<p>2 rows × 22 columns</p>\n",
              "</div>"
            ],
            "text/plain": [
              "Date       2019-03-05  2019-03-11  2019-03-12  2019-03-13  2019-03-14  \\\n",
              "Name                                                                    \n",
              "arsad jcb         0.0         0.0         0.0         0.0      3000.0   \n",
              "gulfam            0.0         0.0         0.0      2000.0      2000.0   \n",
              "\n",
              "Date       2019-03-15  2019-03-16  2019-03-17  2019-03-18  2019-03-19  \\\n",
              "Name                                                                    \n",
              "arsad jcb      2000.0         0.0      2000.0      1500.0         0.0   \n",
              "gulfam            0.0         0.0      1500.0      2000.0         0.0   \n",
              "\n",
              "Date          ...      2019-03-25  2019-03-26  2019-03-27  2019-03-28  \\\n",
              "Name          ...                                                       \n",
              "arsad jcb     ...             0.0         0.0         0.0         0.0   \n",
              "gulfam        ...          2000.0      2000.0      1000.0      1500.0   \n",
              "\n",
              "Date       2019-03-29  2019-03-30  2019-03-31  2019-04-02  2019-04-03  \\\n",
              "Name                                                                    \n",
              "arsad jcb         0.0         0.0         0.0         0.0         0.0   \n",
              "gulfam         1500.0      1500.0      2000.0      1500.0      1500.0   \n",
              "\n",
              "Date       2019-04-04  \n",
              "Name                   \n",
              "arsad jcb         0.0  \n",
              "gulfam         2000.0  \n",
              "\n",
              "[2 rows x 22 columns]"
            ]
          },
          "metadata": {
            "tags": []
          },
          "execution_count": 119
        }
      ]
    },
    {
      "metadata": {
        "id": "rEELWCKs_5Nx",
        "colab_type": "code",
        "outputId": "72929390-9e4a-4d5b-f0ee-eb94518a8320",
        "colab": {
          "base_uri": "https://localhost:8080/",
          "height": 211
        }
      },
      "cell_type": "code",
      "source": [
        "pivot_diesel['Total Diesel'] = pd.Series([0 for i in range(len(pivot_diesel))])\n",
        "pivot_diesel.head(1)"
      ],
      "execution_count": 120,
      "outputs": [
        {
          "output_type": "execute_result",
          "data": {
            "text/html": [
              "<div>\n",
              "<style scoped>\n",
              "    .dataframe tbody tr th:only-of-type {\n",
              "        vertical-align: middle;\n",
              "    }\n",
              "\n",
              "    .dataframe tbody tr th {\n",
              "        vertical-align: top;\n",
              "    }\n",
              "\n",
              "    .dataframe thead th {\n",
              "        text-align: right;\n",
              "    }\n",
              "</style>\n",
              "<table border=\"1\" class=\"dataframe\">\n",
              "  <thead>\n",
              "    <tr style=\"text-align: right;\">\n",
              "      <th>Date</th>\n",
              "      <th>2019-03-05 00:00:00</th>\n",
              "      <th>2019-03-11 00:00:00</th>\n",
              "      <th>2019-03-12 00:00:00</th>\n",
              "      <th>2019-03-13 00:00:00</th>\n",
              "      <th>2019-03-14 00:00:00</th>\n",
              "      <th>2019-03-15 00:00:00</th>\n",
              "      <th>2019-03-16 00:00:00</th>\n",
              "      <th>2019-03-17 00:00:00</th>\n",
              "      <th>2019-03-18 00:00:00</th>\n",
              "      <th>2019-03-19 00:00:00</th>\n",
              "      <th>...</th>\n",
              "      <th>2019-03-26 00:00:00</th>\n",
              "      <th>2019-03-27 00:00:00</th>\n",
              "      <th>2019-03-28 00:00:00</th>\n",
              "      <th>2019-03-29 00:00:00</th>\n",
              "      <th>2019-03-30 00:00:00</th>\n",
              "      <th>2019-03-31 00:00:00</th>\n",
              "      <th>2019-04-02 00:00:00</th>\n",
              "      <th>2019-04-03 00:00:00</th>\n",
              "      <th>2019-04-04 00:00:00</th>\n",
              "      <th>Total Diesel</th>\n",
              "    </tr>\n",
              "    <tr>\n",
              "      <th>Name</th>\n",
              "      <th></th>\n",
              "      <th></th>\n",
              "      <th></th>\n",
              "      <th></th>\n",
              "      <th></th>\n",
              "      <th></th>\n",
              "      <th></th>\n",
              "      <th></th>\n",
              "      <th></th>\n",
              "      <th></th>\n",
              "      <th></th>\n",
              "      <th></th>\n",
              "      <th></th>\n",
              "      <th></th>\n",
              "      <th></th>\n",
              "      <th></th>\n",
              "      <th></th>\n",
              "      <th></th>\n",
              "      <th></th>\n",
              "      <th></th>\n",
              "      <th></th>\n",
              "    </tr>\n",
              "  </thead>\n",
              "  <tbody>\n",
              "    <tr>\n",
              "      <th>arsad jcb</th>\n",
              "      <td>0.0</td>\n",
              "      <td>0.0</td>\n",
              "      <td>0.0</td>\n",
              "      <td>0.0</td>\n",
              "      <td>3000.0</td>\n",
              "      <td>2000.0</td>\n",
              "      <td>0.0</td>\n",
              "      <td>2000.0</td>\n",
              "      <td>1500.0</td>\n",
              "      <td>0.0</td>\n",
              "      <td>...</td>\n",
              "      <td>0.0</td>\n",
              "      <td>0.0</td>\n",
              "      <td>0.0</td>\n",
              "      <td>0.0</td>\n",
              "      <td>0.0</td>\n",
              "      <td>0.0</td>\n",
              "      <td>0.0</td>\n",
              "      <td>0.0</td>\n",
              "      <td>0.0</td>\n",
              "      <td>NaN</td>\n",
              "    </tr>\n",
              "  </tbody>\n",
              "</table>\n",
              "<p>1 rows × 23 columns</p>\n",
              "</div>"
            ],
            "text/plain": [
              "Date       2019-03-05 00:00:00  2019-03-11 00:00:00  2019-03-12 00:00:00  \\\n",
              "Name                                                                       \n",
              "arsad jcb                  0.0                  0.0                  0.0   \n",
              "\n",
              "Date       2019-03-13 00:00:00  2019-03-14 00:00:00  2019-03-15 00:00:00  \\\n",
              "Name                                                                       \n",
              "arsad jcb                  0.0               3000.0               2000.0   \n",
              "\n",
              "Date       2019-03-16 00:00:00  2019-03-17 00:00:00  2019-03-18 00:00:00  \\\n",
              "Name                                                                       \n",
              "arsad jcb                  0.0               2000.0               1500.0   \n",
              "\n",
              "Date       2019-03-19 00:00:00      ...       2019-03-26 00:00:00  \\\n",
              "Name                                ...                             \n",
              "arsad jcb                  0.0      ...                       0.0   \n",
              "\n",
              "Date       2019-03-27 00:00:00  2019-03-28 00:00:00  2019-03-29 00:00:00  \\\n",
              "Name                                                                       \n",
              "arsad jcb                  0.0                  0.0                  0.0   \n",
              "\n",
              "Date       2019-03-30 00:00:00  2019-03-31 00:00:00  2019-04-02 00:00:00  \\\n",
              "Name                                                                       \n",
              "arsad jcb                  0.0                  0.0                  0.0   \n",
              "\n",
              "Date       2019-04-03 00:00:00  2019-04-04 00:00:00  Total Diesel  \n",
              "Name                                                               \n",
              "arsad jcb                  0.0                  0.0           NaN  \n",
              "\n",
              "[1 rows x 23 columns]"
            ]
          },
          "metadata": {
            "tags": []
          },
          "execution_count": 120
        }
      ]
    },
    {
      "metadata": {
        "id": "Y2EvagJaL13R",
        "colab_type": "code",
        "colab": {}
      },
      "cell_type": "code",
      "source": [
        "for i in range(len(pivot_diesel)):\n",
        "  pivot_diesel['Total Diesel'][i] = sum(pivot_diesel.iloc[i, 0:-1])"
      ],
      "execution_count": 0,
      "outputs": []
    },
    {
      "metadata": {
        "id": "jmPDiMVJASVB",
        "colab_type": "code",
        "outputId": "eacf34bf-9c7b-4bfa-a224-a46ec98549a2",
        "colab": {
          "base_uri": "https://localhost:8080/",
          "height": 769
        }
      },
      "cell_type": "code",
      "source": [
        "pivot_diesel"
      ],
      "execution_count": 122,
      "outputs": [
        {
          "output_type": "execute_result",
          "data": {
            "text/html": [
              "<div>\n",
              "<style scoped>\n",
              "    .dataframe tbody tr th:only-of-type {\n",
              "        vertical-align: middle;\n",
              "    }\n",
              "\n",
              "    .dataframe tbody tr th {\n",
              "        vertical-align: top;\n",
              "    }\n",
              "\n",
              "    .dataframe thead th {\n",
              "        text-align: right;\n",
              "    }\n",
              "</style>\n",
              "<table border=\"1\" class=\"dataframe\">\n",
              "  <thead>\n",
              "    <tr style=\"text-align: right;\">\n",
              "      <th>Date</th>\n",
              "      <th>2019-03-05 00:00:00</th>\n",
              "      <th>2019-03-11 00:00:00</th>\n",
              "      <th>2019-03-12 00:00:00</th>\n",
              "      <th>2019-03-13 00:00:00</th>\n",
              "      <th>2019-03-14 00:00:00</th>\n",
              "      <th>2019-03-15 00:00:00</th>\n",
              "      <th>2019-03-16 00:00:00</th>\n",
              "      <th>2019-03-17 00:00:00</th>\n",
              "      <th>2019-03-18 00:00:00</th>\n",
              "      <th>2019-03-19 00:00:00</th>\n",
              "      <th>...</th>\n",
              "      <th>2019-03-26 00:00:00</th>\n",
              "      <th>2019-03-27 00:00:00</th>\n",
              "      <th>2019-03-28 00:00:00</th>\n",
              "      <th>2019-03-29 00:00:00</th>\n",
              "      <th>2019-03-30 00:00:00</th>\n",
              "      <th>2019-03-31 00:00:00</th>\n",
              "      <th>2019-04-02 00:00:00</th>\n",
              "      <th>2019-04-03 00:00:00</th>\n",
              "      <th>2019-04-04 00:00:00</th>\n",
              "      <th>Total Diesel</th>\n",
              "    </tr>\n",
              "    <tr>\n",
              "      <th>Name</th>\n",
              "      <th></th>\n",
              "      <th></th>\n",
              "      <th></th>\n",
              "      <th></th>\n",
              "      <th></th>\n",
              "      <th></th>\n",
              "      <th></th>\n",
              "      <th></th>\n",
              "      <th></th>\n",
              "      <th></th>\n",
              "      <th></th>\n",
              "      <th></th>\n",
              "      <th></th>\n",
              "      <th></th>\n",
              "      <th></th>\n",
              "      <th></th>\n",
              "      <th></th>\n",
              "      <th></th>\n",
              "      <th></th>\n",
              "      <th></th>\n",
              "      <th></th>\n",
              "    </tr>\n",
              "  </thead>\n",
              "  <tbody>\n",
              "    <tr>\n",
              "      <th>arsad jcb</th>\n",
              "      <td>0.0</td>\n",
              "      <td>0.0</td>\n",
              "      <td>0.0</td>\n",
              "      <td>0.0</td>\n",
              "      <td>3000.0</td>\n",
              "      <td>2000.0</td>\n",
              "      <td>0.0</td>\n",
              "      <td>2000.0</td>\n",
              "      <td>1500.0</td>\n",
              "      <td>0.0</td>\n",
              "      <td>...</td>\n",
              "      <td>0.0</td>\n",
              "      <td>0.0</td>\n",
              "      <td>0.0</td>\n",
              "      <td>0.0</td>\n",
              "      <td>0.0</td>\n",
              "      <td>0.0</td>\n",
              "      <td>0.0</td>\n",
              "      <td>0.0</td>\n",
              "      <td>0.0</td>\n",
              "      <td>8500.0</td>\n",
              "    </tr>\n",
              "    <tr>\n",
              "      <th>gulfam</th>\n",
              "      <td>0.0</td>\n",
              "      <td>0.0</td>\n",
              "      <td>0.0</td>\n",
              "      <td>2000.0</td>\n",
              "      <td>2000.0</td>\n",
              "      <td>0.0</td>\n",
              "      <td>0.0</td>\n",
              "      <td>1500.0</td>\n",
              "      <td>2000.0</td>\n",
              "      <td>0.0</td>\n",
              "      <td>...</td>\n",
              "      <td>2000.0</td>\n",
              "      <td>1000.0</td>\n",
              "      <td>1500.0</td>\n",
              "      <td>1500.0</td>\n",
              "      <td>1500.0</td>\n",
              "      <td>2000.0</td>\n",
              "      <td>1500.0</td>\n",
              "      <td>1500.0</td>\n",
              "      <td>2000.0</td>\n",
              "      <td>27000.0</td>\n",
              "    </tr>\n",
              "    <tr>\n",
              "      <th>haroon jcb</th>\n",
              "      <td>0.0</td>\n",
              "      <td>0.0</td>\n",
              "      <td>0.0</td>\n",
              "      <td>0.0</td>\n",
              "      <td>0.0</td>\n",
              "      <td>0.0</td>\n",
              "      <td>0.0</td>\n",
              "      <td>0.0</td>\n",
              "      <td>0.0</td>\n",
              "      <td>0.0</td>\n",
              "      <td>...</td>\n",
              "      <td>3500.0</td>\n",
              "      <td>0.0</td>\n",
              "      <td>3500.0</td>\n",
              "      <td>3500.0</td>\n",
              "      <td>3500.0</td>\n",
              "      <td>3500.0</td>\n",
              "      <td>3500.0</td>\n",
              "      <td>3500.0</td>\n",
              "      <td>3500.0</td>\n",
              "      <td>28000.0</td>\n",
              "    </tr>\n",
              "    <tr>\n",
              "      <th>hasan</th>\n",
              "      <td>0.0</td>\n",
              "      <td>0.0</td>\n",
              "      <td>0.0</td>\n",
              "      <td>1500.0</td>\n",
              "      <td>0.0</td>\n",
              "      <td>1500.0</td>\n",
              "      <td>2000.0</td>\n",
              "      <td>2000.0</td>\n",
              "      <td>0.0</td>\n",
              "      <td>0.0</td>\n",
              "      <td>...</td>\n",
              "      <td>2000.0</td>\n",
              "      <td>0.0</td>\n",
              "      <td>2000.0</td>\n",
              "      <td>1500.0</td>\n",
              "      <td>2000.0</td>\n",
              "      <td>1500.0</td>\n",
              "      <td>2000.0</td>\n",
              "      <td>1500.0</td>\n",
              "      <td>2000.0</td>\n",
              "      <td>27500.0</td>\n",
              "    </tr>\n",
              "    <tr>\n",
              "      <th>haseen</th>\n",
              "      <td>0.0</td>\n",
              "      <td>0.0</td>\n",
              "      <td>0.0</td>\n",
              "      <td>2000.0</td>\n",
              "      <td>2000.0</td>\n",
              "      <td>0.0</td>\n",
              "      <td>1500.0</td>\n",
              "      <td>1500.0</td>\n",
              "      <td>1225.0</td>\n",
              "      <td>0.0</td>\n",
              "      <td>...</td>\n",
              "      <td>0.0</td>\n",
              "      <td>0.0</td>\n",
              "      <td>2000.0</td>\n",
              "      <td>0.0</td>\n",
              "      <td>2000.0</td>\n",
              "      <td>2000.0</td>\n",
              "      <td>2000.0</td>\n",
              "      <td>0.0</td>\n",
              "      <td>2000.0</td>\n",
              "      <td>18225.0</td>\n",
              "    </tr>\n",
              "    <tr>\n",
              "      <th>isran</th>\n",
              "      <td>0.0</td>\n",
              "      <td>0.0</td>\n",
              "      <td>0.0</td>\n",
              "      <td>0.0</td>\n",
              "      <td>0.0</td>\n",
              "      <td>2000.0</td>\n",
              "      <td>1340.0</td>\n",
              "      <td>0.0</td>\n",
              "      <td>0.0</td>\n",
              "      <td>0.0</td>\n",
              "      <td>...</td>\n",
              "      <td>2000.0</td>\n",
              "      <td>2000.0</td>\n",
              "      <td>0.0</td>\n",
              "      <td>0.0</td>\n",
              "      <td>0.0</td>\n",
              "      <td>0.0</td>\n",
              "      <td>0.0</td>\n",
              "      <td>0.0</td>\n",
              "      <td>0.0</td>\n",
              "      <td>7340.0</td>\n",
              "    </tr>\n",
              "    <tr>\n",
              "      <th>jabir</th>\n",
              "      <td>0.0</td>\n",
              "      <td>2000.0</td>\n",
              "      <td>0.0</td>\n",
              "      <td>2000.0</td>\n",
              "      <td>0.0</td>\n",
              "      <td>2000.0</td>\n",
              "      <td>1500.0</td>\n",
              "      <td>1500.0</td>\n",
              "      <td>0.0</td>\n",
              "      <td>1500.0</td>\n",
              "      <td>...</td>\n",
              "      <td>0.0</td>\n",
              "      <td>0.0</td>\n",
              "      <td>0.0</td>\n",
              "      <td>0.0</td>\n",
              "      <td>0.0</td>\n",
              "      <td>0.0</td>\n",
              "      <td>0.0</td>\n",
              "      <td>0.0</td>\n",
              "      <td>0.0</td>\n",
              "      <td>10500.0</td>\n",
              "    </tr>\n",
              "    <tr>\n",
              "      <th>julfan</th>\n",
              "      <td>0.0</td>\n",
              "      <td>0.0</td>\n",
              "      <td>0.0</td>\n",
              "      <td>0.0</td>\n",
              "      <td>0.0</td>\n",
              "      <td>0.0</td>\n",
              "      <td>0.0</td>\n",
              "      <td>0.0</td>\n",
              "      <td>0.0</td>\n",
              "      <td>0.0</td>\n",
              "      <td>...</td>\n",
              "      <td>2000.0</td>\n",
              "      <td>1000.0</td>\n",
              "      <td>1500.0</td>\n",
              "      <td>2000.0</td>\n",
              "      <td>1500.0</td>\n",
              "      <td>2000.0</td>\n",
              "      <td>2000.0</td>\n",
              "      <td>2000.0</td>\n",
              "      <td>2000.0</td>\n",
              "      <td>22000.0</td>\n",
              "    </tr>\n",
              "    <tr>\n",
              "      <th>khurseed</th>\n",
              "      <td>0.0</td>\n",
              "      <td>2000.0</td>\n",
              "      <td>2000.0</td>\n",
              "      <td>0.0</td>\n",
              "      <td>2000.0</td>\n",
              "      <td>1500.0</td>\n",
              "      <td>0.0</td>\n",
              "      <td>2000.0</td>\n",
              "      <td>0.0</td>\n",
              "      <td>0.0</td>\n",
              "      <td>...</td>\n",
              "      <td>2000.0</td>\n",
              "      <td>0.0</td>\n",
              "      <td>1500.0</td>\n",
              "      <td>2000.0</td>\n",
              "      <td>1500.0</td>\n",
              "      <td>2000.0</td>\n",
              "      <td>2000.0</td>\n",
              "      <td>2000.0</td>\n",
              "      <td>2000.0</td>\n",
              "      <td>27800.0</td>\n",
              "    </tr>\n",
              "    <tr>\n",
              "      <th>mustakim</th>\n",
              "      <td>0.0</td>\n",
              "      <td>0.0</td>\n",
              "      <td>0.0</td>\n",
              "      <td>0.0</td>\n",
              "      <td>2000.0</td>\n",
              "      <td>0.0</td>\n",
              "      <td>1500.0</td>\n",
              "      <td>0.0</td>\n",
              "      <td>1500.0</td>\n",
              "      <td>0.0</td>\n",
              "      <td>...</td>\n",
              "      <td>1500.0</td>\n",
              "      <td>0.0</td>\n",
              "      <td>1500.0</td>\n",
              "      <td>1500.0</td>\n",
              "      <td>1500.0</td>\n",
              "      <td>0.0</td>\n",
              "      <td>1500.0</td>\n",
              "      <td>0.0</td>\n",
              "      <td>0.0</td>\n",
              "      <td>14000.0</td>\n",
              "    </tr>\n",
              "    <tr>\n",
              "      <th>noushad</th>\n",
              "      <td>0.0</td>\n",
              "      <td>0.0</td>\n",
              "      <td>500.0</td>\n",
              "      <td>4500.0</td>\n",
              "      <td>0.0</td>\n",
              "      <td>0.0</td>\n",
              "      <td>0.0</td>\n",
              "      <td>0.0</td>\n",
              "      <td>0.0</td>\n",
              "      <td>0.0</td>\n",
              "      <td>...</td>\n",
              "      <td>2500.0</td>\n",
              "      <td>0.0</td>\n",
              "      <td>2000.0</td>\n",
              "      <td>1500.0</td>\n",
              "      <td>500.0</td>\n",
              "      <td>4500.0</td>\n",
              "      <td>1000.0</td>\n",
              "      <td>0.0</td>\n",
              "      <td>1500.0</td>\n",
              "      <td>27200.0</td>\n",
              "    </tr>\n",
              "    <tr>\n",
              "      <th>rafakat</th>\n",
              "      <td>0.0</td>\n",
              "      <td>0.0</td>\n",
              "      <td>0.0</td>\n",
              "      <td>0.0</td>\n",
              "      <td>0.0</td>\n",
              "      <td>0.0</td>\n",
              "      <td>0.0</td>\n",
              "      <td>0.0</td>\n",
              "      <td>0.0</td>\n",
              "      <td>0.0</td>\n",
              "      <td>...</td>\n",
              "      <td>2000.0</td>\n",
              "      <td>0.0</td>\n",
              "      <td>1500.0</td>\n",
              "      <td>2000.0</td>\n",
              "      <td>1500.0</td>\n",
              "      <td>0.0</td>\n",
              "      <td>0.0</td>\n",
              "      <td>1500.0</td>\n",
              "      <td>0.0</td>\n",
              "      <td>14000.0</td>\n",
              "    </tr>\n",
              "    <tr>\n",
              "      <th>rasid</th>\n",
              "      <td>0.0</td>\n",
              "      <td>0.0</td>\n",
              "      <td>0.0</td>\n",
              "      <td>2000.0</td>\n",
              "      <td>0.0</td>\n",
              "      <td>0.0</td>\n",
              "      <td>2000.0</td>\n",
              "      <td>1500.0</td>\n",
              "      <td>2000.0</td>\n",
              "      <td>0.0</td>\n",
              "      <td>...</td>\n",
              "      <td>0.0</td>\n",
              "      <td>2000.0</td>\n",
              "      <td>0.0</td>\n",
              "      <td>1500.0</td>\n",
              "      <td>1500.0</td>\n",
              "      <td>2000.0</td>\n",
              "      <td>2000.0</td>\n",
              "      <td>0.0</td>\n",
              "      <td>2000.0</td>\n",
              "      <td>18500.0</td>\n",
              "    </tr>\n",
              "    <tr>\n",
              "      <th>sabir jcb</th>\n",
              "      <td>0.0</td>\n",
              "      <td>0.0</td>\n",
              "      <td>0.0</td>\n",
              "      <td>0.0</td>\n",
              "      <td>0.0</td>\n",
              "      <td>0.0</td>\n",
              "      <td>0.0</td>\n",
              "      <td>0.0</td>\n",
              "      <td>0.0</td>\n",
              "      <td>0.0</td>\n",
              "      <td>...</td>\n",
              "      <td>0.0</td>\n",
              "      <td>0.0</td>\n",
              "      <td>0.0</td>\n",
              "      <td>0.0</td>\n",
              "      <td>0.0</td>\n",
              "      <td>0.0</td>\n",
              "      <td>0.0</td>\n",
              "      <td>4000.0</td>\n",
              "      <td>0.0</td>\n",
              "      <td>4000.0</td>\n",
              "    </tr>\n",
              "    <tr>\n",
              "      <th>shokeen</th>\n",
              "      <td>1000.0</td>\n",
              "      <td>0.0</td>\n",
              "      <td>0.0</td>\n",
              "      <td>2000.0</td>\n",
              "      <td>0.0</td>\n",
              "      <td>0.0</td>\n",
              "      <td>1500.0</td>\n",
              "      <td>2000.0</td>\n",
              "      <td>1500.0</td>\n",
              "      <td>0.0</td>\n",
              "      <td>...</td>\n",
              "      <td>2000.0</td>\n",
              "      <td>0.0</td>\n",
              "      <td>2000.0</td>\n",
              "      <td>0.0</td>\n",
              "      <td>0.0</td>\n",
              "      <td>0.0</td>\n",
              "      <td>2000.0</td>\n",
              "      <td>2000.0</td>\n",
              "      <td>0.0</td>\n",
              "      <td>16000.0</td>\n",
              "    </tr>\n",
              "    <tr>\n",
              "      <th>tasim</th>\n",
              "      <td>0.0</td>\n",
              "      <td>0.0</td>\n",
              "      <td>0.0</td>\n",
              "      <td>0.0</td>\n",
              "      <td>0.0</td>\n",
              "      <td>0.0</td>\n",
              "      <td>0.0</td>\n",
              "      <td>0.0</td>\n",
              "      <td>0.0</td>\n",
              "      <td>0.0</td>\n",
              "      <td>...</td>\n",
              "      <td>0.0</td>\n",
              "      <td>0.0</td>\n",
              "      <td>0.0</td>\n",
              "      <td>0.0</td>\n",
              "      <td>0.0</td>\n",
              "      <td>0.0</td>\n",
              "      <td>0.0</td>\n",
              "      <td>2000.0</td>\n",
              "      <td>0.0</td>\n",
              "      <td>2000.0</td>\n",
              "    </tr>\n",
              "    <tr>\n",
              "      <th>total</th>\n",
              "      <td>1000.0</td>\n",
              "      <td>4000.0</td>\n",
              "      <td>3000.0</td>\n",
              "      <td>16000.0</td>\n",
              "      <td>11000.0</td>\n",
              "      <td>9000.0</td>\n",
              "      <td>11340.0</td>\n",
              "      <td>15500.0</td>\n",
              "      <td>9725.0</td>\n",
              "      <td>1500.0</td>\n",
              "      <td>...</td>\n",
              "      <td>21500.0</td>\n",
              "      <td>6000.0</td>\n",
              "      <td>19000.0</td>\n",
              "      <td>17000.0</td>\n",
              "      <td>17000.0</td>\n",
              "      <td>19500.0</td>\n",
              "      <td>19500.0</td>\n",
              "      <td>20000.0</td>\n",
              "      <td>17000.0</td>\n",
              "      <td>274565.0</td>\n",
              "    </tr>\n",
              "    <tr>\n",
              "      <th>vijay</th>\n",
              "      <td>0.0</td>\n",
              "      <td>0.0</td>\n",
              "      <td>500.0</td>\n",
              "      <td>0.0</td>\n",
              "      <td>0.0</td>\n",
              "      <td>0.0</td>\n",
              "      <td>0.0</td>\n",
              "      <td>0.0</td>\n",
              "      <td>0.0</td>\n",
              "      <td>0.0</td>\n",
              "      <td>...</td>\n",
              "      <td>0.0</td>\n",
              "      <td>0.0</td>\n",
              "      <td>0.0</td>\n",
              "      <td>0.0</td>\n",
              "      <td>0.0</td>\n",
              "      <td>0.0</td>\n",
              "      <td>0.0</td>\n",
              "      <td>0.0</td>\n",
              "      <td>0.0</td>\n",
              "      <td>500.0</td>\n",
              "    </tr>\n",
              "    <tr>\n",
              "      <th>wajid</th>\n",
              "      <td>0.0</td>\n",
              "      <td>0.0</td>\n",
              "      <td>0.0</td>\n",
              "      <td>0.0</td>\n",
              "      <td>0.0</td>\n",
              "      <td>0.0</td>\n",
              "      <td>0.0</td>\n",
              "      <td>1500.0</td>\n",
              "      <td>0.0</td>\n",
              "      <td>0.0</td>\n",
              "      <td>...</td>\n",
              "      <td>0.0</td>\n",
              "      <td>0.0</td>\n",
              "      <td>0.0</td>\n",
              "      <td>0.0</td>\n",
              "      <td>0.0</td>\n",
              "      <td>0.0</td>\n",
              "      <td>0.0</td>\n",
              "      <td>0.0</td>\n",
              "      <td>0.0</td>\n",
              "      <td>1500.0</td>\n",
              "    </tr>\n",
              "  </tbody>\n",
              "</table>\n",
              "<p>19 rows × 23 columns</p>\n",
              "</div>"
            ],
            "text/plain": [
              "Date        2019-03-05 00:00:00  2019-03-11 00:00:00  2019-03-12 00:00:00  \\\n",
              "Name                                                                        \n",
              "arsad jcb                   0.0                  0.0                  0.0   \n",
              "gulfam                      0.0                  0.0                  0.0   \n",
              "haroon jcb                  0.0                  0.0                  0.0   \n",
              "hasan                       0.0                  0.0                  0.0   \n",
              "haseen                      0.0                  0.0                  0.0   \n",
              "isran                       0.0                  0.0                  0.0   \n",
              "jabir                       0.0               2000.0                  0.0   \n",
              "julfan                      0.0                  0.0                  0.0   \n",
              "khurseed                    0.0               2000.0               2000.0   \n",
              "mustakim                    0.0                  0.0                  0.0   \n",
              "noushad                     0.0                  0.0                500.0   \n",
              "rafakat                     0.0                  0.0                  0.0   \n",
              "rasid                       0.0                  0.0                  0.0   \n",
              "sabir jcb                   0.0                  0.0                  0.0   \n",
              "shokeen                  1000.0                  0.0                  0.0   \n",
              "tasim                       0.0                  0.0                  0.0   \n",
              "total                    1000.0               4000.0               3000.0   \n",
              "vijay                       0.0                  0.0                500.0   \n",
              "wajid                       0.0                  0.0                  0.0   \n",
              "\n",
              "Date        2019-03-13 00:00:00  2019-03-14 00:00:00  2019-03-15 00:00:00  \\\n",
              "Name                                                                        \n",
              "arsad jcb                   0.0               3000.0               2000.0   \n",
              "gulfam                   2000.0               2000.0                  0.0   \n",
              "haroon jcb                  0.0                  0.0                  0.0   \n",
              "hasan                    1500.0                  0.0               1500.0   \n",
              "haseen                   2000.0               2000.0                  0.0   \n",
              "isran                       0.0                  0.0               2000.0   \n",
              "jabir                    2000.0                  0.0               2000.0   \n",
              "julfan                      0.0                  0.0                  0.0   \n",
              "khurseed                    0.0               2000.0               1500.0   \n",
              "mustakim                    0.0               2000.0                  0.0   \n",
              "noushad                  4500.0                  0.0                  0.0   \n",
              "rafakat                     0.0                  0.0                  0.0   \n",
              "rasid                    2000.0                  0.0                  0.0   \n",
              "sabir jcb                   0.0                  0.0                  0.0   \n",
              "shokeen                  2000.0                  0.0                  0.0   \n",
              "tasim                       0.0                  0.0                  0.0   \n",
              "total                   16000.0              11000.0               9000.0   \n",
              "vijay                       0.0                  0.0                  0.0   \n",
              "wajid                       0.0                  0.0                  0.0   \n",
              "\n",
              "Date        2019-03-16 00:00:00  2019-03-17 00:00:00  2019-03-18 00:00:00  \\\n",
              "Name                                                                        \n",
              "arsad jcb                   0.0               2000.0               1500.0   \n",
              "gulfam                      0.0               1500.0               2000.0   \n",
              "haroon jcb                  0.0                  0.0                  0.0   \n",
              "hasan                    2000.0               2000.0                  0.0   \n",
              "haseen                   1500.0               1500.0               1225.0   \n",
              "isran                    1340.0                  0.0                  0.0   \n",
              "jabir                    1500.0               1500.0                  0.0   \n",
              "julfan                      0.0                  0.0                  0.0   \n",
              "khurseed                    0.0               2000.0                  0.0   \n",
              "mustakim                 1500.0                  0.0               1500.0   \n",
              "noushad                     0.0                  0.0                  0.0   \n",
              "rafakat                     0.0                  0.0                  0.0   \n",
              "rasid                    2000.0               1500.0               2000.0   \n",
              "sabir jcb                   0.0                  0.0                  0.0   \n",
              "shokeen                  1500.0               2000.0               1500.0   \n",
              "tasim                       0.0                  0.0                  0.0   \n",
              "total                   11340.0              15500.0               9725.0   \n",
              "vijay                       0.0                  0.0                  0.0   \n",
              "wajid                       0.0               1500.0                  0.0   \n",
              "\n",
              "Date        2019-03-19 00:00:00      ...       2019-03-26 00:00:00  \\\n",
              "Name                                 ...                             \n",
              "arsad jcb                   0.0      ...                       0.0   \n",
              "gulfam                      0.0      ...                    2000.0   \n",
              "haroon jcb                  0.0      ...                    3500.0   \n",
              "hasan                       0.0      ...                    2000.0   \n",
              "haseen                      0.0      ...                       0.0   \n",
              "isran                       0.0      ...                    2000.0   \n",
              "jabir                    1500.0      ...                       0.0   \n",
              "julfan                      0.0      ...                    2000.0   \n",
              "khurseed                    0.0      ...                    2000.0   \n",
              "mustakim                    0.0      ...                    1500.0   \n",
              "noushad                     0.0      ...                    2500.0   \n",
              "rafakat                     0.0      ...                    2000.0   \n",
              "rasid                       0.0      ...                       0.0   \n",
              "sabir jcb                   0.0      ...                       0.0   \n",
              "shokeen                     0.0      ...                    2000.0   \n",
              "tasim                       0.0      ...                       0.0   \n",
              "total                    1500.0      ...                   21500.0   \n",
              "vijay                       0.0      ...                       0.0   \n",
              "wajid                       0.0      ...                       0.0   \n",
              "\n",
              "Date        2019-03-27 00:00:00  2019-03-28 00:00:00  2019-03-29 00:00:00  \\\n",
              "Name                                                                        \n",
              "arsad jcb                   0.0                  0.0                  0.0   \n",
              "gulfam                   1000.0               1500.0               1500.0   \n",
              "haroon jcb                  0.0               3500.0               3500.0   \n",
              "hasan                       0.0               2000.0               1500.0   \n",
              "haseen                      0.0               2000.0                  0.0   \n",
              "isran                    2000.0                  0.0                  0.0   \n",
              "jabir                       0.0                  0.0                  0.0   \n",
              "julfan                   1000.0               1500.0               2000.0   \n",
              "khurseed                    0.0               1500.0               2000.0   \n",
              "mustakim                    0.0               1500.0               1500.0   \n",
              "noushad                     0.0               2000.0               1500.0   \n",
              "rafakat                     0.0               1500.0               2000.0   \n",
              "rasid                    2000.0                  0.0               1500.0   \n",
              "sabir jcb                   0.0                  0.0                  0.0   \n",
              "shokeen                     0.0               2000.0                  0.0   \n",
              "tasim                       0.0                  0.0                  0.0   \n",
              "total                    6000.0              19000.0              17000.0   \n",
              "vijay                       0.0                  0.0                  0.0   \n",
              "wajid                       0.0                  0.0                  0.0   \n",
              "\n",
              "Date        2019-03-30 00:00:00  2019-03-31 00:00:00  2019-04-02 00:00:00  \\\n",
              "Name                                                                        \n",
              "arsad jcb                   0.0                  0.0                  0.0   \n",
              "gulfam                   1500.0               2000.0               1500.0   \n",
              "haroon jcb               3500.0               3500.0               3500.0   \n",
              "hasan                    2000.0               1500.0               2000.0   \n",
              "haseen                   2000.0               2000.0               2000.0   \n",
              "isran                       0.0                  0.0                  0.0   \n",
              "jabir                       0.0                  0.0                  0.0   \n",
              "julfan                   1500.0               2000.0               2000.0   \n",
              "khurseed                 1500.0               2000.0               2000.0   \n",
              "mustakim                 1500.0                  0.0               1500.0   \n",
              "noushad                   500.0               4500.0               1000.0   \n",
              "rafakat                  1500.0                  0.0                  0.0   \n",
              "rasid                    1500.0               2000.0               2000.0   \n",
              "sabir jcb                   0.0                  0.0                  0.0   \n",
              "shokeen                     0.0                  0.0               2000.0   \n",
              "tasim                       0.0                  0.0                  0.0   \n",
              "total                   17000.0              19500.0              19500.0   \n",
              "vijay                       0.0                  0.0                  0.0   \n",
              "wajid                       0.0                  0.0                  0.0   \n",
              "\n",
              "Date        2019-04-03 00:00:00  2019-04-04 00:00:00  Total Diesel  \n",
              "Name                                                                \n",
              "arsad jcb                   0.0                  0.0        8500.0  \n",
              "gulfam                   1500.0               2000.0       27000.0  \n",
              "haroon jcb               3500.0               3500.0       28000.0  \n",
              "hasan                    1500.0               2000.0       27500.0  \n",
              "haseen                      0.0               2000.0       18225.0  \n",
              "isran                       0.0                  0.0        7340.0  \n",
              "jabir                       0.0                  0.0       10500.0  \n",
              "julfan                   2000.0               2000.0       22000.0  \n",
              "khurseed                 2000.0               2000.0       27800.0  \n",
              "mustakim                    0.0                  0.0       14000.0  \n",
              "noushad                     0.0               1500.0       27200.0  \n",
              "rafakat                  1500.0                  0.0       14000.0  \n",
              "rasid                       0.0               2000.0       18500.0  \n",
              "sabir jcb                4000.0                  0.0        4000.0  \n",
              "shokeen                  2000.0                  0.0       16000.0  \n",
              "tasim                    2000.0                  0.0        2000.0  \n",
              "total                   20000.0              17000.0      274565.0  \n",
              "vijay                       0.0                  0.0         500.0  \n",
              "wajid                       0.0                  0.0        1500.0  \n",
              "\n",
              "[19 rows x 23 columns]"
            ]
          },
          "metadata": {
            "tags": []
          },
          "execution_count": 122
        }
      ]
    },
    {
      "metadata": {
        "id": "jyp4QkHLo82j",
        "colab_type": "code",
        "outputId": "7483e029-6cd0-4ee1-be0b-f5f8121df321",
        "colab": {
          "base_uri": "https://localhost:8080/",
          "height": 669
        }
      },
      "cell_type": "code",
      "source": [
        "diesel = pivot_diesel[['Total Diesel']]\n",
        "diesel"
      ],
      "execution_count": 123,
      "outputs": [
        {
          "output_type": "execute_result",
          "data": {
            "text/html": [
              "<div>\n",
              "<style scoped>\n",
              "    .dataframe tbody tr th:only-of-type {\n",
              "        vertical-align: middle;\n",
              "    }\n",
              "\n",
              "    .dataframe tbody tr th {\n",
              "        vertical-align: top;\n",
              "    }\n",
              "\n",
              "    .dataframe thead th {\n",
              "        text-align: right;\n",
              "    }\n",
              "</style>\n",
              "<table border=\"1\" class=\"dataframe\">\n",
              "  <thead>\n",
              "    <tr style=\"text-align: right;\">\n",
              "      <th>Date</th>\n",
              "      <th>Total Diesel</th>\n",
              "    </tr>\n",
              "    <tr>\n",
              "      <th>Name</th>\n",
              "      <th></th>\n",
              "    </tr>\n",
              "  </thead>\n",
              "  <tbody>\n",
              "    <tr>\n",
              "      <th>arsad jcb</th>\n",
              "      <td>8500.0</td>\n",
              "    </tr>\n",
              "    <tr>\n",
              "      <th>gulfam</th>\n",
              "      <td>27000.0</td>\n",
              "    </tr>\n",
              "    <tr>\n",
              "      <th>haroon jcb</th>\n",
              "      <td>28000.0</td>\n",
              "    </tr>\n",
              "    <tr>\n",
              "      <th>hasan</th>\n",
              "      <td>27500.0</td>\n",
              "    </tr>\n",
              "    <tr>\n",
              "      <th>haseen</th>\n",
              "      <td>18225.0</td>\n",
              "    </tr>\n",
              "    <tr>\n",
              "      <th>isran</th>\n",
              "      <td>7340.0</td>\n",
              "    </tr>\n",
              "    <tr>\n",
              "      <th>jabir</th>\n",
              "      <td>10500.0</td>\n",
              "    </tr>\n",
              "    <tr>\n",
              "      <th>julfan</th>\n",
              "      <td>22000.0</td>\n",
              "    </tr>\n",
              "    <tr>\n",
              "      <th>khurseed</th>\n",
              "      <td>27800.0</td>\n",
              "    </tr>\n",
              "    <tr>\n",
              "      <th>mustakim</th>\n",
              "      <td>14000.0</td>\n",
              "    </tr>\n",
              "    <tr>\n",
              "      <th>noushad</th>\n",
              "      <td>27200.0</td>\n",
              "    </tr>\n",
              "    <tr>\n",
              "      <th>rafakat</th>\n",
              "      <td>14000.0</td>\n",
              "    </tr>\n",
              "    <tr>\n",
              "      <th>rasid</th>\n",
              "      <td>18500.0</td>\n",
              "    </tr>\n",
              "    <tr>\n",
              "      <th>sabir jcb</th>\n",
              "      <td>4000.0</td>\n",
              "    </tr>\n",
              "    <tr>\n",
              "      <th>shokeen</th>\n",
              "      <td>16000.0</td>\n",
              "    </tr>\n",
              "    <tr>\n",
              "      <th>tasim</th>\n",
              "      <td>2000.0</td>\n",
              "    </tr>\n",
              "    <tr>\n",
              "      <th>total</th>\n",
              "      <td>274565.0</td>\n",
              "    </tr>\n",
              "    <tr>\n",
              "      <th>vijay</th>\n",
              "      <td>500.0</td>\n",
              "    </tr>\n",
              "    <tr>\n",
              "      <th>wajid</th>\n",
              "      <td>1500.0</td>\n",
              "    </tr>\n",
              "  </tbody>\n",
              "</table>\n",
              "</div>"
            ],
            "text/plain": [
              "Date        Total Diesel\n",
              "Name                    \n",
              "arsad jcb         8500.0\n",
              "gulfam           27000.0\n",
              "haroon jcb       28000.0\n",
              "hasan            27500.0\n",
              "haseen           18225.0\n",
              "isran             7340.0\n",
              "jabir            10500.0\n",
              "julfan           22000.0\n",
              "khurseed         27800.0\n",
              "mustakim         14000.0\n",
              "noushad          27200.0\n",
              "rafakat          14000.0\n",
              "rasid            18500.0\n",
              "sabir jcb         4000.0\n",
              "shokeen          16000.0\n",
              "tasim             2000.0\n",
              "total           274565.0\n",
              "vijay              500.0\n",
              "wajid             1500.0"
            ]
          },
          "metadata": {
            "tags": []
          },
          "execution_count": 123
        }
      ]
    },
    {
      "metadata": {
        "id": "jsQ52FyRCZz9",
        "colab_type": "text"
      },
      "cell_type": "markdown",
      "source": [
        "# Total Quantity per name"
      ]
    },
    {
      "metadata": {
        "id": "aAtFy8oyD3dM",
        "colab_type": "code",
        "colab": {}
      },
      "cell_type": "code",
      "source": [
        "name_groups = df.groupby('Name')\n",
        "name_total_quantity = pd.DataFrame(columns = ['Name', 'Total Quantity'])\n",
        "for i, j in name_groups:\n",
        "  name_total_quantity = name_total_quantity.append({'Name':i, 'Total Quantity': sum(j.Quantity)}, ignore_index = True)\n",
        "  \n",
        "name_total_quantity.sort_values(by = ['Total Quantity'], ascending = False, inplace = True)"
      ],
      "execution_count": 0,
      "outputs": []
    },
    {
      "metadata": {
        "id": "4VCgjQr2INk1",
        "colab_type": "code",
        "outputId": "53d68c68-1495-4d30-f257-4e997bd3e908",
        "colab": {
          "base_uri": "https://localhost:8080/",
          "height": 483
        }
      },
      "cell_type": "code",
      "source": [
        "name_total_quantity"
      ],
      "execution_count": 125,
      "outputs": [
        {
          "output_type": "execute_result",
          "data": {
            "text/html": [
              "<div>\n",
              "<style scoped>\n",
              "    .dataframe tbody tr th:only-of-type {\n",
              "        vertical-align: middle;\n",
              "    }\n",
              "\n",
              "    .dataframe tbody tr th {\n",
              "        vertical-align: top;\n",
              "    }\n",
              "\n",
              "    .dataframe thead th {\n",
              "        text-align: right;\n",
              "    }\n",
              "</style>\n",
              "<table border=\"1\" class=\"dataframe\">\n",
              "  <thead>\n",
              "    <tr style=\"text-align: right;\">\n",
              "      <th></th>\n",
              "      <th>Name</th>\n",
              "      <th>Total Quantity</th>\n",
              "    </tr>\n",
              "  </thead>\n",
              "  <tbody>\n",
              "    <tr>\n",
              "      <th>2</th>\n",
              "      <td>hasan</td>\n",
              "      <td>25714</td>\n",
              "    </tr>\n",
              "    <tr>\n",
              "      <th>7</th>\n",
              "      <td>khurseed</td>\n",
              "      <td>19565</td>\n",
              "    </tr>\n",
              "    <tr>\n",
              "      <th>6</th>\n",
              "      <td>julfan</td>\n",
              "      <td>15510</td>\n",
              "    </tr>\n",
              "    <tr>\n",
              "      <th>3</th>\n",
              "      <td>haseen</td>\n",
              "      <td>13888</td>\n",
              "    </tr>\n",
              "    <tr>\n",
              "      <th>8</th>\n",
              "      <td>mustakim</td>\n",
              "      <td>12485</td>\n",
              "    </tr>\n",
              "    <tr>\n",
              "      <th>10</th>\n",
              "      <td>rasid</td>\n",
              "      <td>11890</td>\n",
              "    </tr>\n",
              "    <tr>\n",
              "      <th>11</th>\n",
              "      <td>shokeen</td>\n",
              "      <td>11305</td>\n",
              "    </tr>\n",
              "    <tr>\n",
              "      <th>1</th>\n",
              "      <td>gulfam</td>\n",
              "      <td>11280</td>\n",
              "    </tr>\n",
              "    <tr>\n",
              "      <th>9</th>\n",
              "      <td>rafakat</td>\n",
              "      <td>7532</td>\n",
              "    </tr>\n",
              "    <tr>\n",
              "      <th>5</th>\n",
              "      <td>jabir</td>\n",
              "      <td>4594</td>\n",
              "    </tr>\n",
              "    <tr>\n",
              "      <th>4</th>\n",
              "      <td>isran</td>\n",
              "      <td>2820</td>\n",
              "    </tr>\n",
              "    <tr>\n",
              "      <th>13</th>\n",
              "      <td>wajid</td>\n",
              "      <td>1257</td>\n",
              "    </tr>\n",
              "    <tr>\n",
              "      <th>12</th>\n",
              "      <td>tasim</td>\n",
              "      <td>453</td>\n",
              "    </tr>\n",
              "    <tr>\n",
              "      <th>0</th>\n",
              "      <td>akran</td>\n",
              "      <td>400</td>\n",
              "    </tr>\n",
              "  </tbody>\n",
              "</table>\n",
              "</div>"
            ],
            "text/plain": [
              "        Name Total Quantity\n",
              "2      hasan          25714\n",
              "7   khurseed          19565\n",
              "6     julfan          15510\n",
              "3     haseen          13888\n",
              "8   mustakim          12485\n",
              "10     rasid          11890\n",
              "11   shokeen          11305\n",
              "1     gulfam          11280\n",
              "9    rafakat           7532\n",
              "5      jabir           4594\n",
              "4      isran           2820\n",
              "13     wajid           1257\n",
              "12     tasim            453\n",
              "0      akran            400"
            ]
          },
          "metadata": {
            "tags": []
          },
          "execution_count": 125
        }
      ]
    },
    {
      "metadata": {
        "colab_type": "code",
        "id": "DDtvAy58pvm_",
        "colab": {}
      },
      "cell_type": "code",
      "source": [
        "diesel.reset_index(inplace = True)"
      ],
      "execution_count": 0,
      "outputs": []
    },
    {
      "metadata": {
        "id": "QmuplIIOMtwd",
        "colab_type": "code",
        "outputId": "2e9f29a5-9249-4ed5-e995-9ba50957a047",
        "colab": {
          "base_uri": "https://localhost:8080/",
          "height": 80
        }
      },
      "cell_type": "code",
      "source": [
        "diesel.head(1)"
      ],
      "execution_count": 127,
      "outputs": [
        {
          "output_type": "execute_result",
          "data": {
            "text/html": [
              "<div>\n",
              "<style scoped>\n",
              "    .dataframe tbody tr th:only-of-type {\n",
              "        vertical-align: middle;\n",
              "    }\n",
              "\n",
              "    .dataframe tbody tr th {\n",
              "        vertical-align: top;\n",
              "    }\n",
              "\n",
              "    .dataframe thead th {\n",
              "        text-align: right;\n",
              "    }\n",
              "</style>\n",
              "<table border=\"1\" class=\"dataframe\">\n",
              "  <thead>\n",
              "    <tr style=\"text-align: right;\">\n",
              "      <th>Date</th>\n",
              "      <th>Name</th>\n",
              "      <th>Total Diesel</th>\n",
              "    </tr>\n",
              "  </thead>\n",
              "  <tbody>\n",
              "    <tr>\n",
              "      <th>0</th>\n",
              "      <td>arsad jcb</td>\n",
              "      <td>8500.0</td>\n",
              "    </tr>\n",
              "  </tbody>\n",
              "</table>\n",
              "</div>"
            ],
            "text/plain": [
              "Date       Name  Total Diesel\n",
              "0     arsad jcb        8500.0"
            ]
          },
          "metadata": {
            "tags": []
          },
          "execution_count": 127
        }
      ]
    },
    {
      "metadata": {
        "id": "cJvCrs5eHUzH",
        "colab_type": "code",
        "outputId": "1458bea0-498c-4b2b-bc76-477c0aeeda74",
        "colab": {
          "base_uri": "https://localhost:8080/",
          "height": 34
        }
      },
      "cell_type": "code",
      "source": [
        "name_total_quantity.shape"
      ],
      "execution_count": 128,
      "outputs": [
        {
          "output_type": "execute_result",
          "data": {
            "text/plain": [
              "(14, 2)"
            ]
          },
          "metadata": {
            "tags": []
          },
          "execution_count": 128
        }
      ]
    },
    {
      "metadata": {
        "id": "bIgFlZSgHZ2Z",
        "colab_type": "code",
        "outputId": "dd5ff32c-02cb-49ac-cc8a-5f2d910017f1",
        "colab": {
          "base_uri": "https://localhost:8080/",
          "height": 34
        }
      },
      "cell_type": "code",
      "source": [
        "diesel.shape"
      ],
      "execution_count": 129,
      "outputs": [
        {
          "output_type": "execute_result",
          "data": {
            "text/plain": [
              "(19, 2)"
            ]
          },
          "metadata": {
            "tags": []
          },
          "execution_count": 129
        }
      ]
    },
    {
      "metadata": {
        "id": "qR3KHrjDqWmj",
        "colab_type": "code",
        "colab": {
          "base_uri": "https://localhost:8080/",
          "height": 68
        },
        "outputId": "f6758926-cc3b-48e6-e767-05c348366f92"
      },
      "cell_type": "code",
      "source": [
        "names = name_total_quantity.Name.values\n",
        "names"
      ],
      "execution_count": 130,
      "outputs": [
        {
          "output_type": "execute_result",
          "data": {
            "text/plain": [
              "array(['hasan', 'khurseed', 'julfan', 'haseen', 'mustakim', 'rasid',\n",
              "       'shokeen', 'gulfam', 'rafakat', 'jabir', 'isran', 'wajid', 'tasim',\n",
              "       'akran'], dtype=object)"
            ]
          },
          "metadata": {
            "tags": []
          },
          "execution_count": 130
        }
      ]
    },
    {
      "metadata": {
        "id": "T3VxU2CMrcgG",
        "colab_type": "code",
        "colab": {
          "base_uri": "https://localhost:8080/",
          "height": 34
        },
        "outputId": "6286f30a-ca30-46cd-b6b6-cd69c809bfca"
      },
      "cell_type": "code",
      "source": [
        "name_total_quantity[name_total_quantity.Name == 'hasan']['Total Quantity'].values[0]"
      ],
      "execution_count": 131,
      "outputs": [
        {
          "output_type": "execute_result",
          "data": {
            "text/plain": [
              "25714"
            ]
          },
          "metadata": {
            "tags": []
          },
          "execution_count": 131
        }
      ]
    },
    {
      "metadata": {
        "id": "Dt0tY1MmKWaE",
        "colab_type": "code",
        "colab": {}
      },
      "cell_type": "code",
      "source": [
        "final = pd.DataFrame(columns = ['Name','Counts' , 'Total Quantity', 'Amount', 'Diesel', 'Amount - Diesel'])\n",
        "for i in names:\n",
        "    total_quantity = name_total_quantity[name_total_quantity.Name == i]['Total Quantity'].values[0]\n",
        "    if i in diesel.Name.values:\n",
        "      total_diesel = diesel[diesel.Name == i]['Total Diesel'].values[0]\n",
        "    else:\n",
        "      total_diesel = 0\n",
        "    final = final.append({'Name': i,'Total Quantity':total_quantity,\n",
        "                            'Counts':rounds_per_name.get(i),\n",
        "                            'Amount':total_quantity*3,\n",
        "                            'Diesel':total_diesel,\n",
        "                            'Amount - Diesel':total_quantity*3 - total_diesel},\n",
        "                           ignore_index = True)\n",
        "        \n",
        "    "
      ],
      "execution_count": 0,
      "outputs": []
    },
    {
      "metadata": {
        "id": "pqq9bOw3M6j4",
        "colab_type": "code",
        "outputId": "897173bc-d8f8-4e72-84de-1b7fd866ed77",
        "colab": {
          "base_uri": "https://localhost:8080/",
          "height": 483
        }
      },
      "cell_type": "code",
      "source": [
        "final.sort_values(by = 'Total Quantity', ascending = False, inplace = True)\n",
        "final"
      ],
      "execution_count": 133,
      "outputs": [
        {
          "output_type": "execute_result",
          "data": {
            "text/html": [
              "<div>\n",
              "<style scoped>\n",
              "    .dataframe tbody tr th:only-of-type {\n",
              "        vertical-align: middle;\n",
              "    }\n",
              "\n",
              "    .dataframe tbody tr th {\n",
              "        vertical-align: top;\n",
              "    }\n",
              "\n",
              "    .dataframe thead th {\n",
              "        text-align: right;\n",
              "    }\n",
              "</style>\n",
              "<table border=\"1\" class=\"dataframe\">\n",
              "  <thead>\n",
              "    <tr style=\"text-align: right;\">\n",
              "      <th></th>\n",
              "      <th>Name</th>\n",
              "      <th>Counts</th>\n",
              "      <th>Total Quantity</th>\n",
              "      <th>Amount</th>\n",
              "      <th>Diesel</th>\n",
              "      <th>Amount - Diesel</th>\n",
              "    </tr>\n",
              "  </thead>\n",
              "  <tbody>\n",
              "    <tr>\n",
              "      <th>0</th>\n",
              "      <td>hasan</td>\n",
              "      <td>48</td>\n",
              "      <td>25714</td>\n",
              "      <td>77142</td>\n",
              "      <td>27500.0</td>\n",
              "      <td>49642.0</td>\n",
              "    </tr>\n",
              "    <tr>\n",
              "      <th>1</th>\n",
              "      <td>khurseed</td>\n",
              "      <td>43</td>\n",
              "      <td>19565</td>\n",
              "      <td>58695</td>\n",
              "      <td>27800.0</td>\n",
              "      <td>30895.0</td>\n",
              "    </tr>\n",
              "    <tr>\n",
              "      <th>2</th>\n",
              "      <td>julfan</td>\n",
              "      <td>32</td>\n",
              "      <td>15510</td>\n",
              "      <td>46530</td>\n",
              "      <td>22000.0</td>\n",
              "      <td>24530.0</td>\n",
              "    </tr>\n",
              "    <tr>\n",
              "      <th>3</th>\n",
              "      <td>haseen</td>\n",
              "      <td>28</td>\n",
              "      <td>13888</td>\n",
              "      <td>41664</td>\n",
              "      <td>18225.0</td>\n",
              "      <td>23439.0</td>\n",
              "    </tr>\n",
              "    <tr>\n",
              "      <th>4</th>\n",
              "      <td>mustakim</td>\n",
              "      <td>31</td>\n",
              "      <td>12485</td>\n",
              "      <td>37455</td>\n",
              "      <td>14000.0</td>\n",
              "      <td>23455.0</td>\n",
              "    </tr>\n",
              "    <tr>\n",
              "      <th>5</th>\n",
              "      <td>rasid</td>\n",
              "      <td>29</td>\n",
              "      <td>11890</td>\n",
              "      <td>35670</td>\n",
              "      <td>18500.0</td>\n",
              "      <td>17170.0</td>\n",
              "    </tr>\n",
              "    <tr>\n",
              "      <th>6</th>\n",
              "      <td>shokeen</td>\n",
              "      <td>25</td>\n",
              "      <td>11305</td>\n",
              "      <td>33915</td>\n",
              "      <td>16000.0</td>\n",
              "      <td>17915.0</td>\n",
              "    </tr>\n",
              "    <tr>\n",
              "      <th>7</th>\n",
              "      <td>gulfam</td>\n",
              "      <td>23</td>\n",
              "      <td>11280</td>\n",
              "      <td>33840</td>\n",
              "      <td>27000.0</td>\n",
              "      <td>6840.0</td>\n",
              "    </tr>\n",
              "    <tr>\n",
              "      <th>8</th>\n",
              "      <td>rafakat</td>\n",
              "      <td>14</td>\n",
              "      <td>7532</td>\n",
              "      <td>22596</td>\n",
              "      <td>14000.0</td>\n",
              "      <td>8596.0</td>\n",
              "    </tr>\n",
              "    <tr>\n",
              "      <th>9</th>\n",
              "      <td>jabir</td>\n",
              "      <td>11</td>\n",
              "      <td>4594</td>\n",
              "      <td>13782</td>\n",
              "      <td>10500.0</td>\n",
              "      <td>3282.0</td>\n",
              "    </tr>\n",
              "    <tr>\n",
              "      <th>10</th>\n",
              "      <td>isran</td>\n",
              "      <td>6</td>\n",
              "      <td>2820</td>\n",
              "      <td>8460</td>\n",
              "      <td>7340.0</td>\n",
              "      <td>1120.0</td>\n",
              "    </tr>\n",
              "    <tr>\n",
              "      <th>11</th>\n",
              "      <td>wajid</td>\n",
              "      <td>3</td>\n",
              "      <td>1257</td>\n",
              "      <td>3771</td>\n",
              "      <td>1500.0</td>\n",
              "      <td>2271.0</td>\n",
              "    </tr>\n",
              "    <tr>\n",
              "      <th>12</th>\n",
              "      <td>tasim</td>\n",
              "      <td>1</td>\n",
              "      <td>453</td>\n",
              "      <td>1359</td>\n",
              "      <td>2000.0</td>\n",
              "      <td>-641.0</td>\n",
              "    </tr>\n",
              "    <tr>\n",
              "      <th>13</th>\n",
              "      <td>akran</td>\n",
              "      <td>1</td>\n",
              "      <td>400</td>\n",
              "      <td>1200</td>\n",
              "      <td>0.0</td>\n",
              "      <td>1200.0</td>\n",
              "    </tr>\n",
              "  </tbody>\n",
              "</table>\n",
              "</div>"
            ],
            "text/plain": [
              "        Name Counts Total Quantity Amount   Diesel  Amount - Diesel\n",
              "0      hasan     48          25714  77142  27500.0          49642.0\n",
              "1   khurseed     43          19565  58695  27800.0          30895.0\n",
              "2     julfan     32          15510  46530  22000.0          24530.0\n",
              "3     haseen     28          13888  41664  18225.0          23439.0\n",
              "4   mustakim     31          12485  37455  14000.0          23455.0\n",
              "5      rasid     29          11890  35670  18500.0          17170.0\n",
              "6    shokeen     25          11305  33915  16000.0          17915.0\n",
              "7     gulfam     23          11280  33840  27000.0           6840.0\n",
              "8    rafakat     14           7532  22596  14000.0           8596.0\n",
              "9      jabir     11           4594  13782  10500.0           3282.0\n",
              "10     isran      6           2820   8460   7340.0           1120.0\n",
              "11     wajid      3           1257   3771   1500.0           2271.0\n",
              "12     tasim      1            453   1359   2000.0           -641.0\n",
              "13     akran      1            400   1200      0.0           1200.0"
            ]
          },
          "metadata": {
            "tags": []
          },
          "execution_count": 133
        }
      ]
    },
    {
      "metadata": {
        "id": "gnLKK1AMtx7o",
        "colab_type": "code",
        "colab": {
          "base_uri": "https://localhost:8080/",
          "height": 514
        },
        "outputId": "64ae538b-7840-4f63-90a1-dd15ec787932"
      },
      "cell_type": "code",
      "source": [
        "final.append({'Name': 'Total', 'Counts': sum(final.Counts), 'Total Quantity':sum(final['Total Quantity']),\t'Amount':sum(final.Amount),\n",
        "              'Diesel':sum(final.Diesel), 'Amount - Diesel':sum(final['Amount - Diesel'])}, ignore_index = True)"
      ],
      "execution_count": 143,
      "outputs": [
        {
          "output_type": "execute_result",
          "data": {
            "text/html": [
              "<div>\n",
              "<style scoped>\n",
              "    .dataframe tbody tr th:only-of-type {\n",
              "        vertical-align: middle;\n",
              "    }\n",
              "\n",
              "    .dataframe tbody tr th {\n",
              "        vertical-align: top;\n",
              "    }\n",
              "\n",
              "    .dataframe thead th {\n",
              "        text-align: right;\n",
              "    }\n",
              "</style>\n",
              "<table border=\"1\" class=\"dataframe\">\n",
              "  <thead>\n",
              "    <tr style=\"text-align: right;\">\n",
              "      <th></th>\n",
              "      <th>Name</th>\n",
              "      <th>Counts</th>\n",
              "      <th>Total Quantity</th>\n",
              "      <th>Amount</th>\n",
              "      <th>Diesel</th>\n",
              "      <th>Amount - Diesel</th>\n",
              "    </tr>\n",
              "  </thead>\n",
              "  <tbody>\n",
              "    <tr>\n",
              "      <th>0</th>\n",
              "      <td>hasan</td>\n",
              "      <td>48</td>\n",
              "      <td>25714</td>\n",
              "      <td>77142</td>\n",
              "      <td>27500.0</td>\n",
              "      <td>49642.0</td>\n",
              "    </tr>\n",
              "    <tr>\n",
              "      <th>1</th>\n",
              "      <td>khurseed</td>\n",
              "      <td>43</td>\n",
              "      <td>19565</td>\n",
              "      <td>58695</td>\n",
              "      <td>27800.0</td>\n",
              "      <td>30895.0</td>\n",
              "    </tr>\n",
              "    <tr>\n",
              "      <th>2</th>\n",
              "      <td>julfan</td>\n",
              "      <td>32</td>\n",
              "      <td>15510</td>\n",
              "      <td>46530</td>\n",
              "      <td>22000.0</td>\n",
              "      <td>24530.0</td>\n",
              "    </tr>\n",
              "    <tr>\n",
              "      <th>3</th>\n",
              "      <td>haseen</td>\n",
              "      <td>28</td>\n",
              "      <td>13888</td>\n",
              "      <td>41664</td>\n",
              "      <td>18225.0</td>\n",
              "      <td>23439.0</td>\n",
              "    </tr>\n",
              "    <tr>\n",
              "      <th>4</th>\n",
              "      <td>mustakim</td>\n",
              "      <td>31</td>\n",
              "      <td>12485</td>\n",
              "      <td>37455</td>\n",
              "      <td>14000.0</td>\n",
              "      <td>23455.0</td>\n",
              "    </tr>\n",
              "    <tr>\n",
              "      <th>5</th>\n",
              "      <td>rasid</td>\n",
              "      <td>29</td>\n",
              "      <td>11890</td>\n",
              "      <td>35670</td>\n",
              "      <td>18500.0</td>\n",
              "      <td>17170.0</td>\n",
              "    </tr>\n",
              "    <tr>\n",
              "      <th>6</th>\n",
              "      <td>shokeen</td>\n",
              "      <td>25</td>\n",
              "      <td>11305</td>\n",
              "      <td>33915</td>\n",
              "      <td>16000.0</td>\n",
              "      <td>17915.0</td>\n",
              "    </tr>\n",
              "    <tr>\n",
              "      <th>7</th>\n",
              "      <td>gulfam</td>\n",
              "      <td>23</td>\n",
              "      <td>11280</td>\n",
              "      <td>33840</td>\n",
              "      <td>27000.0</td>\n",
              "      <td>6840.0</td>\n",
              "    </tr>\n",
              "    <tr>\n",
              "      <th>8</th>\n",
              "      <td>rafakat</td>\n",
              "      <td>14</td>\n",
              "      <td>7532</td>\n",
              "      <td>22596</td>\n",
              "      <td>14000.0</td>\n",
              "      <td>8596.0</td>\n",
              "    </tr>\n",
              "    <tr>\n",
              "      <th>9</th>\n",
              "      <td>jabir</td>\n",
              "      <td>11</td>\n",
              "      <td>4594</td>\n",
              "      <td>13782</td>\n",
              "      <td>10500.0</td>\n",
              "      <td>3282.0</td>\n",
              "    </tr>\n",
              "    <tr>\n",
              "      <th>10</th>\n",
              "      <td>isran</td>\n",
              "      <td>6</td>\n",
              "      <td>2820</td>\n",
              "      <td>8460</td>\n",
              "      <td>7340.0</td>\n",
              "      <td>1120.0</td>\n",
              "    </tr>\n",
              "    <tr>\n",
              "      <th>11</th>\n",
              "      <td>wajid</td>\n",
              "      <td>3</td>\n",
              "      <td>1257</td>\n",
              "      <td>3771</td>\n",
              "      <td>1500.0</td>\n",
              "      <td>2271.0</td>\n",
              "    </tr>\n",
              "    <tr>\n",
              "      <th>12</th>\n",
              "      <td>tasim</td>\n",
              "      <td>1</td>\n",
              "      <td>453</td>\n",
              "      <td>1359</td>\n",
              "      <td>2000.0</td>\n",
              "      <td>-641.0</td>\n",
              "    </tr>\n",
              "    <tr>\n",
              "      <th>13</th>\n",
              "      <td>akran</td>\n",
              "      <td>1</td>\n",
              "      <td>400</td>\n",
              "      <td>1200</td>\n",
              "      <td>0.0</td>\n",
              "      <td>1200.0</td>\n",
              "    </tr>\n",
              "    <tr>\n",
              "      <th>14</th>\n",
              "      <td>Total</td>\n",
              "      <td>295</td>\n",
              "      <td>138693</td>\n",
              "      <td>416079</td>\n",
              "      <td>206365.0</td>\n",
              "      <td>209714.0</td>\n",
              "    </tr>\n",
              "  </tbody>\n",
              "</table>\n",
              "</div>"
            ],
            "text/plain": [
              "        Name Counts Total Quantity  Amount    Diesel  Amount - Diesel\n",
              "0      hasan     48          25714   77142   27500.0          49642.0\n",
              "1   khurseed     43          19565   58695   27800.0          30895.0\n",
              "2     julfan     32          15510   46530   22000.0          24530.0\n",
              "3     haseen     28          13888   41664   18225.0          23439.0\n",
              "4   mustakim     31          12485   37455   14000.0          23455.0\n",
              "5      rasid     29          11890   35670   18500.0          17170.0\n",
              "6    shokeen     25          11305   33915   16000.0          17915.0\n",
              "7     gulfam     23          11280   33840   27000.0           6840.0\n",
              "8    rafakat     14           7532   22596   14000.0           8596.0\n",
              "9      jabir     11           4594   13782   10500.0           3282.0\n",
              "10     isran      6           2820    8460    7340.0           1120.0\n",
              "11     wajid      3           1257    3771    1500.0           2271.0\n",
              "12     tasim      1            453    1359    2000.0           -641.0\n",
              "13     akran      1            400    1200       0.0           1200.0\n",
              "14     Total    295         138693  416079  206365.0         209714.0"
            ]
          },
          "metadata": {
            "tags": []
          },
          "execution_count": 143
        }
      ]
    },
    {
      "metadata": {
        "id": "j9mtOxxVNFDu",
        "colab_type": "code",
        "outputId": "5a7f6fa7-2cf2-495b-f7f8-822104c9baf7",
        "colab": {
          "base_uri": "https://localhost:8080/",
          "height": 34
        }
      },
      "cell_type": "code",
      "source": [
        "final.shape"
      ],
      "execution_count": 134,
      "outputs": [
        {
          "output_type": "execute_result",
          "data": {
            "text/plain": [
              "(14, 6)"
            ]
          },
          "metadata": {
            "tags": []
          },
          "execution_count": 134
        }
      ]
    },
    {
      "metadata": {
        "id": "4qByZQESnxAl",
        "colab_type": "code",
        "colab": {
          "base_uri": "https://localhost:8080/",
          "height": 136
        },
        "outputId": "5e3bb86e-7261-4a4b-cd2d-2ed1fe96ef1c"
      },
      "cell_type": "code",
      "source": [
        "final.sum(axis = 0, skipna = True)"
      ],
      "execution_count": 135,
      "outputs": [
        {
          "output_type": "execute_result",
          "data": {
            "text/plain": [
              "Name               hasankhurseedjulfanhaseenmustakimrasidshokeeng...\n",
              "Counts                                                           295\n",
              "Total Quantity                                                138693\n",
              "Amount                                                        416079\n",
              "Diesel                                                        206365\n",
              "Amount - Diesel                                               209714\n",
              "dtype: object"
            ]
          },
          "metadata": {
            "tags": []
          },
          "execution_count": 135
        }
      ]
    },
    {
      "metadata": {
        "id": "2dFxg-EjQHiR",
        "colab_type": "code",
        "outputId": "d1ad085c-3a67-40bf-b27f-5857d20119cc",
        "colab": {
          "base_uri": "https://localhost:8080/",
          "height": 34
        }
      },
      "cell_type": "code",
      "source": [
        "total_q = sum(final['Total Quantity'])\n",
        "total_q"
      ],
      "execution_count": 136,
      "outputs": [
        {
          "output_type": "execute_result",
          "data": {
            "text/plain": [
              "138693"
            ]
          },
          "metadata": {
            "tags": []
          },
          "execution_count": 136
        }
      ]
    },
    {
      "metadata": {
        "id": "_0al7GQXkDXf",
        "colab_type": "text"
      },
      "cell_type": "markdown",
      "source": [
        "# Total payable"
      ]
    },
    {
      "metadata": {
        "id": "Gnvgr72nOi46",
        "colab_type": "code",
        "outputId": "ae4e61fe-c94c-432c-981f-c460427a94aa",
        "colab": {
          "base_uri": "https://localhost:8080/",
          "height": 34
        }
      },
      "cell_type": "code",
      "source": [
        "our_amount = total_quantity*4.25\n",
        "our_amount"
      ],
      "execution_count": 137,
      "outputs": [
        {
          "output_type": "execute_result",
          "data": {
            "text/plain": [
              "1700.0"
            ]
          },
          "metadata": {
            "tags": []
          },
          "execution_count": 137
        }
      ]
    },
    {
      "metadata": {
        "id": "2y-CqyDROs15",
        "colab_type": "code",
        "outputId": "c5a57960-dd58-4676-91de-1bac92e76d05",
        "colab": {
          "base_uri": "https://localhost:8080/",
          "height": 34
        }
      },
      "cell_type": "code",
      "source": [
        "total_diesel "
      ],
      "execution_count": 138,
      "outputs": [
        {
          "output_type": "execute_result",
          "data": {
            "text/plain": [
              "0"
            ]
          },
          "metadata": {
            "tags": []
          },
          "execution_count": 138
        }
      ]
    },
    {
      "metadata": {
        "id": "fWPGu8mdvoVe",
        "colab_type": "code",
        "outputId": "fd2d4ec5-36f2-4948-f1cb-1a6dfeb80621",
        "colab": {
          "base_uri": "https://localhost:8080/",
          "height": 34
        }
      },
      "cell_type": "code",
      "source": [
        "sabir_jcb = pivot_diesel.loc['sabir jcb']['Total Diesel']\n",
        "sabir_jcb"
      ],
      "execution_count": 139,
      "outputs": [
        {
          "output_type": "execute_result",
          "data": {
            "text/plain": [
              "4000.0"
            ]
          },
          "metadata": {
            "tags": []
          },
          "execution_count": 139
        }
      ]
    },
    {
      "metadata": {
        "id": "RcA_MAG7O8eW",
        "colab_type": "text"
      },
      "cell_type": "markdown",
      "source": [
        "# Our Balance"
      ]
    },
    {
      "metadata": {
        "id": "0sA_9sP9OxEs",
        "colab_type": "code",
        "outputId": "9326e1fb-b7de-4892-d480-cea9cfba399d",
        "colab": {
          "base_uri": "https://localhost:8080/",
          "height": 34
        }
      },
      "cell_type": "code",
      "source": [
        "balance = our_amount - total_diesel\n",
        "balance"
      ],
      "execution_count": 140,
      "outputs": [
        {
          "output_type": "execute_result",
          "data": {
            "text/plain": [
              "1700.0"
            ]
          },
          "metadata": {
            "tags": []
          },
          "execution_count": 140
        }
      ]
    },
    {
      "metadata": {
        "id": "qjdbMaeqO5Mo",
        "colab_type": "text"
      },
      "cell_type": "markdown",
      "source": [
        "# Tot to People"
      ]
    },
    {
      "metadata": {
        "id": "6XWkfa0VyQGy",
        "colab_type": "code",
        "outputId": "e6ace7b9-cc44-4901-9ccb-f2e2a6e5c195",
        "colab": {
          "base_uri": "https://localhost:8080/",
          "height": 34
        }
      },
      "cell_type": "code",
      "source": [
        "to_people = total_quantity*3\n",
        "to_people"
      ],
      "execution_count": 141,
      "outputs": [
        {
          "output_type": "execute_result",
          "data": {
            "text/plain": [
              "1200"
            ]
          },
          "metadata": {
            "tags": []
          },
          "execution_count": 141
        }
      ]
    }
  ]
}