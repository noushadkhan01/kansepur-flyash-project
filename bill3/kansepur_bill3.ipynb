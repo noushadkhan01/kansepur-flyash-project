{
  "nbformat": 4,
  "nbformat_minor": 0,
  "metadata": {
    "colab": {
      "name": "1-14-jan-bill2.ipynb",
      "version": "0.3.2",
      "provenance": [],
      "collapsed_sections": [],
      "include_colab_link": true
    },
    "kernelspec": {
      "name": "python3",
      "display_name": "Python 3"
    }
  },
  "cells": [
    {
      "cell_type": "markdown",
      "metadata": {
        "id": "view-in-github",
        "colab_type": "text"
      },
      "source": [
        "<a href=\"https://colab.research.google.com/github/noushadkhan01/kansepur-flyash-project/blob/master/bill3/kansepur_bill3.ipynb\" target=\"_parent\"><img src=\"https://colab.research.google.com/assets/colab-badge.svg\" alt=\"Open In Colab\"/></a>"
      ]
    },
    {
      "metadata": {
        "id": "so-LEjYwlBUq",
        "colab_type": "code",
        "outputId": "1c35025a-5624-4dbe-d939-d20b6b595558",
        "colab": {
          "base_uri": "https://localhost:8080/",
          "height": 136
        }
      },
      "cell_type": "code",
      "source": [
        "!git clone https://github.com/noushadkhan01/kansepur-flyash-project.git"
      ],
      "execution_count": 0,
      "outputs": [
        {
          "output_type": "stream",
          "text": [
            "Cloning into 'kansepur-flyash-project'...\n",
            "remote: Enumerating objects: 61, done.\u001b[K\n",
            "remote: Counting objects:   1% (1/61)   \u001b[K\rremote: Counting objects:   3% (2/61)   \u001b[K\rremote: Counting objects:   4% (3/61)   \u001b[K\rremote: Counting objects:   6% (4/61)   \u001b[K\rremote: Counting objects:   8% (5/61)   \u001b[K\rremote: Counting objects:   9% (6/61)   \u001b[K\rremote: Counting objects:  11% (7/61)   \u001b[K\rremote: Counting objects:  13% (8/61)   \u001b[K\rremote: Counting objects:  14% (9/61)   \u001b[K\rremote: Counting objects:  16% (10/61)   \u001b[K\rremote: Counting objects:  18% (11/61)   \u001b[K\rremote: Counting objects:  19% (12/61)   \u001b[K\rremote: Counting objects:  21% (13/61)   \u001b[K\rremote: Counting objects:  22% (14/61)   \u001b[K\rremote: Counting objects:  24% (15/61)   \u001b[K\rremote: Counting objects:  26% (16/61)   \u001b[K\rremote: Counting objects:  27% (17/61)   \u001b[K\rremote: Counting objects:  29% (18/61)   \u001b[K\rremote: Counting objects:  31% (19/61)   \u001b[K\rremote: Counting objects:  32% (20/61)   \u001b[K\rremote: Counting objects:  34% (21/61)   \u001b[K\rremote: Counting objects:  36% (22/61)   \u001b[K\rremote: Counting objects:  37% (23/61)   \u001b[K\rremote: Counting objects:  39% (24/61)   \u001b[K\rremote: Counting objects:  40% (25/61)   \u001b[K\rremote: Counting objects:  42% (26/61)   \u001b[K\rremote: Counting objects:  44% (27/61)   \u001b[K\rremote: Counting objects:  45% (28/61)   \u001b[K\rremote: Counting objects:  47% (29/61)   \u001b[K\rremote: Counting objects:  49% (30/61)   \u001b[K\rremote: Counting objects:  50% (31/61)   \u001b[K\rremote: Counting objects:  52% (32/61)   \u001b[K\rremote: Counting objects:  54% (33/61)   \u001b[K\rremote: Counting objects:  55% (34/61)   \u001b[K\rremote: Counting objects:  57% (35/61)   \u001b[K\rremote: Counting objects:  59% (36/61)   \u001b[K\rremote: Counting objects:  60% (37/61)   \u001b[K\rremote: Counting objects:  62% (38/61)   \u001b[K\rremote: Counting objects:  63% (39/61)   \u001b[K\rremote: Counting objects:  65% (40/61)   \u001b[K\rremote: Counting objects:  67% (41/61)   \u001b[K\rremote: Counting objects:  68% (42/61)   \u001b[K\rremote: Counting objects:  70% (43/61)   \u001b[K\rremote: Counting objects:  72% (44/61)   \u001b[K\rremote: Counting objects:  73% (45/61)   \u001b[K\rremote: Counting objects:  75% (46/61)   \u001b[K\rremote: Counting objects:  77% (47/61)   \u001b[K\rremote: Counting objects:  78% (48/61)   \u001b[K\rremote: Counting objects:  80% (49/61)   \u001b[K\rremote: Counting objects:  81% (50/61)   \u001b[K\rremote: Counting objects:  83% (51/61)   \u001b[K\rremote: Counting objects:  85% (52/61)   \u001b[K\rremote: Counting objects:  86% (53/61)   \u001b[K\rremote: Counting objects:  88% (54/61)   \u001b[K\rremote: Counting objects:  90% (55/61)   \u001b[K\rremote: Counting objects:  91% (56/61)   \u001b[K\rremote: Counting objects:  93% (57/61)   \u001b[K\rremote: Counting objects:  95% (58/61)   \u001b[K\rremote: Counting objects:  96% (59/61)   \u001b[K\rremote: Counting objects:  98% (60/61)   \u001b[K\rremote: Counting objects: 100% (61/61)   \u001b[K\rremote: Counting objects: 100% (61/61), done.\u001b[K\n",
            "remote: Compressing objects:   1% (1/60)   \u001b[K\rremote: Compressing objects:   3% (2/60)   \u001b[K\rremote: Compressing objects:   5% (3/60)   \u001b[K\rremote: Compressing objects:   6% (4/60)   \u001b[K\rremote: Compressing objects:   8% (5/60)   \u001b[K\rremote: Compressing objects:  10% (6/60)   \u001b[K\rremote: Compressing objects:  11% (7/60)   \u001b[K\rremote: Compressing objects:  13% (8/60)   \u001b[K\rremote: Compressing objects:  15% (9/60)   \u001b[K\rremote: Compressing objects:  16% (10/60)   \u001b[K\rremote: Compressing objects:  18% (11/60)   \u001b[K\rremote: Compressing objects:  20% (12/60)   \u001b[K\rremote: Compressing objects:  21% (13/60)   \u001b[K\rremote: Compressing objects:  23% (14/60)   \u001b[K\rremote: Compressing objects:  25% (15/60)   \u001b[K\rremote: Compressing objects:  26% (16/60)   \u001b[K\rremote: Compressing objects:  28% (17/60)   \u001b[K\rremote: Compressing objects:  30% (18/60)   \u001b[K\rremote: Compressing objects:  31% (19/60)   \u001b[K\rremote: Compressing objects:  33% (20/60)   \u001b[K\rremote: Compressing objects:  35% (21/60)   \u001b[K\rremote: Compressing objects:  36% (22/60)   \u001b[K\rremote: Compressing objects:  38% (23/60)   \u001b[K\rremote: Compressing objects:  40% (24/60)   \u001b[K\rremote: Compressing objects:  41% (25/60)   \u001b[K\rremote: Compressing objects:  43% (26/60)   \u001b[K\rremote: Compressing objects:  45% (27/60)   \u001b[K\rremote: Compressing objects:  46% (28/60)   \u001b[K\rremote: Compressing objects:  48% (29/60)   \u001b[K\rremote: Compressing objects:  50% (30/60)   \u001b[K\rremote: Compressing objects:  51% (31/60)   \u001b[K\rremote: Compressing objects:  53% (32/60)   \u001b[K\rremote: Compressing objects:  55% (33/60)   \u001b[K\rremote: Compressing objects:  56% (34/60)   \u001b[K\rremote: Compressing objects:  58% (35/60)   \u001b[K\rremote: Compressing objects:  60% (36/60)   \u001b[K\rremote: Compressing objects:  61% (37/60)   \u001b[K\rremote: Compressing objects:  63% (38/60)   \u001b[K\rremote: Compressing objects:  65% (39/60)   \u001b[K\rremote: Compressing objects:  66% (40/60)   \u001b[K\rremote: Compressing objects:  68% (41/60)   \u001b[K\rremote: Compressing objects:  70% (42/60)   \u001b[K\rremote: Compressing objects:  71% (43/60)   \u001b[K\rremote: Compressing objects:  73% (44/60)   \u001b[K\rremote: Compressing objects:  75% (45/60)   \u001b[K\rremote: Compressing objects:  76% (46/60)   \u001b[K\rremote: Compressing objects:  78% (47/60)   \u001b[K\rremote: Compressing objects:  80% (48/60)   \u001b[K\rremote: Compressing objects:  81% (49/60)   \u001b[K\rremote: Compressing objects:  83% (50/60)   \u001b[K\rremote: Compressing objects:  85% (51/60)   \u001b[K\rremote: Compressing objects:  86% (52/60)   \u001b[K\rremote: Compressing objects:  88% (53/60)   \u001b[K\rremote: Compressing objects:  90% (54/60)   \u001b[K\rremote: Compressing objects:  91% (55/60)   \u001b[K\rremote: Compressing objects:  93% (56/60)   \u001b[K\rremote: Compressing objects:  95% (57/60)   \u001b[K\rremote: Compressing objects:  96% (58/60)   \u001b[K\rremote: Compressing objects:  98% (59/60)   \u001b[K\rremote: Compressing objects: 100% (60/60)   \u001b[K\rremote: Compressing objects: 100% (60/60), done.\u001b[K\n",
            "Receiving objects:   0% (1/161)   \rReceiving objects:   1% (2/161)   \rReceiving objects:   2% (4/161)   \rReceiving objects:   3% (5/161)   \rReceiving objects:   4% (7/161)   \rReceiving objects:   5% (9/161)   \rReceiving objects:   6% (10/161)   \rReceiving objects:   7% (12/161)   \rReceiving objects:   8% (13/161)   \rReceiving objects:   9% (15/161)   \rReceiving objects:  10% (17/161)   \rReceiving objects:  11% (18/161)   \rReceiving objects:  12% (20/161)   \rReceiving objects:  13% (21/161)   \rReceiving objects:  14% (23/161)   \rReceiving objects:  15% (25/161)   \rReceiving objects:  16% (26/161)   \rReceiving objects:  17% (28/161)   \rReceiving objects:  18% (29/161)   \rReceiving objects:  19% (31/161)   \rReceiving objects:  20% (33/161)   \rReceiving objects:  21% (34/161)   \rReceiving objects:  22% (36/161)   \rReceiving objects:  23% (38/161)   \rReceiving objects:  24% (39/161)   \rReceiving objects:  25% (41/161)   \rReceiving objects:  26% (42/161)   \rReceiving objects:  27% (44/161)   \rReceiving objects:  28% (46/161)   \rReceiving objects:  29% (47/161)   \rReceiving objects:  30% (49/161)   \rReceiving objects:  31% (50/161)   \rReceiving objects:  32% (52/161)   \rReceiving objects:  33% (54/161)   \rReceiving objects:  34% (55/161)   \rReceiving objects:  35% (57/161)   \rReceiving objects:  36% (58/161)   \rReceiving objects:  37% (60/161)   \rReceiving objects:  38% (62/161)   \rReceiving objects:  39% (63/161)   \rReceiving objects:  40% (65/161)   \rReceiving objects:  41% (67/161)   \rReceiving objects:  42% (68/161)   \rReceiving objects:  43% (70/161)   \rReceiving objects:  44% (71/161)   \rReceiving objects:  45% (73/161)   \rReceiving objects:  46% (75/161)   \rReceiving objects:  47% (76/161)   \rReceiving objects:  48% (78/161)   \rReceiving objects:  49% (79/161)   \rReceiving objects:  50% (81/161)   \rReceiving objects:  51% (83/161)   \rReceiving objects:  52% (84/161)   \rReceiving objects:  53% (86/161)   \rReceiving objects:  54% (87/161)   \rReceiving objects:  55% (89/161)   \rReceiving objects:  56% (91/161)   \rReceiving objects:  57% (92/161)   \rReceiving objects:  58% (94/161)   \rReceiving objects:  59% (95/161)   \rReceiving objects:  60% (97/161)   \rReceiving objects:  61% (99/161)   \rReceiving objects:  62% (100/161)   \rReceiving objects:  63% (102/161)   \rReceiving objects:  64% (104/161)   \rReceiving objects:  65% (105/161)   \rReceiving objects:  66% (107/161)   \rReceiving objects:  67% (108/161)   \rReceiving objects:  68% (110/161)   \rReceiving objects:  69% (112/161)   \rReceiving objects:  70% (113/161)   \rReceiving objects:  71% (115/161)   \rReceiving objects:  72% (116/161)   \rReceiving objects:  73% (118/161)   \rReceiving objects:  74% (120/161)   \rReceiving objects:  75% (121/161)   \rReceiving objects:  76% (123/161)   \rReceiving objects:  77% (124/161)   \rReceiving objects:  78% (126/161)   \rReceiving objects:  79% (128/161)   \rReceiving objects:  80% (129/161)   \rReceiving objects:  81% (131/161)   \rReceiving objects:  82% (133/161)   \rReceiving objects:  83% (134/161)   \rReceiving objects:  84% (136/161)   \rReceiving objects:  85% (137/161)   \rReceiving objects:  86% (139/161)   \rReceiving objects:  87% (141/161)   \rReceiving objects:  88% (142/161)   \rReceiving objects:  89% (144/161)   \rReceiving objects:  90% (145/161)   \rReceiving objects:  91% (147/161)   \rReceiving objects:  92% (149/161)   \rReceiving objects:  93% (150/161)   \rReceiving objects:  94% (152/161)   \rReceiving objects:  95% (153/161)   \rReceiving objects:  96% (155/161)   \rremote: Total 161 (delta 25), reused 0 (delta 0), pack-reused 100\u001b[K\n",
            "Receiving objects:  97% (157/161)   \rReceiving objects:  98% (158/161)   \rReceiving objects:  99% (160/161)   \rReceiving objects: 100% (161/161)   \rReceiving objects: 100% (161/161), 450.61 KiB | 7.91 MiB/s, done.\n",
            "Resolving deltas:   0% (0/66)   \rResolving deltas:  18% (12/66)   \rResolving deltas:  19% (13/66)   \rResolving deltas:  24% (16/66)   \rResolving deltas:  42% (28/66)   \rResolving deltas:  43% (29/66)   \rResolving deltas:  45% (30/66)   \rResolving deltas:  51% (34/66)   \rResolving deltas:  53% (35/66)   \rResolving deltas:  65% (43/66)   \rResolving deltas:  66% (44/66)   \rResolving deltas:  69% (46/66)   \rResolving deltas:  71% (47/66)   \rResolving deltas:  87% (58/66)   \rResolving deltas:  89% (59/66)   \rResolving deltas:  92% (61/66)   \rResolving deltas:  95% (63/66)   \rResolving deltas:  98% (65/66)   \rResolving deltas: 100% (66/66)   \rResolving deltas: 100% (66/66), done.\n"
          ],
          "name": "stdout"
        }
      ]
    },
    {
      "metadata": {
        "id": "g1NpP5jtlH5r",
        "colab_type": "code",
        "colab": {}
      },
      "cell_type": "code",
      "source": [
        "import pandas as pd"
      ],
      "execution_count": 0,
      "outputs": []
    },
    {
      "metadata": {
        "id": "vgRnsjiMlJvN",
        "colab_type": "code",
        "outputId": "218994bc-f297-4238-95fe-95ff898f1aed",
        "colab": {
          "base_uri": "https://localhost:8080/",
          "height": 34
        }
      },
      "cell_type": "code",
      "source": [
        "%cd ./kansepur-flyash-project/bill3/"
      ],
      "execution_count": 0,
      "outputs": [
        {
          "output_type": "stream",
          "text": [
            "/content/kansepur-flyash-project/bill3\n"
          ],
          "name": "stdout"
        }
      ]
    },
    {
      "metadata": {
        "id": "B6lL48hFlOrB",
        "colab_type": "code",
        "outputId": "6f89255d-2be9-43c6-88a2-3fc78f88530e",
        "colab": {
          "base_uri": "https://localhost:8080/",
          "height": 34
        }
      },
      "cell_type": "code",
      "source": [
        "!ls"
      ],
      "execution_count": 0,
      "outputs": [
        {
          "output_type": "stream",
          "text": [
            "kansepur_bill3.ipynb  kansepur_bill3.xlsx\n"
          ],
          "name": "stdout"
        }
      ]
    },
    {
      "metadata": {
        "id": "THAUXyC0lPYh",
        "colab_type": "code",
        "outputId": "5dddb8b1-f830-4bb6-fdea-399c318c989d",
        "colab": {
          "base_uri": "https://localhost:8080/",
          "height": 204
        }
      },
      "cell_type": "code",
      "source": [
        "df = pd.read_excel('kansepur_bill3.xlsx', 'Sheet1')\n",
        "df.head()"
      ],
      "execution_count": 0,
      "outputs": [
        {
          "output_type": "execute_result",
          "data": {
            "text/html": [
              "<div>\n",
              "<style scoped>\n",
              "    .dataframe tbody tr th:only-of-type {\n",
              "        vertical-align: middle;\n",
              "    }\n",
              "\n",
              "    .dataframe tbody tr th {\n",
              "        vertical-align: top;\n",
              "    }\n",
              "\n",
              "    .dataframe thead th {\n",
              "        text-align: right;\n",
              "    }\n",
              "</style>\n",
              "<table border=\"1\" class=\"dataframe\">\n",
              "  <thead>\n",
              "    <tr style=\"text-align: right;\">\n",
              "      <th></th>\n",
              "      <th>S.No.</th>\n",
              "      <th>Date</th>\n",
              "      <th>Counts</th>\n",
              "      <th>Name</th>\n",
              "      <th>Quantity</th>\n",
              "    </tr>\n",
              "  </thead>\n",
              "  <tbody>\n",
              "    <tr>\n",
              "      <th>0</th>\n",
              "      <td>1.0</td>\n",
              "      <td>2019-01-01</td>\n",
              "      <td>1.0</td>\n",
              "      <td>toheed</td>\n",
              "      <td>486</td>\n",
              "    </tr>\n",
              "    <tr>\n",
              "      <th>1</th>\n",
              "      <td>2.0</td>\n",
              "      <td>NaT</td>\n",
              "      <td>2.0</td>\n",
              "      <td>isran</td>\n",
              "      <td>470</td>\n",
              "    </tr>\n",
              "    <tr>\n",
              "      <th>2</th>\n",
              "      <td>3.0</td>\n",
              "      <td>NaT</td>\n",
              "      <td>3.0</td>\n",
              "      <td>wajid</td>\n",
              "      <td>419</td>\n",
              "    </tr>\n",
              "    <tr>\n",
              "      <th>3</th>\n",
              "      <td>4.0</td>\n",
              "      <td>NaT</td>\n",
              "      <td>4.0</td>\n",
              "      <td>aarif</td>\n",
              "      <td>416</td>\n",
              "    </tr>\n",
              "    <tr>\n",
              "      <th>4</th>\n",
              "      <td>5.0</td>\n",
              "      <td>NaT</td>\n",
              "      <td>5.0</td>\n",
              "      <td>farookh</td>\n",
              "      <td>420</td>\n",
              "    </tr>\n",
              "  </tbody>\n",
              "</table>\n",
              "</div>"
            ],
            "text/plain": [
              "       S.No.       Date                Counts     Name  Quantity\n",
              "0        1.0 2019-01-01                   1.0   toheed       486\n",
              "1        2.0        NaT                   2.0    isran       470\n",
              "2        3.0        NaT                   3.0    wajid       419\n",
              "3        4.0        NaT                   4.0    aarif       416\n",
              "4        5.0        NaT                   5.0  farookh       420"
            ]
          },
          "metadata": {
            "tags": []
          },
          "execution_count": 9
        }
      ]
    },
    {
      "metadata": {
        "id": "e1gUo92O-r5c",
        "colab_type": "code",
        "outputId": "2a6e935f-af7e-490d-c903-7ffcf8755e36",
        "colab": {
          "base_uri": "https://localhost:8080/",
          "height": 111
        }
      },
      "cell_type": "code",
      "source": [
        "df.tail(2)"
      ],
      "execution_count": 0,
      "outputs": [
        {
          "output_type": "execute_result",
          "data": {
            "text/html": [
              "<div>\n",
              "<style scoped>\n",
              "    .dataframe tbody tr th:only-of-type {\n",
              "        vertical-align: middle;\n",
              "    }\n",
              "\n",
              "    .dataframe tbody tr th {\n",
              "        vertical-align: top;\n",
              "    }\n",
              "\n",
              "    .dataframe thead th {\n",
              "        text-align: right;\n",
              "    }\n",
              "</style>\n",
              "<table border=\"1\" class=\"dataframe\">\n",
              "  <thead>\n",
              "    <tr style=\"text-align: right;\">\n",
              "      <th></th>\n",
              "      <th>S.No.</th>\n",
              "      <th>Date</th>\n",
              "      <th>Counts</th>\n",
              "      <th>Name</th>\n",
              "      <th>Quantity</th>\n",
              "    </tr>\n",
              "  </thead>\n",
              "  <tbody>\n",
              "    <tr>\n",
              "      <th>386</th>\n",
              "      <td>387.0</td>\n",
              "      <td>NaT</td>\n",
              "      <td>34.0</td>\n",
              "      <td>haseen</td>\n",
              "      <td>496</td>\n",
              "    </tr>\n",
              "    <tr>\n",
              "      <th>387</th>\n",
              "      <td>NaN</td>\n",
              "      <td>NaT</td>\n",
              "      <td>NaN</td>\n",
              "      <td>NaN</td>\n",
              "      <td>178428</td>\n",
              "    </tr>\n",
              "  </tbody>\n",
              "</table>\n",
              "</div>"
            ],
            "text/plain": [
              "         S.No. Date                Counts    Name  Quantity\n",
              "386      387.0  NaT                  34.0  haseen       496\n",
              "387        NaN  NaT                   NaN     NaN    178428"
            ]
          },
          "metadata": {
            "tags": []
          },
          "execution_count": 10
        }
      ]
    },
    {
      "metadata": {
        "id": "oUmdiUIj-xel",
        "colab_type": "code",
        "outputId": "7d48bc06-0d24-4f33-8cde-b8b9be4bb9fd",
        "colab": {
          "base_uri": "https://localhost:8080/",
          "height": 80
        }
      },
      "cell_type": "code",
      "source": [
        "df = df[:-1]\n",
        "df.tail(1)"
      ],
      "execution_count": 0,
      "outputs": [
        {
          "output_type": "execute_result",
          "data": {
            "text/html": [
              "<div>\n",
              "<style scoped>\n",
              "    .dataframe tbody tr th:only-of-type {\n",
              "        vertical-align: middle;\n",
              "    }\n",
              "\n",
              "    .dataframe tbody tr th {\n",
              "        vertical-align: top;\n",
              "    }\n",
              "\n",
              "    .dataframe thead th {\n",
              "        text-align: right;\n",
              "    }\n",
              "</style>\n",
              "<table border=\"1\" class=\"dataframe\">\n",
              "  <thead>\n",
              "    <tr style=\"text-align: right;\">\n",
              "      <th></th>\n",
              "      <th>S.No.</th>\n",
              "      <th>Date</th>\n",
              "      <th>Counts</th>\n",
              "      <th>Name</th>\n",
              "      <th>Quantity</th>\n",
              "    </tr>\n",
              "  </thead>\n",
              "  <tbody>\n",
              "    <tr>\n",
              "      <th>386</th>\n",
              "      <td>387.0</td>\n",
              "      <td>NaT</td>\n",
              "      <td>34.0</td>\n",
              "      <td>haseen</td>\n",
              "      <td>496</td>\n",
              "    </tr>\n",
              "  </tbody>\n",
              "</table>\n",
              "</div>"
            ],
            "text/plain": [
              "         S.No. Date                Counts    Name  Quantity\n",
              "386      387.0  NaT                  34.0  haseen       496"
            ]
          },
          "metadata": {
            "tags": []
          },
          "execution_count": 11
        }
      ]
    },
    {
      "metadata": {
        "id": "vYJmIHd8lWZY",
        "colab_type": "code",
        "outputId": "102f8833-f0a4-4435-ddd2-f9c36f1569fb",
        "colab": {
          "base_uri": "https://localhost:8080/",
          "height": 187
        }
      },
      "cell_type": "code",
      "source": [
        "df.info()"
      ],
      "execution_count": 0,
      "outputs": [
        {
          "output_type": "stream",
          "text": [
            "<class 'pandas.core.frame.DataFrame'>\n",
            "RangeIndex: 387 entries, 0 to 386\n",
            "Data columns (total 5 columns):\n",
            "    S.No.               387 non-null float64\n",
            "Date                    12 non-null datetime64[ns]\n",
            "              Counts    387 non-null float64\n",
            "Name                    387 non-null object\n",
            "Quantity                387 non-null int64\n",
            "dtypes: datetime64[ns](1), float64(2), int64(1), object(1)\n",
            "memory usage: 15.2+ KB\n"
          ],
          "name": "stdout"
        }
      ]
    },
    {
      "metadata": {
        "id": "vZ9H0uvuAxf5",
        "colab_type": "code",
        "outputId": "bebc995d-c1e6-4e25-83a9-b0f418a0c81b",
        "colab": {
          "base_uri": "https://localhost:8080/",
          "height": 238
        }
      },
      "cell_type": "code",
      "source": [
        "unique_dates = df.Date.unique()\n",
        "unique_dates = pd.Series(unique_dates).dropna()\n",
        "print(unique_dates)"
      ],
      "execution_count": 0,
      "outputs": [
        {
          "output_type": "stream",
          "text": [
            "0    2019-01-01\n",
            "2    2019-01-04\n",
            "3    2019-01-05\n",
            "4    2019-01-06\n",
            "5    2019-01-07\n",
            "6    2019-01-08\n",
            "7    2019-01-09\n",
            "8    2019-01-10\n",
            "9    2019-01-11\n",
            "10   2019-01-12\n",
            "11   2019-01-13\n",
            "12   2019-01-14\n",
            "dtype: datetime64[ns]\n"
          ],
          "name": "stdout"
        }
      ]
    },
    {
      "metadata": {
        "id": "yOdejLAFA7j1",
        "colab_type": "code",
        "outputId": "03203290-9de0-49ac-a863-56b7e92c13e1",
        "colab": {
          "base_uri": "https://localhost:8080/",
          "height": 34
        }
      },
      "cell_type": "code",
      "source": [
        "df.Date.nunique()"
      ],
      "execution_count": 0,
      "outputs": [
        {
          "output_type": "execute_result",
          "data": {
            "text/plain": [
              "12"
            ]
          },
          "metadata": {
            "tags": []
          },
          "execution_count": 14
        }
      ]
    },
    {
      "metadata": {
        "id": "TTiF585xBBNC",
        "colab_type": "code",
        "outputId": "b0251ee6-49e6-4570-d2fb-67cc400bafb4",
        "colab": {
          "base_uri": "https://localhost:8080/",
          "height": 238
        }
      },
      "cell_type": "code",
      "source": [
        "df.Date.value_counts()"
      ],
      "execution_count": 0,
      "outputs": [
        {
          "output_type": "execute_result",
          "data": {
            "text/plain": [
              "2019-01-07    1\n",
              "2019-01-10    1\n",
              "2019-01-13    1\n",
              "2019-01-05    1\n",
              "2019-01-08    1\n",
              "2019-01-11    1\n",
              "2019-01-14    1\n",
              "2019-01-06    1\n",
              "2019-01-09    1\n",
              "2019-01-12    1\n",
              "2019-01-01    1\n",
              "2019-01-04    1\n",
              "Name: Date, dtype: int64"
            ]
          },
          "metadata": {
            "tags": []
          },
          "execution_count": 15
        }
      ]
    },
    {
      "metadata": {
        "id": "uXqNsOzRDDSf",
        "colab_type": "code",
        "colab": {}
      },
      "cell_type": "code",
      "source": [
        "import numpy as np"
      ],
      "execution_count": 0,
      "outputs": []
    },
    {
      "metadata": {
        "id": "BKMk-7t1Dq2J",
        "colab_type": "text"
      },
      "cell_type": "markdown",
      "source": [
        "### Fill Date"
      ]
    },
    {
      "metadata": {
        "id": "6Ze_xV9TAFkT",
        "colab_type": "code",
        "colab": {}
      },
      "cell_type": "code",
      "source": [
        "for n, i in enumerate(df.Date.values):\n",
        "  if not pd.isnull(i):\n",
        "    date = i\n",
        "  else:\n",
        "    df.iloc[n, 0] = date\n",
        "  "
      ],
      "execution_count": 0,
      "outputs": []
    },
    {
      "metadata": {
        "id": "fHoGR8F5DhjA",
        "colab_type": "code",
        "outputId": "7380e00e-123d-44b1-fedf-136dcefa5f98",
        "colab": {
          "base_uri": "https://localhost:8080/",
          "height": 111
        }
      },
      "cell_type": "code",
      "source": [
        "df.head(2)"
      ],
      "execution_count": 0,
      "outputs": [
        {
          "output_type": "execute_result",
          "data": {
            "text/html": [
              "<div>\n",
              "<style scoped>\n",
              "    .dataframe tbody tr th:only-of-type {\n",
              "        vertical-align: middle;\n",
              "    }\n",
              "\n",
              "    .dataframe tbody tr th {\n",
              "        vertical-align: top;\n",
              "    }\n",
              "\n",
              "    .dataframe thead th {\n",
              "        text-align: right;\n",
              "    }\n",
              "</style>\n",
              "<table border=\"1\" class=\"dataframe\">\n",
              "  <thead>\n",
              "    <tr style=\"text-align: right;\">\n",
              "      <th></th>\n",
              "      <th>S.No.</th>\n",
              "      <th>Date</th>\n",
              "      <th>Counts</th>\n",
              "      <th>Name</th>\n",
              "      <th>Quantity</th>\n",
              "    </tr>\n",
              "  </thead>\n",
              "  <tbody>\n",
              "    <tr>\n",
              "      <th>0</th>\n",
              "      <td>1</td>\n",
              "      <td>2019-01-01</td>\n",
              "      <td>1.0</td>\n",
              "      <td>toheed</td>\n",
              "      <td>486</td>\n",
              "    </tr>\n",
              "    <tr>\n",
              "      <th>1</th>\n",
              "      <td>2019-01-01T00:00:00.000000000</td>\n",
              "      <td>NaT</td>\n",
              "      <td>2.0</td>\n",
              "      <td>isran</td>\n",
              "      <td>470</td>\n",
              "    </tr>\n",
              "  </tbody>\n",
              "</table>\n",
              "</div>"
            ],
            "text/plain": [
              "                           S.No.       Date                Counts    Name  \\\n",
              "0                              1 2019-01-01                   1.0  toheed   \n",
              "1  2019-01-01T00:00:00.000000000        NaT                   2.0   isran   \n",
              "\n",
              "   Quantity  \n",
              "0       486  \n",
              "1       470  "
            ]
          },
          "metadata": {
            "tags": []
          },
          "execution_count": 18
        }
      ]
    },
    {
      "metadata": {
        "id": "jsPDiLK9mCMB",
        "colab_type": "code",
        "outputId": "d38c11d1-f022-4107-cb3c-4f6c789edd07",
        "colab": {
          "base_uri": "https://localhost:8080/",
          "height": 85
        }
      },
      "cell_type": "code",
      "source": [
        "df.Name.unique()"
      ],
      "execution_count": 0,
      "outputs": [
        {
          "output_type": "execute_result",
          "data": {
            "text/plain": [
              "array(['toheed', 'isran', 'wajid', 'aarif', 'farookh', 'shokeen',\n",
              "       'gulfam', 'shabir', 'hasan', 'jabir', 'rafakat', 'safi',\n",
              "       'mustakim', 'intazar', 'mehmood', 'rasid', 'haseen', 'aashu',\n",
              "       'kayum'], dtype=object)"
            ]
          },
          "metadata": {
            "tags": []
          },
          "execution_count": 19
        }
      ]
    },
    {
      "metadata": {
        "id": "cJArT99yo39E",
        "colab_type": "code",
        "outputId": "dbce488b-ba8c-4df1-c25e-2d305ffedef6",
        "colab": {
          "base_uri": "https://localhost:8080/",
          "height": 34
        }
      },
      "cell_type": "code",
      "source": [
        "sum(df.Quantity)"
      ],
      "execution_count": 0,
      "outputs": [
        {
          "output_type": "execute_result",
          "data": {
            "text/plain": [
              "178428"
            ]
          },
          "metadata": {
            "tags": []
          },
          "execution_count": 20
        }
      ]
    },
    {
      "metadata": {
        "id": "KDfUKDebnJUR",
        "colab_type": "code",
        "outputId": "ea45e308-826c-4ac4-cd04-7030a17c139d",
        "colab": {
          "base_uri": "https://localhost:8080/",
          "height": 357
        }
      },
      "cell_type": "code",
      "source": [
        "quantity_per_name = df.Name.value_counts()\n",
        "quantity_per_name"
      ],
      "execution_count": 0,
      "outputs": [
        {
          "output_type": "execute_result",
          "data": {
            "text/plain": [
              "mehmood     30\n",
              "isran       30\n",
              "farookh     30\n",
              "hasan       27\n",
              "jabir       27\n",
              "mustakim    26\n",
              "rafakat     25\n",
              "wajid       24\n",
              "shabir      23\n",
              "toheed      22\n",
              "aarif       20\n",
              "intazar     19\n",
              "shokeen     18\n",
              "rasid       18\n",
              "gulfam      16\n",
              "haseen      15\n",
              "aashu       14\n",
              "kayum        2\n",
              "safi         1\n",
              "Name: Name, dtype: int64"
            ]
          },
          "metadata": {
            "tags": []
          },
          "execution_count": 21
        }
      ]
    },
    {
      "metadata": {
        "id": "LiyQphzHEraa",
        "colab_type": "text"
      },
      "cell_type": "markdown",
      "source": [
        "### Counts per Date"
      ]
    },
    {
      "metadata": {
        "id": "bfNp_BNaIxFr",
        "colab_type": "code",
        "outputId": "7bc28761-6c64-418e-de74-cc4c12518041",
        "colab": {
          "base_uri": "https://localhost:8080/",
          "height": 119
        }
      },
      "cell_type": "code",
      "source": [
        "df.isnull().sum()"
      ],
      "execution_count": 0,
      "outputs": [
        {
          "output_type": "execute_result",
          "data": {
            "text/plain": [
              "    S.No.                 0\n",
              "Date                    375\n",
              "              Counts      0\n",
              "Name                      0\n",
              "Quantity                  0\n",
              "dtype: int64"
            ]
          },
          "metadata": {
            "tags": []
          },
          "execution_count": 22
        }
      ]
    },
    {
      "metadata": {
        "id": "vegaPxckns74",
        "colab_type": "text"
      },
      "cell_type": "markdown",
      "source": [
        "## unique feets per name"
      ]
    },
    {
      "metadata": {
        "id": "-ITvOwaBwJ1t",
        "colab_type": "code",
        "outputId": "d3a7f710-7767-4255-f657-89472e653109",
        "colab": {
          "base_uri": "https://localhost:8080/",
          "height": 34
        }
      },
      "cell_type": "code",
      "source": [
        "group = df.groupby(df.Name)\n",
        "group"
      ],
      "execution_count": 0,
      "outputs": [
        {
          "output_type": "execute_result",
          "data": {
            "text/plain": [
              "<pandas.core.groupby.DataFrameGroupBy object at 0x7f522da6b2e8>"
            ]
          },
          "metadata": {
            "tags": []
          },
          "execution_count": 23
        }
      ]
    },
    {
      "metadata": {
        "id": "ndW_Qg-IwSkJ",
        "colab_type": "code",
        "outputId": "090e9e2c-55ce-4ce6-94ec-ce19b2702843",
        "colab": {
          "base_uri": "https://localhost:8080/",
          "height": 663
        }
      },
      "cell_type": "code",
      "source": [
        "for i, j in group:\n",
        "  print(i, j.Quantity.unique(), '\\n')"
      ],
      "execution_count": 0,
      "outputs": [
        {
          "output_type": "stream",
          "text": [
            "aarif [416] \n",
            "\n",
            "aashu [430] \n",
            "\n",
            "farookh [420] \n",
            "\n",
            "gulfam [500] \n",
            "\n",
            "hasan [538 508] \n",
            "\n",
            "haseen [496] \n",
            "\n",
            "intazar [517] \n",
            "\n",
            "isran [470] \n",
            "\n",
            "jabir [419] \n",
            "\n",
            "kayum [450] \n",
            "\n",
            "mehmood [419 500 538 517 486 453 470 420 405] \n",
            "\n",
            "mustakim [405] \n",
            "\n",
            "rafakat [538] \n",
            "\n",
            "rasid [410] \n",
            "\n",
            "safi [368] \n",
            "\n",
            "shabir [470] \n",
            "\n",
            "shokeen [453] \n",
            "\n",
            "toheed [486] \n",
            "\n",
            "wajid [419] \n",
            "\n"
          ],
          "name": "stdout"
        }
      ]
    },
    {
      "metadata": {
        "id": "0y2uPtUlJ6jo",
        "colab_type": "text"
      },
      "cell_type": "markdown",
      "source": [
        "# Diesel"
      ]
    },
    {
      "metadata": {
        "id": "O5znZR4bJ8Ri",
        "colab_type": "code",
        "outputId": "23330a35-93a9-40c5-ba7a-5b32d454eebc",
        "colab": {
          "base_uri": "https://localhost:8080/",
          "height": 238
        }
      },
      "cell_type": "code",
      "source": [
        "diesel = pd.read_excel('kansepur_bill3.xlsx', 'Diesel')\n",
        "diesel.head()"
      ],
      "execution_count": 0,
      "outputs": [
        {
          "output_type": "execute_result",
          "data": {
            "text/html": [
              "<div>\n",
              "<style scoped>\n",
              "    .dataframe tbody tr th:only-of-type {\n",
              "        vertical-align: middle;\n",
              "    }\n",
              "\n",
              "    .dataframe tbody tr th {\n",
              "        vertical-align: top;\n",
              "    }\n",
              "\n",
              "    .dataframe thead th {\n",
              "        text-align: right;\n",
              "    }\n",
              "</style>\n",
              "<table border=\"1\" class=\"dataframe\">\n",
              "  <thead>\n",
              "    <tr style=\"text-align: right;\">\n",
              "      <th></th>\n",
              "      <th>Name</th>\n",
              "      <th>2019-01-01 00:00:00</th>\n",
              "      <th>2019-01-04 00:00:00</th>\n",
              "      <th>2019-01-05 00:00:00</th>\n",
              "      <th>2019-01-06 00:00:00</th>\n",
              "      <th>2019-01-07 00:00:00</th>\n",
              "      <th>2019-01-08 00:00:00</th>\n",
              "      <th>2019-01-09 00:00:00</th>\n",
              "      <th>2019-01-10 00:00:00</th>\n",
              "      <th>2019-01-11 00:00:00</th>\n",
              "      <th>2019-01-12 00:00:00</th>\n",
              "      <th>2019-01-13 00:00:00</th>\n",
              "      <th>2019-01-14 00:00:00</th>\n",
              "      <th>Total Diesel</th>\n",
              "      <th>Cash</th>\n",
              "    </tr>\n",
              "  </thead>\n",
              "  <tbody>\n",
              "    <tr>\n",
              "      <th>0</th>\n",
              "      <td>aarif</td>\n",
              "      <td>1500.0</td>\n",
              "      <td>0.0</td>\n",
              "      <td>0.0</td>\n",
              "      <td>0.0</td>\n",
              "      <td>0.0</td>\n",
              "      <td>2000.0</td>\n",
              "      <td>1500.0</td>\n",
              "      <td>2000.0</td>\n",
              "      <td>2000.0</td>\n",
              "      <td>2000.0</td>\n",
              "      <td>2000.0</td>\n",
              "      <td>0</td>\n",
              "      <td>13000</td>\n",
              "      <td>NaN</td>\n",
              "    </tr>\n",
              "    <tr>\n",
              "      <th>1</th>\n",
              "      <td>aashu</td>\n",
              "      <td>0.0</td>\n",
              "      <td>0.0</td>\n",
              "      <td>0.0</td>\n",
              "      <td>0.0</td>\n",
              "      <td>0.0</td>\n",
              "      <td>0.0</td>\n",
              "      <td>2000.0</td>\n",
              "      <td>2000.0</td>\n",
              "      <td>2000.0</td>\n",
              "      <td>0.0</td>\n",
              "      <td>500.0</td>\n",
              "      <td>2000</td>\n",
              "      <td>8500</td>\n",
              "      <td>NaN</td>\n",
              "    </tr>\n",
              "    <tr>\n",
              "      <th>2</th>\n",
              "      <td>farookh</td>\n",
              "      <td>2000.0</td>\n",
              "      <td>0.0</td>\n",
              "      <td>2000.0</td>\n",
              "      <td>1500.0</td>\n",
              "      <td>1500.0</td>\n",
              "      <td>1500.0</td>\n",
              "      <td>1500.0</td>\n",
              "      <td>1500.0</td>\n",
              "      <td>1500.0</td>\n",
              "      <td>0.0</td>\n",
              "      <td>2000.0</td>\n",
              "      <td>2000</td>\n",
              "      <td>17000</td>\n",
              "      <td>NaN</td>\n",
              "    </tr>\n",
              "    <tr>\n",
              "      <th>3</th>\n",
              "      <td>gulfam</td>\n",
              "      <td>2000.0</td>\n",
              "      <td>2000.0</td>\n",
              "      <td>2000.0</td>\n",
              "      <td>2000.0</td>\n",
              "      <td>0.0</td>\n",
              "      <td>2000.0</td>\n",
              "      <td>2500.0</td>\n",
              "      <td>2000.0</td>\n",
              "      <td>0.0</td>\n",
              "      <td>2000.0</td>\n",
              "      <td>2000.0</td>\n",
              "      <td>2000</td>\n",
              "      <td>20500</td>\n",
              "      <td>NaN</td>\n",
              "    </tr>\n",
              "    <tr>\n",
              "      <th>4</th>\n",
              "      <td>hasan</td>\n",
              "      <td>2000.0</td>\n",
              "      <td>0.0</td>\n",
              "      <td>2000.0</td>\n",
              "      <td>2000.0</td>\n",
              "      <td>2000.0</td>\n",
              "      <td>2000.0</td>\n",
              "      <td>1500.0</td>\n",
              "      <td>2000.0</td>\n",
              "      <td>1910.0</td>\n",
              "      <td>0.0</td>\n",
              "      <td>2000.0</td>\n",
              "      <td>2000</td>\n",
              "      <td>19410</td>\n",
              "      <td>600.0</td>\n",
              "    </tr>\n",
              "  </tbody>\n",
              "</table>\n",
              "</div>"
            ],
            "text/plain": [
              "      Name  2019-01-01 00:00:00  2019-01-04 00:00:00  2019-01-05 00:00:00  \\\n",
              "0    aarif               1500.0                  0.0                  0.0   \n",
              "1    aashu                  0.0                  0.0                  0.0   \n",
              "2  farookh               2000.0                  0.0               2000.0   \n",
              "3   gulfam               2000.0               2000.0               2000.0   \n",
              "4    hasan               2000.0                  0.0               2000.0   \n",
              "\n",
              "   2019-01-06 00:00:00  2019-01-07 00:00:00  2019-01-08 00:00:00  \\\n",
              "0                  0.0                  0.0               2000.0   \n",
              "1                  0.0                  0.0                  0.0   \n",
              "2               1500.0               1500.0               1500.0   \n",
              "3               2000.0                  0.0               2000.0   \n",
              "4               2000.0               2000.0               2000.0   \n",
              "\n",
              "   2019-01-09 00:00:00  2019-01-10 00:00:00  2019-01-11 00:00:00  \\\n",
              "0               1500.0               2000.0               2000.0   \n",
              "1               2000.0               2000.0               2000.0   \n",
              "2               1500.0               1500.0               1500.0   \n",
              "3               2500.0               2000.0                  0.0   \n",
              "4               1500.0               2000.0               1910.0   \n",
              "\n",
              "   2019-01-12 00:00:00  2019-01-13 00:00:00 2019-01-14 00:00:00  Total Diesel  \\\n",
              "0               2000.0               2000.0                   0         13000   \n",
              "1                  0.0                500.0                2000          8500   \n",
              "2                  0.0               2000.0                2000         17000   \n",
              "3               2000.0               2000.0                2000         20500   \n",
              "4                  0.0               2000.0                2000         19410   \n",
              "\n",
              "    Cash  \n",
              "0    NaN  \n",
              "1    NaN  \n",
              "2    NaN  \n",
              "3    NaN  \n",
              "4  600.0  "
            ]
          },
          "metadata": {
            "tags": []
          },
          "execution_count": 25
        }
      ]
    },
    {
      "metadata": {
        "id": "aNms0DItMFZ8",
        "colab_type": "code",
        "outputId": "02628976-f8f0-4fbc-bda6-93ece3c212a9",
        "colab": {
          "base_uri": "https://localhost:8080/",
          "height": 34
        }
      },
      "cell_type": "code",
      "source": [
        "diesel.shape"
      ],
      "execution_count": 0,
      "outputs": [
        {
          "output_type": "execute_result",
          "data": {
            "text/plain": [
              "(23, 15)"
            ]
          },
          "metadata": {
            "tags": []
          },
          "execution_count": 26
        }
      ]
    },
    {
      "metadata": {
        "id": "hISVmorfLybA",
        "colab_type": "code",
        "outputId": "ccef7260-cb6c-43a6-e660-fa4263ff36ed",
        "colab": {
          "base_uri": "https://localhost:8080/",
          "height": 111
        }
      },
      "cell_type": "code",
      "source": [
        "df.head(2)"
      ],
      "execution_count": 0,
      "outputs": [
        {
          "output_type": "execute_result",
          "data": {
            "text/html": [
              "<div>\n",
              "<style scoped>\n",
              "    .dataframe tbody tr th:only-of-type {\n",
              "        vertical-align: middle;\n",
              "    }\n",
              "\n",
              "    .dataframe tbody tr th {\n",
              "        vertical-align: top;\n",
              "    }\n",
              "\n",
              "    .dataframe thead th {\n",
              "        text-align: right;\n",
              "    }\n",
              "</style>\n",
              "<table border=\"1\" class=\"dataframe\">\n",
              "  <thead>\n",
              "    <tr style=\"text-align: right;\">\n",
              "      <th></th>\n",
              "      <th>S.No.</th>\n",
              "      <th>Date</th>\n",
              "      <th>Counts</th>\n",
              "      <th>Name</th>\n",
              "      <th>Quantity</th>\n",
              "    </tr>\n",
              "  </thead>\n",
              "  <tbody>\n",
              "    <tr>\n",
              "      <th>0</th>\n",
              "      <td>1</td>\n",
              "      <td>2019-01-01</td>\n",
              "      <td>1.0</td>\n",
              "      <td>toheed</td>\n",
              "      <td>486</td>\n",
              "    </tr>\n",
              "    <tr>\n",
              "      <th>1</th>\n",
              "      <td>2019-01-01T00:00:00.000000000</td>\n",
              "      <td>NaT</td>\n",
              "      <td>2.0</td>\n",
              "      <td>isran</td>\n",
              "      <td>470</td>\n",
              "    </tr>\n",
              "  </tbody>\n",
              "</table>\n",
              "</div>"
            ],
            "text/plain": [
              "                           S.No.       Date                Counts    Name  \\\n",
              "0                              1 2019-01-01                   1.0  toheed   \n",
              "1  2019-01-01T00:00:00.000000000        NaT                   2.0   isran   \n",
              "\n",
              "   Quantity  \n",
              "0       486  \n",
              "1       470  "
            ]
          },
          "metadata": {
            "tags": []
          },
          "execution_count": 27
        }
      ]
    },
    {
      "metadata": {
        "id": "jsQ52FyRCZz9",
        "colab_type": "text"
      },
      "cell_type": "markdown",
      "source": [
        "# Total Quantity per name"
      ]
    },
    {
      "metadata": {
        "id": "aAtFy8oyD3dM",
        "colab_type": "code",
        "colab": {}
      },
      "cell_type": "code",
      "source": [
        "name_groups = df.groupby('Name')\n",
        "name_total_quantity = pd.DataFrame(columns = ['Name', 'Total Quantity'])\n",
        "for i, j in name_groups:\n",
        "  name_total_quantity = name_total_quantity.append({'Name':i, 'Total Quantity': sum(j.Quantity)}, ignore_index = True)\n",
        "  \n",
        "name_total_quantity.sort_values(by = ['Total Quantity'], ascending = False, inplace = True)"
      ],
      "execution_count": 0,
      "outputs": []
    },
    {
      "metadata": {
        "id": "4VCgjQr2INk1",
        "colab_type": "code",
        "outputId": "38e5c0bc-78a3-48f5-c151-bdcfa298966b",
        "colab": {
          "base_uri": "https://localhost:8080/",
          "height": 638
        }
      },
      "cell_type": "code",
      "source": [
        "name_total_quantity"
      ],
      "execution_count": 0,
      "outputs": [
        {
          "output_type": "execute_result",
          "data": {
            "text/html": [
              "<div>\n",
              "<style scoped>\n",
              "    .dataframe tbody tr th:only-of-type {\n",
              "        vertical-align: middle;\n",
              "    }\n",
              "\n",
              "    .dataframe tbody tr th {\n",
              "        vertical-align: top;\n",
              "    }\n",
              "\n",
              "    .dataframe thead th {\n",
              "        text-align: right;\n",
              "    }\n",
              "</style>\n",
              "<table border=\"1\" class=\"dataframe\">\n",
              "  <thead>\n",
              "    <tr style=\"text-align: right;\">\n",
              "      <th></th>\n",
              "      <th>Name</th>\n",
              "      <th>Total Quantity</th>\n",
              "    </tr>\n",
              "  </thead>\n",
              "  <tbody>\n",
              "    <tr>\n",
              "      <th>4</th>\n",
              "      <td>hasan</td>\n",
              "      <td>14496</td>\n",
              "    </tr>\n",
              "    <tr>\n",
              "      <th>7</th>\n",
              "      <td>isran</td>\n",
              "      <td>14100</td>\n",
              "    </tr>\n",
              "    <tr>\n",
              "      <th>10</th>\n",
              "      <td>mehmood</td>\n",
              "      <td>13976</td>\n",
              "    </tr>\n",
              "    <tr>\n",
              "      <th>12</th>\n",
              "      <td>rafakat</td>\n",
              "      <td>13450</td>\n",
              "    </tr>\n",
              "    <tr>\n",
              "      <th>2</th>\n",
              "      <td>farookh</td>\n",
              "      <td>12600</td>\n",
              "    </tr>\n",
              "    <tr>\n",
              "      <th>8</th>\n",
              "      <td>jabir</td>\n",
              "      <td>11313</td>\n",
              "    </tr>\n",
              "    <tr>\n",
              "      <th>15</th>\n",
              "      <td>shabir</td>\n",
              "      <td>10810</td>\n",
              "    </tr>\n",
              "    <tr>\n",
              "      <th>17</th>\n",
              "      <td>toheed</td>\n",
              "      <td>10692</td>\n",
              "    </tr>\n",
              "    <tr>\n",
              "      <th>11</th>\n",
              "      <td>mustakim</td>\n",
              "      <td>10530</td>\n",
              "    </tr>\n",
              "    <tr>\n",
              "      <th>18</th>\n",
              "      <td>wajid</td>\n",
              "      <td>10056</td>\n",
              "    </tr>\n",
              "    <tr>\n",
              "      <th>6</th>\n",
              "      <td>intazar</td>\n",
              "      <td>9823</td>\n",
              "    </tr>\n",
              "    <tr>\n",
              "      <th>0</th>\n",
              "      <td>aarif</td>\n",
              "      <td>8320</td>\n",
              "    </tr>\n",
              "    <tr>\n",
              "      <th>16</th>\n",
              "      <td>shokeen</td>\n",
              "      <td>8154</td>\n",
              "    </tr>\n",
              "    <tr>\n",
              "      <th>3</th>\n",
              "      <td>gulfam</td>\n",
              "      <td>8000</td>\n",
              "    </tr>\n",
              "    <tr>\n",
              "      <th>5</th>\n",
              "      <td>haseen</td>\n",
              "      <td>7440</td>\n",
              "    </tr>\n",
              "    <tr>\n",
              "      <th>13</th>\n",
              "      <td>rasid</td>\n",
              "      <td>7380</td>\n",
              "    </tr>\n",
              "    <tr>\n",
              "      <th>1</th>\n",
              "      <td>aashu</td>\n",
              "      <td>6020</td>\n",
              "    </tr>\n",
              "    <tr>\n",
              "      <th>9</th>\n",
              "      <td>kayum</td>\n",
              "      <td>900</td>\n",
              "    </tr>\n",
              "    <tr>\n",
              "      <th>14</th>\n",
              "      <td>safi</td>\n",
              "      <td>368</td>\n",
              "    </tr>\n",
              "  </tbody>\n",
              "</table>\n",
              "</div>"
            ],
            "text/plain": [
              "        Name Total Quantity\n",
              "4      hasan          14496\n",
              "7      isran          14100\n",
              "10   mehmood          13976\n",
              "12   rafakat          13450\n",
              "2    farookh          12600\n",
              "8      jabir          11313\n",
              "15    shabir          10810\n",
              "17    toheed          10692\n",
              "11  mustakim          10530\n",
              "18     wajid          10056\n",
              "6    intazar           9823\n",
              "0      aarif           8320\n",
              "16   shokeen           8154\n",
              "3     gulfam           8000\n",
              "5     haseen           7440\n",
              "13     rasid           7380\n",
              "1      aashu           6020\n",
              "9      kayum            900\n",
              "14      safi            368"
            ]
          },
          "metadata": {
            "tags": []
          },
          "execution_count": 31
        }
      ]
    },
    {
      "metadata": {
        "id": "INqOC5E_EZTz",
        "colab_type": "code",
        "outputId": "bf5751da-d26c-4817-b0a6-96f1d7deb050",
        "colab": {
          "base_uri": "https://localhost:8080/",
          "height": 114
        }
      },
      "cell_type": "code",
      "source": [
        "diesel.head(1)"
      ],
      "execution_count": 0,
      "outputs": [
        {
          "output_type": "execute_result",
          "data": {
            "text/html": [
              "<div>\n",
              "<style scoped>\n",
              "    .dataframe tbody tr th:only-of-type {\n",
              "        vertical-align: middle;\n",
              "    }\n",
              "\n",
              "    .dataframe tbody tr th {\n",
              "        vertical-align: top;\n",
              "    }\n",
              "\n",
              "    .dataframe thead th {\n",
              "        text-align: right;\n",
              "    }\n",
              "</style>\n",
              "<table border=\"1\" class=\"dataframe\">\n",
              "  <thead>\n",
              "    <tr style=\"text-align: right;\">\n",
              "      <th></th>\n",
              "      <th>Name</th>\n",
              "      <th>2019-01-01 00:00:00</th>\n",
              "      <th>2019-01-04 00:00:00</th>\n",
              "      <th>2019-01-05 00:00:00</th>\n",
              "      <th>2019-01-06 00:00:00</th>\n",
              "      <th>2019-01-07 00:00:00</th>\n",
              "      <th>2019-01-08 00:00:00</th>\n",
              "      <th>2019-01-09 00:00:00</th>\n",
              "      <th>2019-01-10 00:00:00</th>\n",
              "      <th>2019-01-11 00:00:00</th>\n",
              "      <th>2019-01-12 00:00:00</th>\n",
              "      <th>2019-01-13 00:00:00</th>\n",
              "      <th>2019-01-14 00:00:00</th>\n",
              "      <th>Total Diesel</th>\n",
              "      <th>Cash</th>\n",
              "    </tr>\n",
              "  </thead>\n",
              "  <tbody>\n",
              "    <tr>\n",
              "      <th>0</th>\n",
              "      <td>aarif</td>\n",
              "      <td>1500.0</td>\n",
              "      <td>0.0</td>\n",
              "      <td>0.0</td>\n",
              "      <td>0.0</td>\n",
              "      <td>0.0</td>\n",
              "      <td>2000.0</td>\n",
              "      <td>1500.0</td>\n",
              "      <td>2000.0</td>\n",
              "      <td>2000.0</td>\n",
              "      <td>2000.0</td>\n",
              "      <td>2000.0</td>\n",
              "      <td>0</td>\n",
              "      <td>13000</td>\n",
              "      <td>NaN</td>\n",
              "    </tr>\n",
              "  </tbody>\n",
              "</table>\n",
              "</div>"
            ],
            "text/plain": [
              "    Name  2019-01-01 00:00:00  2019-01-04 00:00:00  2019-01-05 00:00:00  \\\n",
              "0  aarif               1500.0                  0.0                  0.0   \n",
              "\n",
              "   2019-01-06 00:00:00  2019-01-07 00:00:00  2019-01-08 00:00:00  \\\n",
              "0                  0.0                  0.0               2000.0   \n",
              "\n",
              "   2019-01-09 00:00:00  2019-01-10 00:00:00  2019-01-11 00:00:00  \\\n",
              "0               1500.0               2000.0               2000.0   \n",
              "\n",
              "   2019-01-12 00:00:00  2019-01-13 00:00:00 2019-01-14 00:00:00  Total Diesel  \\\n",
              "0               2000.0               2000.0                   0         13000   \n",
              "\n",
              "   Cash  \n",
              "0   NaN  "
            ]
          },
          "metadata": {
            "tags": []
          },
          "execution_count": 32
        }
      ]
    },
    {
      "metadata": {
        "id": "2yjavOQTNghu",
        "colab_type": "code",
        "outputId": "609c63cf-ee6e-46c0-9150-ad01363a1e7f",
        "colab": {
          "base_uri": "https://localhost:8080/",
          "height": 762
        }
      },
      "cell_type": "code",
      "source": [
        "diesel = diesel[['Name', 'Total Diesel']]\n",
        "diesel.sort_values(by = 'Total Diesel', ascending = False, inplace = True)\n",
        "diesel"
      ],
      "execution_count": 0,
      "outputs": [
        {
          "output_type": "execute_result",
          "data": {
            "text/html": [
              "<div>\n",
              "<style scoped>\n",
              "    .dataframe tbody tr th:only-of-type {\n",
              "        vertical-align: middle;\n",
              "    }\n",
              "\n",
              "    .dataframe tbody tr th {\n",
              "        vertical-align: top;\n",
              "    }\n",
              "\n",
              "    .dataframe thead th {\n",
              "        text-align: right;\n",
              "    }\n",
              "</style>\n",
              "<table border=\"1\" class=\"dataframe\">\n",
              "  <thead>\n",
              "    <tr style=\"text-align: right;\">\n",
              "      <th></th>\n",
              "      <th>Name</th>\n",
              "      <th>Total Diesel</th>\n",
              "    </tr>\n",
              "  </thead>\n",
              "  <tbody>\n",
              "    <tr>\n",
              "      <th>22</th>\n",
              "      <td>NaN</td>\n",
              "      <td>365000</td>\n",
              "    </tr>\n",
              "    <tr>\n",
              "      <th>21</th>\n",
              "      <td>Zztotal</td>\n",
              "      <td>365000</td>\n",
              "    </tr>\n",
              "    <tr>\n",
              "      <th>11</th>\n",
              "      <td>poclain</td>\n",
              "      <td>48500</td>\n",
              "    </tr>\n",
              "    <tr>\n",
              "      <th>14</th>\n",
              "      <td>sabir jcb</td>\n",
              "      <td>47000</td>\n",
              "    </tr>\n",
              "    <tr>\n",
              "      <th>20</th>\n",
              "      <td>zzcash</td>\n",
              "      <td>28530</td>\n",
              "    </tr>\n",
              "    <tr>\n",
              "      <th>3</th>\n",
              "      <td>gulfam</td>\n",
              "      <td>20500</td>\n",
              "    </tr>\n",
              "    <tr>\n",
              "      <th>7</th>\n",
              "      <td>isran</td>\n",
              "      <td>20000</td>\n",
              "    </tr>\n",
              "    <tr>\n",
              "      <th>4</th>\n",
              "      <td>hasan</td>\n",
              "      <td>19410</td>\n",
              "    </tr>\n",
              "    <tr>\n",
              "      <th>8</th>\n",
              "      <td>jabir</td>\n",
              "      <td>18000</td>\n",
              "    </tr>\n",
              "    <tr>\n",
              "      <th>19</th>\n",
              "      <td>wajid</td>\n",
              "      <td>18000</td>\n",
              "    </tr>\n",
              "    <tr>\n",
              "      <th>2</th>\n",
              "      <td>farookh</td>\n",
              "      <td>17000</td>\n",
              "    </tr>\n",
              "    <tr>\n",
              "      <th>16</th>\n",
              "      <td>shabir</td>\n",
              "      <td>16000</td>\n",
              "    </tr>\n",
              "    <tr>\n",
              "      <th>18</th>\n",
              "      <td>toheed</td>\n",
              "      <td>15060</td>\n",
              "    </tr>\n",
              "    <tr>\n",
              "      <th>12</th>\n",
              "      <td>rafakat</td>\n",
              "      <td>14500</td>\n",
              "    </tr>\n",
              "    <tr>\n",
              "      <th>10</th>\n",
              "      <td>mustakim</td>\n",
              "      <td>13500</td>\n",
              "    </tr>\n",
              "    <tr>\n",
              "      <th>0</th>\n",
              "      <td>aarif</td>\n",
              "      <td>13000</td>\n",
              "    </tr>\n",
              "    <tr>\n",
              "      <th>17</th>\n",
              "      <td>shokeen</td>\n",
              "      <td>12000</td>\n",
              "    </tr>\n",
              "    <tr>\n",
              "      <th>13</th>\n",
              "      <td>rasid</td>\n",
              "      <td>11500</td>\n",
              "    </tr>\n",
              "    <tr>\n",
              "      <th>6</th>\n",
              "      <td>intazar</td>\n",
              "      <td>10500</td>\n",
              "    </tr>\n",
              "    <tr>\n",
              "      <th>5</th>\n",
              "      <td>haseen</td>\n",
              "      <td>9500</td>\n",
              "    </tr>\n",
              "    <tr>\n",
              "      <th>1</th>\n",
              "      <td>aashu</td>\n",
              "      <td>8500</td>\n",
              "    </tr>\n",
              "    <tr>\n",
              "      <th>15</th>\n",
              "      <td>safi</td>\n",
              "      <td>2000</td>\n",
              "    </tr>\n",
              "    <tr>\n",
              "      <th>9</th>\n",
              "      <td>kayum</td>\n",
              "      <td>2000</td>\n",
              "    </tr>\n",
              "  </tbody>\n",
              "</table>\n",
              "</div>"
            ],
            "text/plain": [
              "         Name  Total Diesel\n",
              "22        NaN        365000\n",
              "21    Zztotal        365000\n",
              "11    poclain         48500\n",
              "14  sabir jcb         47000\n",
              "20     zzcash         28530\n",
              "3      gulfam         20500\n",
              "7       isran         20000\n",
              "4       hasan         19410\n",
              "8       jabir         18000\n",
              "19      wajid         18000\n",
              "2     farookh         17000\n",
              "16     shabir         16000\n",
              "18     toheed         15060\n",
              "12    rafakat         14500\n",
              "10   mustakim         13500\n",
              "0       aarif         13000\n",
              "17    shokeen         12000\n",
              "13      rasid         11500\n",
              "6     intazar         10500\n",
              "5      haseen          9500\n",
              "1       aashu          8500\n",
              "15       safi          2000\n",
              "9       kayum          2000"
            ]
          },
          "metadata": {
            "tags": []
          },
          "execution_count": 33
        }
      ]
    },
    {
      "metadata": {
        "id": "cJvCrs5eHUzH",
        "colab_type": "code",
        "outputId": "ca0d5eb3-10f3-493e-bcb3-79f764c8baee",
        "colab": {
          "base_uri": "https://localhost:8080/",
          "height": 34
        }
      },
      "cell_type": "code",
      "source": [
        "name_total_quantity.shape"
      ],
      "execution_count": 0,
      "outputs": [
        {
          "output_type": "execute_result",
          "data": {
            "text/plain": [
              "(19, 2)"
            ]
          },
          "metadata": {
            "tags": []
          },
          "execution_count": 34
        }
      ]
    },
    {
      "metadata": {
        "id": "bIgFlZSgHZ2Z",
        "colab_type": "code",
        "outputId": "393678c4-03c5-4531-fbc8-9e388b009eae",
        "colab": {
          "base_uri": "https://localhost:8080/",
          "height": 34
        }
      },
      "cell_type": "code",
      "source": [
        "diesel.shape"
      ],
      "execution_count": 0,
      "outputs": [
        {
          "output_type": "execute_result",
          "data": {
            "text/plain": [
              "(23, 2)"
            ]
          },
          "metadata": {
            "tags": []
          },
          "execution_count": 35
        }
      ]
    },
    {
      "metadata": {
        "id": "Dt0tY1MmKWaE",
        "colab_type": "code",
        "colab": {}
      },
      "cell_type": "code",
      "source": [
        "final = pd.DataFrame(columns = ['Name','Count' , 'Total Quantity', 'Amount', 'Diesel', 'Amount - Diesel','Balance(Amount - Diesel)'])\n",
        "for i in range(len(name_total_quantity)):\n",
        "  for j in range(len(diesel)):\n",
        "    if name_total_quantity.Name[i] == diesel.Name[j]:\n",
        "      final = final.append({'Name': diesel.Name[j],'Total Quantity':name_total_quantity['Total Quantity'][i] ,\n",
        "                            'Count':quantity_per_name.get(diesel.Name[j]),\n",
        "                            'Amount':name_total_quantity['Total Quantity'][i]*3,\n",
        "                            'Diesel':diesel['Total Diesel'][j],\n",
        "                            'Amount - Diesel':name_total_quantity['Total Quantity'][i]*3 - diesel['Total Diesel'][j],\n",
        "                           'Balance(Amount - Diesel)': name_total_quantity['Total Quantity'][i]*3 - diesel['Total Diesel'][j]},\n",
        "                           ignore_index = True)\n",
        "    "
      ],
      "execution_count": 0,
      "outputs": []
    },
    {
      "metadata": {
        "id": "pqq9bOw3M6j4",
        "colab_type": "code",
        "outputId": "a46c32b8-06bc-4f9d-fc94-eea679feb6d7",
        "colab": {
          "base_uri": "https://localhost:8080/",
          "height": 607
        }
      },
      "cell_type": "code",
      "source": [
        "final.sort_values(by = 'Total Quantity', ascending = False, inplace = True)\n",
        "final"
      ],
      "execution_count": 0,
      "outputs": [
        {
          "output_type": "execute_result",
          "data": {
            "text/html": [
              "<div>\n",
              "<style scoped>\n",
              "    .dataframe tbody tr th:only-of-type {\n",
              "        vertical-align: middle;\n",
              "    }\n",
              "\n",
              "    .dataframe tbody tr th {\n",
              "        vertical-align: top;\n",
              "    }\n",
              "\n",
              "    .dataframe thead th {\n",
              "        text-align: right;\n",
              "    }\n",
              "</style>\n",
              "<table border=\"1\" class=\"dataframe\">\n",
              "  <thead>\n",
              "    <tr style=\"text-align: right;\">\n",
              "      <th></th>\n",
              "      <th>Name</th>\n",
              "      <th>Count</th>\n",
              "      <th>Total Quantity</th>\n",
              "      <th>Amount</th>\n",
              "      <th>Diesel</th>\n",
              "      <th>Amount - Diesel</th>\n",
              "      <th>Balance(Amount - Diesel)</th>\n",
              "    </tr>\n",
              "  </thead>\n",
              "  <tbody>\n",
              "    <tr>\n",
              "      <th>4</th>\n",
              "      <td>hasan</td>\n",
              "      <td>27</td>\n",
              "      <td>14496</td>\n",
              "      <td>43488</td>\n",
              "      <td>19410</td>\n",
              "      <td>24078</td>\n",
              "      <td>24078</td>\n",
              "    </tr>\n",
              "    <tr>\n",
              "      <th>7</th>\n",
              "      <td>isran</td>\n",
              "      <td>30</td>\n",
              "      <td>14100</td>\n",
              "      <td>42300</td>\n",
              "      <td>20000</td>\n",
              "      <td>22300</td>\n",
              "      <td>22300</td>\n",
              "    </tr>\n",
              "    <tr>\n",
              "      <th>11</th>\n",
              "      <td>rafakat</td>\n",
              "      <td>25</td>\n",
              "      <td>13450</td>\n",
              "      <td>40350</td>\n",
              "      <td>14500</td>\n",
              "      <td>25850</td>\n",
              "      <td>25850</td>\n",
              "    </tr>\n",
              "    <tr>\n",
              "      <th>2</th>\n",
              "      <td>farookh</td>\n",
              "      <td>30</td>\n",
              "      <td>12600</td>\n",
              "      <td>37800</td>\n",
              "      <td>17000</td>\n",
              "      <td>20800</td>\n",
              "      <td>20800</td>\n",
              "    </tr>\n",
              "    <tr>\n",
              "      <th>8</th>\n",
              "      <td>jabir</td>\n",
              "      <td>27</td>\n",
              "      <td>11313</td>\n",
              "      <td>33939</td>\n",
              "      <td>18000</td>\n",
              "      <td>15939</td>\n",
              "      <td>15939</td>\n",
              "    </tr>\n",
              "    <tr>\n",
              "      <th>14</th>\n",
              "      <td>shabir</td>\n",
              "      <td>23</td>\n",
              "      <td>10810</td>\n",
              "      <td>32430</td>\n",
              "      <td>16000</td>\n",
              "      <td>16430</td>\n",
              "      <td>16430</td>\n",
              "    </tr>\n",
              "    <tr>\n",
              "      <th>16</th>\n",
              "      <td>toheed</td>\n",
              "      <td>22</td>\n",
              "      <td>10692</td>\n",
              "      <td>32076</td>\n",
              "      <td>15060</td>\n",
              "      <td>17016</td>\n",
              "      <td>17016</td>\n",
              "    </tr>\n",
              "    <tr>\n",
              "      <th>10</th>\n",
              "      <td>mustakim</td>\n",
              "      <td>26</td>\n",
              "      <td>10530</td>\n",
              "      <td>31590</td>\n",
              "      <td>13500</td>\n",
              "      <td>18090</td>\n",
              "      <td>18090</td>\n",
              "    </tr>\n",
              "    <tr>\n",
              "      <th>17</th>\n",
              "      <td>wajid</td>\n",
              "      <td>24</td>\n",
              "      <td>10056</td>\n",
              "      <td>30168</td>\n",
              "      <td>18000</td>\n",
              "      <td>12168</td>\n",
              "      <td>12168</td>\n",
              "    </tr>\n",
              "    <tr>\n",
              "      <th>6</th>\n",
              "      <td>intazar</td>\n",
              "      <td>19</td>\n",
              "      <td>9823</td>\n",
              "      <td>29469</td>\n",
              "      <td>10500</td>\n",
              "      <td>18969</td>\n",
              "      <td>18969</td>\n",
              "    </tr>\n",
              "    <tr>\n",
              "      <th>0</th>\n",
              "      <td>aarif</td>\n",
              "      <td>20</td>\n",
              "      <td>8320</td>\n",
              "      <td>24960</td>\n",
              "      <td>13000</td>\n",
              "      <td>11960</td>\n",
              "      <td>11960</td>\n",
              "    </tr>\n",
              "    <tr>\n",
              "      <th>15</th>\n",
              "      <td>shokeen</td>\n",
              "      <td>18</td>\n",
              "      <td>8154</td>\n",
              "      <td>24462</td>\n",
              "      <td>12000</td>\n",
              "      <td>12462</td>\n",
              "      <td>12462</td>\n",
              "    </tr>\n",
              "    <tr>\n",
              "      <th>3</th>\n",
              "      <td>gulfam</td>\n",
              "      <td>16</td>\n",
              "      <td>8000</td>\n",
              "      <td>24000</td>\n",
              "      <td>20500</td>\n",
              "      <td>3500</td>\n",
              "      <td>3500</td>\n",
              "    </tr>\n",
              "    <tr>\n",
              "      <th>5</th>\n",
              "      <td>haseen</td>\n",
              "      <td>15</td>\n",
              "      <td>7440</td>\n",
              "      <td>22320</td>\n",
              "      <td>9500</td>\n",
              "      <td>12820</td>\n",
              "      <td>12820</td>\n",
              "    </tr>\n",
              "    <tr>\n",
              "      <th>12</th>\n",
              "      <td>rasid</td>\n",
              "      <td>18</td>\n",
              "      <td>7380</td>\n",
              "      <td>22140</td>\n",
              "      <td>11500</td>\n",
              "      <td>10640</td>\n",
              "      <td>10640</td>\n",
              "    </tr>\n",
              "    <tr>\n",
              "      <th>1</th>\n",
              "      <td>aashu</td>\n",
              "      <td>14</td>\n",
              "      <td>6020</td>\n",
              "      <td>18060</td>\n",
              "      <td>8500</td>\n",
              "      <td>9560</td>\n",
              "      <td>9560</td>\n",
              "    </tr>\n",
              "    <tr>\n",
              "      <th>9</th>\n",
              "      <td>kayum</td>\n",
              "      <td>2</td>\n",
              "      <td>900</td>\n",
              "      <td>2700</td>\n",
              "      <td>2000</td>\n",
              "      <td>700</td>\n",
              "      <td>700</td>\n",
              "    </tr>\n",
              "    <tr>\n",
              "      <th>13</th>\n",
              "      <td>safi</td>\n",
              "      <td>1</td>\n",
              "      <td>368</td>\n",
              "      <td>1104</td>\n",
              "      <td>2000</td>\n",
              "      <td>-896</td>\n",
              "      <td>-896</td>\n",
              "    </tr>\n",
              "  </tbody>\n",
              "</table>\n",
              "</div>"
            ],
            "text/plain": [
              "        Name Count Total Quantity Amount Diesel Amount - Diesel  \\\n",
              "4      hasan    27          14496  43488  19410           24078   \n",
              "7      isran    30          14100  42300  20000           22300   \n",
              "11   rafakat    25          13450  40350  14500           25850   \n",
              "2    farookh    30          12600  37800  17000           20800   \n",
              "8      jabir    27          11313  33939  18000           15939   \n",
              "14    shabir    23          10810  32430  16000           16430   \n",
              "16    toheed    22          10692  32076  15060           17016   \n",
              "10  mustakim    26          10530  31590  13500           18090   \n",
              "17     wajid    24          10056  30168  18000           12168   \n",
              "6    intazar    19           9823  29469  10500           18969   \n",
              "0      aarif    20           8320  24960  13000           11960   \n",
              "15   shokeen    18           8154  24462  12000           12462   \n",
              "3     gulfam    16           8000  24000  20500            3500   \n",
              "5     haseen    15           7440  22320   9500           12820   \n",
              "12     rasid    18           7380  22140  11500           10640   \n",
              "1      aashu    14           6020  18060   8500            9560   \n",
              "9      kayum     2            900   2700   2000             700   \n",
              "13      safi     1            368   1104   2000            -896   \n",
              "\n",
              "   Balance(Amount - Diesel)  \n",
              "4                     24078  \n",
              "7                     22300  \n",
              "11                    25850  \n",
              "2                     20800  \n",
              "8                     15939  \n",
              "14                    16430  \n",
              "16                    17016  \n",
              "10                    18090  \n",
              "17                    12168  \n",
              "6                     18969  \n",
              "0                     11960  \n",
              "15                    12462  \n",
              "3                      3500  \n",
              "5                     12820  \n",
              "12                    10640  \n",
              "1                      9560  \n",
              "9                       700  \n",
              "13                     -896  "
            ]
          },
          "metadata": {
            "tags": []
          },
          "execution_count": 37
        }
      ]
    },
    {
      "metadata": {
        "id": "j9mtOxxVNFDu",
        "colab_type": "code",
        "outputId": "de4feb30-80cb-4023-81aa-59b48ebf904d",
        "colab": {
          "base_uri": "https://localhost:8080/",
          "height": 34
        }
      },
      "cell_type": "code",
      "source": [
        "final.shape"
      ],
      "execution_count": 0,
      "outputs": [
        {
          "output_type": "execute_result",
          "data": {
            "text/plain": [
              "(18, 7)"
            ]
          },
          "metadata": {
            "tags": []
          },
          "execution_count": 38
        }
      ]
    },
    {
      "metadata": {
        "id": "_0al7GQXkDXf",
        "colab_type": "text"
      },
      "cell_type": "markdown",
      "source": [
        "# Total payable"
      ]
    },
    {
      "metadata": {
        "id": "6XWkfa0VyQGy",
        "colab_type": "code",
        "outputId": "de1dac8a-a31d-4574-8868-4ca3c418ef46",
        "colab": {
          "base_uri": "https://localhost:8080/",
          "height": 34
        }
      },
      "cell_type": "code",
      "source": [
        "sum(final['Amount - Diesel'])"
      ],
      "execution_count": 0,
      "outputs": [
        {
          "output_type": "execute_result",
          "data": {
            "text/plain": [
              "252386"
            ]
          },
          "metadata": {
            "tags": []
          },
          "execution_count": 39
        }
      ]
    },
    {
      "metadata": {
        "id": "pv6MLYbwyWxf",
        "colab_type": "text"
      },
      "cell_type": "markdown",
      "source": [
        "# Total Diesel to peoples"
      ]
    },
    {
      "metadata": {
        "id": "cgGCqVLEzDYa",
        "colab_type": "code",
        "outputId": "88068cfb-4c63-4c30-e481-f8e547eefe53",
        "colab": {
          "base_uri": "https://localhost:8080/",
          "height": 34
        }
      },
      "cell_type": "code",
      "source": [
        "sum(final['Diesel'])"
      ],
      "execution_count": 0,
      "outputs": [
        {
          "output_type": "execute_result",
          "data": {
            "text/plain": [
              "240970"
            ]
          },
          "metadata": {
            "tags": []
          },
          "execution_count": 40
        }
      ]
    },
    {
      "metadata": {
        "id": "pBnjQATezE1-",
        "colab_type": "code",
        "outputId": "0879017d-b1f2-4669-d033-692bbba84fc3",
        "colab": {
          "base_uri": "https://localhost:8080/",
          "height": 34
        }
      },
      "cell_type": "code",
      "source": [
        "to_tractors = sum(final['Total Quantity'])\n",
        "to_tractors"
      ],
      "execution_count": 0,
      "outputs": [
        {
          "output_type": "execute_result",
          "data": {
            "text/plain": [
              "164452"
            ]
          },
          "metadata": {
            "tags": []
          },
          "execution_count": 41
        }
      ]
    },
    {
      "metadata": {
        "id": "MfiO_RoO336s",
        "colab_type": "code",
        "outputId": "c8f11478-7fee-4f52-b1b1-758f6a6b8547",
        "colab": {
          "base_uri": "https://localhost:8080/",
          "height": 51
        }
      },
      "cell_type": "code",
      "source": [
        "to_tractors + name_total_quantity[name_total_quantity.Name == 'mehmood']['Total Quantity']"
      ],
      "execution_count": 0,
      "outputs": [
        {
          "output_type": "execute_result",
          "data": {
            "text/plain": [
              "10    178428\n",
              "Name: Total Quantity, dtype: object"
            ]
          },
          "metadata": {
            "tags": []
          },
          "execution_count": 42
        }
      ]
    },
    {
      "metadata": {
        "id": "99Mbstbv4MyU",
        "colab_type": "code",
        "colab": {}
      },
      "cell_type": "code",
      "source": [
        ""
      ],
      "execution_count": 0,
      "outputs": []
    }
  ]
}