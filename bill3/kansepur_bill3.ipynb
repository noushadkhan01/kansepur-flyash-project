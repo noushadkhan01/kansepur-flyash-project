{
  "nbformat": 4,
  "nbformat_minor": 0,
  "metadata": {
    "colab": {
      "name": "Copy of 31-12-bill2.ipynb",
      "version": "0.3.2",
      "provenance": [],
      "collapsed_sections": [],
      "include_colab_link": true
    },
    "kernelspec": {
      "name": "python3",
      "display_name": "Python 3"
    }
  },
  "cells": [
    {
      "cell_type": "markdown",
      "metadata": {
        "id": "view-in-github",
        "colab_type": "text"
      },
      "source": [
        "<a href=\"https://colab.research.google.com/github/noushadkhan01/kansepur-flyash-project/blob/master/bill3/kansepur_bill3.ipynb\" target=\"_parent\"><img src=\"https://colab.research.google.com/assets/colab-badge.svg\" alt=\"Open In Colab\"/></a>"
      ]
    },
    {
      "metadata": {
        "id": "so-LEjYwlBUq",
        "colab_type": "code",
        "outputId": "a430c764-56e1-4c76-f070-d2c3371b3ebc",
        "colab": {
          "base_uri": "https://localhost:8080/",
          "height": 51
        }
      },
      "cell_type": "code",
      "source": [
        "!git clone https://github.com/noushadkhan01/kansepur-flyash-project.git1qawq"
      ],
      "execution_count": 54,
      "outputs": [
        {
          "output_type": "stream",
          "text": [
            "Cloning into 'kansepur-flyash-project.git1qawq'...\n",
            "fatal: could not read Username for 'https://github.com': No such device or address\n"
          ],
          "name": "stdout"
        }
      ]
    },
    {
      "metadata": {
        "id": "g1NpP5jtlH5r",
        "colab_type": "code",
        "colab": {}
      },
      "cell_type": "code",
      "source": [
        "import pandas as pd"
      ],
      "execution_count": 0,
      "outputs": []
    },
    {
      "metadata": {
        "id": "vgRnsjiMlJvN",
        "colab_type": "code",
        "outputId": "5a6f9da7-aacb-42fe-9420-28801799b740",
        "colab": {
          "base_uri": "https://localhost:8080/",
          "height": 51
        }
      },
      "cell_type": "code",
      "source": [
        "%cd ./kansepur-flyash-project/bill3/"
      ],
      "execution_count": 56,
      "outputs": [
        {
          "output_type": "stream",
          "text": [
            "[Errno 2] No such file or directory: './kansepur-flyash-project/bill3/'\n",
            "/content/kansepur-flyash-project/bill3\n"
          ],
          "name": "stdout"
        }
      ]
    },
    {
      "metadata": {
        "id": "B6lL48hFlOrB",
        "colab_type": "code",
        "outputId": "02984312-692b-4797-9667-12575358113e",
        "colab": {
          "base_uri": "https://localhost:8080/",
          "height": 34
        }
      },
      "cell_type": "code",
      "source": [
        "!ls"
      ],
      "execution_count": 57,
      "outputs": [
        {
          "output_type": "stream",
          "text": [
            "kansepur_bill3.ipynb  kansepur_bill3.xlsx\n"
          ],
          "name": "stdout"
        }
      ]
    },
    {
      "metadata": {
        "id": "THAUXyC0lPYh",
        "colab_type": "code",
        "outputId": "9283429c-0ea6-4999-ac60-a08255693700",
        "colab": {
          "base_uri": "https://localhost:8080/",
          "height": 204
        }
      },
      "cell_type": "code",
      "source": [
        "df = pd.read_excel('kansepur_bill3.xlsx', 'Sheet1')\n",
        "df.head()"
      ],
      "execution_count": 58,
      "outputs": [
        {
          "output_type": "execute_result",
          "data": {
            "text/html": [
              "<div>\n",
              "<style scoped>\n",
              "    .dataframe tbody tr th:only-of-type {\n",
              "        vertical-align: middle;\n",
              "    }\n",
              "\n",
              "    .dataframe tbody tr th {\n",
              "        vertical-align: top;\n",
              "    }\n",
              "\n",
              "    .dataframe thead th {\n",
              "        text-align: right;\n",
              "    }\n",
              "</style>\n",
              "<table border=\"1\" class=\"dataframe\">\n",
              "  <thead>\n",
              "    <tr style=\"text-align: right;\">\n",
              "      <th></th>\n",
              "      <th>S.No.</th>\n",
              "      <th>Date</th>\n",
              "      <th>Counts</th>\n",
              "      <th>Name</th>\n",
              "      <th>Quantity</th>\n",
              "    </tr>\n",
              "  </thead>\n",
              "  <tbody>\n",
              "    <tr>\n",
              "      <th>0</th>\n",
              "      <td>1.0</td>\n",
              "      <td>2019-01-01</td>\n",
              "      <td>1.0</td>\n",
              "      <td>toheed</td>\n",
              "      <td>486</td>\n",
              "    </tr>\n",
              "    <tr>\n",
              "      <th>1</th>\n",
              "      <td>2.0</td>\n",
              "      <td>NaT</td>\n",
              "      <td>2.0</td>\n",
              "      <td>isran</td>\n",
              "      <td>470</td>\n",
              "    </tr>\n",
              "    <tr>\n",
              "      <th>2</th>\n",
              "      <td>3.0</td>\n",
              "      <td>NaT</td>\n",
              "      <td>3.0</td>\n",
              "      <td>wajid</td>\n",
              "      <td>419</td>\n",
              "    </tr>\n",
              "    <tr>\n",
              "      <th>3</th>\n",
              "      <td>4.0</td>\n",
              "      <td>NaT</td>\n",
              "      <td>4.0</td>\n",
              "      <td>aarif</td>\n",
              "      <td>416</td>\n",
              "    </tr>\n",
              "    <tr>\n",
              "      <th>4</th>\n",
              "      <td>5.0</td>\n",
              "      <td>NaT</td>\n",
              "      <td>5.0</td>\n",
              "      <td>farookh</td>\n",
              "      <td>420</td>\n",
              "    </tr>\n",
              "  </tbody>\n",
              "</table>\n",
              "</div>"
            ],
            "text/plain": [
              "       S.No.       Date                Counts     Name  Quantity\n",
              "0        1.0 2019-01-01                   1.0   toheed       486\n",
              "1        2.0        NaT                   2.0    isran       470\n",
              "2        3.0        NaT                   3.0    wajid       419\n",
              "3        4.0        NaT                   4.0    aarif       416\n",
              "4        5.0        NaT                   5.0  farookh       420"
            ]
          },
          "metadata": {
            "tags": []
          },
          "execution_count": 58
        }
      ]
    },
    {
      "metadata": {
        "id": "e1gUo92O-r5c",
        "colab_type": "code",
        "outputId": "4bc47488-cc79-497d-ff36-4233f73385f0",
        "colab": {
          "base_uri": "https://localhost:8080/",
          "height": 111
        }
      },
      "cell_type": "code",
      "source": [
        "df.tail(2)"
      ],
      "execution_count": 59,
      "outputs": [
        {
          "output_type": "execute_result",
          "data": {
            "text/html": [
              "<div>\n",
              "<style scoped>\n",
              "    .dataframe tbody tr th:only-of-type {\n",
              "        vertical-align: middle;\n",
              "    }\n",
              "\n",
              "    .dataframe tbody tr th {\n",
              "        vertical-align: top;\n",
              "    }\n",
              "\n",
              "    .dataframe thead th {\n",
              "        text-align: right;\n",
              "    }\n",
              "</style>\n",
              "<table border=\"1\" class=\"dataframe\">\n",
              "  <thead>\n",
              "    <tr style=\"text-align: right;\">\n",
              "      <th></th>\n",
              "      <th>S.No.</th>\n",
              "      <th>Date</th>\n",
              "      <th>Counts</th>\n",
              "      <th>Name</th>\n",
              "      <th>Quantity</th>\n",
              "    </tr>\n",
              "  </thead>\n",
              "  <tbody>\n",
              "    <tr>\n",
              "      <th>386</th>\n",
              "      <td>387.0</td>\n",
              "      <td>NaT</td>\n",
              "      <td>34.0</td>\n",
              "      <td>haseen</td>\n",
              "      <td>496</td>\n",
              "    </tr>\n",
              "    <tr>\n",
              "      <th>387</th>\n",
              "      <td>NaN</td>\n",
              "      <td>NaT</td>\n",
              "      <td>NaN</td>\n",
              "      <td>NaN</td>\n",
              "      <td>178428</td>\n",
              "    </tr>\n",
              "  </tbody>\n",
              "</table>\n",
              "</div>"
            ],
            "text/plain": [
              "         S.No. Date                Counts    Name  Quantity\n",
              "386      387.0  NaT                  34.0  haseen       496\n",
              "387        NaN  NaT                   NaN     NaN    178428"
            ]
          },
          "metadata": {
            "tags": []
          },
          "execution_count": 59
        }
      ]
    },
    {
      "metadata": {
        "id": "oUmdiUIj-xel",
        "colab_type": "code",
        "outputId": "34f3115f-7997-48b4-a9d9-91e20b37ade9",
        "colab": {
          "base_uri": "https://localhost:8080/",
          "height": 80
        }
      },
      "cell_type": "code",
      "source": [
        "df = df[:387]\n",
        "df.tail(1)"
      ],
      "execution_count": 60,
      "outputs": [
        {
          "output_type": "execute_result",
          "data": {
            "text/html": [
              "<div>\n",
              "<style scoped>\n",
              "    .dataframe tbody tr th:only-of-type {\n",
              "        vertical-align: middle;\n",
              "    }\n",
              "\n",
              "    .dataframe tbody tr th {\n",
              "        vertical-align: top;\n",
              "    }\n",
              "\n",
              "    .dataframe thead th {\n",
              "        text-align: right;\n",
              "    }\n",
              "</style>\n",
              "<table border=\"1\" class=\"dataframe\">\n",
              "  <thead>\n",
              "    <tr style=\"text-align: right;\">\n",
              "      <th></th>\n",
              "      <th>S.No.</th>\n",
              "      <th>Date</th>\n",
              "      <th>Counts</th>\n",
              "      <th>Name</th>\n",
              "      <th>Quantity</th>\n",
              "    </tr>\n",
              "  </thead>\n",
              "  <tbody>\n",
              "    <tr>\n",
              "      <th>386</th>\n",
              "      <td>387.0</td>\n",
              "      <td>NaT</td>\n",
              "      <td>34.0</td>\n",
              "      <td>haseen</td>\n",
              "      <td>496</td>\n",
              "    </tr>\n",
              "  </tbody>\n",
              "</table>\n",
              "</div>"
            ],
            "text/plain": [
              "         S.No. Date                Counts    Name  Quantity\n",
              "386      387.0  NaT                  34.0  haseen       496"
            ]
          },
          "metadata": {
            "tags": []
          },
          "execution_count": 60
        }
      ]
    },
    {
      "metadata": {
        "id": "vYJmIHd8lWZY",
        "colab_type": "code",
        "outputId": "c56fa6ac-e364-421f-de21-26aebb066aae",
        "colab": {
          "base_uri": "https://localhost:8080/",
          "height": 187
        }
      },
      "cell_type": "code",
      "source": [
        "df.info()"
      ],
      "execution_count": 61,
      "outputs": [
        {
          "output_type": "stream",
          "text": [
            "<class 'pandas.core.frame.DataFrame'>\n",
            "RangeIndex: 387 entries, 0 to 386\n",
            "Data columns (total 5 columns):\n",
            "    S.No.               387 non-null float64\n",
            "Date                    12 non-null datetime64[ns]\n",
            "              Counts    387 non-null float64\n",
            "Name                    387 non-null object\n",
            "Quantity                387 non-null int64\n",
            "dtypes: datetime64[ns](1), float64(2), int64(1), object(1)\n",
            "memory usage: 15.2+ KB\n"
          ],
          "name": "stdout"
        }
      ]
    },
    {
      "metadata": {
        "id": "vZ9H0uvuAxf5",
        "colab_type": "code",
        "outputId": "37fbea4f-7983-4823-a044-3af6af426632",
        "colab": {
          "base_uri": "https://localhost:8080/",
          "height": 238
        }
      },
      "cell_type": "code",
      "source": [
        "unique_dates = df.Date.unique()\n",
        "unique_dates = pd.Series(unique_dates).dropna()\n",
        "print(unique_dates)"
      ],
      "execution_count": 62,
      "outputs": [
        {
          "output_type": "stream",
          "text": [
            "0    2019-01-01\n",
            "2    2019-01-04\n",
            "3    2019-01-05\n",
            "4    2019-01-06\n",
            "5    2019-01-07\n",
            "6    2019-01-08\n",
            "7    2019-01-09\n",
            "8    2019-01-10\n",
            "9    2019-01-11\n",
            "10   2019-01-12\n",
            "11   2019-01-13\n",
            "12   2019-01-14\n",
            "dtype: datetime64[ns]\n"
          ],
          "name": "stdout"
        }
      ]
    },
    {
      "metadata": {
        "id": "yOdejLAFA7j1",
        "colab_type": "code",
        "outputId": "a1eef6ec-8367-45a4-8214-f17a405c70a3",
        "colab": {
          "base_uri": "https://localhost:8080/",
          "height": 34
        }
      },
      "cell_type": "code",
      "source": [
        "df.Date.nunique()"
      ],
      "execution_count": 63,
      "outputs": [
        {
          "output_type": "execute_result",
          "data": {
            "text/plain": [
              "12"
            ]
          },
          "metadata": {
            "tags": []
          },
          "execution_count": 63
        }
      ]
    },
    {
      "metadata": {
        "id": "TTiF585xBBNC",
        "colab_type": "code",
        "outputId": "3c82615f-00bf-40f7-9ccc-e3ae93fc034d",
        "colab": {
          "base_uri": "https://localhost:8080/",
          "height": 238
        }
      },
      "cell_type": "code",
      "source": [
        "df.Date.value_counts()"
      ],
      "execution_count": 64,
      "outputs": [
        {
          "output_type": "execute_result",
          "data": {
            "text/plain": [
              "2019-01-07    1\n",
              "2019-01-10    1\n",
              "2019-01-13    1\n",
              "2019-01-05    1\n",
              "2019-01-08    1\n",
              "2019-01-11    1\n",
              "2019-01-14    1\n",
              "2019-01-06    1\n",
              "2019-01-09    1\n",
              "2019-01-12    1\n",
              "2019-01-01    1\n",
              "2019-01-04    1\n",
              "Name: Date, dtype: int64"
            ]
          },
          "metadata": {
            "tags": []
          },
          "execution_count": 64
        }
      ]
    },
    {
      "metadata": {
        "id": "uXqNsOzRDDSf",
        "colab_type": "code",
        "colab": {}
      },
      "cell_type": "code",
      "source": [
        "import numpy as np"
      ],
      "execution_count": 0,
      "outputs": []
    },
    {
      "metadata": {
        "id": "BKMk-7t1Dq2J",
        "colab_type": "text"
      },
      "cell_type": "markdown",
      "source": [
        "### Fill Date"
      ]
    },
    {
      "metadata": {
        "id": "6Ze_xV9TAFkT",
        "colab_type": "code",
        "colab": {}
      },
      "cell_type": "code",
      "source": [
        "for n, i in enumerate(df.Date.values):\n",
        "  if not pd.isnull(i):\n",
        "    date = i\n",
        "  else:\n",
        "    df.iloc[n, 0] = date\n",
        "  "
      ],
      "execution_count": 0,
      "outputs": []
    },
    {
      "metadata": {
        "id": "fHoGR8F5DhjA",
        "colab_type": "code",
        "outputId": "7d03ddcb-a3a7-46c1-8b86-29c3eebfb2ba",
        "colab": {
          "base_uri": "https://localhost:8080/",
          "height": 111
        }
      },
      "cell_type": "code",
      "source": [
        "df.head(2)"
      ],
      "execution_count": 67,
      "outputs": [
        {
          "output_type": "execute_result",
          "data": {
            "text/html": [
              "<div>\n",
              "<style scoped>\n",
              "    .dataframe tbody tr th:only-of-type {\n",
              "        vertical-align: middle;\n",
              "    }\n",
              "\n",
              "    .dataframe tbody tr th {\n",
              "        vertical-align: top;\n",
              "    }\n",
              "\n",
              "    .dataframe thead th {\n",
              "        text-align: right;\n",
              "    }\n",
              "</style>\n",
              "<table border=\"1\" class=\"dataframe\">\n",
              "  <thead>\n",
              "    <tr style=\"text-align: right;\">\n",
              "      <th></th>\n",
              "      <th>S.No.</th>\n",
              "      <th>Date</th>\n",
              "      <th>Counts</th>\n",
              "      <th>Name</th>\n",
              "      <th>Quantity</th>\n",
              "    </tr>\n",
              "  </thead>\n",
              "  <tbody>\n",
              "    <tr>\n",
              "      <th>0</th>\n",
              "      <td>1</td>\n",
              "      <td>2019-01-01</td>\n",
              "      <td>1.0</td>\n",
              "      <td>toheed</td>\n",
              "      <td>486</td>\n",
              "    </tr>\n",
              "    <tr>\n",
              "      <th>1</th>\n",
              "      <td>2019-01-01T00:00:00.000000000</td>\n",
              "      <td>NaT</td>\n",
              "      <td>2.0</td>\n",
              "      <td>isran</td>\n",
              "      <td>470</td>\n",
              "    </tr>\n",
              "  </tbody>\n",
              "</table>\n",
              "</div>"
            ],
            "text/plain": [
              "                           S.No.       Date                Counts    Name  \\\n",
              "0                              1 2019-01-01                   1.0  toheed   \n",
              "1  2019-01-01T00:00:00.000000000        NaT                   2.0   isran   \n",
              "\n",
              "   Quantity  \n",
              "0       486  \n",
              "1       470  "
            ]
          },
          "metadata": {
            "tags": []
          },
          "execution_count": 67
        }
      ]
    },
    {
      "metadata": {
        "id": "jsPDiLK9mCMB",
        "colab_type": "code",
        "outputId": "ae4eb2f8-f251-437e-98ea-422f267fa194",
        "colab": {
          "base_uri": "https://localhost:8080/",
          "height": 85
        }
      },
      "cell_type": "code",
      "source": [
        "df.Name.unique()"
      ],
      "execution_count": 68,
      "outputs": [
        {
          "output_type": "execute_result",
          "data": {
            "text/plain": [
              "array(['toheed', 'isran', 'wajid', 'aarif', 'farookh', 'shokeen',\n",
              "       'gulfam', 'shabir', 'hasan', 'jabir', 'rafakat', 'safi',\n",
              "       'mustakim', 'intazar', 'mehmood', 'rasid', 'haseen', 'aashu',\n",
              "       'kayum'], dtype=object)"
            ]
          },
          "metadata": {
            "tags": []
          },
          "execution_count": 68
        }
      ]
    },
    {
      "metadata": {
        "id": "cJArT99yo39E",
        "colab_type": "code",
        "outputId": "4087c5a1-56bc-41f7-dc75-eddff31c7066",
        "colab": {
          "base_uri": "https://localhost:8080/",
          "height": 34
        }
      },
      "cell_type": "code",
      "source": [
        "sum(df.Quantity)"
      ],
      "execution_count": 69,
      "outputs": [
        {
          "output_type": "execute_result",
          "data": {
            "text/plain": [
              "178428"
            ]
          },
          "metadata": {
            "tags": []
          },
          "execution_count": 69
        }
      ]
    },
    {
      "metadata": {
        "id": "KDfUKDebnJUR",
        "colab_type": "code",
        "outputId": "0c252b85-3c40-4d8f-f6e2-8d128ec30a24",
        "colab": {
          "base_uri": "https://localhost:8080/",
          "height": 357
        }
      },
      "cell_type": "code",
      "source": [
        "quantity_per_name = df.Name.value_counts()\n",
        "quantity_per_name"
      ],
      "execution_count": 70,
      "outputs": [
        {
          "output_type": "execute_result",
          "data": {
            "text/plain": [
              "mehmood     30\n",
              "farookh     30\n",
              "isran       30\n",
              "hasan       27\n",
              "jabir       27\n",
              "mustakim    26\n",
              "rafakat     25\n",
              "wajid       24\n",
              "shabir      23\n",
              "toheed      22\n",
              "aarif       20\n",
              "intazar     19\n",
              "rasid       18\n",
              "shokeen     18\n",
              "gulfam      16\n",
              "haseen      15\n",
              "aashu       14\n",
              "kayum        2\n",
              "safi         1\n",
              "Name: Name, dtype: int64"
            ]
          },
          "metadata": {
            "tags": []
          },
          "execution_count": 70
        }
      ]
    },
    {
      "metadata": {
        "id": "LiyQphzHEraa",
        "colab_type": "text"
      },
      "cell_type": "markdown",
      "source": [
        "### Counts per Date"
      ]
    },
    {
      "metadata": {
        "id": "bfNp_BNaIxFr",
        "colab_type": "code",
        "outputId": "cd85534a-a58f-4dab-9e0e-33037b3d1f04",
        "colab": {
          "base_uri": "https://localhost:8080/",
          "height": 119
        }
      },
      "cell_type": "code",
      "source": [
        "df.isnull().sum()"
      ],
      "execution_count": 71,
      "outputs": [
        {
          "output_type": "execute_result",
          "data": {
            "text/plain": [
              "    S.No.                 0\n",
              "Date                    375\n",
              "              Counts      0\n",
              "Name                      0\n",
              "Quantity                  0\n",
              "dtype: int64"
            ]
          },
          "metadata": {
            "tags": []
          },
          "execution_count": 71
        }
      ]
    },
    {
      "metadata": {
        "id": "vegaPxckns74",
        "colab_type": "text"
      },
      "cell_type": "markdown",
      "source": [
        "## unique feets per name"
      ]
    },
    {
      "metadata": {
        "id": "-ITvOwaBwJ1t",
        "colab_type": "code",
        "outputId": "d1172aa6-51bf-4acb-8109-548fc8eadd98",
        "colab": {
          "base_uri": "https://localhost:8080/",
          "height": 34
        }
      },
      "cell_type": "code",
      "source": [
        "group = df.groupby(df.Name)\n",
        "group"
      ],
      "execution_count": 72,
      "outputs": [
        {
          "output_type": "execute_result",
          "data": {
            "text/plain": [
              "<pandas.core.groupby.DataFrameGroupBy object at 0x7fa454193a20>"
            ]
          },
          "metadata": {
            "tags": []
          },
          "execution_count": 72
        }
      ]
    },
    {
      "metadata": {
        "id": "ndW_Qg-IwSkJ",
        "colab_type": "code",
        "outputId": "f5ed19c1-f145-4aee-89b5-8146ae0a2baf",
        "colab": {
          "base_uri": "https://localhost:8080/",
          "height": 663
        }
      },
      "cell_type": "code",
      "source": [
        "for i, j in group:\n",
        "  print(i, j.Quantity.unique(), '\\n')"
      ],
      "execution_count": 73,
      "outputs": [
        {
          "output_type": "stream",
          "text": [
            "aarif [416] \n",
            "\n",
            "aashu [430] \n",
            "\n",
            "farookh [420] \n",
            "\n",
            "gulfam [500] \n",
            "\n",
            "hasan [538 508] \n",
            "\n",
            "haseen [496] \n",
            "\n",
            "intazar [517] \n",
            "\n",
            "isran [470] \n",
            "\n",
            "jabir [419] \n",
            "\n",
            "kayum [450] \n",
            "\n",
            "mehmood [419 500 538 517 486 453 470 420 405] \n",
            "\n",
            "mustakim [405] \n",
            "\n",
            "rafakat [538] \n",
            "\n",
            "rasid [410] \n",
            "\n",
            "safi [368] \n",
            "\n",
            "shabir [470] \n",
            "\n",
            "shokeen [453] \n",
            "\n",
            "toheed [486] \n",
            "\n",
            "wajid [419] \n",
            "\n"
          ],
          "name": "stdout"
        }
      ]
    },
    {
      "metadata": {
        "id": "0y2uPtUlJ6jo",
        "colab_type": "text"
      },
      "cell_type": "markdown",
      "source": [
        "# Diesel"
      ]
    },
    {
      "metadata": {
        "id": "O5znZR4bJ8Ri",
        "colab_type": "code",
        "outputId": "3c522e4a-adf3-4fce-c8a3-1fcb09ea6de2",
        "colab": {
          "base_uri": "https://localhost:8080/",
          "height": 238
        }
      },
      "cell_type": "code",
      "source": [
        "diesel = pd.read_excel('kansepur_bill3.xlsx', 'Diesel')\n",
        "diesel.head()"
      ],
      "execution_count": 74,
      "outputs": [
        {
          "output_type": "execute_result",
          "data": {
            "text/html": [
              "<div>\n",
              "<style scoped>\n",
              "    .dataframe tbody tr th:only-of-type {\n",
              "        vertical-align: middle;\n",
              "    }\n",
              "\n",
              "    .dataframe tbody tr th {\n",
              "        vertical-align: top;\n",
              "    }\n",
              "\n",
              "    .dataframe thead th {\n",
              "        text-align: right;\n",
              "    }\n",
              "</style>\n",
              "<table border=\"1\" class=\"dataframe\">\n",
              "  <thead>\n",
              "    <tr style=\"text-align: right;\">\n",
              "      <th></th>\n",
              "      <th>Name</th>\n",
              "      <th>2019-01-01 00:00:00</th>\n",
              "      <th>2019-01-04 00:00:00</th>\n",
              "      <th>2019-01-05 00:00:00</th>\n",
              "      <th>2019-01-06 00:00:00</th>\n",
              "      <th>2019-01-07 00:00:00</th>\n",
              "      <th>2019-01-08 00:00:00</th>\n",
              "      <th>2019-01-09 00:00:00</th>\n",
              "      <th>2019-01-10 00:00:00</th>\n",
              "      <th>2019-01-11 00:00:00</th>\n",
              "      <th>2019-01-12 00:00:00</th>\n",
              "      <th>2019-01-13 00:00:00</th>\n",
              "      <th>2019-01-14 00:00:00</th>\n",
              "      <th>Total Diesel</th>\n",
              "      <th>Cash</th>\n",
              "    </tr>\n",
              "  </thead>\n",
              "  <tbody>\n",
              "    <tr>\n",
              "      <th>0</th>\n",
              "      <td>aarif</td>\n",
              "      <td>1500.0</td>\n",
              "      <td>0.0</td>\n",
              "      <td>0.0</td>\n",
              "      <td>0.0</td>\n",
              "      <td>0.0</td>\n",
              "      <td>2000.0</td>\n",
              "      <td>1500.0</td>\n",
              "      <td>2000.0</td>\n",
              "      <td>2000.0</td>\n",
              "      <td>2000.0</td>\n",
              "      <td>2000.0</td>\n",
              "      <td>0</td>\n",
              "      <td>13000</td>\n",
              "      <td>NaN</td>\n",
              "    </tr>\n",
              "    <tr>\n",
              "      <th>1</th>\n",
              "      <td>aashu</td>\n",
              "      <td>0.0</td>\n",
              "      <td>0.0</td>\n",
              "      <td>0.0</td>\n",
              "      <td>0.0</td>\n",
              "      <td>0.0</td>\n",
              "      <td>0.0</td>\n",
              "      <td>2000.0</td>\n",
              "      <td>2000.0</td>\n",
              "      <td>2000.0</td>\n",
              "      <td>0.0</td>\n",
              "      <td>500.0</td>\n",
              "      <td>2000</td>\n",
              "      <td>8500</td>\n",
              "      <td>NaN</td>\n",
              "    </tr>\n",
              "    <tr>\n",
              "      <th>2</th>\n",
              "      <td>farookh</td>\n",
              "      <td>2000.0</td>\n",
              "      <td>0.0</td>\n",
              "      <td>2000.0</td>\n",
              "      <td>1500.0</td>\n",
              "      <td>1500.0</td>\n",
              "      <td>1500.0</td>\n",
              "      <td>1500.0</td>\n",
              "      <td>1500.0</td>\n",
              "      <td>1500.0</td>\n",
              "      <td>0.0</td>\n",
              "      <td>2000.0</td>\n",
              "      <td>2000</td>\n",
              "      <td>17000</td>\n",
              "      <td>NaN</td>\n",
              "    </tr>\n",
              "    <tr>\n",
              "      <th>3</th>\n",
              "      <td>gulfam</td>\n",
              "      <td>2000.0</td>\n",
              "      <td>2000.0</td>\n",
              "      <td>2000.0</td>\n",
              "      <td>2000.0</td>\n",
              "      <td>0.0</td>\n",
              "      <td>2000.0</td>\n",
              "      <td>2500.0</td>\n",
              "      <td>2000.0</td>\n",
              "      <td>0.0</td>\n",
              "      <td>2000.0</td>\n",
              "      <td>2000.0</td>\n",
              "      <td>2000</td>\n",
              "      <td>20500</td>\n",
              "      <td>NaN</td>\n",
              "    </tr>\n",
              "    <tr>\n",
              "      <th>4</th>\n",
              "      <td>hasan</td>\n",
              "      <td>2000.0</td>\n",
              "      <td>0.0</td>\n",
              "      <td>2000.0</td>\n",
              "      <td>2000.0</td>\n",
              "      <td>2000.0</td>\n",
              "      <td>2000.0</td>\n",
              "      <td>1500.0</td>\n",
              "      <td>2000.0</td>\n",
              "      <td>1910.0</td>\n",
              "      <td>0.0</td>\n",
              "      <td>2000.0</td>\n",
              "      <td>2000</td>\n",
              "      <td>19410</td>\n",
              "      <td>600.0</td>\n",
              "    </tr>\n",
              "  </tbody>\n",
              "</table>\n",
              "</div>"
            ],
            "text/plain": [
              "      Name  2019-01-01 00:00:00  2019-01-04 00:00:00  2019-01-05 00:00:00  \\\n",
              "0    aarif               1500.0                  0.0                  0.0   \n",
              "1    aashu                  0.0                  0.0                  0.0   \n",
              "2  farookh               2000.0                  0.0               2000.0   \n",
              "3   gulfam               2000.0               2000.0               2000.0   \n",
              "4    hasan               2000.0                  0.0               2000.0   \n",
              "\n",
              "   2019-01-06 00:00:00  2019-01-07 00:00:00  2019-01-08 00:00:00  \\\n",
              "0                  0.0                  0.0               2000.0   \n",
              "1                  0.0                  0.0                  0.0   \n",
              "2               1500.0               1500.0               1500.0   \n",
              "3               2000.0                  0.0               2000.0   \n",
              "4               2000.0               2000.0               2000.0   \n",
              "\n",
              "   2019-01-09 00:00:00  2019-01-10 00:00:00  2019-01-11 00:00:00  \\\n",
              "0               1500.0               2000.0               2000.0   \n",
              "1               2000.0               2000.0               2000.0   \n",
              "2               1500.0               1500.0               1500.0   \n",
              "3               2500.0               2000.0                  0.0   \n",
              "4               1500.0               2000.0               1910.0   \n",
              "\n",
              "   2019-01-12 00:00:00  2019-01-13 00:00:00 2019-01-14 00:00:00  Total Diesel  \\\n",
              "0               2000.0               2000.0                   0         13000   \n",
              "1                  0.0                500.0                2000          8500   \n",
              "2                  0.0               2000.0                2000         17000   \n",
              "3               2000.0               2000.0                2000         20500   \n",
              "4                  0.0               2000.0                2000         19410   \n",
              "\n",
              "    Cash  \n",
              "0    NaN  \n",
              "1    NaN  \n",
              "2    NaN  \n",
              "3    NaN  \n",
              "4  600.0  "
            ]
          },
          "metadata": {
            "tags": []
          },
          "execution_count": 74
        }
      ]
    },
    {
      "metadata": {
        "id": "aNms0DItMFZ8",
        "colab_type": "code",
        "outputId": "13b0189e-9efd-4b3e-973f-52de32e9c60f",
        "colab": {
          "base_uri": "https://localhost:8080/",
          "height": 34
        }
      },
      "cell_type": "code",
      "source": [
        "diesel.shape"
      ],
      "execution_count": 75,
      "outputs": [
        {
          "output_type": "execute_result",
          "data": {
            "text/plain": [
              "(23, 15)"
            ]
          },
          "metadata": {
            "tags": []
          },
          "execution_count": 75
        }
      ]
    },
    {
      "metadata": {
        "id": "hISVmorfLybA",
        "colab_type": "code",
        "outputId": "2379cff8-a857-4bbc-be27-33bcb00ca233",
        "colab": {
          "base_uri": "https://localhost:8080/",
          "height": 111
        }
      },
      "cell_type": "code",
      "source": [
        "df.head(2)"
      ],
      "execution_count": 76,
      "outputs": [
        {
          "output_type": "execute_result",
          "data": {
            "text/html": [
              "<div>\n",
              "<style scoped>\n",
              "    .dataframe tbody tr th:only-of-type {\n",
              "        vertical-align: middle;\n",
              "    }\n",
              "\n",
              "    .dataframe tbody tr th {\n",
              "        vertical-align: top;\n",
              "    }\n",
              "\n",
              "    .dataframe thead th {\n",
              "        text-align: right;\n",
              "    }\n",
              "</style>\n",
              "<table border=\"1\" class=\"dataframe\">\n",
              "  <thead>\n",
              "    <tr style=\"text-align: right;\">\n",
              "      <th></th>\n",
              "      <th>S.No.</th>\n",
              "      <th>Date</th>\n",
              "      <th>Counts</th>\n",
              "      <th>Name</th>\n",
              "      <th>Quantity</th>\n",
              "    </tr>\n",
              "  </thead>\n",
              "  <tbody>\n",
              "    <tr>\n",
              "      <th>0</th>\n",
              "      <td>1</td>\n",
              "      <td>2019-01-01</td>\n",
              "      <td>1.0</td>\n",
              "      <td>toheed</td>\n",
              "      <td>486</td>\n",
              "    </tr>\n",
              "    <tr>\n",
              "      <th>1</th>\n",
              "      <td>2019-01-01T00:00:00.000000000</td>\n",
              "      <td>NaT</td>\n",
              "      <td>2.0</td>\n",
              "      <td>isran</td>\n",
              "      <td>470</td>\n",
              "    </tr>\n",
              "  </tbody>\n",
              "</table>\n",
              "</div>"
            ],
            "text/plain": [
              "                           S.No.       Date                Counts    Name  \\\n",
              "0                              1 2019-01-01                   1.0  toheed   \n",
              "1  2019-01-01T00:00:00.000000000        NaT                   2.0   isran   \n",
              "\n",
              "   Quantity  \n",
              "0       486  \n",
              "1       470  "
            ]
          },
          "metadata": {
            "tags": []
          },
          "execution_count": 76
        }
      ]
    },
    {
      "metadata": {
        "id": "jsQ52FyRCZz9",
        "colab_type": "text"
      },
      "cell_type": "markdown",
      "source": [
        "# Total Quantity per name"
      ]
    },
    {
      "metadata": {
        "id": "aAtFy8oyD3dM",
        "colab_type": "code",
        "colab": {}
      },
      "cell_type": "code",
      "source": [
        "name_groups = df.groupby('Name')\n",
        "name_total_quantity = pd.DataFrame(columns = ['Name', 'Total Quantity'])\n",
        "for i, j in name_groups:\n",
        "  name_total_quantity = name_total_quantity.append({'Name':i, 'Total Quantity': sum(j.Quantity)}, ignore_index = True)\n",
        "  \n",
        "name_total_quantity.sort_values(by = ['Total Quantity'], ascending = False, inplace = True)"
      ],
      "execution_count": 0,
      "outputs": []
    },
    {
      "metadata": {
        "id": "4VCgjQr2INk1",
        "colab_type": "code",
        "outputId": "9f447a0b-c74c-4a03-8a58-e62f1bf202d3",
        "colab": {
          "base_uri": "https://localhost:8080/",
          "height": 638
        }
      },
      "cell_type": "code",
      "source": [
        "name_total_quantity"
      ],
      "execution_count": 78,
      "outputs": [
        {
          "output_type": "execute_result",
          "data": {
            "text/html": [
              "<div>\n",
              "<style scoped>\n",
              "    .dataframe tbody tr th:only-of-type {\n",
              "        vertical-align: middle;\n",
              "    }\n",
              "\n",
              "    .dataframe tbody tr th {\n",
              "        vertical-align: top;\n",
              "    }\n",
              "\n",
              "    .dataframe thead th {\n",
              "        text-align: right;\n",
              "    }\n",
              "</style>\n",
              "<table border=\"1\" class=\"dataframe\">\n",
              "  <thead>\n",
              "    <tr style=\"text-align: right;\">\n",
              "      <th></th>\n",
              "      <th>Name</th>\n",
              "      <th>Total Quantity</th>\n",
              "    </tr>\n",
              "  </thead>\n",
              "  <tbody>\n",
              "    <tr>\n",
              "      <th>4</th>\n",
              "      <td>hasan</td>\n",
              "      <td>14496</td>\n",
              "    </tr>\n",
              "    <tr>\n",
              "      <th>7</th>\n",
              "      <td>isran</td>\n",
              "      <td>14100</td>\n",
              "    </tr>\n",
              "    <tr>\n",
              "      <th>10</th>\n",
              "      <td>mehmood</td>\n",
              "      <td>13976</td>\n",
              "    </tr>\n",
              "    <tr>\n",
              "      <th>12</th>\n",
              "      <td>rafakat</td>\n",
              "      <td>13450</td>\n",
              "    </tr>\n",
              "    <tr>\n",
              "      <th>2</th>\n",
              "      <td>farookh</td>\n",
              "      <td>12600</td>\n",
              "    </tr>\n",
              "    <tr>\n",
              "      <th>8</th>\n",
              "      <td>jabir</td>\n",
              "      <td>11313</td>\n",
              "    </tr>\n",
              "    <tr>\n",
              "      <th>15</th>\n",
              "      <td>shabir</td>\n",
              "      <td>10810</td>\n",
              "    </tr>\n",
              "    <tr>\n",
              "      <th>17</th>\n",
              "      <td>toheed</td>\n",
              "      <td>10692</td>\n",
              "    </tr>\n",
              "    <tr>\n",
              "      <th>11</th>\n",
              "      <td>mustakim</td>\n",
              "      <td>10530</td>\n",
              "    </tr>\n",
              "    <tr>\n",
              "      <th>18</th>\n",
              "      <td>wajid</td>\n",
              "      <td>10056</td>\n",
              "    </tr>\n",
              "    <tr>\n",
              "      <th>6</th>\n",
              "      <td>intazar</td>\n",
              "      <td>9823</td>\n",
              "    </tr>\n",
              "    <tr>\n",
              "      <th>0</th>\n",
              "      <td>aarif</td>\n",
              "      <td>8320</td>\n",
              "    </tr>\n",
              "    <tr>\n",
              "      <th>16</th>\n",
              "      <td>shokeen</td>\n",
              "      <td>8154</td>\n",
              "    </tr>\n",
              "    <tr>\n",
              "      <th>3</th>\n",
              "      <td>gulfam</td>\n",
              "      <td>8000</td>\n",
              "    </tr>\n",
              "    <tr>\n",
              "      <th>5</th>\n",
              "      <td>haseen</td>\n",
              "      <td>7440</td>\n",
              "    </tr>\n",
              "    <tr>\n",
              "      <th>13</th>\n",
              "      <td>rasid</td>\n",
              "      <td>7380</td>\n",
              "    </tr>\n",
              "    <tr>\n",
              "      <th>1</th>\n",
              "      <td>aashu</td>\n",
              "      <td>6020</td>\n",
              "    </tr>\n",
              "    <tr>\n",
              "      <th>9</th>\n",
              "      <td>kayum</td>\n",
              "      <td>900</td>\n",
              "    </tr>\n",
              "    <tr>\n",
              "      <th>14</th>\n",
              "      <td>safi</td>\n",
              "      <td>368</td>\n",
              "    </tr>\n",
              "  </tbody>\n",
              "</table>\n",
              "</div>"
            ],
            "text/plain": [
              "        Name Total Quantity\n",
              "4      hasan          14496\n",
              "7      isran          14100\n",
              "10   mehmood          13976\n",
              "12   rafakat          13450\n",
              "2    farookh          12600\n",
              "8      jabir          11313\n",
              "15    shabir          10810\n",
              "17    toheed          10692\n",
              "11  mustakim          10530\n",
              "18     wajid          10056\n",
              "6    intazar           9823\n",
              "0      aarif           8320\n",
              "16   shokeen           8154\n",
              "3     gulfam           8000\n",
              "5     haseen           7440\n",
              "13     rasid           7380\n",
              "1      aashu           6020\n",
              "9      kayum            900\n",
              "14      safi            368"
            ]
          },
          "metadata": {
            "tags": []
          },
          "execution_count": 78
        }
      ]
    },
    {
      "metadata": {
        "id": "INqOC5E_EZTz",
        "colab_type": "code",
        "outputId": "c60e17b6-9a74-483a-b001-5da9aa3ff6d0",
        "colab": {
          "base_uri": "https://localhost:8080/",
          "height": 114
        }
      },
      "cell_type": "code",
      "source": [
        "diesel.head(1)"
      ],
      "execution_count": 79,
      "outputs": [
        {
          "output_type": "execute_result",
          "data": {
            "text/html": [
              "<div>\n",
              "<style scoped>\n",
              "    .dataframe tbody tr th:only-of-type {\n",
              "        vertical-align: middle;\n",
              "    }\n",
              "\n",
              "    .dataframe tbody tr th {\n",
              "        vertical-align: top;\n",
              "    }\n",
              "\n",
              "    .dataframe thead th {\n",
              "        text-align: right;\n",
              "    }\n",
              "</style>\n",
              "<table border=\"1\" class=\"dataframe\">\n",
              "  <thead>\n",
              "    <tr style=\"text-align: right;\">\n",
              "      <th></th>\n",
              "      <th>Name</th>\n",
              "      <th>2019-01-01 00:00:00</th>\n",
              "      <th>2019-01-04 00:00:00</th>\n",
              "      <th>2019-01-05 00:00:00</th>\n",
              "      <th>2019-01-06 00:00:00</th>\n",
              "      <th>2019-01-07 00:00:00</th>\n",
              "      <th>2019-01-08 00:00:00</th>\n",
              "      <th>2019-01-09 00:00:00</th>\n",
              "      <th>2019-01-10 00:00:00</th>\n",
              "      <th>2019-01-11 00:00:00</th>\n",
              "      <th>2019-01-12 00:00:00</th>\n",
              "      <th>2019-01-13 00:00:00</th>\n",
              "      <th>2019-01-14 00:00:00</th>\n",
              "      <th>Total Diesel</th>\n",
              "      <th>Cash</th>\n",
              "    </tr>\n",
              "  </thead>\n",
              "  <tbody>\n",
              "    <tr>\n",
              "      <th>0</th>\n",
              "      <td>aarif</td>\n",
              "      <td>1500.0</td>\n",
              "      <td>0.0</td>\n",
              "      <td>0.0</td>\n",
              "      <td>0.0</td>\n",
              "      <td>0.0</td>\n",
              "      <td>2000.0</td>\n",
              "      <td>1500.0</td>\n",
              "      <td>2000.0</td>\n",
              "      <td>2000.0</td>\n",
              "      <td>2000.0</td>\n",
              "      <td>2000.0</td>\n",
              "      <td>0</td>\n",
              "      <td>13000</td>\n",
              "      <td>NaN</td>\n",
              "    </tr>\n",
              "  </tbody>\n",
              "</table>\n",
              "</div>"
            ],
            "text/plain": [
              "    Name  2019-01-01 00:00:00  2019-01-04 00:00:00  2019-01-05 00:00:00  \\\n",
              "0  aarif               1500.0                  0.0                  0.0   \n",
              "\n",
              "   2019-01-06 00:00:00  2019-01-07 00:00:00  2019-01-08 00:00:00  \\\n",
              "0                  0.0                  0.0               2000.0   \n",
              "\n",
              "   2019-01-09 00:00:00  2019-01-10 00:00:00  2019-01-11 00:00:00  \\\n",
              "0               1500.0               2000.0               2000.0   \n",
              "\n",
              "   2019-01-12 00:00:00  2019-01-13 00:00:00 2019-01-14 00:00:00  Total Diesel  \\\n",
              "0               2000.0               2000.0                   0         13000   \n",
              "\n",
              "   Cash  \n",
              "0   NaN  "
            ]
          },
          "metadata": {
            "tags": []
          },
          "execution_count": 79
        }
      ]
    },
    {
      "metadata": {
        "id": "2yjavOQTNghu",
        "colab_type": "code",
        "outputId": "e2a5b3eb-d2a7-4e84-bd9c-92a7b1896ad9",
        "colab": {
          "base_uri": "https://localhost:8080/",
          "height": 762
        }
      },
      "cell_type": "code",
      "source": [
        "diesel = diesel[['Name', 'Total Diesel']]\n",
        "diesel.sort_values(by = 'Total Diesel', ascending = False, inplace = True)\n",
        "diesel"
      ],
      "execution_count": 80,
      "outputs": [
        {
          "output_type": "execute_result",
          "data": {
            "text/html": [
              "<div>\n",
              "<style scoped>\n",
              "    .dataframe tbody tr th:only-of-type {\n",
              "        vertical-align: middle;\n",
              "    }\n",
              "\n",
              "    .dataframe tbody tr th {\n",
              "        vertical-align: top;\n",
              "    }\n",
              "\n",
              "    .dataframe thead th {\n",
              "        text-align: right;\n",
              "    }\n",
              "</style>\n",
              "<table border=\"1\" class=\"dataframe\">\n",
              "  <thead>\n",
              "    <tr style=\"text-align: right;\">\n",
              "      <th></th>\n",
              "      <th>Name</th>\n",
              "      <th>Total Diesel</th>\n",
              "    </tr>\n",
              "  </thead>\n",
              "  <tbody>\n",
              "    <tr>\n",
              "      <th>22</th>\n",
              "      <td>NaN</td>\n",
              "      <td>365000</td>\n",
              "    </tr>\n",
              "    <tr>\n",
              "      <th>21</th>\n",
              "      <td>Zztotal</td>\n",
              "      <td>365000</td>\n",
              "    </tr>\n",
              "    <tr>\n",
              "      <th>11</th>\n",
              "      <td>poclain</td>\n",
              "      <td>48500</td>\n",
              "    </tr>\n",
              "    <tr>\n",
              "      <th>14</th>\n",
              "      <td>sabir jcb</td>\n",
              "      <td>47000</td>\n",
              "    </tr>\n",
              "    <tr>\n",
              "      <th>20</th>\n",
              "      <td>zzcash</td>\n",
              "      <td>28530</td>\n",
              "    </tr>\n",
              "    <tr>\n",
              "      <th>3</th>\n",
              "      <td>gulfam</td>\n",
              "      <td>20500</td>\n",
              "    </tr>\n",
              "    <tr>\n",
              "      <th>7</th>\n",
              "      <td>isran</td>\n",
              "      <td>20000</td>\n",
              "    </tr>\n",
              "    <tr>\n",
              "      <th>4</th>\n",
              "      <td>hasan</td>\n",
              "      <td>19410</td>\n",
              "    </tr>\n",
              "    <tr>\n",
              "      <th>8</th>\n",
              "      <td>jabir</td>\n",
              "      <td>18000</td>\n",
              "    </tr>\n",
              "    <tr>\n",
              "      <th>19</th>\n",
              "      <td>wajid</td>\n",
              "      <td>18000</td>\n",
              "    </tr>\n",
              "    <tr>\n",
              "      <th>2</th>\n",
              "      <td>farookh</td>\n",
              "      <td>17000</td>\n",
              "    </tr>\n",
              "    <tr>\n",
              "      <th>16</th>\n",
              "      <td>shabir</td>\n",
              "      <td>16000</td>\n",
              "    </tr>\n",
              "    <tr>\n",
              "      <th>18</th>\n",
              "      <td>toheed</td>\n",
              "      <td>15060</td>\n",
              "    </tr>\n",
              "    <tr>\n",
              "      <th>12</th>\n",
              "      <td>rafakat</td>\n",
              "      <td>14500</td>\n",
              "    </tr>\n",
              "    <tr>\n",
              "      <th>10</th>\n",
              "      <td>mustakim</td>\n",
              "      <td>13500</td>\n",
              "    </tr>\n",
              "    <tr>\n",
              "      <th>0</th>\n",
              "      <td>aarif</td>\n",
              "      <td>13000</td>\n",
              "    </tr>\n",
              "    <tr>\n",
              "      <th>17</th>\n",
              "      <td>shokeen</td>\n",
              "      <td>12000</td>\n",
              "    </tr>\n",
              "    <tr>\n",
              "      <th>13</th>\n",
              "      <td>rasid</td>\n",
              "      <td>11500</td>\n",
              "    </tr>\n",
              "    <tr>\n",
              "      <th>6</th>\n",
              "      <td>intazar</td>\n",
              "      <td>10500</td>\n",
              "    </tr>\n",
              "    <tr>\n",
              "      <th>5</th>\n",
              "      <td>haseen</td>\n",
              "      <td>9500</td>\n",
              "    </tr>\n",
              "    <tr>\n",
              "      <th>1</th>\n",
              "      <td>aashu</td>\n",
              "      <td>8500</td>\n",
              "    </tr>\n",
              "    <tr>\n",
              "      <th>15</th>\n",
              "      <td>safi</td>\n",
              "      <td>2000</td>\n",
              "    </tr>\n",
              "    <tr>\n",
              "      <th>9</th>\n",
              "      <td>kayum</td>\n",
              "      <td>2000</td>\n",
              "    </tr>\n",
              "  </tbody>\n",
              "</table>\n",
              "</div>"
            ],
            "text/plain": [
              "         Name  Total Diesel\n",
              "22        NaN        365000\n",
              "21    Zztotal        365000\n",
              "11    poclain         48500\n",
              "14  sabir jcb         47000\n",
              "20     zzcash         28530\n",
              "3      gulfam         20500\n",
              "7       isran         20000\n",
              "4       hasan         19410\n",
              "8       jabir         18000\n",
              "19      wajid         18000\n",
              "2     farookh         17000\n",
              "16     shabir         16000\n",
              "18     toheed         15060\n",
              "12    rafakat         14500\n",
              "10   mustakim         13500\n",
              "0       aarif         13000\n",
              "17    shokeen         12000\n",
              "13      rasid         11500\n",
              "6     intazar         10500\n",
              "5      haseen          9500\n",
              "1       aashu          8500\n",
              "15       safi          2000\n",
              "9       kayum          2000"
            ]
          },
          "metadata": {
            "tags": []
          },
          "execution_count": 80
        }
      ]
    },
    {
      "metadata": {
        "id": "cJvCrs5eHUzH",
        "colab_type": "code",
        "outputId": "c93ca358-3e0a-4b95-925e-33e4c505be51",
        "colab": {
          "base_uri": "https://localhost:8080/",
          "height": 34
        }
      },
      "cell_type": "code",
      "source": [
        "name_total_quantity.shape"
      ],
      "execution_count": 81,
      "outputs": [
        {
          "output_type": "execute_result",
          "data": {
            "text/plain": [
              "(19, 2)"
            ]
          },
          "metadata": {
            "tags": []
          },
          "execution_count": 81
        }
      ]
    },
    {
      "metadata": {
        "id": "bIgFlZSgHZ2Z",
        "colab_type": "code",
        "outputId": "51ce582e-ea62-4d27-aca8-1c098b473b77",
        "colab": {
          "base_uri": "https://localhost:8080/",
          "height": 34
        }
      },
      "cell_type": "code",
      "source": [
        "diesel.shape"
      ],
      "execution_count": 82,
      "outputs": [
        {
          "output_type": "execute_result",
          "data": {
            "text/plain": [
              "(23, 2)"
            ]
          },
          "metadata": {
            "tags": []
          },
          "execution_count": 82
        }
      ]
    },
    {
      "metadata": {
        "id": "Dt0tY1MmKWaE",
        "colab_type": "code",
        "colab": {}
      },
      "cell_type": "code",
      "source": [
        "final = pd.DataFrame(columns = ['Name','Count' , 'Total Quantity', 'Amount', 'Diesel', 'Amount - Diesel','Balance(Amount - Diesel)'])\n",
        "for i in range(len(name_total_quantity)):\n",
        "  for j in range(len(diesel)):\n",
        "    if name_total_quantity.Name[i] == diesel.Name[j]:\n",
        "      final = final.append({'Name': diesel.Name[j],'Total Quantity':name_total_quantity['Total Quantity'][i] ,\n",
        "                            'Count':quantity_per_name.get(diesel.Name[j]),\n",
        "                            'Amount':name_total_quantity['Total Quantity'][i]*3,\n",
        "                            'Diesel':diesel['Total Diesel'][j],\n",
        "                            'Amount - Diesel':name_total_quantity['Total Quantity'][i]*3 - diesel['Total Diesel'][j],\n",
        "                           'Balance(Amount - Diesel)': name_total_quantity['Total Quantity'][i]*3 - diesel['Total Diesel'][j]},\n",
        "                           ignore_index = True)\n",
        "    "
      ],
      "execution_count": 0,
      "outputs": []
    },
    {
      "metadata": {
        "id": "pqq9bOw3M6j4",
        "colab_type": "code",
        "outputId": "581f05d1-2624-4370-f02c-25e2255172ce",
        "colab": {
          "base_uri": "https://localhost:8080/",
          "height": 607
        }
      },
      "cell_type": "code",
      "source": [
        "final.sort_values(by = 'Total Quantity', ascending = False, inplace = True)\n",
        "final"
      ],
      "execution_count": 84,
      "outputs": [
        {
          "output_type": "execute_result",
          "data": {
            "text/html": [
              "<div>\n",
              "<style scoped>\n",
              "    .dataframe tbody tr th:only-of-type {\n",
              "        vertical-align: middle;\n",
              "    }\n",
              "\n",
              "    .dataframe tbody tr th {\n",
              "        vertical-align: top;\n",
              "    }\n",
              "\n",
              "    .dataframe thead th {\n",
              "        text-align: right;\n",
              "    }\n",
              "</style>\n",
              "<table border=\"1\" class=\"dataframe\">\n",
              "  <thead>\n",
              "    <tr style=\"text-align: right;\">\n",
              "      <th></th>\n",
              "      <th>Name</th>\n",
              "      <th>Count</th>\n",
              "      <th>Total Quantity</th>\n",
              "      <th>Amount</th>\n",
              "      <th>Diesel</th>\n",
              "      <th>Amount - Diesel</th>\n",
              "      <th>Balance(Amount - Diesel)</th>\n",
              "    </tr>\n",
              "  </thead>\n",
              "  <tbody>\n",
              "    <tr>\n",
              "      <th>4</th>\n",
              "      <td>hasan</td>\n",
              "      <td>27</td>\n",
              "      <td>14496</td>\n",
              "      <td>43488</td>\n",
              "      <td>19410</td>\n",
              "      <td>24078</td>\n",
              "      <td>24078</td>\n",
              "    </tr>\n",
              "    <tr>\n",
              "      <th>7</th>\n",
              "      <td>isran</td>\n",
              "      <td>30</td>\n",
              "      <td>14100</td>\n",
              "      <td>42300</td>\n",
              "      <td>20000</td>\n",
              "      <td>22300</td>\n",
              "      <td>22300</td>\n",
              "    </tr>\n",
              "    <tr>\n",
              "      <th>11</th>\n",
              "      <td>rafakat</td>\n",
              "      <td>25</td>\n",
              "      <td>13450</td>\n",
              "      <td>40350</td>\n",
              "      <td>14500</td>\n",
              "      <td>25850</td>\n",
              "      <td>25850</td>\n",
              "    </tr>\n",
              "    <tr>\n",
              "      <th>2</th>\n",
              "      <td>farookh</td>\n",
              "      <td>30</td>\n",
              "      <td>12600</td>\n",
              "      <td>37800</td>\n",
              "      <td>17000</td>\n",
              "      <td>20800</td>\n",
              "      <td>20800</td>\n",
              "    </tr>\n",
              "    <tr>\n",
              "      <th>8</th>\n",
              "      <td>jabir</td>\n",
              "      <td>27</td>\n",
              "      <td>11313</td>\n",
              "      <td>33939</td>\n",
              "      <td>18000</td>\n",
              "      <td>15939</td>\n",
              "      <td>15939</td>\n",
              "    </tr>\n",
              "    <tr>\n",
              "      <th>14</th>\n",
              "      <td>shabir</td>\n",
              "      <td>23</td>\n",
              "      <td>10810</td>\n",
              "      <td>32430</td>\n",
              "      <td>16000</td>\n",
              "      <td>16430</td>\n",
              "      <td>16430</td>\n",
              "    </tr>\n",
              "    <tr>\n",
              "      <th>16</th>\n",
              "      <td>toheed</td>\n",
              "      <td>22</td>\n",
              "      <td>10692</td>\n",
              "      <td>32076</td>\n",
              "      <td>15060</td>\n",
              "      <td>17016</td>\n",
              "      <td>17016</td>\n",
              "    </tr>\n",
              "    <tr>\n",
              "      <th>10</th>\n",
              "      <td>mustakim</td>\n",
              "      <td>26</td>\n",
              "      <td>10530</td>\n",
              "      <td>31590</td>\n",
              "      <td>13500</td>\n",
              "      <td>18090</td>\n",
              "      <td>18090</td>\n",
              "    </tr>\n",
              "    <tr>\n",
              "      <th>17</th>\n",
              "      <td>wajid</td>\n",
              "      <td>24</td>\n",
              "      <td>10056</td>\n",
              "      <td>30168</td>\n",
              "      <td>18000</td>\n",
              "      <td>12168</td>\n",
              "      <td>12168</td>\n",
              "    </tr>\n",
              "    <tr>\n",
              "      <th>6</th>\n",
              "      <td>intazar</td>\n",
              "      <td>19</td>\n",
              "      <td>9823</td>\n",
              "      <td>29469</td>\n",
              "      <td>10500</td>\n",
              "      <td>18969</td>\n",
              "      <td>18969</td>\n",
              "    </tr>\n",
              "    <tr>\n",
              "      <th>0</th>\n",
              "      <td>aarif</td>\n",
              "      <td>20</td>\n",
              "      <td>8320</td>\n",
              "      <td>24960</td>\n",
              "      <td>13000</td>\n",
              "      <td>11960</td>\n",
              "      <td>11960</td>\n",
              "    </tr>\n",
              "    <tr>\n",
              "      <th>15</th>\n",
              "      <td>shokeen</td>\n",
              "      <td>18</td>\n",
              "      <td>8154</td>\n",
              "      <td>24462</td>\n",
              "      <td>12000</td>\n",
              "      <td>12462</td>\n",
              "      <td>12462</td>\n",
              "    </tr>\n",
              "    <tr>\n",
              "      <th>3</th>\n",
              "      <td>gulfam</td>\n",
              "      <td>16</td>\n",
              "      <td>8000</td>\n",
              "      <td>24000</td>\n",
              "      <td>20500</td>\n",
              "      <td>3500</td>\n",
              "      <td>3500</td>\n",
              "    </tr>\n",
              "    <tr>\n",
              "      <th>5</th>\n",
              "      <td>haseen</td>\n",
              "      <td>15</td>\n",
              "      <td>7440</td>\n",
              "      <td>22320</td>\n",
              "      <td>9500</td>\n",
              "      <td>12820</td>\n",
              "      <td>12820</td>\n",
              "    </tr>\n",
              "    <tr>\n",
              "      <th>12</th>\n",
              "      <td>rasid</td>\n",
              "      <td>18</td>\n",
              "      <td>7380</td>\n",
              "      <td>22140</td>\n",
              "      <td>11500</td>\n",
              "      <td>10640</td>\n",
              "      <td>10640</td>\n",
              "    </tr>\n",
              "    <tr>\n",
              "      <th>1</th>\n",
              "      <td>aashu</td>\n",
              "      <td>14</td>\n",
              "      <td>6020</td>\n",
              "      <td>18060</td>\n",
              "      <td>8500</td>\n",
              "      <td>9560</td>\n",
              "      <td>9560</td>\n",
              "    </tr>\n",
              "    <tr>\n",
              "      <th>9</th>\n",
              "      <td>kayum</td>\n",
              "      <td>2</td>\n",
              "      <td>900</td>\n",
              "      <td>2700</td>\n",
              "      <td>2000</td>\n",
              "      <td>700</td>\n",
              "      <td>700</td>\n",
              "    </tr>\n",
              "    <tr>\n",
              "      <th>13</th>\n",
              "      <td>safi</td>\n",
              "      <td>1</td>\n",
              "      <td>368</td>\n",
              "      <td>1104</td>\n",
              "      <td>2000</td>\n",
              "      <td>-896</td>\n",
              "      <td>-896</td>\n",
              "    </tr>\n",
              "  </tbody>\n",
              "</table>\n",
              "</div>"
            ],
            "text/plain": [
              "        Name Count Total Quantity Amount Diesel Amount - Diesel  \\\n",
              "4      hasan    27          14496  43488  19410           24078   \n",
              "7      isran    30          14100  42300  20000           22300   \n",
              "11   rafakat    25          13450  40350  14500           25850   \n",
              "2    farookh    30          12600  37800  17000           20800   \n",
              "8      jabir    27          11313  33939  18000           15939   \n",
              "14    shabir    23          10810  32430  16000           16430   \n",
              "16    toheed    22          10692  32076  15060           17016   \n",
              "10  mustakim    26          10530  31590  13500           18090   \n",
              "17     wajid    24          10056  30168  18000           12168   \n",
              "6    intazar    19           9823  29469  10500           18969   \n",
              "0      aarif    20           8320  24960  13000           11960   \n",
              "15   shokeen    18           8154  24462  12000           12462   \n",
              "3     gulfam    16           8000  24000  20500            3500   \n",
              "5     haseen    15           7440  22320   9500           12820   \n",
              "12     rasid    18           7380  22140  11500           10640   \n",
              "1      aashu    14           6020  18060   8500            9560   \n",
              "9      kayum     2            900   2700   2000             700   \n",
              "13      safi     1            368   1104   2000            -896   \n",
              "\n",
              "   Balance(Amount - Diesel)  \n",
              "4                     24078  \n",
              "7                     22300  \n",
              "11                    25850  \n",
              "2                     20800  \n",
              "8                     15939  \n",
              "14                    16430  \n",
              "16                    17016  \n",
              "10                    18090  \n",
              "17                    12168  \n",
              "6                     18969  \n",
              "0                     11960  \n",
              "15                    12462  \n",
              "3                      3500  \n",
              "5                     12820  \n",
              "12                    10640  \n",
              "1                      9560  \n",
              "9                       700  \n",
              "13                     -896  "
            ]
          },
          "metadata": {
            "tags": []
          },
          "execution_count": 84
        }
      ]
    },
    {
      "metadata": {
        "id": "j9mtOxxVNFDu",
        "colab_type": "code",
        "outputId": "1ff2f9ab-5572-417a-d861-5bbfd3b478d1",
        "colab": {
          "base_uri": "https://localhost:8080/",
          "height": 34
        }
      },
      "cell_type": "code",
      "source": [
        "final.shape"
      ],
      "execution_count": 85,
      "outputs": [
        {
          "output_type": "execute_result",
          "data": {
            "text/plain": [
              "(18, 7)"
            ]
          },
          "metadata": {
            "tags": []
          },
          "execution_count": 85
        }
      ]
    },
    {
      "metadata": {
        "id": "_0al7GQXkDXf",
        "colab_type": "text"
      },
      "cell_type": "markdown",
      "source": [
        "# Total payable"
      ]
    },
    {
      "metadata": {
        "id": "6XWkfa0VyQGy",
        "colab_type": "code",
        "outputId": "e0577cd4-12b1-4b07-9193-c075b333b54c",
        "colab": {
          "base_uri": "https://localhost:8080/",
          "height": 34
        }
      },
      "cell_type": "code",
      "source": [
        "sum(final['Amount - Diesel'])"
      ],
      "execution_count": 86,
      "outputs": [
        {
          "output_type": "execute_result",
          "data": {
            "text/plain": [
              "252386"
            ]
          },
          "metadata": {
            "tags": []
          },
          "execution_count": 86
        }
      ]
    },
    {
      "metadata": {
        "id": "pv6MLYbwyWxf",
        "colab_type": "text"
      },
      "cell_type": "markdown",
      "source": [
        "# Total Diesel to peoples"
      ]
    },
    {
      "metadata": {
        "id": "cgGCqVLEzDYa",
        "colab_type": "code",
        "outputId": "e4b96c9c-14f7-45c1-eb73-78e08053c593",
        "colab": {
          "base_uri": "https://localhost:8080/",
          "height": 34
        }
      },
      "cell_type": "code",
      "source": [
        "sum(final['Diesel'])"
      ],
      "execution_count": 87,
      "outputs": [
        {
          "output_type": "execute_result",
          "data": {
            "text/plain": [
              "240970"
            ]
          },
          "metadata": {
            "tags": []
          },
          "execution_count": 87
        }
      ]
    },
    {
      "metadata": {
        "id": "pBnjQATezE1-",
        "colab_type": "code",
        "colab": {
          "base_uri": "https://localhost:8080/",
          "height": 34
        },
        "outputId": "112e34d9-3e3c-4d24-cd08-cb1564baa452"
      },
      "cell_type": "code",
      "source": [
        "to_tractors = sum(final['Total Quantity'])\n",
        "to_tractors"
      ],
      "execution_count": 96,
      "outputs": [
        {
          "output_type": "execute_result",
          "data": {
            "text/plain": [
              "164452"
            ]
          },
          "metadata": {
            "tags": []
          },
          "execution_count": 96
        }
      ]
    },
    {
      "metadata": {
        "id": "MfiO_RoO336s",
        "colab_type": "code",
        "colab": {
          "base_uri": "https://localhost:8080/",
          "height": 51
        },
        "outputId": "79813c43-2cc7-464d-94e5-90e2a240740d"
      },
      "cell_type": "code",
      "source": [
        "to_tractors + name_total_quantity[name_total_quantity.Name == 'mehmood']['Total Quantity']"
      ],
      "execution_count": 97,
      "outputs": [
        {
          "output_type": "execute_result",
          "data": {
            "text/plain": [
              "10    178428\n",
              "Name: Total Quantity, dtype: object"
            ]
          },
          "metadata": {
            "tags": []
          },
          "execution_count": 97
        }
      ]
    },
    {
      "metadata": {
        "id": "99Mbstbv4MyU",
        "colab_type": "code",
        "colab": {}
      },
      "cell_type": "code",
      "source": [
        ""
      ],
      "execution_count": 0,
      "outputs": []
    }
  ]
}