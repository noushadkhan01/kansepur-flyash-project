{
  "nbformat": 4,
  "nbformat_minor": 0,
  "metadata": {
    "colab": {
      "name": "1_14_feb-bill5.ipynb",
      "version": "0.3.2",
      "provenance": [],
      "collapsed_sections": [],
      "include_colab_link": true
    },
    "kernelspec": {
      "name": "python3",
      "display_name": "Python 3"
    }
  },
  "cells": [
    {
      "cell_type": "markdown",
      "metadata": {
        "id": "view-in-github",
        "colab_type": "text"
      },
      "source": [
        "<a href=\"https://colab.research.google.com/github/noushadkhan01/kansepur-flyash-project/blob/master/1-14-feb-bill5/1_14_feb_bill5.ipynb\" target=\"_parent\"><img src=\"https://colab.research.google.com/assets/colab-badge.svg\" alt=\"Open In Colab\"/></a>"
      ]
    },
    {
      "metadata": {
        "id": "so-LEjYwlBUq",
        "colab_type": "code",
        "outputId": "16effbf0-c264-4b2e-e21b-ac76147f8288",
        "colab": {
          "base_uri": "https://localhost:8080/",
          "height": 136
        }
      },
      "cell_type": "code",
      "source": [
        "!git clone https://github.com/noushadkhan01/kansepur-flyash-project.git"
      ],
      "execution_count": 87,
      "outputs": [
        {
          "output_type": "stream",
          "text": [
            "Cloning into 'kansepur-flyash-project'...\n",
            "remote: Enumerating objects: 63, done.\u001b[K\n",
            "remote: Counting objects:   1% (1/63)   \u001b[K\rremote: Counting objects:   3% (2/63)   \u001b[K\rremote: Counting objects:   4% (3/63)   \u001b[K\rremote: Counting objects:   6% (4/63)   \u001b[K\rremote: Counting objects:   7% (5/63)   \u001b[K\rremote: Counting objects:   9% (6/63)   \u001b[K\rremote: Counting objects:  11% (7/63)   \u001b[K\rremote: Counting objects:  12% (8/63)   \u001b[K\rremote: Counting objects:  14% (9/63)   \u001b[K\rremote: Counting objects:  15% (10/63)   \u001b[K\rremote: Counting objects:  17% (11/63)   \u001b[K\rremote: Counting objects:  19% (12/63)   \u001b[K\rremote: Counting objects:  20% (13/63)   \u001b[K\rremote: Counting objects:  22% (14/63)   \u001b[K\rremote: Counting objects:  23% (15/63)   \u001b[K\rremote: Counting objects:  25% (16/63)   \u001b[K\rremote: Counting objects:  26% (17/63)   \u001b[K\rremote: Counting objects:  28% (18/63)   \u001b[K\rremote: Counting objects:  30% (19/63)   \u001b[K\rremote: Counting objects:  31% (20/63)   \u001b[K\rremote: Counting objects:  33% (21/63)   \u001b[K\rremote: Counting objects:  34% (22/63)   \u001b[K\rremote: Counting objects:  36% (23/63)   \u001b[K\rremote: Counting objects:  38% (24/63)   \u001b[K\rremote: Counting objects:  39% (25/63)   \u001b[K\rremote: Counting objects:  41% (26/63)   \u001b[K\rremote: Counting objects:  42% (27/63)   \u001b[K\rremote: Counting objects:  44% (28/63)   \u001b[K\rremote: Counting objects:  46% (29/63)   \u001b[K\rremote: Counting objects:  47% (30/63)   \u001b[K\rremote: Counting objects:  49% (31/63)   \u001b[K\rremote: Counting objects:  50% (32/63)   \u001b[K\rremote: Counting objects:  52% (33/63)   \u001b[K\rremote: Counting objects:  53% (34/63)   \u001b[K\rremote: Counting objects:  55% (35/63)   \u001b[K\rremote: Counting objects:  57% (36/63)   \u001b[K\rremote: Counting objects:  58% (37/63)   \u001b[K\rremote: Counting objects:  60% (38/63)   \u001b[K\rremote: Counting objects:  61% (39/63)   \u001b[K\rremote: Counting objects:  63% (40/63)   \u001b[K\rremote: Counting objects:  65% (41/63)   \u001b[K\rremote: Counting objects:  66% (42/63)   \u001b[K\rremote: Counting objects:  68% (43/63)   \u001b[K\rremote: Counting objects:  69% (44/63)   \u001b[K\rremote: Counting objects:  71% (45/63)   \u001b[K\rremote: Counting objects:  73% (46/63)   \u001b[K\rremote: Counting objects:  74% (47/63)   \u001b[K\rremote: Counting objects:  76% (48/63)   \u001b[K\rremote: Counting objects:  77% (49/63)   \u001b[K\rremote: Counting objects:  79% (50/63)   \u001b[K\rremote: Counting objects:  80% (51/63)   \u001b[K\rremote: Counting objects:  82% (52/63)   \u001b[K\rremote: Counting objects:  84% (53/63)   \u001b[K\rremote: Counting objects:  85% (54/63)   \u001b[K\rremote: Counting objects:  87% (55/63)   \u001b[K\rremote: Counting objects:  88% (56/63)   \u001b[K\rremote: Counting objects:  90% (57/63)   \u001b[K\rremote: Counting objects:  92% (58/63)   \u001b[K\rremote: Counting objects:  93% (59/63)   \u001b[K\rremote: Counting objects:  95% (60/63)   \u001b[K\rremote: Counting objects:  96% (61/63)   \u001b[K\rremote: Counting objects:  98% (62/63)   \u001b[K\rremote: Counting objects: 100% (63/63)   \u001b[K\rremote: Counting objects: 100% (63/63), done.\u001b[K\n",
            "remote: Compressing objects:   1% (1/60)   \u001b[K\rremote: Compressing objects:   3% (2/60)   \u001b[K\rremote: Compressing objects:   5% (3/60)   \u001b[K\rremote: Compressing objects:   6% (4/60)   \u001b[K\rremote: Compressing objects:   8% (5/60)   \u001b[K\rremote: Compressing objects:  10% (6/60)   \u001b[K\rremote: Compressing objects:  11% (7/60)   \u001b[K\rremote: Compressing objects:  13% (8/60)   \u001b[K\rremote: Compressing objects:  15% (9/60)   \u001b[K\rremote: Compressing objects:  16% (10/60)   \u001b[K\rremote: Compressing objects:  18% (11/60)   \u001b[K\rremote: Compressing objects:  20% (12/60)   \u001b[K\rremote: Compressing objects:  21% (13/60)   \u001b[K\rremote: Compressing objects:  23% (14/60)   \u001b[K\rremote: Compressing objects:  25% (15/60)   \u001b[K\rremote: Compressing objects:  26% (16/60)   \u001b[K\rremote: Compressing objects:  28% (17/60)   \u001b[K\rremote: Compressing objects:  30% (18/60)   \u001b[K\rremote: Compressing objects:  31% (19/60)   \u001b[K\rremote: Compressing objects:  33% (20/60)   \u001b[K\rremote: Compressing objects:  35% (21/60)   \u001b[K\rremote: Compressing objects:  36% (22/60)   \u001b[K\rremote: Compressing objects:  38% (23/60)   \u001b[K\rremote: Compressing objects:  40% (24/60)   \u001b[K\rremote: Compressing objects:  41% (25/60)   \u001b[K\rremote: Compressing objects:  43% (26/60)   \u001b[K\rremote: Compressing objects:  45% (27/60)   \u001b[K\rremote: Compressing objects:  46% (28/60)   \u001b[K\rremote: Compressing objects:  48% (29/60)   \u001b[K\rremote: Compressing objects:  50% (30/60)   \u001b[K\rremote: Compressing objects:  51% (31/60)   \u001b[K\rremote: Compressing objects:  53% (32/60)   \u001b[K\rremote: Compressing objects:  55% (33/60)   \u001b[K\rremote: Compressing objects:  56% (34/60)   \u001b[K\rremote: Compressing objects:  58% (35/60)   \u001b[K\rremote: Compressing objects:  60% (36/60)   \u001b[K\rremote: Compressing objects:  61% (37/60)   \u001b[K\rremote: Compressing objects:  63% (38/60)   \u001b[K\rremote: Compressing objects:  65% (39/60)   \u001b[K\rremote: Compressing objects:  66% (40/60)   \u001b[K\rremote: Compressing objects:  68% (41/60)   \u001b[K\rremote: Compressing objects:  70% (42/60)   \u001b[K\rremote: Compressing objects:  71% (43/60)   \u001b[K\rremote: Compressing objects:  73% (44/60)   \u001b[K\rremote: Compressing objects:  75% (45/60)   \u001b[K\rremote: Compressing objects:  76% (46/60)   \u001b[K\rremote: Compressing objects:  78% (47/60)   \u001b[K\rremote: Compressing objects:  80% (48/60)   \u001b[K\rremote: Compressing objects:  81% (49/60)   \u001b[K\rremote: Compressing objects:  83% (50/60)   \u001b[K\rremote: Compressing objects:  85% (51/60)   \u001b[K\rremote: Compressing objects:  86% (52/60)   \u001b[K\rremote: Compressing objects:  88% (53/60)   \u001b[K\rremote: Compressing objects:  90% (54/60)   \u001b[K\rremote: Compressing objects:  91% (55/60)   \u001b[K\rremote: Compressing objects:  93% (56/60)   \u001b[K\rremote: Compressing objects:  95% (57/60)   \u001b[K\rremote: Compressing objects:  96% (58/60)   \u001b[K\rremote: Compressing objects:  98% (59/60)   \u001b[K\rremote: Compressing objects: 100% (60/60)   \u001b[K\rremote: Compressing objects: 100% (60/60), done.\u001b[K\n",
            "Receiving objects:   0% (1/303)   \rReceiving objects:   1% (4/303)   \rReceiving objects:   2% (7/303)   \rReceiving objects:   3% (10/303)   \rReceiving objects:   4% (13/303)   \rReceiving objects:   5% (16/303)   \rReceiving objects:   6% (19/303)   \rReceiving objects:   7% (22/303)   \rReceiving objects:   8% (25/303)   \rReceiving objects:   9% (28/303)   \rReceiving objects:  10% (31/303)   \rReceiving objects:  11% (34/303)   \rReceiving objects:  12% (37/303)   \rReceiving objects:  13% (40/303)   \rReceiving objects:  14% (43/303)   \rReceiving objects:  15% (46/303)   \rReceiving objects:  16% (49/303)   \rReceiving objects:  17% (52/303)   \rReceiving objects:  18% (55/303)   \rReceiving objects:  19% (58/303)   \rReceiving objects:  20% (61/303)   \rReceiving objects:  21% (64/303)   \rReceiving objects:  22% (67/303)   \rReceiving objects:  23% (70/303)   \rReceiving objects:  24% (73/303)   \rReceiving objects:  25% (76/303)   \rReceiving objects:  26% (79/303)   \rReceiving objects:  27% (82/303)   \rReceiving objects:  28% (85/303)   \rReceiving objects:  29% (88/303)   \rReceiving objects:  30% (91/303)   \rReceiving objects:  31% (94/303)   \rReceiving objects:  32% (97/303)   \rReceiving objects:  33% (100/303)   \rReceiving objects:  34% (104/303)   \rReceiving objects:  35% (107/303)   \rReceiving objects:  36% (110/303)   \rReceiving objects:  37% (113/303)   \rReceiving objects:  38% (116/303)   \rReceiving objects:  39% (119/303)   \rReceiving objects:  40% (122/303)   \rReceiving objects:  41% (125/303)   \rReceiving objects:  42% (128/303)   \rReceiving objects:  43% (131/303)   \rReceiving objects:  44% (134/303)   \rReceiving objects:  45% (137/303)   \rReceiving objects:  46% (140/303)   \rReceiving objects:  47% (143/303)   \rReceiving objects:  48% (146/303)   \rReceiving objects:  49% (149/303)   \rReceiving objects:  50% (152/303)   \rReceiving objects:  51% (155/303)   \rReceiving objects:  52% (158/303)   \rReceiving objects:  53% (161/303)   \rReceiving objects:  54% (164/303)   \rReceiving objects:  55% (167/303)   \rReceiving objects:  56% (170/303)   \rReceiving objects:  57% (173/303)   \rReceiving objects:  58% (176/303)   \rReceiving objects:  59% (179/303)   \rReceiving objects:  60% (182/303)   \rReceiving objects:  61% (185/303)   \rReceiving objects:  62% (188/303)   \rReceiving objects:  63% (191/303)   \rReceiving objects:  64% (194/303)   \rReceiving objects:  65% (197/303)   \rReceiving objects:  66% (200/303)   \rReceiving objects:  67% (204/303)   \rReceiving objects:  68% (207/303)   \rReceiving objects:  69% (210/303)   \rReceiving objects:  70% (213/303)   \rReceiving objects:  71% (216/303)   \rReceiving objects:  72% (219/303)   \rReceiving objects:  73% (222/303)   \rReceiving objects:  74% (225/303)   \rReceiving objects:  75% (228/303)   \rReceiving objects:  76% (231/303)   \rReceiving objects:  77% (234/303)   \rReceiving objects:  78% (237/303)   \rReceiving objects:  79% (240/303)   \rReceiving objects:  80% (243/303)   \rReceiving objects:  81% (246/303)   \rReceiving objects:  82% (249/303)   \rReceiving objects:  83% (252/303)   \rReceiving objects:  84% (255/303)   \rReceiving objects:  85% (258/303)   \rReceiving objects:  86% (261/303)   \rReceiving objects:  87% (264/303)   \rremote: Total 303 (delta 30), reused 0 (delta 0), pack-reused 240\u001b[K\n",
            "Receiving objects:  88% (267/303)   \rReceiving objects:  89% (270/303)   \rReceiving objects:  90% (273/303)   \rReceiving objects:  91% (276/303)   \rReceiving objects:  92% (279/303)   \rReceiving objects:  93% (282/303)   \rReceiving objects:  94% (285/303)   \rReceiving objects:  95% (288/303)   \rReceiving objects:  96% (291/303)   \rReceiving objects:  97% (294/303)   \rReceiving objects:  98% (297/303)   \rReceiving objects:  99% (300/303)   \rReceiving objects: 100% (303/303)   \rReceiving objects: 100% (303/303), 694.94 KiB | 2.72 MiB/s, done.\n",
            "Resolving deltas:   0% (0/138)   \rResolving deltas:  15% (21/138)   \rResolving deltas:  16% (23/138)   \rResolving deltas:  26% (36/138)   \rResolving deltas:  27% (38/138)   \rResolving deltas:  28% (39/138)   \rResolving deltas:  30% (42/138)   \rResolving deltas:  47% (65/138)   \rResolving deltas:  50% (69/138)   \rResolving deltas:  52% (72/138)   \rResolving deltas:  53% (74/138)   \rResolving deltas:  55% (76/138)   \rResolving deltas:  57% (79/138)   \rResolving deltas:  67% (93/138)   \rResolving deltas:  68% (94/138)   \rResolving deltas:  72% (100/138)   \rResolving deltas:  83% (115/138)   \rResolving deltas:  85% (118/138)   \rResolving deltas:  92% (128/138)   \rResolving deltas:  93% (129/138)   \rResolving deltas:  94% (131/138)   \rResolving deltas:  95% (132/138)   \rResolving deltas:  97% (135/138)   \rResolving deltas: 100% (138/138)   \rResolving deltas: 100% (138/138), done.\n"
          ],
          "name": "stdout"
        }
      ]
    },
    {
      "metadata": {
        "id": "g1NpP5jtlH5r",
        "colab_type": "code",
        "colab": {}
      },
      "cell_type": "code",
      "source": [
        "import pandas as pd"
      ],
      "execution_count": 0,
      "outputs": []
    },
    {
      "metadata": {
        "id": "vgRnsjiMlJvN",
        "colab_type": "code",
        "outputId": "487dd7ff-bcf6-4da7-df4c-5ca8a9abf428",
        "colab": {
          "base_uri": "https://localhost:8080/",
          "height": 34
        }
      },
      "cell_type": "code",
      "source": [
        "%cd ./kansepur-flyash-project/1-14-feb-bill5/"
      ],
      "execution_count": 89,
      "outputs": [
        {
          "output_type": "stream",
          "text": [
            "/content/kansepur-flyash-project/1-14-feb-bill5/kansepur-flyash-project/1-14-feb-bill5\n"
          ],
          "name": "stdout"
        }
      ]
    },
    {
      "metadata": {
        "id": "B6lL48hFlOrB",
        "colab_type": "code",
        "outputId": "d8ac4906-d6b7-4d36-d75d-507cb2cc2d13",
        "colab": {
          "base_uri": "https://localhost:8080/",
          "height": 34
        }
      },
      "cell_type": "code",
      "source": [
        "!ls"
      ],
      "execution_count": 90,
      "outputs": [
        {
          "output_type": "stream",
          "text": [
            "1_14_feb_bill5.ipynb  1_14_feb_bill.xlsx\n"
          ],
          "name": "stdout"
        }
      ]
    },
    {
      "metadata": {
        "id": "THAUXyC0lPYh",
        "colab_type": "code",
        "outputId": "14445085-2893-4253-eeb4-0a65fb62b2e5",
        "colab": {
          "base_uri": "https://localhost:8080/",
          "height": 204
        }
      },
      "cell_type": "code",
      "source": [
        "df = pd.read_excel('1_14_feb_bill.xlsx', 'Sheet1')\n",
        "df.head()"
      ],
      "execution_count": 91,
      "outputs": [
        {
          "output_type": "execute_result",
          "data": {
            "text/html": [
              "<div>\n",
              "<style scoped>\n",
              "    .dataframe tbody tr th:only-of-type {\n",
              "        vertical-align: middle;\n",
              "    }\n",
              "\n",
              "    .dataframe tbody tr th {\n",
              "        vertical-align: top;\n",
              "    }\n",
              "\n",
              "    .dataframe thead th {\n",
              "        text-align: right;\n",
              "    }\n",
              "</style>\n",
              "<table border=\"1\" class=\"dataframe\">\n",
              "  <thead>\n",
              "    <tr style=\"text-align: right;\">\n",
              "      <th></th>\n",
              "      <th>S.No.</th>\n",
              "      <th>Date</th>\n",
              "      <th>Counts</th>\n",
              "      <th>Name</th>\n",
              "      <th>Quantity</th>\n",
              "      <th>Diesel</th>\n",
              "    </tr>\n",
              "  </thead>\n",
              "  <tbody>\n",
              "    <tr>\n",
              "      <th>0</th>\n",
              "      <td>1.0</td>\n",
              "      <td>2019-02-01</td>\n",
              "      <td>1.0</td>\n",
              "      <td>khurseed</td>\n",
              "      <td>455</td>\n",
              "      <td>NaN</td>\n",
              "    </tr>\n",
              "    <tr>\n",
              "      <th>1</th>\n",
              "      <td>2.0</td>\n",
              "      <td>NaT</td>\n",
              "      <td>2.0</td>\n",
              "      <td>momin</td>\n",
              "      <td>415</td>\n",
              "      <td>NaN</td>\n",
              "    </tr>\n",
              "    <tr>\n",
              "      <th>2</th>\n",
              "      <td>3.0</td>\n",
              "      <td>NaT</td>\n",
              "      <td>3.0</td>\n",
              "      <td>jabir</td>\n",
              "      <td>419</td>\n",
              "      <td>NaN</td>\n",
              "    </tr>\n",
              "    <tr>\n",
              "      <th>3</th>\n",
              "      <td>4.0</td>\n",
              "      <td>NaT</td>\n",
              "      <td>4.0</td>\n",
              "      <td>farookh</td>\n",
              "      <td>420</td>\n",
              "      <td>NaN</td>\n",
              "    </tr>\n",
              "    <tr>\n",
              "      <th>4</th>\n",
              "      <td>5.0</td>\n",
              "      <td>NaT</td>\n",
              "      <td>5.0</td>\n",
              "      <td>haseen</td>\n",
              "      <td>496</td>\n",
              "      <td>NaN</td>\n",
              "    </tr>\n",
              "  </tbody>\n",
              "</table>\n",
              "</div>"
            ],
            "text/plain": [
              "   S.No.       Date  Counts      Name  Quantity  Diesel\n",
              "0    1.0 2019-02-01     1.0  khurseed       455     NaN\n",
              "1    2.0        NaT     2.0     momin       415     NaN\n",
              "2    3.0        NaT     3.0     jabir       419     NaN\n",
              "3    4.0        NaT     4.0   farookh       420     NaN\n",
              "4    5.0        NaT     5.0    haseen       496     NaN"
            ]
          },
          "metadata": {
            "tags": []
          },
          "execution_count": 91
        }
      ]
    },
    {
      "metadata": {
        "id": "e1gUo92O-r5c",
        "colab_type": "code",
        "outputId": "d3f6e5f2-4e4c-44d2-abd5-a76c784de63e",
        "colab": {
          "base_uri": "https://localhost:8080/",
          "height": 111
        }
      },
      "cell_type": "code",
      "source": [
        "df.tail(2)"
      ],
      "execution_count": 92,
      "outputs": [
        {
          "output_type": "execute_result",
          "data": {
            "text/html": [
              "<div>\n",
              "<style scoped>\n",
              "    .dataframe tbody tr th:only-of-type {\n",
              "        vertical-align: middle;\n",
              "    }\n",
              "\n",
              "    .dataframe tbody tr th {\n",
              "        vertical-align: top;\n",
              "    }\n",
              "\n",
              "    .dataframe thead th {\n",
              "        text-align: right;\n",
              "    }\n",
              "</style>\n",
              "<table border=\"1\" class=\"dataframe\">\n",
              "  <thead>\n",
              "    <tr style=\"text-align: right;\">\n",
              "      <th></th>\n",
              "      <th>S.No.</th>\n",
              "      <th>Date</th>\n",
              "      <th>Counts</th>\n",
              "      <th>Name</th>\n",
              "      <th>Quantity</th>\n",
              "      <th>Diesel</th>\n",
              "    </tr>\n",
              "  </thead>\n",
              "  <tbody>\n",
              "    <tr>\n",
              "      <th>270</th>\n",
              "      <td>271.0</td>\n",
              "      <td>2019-02-14</td>\n",
              "      <td>NaN</td>\n",
              "      <td>jabir</td>\n",
              "      <td>419</td>\n",
              "      <td>NaN</td>\n",
              "    </tr>\n",
              "    <tr>\n",
              "      <th>271</th>\n",
              "      <td>NaN</td>\n",
              "      <td>NaT</td>\n",
              "      <td>NaN</td>\n",
              "      <td>NaN</td>\n",
              "      <td>120389</td>\n",
              "      <td>NaN</td>\n",
              "    </tr>\n",
              "  </tbody>\n",
              "</table>\n",
              "</div>"
            ],
            "text/plain": [
              "     S.No.       Date  Counts   Name  Quantity  Diesel\n",
              "270  271.0 2019-02-14     NaN  jabir       419     NaN\n",
              "271    NaN        NaT     NaN    NaN    120389     NaN"
            ]
          },
          "metadata": {
            "tags": []
          },
          "execution_count": 92
        }
      ]
    },
    {
      "metadata": {
        "id": "oUmdiUIj-xel",
        "colab_type": "code",
        "outputId": "573e53d6-d3a0-446b-dc20-d294813929dd",
        "colab": {
          "base_uri": "https://localhost:8080/",
          "height": 80
        }
      },
      "cell_type": "code",
      "source": [
        "df = df[:-1]\n",
        "df.tail(1)"
      ],
      "execution_count": 93,
      "outputs": [
        {
          "output_type": "execute_result",
          "data": {
            "text/html": [
              "<div>\n",
              "<style scoped>\n",
              "    .dataframe tbody tr th:only-of-type {\n",
              "        vertical-align: middle;\n",
              "    }\n",
              "\n",
              "    .dataframe tbody tr th {\n",
              "        vertical-align: top;\n",
              "    }\n",
              "\n",
              "    .dataframe thead th {\n",
              "        text-align: right;\n",
              "    }\n",
              "</style>\n",
              "<table border=\"1\" class=\"dataframe\">\n",
              "  <thead>\n",
              "    <tr style=\"text-align: right;\">\n",
              "      <th></th>\n",
              "      <th>S.No.</th>\n",
              "      <th>Date</th>\n",
              "      <th>Counts</th>\n",
              "      <th>Name</th>\n",
              "      <th>Quantity</th>\n",
              "      <th>Diesel</th>\n",
              "    </tr>\n",
              "  </thead>\n",
              "  <tbody>\n",
              "    <tr>\n",
              "      <th>270</th>\n",
              "      <td>271.0</td>\n",
              "      <td>2019-02-14</td>\n",
              "      <td>NaN</td>\n",
              "      <td>jabir</td>\n",
              "      <td>419</td>\n",
              "      <td>NaN</td>\n",
              "    </tr>\n",
              "  </tbody>\n",
              "</table>\n",
              "</div>"
            ],
            "text/plain": [
              "     S.No.       Date  Counts   Name  Quantity  Diesel\n",
              "270  271.0 2019-02-14     NaN  jabir       419     NaN"
            ]
          },
          "metadata": {
            "tags": []
          },
          "execution_count": 93
        }
      ]
    },
    {
      "metadata": {
        "id": "vYJmIHd8lWZY",
        "colab_type": "code",
        "outputId": "1c448b8f-89c0-4a41-ee2b-8af1718383ac",
        "colab": {
          "base_uri": "https://localhost:8080/",
          "height": 204
        }
      },
      "cell_type": "code",
      "source": [
        "df.info()"
      ],
      "execution_count": 94,
      "outputs": [
        {
          "output_type": "stream",
          "text": [
            "<class 'pandas.core.frame.DataFrame'>\n",
            "RangeIndex: 271 entries, 0 to 270\n",
            "Data columns (total 6 columns):\n",
            "S.No.       271 non-null float64\n",
            "Date        10 non-null datetime64[ns]\n",
            "Counts      270 non-null float64\n",
            "Name        271 non-null object\n",
            "Quantity    271 non-null int64\n",
            "Diesel      0 non-null float64\n",
            "dtypes: datetime64[ns](1), float64(3), int64(1), object(1)\n",
            "memory usage: 12.8+ KB\n"
          ],
          "name": "stdout"
        }
      ]
    },
    {
      "metadata": {
        "id": "vZ9H0uvuAxf5",
        "colab_type": "code",
        "outputId": "39615b4c-1ddc-496e-98c2-b036ecf3cfdf",
        "colab": {
          "base_uri": "https://localhost:8080/",
          "height": 204
        }
      },
      "cell_type": "code",
      "source": [
        "unique_dates = df.Date.unique()\n",
        "unique_dates = pd.Series(unique_dates).dropna()\n",
        "print(unique_dates)"
      ],
      "execution_count": 95,
      "outputs": [
        {
          "output_type": "stream",
          "text": [
            "0    2019-02-01\n",
            "2    2019-02-02\n",
            "3    2019-02-05\n",
            "4    2019-02-06\n",
            "5    2019-02-07\n",
            "6    2019-02-10\n",
            "7    2019-02-11\n",
            "8    2019-02-12\n",
            "9    2019-02-13\n",
            "10   2019-02-14\n",
            "dtype: datetime64[ns]\n"
          ],
          "name": "stdout"
        }
      ]
    },
    {
      "metadata": {
        "id": "yOdejLAFA7j1",
        "colab_type": "code",
        "outputId": "74212237-dcbf-4706-cb95-6a554f3ac929",
        "colab": {
          "base_uri": "https://localhost:8080/",
          "height": 34
        }
      },
      "cell_type": "code",
      "source": [
        "df.Date.nunique()"
      ],
      "execution_count": 96,
      "outputs": [
        {
          "output_type": "execute_result",
          "data": {
            "text/plain": [
              "10"
            ]
          },
          "metadata": {
            "tags": []
          },
          "execution_count": 96
        }
      ]
    },
    {
      "metadata": {
        "id": "TTiF585xBBNC",
        "colab_type": "code",
        "outputId": "9301d125-2b5e-4dd8-e6b6-d1238c9db7d0",
        "colab": {
          "base_uri": "https://localhost:8080/",
          "height": 204
        }
      },
      "cell_type": "code",
      "source": [
        "df.Date.value_counts()"
      ],
      "execution_count": 97,
      "outputs": [
        {
          "output_type": "execute_result",
          "data": {
            "text/plain": [
              "2019-02-07    1\n",
              "2019-02-10    1\n",
              "2019-02-13    1\n",
              "2019-02-02    1\n",
              "2019-02-05    1\n",
              "2019-02-11    1\n",
              "2019-02-14    1\n",
              "2019-02-06    1\n",
              "2019-02-12    1\n",
              "2019-02-01    1\n",
              "Name: Date, dtype: int64"
            ]
          },
          "metadata": {
            "tags": []
          },
          "execution_count": 97
        }
      ]
    },
    {
      "metadata": {
        "id": "uXqNsOzRDDSf",
        "colab_type": "code",
        "colab": {}
      },
      "cell_type": "code",
      "source": [
        "import numpy as np"
      ],
      "execution_count": 0,
      "outputs": []
    },
    {
      "metadata": {
        "id": "jsPDiLK9mCMB",
        "colab_type": "code",
        "outputId": "93dcecea-c4ef-4121-8a5e-7de2563ce6a8",
        "colab": {
          "base_uri": "https://localhost:8080/",
          "height": 85
        }
      },
      "cell_type": "code",
      "source": [
        "df.Name.unique()"
      ],
      "execution_count": 99,
      "outputs": [
        {
          "output_type": "execute_result",
          "data": {
            "text/plain": [
              "array(['khurseed', 'momin', 'jabir', 'farookh', 'haseen', 'rasid',\n",
              "       'isran', 'aarif', 'hasan', 'rafakat', 'shokeen', 'amjad', 'toheed',\n",
              "       'shabir', 'aashu', 'mehmood', 'mustakim', 'gulfam', 'wajid',\n",
              "       'irsad'], dtype=object)"
            ]
          },
          "metadata": {
            "tags": []
          },
          "execution_count": 99
        }
      ]
    },
    {
      "metadata": {
        "id": "cJArT99yo39E",
        "colab_type": "code",
        "outputId": "ef7aa433-8f64-4b85-9401-3786198b5e69",
        "colab": {
          "base_uri": "https://localhost:8080/",
          "height": 34
        }
      },
      "cell_type": "code",
      "source": [
        "total_quantity = sum(df.Quantity)\n",
        "total_quantity"
      ],
      "execution_count": 100,
      "outputs": [
        {
          "output_type": "execute_result",
          "data": {
            "text/plain": [
              "120389"
            ]
          },
          "metadata": {
            "tags": []
          },
          "execution_count": 100
        }
      ]
    },
    {
      "metadata": {
        "id": "KDfUKDebnJUR",
        "colab_type": "code",
        "outputId": "2f0b9512-fb6b-4c34-a4c3-bb95234828a4",
        "colab": {
          "base_uri": "https://localhost:8080/",
          "height": 374
        }
      },
      "cell_type": "code",
      "source": [
        "rounds_per_name = df.Name.value_counts()\n",
        "rounds_per_name"
      ],
      "execution_count": 101,
      "outputs": [
        {
          "output_type": "execute_result",
          "data": {
            "text/plain": [
              "jabir       25\n",
              "khurseed    21\n",
              "haseen      20\n",
              "momin       17\n",
              "isran       17\n",
              "aarif       17\n",
              "hasan       16\n",
              "rasid       16\n",
              "mustakim    15\n",
              "toheed      15\n",
              "mehmood     15\n",
              "wajid       13\n",
              "farookh     13\n",
              "amjad       12\n",
              "shokeen     11\n",
              "gulfam      10\n",
              "irsad        9\n",
              "rafakat      4\n",
              "shabir       3\n",
              "aashu        2\n",
              "Name: Name, dtype: int64"
            ]
          },
          "metadata": {
            "tags": []
          },
          "execution_count": 101
        }
      ]
    },
    {
      "metadata": {
        "id": "vegaPxckns74",
        "colab_type": "text"
      },
      "cell_type": "markdown",
      "source": [
        "## unique feets per name"
      ]
    },
    {
      "metadata": {
        "id": "-ITvOwaBwJ1t",
        "colab_type": "code",
        "outputId": "9d6b1d94-8130-4396-a9bc-7b4ae5eba62d",
        "colab": {
          "base_uri": "https://localhost:8080/",
          "height": 34
        }
      },
      "cell_type": "code",
      "source": [
        "group = df.groupby(df.Name)\n",
        "group"
      ],
      "execution_count": 102,
      "outputs": [
        {
          "output_type": "execute_result",
          "data": {
            "text/plain": [
              "<pandas.core.groupby.DataFrameGroupBy object at 0x7f193fd415f8>"
            ]
          },
          "metadata": {
            "tags": []
          },
          "execution_count": 102
        }
      ]
    },
    {
      "metadata": {
        "id": "R0pQUd6CZ4Eg",
        "colab_type": "code",
        "colab": {
          "base_uri": "https://localhost:8080/",
          "height": 5644
        },
        "outputId": "33ea8704-91a9-4721-eafc-88325a505b32"
      },
      "cell_type": "code",
      "source": [
        "for i, j in group:\n",
        "  print(i, '\\n', j.Quantity, '\\n')  "
      ],
      "execution_count": 103,
      "outputs": [
        {
          "output_type": "stream",
          "text": [
            "aarif \n",
            " 7      416\n",
            "21     416\n",
            "28     416\n",
            "46     416\n",
            "54     416\n",
            "63     416\n",
            "75     416\n",
            "85     416\n",
            "98     416\n",
            "118    416\n",
            "169    416\n",
            "184    416\n",
            "199    416\n",
            "208    416\n",
            "214    416\n",
            "226    416\n",
            "258    416\n",
            "Name: Quantity, dtype: int64 \n",
            "\n",
            "aashu \n",
            " 15    430\n",
            "26    430\n",
            "Name: Quantity, dtype: int64 \n",
            "\n",
            "amjad \n",
            " 11     411\n",
            "32     411\n",
            "44     411\n",
            "57     411\n",
            "64     411\n",
            "79     411\n",
            "90     411\n",
            "100    411\n",
            "119    411\n",
            "222    411\n",
            "235    411\n",
            "250    411\n",
            "Name: Quantity, dtype: int64 \n",
            "\n",
            "farookh \n",
            " 3      420\n",
            "24     420\n",
            "35     420\n",
            "111    420\n",
            "127    420\n",
            "142    420\n",
            "152    420\n",
            "168    420\n",
            "191    420\n",
            "213    420\n",
            "227    420\n",
            "241    420\n",
            "257    420\n",
            "Name: Quantity, dtype: int64 \n",
            "\n",
            "gulfam \n",
            " 76     500\n",
            "91     500\n",
            "114    500\n",
            "129    500\n",
            "144    480\n",
            "176    500\n",
            "221    500\n",
            "238    500\n",
            "247    500\n",
            "255    500\n",
            "Name: Quantity, dtype: int64 \n",
            "\n",
            "hasan \n",
            " 8      538\n",
            "22     538\n",
            "41     538\n",
            "50     538\n",
            "80     538\n",
            "89     538\n",
            "102    538\n",
            "112    538\n",
            "134    538\n",
            "175    538\n",
            "194    538\n",
            "206    538\n",
            "215    538\n",
            "230    538\n",
            "245    538\n",
            "261    518\n",
            "Name: Quantity, dtype: int64 \n",
            "\n",
            "haseen \n",
            " 4      496\n",
            "18     496\n",
            "27     496\n",
            "52     496\n",
            "61     496\n",
            "78     496\n",
            "93     496\n",
            "104    496\n",
            "121    496\n",
            "125    496\n",
            "138    496\n",
            "149    496\n",
            "160    496\n",
            "173    496\n",
            "187    496\n",
            "202    496\n",
            "220    496\n",
            "233    496\n",
            "246    496\n",
            "263    496\n",
            "Name: Quantity, dtype: int64 \n",
            "\n",
            "irsad \n",
            " 106    435\n",
            "122    435\n",
            "182    435\n",
            "196    435\n",
            "207    415\n",
            "224    435\n",
            "237    435\n",
            "252    435\n",
            "262    415\n",
            "Name: Quantity, dtype: int64 \n",
            "\n",
            "isran \n",
            " 6      470\n",
            "43     470\n",
            "55     470\n",
            "67     470\n",
            "73     470\n",
            "84     470\n",
            "99     470\n",
            "117    470\n",
            "135    470\n",
            "146    470\n",
            "157    470\n",
            "171    470\n",
            "185    470\n",
            "217    470\n",
            "228    470\n",
            "248    470\n",
            "266    470\n",
            "Name: Quantity, dtype: int64 \n",
            "\n",
            "jabir \n",
            " 2      419\n",
            "14     419\n",
            "25     419\n",
            "39     419\n",
            "58     419\n",
            "66     419\n",
            "72     419\n",
            "83     419\n",
            "94     419\n",
            "105    419\n",
            "110    419\n",
            "123    399\n",
            "128    419\n",
            "137    419\n",
            "147    419\n",
            "158    419\n",
            "167    419\n",
            "181    419\n",
            "212    419\n",
            "225    419\n",
            "239    419\n",
            "242    419\n",
            "253    419\n",
            "264    419\n",
            "270    419\n",
            "Name: Quantity, dtype: int64 \n",
            "\n",
            "khurseed \n",
            " 0      455\n",
            "20     455\n",
            "33     455\n",
            "42     455\n",
            "49     455\n",
            "60     455\n",
            "69     435\n",
            "77     455\n",
            "88     455\n",
            "96     455\n",
            "116    455\n",
            "132    455\n",
            "141    435\n",
            "153    455\n",
            "170    455\n",
            "186    455\n",
            "198    455\n",
            "210    455\n",
            "216    455\n",
            "234    455\n",
            "259    455\n",
            "Name: Quantity, dtype: int64 \n",
            "\n",
            "mehmood \n",
            " 37     538\n",
            "40     430\n",
            "59     538\n",
            "70     496\n",
            "107    410\n",
            "108    455\n",
            "161    420\n",
            "162    455\n",
            "164    405\n",
            "172    410\n",
            "188    500\n",
            "200    470\n",
            "205    453\n",
            "267    405\n",
            "268    500\n",
            "Name: Quantity, dtype: int64 \n",
            "\n",
            "momin \n",
            " 1      415\n",
            "17     415\n",
            "31     415\n",
            "51     415\n",
            "65     415\n",
            "81     415\n",
            "92     415\n",
            "130    415\n",
            "139    405\n",
            "151    415\n",
            "163    415\n",
            "174    415\n",
            "189    415\n",
            "218    415\n",
            "232    415\n",
            "244    415\n",
            "265    415\n",
            "Name: Quantity, dtype: int64 \n",
            "\n",
            "mustakim \n",
            " 71     405\n",
            "86     405\n",
            "97     405\n",
            "109    405\n",
            "126    405\n",
            "140    405\n",
            "155    405\n",
            "166    405\n",
            "183    405\n",
            "197    405\n",
            "209    405\n",
            "211    405\n",
            "229    405\n",
            "240    405\n",
            "254    405\n",
            "Name: Quantity, dtype: int64 \n",
            "\n",
            "rafakat \n",
            " 9     538\n",
            "16    538\n",
            "30    538\n",
            "62    538\n",
            "Name: Quantity, dtype: int64 \n",
            "\n",
            "rasid \n",
            " 5      410\n",
            "19     410\n",
            "29     410\n",
            "48     410\n",
            "56     410\n",
            "68     410\n",
            "74     410\n",
            "87     410\n",
            "95     410\n",
            "113    410\n",
            "124    410\n",
            "136    390\n",
            "148    410\n",
            "180    410\n",
            "193    410\n",
            "204    410\n",
            "Name: Quantity, dtype: int64 \n",
            "\n",
            "shabir \n",
            " 13    470\n",
            "23    470\n",
            "34    470\n",
            "Name: Quantity, dtype: int64 \n",
            "\n",
            "shokeen \n",
            " 10     453\n",
            "38     453\n",
            "45     453\n",
            "131    453\n",
            "143    453\n",
            "154    453\n",
            "165    453\n",
            "179    453\n",
            "195    453\n",
            "243    453\n",
            "260    453\n",
            "Name: Quantity, dtype: int64 \n",
            "\n",
            "toheed \n",
            " 12     320\n",
            "36     320\n",
            "47     320\n",
            "53     320\n",
            "101    455\n",
            "120    405\n",
            "133    455\n",
            "145    445\n",
            "156    445\n",
            "178    455\n",
            "190    455\n",
            "203    455\n",
            "223    455\n",
            "231    455\n",
            "251    455\n",
            "Name: Quantity, dtype: int64 \n",
            "\n",
            "wajid \n",
            " 82     419\n",
            "103    419\n",
            "115    409\n",
            "150    419\n",
            "159    419\n",
            "177    419\n",
            "192    419\n",
            "201    419\n",
            "219    419\n",
            "236    419\n",
            "249    419\n",
            "256    419\n",
            "269    419\n",
            "Name: Quantity, dtype: int64 \n",
            "\n"
          ],
          "name": "stdout"
        }
      ]
    },
    {
      "metadata": {
        "id": "ndW_Qg-IwSkJ",
        "colab_type": "code",
        "outputId": "cd223464-b40b-4cc4-c9c6-6cfc7cfc030f",
        "colab": {
          "base_uri": "https://localhost:8080/",
          "height": 697
        }
      },
      "cell_type": "code",
      "source": [
        "for i, j in group:\n",
        "  print(i, j.Quantity.unique(), '\\n')"
      ],
      "execution_count": 104,
      "outputs": [
        {
          "output_type": "stream",
          "text": [
            "aarif [416] \n",
            "\n",
            "aashu [430] \n",
            "\n",
            "amjad [411] \n",
            "\n",
            "farookh [420] \n",
            "\n",
            "gulfam [500 480] \n",
            "\n",
            "hasan [538 518] \n",
            "\n",
            "haseen [496] \n",
            "\n",
            "irsad [435 415] \n",
            "\n",
            "isran [470] \n",
            "\n",
            "jabir [419 399] \n",
            "\n",
            "khurseed [455 435] \n",
            "\n",
            "mehmood [538 430 496 410 455 420 405 500 470 453] \n",
            "\n",
            "momin [415 405] \n",
            "\n",
            "mustakim [405] \n",
            "\n",
            "rafakat [538] \n",
            "\n",
            "rasid [410 390] \n",
            "\n",
            "shabir [470] \n",
            "\n",
            "shokeen [453] \n",
            "\n",
            "toheed [320 455 405 445] \n",
            "\n",
            "wajid [419 409] \n",
            "\n"
          ],
          "name": "stdout"
        }
      ]
    },
    {
      "metadata": {
        "id": "0y2uPtUlJ6jo",
        "colab_type": "text"
      },
      "cell_type": "markdown",
      "source": [
        "# Diesel"
      ]
    },
    {
      "metadata": {
        "id": "O5znZR4bJ8Ri",
        "colab_type": "code",
        "outputId": "56e8178e-e17f-4d23-dcc6-38f3b22842e9",
        "colab": {
          "base_uri": "https://localhost:8080/",
          "height": 204
        }
      },
      "cell_type": "code",
      "source": [
        "diesel = pd.read_excel('1_14_feb_bill.xlsx', 'Diesel')\n",
        "diesel.head()"
      ],
      "execution_count": 105,
      "outputs": [
        {
          "output_type": "execute_result",
          "data": {
            "text/html": [
              "<div>\n",
              "<style scoped>\n",
              "    .dataframe tbody tr th:only-of-type {\n",
              "        vertical-align: middle;\n",
              "    }\n",
              "\n",
              "    .dataframe tbody tr th {\n",
              "        vertical-align: top;\n",
              "    }\n",
              "\n",
              "    .dataframe thead th {\n",
              "        text-align: right;\n",
              "    }\n",
              "</style>\n",
              "<table border=\"1\" class=\"dataframe\">\n",
              "  <thead>\n",
              "    <tr style=\"text-align: right;\">\n",
              "      <th></th>\n",
              "      <th>Date</th>\n",
              "      <th>Name</th>\n",
              "      <th>Diesel</th>\n",
              "      <th>cash</th>\n",
              "    </tr>\n",
              "  </thead>\n",
              "  <tbody>\n",
              "    <tr>\n",
              "      <th>0</th>\n",
              "      <td>2019-02-01</td>\n",
              "      <td>hasan</td>\n",
              "      <td>2000</td>\n",
              "      <td>NaN</td>\n",
              "    </tr>\n",
              "    <tr>\n",
              "      <th>1</th>\n",
              "      <td>NaT</td>\n",
              "      <td>aarif</td>\n",
              "      <td>2000</td>\n",
              "      <td>NaN</td>\n",
              "    </tr>\n",
              "    <tr>\n",
              "      <th>2</th>\n",
              "      <td>NaT</td>\n",
              "      <td>jabir</td>\n",
              "      <td>2000</td>\n",
              "      <td>NaN</td>\n",
              "    </tr>\n",
              "    <tr>\n",
              "      <th>3</th>\n",
              "      <td>NaT</td>\n",
              "      <td>aashu</td>\n",
              "      <td>1500</td>\n",
              "      <td>1000.0</td>\n",
              "    </tr>\n",
              "    <tr>\n",
              "      <th>4</th>\n",
              "      <td>NaT</td>\n",
              "      <td>rasid</td>\n",
              "      <td>1500</td>\n",
              "      <td>NaN</td>\n",
              "    </tr>\n",
              "  </tbody>\n",
              "</table>\n",
              "</div>"
            ],
            "text/plain": [
              "        Date   Name  Diesel    cash\n",
              "0 2019-02-01  hasan    2000     NaN\n",
              "1        NaT  aarif    2000     NaN\n",
              "2        NaT  jabir    2000     NaN\n",
              "3        NaT  aashu    1500  1000.0\n",
              "4        NaT  rasid    1500     NaN"
            ]
          },
          "metadata": {
            "tags": []
          },
          "execution_count": 105
        }
      ]
    },
    {
      "metadata": {
        "id": "aNms0DItMFZ8",
        "colab_type": "code",
        "outputId": "f9a79d2f-aed8-4ed8-ad24-6870f1ea4dad",
        "colab": {
          "base_uri": "https://localhost:8080/",
          "height": 34
        }
      },
      "cell_type": "code",
      "source": [
        "diesel.shape"
      ],
      "execution_count": 106,
      "outputs": [
        {
          "output_type": "execute_result",
          "data": {
            "text/plain": [
              "(125, 4)"
            ]
          },
          "metadata": {
            "tags": []
          },
          "execution_count": 106
        }
      ]
    },
    {
      "metadata": {
        "id": "FtBbwdi6GaOe",
        "colab_type": "code",
        "outputId": "fb6e32a7-7e19-4b26-9390-d120e472fd41",
        "colab": {
          "base_uri": "https://localhost:8080/",
          "height": 119
        }
      },
      "cell_type": "code",
      "source": [
        "diesel.Date.unique()"
      ],
      "execution_count": 107,
      "outputs": [
        {
          "output_type": "execute_result",
          "data": {
            "text/plain": [
              "array(['2019-02-01T00:00:00.000000000',                           'NaT',\n",
              "       '2019-02-02T00:00:00.000000000', '2019-02-05T00:00:00.000000000',\n",
              "       '2019-02-06T00:00:00.000000000', '2019-02-07T00:00:00.000000000',\n",
              "       '2019-02-10T00:00:00.000000000', '2019-02-11T00:00:00.000000000',\n",
              "       '2019-02-12T00:00:00.000000000', '2019-02-13T00:00:00.000000000'],\n",
              "      dtype='datetime64[ns]')"
            ]
          },
          "metadata": {
            "tags": []
          },
          "execution_count": 107
        }
      ]
    },
    {
      "metadata": {
        "id": "n6yM4M_2GZJH",
        "colab_type": "code",
        "colab": {}
      },
      "cell_type": "code",
      "source": [
        "for n, i in enumerate(diesel.Date.values):\n",
        "  if not pd.isnull(i):\n",
        "    date = i\n",
        "  else:\n",
        "    diesel.iloc[n, 0] = date"
      ],
      "execution_count": 0,
      "outputs": []
    },
    {
      "metadata": {
        "id": "4iSR7MyjHAQf",
        "colab_type": "code",
        "outputId": "fe5b98d5-0aa4-42e8-9dfe-19112e6abc92",
        "colab": {
          "base_uri": "https://localhost:8080/",
          "height": 204
        }
      },
      "cell_type": "code",
      "source": [
        "diesel.head()"
      ],
      "execution_count": 109,
      "outputs": [
        {
          "output_type": "execute_result",
          "data": {
            "text/html": [
              "<div>\n",
              "<style scoped>\n",
              "    .dataframe tbody tr th:only-of-type {\n",
              "        vertical-align: middle;\n",
              "    }\n",
              "\n",
              "    .dataframe tbody tr th {\n",
              "        vertical-align: top;\n",
              "    }\n",
              "\n",
              "    .dataframe thead th {\n",
              "        text-align: right;\n",
              "    }\n",
              "</style>\n",
              "<table border=\"1\" class=\"dataframe\">\n",
              "  <thead>\n",
              "    <tr style=\"text-align: right;\">\n",
              "      <th></th>\n",
              "      <th>Date</th>\n",
              "      <th>Name</th>\n",
              "      <th>Diesel</th>\n",
              "      <th>cash</th>\n",
              "    </tr>\n",
              "  </thead>\n",
              "  <tbody>\n",
              "    <tr>\n",
              "      <th>0</th>\n",
              "      <td>2019-02-01</td>\n",
              "      <td>hasan</td>\n",
              "      <td>2000</td>\n",
              "      <td>NaN</td>\n",
              "    </tr>\n",
              "    <tr>\n",
              "      <th>1</th>\n",
              "      <td>2019-02-01</td>\n",
              "      <td>aarif</td>\n",
              "      <td>2000</td>\n",
              "      <td>NaN</td>\n",
              "    </tr>\n",
              "    <tr>\n",
              "      <th>2</th>\n",
              "      <td>2019-02-01</td>\n",
              "      <td>jabir</td>\n",
              "      <td>2000</td>\n",
              "      <td>NaN</td>\n",
              "    </tr>\n",
              "    <tr>\n",
              "      <th>3</th>\n",
              "      <td>2019-02-01</td>\n",
              "      <td>aashu</td>\n",
              "      <td>1500</td>\n",
              "      <td>1000.0</td>\n",
              "    </tr>\n",
              "    <tr>\n",
              "      <th>4</th>\n",
              "      <td>2019-02-01</td>\n",
              "      <td>rasid</td>\n",
              "      <td>1500</td>\n",
              "      <td>NaN</td>\n",
              "    </tr>\n",
              "  </tbody>\n",
              "</table>\n",
              "</div>"
            ],
            "text/plain": [
              "        Date   Name  Diesel    cash\n",
              "0 2019-02-01  hasan    2000     NaN\n",
              "1 2019-02-01  aarif    2000     NaN\n",
              "2 2019-02-01  jabir    2000     NaN\n",
              "3 2019-02-01  aashu    1500  1000.0\n",
              "4 2019-02-01  rasid    1500     NaN"
            ]
          },
          "metadata": {
            "tags": []
          },
          "execution_count": 109
        }
      ]
    },
    {
      "metadata": {
        "id": "-rLhXMKrHTRe",
        "colab_type": "text"
      },
      "cell_type": "markdown",
      "source": [
        "# pivot table"
      ]
    },
    {
      "metadata": {
        "id": "605hniozHVuB",
        "colab_type": "code",
        "outputId": "5b07de3e-ddfa-4c6a-dbe4-4601abd49ef5",
        "colab": {
          "base_uri": "https://localhost:8080/",
          "height": 841
        }
      },
      "cell_type": "code",
      "source": [
        "pivot_diesel = diesel.pivot_table(index = 'Name', columns = 'Date', values = 'Diesel')\n",
        "pivot_diesel"
      ],
      "execution_count": 110,
      "outputs": [
        {
          "output_type": "execute_result",
          "data": {
            "text/html": [
              "<div>\n",
              "<style scoped>\n",
              "    .dataframe tbody tr th:only-of-type {\n",
              "        vertical-align: middle;\n",
              "    }\n",
              "\n",
              "    .dataframe tbody tr th {\n",
              "        vertical-align: top;\n",
              "    }\n",
              "\n",
              "    .dataframe thead th {\n",
              "        text-align: right;\n",
              "    }\n",
              "</style>\n",
              "<table border=\"1\" class=\"dataframe\">\n",
              "  <thead>\n",
              "    <tr style=\"text-align: right;\">\n",
              "      <th>Date</th>\n",
              "      <th>2019-02-01 00:00:00</th>\n",
              "      <th>2019-02-02 00:00:00</th>\n",
              "      <th>2019-02-05 00:00:00</th>\n",
              "      <th>2019-02-06 00:00:00</th>\n",
              "      <th>2019-02-07 00:00:00</th>\n",
              "      <th>2019-02-10 00:00:00</th>\n",
              "      <th>2019-02-11 00:00:00</th>\n",
              "      <th>2019-02-12 00:00:00</th>\n",
              "      <th>2019-02-13 00:00:00</th>\n",
              "    </tr>\n",
              "    <tr>\n",
              "      <th>Name</th>\n",
              "      <th></th>\n",
              "      <th></th>\n",
              "      <th></th>\n",
              "      <th></th>\n",
              "      <th></th>\n",
              "      <th></th>\n",
              "      <th></th>\n",
              "      <th></th>\n",
              "      <th></th>\n",
              "    </tr>\n",
              "  </thead>\n",
              "  <tbody>\n",
              "    <tr>\n",
              "      <th>Total</th>\n",
              "      <td>43500.0</td>\n",
              "      <td>3000.0</td>\n",
              "      <td>32000.0</td>\n",
              "      <td>30000.0</td>\n",
              "      <td>21000.0</td>\n",
              "      <td>32000.0</td>\n",
              "      <td>38000.0</td>\n",
              "      <td>36500.0</td>\n",
              "      <td>30000.0</td>\n",
              "    </tr>\n",
              "    <tr>\n",
              "      <th>aarif</th>\n",
              "      <td>2000.0</td>\n",
              "      <td>NaN</td>\n",
              "      <td>2000.0</td>\n",
              "      <td>2000.0</td>\n",
              "      <td>NaN</td>\n",
              "      <td>NaN</td>\n",
              "      <td>2000.0</td>\n",
              "      <td>2500.0</td>\n",
              "      <td>1500.0</td>\n",
              "    </tr>\n",
              "    <tr>\n",
              "      <th>aashu</th>\n",
              "      <td>1500.0</td>\n",
              "      <td>NaN</td>\n",
              "      <td>NaN</td>\n",
              "      <td>NaN</td>\n",
              "      <td>NaN</td>\n",
              "      <td>NaN</td>\n",
              "      <td>NaN</td>\n",
              "      <td>NaN</td>\n",
              "      <td>NaN</td>\n",
              "    </tr>\n",
              "    <tr>\n",
              "      <th>amjad</th>\n",
              "      <td>NaN</td>\n",
              "      <td>NaN</td>\n",
              "      <td>2000.0</td>\n",
              "      <td>2000.0</td>\n",
              "      <td>1000.0</td>\n",
              "      <td>NaN</td>\n",
              "      <td>NaN</td>\n",
              "      <td>2000.0</td>\n",
              "      <td>NaN</td>\n",
              "    </tr>\n",
              "    <tr>\n",
              "      <th>farookh</th>\n",
              "      <td>1500.0</td>\n",
              "      <td>NaN</td>\n",
              "      <td>NaN</td>\n",
              "      <td>NaN</td>\n",
              "      <td>NaN</td>\n",
              "      <td>2000.0</td>\n",
              "      <td>2000.0</td>\n",
              "      <td>1500.0</td>\n",
              "      <td>2000.0</td>\n",
              "    </tr>\n",
              "    <tr>\n",
              "      <th>gulfam</th>\n",
              "      <td>NaN</td>\n",
              "      <td>NaN</td>\n",
              "      <td>NaN</td>\n",
              "      <td>2000.0</td>\n",
              "      <td>2000.0</td>\n",
              "      <td>2000.0</td>\n",
              "      <td>NaN</td>\n",
              "      <td>2000.0</td>\n",
              "      <td>2000.0</td>\n",
              "    </tr>\n",
              "    <tr>\n",
              "      <th>hasan</th>\n",
              "      <td>2000.0</td>\n",
              "      <td>1000.0</td>\n",
              "      <td>1500.0</td>\n",
              "      <td>1500.0</td>\n",
              "      <td>NaN</td>\n",
              "      <td>2000.0</td>\n",
              "      <td>2000.0</td>\n",
              "      <td>1500.0</td>\n",
              "      <td>1000.0</td>\n",
              "    </tr>\n",
              "    <tr>\n",
              "      <th>haseen</th>\n",
              "      <td>2000.0</td>\n",
              "      <td>NaN</td>\n",
              "      <td>2000.0</td>\n",
              "      <td>2000.0</td>\n",
              "      <td>1500.0</td>\n",
              "      <td>2000.0</td>\n",
              "      <td>2500.0</td>\n",
              "      <td>1500.0</td>\n",
              "      <td>1500.0</td>\n",
              "    </tr>\n",
              "    <tr>\n",
              "      <th>irsad</th>\n",
              "      <td>NaN</td>\n",
              "      <td>NaN</td>\n",
              "      <td>NaN</td>\n",
              "      <td>500.0</td>\n",
              "      <td>2000.0</td>\n",
              "      <td>NaN</td>\n",
              "      <td>2000.0</td>\n",
              "      <td>2000.0</td>\n",
              "      <td>1500.0</td>\n",
              "    </tr>\n",
              "    <tr>\n",
              "      <th>isran</th>\n",
              "      <td>NaN</td>\n",
              "      <td>NaN</td>\n",
              "      <td>2000.0</td>\n",
              "      <td>2000.0</td>\n",
              "      <td>1000.0</td>\n",
              "      <td>2000.0</td>\n",
              "      <td>2000.0</td>\n",
              "      <td>2000.0</td>\n",
              "      <td>1500.0</td>\n",
              "    </tr>\n",
              "    <tr>\n",
              "      <th>jabir</th>\n",
              "      <td>2000.0</td>\n",
              "      <td>NaN</td>\n",
              "      <td>2000.0</td>\n",
              "      <td>2000.0</td>\n",
              "      <td>1000.0</td>\n",
              "      <td>2000.0</td>\n",
              "      <td>2500.0</td>\n",
              "      <td>1500.0</td>\n",
              "      <td>2000.0</td>\n",
              "    </tr>\n",
              "    <tr>\n",
              "      <th>khurseed</th>\n",
              "      <td>NaN</td>\n",
              "      <td>2000.0</td>\n",
              "      <td>2000.0</td>\n",
              "      <td>1300.0</td>\n",
              "      <td>NaN</td>\n",
              "      <td>2000.0</td>\n",
              "      <td>2000.0</td>\n",
              "      <td>2000.0</td>\n",
              "      <td>NaN</td>\n",
              "    </tr>\n",
              "    <tr>\n",
              "      <th>momin</th>\n",
              "      <td>2000.0</td>\n",
              "      <td>NaN</td>\n",
              "      <td>2000.0</td>\n",
              "      <td>1270.0</td>\n",
              "      <td>NaN</td>\n",
              "      <td>1500.0</td>\n",
              "      <td>NaN</td>\n",
              "      <td>2000.0</td>\n",
              "      <td>1500.0</td>\n",
              "    </tr>\n",
              "    <tr>\n",
              "      <th>mustakim</th>\n",
              "      <td>NaN</td>\n",
              "      <td>NaN</td>\n",
              "      <td>NaN</td>\n",
              "      <td>1500.0</td>\n",
              "      <td>NaN</td>\n",
              "      <td>2000.0</td>\n",
              "      <td>2000.0</td>\n",
              "      <td>2000.0</td>\n",
              "      <td>1500.0</td>\n",
              "    </tr>\n",
              "    <tr>\n",
              "      <th>noushad</th>\n",
              "      <td>9500.0</td>\n",
              "      <td>NaN</td>\n",
              "      <td>4240.0</td>\n",
              "      <td>3430.0</td>\n",
              "      <td>4000.0</td>\n",
              "      <td>4000.0</td>\n",
              "      <td>7500.0</td>\n",
              "      <td>6500.0</td>\n",
              "      <td>8500.0</td>\n",
              "    </tr>\n",
              "    <tr>\n",
              "      <th>poclain</th>\n",
              "      <td>3500.0</td>\n",
              "      <td>NaN</td>\n",
              "      <td>5260.0</td>\n",
              "      <td>5000.0</td>\n",
              "      <td>4000.0</td>\n",
              "      <td>3500.0</td>\n",
              "      <td>3000.0</td>\n",
              "      <td>3500.0</td>\n",
              "      <td>NaN</td>\n",
              "    </tr>\n",
              "    <tr>\n",
              "      <th>rafakat</th>\n",
              "      <td>2000.0</td>\n",
              "      <td>NaN</td>\n",
              "      <td>2000.0</td>\n",
              "      <td>NaN</td>\n",
              "      <td>NaN</td>\n",
              "      <td>NaN</td>\n",
              "      <td>NaN</td>\n",
              "      <td>NaN</td>\n",
              "      <td>NaN</td>\n",
              "    </tr>\n",
              "    <tr>\n",
              "      <th>rasid</th>\n",
              "      <td>1500.0</td>\n",
              "      <td>NaN</td>\n",
              "      <td>1500.0</td>\n",
              "      <td>1500.0</td>\n",
              "      <td>NaN</td>\n",
              "      <td>2000.0</td>\n",
              "      <td>2000.0</td>\n",
              "      <td>NaN</td>\n",
              "      <td>NaN</td>\n",
              "    </tr>\n",
              "    <tr>\n",
              "      <th>sabir jcb</th>\n",
              "      <td>10000.0</td>\n",
              "      <td>NaN</td>\n",
              "      <td>NaN</td>\n",
              "      <td>NaN</td>\n",
              "      <td>NaN</td>\n",
              "      <td>NaN</td>\n",
              "      <td>NaN</td>\n",
              "      <td>NaN</td>\n",
              "      <td>NaN</td>\n",
              "    </tr>\n",
              "    <tr>\n",
              "      <th>sanjay</th>\n",
              "      <td>NaN</td>\n",
              "      <td>NaN</td>\n",
              "      <td>NaN</td>\n",
              "      <td>NaN</td>\n",
              "      <td>NaN</td>\n",
              "      <td>NaN</td>\n",
              "      <td>NaN</td>\n",
              "      <td>NaN</td>\n",
              "      <td>2500.0</td>\n",
              "    </tr>\n",
              "    <tr>\n",
              "      <th>shabir</th>\n",
              "      <td>2000.0</td>\n",
              "      <td>0.0</td>\n",
              "      <td>NaN</td>\n",
              "      <td>NaN</td>\n",
              "      <td>2500.0</td>\n",
              "      <td>NaN</td>\n",
              "      <td>NaN</td>\n",
              "      <td>NaN</td>\n",
              "      <td>NaN</td>\n",
              "    </tr>\n",
              "    <tr>\n",
              "      <th>shokeen</th>\n",
              "      <td>NaN</td>\n",
              "      <td>NaN</td>\n",
              "      <td>2000.0</td>\n",
              "      <td>NaN</td>\n",
              "      <td>NaN</td>\n",
              "      <td>1500.0</td>\n",
              "      <td>2000.0</td>\n",
              "      <td>NaN</td>\n",
              "      <td>1500.0</td>\n",
              "    </tr>\n",
              "    <tr>\n",
              "      <th>toheed</th>\n",
              "      <td>2000.0</td>\n",
              "      <td>NaN</td>\n",
              "      <td>1500.0</td>\n",
              "      <td>NaN</td>\n",
              "      <td>NaN</td>\n",
              "      <td>2000.0</td>\n",
              "      <td>2500.0</td>\n",
              "      <td>1500.0</td>\n",
              "      <td>NaN</td>\n",
              "    </tr>\n",
              "    <tr>\n",
              "      <th>wajid</th>\n",
              "      <td>NaN</td>\n",
              "      <td>NaN</td>\n",
              "      <td>NaN</td>\n",
              "      <td>2000.0</td>\n",
              "      <td>2000.0</td>\n",
              "      <td>1000.0</td>\n",
              "      <td>2000.0</td>\n",
              "      <td>2500.0</td>\n",
              "      <td>1500.0</td>\n",
              "    </tr>\n",
              "  </tbody>\n",
              "</table>\n",
              "</div>"
            ],
            "text/plain": [
              "Date       2019-02-01  2019-02-02  2019-02-05  2019-02-06  2019-02-07  \\\n",
              "Name                                                                    \n",
              "Total         43500.0      3000.0     32000.0     30000.0     21000.0   \n",
              "aarif          2000.0         NaN      2000.0      2000.0         NaN   \n",
              "aashu          1500.0         NaN         NaN         NaN         NaN   \n",
              "amjad             NaN         NaN      2000.0      2000.0      1000.0   \n",
              "farookh        1500.0         NaN         NaN         NaN         NaN   \n",
              "gulfam            NaN         NaN         NaN      2000.0      2000.0   \n",
              "hasan          2000.0      1000.0      1500.0      1500.0         NaN   \n",
              "haseen         2000.0         NaN      2000.0      2000.0      1500.0   \n",
              "irsad             NaN         NaN         NaN       500.0      2000.0   \n",
              "isran             NaN         NaN      2000.0      2000.0      1000.0   \n",
              "jabir          2000.0         NaN      2000.0      2000.0      1000.0   \n",
              "khurseed          NaN      2000.0      2000.0      1300.0         NaN   \n",
              "momin          2000.0         NaN      2000.0      1270.0         NaN   \n",
              "mustakim          NaN         NaN         NaN      1500.0         NaN   \n",
              "noushad        9500.0         NaN      4240.0      3430.0      4000.0   \n",
              "poclain        3500.0         NaN      5260.0      5000.0      4000.0   \n",
              "rafakat        2000.0         NaN      2000.0         NaN         NaN   \n",
              "rasid          1500.0         NaN      1500.0      1500.0         NaN   \n",
              "sabir jcb     10000.0         NaN         NaN         NaN         NaN   \n",
              "sanjay            NaN         NaN         NaN         NaN         NaN   \n",
              "shabir         2000.0         0.0         NaN         NaN      2500.0   \n",
              "shokeen           NaN         NaN      2000.0         NaN         NaN   \n",
              "toheed         2000.0         NaN      1500.0         NaN         NaN   \n",
              "wajid             NaN         NaN         NaN      2000.0      2000.0   \n",
              "\n",
              "Date       2019-02-10  2019-02-11  2019-02-12  2019-02-13  \n",
              "Name                                                       \n",
              "Total         32000.0     38000.0     36500.0     30000.0  \n",
              "aarif             NaN      2000.0      2500.0      1500.0  \n",
              "aashu             NaN         NaN         NaN         NaN  \n",
              "amjad             NaN         NaN      2000.0         NaN  \n",
              "farookh        2000.0      2000.0      1500.0      2000.0  \n",
              "gulfam         2000.0         NaN      2000.0      2000.0  \n",
              "hasan          2000.0      2000.0      1500.0      1000.0  \n",
              "haseen         2000.0      2500.0      1500.0      1500.0  \n",
              "irsad             NaN      2000.0      2000.0      1500.0  \n",
              "isran          2000.0      2000.0      2000.0      1500.0  \n",
              "jabir          2000.0      2500.0      1500.0      2000.0  \n",
              "khurseed       2000.0      2000.0      2000.0         NaN  \n",
              "momin          1500.0         NaN      2000.0      1500.0  \n",
              "mustakim       2000.0      2000.0      2000.0      1500.0  \n",
              "noushad        4000.0      7500.0      6500.0      8500.0  \n",
              "poclain        3500.0      3000.0      3500.0         NaN  \n",
              "rafakat           NaN         NaN         NaN         NaN  \n",
              "rasid          2000.0      2000.0         NaN         NaN  \n",
              "sabir jcb         NaN         NaN         NaN         NaN  \n",
              "sanjay            NaN         NaN         NaN      2500.0  \n",
              "shabir            NaN         NaN         NaN         NaN  \n",
              "shokeen        1500.0      2000.0         NaN      1500.0  \n",
              "toheed         2000.0      2500.0      1500.0         NaN  \n",
              "wajid          1000.0      2000.0      2500.0      1500.0  "
            ]
          },
          "metadata": {
            "tags": []
          },
          "execution_count": 110
        }
      ]
    },
    {
      "metadata": {
        "id": "oB45FXvkLUo_",
        "colab_type": "code",
        "colab": {}
      },
      "cell_type": "code",
      "source": [
        "pivot_diesel.fillna(value = 0, inplace = True)"
      ],
      "execution_count": 0,
      "outputs": []
    },
    {
      "metadata": {
        "id": "xEonX1pxLeBD",
        "colab_type": "code",
        "colab": {
          "base_uri": "https://localhost:8080/",
          "height": 159
        },
        "outputId": "d99570cc-61e1-4651-a423-2cb0a9e1cf59"
      },
      "cell_type": "code",
      "source": [
        "pivot_diesel.head(2)"
      ],
      "execution_count": 112,
      "outputs": [
        {
          "output_type": "execute_result",
          "data": {
            "text/html": [
              "<div>\n",
              "<style scoped>\n",
              "    .dataframe tbody tr th:only-of-type {\n",
              "        vertical-align: middle;\n",
              "    }\n",
              "\n",
              "    .dataframe tbody tr th {\n",
              "        vertical-align: top;\n",
              "    }\n",
              "\n",
              "    .dataframe thead th {\n",
              "        text-align: right;\n",
              "    }\n",
              "</style>\n",
              "<table border=\"1\" class=\"dataframe\">\n",
              "  <thead>\n",
              "    <tr style=\"text-align: right;\">\n",
              "      <th>Date</th>\n",
              "      <th>2019-02-01 00:00:00</th>\n",
              "      <th>2019-02-02 00:00:00</th>\n",
              "      <th>2019-02-05 00:00:00</th>\n",
              "      <th>2019-02-06 00:00:00</th>\n",
              "      <th>2019-02-07 00:00:00</th>\n",
              "      <th>2019-02-10 00:00:00</th>\n",
              "      <th>2019-02-11 00:00:00</th>\n",
              "      <th>2019-02-12 00:00:00</th>\n",
              "      <th>2019-02-13 00:00:00</th>\n",
              "    </tr>\n",
              "    <tr>\n",
              "      <th>Name</th>\n",
              "      <th></th>\n",
              "      <th></th>\n",
              "      <th></th>\n",
              "      <th></th>\n",
              "      <th></th>\n",
              "      <th></th>\n",
              "      <th></th>\n",
              "      <th></th>\n",
              "      <th></th>\n",
              "    </tr>\n",
              "  </thead>\n",
              "  <tbody>\n",
              "    <tr>\n",
              "      <th>Total</th>\n",
              "      <td>43500.0</td>\n",
              "      <td>3000.0</td>\n",
              "      <td>32000.0</td>\n",
              "      <td>30000.0</td>\n",
              "      <td>21000.0</td>\n",
              "      <td>32000.0</td>\n",
              "      <td>38000.0</td>\n",
              "      <td>36500.0</td>\n",
              "      <td>30000.0</td>\n",
              "    </tr>\n",
              "    <tr>\n",
              "      <th>aarif</th>\n",
              "      <td>2000.0</td>\n",
              "      <td>0.0</td>\n",
              "      <td>2000.0</td>\n",
              "      <td>2000.0</td>\n",
              "      <td>0.0</td>\n",
              "      <td>0.0</td>\n",
              "      <td>2000.0</td>\n",
              "      <td>2500.0</td>\n",
              "      <td>1500.0</td>\n",
              "    </tr>\n",
              "  </tbody>\n",
              "</table>\n",
              "</div>"
            ],
            "text/plain": [
              "Date   2019-02-01  2019-02-02  2019-02-05  2019-02-06  2019-02-07  2019-02-10  \\\n",
              "Name                                                                            \n",
              "Total     43500.0      3000.0     32000.0     30000.0     21000.0     32000.0   \n",
              "aarif      2000.0         0.0      2000.0      2000.0         0.0         0.0   \n",
              "\n",
              "Date   2019-02-11  2019-02-12  2019-02-13  \n",
              "Name                                       \n",
              "Total     38000.0     36500.0     30000.0  \n",
              "aarif      2000.0      2500.0      1500.0  "
            ]
          },
          "metadata": {
            "tags": []
          },
          "execution_count": 112
        }
      ]
    },
    {
      "metadata": {
        "id": "rEELWCKs_5Nx",
        "colab_type": "code",
        "colab": {
          "base_uri": "https://localhost:8080/",
          "height": 128
        },
        "outputId": "e12c8fb5-365f-48c2-8872-a281bf750397"
      },
      "cell_type": "code",
      "source": [
        "pivot_diesel['Total Diesel'] = pd.Series([0 for i in range(len(pivot_diesel))])\n",
        "pivot_diesel.head(1)"
      ],
      "execution_count": 113,
      "outputs": [
        {
          "output_type": "execute_result",
          "data": {
            "text/html": [
              "<div>\n",
              "<style scoped>\n",
              "    .dataframe tbody tr th:only-of-type {\n",
              "        vertical-align: middle;\n",
              "    }\n",
              "\n",
              "    .dataframe tbody tr th {\n",
              "        vertical-align: top;\n",
              "    }\n",
              "\n",
              "    .dataframe thead th {\n",
              "        text-align: right;\n",
              "    }\n",
              "</style>\n",
              "<table border=\"1\" class=\"dataframe\">\n",
              "  <thead>\n",
              "    <tr style=\"text-align: right;\">\n",
              "      <th>Date</th>\n",
              "      <th>2019-02-01 00:00:00</th>\n",
              "      <th>2019-02-02 00:00:00</th>\n",
              "      <th>2019-02-05 00:00:00</th>\n",
              "      <th>2019-02-06 00:00:00</th>\n",
              "      <th>2019-02-07 00:00:00</th>\n",
              "      <th>2019-02-10 00:00:00</th>\n",
              "      <th>2019-02-11 00:00:00</th>\n",
              "      <th>2019-02-12 00:00:00</th>\n",
              "      <th>2019-02-13 00:00:00</th>\n",
              "      <th>Total Diesel</th>\n",
              "    </tr>\n",
              "    <tr>\n",
              "      <th>Name</th>\n",
              "      <th></th>\n",
              "      <th></th>\n",
              "      <th></th>\n",
              "      <th></th>\n",
              "      <th></th>\n",
              "      <th></th>\n",
              "      <th></th>\n",
              "      <th></th>\n",
              "      <th></th>\n",
              "      <th></th>\n",
              "    </tr>\n",
              "  </thead>\n",
              "  <tbody>\n",
              "    <tr>\n",
              "      <th>Total</th>\n",
              "      <td>43500.0</td>\n",
              "      <td>3000.0</td>\n",
              "      <td>32000.0</td>\n",
              "      <td>30000.0</td>\n",
              "      <td>21000.0</td>\n",
              "      <td>32000.0</td>\n",
              "      <td>38000.0</td>\n",
              "      <td>36500.0</td>\n",
              "      <td>30000.0</td>\n",
              "      <td>NaN</td>\n",
              "    </tr>\n",
              "  </tbody>\n",
              "</table>\n",
              "</div>"
            ],
            "text/plain": [
              "Date   2019-02-01 00:00:00  2019-02-02 00:00:00  2019-02-05 00:00:00  \\\n",
              "Name                                                                   \n",
              "Total              43500.0               3000.0              32000.0   \n",
              "\n",
              "Date   2019-02-06 00:00:00  2019-02-07 00:00:00  2019-02-10 00:00:00  \\\n",
              "Name                                                                   \n",
              "Total              30000.0              21000.0              32000.0   \n",
              "\n",
              "Date   2019-02-11 00:00:00  2019-02-12 00:00:00  2019-02-13 00:00:00  \\\n",
              "Name                                                                   \n",
              "Total              38000.0              36500.0              30000.0   \n",
              "\n",
              "Date   Total Diesel  \n",
              "Name                 \n",
              "Total           NaN  "
            ]
          },
          "metadata": {
            "tags": []
          },
          "execution_count": 113
        }
      ]
    },
    {
      "metadata": {
        "id": "Y2EvagJaL13R",
        "colab_type": "code",
        "colab": {}
      },
      "cell_type": "code",
      "source": [
        "for i in range(len(pivot_diesel)):\n",
        "  pivot_diesel['Total Diesel'][i] = sum(pivot_diesel.iloc[i, 0:-1])"
      ],
      "execution_count": 0,
      "outputs": []
    },
    {
      "metadata": {
        "id": "jmPDiMVJASVB",
        "colab_type": "code",
        "colab": {
          "base_uri": "https://localhost:8080/",
          "height": 841
        },
        "outputId": "e0235a42-06aa-4982-8322-52cc0666ea53"
      },
      "cell_type": "code",
      "source": [
        "pivot_diesel"
      ],
      "execution_count": 115,
      "outputs": [
        {
          "output_type": "execute_result",
          "data": {
            "text/html": [
              "<div>\n",
              "<style scoped>\n",
              "    .dataframe tbody tr th:only-of-type {\n",
              "        vertical-align: middle;\n",
              "    }\n",
              "\n",
              "    .dataframe tbody tr th {\n",
              "        vertical-align: top;\n",
              "    }\n",
              "\n",
              "    .dataframe thead th {\n",
              "        text-align: right;\n",
              "    }\n",
              "</style>\n",
              "<table border=\"1\" class=\"dataframe\">\n",
              "  <thead>\n",
              "    <tr style=\"text-align: right;\">\n",
              "      <th>Date</th>\n",
              "      <th>2019-02-01 00:00:00</th>\n",
              "      <th>2019-02-02 00:00:00</th>\n",
              "      <th>2019-02-05 00:00:00</th>\n",
              "      <th>2019-02-06 00:00:00</th>\n",
              "      <th>2019-02-07 00:00:00</th>\n",
              "      <th>2019-02-10 00:00:00</th>\n",
              "      <th>2019-02-11 00:00:00</th>\n",
              "      <th>2019-02-12 00:00:00</th>\n",
              "      <th>2019-02-13 00:00:00</th>\n",
              "      <th>Total Diesel</th>\n",
              "    </tr>\n",
              "    <tr>\n",
              "      <th>Name</th>\n",
              "      <th></th>\n",
              "      <th></th>\n",
              "      <th></th>\n",
              "      <th></th>\n",
              "      <th></th>\n",
              "      <th></th>\n",
              "      <th></th>\n",
              "      <th></th>\n",
              "      <th></th>\n",
              "      <th></th>\n",
              "    </tr>\n",
              "  </thead>\n",
              "  <tbody>\n",
              "    <tr>\n",
              "      <th>Total</th>\n",
              "      <td>43500.0</td>\n",
              "      <td>3000.0</td>\n",
              "      <td>32000.0</td>\n",
              "      <td>30000.0</td>\n",
              "      <td>21000.0</td>\n",
              "      <td>32000.0</td>\n",
              "      <td>38000.0</td>\n",
              "      <td>36500.0</td>\n",
              "      <td>30000.0</td>\n",
              "      <td>266000.0</td>\n",
              "    </tr>\n",
              "    <tr>\n",
              "      <th>aarif</th>\n",
              "      <td>2000.0</td>\n",
              "      <td>0.0</td>\n",
              "      <td>2000.0</td>\n",
              "      <td>2000.0</td>\n",
              "      <td>0.0</td>\n",
              "      <td>0.0</td>\n",
              "      <td>2000.0</td>\n",
              "      <td>2500.0</td>\n",
              "      <td>1500.0</td>\n",
              "      <td>12000.0</td>\n",
              "    </tr>\n",
              "    <tr>\n",
              "      <th>aashu</th>\n",
              "      <td>1500.0</td>\n",
              "      <td>0.0</td>\n",
              "      <td>0.0</td>\n",
              "      <td>0.0</td>\n",
              "      <td>0.0</td>\n",
              "      <td>0.0</td>\n",
              "      <td>0.0</td>\n",
              "      <td>0.0</td>\n",
              "      <td>0.0</td>\n",
              "      <td>1500.0</td>\n",
              "    </tr>\n",
              "    <tr>\n",
              "      <th>amjad</th>\n",
              "      <td>0.0</td>\n",
              "      <td>0.0</td>\n",
              "      <td>2000.0</td>\n",
              "      <td>2000.0</td>\n",
              "      <td>1000.0</td>\n",
              "      <td>0.0</td>\n",
              "      <td>0.0</td>\n",
              "      <td>2000.0</td>\n",
              "      <td>0.0</td>\n",
              "      <td>7000.0</td>\n",
              "    </tr>\n",
              "    <tr>\n",
              "      <th>farookh</th>\n",
              "      <td>1500.0</td>\n",
              "      <td>0.0</td>\n",
              "      <td>0.0</td>\n",
              "      <td>0.0</td>\n",
              "      <td>0.0</td>\n",
              "      <td>2000.0</td>\n",
              "      <td>2000.0</td>\n",
              "      <td>1500.0</td>\n",
              "      <td>2000.0</td>\n",
              "      <td>9000.0</td>\n",
              "    </tr>\n",
              "    <tr>\n",
              "      <th>gulfam</th>\n",
              "      <td>0.0</td>\n",
              "      <td>0.0</td>\n",
              "      <td>0.0</td>\n",
              "      <td>2000.0</td>\n",
              "      <td>2000.0</td>\n",
              "      <td>2000.0</td>\n",
              "      <td>0.0</td>\n",
              "      <td>2000.0</td>\n",
              "      <td>2000.0</td>\n",
              "      <td>10000.0</td>\n",
              "    </tr>\n",
              "    <tr>\n",
              "      <th>hasan</th>\n",
              "      <td>2000.0</td>\n",
              "      <td>1000.0</td>\n",
              "      <td>1500.0</td>\n",
              "      <td>1500.0</td>\n",
              "      <td>0.0</td>\n",
              "      <td>2000.0</td>\n",
              "      <td>2000.0</td>\n",
              "      <td>1500.0</td>\n",
              "      <td>1000.0</td>\n",
              "      <td>12500.0</td>\n",
              "    </tr>\n",
              "    <tr>\n",
              "      <th>haseen</th>\n",
              "      <td>2000.0</td>\n",
              "      <td>0.0</td>\n",
              "      <td>2000.0</td>\n",
              "      <td>2000.0</td>\n",
              "      <td>1500.0</td>\n",
              "      <td>2000.0</td>\n",
              "      <td>2500.0</td>\n",
              "      <td>1500.0</td>\n",
              "      <td>1500.0</td>\n",
              "      <td>15000.0</td>\n",
              "    </tr>\n",
              "    <tr>\n",
              "      <th>irsad</th>\n",
              "      <td>0.0</td>\n",
              "      <td>0.0</td>\n",
              "      <td>0.0</td>\n",
              "      <td>500.0</td>\n",
              "      <td>2000.0</td>\n",
              "      <td>0.0</td>\n",
              "      <td>2000.0</td>\n",
              "      <td>2000.0</td>\n",
              "      <td>1500.0</td>\n",
              "      <td>8000.0</td>\n",
              "    </tr>\n",
              "    <tr>\n",
              "      <th>isran</th>\n",
              "      <td>0.0</td>\n",
              "      <td>0.0</td>\n",
              "      <td>2000.0</td>\n",
              "      <td>2000.0</td>\n",
              "      <td>1000.0</td>\n",
              "      <td>2000.0</td>\n",
              "      <td>2000.0</td>\n",
              "      <td>2000.0</td>\n",
              "      <td>1500.0</td>\n",
              "      <td>12500.0</td>\n",
              "    </tr>\n",
              "    <tr>\n",
              "      <th>jabir</th>\n",
              "      <td>2000.0</td>\n",
              "      <td>0.0</td>\n",
              "      <td>2000.0</td>\n",
              "      <td>2000.0</td>\n",
              "      <td>1000.0</td>\n",
              "      <td>2000.0</td>\n",
              "      <td>2500.0</td>\n",
              "      <td>1500.0</td>\n",
              "      <td>2000.0</td>\n",
              "      <td>15000.0</td>\n",
              "    </tr>\n",
              "    <tr>\n",
              "      <th>khurseed</th>\n",
              "      <td>0.0</td>\n",
              "      <td>2000.0</td>\n",
              "      <td>2000.0</td>\n",
              "      <td>1300.0</td>\n",
              "      <td>0.0</td>\n",
              "      <td>2000.0</td>\n",
              "      <td>2000.0</td>\n",
              "      <td>2000.0</td>\n",
              "      <td>0.0</td>\n",
              "      <td>11300.0</td>\n",
              "    </tr>\n",
              "    <tr>\n",
              "      <th>momin</th>\n",
              "      <td>2000.0</td>\n",
              "      <td>0.0</td>\n",
              "      <td>2000.0</td>\n",
              "      <td>1270.0</td>\n",
              "      <td>0.0</td>\n",
              "      <td>1500.0</td>\n",
              "      <td>0.0</td>\n",
              "      <td>2000.0</td>\n",
              "      <td>1500.0</td>\n",
              "      <td>10270.0</td>\n",
              "    </tr>\n",
              "    <tr>\n",
              "      <th>mustakim</th>\n",
              "      <td>0.0</td>\n",
              "      <td>0.0</td>\n",
              "      <td>0.0</td>\n",
              "      <td>1500.0</td>\n",
              "      <td>0.0</td>\n",
              "      <td>2000.0</td>\n",
              "      <td>2000.0</td>\n",
              "      <td>2000.0</td>\n",
              "      <td>1500.0</td>\n",
              "      <td>9000.0</td>\n",
              "    </tr>\n",
              "    <tr>\n",
              "      <th>noushad</th>\n",
              "      <td>9500.0</td>\n",
              "      <td>0.0</td>\n",
              "      <td>4240.0</td>\n",
              "      <td>3430.0</td>\n",
              "      <td>4000.0</td>\n",
              "      <td>4000.0</td>\n",
              "      <td>7500.0</td>\n",
              "      <td>6500.0</td>\n",
              "      <td>8500.0</td>\n",
              "      <td>47670.0</td>\n",
              "    </tr>\n",
              "    <tr>\n",
              "      <th>poclain</th>\n",
              "      <td>3500.0</td>\n",
              "      <td>0.0</td>\n",
              "      <td>5260.0</td>\n",
              "      <td>5000.0</td>\n",
              "      <td>4000.0</td>\n",
              "      <td>3500.0</td>\n",
              "      <td>3000.0</td>\n",
              "      <td>3500.0</td>\n",
              "      <td>0.0</td>\n",
              "      <td>27760.0</td>\n",
              "    </tr>\n",
              "    <tr>\n",
              "      <th>rafakat</th>\n",
              "      <td>2000.0</td>\n",
              "      <td>0.0</td>\n",
              "      <td>2000.0</td>\n",
              "      <td>0.0</td>\n",
              "      <td>0.0</td>\n",
              "      <td>0.0</td>\n",
              "      <td>0.0</td>\n",
              "      <td>0.0</td>\n",
              "      <td>0.0</td>\n",
              "      <td>4000.0</td>\n",
              "    </tr>\n",
              "    <tr>\n",
              "      <th>rasid</th>\n",
              "      <td>1500.0</td>\n",
              "      <td>0.0</td>\n",
              "      <td>1500.0</td>\n",
              "      <td>1500.0</td>\n",
              "      <td>0.0</td>\n",
              "      <td>2000.0</td>\n",
              "      <td>2000.0</td>\n",
              "      <td>0.0</td>\n",
              "      <td>0.0</td>\n",
              "      <td>8500.0</td>\n",
              "    </tr>\n",
              "    <tr>\n",
              "      <th>sabir jcb</th>\n",
              "      <td>10000.0</td>\n",
              "      <td>0.0</td>\n",
              "      <td>0.0</td>\n",
              "      <td>0.0</td>\n",
              "      <td>0.0</td>\n",
              "      <td>0.0</td>\n",
              "      <td>0.0</td>\n",
              "      <td>0.0</td>\n",
              "      <td>0.0</td>\n",
              "      <td>10000.0</td>\n",
              "    </tr>\n",
              "    <tr>\n",
              "      <th>sanjay</th>\n",
              "      <td>0.0</td>\n",
              "      <td>0.0</td>\n",
              "      <td>0.0</td>\n",
              "      <td>0.0</td>\n",
              "      <td>0.0</td>\n",
              "      <td>0.0</td>\n",
              "      <td>0.0</td>\n",
              "      <td>0.0</td>\n",
              "      <td>2500.0</td>\n",
              "      <td>2500.0</td>\n",
              "    </tr>\n",
              "    <tr>\n",
              "      <th>shabir</th>\n",
              "      <td>2000.0</td>\n",
              "      <td>0.0</td>\n",
              "      <td>0.0</td>\n",
              "      <td>0.0</td>\n",
              "      <td>2500.0</td>\n",
              "      <td>0.0</td>\n",
              "      <td>0.0</td>\n",
              "      <td>0.0</td>\n",
              "      <td>0.0</td>\n",
              "      <td>4500.0</td>\n",
              "    </tr>\n",
              "    <tr>\n",
              "      <th>shokeen</th>\n",
              "      <td>0.0</td>\n",
              "      <td>0.0</td>\n",
              "      <td>2000.0</td>\n",
              "      <td>0.0</td>\n",
              "      <td>0.0</td>\n",
              "      <td>1500.0</td>\n",
              "      <td>2000.0</td>\n",
              "      <td>0.0</td>\n",
              "      <td>1500.0</td>\n",
              "      <td>7000.0</td>\n",
              "    </tr>\n",
              "    <tr>\n",
              "      <th>toheed</th>\n",
              "      <td>2000.0</td>\n",
              "      <td>0.0</td>\n",
              "      <td>1500.0</td>\n",
              "      <td>0.0</td>\n",
              "      <td>0.0</td>\n",
              "      <td>2000.0</td>\n",
              "      <td>2500.0</td>\n",
              "      <td>1500.0</td>\n",
              "      <td>0.0</td>\n",
              "      <td>9500.0</td>\n",
              "    </tr>\n",
              "    <tr>\n",
              "      <th>wajid</th>\n",
              "      <td>0.0</td>\n",
              "      <td>0.0</td>\n",
              "      <td>0.0</td>\n",
              "      <td>2000.0</td>\n",
              "      <td>2000.0</td>\n",
              "      <td>1000.0</td>\n",
              "      <td>2000.0</td>\n",
              "      <td>2500.0</td>\n",
              "      <td>1500.0</td>\n",
              "      <td>11000.0</td>\n",
              "    </tr>\n",
              "  </tbody>\n",
              "</table>\n",
              "</div>"
            ],
            "text/plain": [
              "Date       2019-02-01 00:00:00  2019-02-02 00:00:00  2019-02-05 00:00:00  \\\n",
              "Name                                                                       \n",
              "Total                  43500.0               3000.0              32000.0   \n",
              "aarif                   2000.0                  0.0               2000.0   \n",
              "aashu                   1500.0                  0.0                  0.0   \n",
              "amjad                      0.0                  0.0               2000.0   \n",
              "farookh                 1500.0                  0.0                  0.0   \n",
              "gulfam                     0.0                  0.0                  0.0   \n",
              "hasan                   2000.0               1000.0               1500.0   \n",
              "haseen                  2000.0                  0.0               2000.0   \n",
              "irsad                      0.0                  0.0                  0.0   \n",
              "isran                      0.0                  0.0               2000.0   \n",
              "jabir                   2000.0                  0.0               2000.0   \n",
              "khurseed                   0.0               2000.0               2000.0   \n",
              "momin                   2000.0                  0.0               2000.0   \n",
              "mustakim                   0.0                  0.0                  0.0   \n",
              "noushad                 9500.0                  0.0               4240.0   \n",
              "poclain                 3500.0                  0.0               5260.0   \n",
              "rafakat                 2000.0                  0.0               2000.0   \n",
              "rasid                   1500.0                  0.0               1500.0   \n",
              "sabir jcb              10000.0                  0.0                  0.0   \n",
              "sanjay                     0.0                  0.0                  0.0   \n",
              "shabir                  2000.0                  0.0                  0.0   \n",
              "shokeen                    0.0                  0.0               2000.0   \n",
              "toheed                  2000.0                  0.0               1500.0   \n",
              "wajid                      0.0                  0.0                  0.0   \n",
              "\n",
              "Date       2019-02-06 00:00:00  2019-02-07 00:00:00  2019-02-10 00:00:00  \\\n",
              "Name                                                                       \n",
              "Total                  30000.0              21000.0              32000.0   \n",
              "aarif                   2000.0                  0.0                  0.0   \n",
              "aashu                      0.0                  0.0                  0.0   \n",
              "amjad                   2000.0               1000.0                  0.0   \n",
              "farookh                    0.0                  0.0               2000.0   \n",
              "gulfam                  2000.0               2000.0               2000.0   \n",
              "hasan                   1500.0                  0.0               2000.0   \n",
              "haseen                  2000.0               1500.0               2000.0   \n",
              "irsad                    500.0               2000.0                  0.0   \n",
              "isran                   2000.0               1000.0               2000.0   \n",
              "jabir                   2000.0               1000.0               2000.0   \n",
              "khurseed                1300.0                  0.0               2000.0   \n",
              "momin                   1270.0                  0.0               1500.0   \n",
              "mustakim                1500.0                  0.0               2000.0   \n",
              "noushad                 3430.0               4000.0               4000.0   \n",
              "poclain                 5000.0               4000.0               3500.0   \n",
              "rafakat                    0.0                  0.0                  0.0   \n",
              "rasid                   1500.0                  0.0               2000.0   \n",
              "sabir jcb                  0.0                  0.0                  0.0   \n",
              "sanjay                     0.0                  0.0                  0.0   \n",
              "shabir                     0.0               2500.0                  0.0   \n",
              "shokeen                    0.0                  0.0               1500.0   \n",
              "toheed                     0.0                  0.0               2000.0   \n",
              "wajid                   2000.0               2000.0               1000.0   \n",
              "\n",
              "Date       2019-02-11 00:00:00  2019-02-12 00:00:00  2019-02-13 00:00:00  \\\n",
              "Name                                                                       \n",
              "Total                  38000.0              36500.0              30000.0   \n",
              "aarif                   2000.0               2500.0               1500.0   \n",
              "aashu                      0.0                  0.0                  0.0   \n",
              "amjad                      0.0               2000.0                  0.0   \n",
              "farookh                 2000.0               1500.0               2000.0   \n",
              "gulfam                     0.0               2000.0               2000.0   \n",
              "hasan                   2000.0               1500.0               1000.0   \n",
              "haseen                  2500.0               1500.0               1500.0   \n",
              "irsad                   2000.0               2000.0               1500.0   \n",
              "isran                   2000.0               2000.0               1500.0   \n",
              "jabir                   2500.0               1500.0               2000.0   \n",
              "khurseed                2000.0               2000.0                  0.0   \n",
              "momin                      0.0               2000.0               1500.0   \n",
              "mustakim                2000.0               2000.0               1500.0   \n",
              "noushad                 7500.0               6500.0               8500.0   \n",
              "poclain                 3000.0               3500.0                  0.0   \n",
              "rafakat                    0.0                  0.0                  0.0   \n",
              "rasid                   2000.0                  0.0                  0.0   \n",
              "sabir jcb                  0.0                  0.0                  0.0   \n",
              "sanjay                     0.0                  0.0               2500.0   \n",
              "shabir                     0.0                  0.0                  0.0   \n",
              "shokeen                 2000.0                  0.0               1500.0   \n",
              "toheed                  2500.0               1500.0                  0.0   \n",
              "wajid                   2000.0               2500.0               1500.0   \n",
              "\n",
              "Date       Total Diesel  \n",
              "Name                     \n",
              "Total          266000.0  \n",
              "aarif           12000.0  \n",
              "aashu            1500.0  \n",
              "amjad            7000.0  \n",
              "farookh          9000.0  \n",
              "gulfam          10000.0  \n",
              "hasan           12500.0  \n",
              "haseen          15000.0  \n",
              "irsad            8000.0  \n",
              "isran           12500.0  \n",
              "jabir           15000.0  \n",
              "khurseed        11300.0  \n",
              "momin           10270.0  \n",
              "mustakim         9000.0  \n",
              "noushad         47670.0  \n",
              "poclain         27760.0  \n",
              "rafakat          4000.0  \n",
              "rasid            8500.0  \n",
              "sabir jcb       10000.0  \n",
              "sanjay           2500.0  \n",
              "shabir           4500.0  \n",
              "shokeen          7000.0  \n",
              "toheed           9500.0  \n",
              "wajid           11000.0  "
            ]
          },
          "metadata": {
            "tags": []
          },
          "execution_count": 115
        }
      ]
    },
    {
      "metadata": {
        "id": "Qe4-nCZrOLKW",
        "colab_type": "code",
        "colab": {
          "base_uri": "https://localhost:8080/",
          "height": 34
        },
        "outputId": "f6440022-66c1-4aa9-afe4-662c0a8b8278"
      },
      "cell_type": "code",
      "source": [
        "total_diesel = pivot_diesel.iloc[0, -1]\n",
        "total_diesel"
      ],
      "execution_count": 116,
      "outputs": [
        {
          "output_type": "execute_result",
          "data": {
            "text/plain": [
              "266000.0"
            ]
          },
          "metadata": {
            "tags": []
          },
          "execution_count": 116
        }
      ]
    },
    {
      "metadata": {
        "id": "jsQ52FyRCZz9",
        "colab_type": "text"
      },
      "cell_type": "markdown",
      "source": [
        "# Total Quantity per name"
      ]
    },
    {
      "metadata": {
        "id": "aAtFy8oyD3dM",
        "colab_type": "code",
        "colab": {}
      },
      "cell_type": "code",
      "source": [
        "name_groups = df.groupby('Name')\n",
        "name_total_quantity = pd.DataFrame(columns = ['Name', 'Total Quantity'])\n",
        "for i, j in name_groups:\n",
        "  name_total_quantity = name_total_quantity.append({'Name':i, 'Total Quantity': sum(j.Quantity)}, ignore_index = True)\n",
        "  \n",
        "name_total_quantity.sort_values(by = ['Total Quantity'], ascending = False, inplace = True)"
      ],
      "execution_count": 0,
      "outputs": []
    },
    {
      "metadata": {
        "id": "4VCgjQr2INk1",
        "colab_type": "code",
        "outputId": "e08823a6-d413-4b0b-cc5b-79a241370707",
        "colab": {
          "base_uri": "https://localhost:8080/",
          "height": 669
        }
      },
      "cell_type": "code",
      "source": [
        "name_total_quantity"
      ],
      "execution_count": 118,
      "outputs": [
        {
          "output_type": "execute_result",
          "data": {
            "text/html": [
              "<div>\n",
              "<style scoped>\n",
              "    .dataframe tbody tr th:only-of-type {\n",
              "        vertical-align: middle;\n",
              "    }\n",
              "\n",
              "    .dataframe tbody tr th {\n",
              "        vertical-align: top;\n",
              "    }\n",
              "\n",
              "    .dataframe thead th {\n",
              "        text-align: right;\n",
              "    }\n",
              "</style>\n",
              "<table border=\"1\" class=\"dataframe\">\n",
              "  <thead>\n",
              "    <tr style=\"text-align: right;\">\n",
              "      <th></th>\n",
              "      <th>Name</th>\n",
              "      <th>Total Quantity</th>\n",
              "    </tr>\n",
              "  </thead>\n",
              "  <tbody>\n",
              "    <tr>\n",
              "      <th>9</th>\n",
              "      <td>jabir</td>\n",
              "      <td>10455</td>\n",
              "    </tr>\n",
              "    <tr>\n",
              "      <th>6</th>\n",
              "      <td>haseen</td>\n",
              "      <td>9920</td>\n",
              "    </tr>\n",
              "    <tr>\n",
              "      <th>10</th>\n",
              "      <td>khurseed</td>\n",
              "      <td>9515</td>\n",
              "    </tr>\n",
              "    <tr>\n",
              "      <th>5</th>\n",
              "      <td>hasan</td>\n",
              "      <td>8588</td>\n",
              "    </tr>\n",
              "    <tr>\n",
              "      <th>8</th>\n",
              "      <td>isran</td>\n",
              "      <td>7990</td>\n",
              "    </tr>\n",
              "    <tr>\n",
              "      <th>0</th>\n",
              "      <td>aarif</td>\n",
              "      <td>7072</td>\n",
              "    </tr>\n",
              "    <tr>\n",
              "      <th>12</th>\n",
              "      <td>momin</td>\n",
              "      <td>7045</td>\n",
              "    </tr>\n",
              "    <tr>\n",
              "      <th>11</th>\n",
              "      <td>mehmood</td>\n",
              "      <td>6885</td>\n",
              "    </tr>\n",
              "    <tr>\n",
              "      <th>15</th>\n",
              "      <td>rasid</td>\n",
              "      <td>6540</td>\n",
              "    </tr>\n",
              "    <tr>\n",
              "      <th>18</th>\n",
              "      <td>toheed</td>\n",
              "      <td>6215</td>\n",
              "    </tr>\n",
              "    <tr>\n",
              "      <th>13</th>\n",
              "      <td>mustakim</td>\n",
              "      <td>6075</td>\n",
              "    </tr>\n",
              "    <tr>\n",
              "      <th>3</th>\n",
              "      <td>farookh</td>\n",
              "      <td>5460</td>\n",
              "    </tr>\n",
              "    <tr>\n",
              "      <th>19</th>\n",
              "      <td>wajid</td>\n",
              "      <td>5437</td>\n",
              "    </tr>\n",
              "    <tr>\n",
              "      <th>17</th>\n",
              "      <td>shokeen</td>\n",
              "      <td>4983</td>\n",
              "    </tr>\n",
              "    <tr>\n",
              "      <th>4</th>\n",
              "      <td>gulfam</td>\n",
              "      <td>4980</td>\n",
              "    </tr>\n",
              "    <tr>\n",
              "      <th>2</th>\n",
              "      <td>amjad</td>\n",
              "      <td>4932</td>\n",
              "    </tr>\n",
              "    <tr>\n",
              "      <th>7</th>\n",
              "      <td>irsad</td>\n",
              "      <td>3875</td>\n",
              "    </tr>\n",
              "    <tr>\n",
              "      <th>14</th>\n",
              "      <td>rafakat</td>\n",
              "      <td>2152</td>\n",
              "    </tr>\n",
              "    <tr>\n",
              "      <th>16</th>\n",
              "      <td>shabir</td>\n",
              "      <td>1410</td>\n",
              "    </tr>\n",
              "    <tr>\n",
              "      <th>1</th>\n",
              "      <td>aashu</td>\n",
              "      <td>860</td>\n",
              "    </tr>\n",
              "  </tbody>\n",
              "</table>\n",
              "</div>"
            ],
            "text/plain": [
              "        Name Total Quantity\n",
              "9      jabir          10455\n",
              "6     haseen           9920\n",
              "10  khurseed           9515\n",
              "5      hasan           8588\n",
              "8      isran           7990\n",
              "0      aarif           7072\n",
              "12     momin           7045\n",
              "11   mehmood           6885\n",
              "15     rasid           6540\n",
              "18    toheed           6215\n",
              "13  mustakim           6075\n",
              "3    farookh           5460\n",
              "19     wajid           5437\n",
              "17   shokeen           4983\n",
              "4     gulfam           4980\n",
              "2      amjad           4932\n",
              "7      irsad           3875\n",
              "14   rafakat           2152\n",
              "16    shabir           1410\n",
              "1      aashu            860"
            ]
          },
          "metadata": {
            "tags": []
          },
          "execution_count": 118
        }
      ]
    },
    {
      "metadata": {
        "id": "INqOC5E_EZTz",
        "colab_type": "code",
        "outputId": "666ab8dd-f856-4e08-efb1-232dc22d698c",
        "colab": {
          "base_uri": "https://localhost:8080/",
          "height": 128
        }
      },
      "cell_type": "code",
      "source": [
        "pivot_diesel.head(1)"
      ],
      "execution_count": 119,
      "outputs": [
        {
          "output_type": "execute_result",
          "data": {
            "text/html": [
              "<div>\n",
              "<style scoped>\n",
              "    .dataframe tbody tr th:only-of-type {\n",
              "        vertical-align: middle;\n",
              "    }\n",
              "\n",
              "    .dataframe tbody tr th {\n",
              "        vertical-align: top;\n",
              "    }\n",
              "\n",
              "    .dataframe thead th {\n",
              "        text-align: right;\n",
              "    }\n",
              "</style>\n",
              "<table border=\"1\" class=\"dataframe\">\n",
              "  <thead>\n",
              "    <tr style=\"text-align: right;\">\n",
              "      <th>Date</th>\n",
              "      <th>2019-02-01 00:00:00</th>\n",
              "      <th>2019-02-02 00:00:00</th>\n",
              "      <th>2019-02-05 00:00:00</th>\n",
              "      <th>2019-02-06 00:00:00</th>\n",
              "      <th>2019-02-07 00:00:00</th>\n",
              "      <th>2019-02-10 00:00:00</th>\n",
              "      <th>2019-02-11 00:00:00</th>\n",
              "      <th>2019-02-12 00:00:00</th>\n",
              "      <th>2019-02-13 00:00:00</th>\n",
              "      <th>Total Diesel</th>\n",
              "    </tr>\n",
              "    <tr>\n",
              "      <th>Name</th>\n",
              "      <th></th>\n",
              "      <th></th>\n",
              "      <th></th>\n",
              "      <th></th>\n",
              "      <th></th>\n",
              "      <th></th>\n",
              "      <th></th>\n",
              "      <th></th>\n",
              "      <th></th>\n",
              "      <th></th>\n",
              "    </tr>\n",
              "  </thead>\n",
              "  <tbody>\n",
              "    <tr>\n",
              "      <th>Total</th>\n",
              "      <td>43500.0</td>\n",
              "      <td>3000.0</td>\n",
              "      <td>32000.0</td>\n",
              "      <td>30000.0</td>\n",
              "      <td>21000.0</td>\n",
              "      <td>32000.0</td>\n",
              "      <td>38000.0</td>\n",
              "      <td>36500.0</td>\n",
              "      <td>30000.0</td>\n",
              "      <td>266000.0</td>\n",
              "    </tr>\n",
              "  </tbody>\n",
              "</table>\n",
              "</div>"
            ],
            "text/plain": [
              "Date   2019-02-01 00:00:00  2019-02-02 00:00:00  2019-02-05 00:00:00  \\\n",
              "Name                                                                   \n",
              "Total              43500.0               3000.0              32000.0   \n",
              "\n",
              "Date   2019-02-06 00:00:00  2019-02-07 00:00:00  2019-02-10 00:00:00  \\\n",
              "Name                                                                   \n",
              "Total              30000.0              21000.0              32000.0   \n",
              "\n",
              "Date   2019-02-11 00:00:00  2019-02-12 00:00:00  2019-02-13 00:00:00  \\\n",
              "Name                                                                   \n",
              "Total              38000.0              36500.0              30000.0   \n",
              "\n",
              "Date   Total Diesel  \n",
              "Name                 \n",
              "Total      266000.0  "
            ]
          },
          "metadata": {
            "tags": []
          },
          "execution_count": 119
        }
      ]
    },
    {
      "metadata": {
        "id": "rQ38mb0NKfBu",
        "colab_type": "code",
        "colab": {
          "base_uri": "https://localhost:8080/",
          "height": 442
        },
        "outputId": "b17ec16e-1f81-41e3-a12f-4e3497bd8c25"
      },
      "cell_type": "code",
      "source": [
        "pivot_diesel.iloc[1:, 9]"
      ],
      "execution_count": 120,
      "outputs": [
        {
          "output_type": "execute_result",
          "data": {
            "text/plain": [
              "Name\n",
              "aarif        12000.0\n",
              "aashu         1500.0\n",
              "amjad         7000.0\n",
              "farookh       9000.0\n",
              "gulfam       10000.0\n",
              "hasan        12500.0\n",
              "haseen       15000.0\n",
              "irsad         8000.0\n",
              "isran        12500.0\n",
              "jabir        15000.0\n",
              "khurseed     11300.0\n",
              "momin        10270.0\n",
              "mustakim      9000.0\n",
              "noushad      47670.0\n",
              "poclain      27760.0\n",
              "rafakat       4000.0\n",
              "rasid         8500.0\n",
              "sabir jcb    10000.0\n",
              "sanjay        2500.0\n",
              "shabir        4500.0\n",
              "shokeen       7000.0\n",
              "toheed        9500.0\n",
              "wajid        11000.0\n",
              "Name: Total Diesel, dtype: float64"
            ]
          },
          "metadata": {
            "tags": []
          },
          "execution_count": 120
        }
      ]
    },
    {
      "metadata": {
        "id": "y5QZO633IIu2",
        "colab_type": "code",
        "colab": {
          "base_uri": "https://localhost:8080/",
          "height": 34
        },
        "outputId": "e6a59655-9e56-4251-e401-e08da0f44571"
      },
      "cell_type": "code",
      "source": [
        "sum(pivot_diesel.iloc[1:, 9])"
      ],
      "execution_count": 121,
      "outputs": [
        {
          "output_type": "execute_result",
          "data": {
            "text/plain": [
              "265500.0"
            ]
          },
          "metadata": {
            "tags": []
          },
          "execution_count": 121
        }
      ]
    },
    {
      "metadata": {
        "id": "TYYS60VIGZMD",
        "colab_type": "code",
        "colab": {
          "base_uri": "https://localhost:8080/",
          "height": 793
        },
        "outputId": "aff0c4c9-5c33-468d-fa1a-b1892752046b"
      },
      "cell_type": "code",
      "source": [
        "diesel = pd.DataFrame(pivot_diesel.iloc[1:, 9])\n",
        "diesel"
      ],
      "execution_count": 122,
      "outputs": [
        {
          "output_type": "execute_result",
          "data": {
            "text/html": [
              "<div>\n",
              "<style scoped>\n",
              "    .dataframe tbody tr th:only-of-type {\n",
              "        vertical-align: middle;\n",
              "    }\n",
              "\n",
              "    .dataframe tbody tr th {\n",
              "        vertical-align: top;\n",
              "    }\n",
              "\n",
              "    .dataframe thead th {\n",
              "        text-align: right;\n",
              "    }\n",
              "</style>\n",
              "<table border=\"1\" class=\"dataframe\">\n",
              "  <thead>\n",
              "    <tr style=\"text-align: right;\">\n",
              "      <th></th>\n",
              "      <th>Total Diesel</th>\n",
              "    </tr>\n",
              "    <tr>\n",
              "      <th>Name</th>\n",
              "      <th></th>\n",
              "    </tr>\n",
              "  </thead>\n",
              "  <tbody>\n",
              "    <tr>\n",
              "      <th>aarif</th>\n",
              "      <td>12000.0</td>\n",
              "    </tr>\n",
              "    <tr>\n",
              "      <th>aashu</th>\n",
              "      <td>1500.0</td>\n",
              "    </tr>\n",
              "    <tr>\n",
              "      <th>amjad</th>\n",
              "      <td>7000.0</td>\n",
              "    </tr>\n",
              "    <tr>\n",
              "      <th>farookh</th>\n",
              "      <td>9000.0</td>\n",
              "    </tr>\n",
              "    <tr>\n",
              "      <th>gulfam</th>\n",
              "      <td>10000.0</td>\n",
              "    </tr>\n",
              "    <tr>\n",
              "      <th>hasan</th>\n",
              "      <td>12500.0</td>\n",
              "    </tr>\n",
              "    <tr>\n",
              "      <th>haseen</th>\n",
              "      <td>15000.0</td>\n",
              "    </tr>\n",
              "    <tr>\n",
              "      <th>irsad</th>\n",
              "      <td>8000.0</td>\n",
              "    </tr>\n",
              "    <tr>\n",
              "      <th>isran</th>\n",
              "      <td>12500.0</td>\n",
              "    </tr>\n",
              "    <tr>\n",
              "      <th>jabir</th>\n",
              "      <td>15000.0</td>\n",
              "    </tr>\n",
              "    <tr>\n",
              "      <th>khurseed</th>\n",
              "      <td>11300.0</td>\n",
              "    </tr>\n",
              "    <tr>\n",
              "      <th>momin</th>\n",
              "      <td>10270.0</td>\n",
              "    </tr>\n",
              "    <tr>\n",
              "      <th>mustakim</th>\n",
              "      <td>9000.0</td>\n",
              "    </tr>\n",
              "    <tr>\n",
              "      <th>noushad</th>\n",
              "      <td>47670.0</td>\n",
              "    </tr>\n",
              "    <tr>\n",
              "      <th>poclain</th>\n",
              "      <td>27760.0</td>\n",
              "    </tr>\n",
              "    <tr>\n",
              "      <th>rafakat</th>\n",
              "      <td>4000.0</td>\n",
              "    </tr>\n",
              "    <tr>\n",
              "      <th>rasid</th>\n",
              "      <td>8500.0</td>\n",
              "    </tr>\n",
              "    <tr>\n",
              "      <th>sabir jcb</th>\n",
              "      <td>10000.0</td>\n",
              "    </tr>\n",
              "    <tr>\n",
              "      <th>sanjay</th>\n",
              "      <td>2500.0</td>\n",
              "    </tr>\n",
              "    <tr>\n",
              "      <th>shabir</th>\n",
              "      <td>4500.0</td>\n",
              "    </tr>\n",
              "    <tr>\n",
              "      <th>shokeen</th>\n",
              "      <td>7000.0</td>\n",
              "    </tr>\n",
              "    <tr>\n",
              "      <th>toheed</th>\n",
              "      <td>9500.0</td>\n",
              "    </tr>\n",
              "    <tr>\n",
              "      <th>wajid</th>\n",
              "      <td>11000.0</td>\n",
              "    </tr>\n",
              "  </tbody>\n",
              "</table>\n",
              "</div>"
            ],
            "text/plain": [
              "           Total Diesel\n",
              "Name                   \n",
              "aarif           12000.0\n",
              "aashu            1500.0\n",
              "amjad            7000.0\n",
              "farookh          9000.0\n",
              "gulfam          10000.0\n",
              "hasan           12500.0\n",
              "haseen          15000.0\n",
              "irsad            8000.0\n",
              "isran           12500.0\n",
              "jabir           15000.0\n",
              "khurseed        11300.0\n",
              "momin           10270.0\n",
              "mustakim         9000.0\n",
              "noushad         47670.0\n",
              "poclain         27760.0\n",
              "rafakat          4000.0\n",
              "rasid            8500.0\n",
              "sabir jcb       10000.0\n",
              "sanjay           2500.0\n",
              "shabir           4500.0\n",
              "shokeen          7000.0\n",
              "toheed           9500.0\n",
              "wajid           11000.0"
            ]
          },
          "metadata": {
            "tags": []
          },
          "execution_count": 122
        }
      ]
    },
    {
      "metadata": {
        "id": "O41jy7MMMnRo",
        "colab_type": "code",
        "colab": {}
      },
      "cell_type": "code",
      "source": [
        "diesel.reset_index(inplace = True)"
      ],
      "execution_count": 0,
      "outputs": []
    },
    {
      "metadata": {
        "id": "QmuplIIOMtwd",
        "colab_type": "code",
        "colab": {
          "base_uri": "https://localhost:8080/",
          "height": 80
        },
        "outputId": "6b6f2fd7-3bef-4f2c-a03f-71ed31b3ec3b"
      },
      "cell_type": "code",
      "source": [
        "diesel.head(1)"
      ],
      "execution_count": 124,
      "outputs": [
        {
          "output_type": "execute_result",
          "data": {
            "text/html": [
              "<div>\n",
              "<style scoped>\n",
              "    .dataframe tbody tr th:only-of-type {\n",
              "        vertical-align: middle;\n",
              "    }\n",
              "\n",
              "    .dataframe tbody tr th {\n",
              "        vertical-align: top;\n",
              "    }\n",
              "\n",
              "    .dataframe thead th {\n",
              "        text-align: right;\n",
              "    }\n",
              "</style>\n",
              "<table border=\"1\" class=\"dataframe\">\n",
              "  <thead>\n",
              "    <tr style=\"text-align: right;\">\n",
              "      <th></th>\n",
              "      <th>Name</th>\n",
              "      <th>Total Diesel</th>\n",
              "    </tr>\n",
              "  </thead>\n",
              "  <tbody>\n",
              "    <tr>\n",
              "      <th>0</th>\n",
              "      <td>aarif</td>\n",
              "      <td>12000.0</td>\n",
              "    </tr>\n",
              "  </tbody>\n",
              "</table>\n",
              "</div>"
            ],
            "text/plain": [
              "    Name  Total Diesel\n",
              "0  aarif       12000.0"
            ]
          },
          "metadata": {
            "tags": []
          },
          "execution_count": 124
        }
      ]
    },
    {
      "metadata": {
        "id": "cJvCrs5eHUzH",
        "colab_type": "code",
        "outputId": "10e4c652-95a8-4451-cc7b-49a45cc0c1cc",
        "colab": {
          "base_uri": "https://localhost:8080/",
          "height": 34
        }
      },
      "cell_type": "code",
      "source": [
        "name_total_quantity.shape"
      ],
      "execution_count": 125,
      "outputs": [
        {
          "output_type": "execute_result",
          "data": {
            "text/plain": [
              "(20, 2)"
            ]
          },
          "metadata": {
            "tags": []
          },
          "execution_count": 125
        }
      ]
    },
    {
      "metadata": {
        "id": "bIgFlZSgHZ2Z",
        "colab_type": "code",
        "outputId": "8be0be4d-7e9d-4a55-d16d-bc447af0ad79",
        "colab": {
          "base_uri": "https://localhost:8080/",
          "height": 34
        }
      },
      "cell_type": "code",
      "source": [
        "diesel.shape"
      ],
      "execution_count": 126,
      "outputs": [
        {
          "output_type": "execute_result",
          "data": {
            "text/plain": [
              "(23, 2)"
            ]
          },
          "metadata": {
            "tags": []
          },
          "execution_count": 126
        }
      ]
    },
    {
      "metadata": {
        "id": "Dt0tY1MmKWaE",
        "colab_type": "code",
        "colab": {}
      },
      "cell_type": "code",
      "source": [
        "final = pd.DataFrame(columns = ['Name','Count' , 'Total Quantity', 'Amount', 'Diesel', 'Amount - Diesel'])\n",
        "for i in range(len(name_total_quantity)):\n",
        "  for j in range(len(diesel)):\n",
        "    if name_total_quantity.Name[i] == diesel.Name[j]:\n",
        "      final = final.append({'Name': diesel.Name[j],'Total Quantity':name_total_quantity['Total Quantity'][i] ,\n",
        "                            'Count':rounds_per_name.get(diesel.Name[j]),\n",
        "                            'Amount':name_total_quantity['Total Quantity'][i]*3,\n",
        "                            'Diesel':diesel['Total Diesel'][j],\n",
        "                            'Amount - Diesel':name_total_quantity['Total Quantity'][i]*3 - diesel['Total Diesel'][j]},\n",
        "                           ignore_index = True)\n",
        "    "
      ],
      "execution_count": 0,
      "outputs": []
    },
    {
      "metadata": {
        "id": "pqq9bOw3M6j4",
        "colab_type": "code",
        "outputId": "e92ea58d-90b3-4d1a-a931-a7ae6c36e48b",
        "colab": {
          "base_uri": "https://localhost:8080/",
          "height": 638
        }
      },
      "cell_type": "code",
      "source": [
        "final.sort_values(by = 'Total Quantity', ascending = False, inplace = True)\n",
        "final"
      ],
      "execution_count": 128,
      "outputs": [
        {
          "output_type": "execute_result",
          "data": {
            "text/html": [
              "<div>\n",
              "<style scoped>\n",
              "    .dataframe tbody tr th:only-of-type {\n",
              "        vertical-align: middle;\n",
              "    }\n",
              "\n",
              "    .dataframe tbody tr th {\n",
              "        vertical-align: top;\n",
              "    }\n",
              "\n",
              "    .dataframe thead th {\n",
              "        text-align: right;\n",
              "    }\n",
              "</style>\n",
              "<table border=\"1\" class=\"dataframe\">\n",
              "  <thead>\n",
              "    <tr style=\"text-align: right;\">\n",
              "      <th></th>\n",
              "      <th>Name</th>\n",
              "      <th>Count</th>\n",
              "      <th>Total Quantity</th>\n",
              "      <th>Amount</th>\n",
              "      <th>Diesel</th>\n",
              "      <th>Amount - Diesel</th>\n",
              "    </tr>\n",
              "  </thead>\n",
              "  <tbody>\n",
              "    <tr>\n",
              "      <th>9</th>\n",
              "      <td>jabir</td>\n",
              "      <td>25</td>\n",
              "      <td>10455</td>\n",
              "      <td>31365</td>\n",
              "      <td>15000.0</td>\n",
              "      <td>16365.0</td>\n",
              "    </tr>\n",
              "    <tr>\n",
              "      <th>6</th>\n",
              "      <td>haseen</td>\n",
              "      <td>20</td>\n",
              "      <td>9920</td>\n",
              "      <td>29760</td>\n",
              "      <td>15000.0</td>\n",
              "      <td>14760.0</td>\n",
              "    </tr>\n",
              "    <tr>\n",
              "      <th>10</th>\n",
              "      <td>khurseed</td>\n",
              "      <td>21</td>\n",
              "      <td>9515</td>\n",
              "      <td>28545</td>\n",
              "      <td>11300.0</td>\n",
              "      <td>17245.0</td>\n",
              "    </tr>\n",
              "    <tr>\n",
              "      <th>5</th>\n",
              "      <td>hasan</td>\n",
              "      <td>16</td>\n",
              "      <td>8588</td>\n",
              "      <td>25764</td>\n",
              "      <td>12500.0</td>\n",
              "      <td>13264.0</td>\n",
              "    </tr>\n",
              "    <tr>\n",
              "      <th>8</th>\n",
              "      <td>isran</td>\n",
              "      <td>17</td>\n",
              "      <td>7990</td>\n",
              "      <td>23970</td>\n",
              "      <td>12500.0</td>\n",
              "      <td>11470.0</td>\n",
              "    </tr>\n",
              "    <tr>\n",
              "      <th>0</th>\n",
              "      <td>aarif</td>\n",
              "      <td>17</td>\n",
              "      <td>7072</td>\n",
              "      <td>21216</td>\n",
              "      <td>12000.0</td>\n",
              "      <td>9216.0</td>\n",
              "    </tr>\n",
              "    <tr>\n",
              "      <th>11</th>\n",
              "      <td>momin</td>\n",
              "      <td>17</td>\n",
              "      <td>7045</td>\n",
              "      <td>21135</td>\n",
              "      <td>10270.0</td>\n",
              "      <td>10865.0</td>\n",
              "    </tr>\n",
              "    <tr>\n",
              "      <th>14</th>\n",
              "      <td>rasid</td>\n",
              "      <td>16</td>\n",
              "      <td>6540</td>\n",
              "      <td>19620</td>\n",
              "      <td>8500.0</td>\n",
              "      <td>11120.0</td>\n",
              "    </tr>\n",
              "    <tr>\n",
              "      <th>17</th>\n",
              "      <td>toheed</td>\n",
              "      <td>15</td>\n",
              "      <td>6215</td>\n",
              "      <td>18645</td>\n",
              "      <td>9500.0</td>\n",
              "      <td>9145.0</td>\n",
              "    </tr>\n",
              "    <tr>\n",
              "      <th>12</th>\n",
              "      <td>mustakim</td>\n",
              "      <td>15</td>\n",
              "      <td>6075</td>\n",
              "      <td>18225</td>\n",
              "      <td>9000.0</td>\n",
              "      <td>9225.0</td>\n",
              "    </tr>\n",
              "    <tr>\n",
              "      <th>3</th>\n",
              "      <td>farookh</td>\n",
              "      <td>13</td>\n",
              "      <td>5460</td>\n",
              "      <td>16380</td>\n",
              "      <td>9000.0</td>\n",
              "      <td>7380.0</td>\n",
              "    </tr>\n",
              "    <tr>\n",
              "      <th>18</th>\n",
              "      <td>wajid</td>\n",
              "      <td>13</td>\n",
              "      <td>5437</td>\n",
              "      <td>16311</td>\n",
              "      <td>11000.0</td>\n",
              "      <td>5311.0</td>\n",
              "    </tr>\n",
              "    <tr>\n",
              "      <th>16</th>\n",
              "      <td>shokeen</td>\n",
              "      <td>11</td>\n",
              "      <td>4983</td>\n",
              "      <td>14949</td>\n",
              "      <td>7000.0</td>\n",
              "      <td>7949.0</td>\n",
              "    </tr>\n",
              "    <tr>\n",
              "      <th>4</th>\n",
              "      <td>gulfam</td>\n",
              "      <td>10</td>\n",
              "      <td>4980</td>\n",
              "      <td>14940</td>\n",
              "      <td>10000.0</td>\n",
              "      <td>4940.0</td>\n",
              "    </tr>\n",
              "    <tr>\n",
              "      <th>2</th>\n",
              "      <td>amjad</td>\n",
              "      <td>12</td>\n",
              "      <td>4932</td>\n",
              "      <td>14796</td>\n",
              "      <td>7000.0</td>\n",
              "      <td>7796.0</td>\n",
              "    </tr>\n",
              "    <tr>\n",
              "      <th>7</th>\n",
              "      <td>irsad</td>\n",
              "      <td>9</td>\n",
              "      <td>3875</td>\n",
              "      <td>11625</td>\n",
              "      <td>8000.0</td>\n",
              "      <td>3625.0</td>\n",
              "    </tr>\n",
              "    <tr>\n",
              "      <th>13</th>\n",
              "      <td>rafakat</td>\n",
              "      <td>4</td>\n",
              "      <td>2152</td>\n",
              "      <td>6456</td>\n",
              "      <td>4000.0</td>\n",
              "      <td>2456.0</td>\n",
              "    </tr>\n",
              "    <tr>\n",
              "      <th>15</th>\n",
              "      <td>shabir</td>\n",
              "      <td>3</td>\n",
              "      <td>1410</td>\n",
              "      <td>4230</td>\n",
              "      <td>4500.0</td>\n",
              "      <td>-270.0</td>\n",
              "    </tr>\n",
              "    <tr>\n",
              "      <th>1</th>\n",
              "      <td>aashu</td>\n",
              "      <td>2</td>\n",
              "      <td>860</td>\n",
              "      <td>2580</td>\n",
              "      <td>1500.0</td>\n",
              "      <td>1080.0</td>\n",
              "    </tr>\n",
              "  </tbody>\n",
              "</table>\n",
              "</div>"
            ],
            "text/plain": [
              "        Name Count Total Quantity Amount   Diesel  Amount - Diesel\n",
              "9      jabir    25          10455  31365  15000.0          16365.0\n",
              "6     haseen    20           9920  29760  15000.0          14760.0\n",
              "10  khurseed    21           9515  28545  11300.0          17245.0\n",
              "5      hasan    16           8588  25764  12500.0          13264.0\n",
              "8      isran    17           7990  23970  12500.0          11470.0\n",
              "0      aarif    17           7072  21216  12000.0           9216.0\n",
              "11     momin    17           7045  21135  10270.0          10865.0\n",
              "14     rasid    16           6540  19620   8500.0          11120.0\n",
              "17    toheed    15           6215  18645   9500.0           9145.0\n",
              "12  mustakim    15           6075  18225   9000.0           9225.0\n",
              "3    farookh    13           5460  16380   9000.0           7380.0\n",
              "18     wajid    13           5437  16311  11000.0           5311.0\n",
              "16   shokeen    11           4983  14949   7000.0           7949.0\n",
              "4     gulfam    10           4980  14940  10000.0           4940.0\n",
              "2      amjad    12           4932  14796   7000.0           7796.0\n",
              "7      irsad     9           3875  11625   8000.0           3625.0\n",
              "13   rafakat     4           2152   6456   4000.0           2456.0\n",
              "15    shabir     3           1410   4230   4500.0           -270.0\n",
              "1      aashu     2            860   2580   1500.0           1080.0"
            ]
          },
          "metadata": {
            "tags": []
          },
          "execution_count": 128
        }
      ]
    },
    {
      "metadata": {
        "id": "j9mtOxxVNFDu",
        "colab_type": "code",
        "outputId": "76e1ad3d-72a5-454e-8978-7d15e2619600",
        "colab": {
          "base_uri": "https://localhost:8080/",
          "height": 34
        }
      },
      "cell_type": "code",
      "source": [
        "final.shape"
      ],
      "execution_count": 129,
      "outputs": [
        {
          "output_type": "execute_result",
          "data": {
            "text/plain": [
              "(19, 6)"
            ]
          },
          "metadata": {
            "tags": []
          },
          "execution_count": 129
        }
      ]
    },
    {
      "metadata": {
        "id": "2dFxg-EjQHiR",
        "colab_type": "code",
        "colab": {
          "base_uri": "https://localhost:8080/",
          "height": 34
        },
        "outputId": "620298cd-927b-401a-c282-ed1b0567048d"
      },
      "cell_type": "code",
      "source": [
        "total_q = sum(final['Total Quantity'])\n",
        "total_q"
      ],
      "execution_count": 130,
      "outputs": [
        {
          "output_type": "execute_result",
          "data": {
            "text/plain": [
              "113504"
            ]
          },
          "metadata": {
            "tags": []
          },
          "execution_count": 130
        }
      ]
    },
    {
      "metadata": {
        "id": "_0al7GQXkDXf",
        "colab_type": "text"
      },
      "cell_type": "markdown",
      "source": [
        "# Total payable"
      ]
    },
    {
      "metadata": {
        "id": "Gnvgr72nOi46",
        "colab_type": "code",
        "colab": {
          "base_uri": "https://localhost:8080/",
          "height": 34
        },
        "outputId": "fe5122e0-538a-4fe7-bbb9-816c508342eb"
      },
      "cell_type": "code",
      "source": [
        "our_amount = total_quantity*4.25\n",
        "our_amount"
      ],
      "execution_count": 131,
      "outputs": [
        {
          "output_type": "execute_result",
          "data": {
            "text/plain": [
              "511653.25"
            ]
          },
          "metadata": {
            "tags": []
          },
          "execution_count": 131
        }
      ]
    },
    {
      "metadata": {
        "id": "2y-CqyDROs15",
        "colab_type": "code",
        "colab": {
          "base_uri": "https://localhost:8080/",
          "height": 34
        },
        "outputId": "e3436373-db67-492c-93dc-36bd65f51dfb"
      },
      "cell_type": "code",
      "source": [
        "total_diesel"
      ],
      "execution_count": 132,
      "outputs": [
        {
          "output_type": "execute_result",
          "data": {
            "text/plain": [
              "266000.0"
            ]
          },
          "metadata": {
            "tags": []
          },
          "execution_count": 132
        }
      ]
    },
    {
      "metadata": {
        "id": "RcA_MAG7O8eW",
        "colab_type": "text"
      },
      "cell_type": "markdown",
      "source": [
        "# Our Balance"
      ]
    },
    {
      "metadata": {
        "id": "0sA_9sP9OxEs",
        "colab_type": "code",
        "colab": {
          "base_uri": "https://localhost:8080/",
          "height": 34
        },
        "outputId": "52bce73f-74ed-47fc-b1df-aaf7b3eadb6c"
      },
      "cell_type": "code",
      "source": [
        "balance = our_amount - total_diesel\n",
        "balance"
      ],
      "execution_count": 133,
      "outputs": [
        {
          "output_type": "execute_result",
          "data": {
            "text/plain": [
              "245653.25"
            ]
          },
          "metadata": {
            "tags": []
          },
          "execution_count": 133
        }
      ]
    },
    {
      "metadata": {
        "id": "qjdbMaeqO5Mo",
        "colab_type": "text"
      },
      "cell_type": "markdown",
      "source": [
        "# Tot to People"
      ]
    },
    {
      "metadata": {
        "id": "6XWkfa0VyQGy",
        "colab_type": "code",
        "outputId": "9ddb513e-af21-4fa9-b278-1c3b2c24f860",
        "colab": {
          "base_uri": "https://localhost:8080/",
          "height": 34
        }
      },
      "cell_type": "code",
      "source": [
        "to_people = sum(final['Amount - Diesel'])\n",
        "to_people"
      ],
      "execution_count": 134,
      "outputs": [
        {
          "output_type": "execute_result",
          "data": {
            "text/plain": [
              "162942.0"
            ]
          },
          "metadata": {
            "tags": []
          },
          "execution_count": 134
        }
      ]
    },
    {
      "metadata": {
        "id": "tPhUGIFiN7bm",
        "colab_type": "text"
      },
      "cell_type": "markdown",
      "source": [
        "# Profit"
      ]
    },
    {
      "metadata": {
        "id": "KFBw3UuZPZSr",
        "colab_type": "code",
        "colab": {
          "base_uri": "https://localhost:8080/",
          "height": 34
        },
        "outputId": "9f3d9262-84c2-4e29-896a-de2861467357"
      },
      "cell_type": "code",
      "source": [
        "noushad = pivot_diesel.loc['noushad']['Total Diesel']\n",
        "noushad"
      ],
      "execution_count": 135,
      "outputs": [
        {
          "output_type": "execute_result",
          "data": {
            "text/plain": [
              "47670.0"
            ]
          },
          "metadata": {
            "tags": []
          },
          "execution_count": 135
        }
      ]
    },
    {
      "metadata": {
        "id": "6pDOWf5cPM9R",
        "colab_type": "code",
        "colab": {
          "base_uri": "https://localhost:8080/",
          "height": 34
        },
        "outputId": "91528c31-de38-4366-b80e-505a33ec21fa"
      },
      "cell_type": "code",
      "source": [
        "balance - to_people + noushad"
      ],
      "execution_count": 136,
      "outputs": [
        {
          "output_type": "execute_result",
          "data": {
            "text/plain": [
              "130381.25"
            ]
          },
          "metadata": {
            "tags": []
          },
          "execution_count": 136
        }
      ]
    }
  ]
}