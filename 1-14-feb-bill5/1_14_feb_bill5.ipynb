{
  "nbformat": 4,
  "nbformat_minor": 0,
  "metadata": {
    "colab": {
      "name": "1_14_feb-bill5.ipynb",
      "version": "0.3.2",
      "provenance": [],
      "collapsed_sections": [],
      "include_colab_link": true
    },
    "kernelspec": {
      "name": "python3",
      "display_name": "Python 3"
    }
  },
  "cells": [
    {
      "cell_type": "markdown",
      "metadata": {
        "id": "view-in-github",
        "colab_type": "text"
      },
      "source": [
        "<a href=\"https://colab.research.google.com/github/noushadkhan01/kansepur-flyash-project/blob/master/1-14-feb-bill5/1_14_feb_bill5.ipynb\" target=\"_parent\"><img src=\"https://colab.research.google.com/assets/colab-badge.svg\" alt=\"Open In Colab\"/></a>"
      ]
    },
    {
      "metadata": {
        "id": "so-LEjYwlBUq",
        "colab_type": "code",
        "outputId": "6864b4b3-dadb-44f4-9612-8201ab69f847",
        "colab": {
          "base_uri": "https://localhost:8080/",
          "height": 136
        }
      },
      "cell_type": "code",
      "source": [
        "!git clone https://github.com/noushadkhan01/kansepur-flyash-project.git"
      ],
      "execution_count": 1,
      "outputs": [
        {
          "output_type": "stream",
          "text": [
            "Cloning into 'kansepur-flyash-project'...\n",
            "remote: Enumerating objects: 15, done.\u001b[K\n",
            "remote: Counting objects:   6% (1/15)   \u001b[K\rremote: Counting objects:  13% (2/15)   \u001b[K\rremote: Counting objects:  20% (3/15)   \u001b[K\rremote: Counting objects:  26% (4/15)   \u001b[K\rremote: Counting objects:  33% (5/15)   \u001b[K\rremote: Counting objects:  40% (6/15)   \u001b[K\rremote: Counting objects:  46% (7/15)   \u001b[K\rremote: Counting objects:  53% (8/15)   \u001b[K\rremote: Counting objects:  60% (9/15)   \u001b[K\rremote: Counting objects:  66% (10/15)   \u001b[K\rremote: Counting objects:  73% (11/15)   \u001b[K\rremote: Counting objects:  80% (12/15)   \u001b[K\rremote: Counting objects:  86% (13/15)   \u001b[K\rremote: Counting objects:  93% (14/15)   \u001b[K\rremote: Counting objects: 100% (15/15)   \u001b[K\rremote: Counting objects: 100% (15/15), done.\u001b[K\n",
            "remote: Compressing objects:   7% (1/13)   \u001b[K\rremote: Compressing objects:  15% (2/13)   \u001b[K\rremote: Compressing objects:  23% (3/13)   \u001b[K\rremote: Compressing objects:  30% (4/13)   \u001b[K\rremote: Compressing objects:  38% (5/13)   \u001b[K\rremote: Compressing objects:  46% (6/13)   \u001b[K\rremote: Compressing objects:  53% (7/13)   \u001b[K\rremote: Compressing objects:  61% (8/13)   \u001b[K\rremote: Compressing objects:  69% (9/13)   \u001b[K\rremote: Compressing objects:  76% (10/13)   \u001b[K\rremote: Compressing objects:  84% (11/13)   \u001b[K\rremote: Compressing objects:  92% (12/13)   \u001b[K\rremote: Compressing objects: 100% (13/13)   \u001b[K\rremote: Compressing objects: 100% (13/13), done.\u001b[K\n",
            "Receiving objects:   0% (1/255)   \rReceiving objects:   1% (3/255)   \rReceiving objects:   2% (6/255)   \rReceiving objects:   3% (8/255)   \rReceiving objects:   4% (11/255)   \rReceiving objects:   5% (13/255)   \rReceiving objects:   6% (16/255)   \rReceiving objects:   7% (18/255)   \rReceiving objects:   8% (21/255)   \rReceiving objects:   9% (23/255)   \rReceiving objects:  10% (26/255)   \rReceiving objects:  11% (29/255)   \rReceiving objects:  12% (31/255)   \rReceiving objects:  13% (34/255)   \rReceiving objects:  14% (36/255)   \rReceiving objects:  15% (39/255)   \rReceiving objects:  16% (41/255)   \rReceiving objects:  17% (44/255)   \rReceiving objects:  18% (46/255)   \rReceiving objects:  19% (49/255)   \rReceiving objects:  20% (51/255)   \rReceiving objects:  21% (54/255)   \rReceiving objects:  22% (57/255)   \rReceiving objects:  23% (59/255)   \rReceiving objects:  24% (62/255)   \rReceiving objects:  25% (64/255)   \rReceiving objects:  26% (67/255)   \rReceiving objects:  27% (69/255)   \rReceiving objects:  28% (72/255)   \rReceiving objects:  29% (74/255)   \rReceiving objects:  30% (77/255)   \rReceiving objects:  31% (80/255)   \rReceiving objects:  32% (82/255)   \rReceiving objects:  33% (85/255)   \rReceiving objects:  34% (87/255)   \rReceiving objects:  35% (90/255)   \rReceiving objects:  36% (92/255)   \rReceiving objects:  37% (95/255)   \rReceiving objects:  38% (97/255)   \rReceiving objects:  39% (100/255)   \rReceiving objects:  40% (102/255)   \rReceiving objects:  41% (105/255)   \rReceiving objects:  42% (108/255)   \rReceiving objects:  43% (110/255)   \rReceiving objects:  44% (113/255)   \rReceiving objects:  45% (115/255)   \rReceiving objects:  46% (118/255)   \rReceiving objects:  47% (120/255)   \rReceiving objects:  48% (123/255)   \rReceiving objects:  49% (125/255)   \rReceiving objects:  50% (128/255)   \rReceiving objects:  51% (131/255)   \rReceiving objects:  52% (133/255)   \rReceiving objects:  53% (136/255)   \rReceiving objects:  54% (138/255)   \rReceiving objects:  55% (141/255)   \rReceiving objects:  56% (143/255)   \rReceiving objects:  57% (146/255)   \rReceiving objects:  58% (148/255)   \rReceiving objects:  59% (151/255)   \rReceiving objects:  60% (153/255)   \rReceiving objects:  61% (156/255)   \rReceiving objects:  62% (159/255)   \rReceiving objects:  63% (161/255)   \rReceiving objects:  64% (164/255)   \rReceiving objects:  65% (166/255)   \rReceiving objects:  66% (169/255)   \rReceiving objects:  67% (171/255)   \rReceiving objects:  68% (174/255)   \rReceiving objects:  69% (176/255)   \rReceiving objects:  70% (179/255)   \rReceiving objects:  71% (182/255)   \rReceiving objects:  72% (184/255)   \rReceiving objects:  73% (187/255)   \rReceiving objects:  74% (189/255)   \rReceiving objects:  75% (192/255)   \rReceiving objects:  76% (194/255)   \rReceiving objects:  77% (197/255)   \rReceiving objects:  78% (199/255)   \rReceiving objects:  79% (202/255)   \rReceiving objects:  80% (204/255)   \rReceiving objects:  81% (207/255)   \rReceiving objects:  82% (210/255)   \rReceiving objects:  83% (212/255)   \rReceiving objects:  84% (215/255)   \rReceiving objects:  85% (217/255)   \rReceiving objects:  86% (220/255)   \rReceiving objects:  87% (222/255)   \rReceiving objects:  88% (225/255)   \rReceiving objects:  89% (227/255)   \rReceiving objects:  90% (230/255)   \rremote: Total 255 (delta 3), reused 0 (delta 0), pack-reused 240\u001b[K\n",
            "Receiving objects:  91% (233/255)   \rReceiving objects:  92% (235/255)   \rReceiving objects:  93% (238/255)   \rReceiving objects:  94% (240/255)   \rReceiving objects:  95% (243/255)   \rReceiving objects:  96% (245/255)   \rReceiving objects:  97% (248/255)   \rReceiving objects:  98% (250/255)   \rReceiving objects:  99% (253/255)   \rReceiving objects: 100% (255/255)   \rReceiving objects: 100% (255/255), 613.07 KiB | 3.10 MiB/s, done.\n",
            "Resolving deltas:   0% (0/111)   \rResolving deltas:  18% (21/111)   \rResolving deltas:  19% (22/111)   \rResolving deltas:  30% (34/111)   \rResolving deltas:  31% (35/111)   \rResolving deltas:  32% (36/111)   \rResolving deltas:  33% (37/111)   \rResolving deltas:  34% (38/111)   \rResolving deltas:  36% (40/111)   \rResolving deltas:  56% (63/111)   \rResolving deltas:  57% (64/111)   \rResolving deltas:  59% (66/111)   \rResolving deltas:  61% (68/111)   \rResolving deltas:  63% (70/111)   \rResolving deltas:  66% (74/111)   \rResolving deltas:  77% (86/111)   \rResolving deltas:  78% (87/111)   \rResolving deltas:  79% (88/111)   \rResolving deltas:  82% (92/111)   \rResolving deltas:  85% (95/111)   \rResolving deltas: 100% (111/111)   \rResolving deltas: 100% (111/111), done.\n"
          ],
          "name": "stdout"
        }
      ]
    },
    {
      "metadata": {
        "id": "g1NpP5jtlH5r",
        "colab_type": "code",
        "colab": {}
      },
      "cell_type": "code",
      "source": [
        "import pandas as pd"
      ],
      "execution_count": 0,
      "outputs": []
    },
    {
      "metadata": {
        "id": "vgRnsjiMlJvN",
        "colab_type": "code",
        "outputId": "da442e33-3d32-4ffc-da6e-c5aab0f8c863",
        "colab": {
          "base_uri": "https://localhost:8080/",
          "height": 34
        }
      },
      "cell_type": "code",
      "source": [
        "%cd ./kansepur-flyash-project/1-14-feb-bill5/"
      ],
      "execution_count": 3,
      "outputs": [
        {
          "output_type": "stream",
          "text": [
            "/content/kansepur-flyash-project/1-14-feb-bill5\n"
          ],
          "name": "stdout"
        }
      ]
    },
    {
      "metadata": {
        "id": "B6lL48hFlOrB",
        "colab_type": "code",
        "outputId": "03930d6c-3e7a-4d55-b5dd-8c575770e35e",
        "colab": {
          "base_uri": "https://localhost:8080/",
          "height": 34
        }
      },
      "cell_type": "code",
      "source": [
        "!ls"
      ],
      "execution_count": 4,
      "outputs": [
        {
          "output_type": "stream",
          "text": [
            "1_14_feb_bill.xlsx\n"
          ],
          "name": "stdout"
        }
      ]
    },
    {
      "metadata": {
        "id": "THAUXyC0lPYh",
        "colab_type": "code",
        "outputId": "73347469-ec01-4e7a-9b93-39de9297732b",
        "colab": {
          "base_uri": "https://localhost:8080/",
          "height": 204
        }
      },
      "cell_type": "code",
      "source": [
        "df = pd.read_excel('1_14_feb_bill.xlsx', 'Sheet1')\n",
        "df.head()"
      ],
      "execution_count": 5,
      "outputs": [
        {
          "output_type": "execute_result",
          "data": {
            "text/html": [
              "<div>\n",
              "<style scoped>\n",
              "    .dataframe tbody tr th:only-of-type {\n",
              "        vertical-align: middle;\n",
              "    }\n",
              "\n",
              "    .dataframe tbody tr th {\n",
              "        vertical-align: top;\n",
              "    }\n",
              "\n",
              "    .dataframe thead th {\n",
              "        text-align: right;\n",
              "    }\n",
              "</style>\n",
              "<table border=\"1\" class=\"dataframe\">\n",
              "  <thead>\n",
              "    <tr style=\"text-align: right;\">\n",
              "      <th></th>\n",
              "      <th>S.No.</th>\n",
              "      <th>Date</th>\n",
              "      <th>Counts</th>\n",
              "      <th>Name</th>\n",
              "      <th>Quantity</th>\n",
              "      <th>Diesel</th>\n",
              "    </tr>\n",
              "  </thead>\n",
              "  <tbody>\n",
              "    <tr>\n",
              "      <th>0</th>\n",
              "      <td>1.0</td>\n",
              "      <td>2019-02-01</td>\n",
              "      <td>1.0</td>\n",
              "      <td>khurseed</td>\n",
              "      <td>455</td>\n",
              "      <td>NaN</td>\n",
              "    </tr>\n",
              "    <tr>\n",
              "      <th>1</th>\n",
              "      <td>2.0</td>\n",
              "      <td>NaT</td>\n",
              "      <td>2.0</td>\n",
              "      <td>momin</td>\n",
              "      <td>415</td>\n",
              "      <td>NaN</td>\n",
              "    </tr>\n",
              "    <tr>\n",
              "      <th>2</th>\n",
              "      <td>3.0</td>\n",
              "      <td>NaT</td>\n",
              "      <td>3.0</td>\n",
              "      <td>jabir</td>\n",
              "      <td>419</td>\n",
              "      <td>NaN</td>\n",
              "    </tr>\n",
              "    <tr>\n",
              "      <th>3</th>\n",
              "      <td>4.0</td>\n",
              "      <td>NaT</td>\n",
              "      <td>4.0</td>\n",
              "      <td>NaN</td>\n",
              "      <td>420</td>\n",
              "      <td>NaN</td>\n",
              "    </tr>\n",
              "    <tr>\n",
              "      <th>4</th>\n",
              "      <td>5.0</td>\n",
              "      <td>NaT</td>\n",
              "      <td>5.0</td>\n",
              "      <td>NaN</td>\n",
              "      <td>496</td>\n",
              "      <td>NaN</td>\n",
              "    </tr>\n",
              "  </tbody>\n",
              "</table>\n",
              "</div>"
            ],
            "text/plain": [
              "   S.No.       Date  Counts      Name  Quantity  Diesel\n",
              "0    1.0 2019-02-01     1.0  khurseed       455     NaN\n",
              "1    2.0        NaT     2.0     momin       415     NaN\n",
              "2    3.0        NaT     3.0     jabir       419     NaN\n",
              "3    4.0        NaT     4.0       NaN       420     NaN\n",
              "4    5.0        NaT     5.0       NaN       496     NaN"
            ]
          },
          "metadata": {
            "tags": []
          },
          "execution_count": 5
        }
      ]
    },
    {
      "metadata": {
        "id": "e1gUo92O-r5c",
        "colab_type": "code",
        "outputId": "6d051b9c-c2dc-4c12-964d-d11fa855806a",
        "colab": {
          "base_uri": "https://localhost:8080/",
          "height": 111
        }
      },
      "cell_type": "code",
      "source": [
        "df.tail(2)"
      ],
      "execution_count": 6,
      "outputs": [
        {
          "output_type": "execute_result",
          "data": {
            "text/html": [
              "<div>\n",
              "<style scoped>\n",
              "    .dataframe tbody tr th:only-of-type {\n",
              "        vertical-align: middle;\n",
              "    }\n",
              "\n",
              "    .dataframe tbody tr th {\n",
              "        vertical-align: top;\n",
              "    }\n",
              "\n",
              "    .dataframe thead th {\n",
              "        text-align: right;\n",
              "    }\n",
              "</style>\n",
              "<table border=\"1\" class=\"dataframe\">\n",
              "  <thead>\n",
              "    <tr style=\"text-align: right;\">\n",
              "      <th></th>\n",
              "      <th>S.No.</th>\n",
              "      <th>Date</th>\n",
              "      <th>Counts</th>\n",
              "      <th>Name</th>\n",
              "      <th>Quantity</th>\n",
              "      <th>Diesel</th>\n",
              "    </tr>\n",
              "  </thead>\n",
              "  <tbody>\n",
              "    <tr>\n",
              "      <th>270</th>\n",
              "      <td>271.0</td>\n",
              "      <td>2019-02-14</td>\n",
              "      <td>NaN</td>\n",
              "      <td>jabir</td>\n",
              "      <td>419</td>\n",
              "      <td>NaN</td>\n",
              "    </tr>\n",
              "    <tr>\n",
              "      <th>271</th>\n",
              "      <td>NaN</td>\n",
              "      <td>NaT</td>\n",
              "      <td>NaN</td>\n",
              "      <td>NaN</td>\n",
              "      <td>120388</td>\n",
              "      <td>NaN</td>\n",
              "    </tr>\n",
              "  </tbody>\n",
              "</table>\n",
              "</div>"
            ],
            "text/plain": [
              "     S.No.       Date  Counts   Name  Quantity  Diesel\n",
              "270  271.0 2019-02-14     NaN  jabir       419     NaN\n",
              "271    NaN        NaT     NaN    NaN    120388     NaN"
            ]
          },
          "metadata": {
            "tags": []
          },
          "execution_count": 6
        }
      ]
    },
    {
      "metadata": {
        "id": "oUmdiUIj-xel",
        "colab_type": "code",
        "outputId": "33a6e288-0f4c-474f-f6d8-b92eea7540cf",
        "colab": {
          "base_uri": "https://localhost:8080/",
          "height": 80
        }
      },
      "cell_type": "code",
      "source": [
        "df = df[:-1]\n",
        "df.tail(1)"
      ],
      "execution_count": 7,
      "outputs": [
        {
          "output_type": "execute_result",
          "data": {
            "text/html": [
              "<div>\n",
              "<style scoped>\n",
              "    .dataframe tbody tr th:only-of-type {\n",
              "        vertical-align: middle;\n",
              "    }\n",
              "\n",
              "    .dataframe tbody tr th {\n",
              "        vertical-align: top;\n",
              "    }\n",
              "\n",
              "    .dataframe thead th {\n",
              "        text-align: right;\n",
              "    }\n",
              "</style>\n",
              "<table border=\"1\" class=\"dataframe\">\n",
              "  <thead>\n",
              "    <tr style=\"text-align: right;\">\n",
              "      <th></th>\n",
              "      <th>S.No.</th>\n",
              "      <th>Date</th>\n",
              "      <th>Counts</th>\n",
              "      <th>Name</th>\n",
              "      <th>Quantity</th>\n",
              "      <th>Diesel</th>\n",
              "    </tr>\n",
              "  </thead>\n",
              "  <tbody>\n",
              "    <tr>\n",
              "      <th>270</th>\n",
              "      <td>271.0</td>\n",
              "      <td>2019-02-14</td>\n",
              "      <td>NaN</td>\n",
              "      <td>jabir</td>\n",
              "      <td>419</td>\n",
              "      <td>NaN</td>\n",
              "    </tr>\n",
              "  </tbody>\n",
              "</table>\n",
              "</div>"
            ],
            "text/plain": [
              "     S.No.       Date  Counts   Name  Quantity  Diesel\n",
              "270  271.0 2019-02-14     NaN  jabir       419     NaN"
            ]
          },
          "metadata": {
            "tags": []
          },
          "execution_count": 7
        }
      ]
    },
    {
      "metadata": {
        "id": "vYJmIHd8lWZY",
        "colab_type": "code",
        "outputId": "cffd8004-5380-49bb-dcc7-a6176c271372",
        "colab": {
          "base_uri": "https://localhost:8080/",
          "height": 204
        }
      },
      "cell_type": "code",
      "source": [
        "df.info()"
      ],
      "execution_count": 8,
      "outputs": [
        {
          "output_type": "stream",
          "text": [
            "<class 'pandas.core.frame.DataFrame'>\n",
            "RangeIndex: 271 entries, 0 to 270\n",
            "Data columns (total 6 columns):\n",
            "S.No.       271 non-null float64\n",
            "Date        10 non-null datetime64[ns]\n",
            "Counts      270 non-null float64\n",
            "Name        4 non-null object\n",
            "Quantity    271 non-null int64\n",
            "Diesel      0 non-null float64\n",
            "dtypes: datetime64[ns](1), float64(3), int64(1), object(1)\n",
            "memory usage: 12.8+ KB\n"
          ],
          "name": "stdout"
        }
      ]
    },
    {
      "metadata": {
        "id": "vZ9H0uvuAxf5",
        "colab_type": "code",
        "outputId": "68ce7c02-b1cf-4d45-8d6e-0551d19c195c",
        "colab": {
          "base_uri": "https://localhost:8080/",
          "height": 204
        }
      },
      "cell_type": "code",
      "source": [
        "unique_dates = df.Date.unique()\n",
        "unique_dates = pd.Series(unique_dates).dropna()\n",
        "print(unique_dates)"
      ],
      "execution_count": 9,
      "outputs": [
        {
          "output_type": "stream",
          "text": [
            "0    2019-02-01\n",
            "2    2019-02-02\n",
            "3    2019-02-05\n",
            "4    2019-02-06\n",
            "5    2019-02-07\n",
            "6    2019-02-10\n",
            "7    2019-02-11\n",
            "8    2019-02-12\n",
            "9    2019-02-13\n",
            "10   2019-02-14\n",
            "dtype: datetime64[ns]\n"
          ],
          "name": "stdout"
        }
      ]
    },
    {
      "metadata": {
        "id": "yOdejLAFA7j1",
        "colab_type": "code",
        "outputId": "a27a81cb-f822-4ea6-cf8b-b016f0f2fdf0",
        "colab": {
          "base_uri": "https://localhost:8080/",
          "height": 34
        }
      },
      "cell_type": "code",
      "source": [
        "df.Date.nunique()"
      ],
      "execution_count": 10,
      "outputs": [
        {
          "output_type": "execute_result",
          "data": {
            "text/plain": [
              "10"
            ]
          },
          "metadata": {
            "tags": []
          },
          "execution_count": 10
        }
      ]
    },
    {
      "metadata": {
        "id": "TTiF585xBBNC",
        "colab_type": "code",
        "outputId": "b3ea996c-c8c4-4e21-8f8a-61154ff686d4",
        "colab": {
          "base_uri": "https://localhost:8080/",
          "height": 204
        }
      },
      "cell_type": "code",
      "source": [
        "df.Date.value_counts()"
      ],
      "execution_count": 11,
      "outputs": [
        {
          "output_type": "execute_result",
          "data": {
            "text/plain": [
              "2019-02-07    1\n",
              "2019-02-10    1\n",
              "2019-02-13    1\n",
              "2019-02-02    1\n",
              "2019-02-05    1\n",
              "2019-02-11    1\n",
              "2019-02-14    1\n",
              "2019-02-06    1\n",
              "2019-02-12    1\n",
              "2019-02-01    1\n",
              "Name: Date, dtype: int64"
            ]
          },
          "metadata": {
            "tags": []
          },
          "execution_count": 11
        }
      ]
    },
    {
      "metadata": {
        "id": "uXqNsOzRDDSf",
        "colab_type": "code",
        "colab": {}
      },
      "cell_type": "code",
      "source": [
        "import numpy as np"
      ],
      "execution_count": 0,
      "outputs": []
    },
    {
      "metadata": {
        "id": "BKMk-7t1Dq2J",
        "colab_type": "text"
      },
      "cell_type": "markdown",
      "source": [
        "### Fill Date"
      ]
    },
    {
      "metadata": {
        "id": "6Ze_xV9TAFkT",
        "colab_type": "code",
        "colab": {}
      },
      "cell_type": "code",
      "source": [
        "for n, i in enumerate(df.Date.values):\n",
        "  if not pd.isnull(i):\n",
        "    date = i\n",
        "  else:\n",
        "    df.iloc[n, 0] = date\n",
        "  "
      ],
      "execution_count": 0,
      "outputs": []
    },
    {
      "metadata": {
        "id": "fHoGR8F5DhjA",
        "colab_type": "code",
        "outputId": "48f469ec-4ab4-4d18-bd27-1eedc98dd922",
        "colab": {
          "base_uri": "https://localhost:8080/",
          "height": 111
        }
      },
      "cell_type": "code",
      "source": [
        "df.head(2)"
      ],
      "execution_count": 0,
      "outputs": [
        {
          "output_type": "execute_result",
          "data": {
            "text/html": [
              "<div>\n",
              "<style scoped>\n",
              "    .dataframe tbody tr th:only-of-type {\n",
              "        vertical-align: middle;\n",
              "    }\n",
              "\n",
              "    .dataframe tbody tr th {\n",
              "        vertical-align: top;\n",
              "    }\n",
              "\n",
              "    .dataframe thead th {\n",
              "        text-align: right;\n",
              "    }\n",
              "</style>\n",
              "<table border=\"1\" class=\"dataframe\">\n",
              "  <thead>\n",
              "    <tr style=\"text-align: right;\">\n",
              "      <th></th>\n",
              "      <th>S.No.</th>\n",
              "      <th>Date</th>\n",
              "      <th>Count</th>\n",
              "      <th>Name</th>\n",
              "      <th>Quantity</th>\n",
              "    </tr>\n",
              "  </thead>\n",
              "  <tbody>\n",
              "    <tr>\n",
              "      <th>0</th>\n",
              "      <td>1</td>\n",
              "      <td>2019-01-15</td>\n",
              "      <td>1.0</td>\n",
              "      <td>mustakim</td>\n",
              "      <td>405</td>\n",
              "    </tr>\n",
              "    <tr>\n",
              "      <th>1</th>\n",
              "      <td>2019-01-15T00:00:00.000000000</td>\n",
              "      <td>NaT</td>\n",
              "      <td>2.0</td>\n",
              "      <td>shabir</td>\n",
              "      <td>470</td>\n",
              "    </tr>\n",
              "  </tbody>\n",
              "</table>\n",
              "</div>"
            ],
            "text/plain": [
              "                           S.No.       Date  Count      Name  Quantity\n",
              "0                              1 2019-01-15    1.0  mustakim       405\n",
              "1  2019-01-15T00:00:00.000000000        NaT    2.0    shabir       470"
            ]
          },
          "metadata": {
            "tags": []
          },
          "execution_count": 14
        }
      ]
    },
    {
      "metadata": {
        "id": "jsPDiLK9mCMB",
        "colab_type": "code",
        "outputId": "3c74fd14-2d50-4fb3-d639-6cc56b8ba39d",
        "colab": {
          "base_uri": "https://localhost:8080/",
          "height": 85
        }
      },
      "cell_type": "code",
      "source": [
        "df.Name.unique()"
      ],
      "execution_count": 0,
      "outputs": [
        {
          "output_type": "execute_result",
          "data": {
            "text/plain": [
              "array(['mustakim', 'shabir', 'isran', 'farookh', 'aarif', 'toheed',\n",
              "       'kayum', 'intazar', 'rasid', 'wajid', 'hasan', 'rafakat', 'haseen',\n",
              "       'aashu', 'gulfam', 'irsad', 'mehmood', 'jabir', 'shokeen', 'momin',\n",
              "       'khurseed', 'anwar', 'amjad'], dtype=object)"
            ]
          },
          "metadata": {
            "tags": []
          },
          "execution_count": 15
        }
      ]
    },
    {
      "metadata": {
        "id": "cJArT99yo39E",
        "colab_type": "code",
        "outputId": "b9f3619a-67a9-4012-887e-f84ec9e87810",
        "colab": {
          "base_uri": "https://localhost:8080/",
          "height": 34
        }
      },
      "cell_type": "code",
      "source": [
        "sum(df.Quantity)"
      ],
      "execution_count": 13,
      "outputs": [
        {
          "output_type": "execute_result",
          "data": {
            "text/plain": [
              "120388"
            ]
          },
          "metadata": {
            "tags": []
          },
          "execution_count": 13
        }
      ]
    },
    {
      "metadata": {
        "id": "KDfUKDebnJUR",
        "colab_type": "code",
        "outputId": "91089076-f2b4-446c-8aeb-986bd6fbef39",
        "colab": {
          "base_uri": "https://localhost:8080/",
          "height": 425
        }
      },
      "cell_type": "code",
      "source": [
        "quantity_per_name = df.Name.value_counts()\n",
        "quantity_per_name"
      ],
      "execution_count": 0,
      "outputs": [
        {
          "output_type": "execute_result",
          "data": {
            "text/plain": [
              "rasid       29\n",
              "hasan       29\n",
              "farookh     28\n",
              "isran       27\n",
              "haseen      25\n",
              "gulfam      23\n",
              "momin       22\n",
              "shokeen     21\n",
              "khurseed    21\n",
              "mustakim    21\n",
              "toheed      21\n",
              "irsad       17\n",
              "wajid       16\n",
              "rafakat     15\n",
              "aashu       15\n",
              "aarif       15\n",
              "shabir      12\n",
              "jabir       12\n",
              "mehmood      8\n",
              "amjad        8\n",
              "anwar        7\n",
              "kayum        6\n",
              "intazar      1\n",
              "Name: Name, dtype: int64"
            ]
          },
          "metadata": {
            "tags": []
          },
          "execution_count": 17
        }
      ]
    },
    {
      "metadata": {
        "id": "LiyQphzHEraa",
        "colab_type": "text"
      },
      "cell_type": "markdown",
      "source": [
        "### Counts per Date"
      ]
    },
    {
      "metadata": {
        "id": "bfNp_BNaIxFr",
        "colab_type": "code",
        "outputId": "1f8a5245-6d56-4c2e-a2c3-7bcab58d3f0e",
        "colab": {
          "base_uri": "https://localhost:8080/",
          "height": 119
        }
      },
      "cell_type": "code",
      "source": [
        "df.isnull().sum()"
      ],
      "execution_count": 0,
      "outputs": [
        {
          "output_type": "execute_result",
          "data": {
            "text/plain": [
              "S.No.         0\n",
              "Date        387\n",
              "Count         0\n",
              "Name          0\n",
              "Quantity      0\n",
              "dtype: int64"
            ]
          },
          "metadata": {
            "tags": []
          },
          "execution_count": 18
        }
      ]
    },
    {
      "metadata": {
        "id": "vegaPxckns74",
        "colab_type": "text"
      },
      "cell_type": "markdown",
      "source": [
        "## unique feets per name"
      ]
    },
    {
      "metadata": {
        "id": "-ITvOwaBwJ1t",
        "colab_type": "code",
        "outputId": "891f5edd-8679-4e50-f1a8-467e9c824e0d",
        "colab": {
          "base_uri": "https://localhost:8080/",
          "height": 34
        }
      },
      "cell_type": "code",
      "source": [
        "group = df.groupby(df.Name)\n",
        "group"
      ],
      "execution_count": 0,
      "outputs": [
        {
          "output_type": "execute_result",
          "data": {
            "text/plain": [
              "<pandas.core.groupby.DataFrameGroupBy object at 0x7fa887fb5898>"
            ]
          },
          "metadata": {
            "tags": []
          },
          "execution_count": 19
        }
      ]
    },
    {
      "metadata": {
        "id": "R0pQUd6CZ4Eg",
        "colab_type": "text"
      },
      "cell_type": "markdown",
      "source": [
        "for i, j in group:\n",
        "  print(i, '\\n', j.Quantity, '\\n')  "
      ]
    },
    {
      "metadata": {
        "id": "ndW_Qg-IwSkJ",
        "colab_type": "code",
        "outputId": "f3ea1f4d-588c-4033-ff16-97ac01d9e341",
        "colab": {
          "base_uri": "https://localhost:8080/",
          "height": 799
        }
      },
      "cell_type": "code",
      "source": [
        "for i, j in group:\n",
        "  print(i, j.Quantity.unique(), '\\n')"
      ],
      "execution_count": 0,
      "outputs": [
        {
          "output_type": "stream",
          "text": [
            "aarif [416] \n",
            "\n",
            "aashu [430] \n",
            "\n",
            "amjad [411] \n",
            "\n",
            "anwar [395] \n",
            "\n",
            "farookh [420] \n",
            "\n",
            "gulfam [500] \n",
            "\n",
            "hasan [538 498 508 488 518] \n",
            "\n",
            "haseen [496] \n",
            "\n",
            "intazar [517] \n",
            "\n",
            "irsad [435] \n",
            "\n",
            "isran [470] \n",
            "\n",
            "jabir [419] \n",
            "\n",
            "kayum [450] \n",
            "\n",
            "khurseed [410 380 455] \n",
            "\n",
            "mehmood [420 470 500 538 415 419 405] \n",
            "\n",
            "momin [415] \n",
            "\n",
            "mustakim [405] \n",
            "\n",
            "rafakat [538] \n",
            "\n",
            "rasid [410] \n",
            "\n",
            "shabir [470] \n",
            "\n",
            "shokeen [453] \n",
            "\n",
            "toheed [486 320] \n",
            "\n",
            "wajid [419] \n",
            "\n"
          ],
          "name": "stdout"
        }
      ]
    },
    {
      "metadata": {
        "id": "0y2uPtUlJ6jo",
        "colab_type": "text"
      },
      "cell_type": "markdown",
      "source": [
        "# Diesel"
      ]
    },
    {
      "metadata": {
        "id": "O5znZR4bJ8Ri",
        "colab_type": "code",
        "outputId": "800ed4b7-d804-44c6-8763-ffa32cb1203f",
        "colab": {
          "base_uri": "https://localhost:8080/",
          "height": 204
        }
      },
      "cell_type": "code",
      "source": [
        "diesel = pd.read_excel('1_14_feb_bill.xlsx', 'Diesel')\n",
        "diesel.head()"
      ],
      "execution_count": 14,
      "outputs": [
        {
          "output_type": "execute_result",
          "data": {
            "text/html": [
              "<div>\n",
              "<style scoped>\n",
              "    .dataframe tbody tr th:only-of-type {\n",
              "        vertical-align: middle;\n",
              "    }\n",
              "\n",
              "    .dataframe tbody tr th {\n",
              "        vertical-align: top;\n",
              "    }\n",
              "\n",
              "    .dataframe thead th {\n",
              "        text-align: right;\n",
              "    }\n",
              "</style>\n",
              "<table border=\"1\" class=\"dataframe\">\n",
              "  <thead>\n",
              "    <tr style=\"text-align: right;\">\n",
              "      <th></th>\n",
              "      <th>Date</th>\n",
              "      <th>Name</th>\n",
              "      <th>Diesel</th>\n",
              "      <th>cash</th>\n",
              "    </tr>\n",
              "  </thead>\n",
              "  <tbody>\n",
              "    <tr>\n",
              "      <th>0</th>\n",
              "      <td>2019-02-01</td>\n",
              "      <td>hasan</td>\n",
              "      <td>2000</td>\n",
              "      <td>NaN</td>\n",
              "    </tr>\n",
              "    <tr>\n",
              "      <th>1</th>\n",
              "      <td>NaT</td>\n",
              "      <td>aarif</td>\n",
              "      <td>2000</td>\n",
              "      <td>NaN</td>\n",
              "    </tr>\n",
              "    <tr>\n",
              "      <th>2</th>\n",
              "      <td>NaT</td>\n",
              "      <td>jabir</td>\n",
              "      <td>2000</td>\n",
              "      <td>NaN</td>\n",
              "    </tr>\n",
              "    <tr>\n",
              "      <th>3</th>\n",
              "      <td>NaT</td>\n",
              "      <td>aashu</td>\n",
              "      <td>1500</td>\n",
              "      <td>1000.0</td>\n",
              "    </tr>\n",
              "    <tr>\n",
              "      <th>4</th>\n",
              "      <td>NaT</td>\n",
              "      <td>rasid</td>\n",
              "      <td>1500</td>\n",
              "      <td>NaN</td>\n",
              "    </tr>\n",
              "  </tbody>\n",
              "</table>\n",
              "</div>"
            ],
            "text/plain": [
              "        Date   Name  Diesel    cash\n",
              "0 2019-02-01  hasan    2000     NaN\n",
              "1        NaT  aarif    2000     NaN\n",
              "2        NaT  jabir    2000     NaN\n",
              "3        NaT  aashu    1500  1000.0\n",
              "4        NaT  rasid    1500     NaN"
            ]
          },
          "metadata": {
            "tags": []
          },
          "execution_count": 14
        }
      ]
    },
    {
      "metadata": {
        "id": "aNms0DItMFZ8",
        "colab_type": "code",
        "outputId": "d6ab8a2d-72e1-4f9b-ec8a-c026e470f9b8",
        "colab": {
          "base_uri": "https://localhost:8080/",
          "height": 34
        }
      },
      "cell_type": "code",
      "source": [
        "diesel.shape"
      ],
      "execution_count": 15,
      "outputs": [
        {
          "output_type": "execute_result",
          "data": {
            "text/plain": [
              "(125, 4)"
            ]
          },
          "metadata": {
            "tags": []
          },
          "execution_count": 15
        }
      ]
    },
    {
      "metadata": {
        "id": "FtBbwdi6GaOe",
        "colab_type": "code",
        "colab": {
          "base_uri": "https://localhost:8080/",
          "height": 119
        },
        "outputId": "0c43f045-a6fb-47fe-82bf-14ac52e201e2"
      },
      "cell_type": "code",
      "source": [
        "diesel.Date.unique()"
      ],
      "execution_count": 17,
      "outputs": [
        {
          "output_type": "execute_result",
          "data": {
            "text/plain": [
              "array(['2019-02-01T00:00:00.000000000',                           'NaT',\n",
              "       '2019-02-02T00:00:00.000000000', '2019-02-05T00:00:00.000000000',\n",
              "       '2019-02-06T00:00:00.000000000', '2019-02-07T00:00:00.000000000',\n",
              "       '2019-02-10T00:00:00.000000000', '2019-02-11T00:00:00.000000000',\n",
              "       '2019-02-12T00:00:00.000000000', '2019-02-13T00:00:00.000000000'],\n",
              "      dtype='datetime64[ns]')"
            ]
          },
          "metadata": {
            "tags": []
          },
          "execution_count": 17
        }
      ]
    },
    {
      "metadata": {
        "id": "n6yM4M_2GZJH",
        "colab_type": "code",
        "colab": {}
      },
      "cell_type": "code",
      "source": [
        "for n, i in enumerate(diesel.Date.values):\n",
        "  if not pd.isnull(i):\n",
        "    date = i\n",
        "  else:\n",
        "    diesel.iloc[n, 0] = date"
      ],
      "execution_count": 0,
      "outputs": []
    },
    {
      "metadata": {
        "id": "4iSR7MyjHAQf",
        "colab_type": "code",
        "colab": {
          "base_uri": "https://localhost:8080/",
          "height": 204
        },
        "outputId": "727c7092-c934-4c2e-a3c9-163d60c5eecb"
      },
      "cell_type": "code",
      "source": [
        "diesel.head()"
      ],
      "execution_count": 21,
      "outputs": [
        {
          "output_type": "execute_result",
          "data": {
            "text/html": [
              "<div>\n",
              "<style scoped>\n",
              "    .dataframe tbody tr th:only-of-type {\n",
              "        vertical-align: middle;\n",
              "    }\n",
              "\n",
              "    .dataframe tbody tr th {\n",
              "        vertical-align: top;\n",
              "    }\n",
              "\n",
              "    .dataframe thead th {\n",
              "        text-align: right;\n",
              "    }\n",
              "</style>\n",
              "<table border=\"1\" class=\"dataframe\">\n",
              "  <thead>\n",
              "    <tr style=\"text-align: right;\">\n",
              "      <th></th>\n",
              "      <th>Date</th>\n",
              "      <th>Name</th>\n",
              "      <th>Diesel</th>\n",
              "      <th>cash</th>\n",
              "    </tr>\n",
              "  </thead>\n",
              "  <tbody>\n",
              "    <tr>\n",
              "      <th>0</th>\n",
              "      <td>2019-02-01</td>\n",
              "      <td>hasan</td>\n",
              "      <td>2000</td>\n",
              "      <td>NaN</td>\n",
              "    </tr>\n",
              "    <tr>\n",
              "      <th>1</th>\n",
              "      <td>2019-02-01</td>\n",
              "      <td>aarif</td>\n",
              "      <td>2000</td>\n",
              "      <td>NaN</td>\n",
              "    </tr>\n",
              "    <tr>\n",
              "      <th>2</th>\n",
              "      <td>2019-02-01</td>\n",
              "      <td>jabir</td>\n",
              "      <td>2000</td>\n",
              "      <td>NaN</td>\n",
              "    </tr>\n",
              "    <tr>\n",
              "      <th>3</th>\n",
              "      <td>2019-02-01</td>\n",
              "      <td>aashu</td>\n",
              "      <td>1500</td>\n",
              "      <td>1000.0</td>\n",
              "    </tr>\n",
              "    <tr>\n",
              "      <th>4</th>\n",
              "      <td>2019-02-01</td>\n",
              "      <td>rasid</td>\n",
              "      <td>1500</td>\n",
              "      <td>NaN</td>\n",
              "    </tr>\n",
              "  </tbody>\n",
              "</table>\n",
              "</div>"
            ],
            "text/plain": [
              "        Date   Name  Diesel    cash\n",
              "0 2019-02-01  hasan    2000     NaN\n",
              "1 2019-02-01  aarif    2000     NaN\n",
              "2 2019-02-01  jabir    2000     NaN\n",
              "3 2019-02-01  aashu    1500  1000.0\n",
              "4 2019-02-01  rasid    1500     NaN"
            ]
          },
          "metadata": {
            "tags": []
          },
          "execution_count": 21
        }
      ]
    },
    {
      "metadata": {
        "id": "-rLhXMKrHTRe",
        "colab_type": "text"
      },
      "cell_type": "markdown",
      "source": [
        "# pivot table"
      ]
    },
    {
      "metadata": {
        "id": "605hniozHVuB",
        "colab_type": "code",
        "colab": {
          "base_uri": "https://localhost:8080/",
          "height": 951
        },
        "outputId": "247a85ea-31ac-4ec0-b222-c7e5a6ff6559"
      },
      "cell_type": "code",
      "source": [
        "diesel.pivot_table(index = 'Name', columns = 'Date', values = 'Diesel')"
      ],
      "execution_count": 22,
      "outputs": [
        {
          "output_type": "execute_result",
          "data": {
            "text/html": [
              "<div>\n",
              "<style scoped>\n",
              "    .dataframe tbody tr th:only-of-type {\n",
              "        vertical-align: middle;\n",
              "    }\n",
              "\n",
              "    .dataframe tbody tr th {\n",
              "        vertical-align: top;\n",
              "    }\n",
              "\n",
              "    .dataframe thead th {\n",
              "        text-align: right;\n",
              "    }\n",
              "</style>\n",
              "<table border=\"1\" class=\"dataframe\">\n",
              "  <thead>\n",
              "    <tr style=\"text-align: right;\">\n",
              "      <th>Date</th>\n",
              "      <th>2019-02-01 00:00:00</th>\n",
              "      <th>2019-02-02 00:00:00</th>\n",
              "      <th>2019-02-05 00:00:00</th>\n",
              "      <th>2019-02-06 00:00:00</th>\n",
              "      <th>2019-02-07 00:00:00</th>\n",
              "      <th>2019-02-10 00:00:00</th>\n",
              "      <th>2019-02-11 00:00:00</th>\n",
              "      <th>2019-02-12 00:00:00</th>\n",
              "      <th>2019-02-13 00:00:00</th>\n",
              "    </tr>\n",
              "    <tr>\n",
              "      <th>Name</th>\n",
              "      <th></th>\n",
              "      <th></th>\n",
              "      <th></th>\n",
              "      <th></th>\n",
              "      <th></th>\n",
              "      <th></th>\n",
              "      <th></th>\n",
              "      <th></th>\n",
              "      <th></th>\n",
              "    </tr>\n",
              "  </thead>\n",
              "  <tbody>\n",
              "    <tr>\n",
              "      <th>Total</th>\n",
              "      <td>43500.0</td>\n",
              "      <td>3000.0</td>\n",
              "      <td>32000.0</td>\n",
              "      <td>30000.0</td>\n",
              "      <td>21000.0</td>\n",
              "      <td>32000.0</td>\n",
              "      <td>39000.0</td>\n",
              "      <td>36500.0</td>\n",
              "      <td>30000.0</td>\n",
              "    </tr>\n",
              "    <tr>\n",
              "      <th>aarif</th>\n",
              "      <td>2000.0</td>\n",
              "      <td>NaN</td>\n",
              "      <td>2000.0</td>\n",
              "      <td>2000.0</td>\n",
              "      <td>NaN</td>\n",
              "      <td>NaN</td>\n",
              "      <td>2000.0</td>\n",
              "      <td>2500.0</td>\n",
              "      <td>1500.0</td>\n",
              "    </tr>\n",
              "    <tr>\n",
              "      <th>aashu</th>\n",
              "      <td>1500.0</td>\n",
              "      <td>NaN</td>\n",
              "      <td>NaN</td>\n",
              "      <td>NaN</td>\n",
              "      <td>NaN</td>\n",
              "      <td>NaN</td>\n",
              "      <td>NaN</td>\n",
              "      <td>NaN</td>\n",
              "      <td>NaN</td>\n",
              "    </tr>\n",
              "    <tr>\n",
              "      <th>amjad</th>\n",
              "      <td>NaN</td>\n",
              "      <td>NaN</td>\n",
              "      <td>2000.0</td>\n",
              "      <td>2000.0</td>\n",
              "      <td>1000.0</td>\n",
              "      <td>NaN</td>\n",
              "      <td>NaN</td>\n",
              "      <td>2000.0</td>\n",
              "      <td>NaN</td>\n",
              "    </tr>\n",
              "    <tr>\n",
              "      <th>cash</th>\n",
              "      <td>NaN</td>\n",
              "      <td>NaN</td>\n",
              "      <td>NaN</td>\n",
              "      <td>NaN</td>\n",
              "      <td>NaN</td>\n",
              "      <td>NaN</td>\n",
              "      <td>NaN</td>\n",
              "      <td>NaN</td>\n",
              "      <td>8500.0</td>\n",
              "    </tr>\n",
              "    <tr>\n",
              "      <th>farookh</th>\n",
              "      <td>1500.0</td>\n",
              "      <td>NaN</td>\n",
              "      <td>NaN</td>\n",
              "      <td>NaN</td>\n",
              "      <td>NaN</td>\n",
              "      <td>2000.0</td>\n",
              "      <td>2000.0</td>\n",
              "      <td>1500.0</td>\n",
              "      <td>2000.0</td>\n",
              "    </tr>\n",
              "    <tr>\n",
              "      <th>gulfam</th>\n",
              "      <td>NaN</td>\n",
              "      <td>NaN</td>\n",
              "      <td>NaN</td>\n",
              "      <td>2000.0</td>\n",
              "      <td>2000.0</td>\n",
              "      <td>2000.0</td>\n",
              "      <td>NaN</td>\n",
              "      <td>2000.0</td>\n",
              "      <td>2000.0</td>\n",
              "    </tr>\n",
              "    <tr>\n",
              "      <th>hasan</th>\n",
              "      <td>2000.0</td>\n",
              "      <td>1000.0</td>\n",
              "      <td>1500.0</td>\n",
              "      <td>1500.0</td>\n",
              "      <td>NaN</td>\n",
              "      <td>2000.0</td>\n",
              "      <td>2000.0</td>\n",
              "      <td>1500.0</td>\n",
              "      <td>1000.0</td>\n",
              "    </tr>\n",
              "    <tr>\n",
              "      <th>haseen</th>\n",
              "      <td>2000.0</td>\n",
              "      <td>NaN</td>\n",
              "      <td>2000.0</td>\n",
              "      <td>2000.0</td>\n",
              "      <td>1500.0</td>\n",
              "      <td>2000.0</td>\n",
              "      <td>2500.0</td>\n",
              "      <td>1500.0</td>\n",
              "      <td>1500.0</td>\n",
              "    </tr>\n",
              "    <tr>\n",
              "      <th>irsad</th>\n",
              "      <td>NaN</td>\n",
              "      <td>NaN</td>\n",
              "      <td>NaN</td>\n",
              "      <td>500.0</td>\n",
              "      <td>2000.0</td>\n",
              "      <td>NaN</td>\n",
              "      <td>2000.0</td>\n",
              "      <td>2000.0</td>\n",
              "      <td>1500.0</td>\n",
              "    </tr>\n",
              "    <tr>\n",
              "      <th>isran</th>\n",
              "      <td>NaN</td>\n",
              "      <td>NaN</td>\n",
              "      <td>2000.0</td>\n",
              "      <td>2000.0</td>\n",
              "      <td>1000.0</td>\n",
              "      <td>2000.0</td>\n",
              "      <td>2000.0</td>\n",
              "      <td>2000.0</td>\n",
              "      <td>1500.0</td>\n",
              "    </tr>\n",
              "    <tr>\n",
              "      <th>jabir</th>\n",
              "      <td>2000.0</td>\n",
              "      <td>NaN</td>\n",
              "      <td>2000.0</td>\n",
              "      <td>2000.0</td>\n",
              "      <td>1000.0</td>\n",
              "      <td>2000.0</td>\n",
              "      <td>2500.0</td>\n",
              "      <td>1500.0</td>\n",
              "      <td>2000.0</td>\n",
              "    </tr>\n",
              "    <tr>\n",
              "      <th>khurseed</th>\n",
              "      <td>NaN</td>\n",
              "      <td>2000.0</td>\n",
              "      <td>2000.0</td>\n",
              "      <td>1300.0</td>\n",
              "      <td>NaN</td>\n",
              "      <td>2000.0</td>\n",
              "      <td>2000.0</td>\n",
              "      <td>2000.0</td>\n",
              "      <td>NaN</td>\n",
              "    </tr>\n",
              "    <tr>\n",
              "      <th>momin</th>\n",
              "      <td>2000.0</td>\n",
              "      <td>NaN</td>\n",
              "      <td>2000.0</td>\n",
              "      <td>1270.0</td>\n",
              "      <td>NaN</td>\n",
              "      <td>1500.0</td>\n",
              "      <td>NaN</td>\n",
              "      <td>2000.0</td>\n",
              "      <td>1500.0</td>\n",
              "    </tr>\n",
              "    <tr>\n",
              "      <th>mustakim</th>\n",
              "      <td>NaN</td>\n",
              "      <td>NaN</td>\n",
              "      <td>NaN</td>\n",
              "      <td>1500.0</td>\n",
              "      <td>NaN</td>\n",
              "      <td>2000.0</td>\n",
              "      <td>2000.0</td>\n",
              "      <td>2000.0</td>\n",
              "      <td>1500.0</td>\n",
              "    </tr>\n",
              "    <tr>\n",
              "      <th>noushad</th>\n",
              "      <td>9500.0</td>\n",
              "      <td>NaN</td>\n",
              "      <td>4240.0</td>\n",
              "      <td>3430.0</td>\n",
              "      <td>4000.0</td>\n",
              "      <td>4000.0</td>\n",
              "      <td>8500.0</td>\n",
              "      <td>6500.0</td>\n",
              "      <td>NaN</td>\n",
              "    </tr>\n",
              "    <tr>\n",
              "      <th>poclain</th>\n",
              "      <td>3500.0</td>\n",
              "      <td>NaN</td>\n",
              "      <td>5260.0</td>\n",
              "      <td>5000.0</td>\n",
              "      <td>4000.0</td>\n",
              "      <td>3500.0</td>\n",
              "      <td>3000.0</td>\n",
              "      <td>3500.0</td>\n",
              "      <td>NaN</td>\n",
              "    </tr>\n",
              "    <tr>\n",
              "      <th>rafakat</th>\n",
              "      <td>2000.0</td>\n",
              "      <td>NaN</td>\n",
              "      <td>2000.0</td>\n",
              "      <td>NaN</td>\n",
              "      <td>NaN</td>\n",
              "      <td>NaN</td>\n",
              "      <td>NaN</td>\n",
              "      <td>NaN</td>\n",
              "      <td>NaN</td>\n",
              "    </tr>\n",
              "    <tr>\n",
              "      <th>rasid</th>\n",
              "      <td>1500.0</td>\n",
              "      <td>NaN</td>\n",
              "      <td>1500.0</td>\n",
              "      <td>1500.0</td>\n",
              "      <td>NaN</td>\n",
              "      <td>2000.0</td>\n",
              "      <td>2000.0</td>\n",
              "      <td>NaN</td>\n",
              "      <td>NaN</td>\n",
              "    </tr>\n",
              "    <tr>\n",
              "      <th>sabir</th>\n",
              "      <td>NaN</td>\n",
              "      <td>NaN</td>\n",
              "      <td>NaN</td>\n",
              "      <td>NaN</td>\n",
              "      <td>2500.0</td>\n",
              "      <td>NaN</td>\n",
              "      <td>NaN</td>\n",
              "      <td>NaN</td>\n",
              "      <td>NaN</td>\n",
              "    </tr>\n",
              "    <tr>\n",
              "      <th>sabir jcb</th>\n",
              "      <td>10000.0</td>\n",
              "      <td>NaN</td>\n",
              "      <td>NaN</td>\n",
              "      <td>NaN</td>\n",
              "      <td>NaN</td>\n",
              "      <td>NaN</td>\n",
              "      <td>NaN</td>\n",
              "      <td>NaN</td>\n",
              "      <td>NaN</td>\n",
              "    </tr>\n",
              "    <tr>\n",
              "      <th>sabir moti</th>\n",
              "      <td>NaN</td>\n",
              "      <td>0.0</td>\n",
              "      <td>NaN</td>\n",
              "      <td>NaN</td>\n",
              "      <td>NaN</td>\n",
              "      <td>NaN</td>\n",
              "      <td>NaN</td>\n",
              "      <td>NaN</td>\n",
              "      <td>NaN</td>\n",
              "    </tr>\n",
              "    <tr>\n",
              "      <th>sanjay</th>\n",
              "      <td>NaN</td>\n",
              "      <td>NaN</td>\n",
              "      <td>NaN</td>\n",
              "      <td>NaN</td>\n",
              "      <td>NaN</td>\n",
              "      <td>NaN</td>\n",
              "      <td>NaN</td>\n",
              "      <td>NaN</td>\n",
              "      <td>2500.0</td>\n",
              "    </tr>\n",
              "    <tr>\n",
              "      <th>shabir</th>\n",
              "      <td>2000.0</td>\n",
              "      <td>NaN</td>\n",
              "      <td>NaN</td>\n",
              "      <td>NaN</td>\n",
              "      <td>NaN</td>\n",
              "      <td>NaN</td>\n",
              "      <td>NaN</td>\n",
              "      <td>NaN</td>\n",
              "      <td>NaN</td>\n",
              "    </tr>\n",
              "    <tr>\n",
              "      <th>shokeen</th>\n",
              "      <td>NaN</td>\n",
              "      <td>NaN</td>\n",
              "      <td>2000.0</td>\n",
              "      <td>NaN</td>\n",
              "      <td>NaN</td>\n",
              "      <td>1500.0</td>\n",
              "      <td>2000.0</td>\n",
              "      <td>NaN</td>\n",
              "      <td>1500.0</td>\n",
              "    </tr>\n",
              "    <tr>\n",
              "      <th>toheed</th>\n",
              "      <td>2000.0</td>\n",
              "      <td>NaN</td>\n",
              "      <td>1500.0</td>\n",
              "      <td>NaN</td>\n",
              "      <td>NaN</td>\n",
              "      <td>2000.0</td>\n",
              "      <td>2500.0</td>\n",
              "      <td>1500.0</td>\n",
              "      <td>NaN</td>\n",
              "    </tr>\n",
              "    <tr>\n",
              "      <th>wajid</th>\n",
              "      <td>NaN</td>\n",
              "      <td>NaN</td>\n",
              "      <td>NaN</td>\n",
              "      <td>2000.0</td>\n",
              "      <td>2000.0</td>\n",
              "      <td>1000.0</td>\n",
              "      <td>2000.0</td>\n",
              "      <td>2500.0</td>\n",
              "      <td>1500.0</td>\n",
              "    </tr>\n",
              "  </tbody>\n",
              "</table>\n",
              "</div>"
            ],
            "text/plain": [
              "Date        2019-02-01  2019-02-02  2019-02-05  2019-02-06  2019-02-07  \\\n",
              "Name                                                                     \n",
              "Total          43500.0      3000.0     32000.0     30000.0     21000.0   \n",
              "aarif           2000.0         NaN      2000.0      2000.0         NaN   \n",
              "aashu           1500.0         NaN         NaN         NaN         NaN   \n",
              "amjad              NaN         NaN      2000.0      2000.0      1000.0   \n",
              "cash               NaN         NaN         NaN         NaN         NaN   \n",
              "farookh         1500.0         NaN         NaN         NaN         NaN   \n",
              "gulfam             NaN         NaN         NaN      2000.0      2000.0   \n",
              "hasan           2000.0      1000.0      1500.0      1500.0         NaN   \n",
              "haseen          2000.0         NaN      2000.0      2000.0      1500.0   \n",
              "irsad              NaN         NaN         NaN       500.0      2000.0   \n",
              "isran              NaN         NaN      2000.0      2000.0      1000.0   \n",
              "jabir           2000.0         NaN      2000.0      2000.0      1000.0   \n",
              "khurseed           NaN      2000.0      2000.0      1300.0         NaN   \n",
              "momin           2000.0         NaN      2000.0      1270.0         NaN   \n",
              "mustakim           NaN         NaN         NaN      1500.0         NaN   \n",
              "noushad         9500.0         NaN      4240.0      3430.0      4000.0   \n",
              "poclain         3500.0         NaN      5260.0      5000.0      4000.0   \n",
              "rafakat         2000.0         NaN      2000.0         NaN         NaN   \n",
              "rasid           1500.0         NaN      1500.0      1500.0         NaN   \n",
              "sabir              NaN         NaN         NaN         NaN      2500.0   \n",
              "sabir jcb      10000.0         NaN         NaN         NaN         NaN   \n",
              "sabir moti         NaN         0.0         NaN         NaN         NaN   \n",
              "sanjay             NaN         NaN         NaN         NaN         NaN   \n",
              "shabir          2000.0         NaN         NaN         NaN         NaN   \n",
              "shokeen            NaN         NaN      2000.0         NaN         NaN   \n",
              "toheed          2000.0         NaN      1500.0         NaN         NaN   \n",
              "wajid              NaN         NaN         NaN      2000.0      2000.0   \n",
              "\n",
              "Date        2019-02-10  2019-02-11  2019-02-12  2019-02-13  \n",
              "Name                                                        \n",
              "Total          32000.0     39000.0     36500.0     30000.0  \n",
              "aarif              NaN      2000.0      2500.0      1500.0  \n",
              "aashu              NaN         NaN         NaN         NaN  \n",
              "amjad              NaN         NaN      2000.0         NaN  \n",
              "cash               NaN         NaN         NaN      8500.0  \n",
              "farookh         2000.0      2000.0      1500.0      2000.0  \n",
              "gulfam          2000.0         NaN      2000.0      2000.0  \n",
              "hasan           2000.0      2000.0      1500.0      1000.0  \n",
              "haseen          2000.0      2500.0      1500.0      1500.0  \n",
              "irsad              NaN      2000.0      2000.0      1500.0  \n",
              "isran           2000.0      2000.0      2000.0      1500.0  \n",
              "jabir           2000.0      2500.0      1500.0      2000.0  \n",
              "khurseed        2000.0      2000.0      2000.0         NaN  \n",
              "momin           1500.0         NaN      2000.0      1500.0  \n",
              "mustakim        2000.0      2000.0      2000.0      1500.0  \n",
              "noushad         4000.0      8500.0      6500.0         NaN  \n",
              "poclain         3500.0      3000.0      3500.0         NaN  \n",
              "rafakat            NaN         NaN         NaN         NaN  \n",
              "rasid           2000.0      2000.0         NaN         NaN  \n",
              "sabir              NaN         NaN         NaN         NaN  \n",
              "sabir jcb          NaN         NaN         NaN         NaN  \n",
              "sabir moti         NaN         NaN         NaN         NaN  \n",
              "sanjay             NaN         NaN         NaN      2500.0  \n",
              "shabir             NaN         NaN         NaN         NaN  \n",
              "shokeen         1500.0      2000.0         NaN      1500.0  \n",
              "toheed          2000.0      2500.0      1500.0         NaN  \n",
              "wajid           1000.0      2000.0      2500.0      1500.0  "
            ]
          },
          "metadata": {
            "tags": []
          },
          "execution_count": 22
        }
      ]
    },
    {
      "metadata": {
        "id": "jsQ52FyRCZz9",
        "colab_type": "text"
      },
      "cell_type": "markdown",
      "source": [
        "# Total Quantity per name"
      ]
    },
    {
      "metadata": {
        "id": "aAtFy8oyD3dM",
        "colab_type": "code",
        "colab": {}
      },
      "cell_type": "code",
      "source": [
        "name_groups = df.groupby('Name')\n",
        "name_total_quantity = pd.DataFrame(columns = ['Name', 'Total Quantity'])\n",
        "for i, j in name_groups:\n",
        "  name_total_quantity = name_total_quantity.append({'Name':i, 'Total Quantity': sum(j.Quantity)}, ignore_index = True)\n",
        "  \n",
        "name_total_quantity.sort_values(by = ['Total Quantity'], ascending = False, inplace = True)"
      ],
      "execution_count": 0,
      "outputs": []
    },
    {
      "metadata": {
        "id": "4VCgjQr2INk1",
        "colab_type": "code",
        "outputId": "6bf02473-9a6b-4cb7-e5c6-8ae54dbdb445",
        "colab": {
          "base_uri": "https://localhost:8080/",
          "height": 762
        }
      },
      "cell_type": "code",
      "source": [
        "name_total_quantity"
      ],
      "execution_count": 0,
      "outputs": [
        {
          "output_type": "execute_result",
          "data": {
            "text/html": [
              "<div>\n",
              "<style scoped>\n",
              "    .dataframe tbody tr th:only-of-type {\n",
              "        vertical-align: middle;\n",
              "    }\n",
              "\n",
              "    .dataframe tbody tr th {\n",
              "        vertical-align: top;\n",
              "    }\n",
              "\n",
              "    .dataframe thead th {\n",
              "        text-align: right;\n",
              "    }\n",
              "</style>\n",
              "<table border=\"1\" class=\"dataframe\">\n",
              "  <thead>\n",
              "    <tr style=\"text-align: right;\">\n",
              "      <th></th>\n",
              "      <th>Name</th>\n",
              "      <th>Total Quantity</th>\n",
              "    </tr>\n",
              "  </thead>\n",
              "  <tbody>\n",
              "    <tr>\n",
              "      <th>6</th>\n",
              "      <td>hasan</td>\n",
              "      <td>15462</td>\n",
              "    </tr>\n",
              "    <tr>\n",
              "      <th>10</th>\n",
              "      <td>isran</td>\n",
              "      <td>12690</td>\n",
              "    </tr>\n",
              "    <tr>\n",
              "      <th>7</th>\n",
              "      <td>haseen</td>\n",
              "      <td>12400</td>\n",
              "    </tr>\n",
              "    <tr>\n",
              "      <th>18</th>\n",
              "      <td>rasid</td>\n",
              "      <td>11890</td>\n",
              "    </tr>\n",
              "    <tr>\n",
              "      <th>4</th>\n",
              "      <td>farookh</td>\n",
              "      <td>11760</td>\n",
              "    </tr>\n",
              "    <tr>\n",
              "      <th>5</th>\n",
              "      <td>gulfam</td>\n",
              "      <td>11500</td>\n",
              "    </tr>\n",
              "    <tr>\n",
              "      <th>20</th>\n",
              "      <td>shokeen</td>\n",
              "      <td>9513</td>\n",
              "    </tr>\n",
              "    <tr>\n",
              "      <th>15</th>\n",
              "      <td>momin</td>\n",
              "      <td>9130</td>\n",
              "    </tr>\n",
              "    <tr>\n",
              "      <th>13</th>\n",
              "      <td>khurseed</td>\n",
              "      <td>8805</td>\n",
              "    </tr>\n",
              "    <tr>\n",
              "      <th>16</th>\n",
              "      <td>mustakim</td>\n",
              "      <td>8505</td>\n",
              "    </tr>\n",
              "    <tr>\n",
              "      <th>17</th>\n",
              "      <td>rafakat</td>\n",
              "      <td>8070</td>\n",
              "    </tr>\n",
              "    <tr>\n",
              "      <th>21</th>\n",
              "      <td>toheed</td>\n",
              "      <td>8048</td>\n",
              "    </tr>\n",
              "    <tr>\n",
              "      <th>9</th>\n",
              "      <td>irsad</td>\n",
              "      <td>7395</td>\n",
              "    </tr>\n",
              "    <tr>\n",
              "      <th>22</th>\n",
              "      <td>wajid</td>\n",
              "      <td>6704</td>\n",
              "    </tr>\n",
              "    <tr>\n",
              "      <th>1</th>\n",
              "      <td>aashu</td>\n",
              "      <td>6450</td>\n",
              "    </tr>\n",
              "    <tr>\n",
              "      <th>0</th>\n",
              "      <td>aarif</td>\n",
              "      <td>6240</td>\n",
              "    </tr>\n",
              "    <tr>\n",
              "      <th>19</th>\n",
              "      <td>shabir</td>\n",
              "      <td>5640</td>\n",
              "    </tr>\n",
              "    <tr>\n",
              "      <th>11</th>\n",
              "      <td>jabir</td>\n",
              "      <td>5028</td>\n",
              "    </tr>\n",
              "    <tr>\n",
              "      <th>14</th>\n",
              "      <td>mehmood</td>\n",
              "      <td>3637</td>\n",
              "    </tr>\n",
              "    <tr>\n",
              "      <th>2</th>\n",
              "      <td>amjad</td>\n",
              "      <td>3288</td>\n",
              "    </tr>\n",
              "    <tr>\n",
              "      <th>3</th>\n",
              "      <td>anwar</td>\n",
              "      <td>2765</td>\n",
              "    </tr>\n",
              "    <tr>\n",
              "      <th>12</th>\n",
              "      <td>kayum</td>\n",
              "      <td>2700</td>\n",
              "    </tr>\n",
              "    <tr>\n",
              "      <th>8</th>\n",
              "      <td>intazar</td>\n",
              "      <td>517</td>\n",
              "    </tr>\n",
              "  </tbody>\n",
              "</table>\n",
              "</div>"
            ],
            "text/plain": [
              "        Name Total Quantity\n",
              "6      hasan          15462\n",
              "10     isran          12690\n",
              "7     haseen          12400\n",
              "18     rasid          11890\n",
              "4    farookh          11760\n",
              "5     gulfam          11500\n",
              "20   shokeen           9513\n",
              "15     momin           9130\n",
              "13  khurseed           8805\n",
              "16  mustakim           8505\n",
              "17   rafakat           8070\n",
              "21    toheed           8048\n",
              "9      irsad           7395\n",
              "22     wajid           6704\n",
              "1      aashu           6450\n",
              "0      aarif           6240\n",
              "19    shabir           5640\n",
              "11     jabir           5028\n",
              "14   mehmood           3637\n",
              "2      amjad           3288\n",
              "3      anwar           2765\n",
              "12     kayum           2700\n",
              "8    intazar            517"
            ]
          },
          "metadata": {
            "tags": []
          },
          "execution_count": 25
        }
      ]
    },
    {
      "metadata": {
        "id": "INqOC5E_EZTz",
        "colab_type": "code",
        "outputId": "6d1cd33a-1d6e-4734-beaf-b120d0facdfa",
        "colab": {
          "base_uri": "https://localhost:8080/",
          "height": 97
        }
      },
      "cell_type": "code",
      "source": [
        "diesel.head(1)"
      ],
      "execution_count": 0,
      "outputs": [
        {
          "output_type": "execute_result",
          "data": {
            "text/html": [
              "<div>\n",
              "<style scoped>\n",
              "    .dataframe tbody tr th:only-of-type {\n",
              "        vertical-align: middle;\n",
              "    }\n",
              "\n",
              "    .dataframe tbody tr th {\n",
              "        vertical-align: top;\n",
              "    }\n",
              "\n",
              "    .dataframe thead th {\n",
              "        text-align: right;\n",
              "    }\n",
              "</style>\n",
              "<table border=\"1\" class=\"dataframe\">\n",
              "  <thead>\n",
              "    <tr style=\"text-align: right;\">\n",
              "      <th></th>\n",
              "      <th>Name</th>\n",
              "      <th>2019-01-15 00:00:00</th>\n",
              "      <th>2019-01-16 00:00:00</th>\n",
              "      <th>2019-01-20 00:00:00</th>\n",
              "      <th>2019-01-21 00:00:00</th>\n",
              "      <th>2019-01-24 00:00:00</th>\n",
              "      <th>2019-01-25 00:00:00</th>\n",
              "      <th>2019-01-26 00:00:00</th>\n",
              "      <th>2019-01-27 00:00:00</th>\n",
              "      <th>2019-01-28 00:00:00</th>\n",
              "      <th>2019-01-29 00:00:00</th>\n",
              "      <th>2019-01-30 00:00:00</th>\n",
              "      <th>2019-01-31 00:00:00</th>\n",
              "      <th>Total Diesel</th>\n",
              "    </tr>\n",
              "  </thead>\n",
              "  <tbody>\n",
              "    <tr>\n",
              "      <th>0</th>\n",
              "      <td>aarif</td>\n",
              "      <td>2000</td>\n",
              "      <td>0</td>\n",
              "      <td>0</td>\n",
              "      <td>0</td>\n",
              "      <td>0</td>\n",
              "      <td>0</td>\n",
              "      <td>2000</td>\n",
              "      <td>2000</td>\n",
              "      <td>2000</td>\n",
              "      <td>0</td>\n",
              "      <td>0</td>\n",
              "      <td>2000</td>\n",
              "      <td>10000</td>\n",
              "    </tr>\n",
              "  </tbody>\n",
              "</table>\n",
              "</div>"
            ],
            "text/plain": [
              "    Name  2019-01-15 00:00:00  2019-01-16 00:00:00  2019-01-20 00:00:00  \\\n",
              "0  aarif                 2000                    0                    0   \n",
              "\n",
              "   2019-01-21 00:00:00  2019-01-24 00:00:00  2019-01-25 00:00:00  \\\n",
              "0                    0                    0                    0   \n",
              "\n",
              "   2019-01-26 00:00:00  2019-01-27 00:00:00  2019-01-28 00:00:00  \\\n",
              "0                 2000                 2000                 2000   \n",
              "\n",
              "   2019-01-29 00:00:00  2019-01-30 00:00:00  2019-01-31 00:00:00  Total Diesel  \n",
              "0                    0                    0                 2000         10000  "
            ]
          },
          "metadata": {
            "tags": []
          },
          "execution_count": 26
        }
      ]
    },
    {
      "metadata": {
        "id": "2yjavOQTNghu",
        "colab_type": "code",
        "outputId": "226d38d3-3e75-4043-cfea-da70091169b5",
        "colab": {
          "base_uri": "https://localhost:8080/",
          "height": 824
        }
      },
      "cell_type": "code",
      "source": [
        "diesel = diesel[['Name', 'Total Diesel']]\n",
        "diesel.sort_values(by = 'Total Diesel', ascending = False, inplace = True)\n",
        "diesel"
      ],
      "execution_count": 0,
      "outputs": [
        {
          "output_type": "execute_result",
          "data": {
            "text/html": [
              "<div>\n",
              "<style scoped>\n",
              "    .dataframe tbody tr th:only-of-type {\n",
              "        vertical-align: middle;\n",
              "    }\n",
              "\n",
              "    .dataframe tbody tr th {\n",
              "        vertical-align: top;\n",
              "    }\n",
              "\n",
              "    .dataframe thead th {\n",
              "        text-align: right;\n",
              "    }\n",
              "</style>\n",
              "<table border=\"1\" class=\"dataframe\">\n",
              "  <thead>\n",
              "    <tr style=\"text-align: right;\">\n",
              "      <th></th>\n",
              "      <th>Name</th>\n",
              "      <th>Total Diesel</th>\n",
              "    </tr>\n",
              "  </thead>\n",
              "  <tbody>\n",
              "    <tr>\n",
              "      <th>24</th>\n",
              "      <td>Zztotal</td>\n",
              "      <td>384500</td>\n",
              "    </tr>\n",
              "    <tr>\n",
              "      <th>23</th>\n",
              "      <td>zzcash</td>\n",
              "      <td>51170</td>\n",
              "    </tr>\n",
              "    <tr>\n",
              "      <th>14</th>\n",
              "      <td>poclain</td>\n",
              "      <td>45500</td>\n",
              "    </tr>\n",
              "    <tr>\n",
              "      <th>6</th>\n",
              "      <td>hasan</td>\n",
              "      <td>21130</td>\n",
              "    </tr>\n",
              "    <tr>\n",
              "      <th>5</th>\n",
              "      <td>gulfam</td>\n",
              "      <td>19000</td>\n",
              "    </tr>\n",
              "    <tr>\n",
              "      <th>4</th>\n",
              "      <td>farookh</td>\n",
              "      <td>18500</td>\n",
              "    </tr>\n",
              "    <tr>\n",
              "      <th>17</th>\n",
              "      <td>sabir jcb</td>\n",
              "      <td>18500</td>\n",
              "    </tr>\n",
              "    <tr>\n",
              "      <th>16</th>\n",
              "      <td>rasid</td>\n",
              "      <td>17470</td>\n",
              "    </tr>\n",
              "    <tr>\n",
              "      <th>15</th>\n",
              "      <td>rafakat</td>\n",
              "      <td>16500</td>\n",
              "    </tr>\n",
              "    <tr>\n",
              "      <th>9</th>\n",
              "      <td>isran</td>\n",
              "      <td>16500</td>\n",
              "    </tr>\n",
              "    <tr>\n",
              "      <th>7</th>\n",
              "      <td>haseen</td>\n",
              "      <td>16330</td>\n",
              "    </tr>\n",
              "    <tr>\n",
              "      <th>21</th>\n",
              "      <td>toheed</td>\n",
              "      <td>14500</td>\n",
              "    </tr>\n",
              "    <tr>\n",
              "      <th>20</th>\n",
              "      <td>shokeen</td>\n",
              "      <td>13500</td>\n",
              "    </tr>\n",
              "    <tr>\n",
              "      <th>8</th>\n",
              "      <td>irsad</td>\n",
              "      <td>13000</td>\n",
              "    </tr>\n",
              "    <tr>\n",
              "      <th>18</th>\n",
              "      <td>momin</td>\n",
              "      <td>13000</td>\n",
              "    </tr>\n",
              "    <tr>\n",
              "      <th>12</th>\n",
              "      <td>khurseed</td>\n",
              "      <td>12900</td>\n",
              "    </tr>\n",
              "    <tr>\n",
              "      <th>1</th>\n",
              "      <td>aashu</td>\n",
              "      <td>12000</td>\n",
              "    </tr>\n",
              "    <tr>\n",
              "      <th>22</th>\n",
              "      <td>wajid</td>\n",
              "      <td>12000</td>\n",
              "    </tr>\n",
              "    <tr>\n",
              "      <th>19</th>\n",
              "      <td>shabir</td>\n",
              "      <td>10500</td>\n",
              "    </tr>\n",
              "    <tr>\n",
              "      <th>13</th>\n",
              "      <td>mustakim</td>\n",
              "      <td>10000</td>\n",
              "    </tr>\n",
              "    <tr>\n",
              "      <th>0</th>\n",
              "      <td>aarif</td>\n",
              "      <td>10000</td>\n",
              "    </tr>\n",
              "    <tr>\n",
              "      <th>10</th>\n",
              "      <td>jabir</td>\n",
              "      <td>8000</td>\n",
              "    </tr>\n",
              "    <tr>\n",
              "      <th>2</th>\n",
              "      <td>amjad</td>\n",
              "      <td>6000</td>\n",
              "    </tr>\n",
              "    <tr>\n",
              "      <th>3</th>\n",
              "      <td>anwar</td>\n",
              "      <td>5000</td>\n",
              "    </tr>\n",
              "    <tr>\n",
              "      <th>11</th>\n",
              "      <td>kayum</td>\n",
              "      <td>3500</td>\n",
              "    </tr>\n",
              "  </tbody>\n",
              "</table>\n",
              "</div>"
            ],
            "text/plain": [
              "         Name  Total Diesel\n",
              "24    Zztotal        384500\n",
              "23     zzcash         51170\n",
              "14    poclain         45500\n",
              "6       hasan         21130\n",
              "5      gulfam         19000\n",
              "4     farookh         18500\n",
              "17  sabir jcb         18500\n",
              "16      rasid         17470\n",
              "15    rafakat         16500\n",
              "9       isran         16500\n",
              "7      haseen         16330\n",
              "21     toheed         14500\n",
              "20    shokeen         13500\n",
              "8       irsad         13000\n",
              "18      momin         13000\n",
              "12   khurseed         12900\n",
              "1       aashu         12000\n",
              "22      wajid         12000\n",
              "19     shabir         10500\n",
              "13   mustakim         10000\n",
              "0       aarif         10000\n",
              "10      jabir          8000\n",
              "2       amjad          6000\n",
              "3       anwar          5000\n",
              "11      kayum          3500"
            ]
          },
          "metadata": {
            "tags": []
          },
          "execution_count": 27
        }
      ]
    },
    {
      "metadata": {
        "id": "cJvCrs5eHUzH",
        "colab_type": "code",
        "outputId": "b132ae73-17d7-4458-ab17-6abd399413f7",
        "colab": {
          "base_uri": "https://localhost:8080/",
          "height": 34
        }
      },
      "cell_type": "code",
      "source": [
        "name_total_quantity.shape"
      ],
      "execution_count": 0,
      "outputs": [
        {
          "output_type": "execute_result",
          "data": {
            "text/plain": [
              "(23, 2)"
            ]
          },
          "metadata": {
            "tags": []
          },
          "execution_count": 28
        }
      ]
    },
    {
      "metadata": {
        "id": "bIgFlZSgHZ2Z",
        "colab_type": "code",
        "outputId": "32918b12-d8ef-464b-8e91-48f68b0aa752",
        "colab": {
          "base_uri": "https://localhost:8080/",
          "height": 34
        }
      },
      "cell_type": "code",
      "source": [
        "diesel.shape"
      ],
      "execution_count": 0,
      "outputs": [
        {
          "output_type": "execute_result",
          "data": {
            "text/plain": [
              "(25, 2)"
            ]
          },
          "metadata": {
            "tags": []
          },
          "execution_count": 29
        }
      ]
    },
    {
      "metadata": {
        "id": "Dt0tY1MmKWaE",
        "colab_type": "code",
        "colab": {}
      },
      "cell_type": "code",
      "source": [
        "final = pd.DataFrame(columns = ['Name','Count' , 'Total Quantity', 'Amount', 'Diesel', 'Amount - Diesel','Balance(Amount - Diesel)'])\n",
        "for i in range(len(name_total_quantity)):\n",
        "  for j in range(len(diesel)):\n",
        "    if name_total_quantity.Name[i] == diesel.Name[j]:\n",
        "      final = final.append({'Name': diesel.Name[j],'Total Quantity':name_total_quantity['Total Quantity'][i] ,\n",
        "                            'Count':quantity_per_name.get(diesel.Name[j]),\n",
        "                            'Amount':name_total_quantity['Total Quantity'][i]*3,\n",
        "                            'Diesel':diesel['Total Diesel'][j],\n",
        "                            'Amount - Diesel':name_total_quantity['Total Quantity'][i]*3 - diesel['Total Diesel'][j],\n",
        "                           'Balance(Amount - Diesel)': name_total_quantity['Total Quantity'][i]*3 - diesel['Total Diesel'][j]},\n",
        "                           ignore_index = True)\n",
        "    "
      ],
      "execution_count": 0,
      "outputs": []
    },
    {
      "metadata": {
        "id": "pqq9bOw3M6j4",
        "colab_type": "code",
        "outputId": "a57cc9c7-8647-4db2-83b7-a5ef458b4e65",
        "colab": {
          "base_uri": "https://localhost:8080/",
          "height": 700
        }
      },
      "cell_type": "code",
      "source": [
        "final.sort_values(by = 'Total Quantity', ascending = False, inplace = True)\n",
        "final"
      ],
      "execution_count": 0,
      "outputs": [
        {
          "output_type": "execute_result",
          "data": {
            "text/html": [
              "<div>\n",
              "<style scoped>\n",
              "    .dataframe tbody tr th:only-of-type {\n",
              "        vertical-align: middle;\n",
              "    }\n",
              "\n",
              "    .dataframe tbody tr th {\n",
              "        vertical-align: top;\n",
              "    }\n",
              "\n",
              "    .dataframe thead th {\n",
              "        text-align: right;\n",
              "    }\n",
              "</style>\n",
              "<table border=\"1\" class=\"dataframe\">\n",
              "  <thead>\n",
              "    <tr style=\"text-align: right;\">\n",
              "      <th></th>\n",
              "      <th>Name</th>\n",
              "      <th>Count</th>\n",
              "      <th>Total Quantity</th>\n",
              "      <th>Amount</th>\n",
              "      <th>Diesel</th>\n",
              "      <th>Amount - Diesel</th>\n",
              "      <th>Balance(Amount - Diesel)</th>\n",
              "    </tr>\n",
              "  </thead>\n",
              "  <tbody>\n",
              "    <tr>\n",
              "      <th>6</th>\n",
              "      <td>hasan</td>\n",
              "      <td>29</td>\n",
              "      <td>15462</td>\n",
              "      <td>46386</td>\n",
              "      <td>21130</td>\n",
              "      <td>25256</td>\n",
              "      <td>25256</td>\n",
              "    </tr>\n",
              "    <tr>\n",
              "      <th>9</th>\n",
              "      <td>isran</td>\n",
              "      <td>27</td>\n",
              "      <td>12690</td>\n",
              "      <td>38070</td>\n",
              "      <td>16500</td>\n",
              "      <td>21570</td>\n",
              "      <td>21570</td>\n",
              "    </tr>\n",
              "    <tr>\n",
              "      <th>7</th>\n",
              "      <td>haseen</td>\n",
              "      <td>25</td>\n",
              "      <td>12400</td>\n",
              "      <td>37200</td>\n",
              "      <td>16330</td>\n",
              "      <td>20870</td>\n",
              "      <td>20870</td>\n",
              "    </tr>\n",
              "    <tr>\n",
              "      <th>16</th>\n",
              "      <td>rasid</td>\n",
              "      <td>29</td>\n",
              "      <td>11890</td>\n",
              "      <td>35670</td>\n",
              "      <td>17470</td>\n",
              "      <td>18200</td>\n",
              "      <td>18200</td>\n",
              "    </tr>\n",
              "    <tr>\n",
              "      <th>4</th>\n",
              "      <td>farookh</td>\n",
              "      <td>28</td>\n",
              "      <td>11760</td>\n",
              "      <td>35280</td>\n",
              "      <td>18500</td>\n",
              "      <td>16780</td>\n",
              "      <td>16780</td>\n",
              "    </tr>\n",
              "    <tr>\n",
              "      <th>5</th>\n",
              "      <td>gulfam</td>\n",
              "      <td>23</td>\n",
              "      <td>11500</td>\n",
              "      <td>34500</td>\n",
              "      <td>19000</td>\n",
              "      <td>15500</td>\n",
              "      <td>15500</td>\n",
              "    </tr>\n",
              "    <tr>\n",
              "      <th>18</th>\n",
              "      <td>shokeen</td>\n",
              "      <td>21</td>\n",
              "      <td>9513</td>\n",
              "      <td>28539</td>\n",
              "      <td>13500</td>\n",
              "      <td>15039</td>\n",
              "      <td>15039</td>\n",
              "    </tr>\n",
              "    <tr>\n",
              "      <th>13</th>\n",
              "      <td>momin</td>\n",
              "      <td>22</td>\n",
              "      <td>9130</td>\n",
              "      <td>27390</td>\n",
              "      <td>13000</td>\n",
              "      <td>14390</td>\n",
              "      <td>14390</td>\n",
              "    </tr>\n",
              "    <tr>\n",
              "      <th>12</th>\n",
              "      <td>khurseed</td>\n",
              "      <td>21</td>\n",
              "      <td>8805</td>\n",
              "      <td>26415</td>\n",
              "      <td>12900</td>\n",
              "      <td>13515</td>\n",
              "      <td>13515</td>\n",
              "    </tr>\n",
              "    <tr>\n",
              "      <th>14</th>\n",
              "      <td>mustakim</td>\n",
              "      <td>21</td>\n",
              "      <td>8505</td>\n",
              "      <td>25515</td>\n",
              "      <td>10000</td>\n",
              "      <td>15515</td>\n",
              "      <td>15515</td>\n",
              "    </tr>\n",
              "    <tr>\n",
              "      <th>15</th>\n",
              "      <td>rafakat</td>\n",
              "      <td>15</td>\n",
              "      <td>8070</td>\n",
              "      <td>24210</td>\n",
              "      <td>16500</td>\n",
              "      <td>7710</td>\n",
              "      <td>7710</td>\n",
              "    </tr>\n",
              "    <tr>\n",
              "      <th>19</th>\n",
              "      <td>toheed</td>\n",
              "      <td>21</td>\n",
              "      <td>8048</td>\n",
              "      <td>24144</td>\n",
              "      <td>14500</td>\n",
              "      <td>9644</td>\n",
              "      <td>9644</td>\n",
              "    </tr>\n",
              "    <tr>\n",
              "      <th>8</th>\n",
              "      <td>irsad</td>\n",
              "      <td>17</td>\n",
              "      <td>7395</td>\n",
              "      <td>22185</td>\n",
              "      <td>13000</td>\n",
              "      <td>9185</td>\n",
              "      <td>9185</td>\n",
              "    </tr>\n",
              "    <tr>\n",
              "      <th>20</th>\n",
              "      <td>wajid</td>\n",
              "      <td>16</td>\n",
              "      <td>6704</td>\n",
              "      <td>20112</td>\n",
              "      <td>12000</td>\n",
              "      <td>8112</td>\n",
              "      <td>8112</td>\n",
              "    </tr>\n",
              "    <tr>\n",
              "      <th>1</th>\n",
              "      <td>aashu</td>\n",
              "      <td>15</td>\n",
              "      <td>6450</td>\n",
              "      <td>19350</td>\n",
              "      <td>12000</td>\n",
              "      <td>7350</td>\n",
              "      <td>7350</td>\n",
              "    </tr>\n",
              "    <tr>\n",
              "      <th>0</th>\n",
              "      <td>aarif</td>\n",
              "      <td>15</td>\n",
              "      <td>6240</td>\n",
              "      <td>18720</td>\n",
              "      <td>10000</td>\n",
              "      <td>8720</td>\n",
              "      <td>8720</td>\n",
              "    </tr>\n",
              "    <tr>\n",
              "      <th>17</th>\n",
              "      <td>shabir</td>\n",
              "      <td>12</td>\n",
              "      <td>5640</td>\n",
              "      <td>16920</td>\n",
              "      <td>10500</td>\n",
              "      <td>6420</td>\n",
              "      <td>6420</td>\n",
              "    </tr>\n",
              "    <tr>\n",
              "      <th>10</th>\n",
              "      <td>jabir</td>\n",
              "      <td>12</td>\n",
              "      <td>5028</td>\n",
              "      <td>15084</td>\n",
              "      <td>8000</td>\n",
              "      <td>7084</td>\n",
              "      <td>7084</td>\n",
              "    </tr>\n",
              "    <tr>\n",
              "      <th>2</th>\n",
              "      <td>amjad</td>\n",
              "      <td>8</td>\n",
              "      <td>3288</td>\n",
              "      <td>9864</td>\n",
              "      <td>6000</td>\n",
              "      <td>3864</td>\n",
              "      <td>3864</td>\n",
              "    </tr>\n",
              "    <tr>\n",
              "      <th>3</th>\n",
              "      <td>anwar</td>\n",
              "      <td>7</td>\n",
              "      <td>2765</td>\n",
              "      <td>8295</td>\n",
              "      <td>5000</td>\n",
              "      <td>3295</td>\n",
              "      <td>3295</td>\n",
              "    </tr>\n",
              "    <tr>\n",
              "      <th>11</th>\n",
              "      <td>kayum</td>\n",
              "      <td>6</td>\n",
              "      <td>2700</td>\n",
              "      <td>8100</td>\n",
              "      <td>3500</td>\n",
              "      <td>4600</td>\n",
              "      <td>4600</td>\n",
              "    </tr>\n",
              "  </tbody>\n",
              "</table>\n",
              "</div>"
            ],
            "text/plain": [
              "        Name Count Total Quantity Amount Diesel Amount - Diesel  \\\n",
              "6      hasan    29          15462  46386  21130           25256   \n",
              "9      isran    27          12690  38070  16500           21570   \n",
              "7     haseen    25          12400  37200  16330           20870   \n",
              "16     rasid    29          11890  35670  17470           18200   \n",
              "4    farookh    28          11760  35280  18500           16780   \n",
              "5     gulfam    23          11500  34500  19000           15500   \n",
              "18   shokeen    21           9513  28539  13500           15039   \n",
              "13     momin    22           9130  27390  13000           14390   \n",
              "12  khurseed    21           8805  26415  12900           13515   \n",
              "14  mustakim    21           8505  25515  10000           15515   \n",
              "15   rafakat    15           8070  24210  16500            7710   \n",
              "19    toheed    21           8048  24144  14500            9644   \n",
              "8      irsad    17           7395  22185  13000            9185   \n",
              "20     wajid    16           6704  20112  12000            8112   \n",
              "1      aashu    15           6450  19350  12000            7350   \n",
              "0      aarif    15           6240  18720  10000            8720   \n",
              "17    shabir    12           5640  16920  10500            6420   \n",
              "10     jabir    12           5028  15084   8000            7084   \n",
              "2      amjad     8           3288   9864   6000            3864   \n",
              "3      anwar     7           2765   8295   5000            3295   \n",
              "11     kayum     6           2700   8100   3500            4600   \n",
              "\n",
              "   Balance(Amount - Diesel)  \n",
              "6                     25256  \n",
              "9                     21570  \n",
              "7                     20870  \n",
              "16                    18200  \n",
              "4                     16780  \n",
              "5                     15500  \n",
              "18                    15039  \n",
              "13                    14390  \n",
              "12                    13515  \n",
              "14                    15515  \n",
              "15                     7710  \n",
              "19                     9644  \n",
              "8                      9185  \n",
              "20                     8112  \n",
              "1                      7350  \n",
              "0                      8720  \n",
              "17                     6420  \n",
              "10                     7084  \n",
              "2                      3864  \n",
              "3                      3295  \n",
              "11                     4600  "
            ]
          },
          "metadata": {
            "tags": []
          },
          "execution_count": 31
        }
      ]
    },
    {
      "metadata": {
        "id": "j9mtOxxVNFDu",
        "colab_type": "code",
        "outputId": "2c56185b-a6ee-45ec-e247-50b394549d80",
        "colab": {
          "base_uri": "https://localhost:8080/",
          "height": 34
        }
      },
      "cell_type": "code",
      "source": [
        "final.shape"
      ],
      "execution_count": 0,
      "outputs": [
        {
          "output_type": "execute_result",
          "data": {
            "text/plain": [
              "(21, 7)"
            ]
          },
          "metadata": {
            "tags": []
          },
          "execution_count": 32
        }
      ]
    },
    {
      "metadata": {
        "id": "_0al7GQXkDXf",
        "colab_type": "text"
      },
      "cell_type": "markdown",
      "source": [
        "# Total payable"
      ]
    },
    {
      "metadata": {
        "id": "6XWkfa0VyQGy",
        "colab_type": "code",
        "outputId": "80148dc6-ed02-41a8-df43-7aac07293ec2",
        "colab": {
          "base_uri": "https://localhost:8080/",
          "height": 34
        }
      },
      "cell_type": "code",
      "source": [
        "sum(final['Amount - Diesel'])"
      ],
      "execution_count": 0,
      "outputs": [
        {
          "output_type": "execute_result",
          "data": {
            "text/plain": [
              "252619"
            ]
          },
          "metadata": {
            "tags": []
          },
          "execution_count": 33
        }
      ]
    },
    {
      "metadata": {
        "id": "pv6MLYbwyWxf",
        "colab_type": "text"
      },
      "cell_type": "markdown",
      "source": [
        "# Total Diesel to peoples"
      ]
    },
    {
      "metadata": {
        "id": "cgGCqVLEzDYa",
        "colab_type": "code",
        "outputId": "bfcd5ed9-a771-4f57-ab2e-d438d8eef8f6",
        "colab": {
          "base_uri": "https://localhost:8080/",
          "height": 34
        }
      },
      "cell_type": "code",
      "source": [
        "sum(final['Diesel'])"
      ],
      "execution_count": 0,
      "outputs": [
        {
          "output_type": "execute_result",
          "data": {
            "text/plain": [
              "269330"
            ]
          },
          "metadata": {
            "tags": []
          },
          "execution_count": 34
        }
      ]
    },
    {
      "metadata": {
        "id": "pBnjQATezE1-",
        "colab_type": "code",
        "outputId": "e8eb517d-65b4-4323-91ab-c7fb447af461",
        "colab": {
          "base_uri": "https://localhost:8080/",
          "height": 34
        }
      },
      "cell_type": "code",
      "source": [
        "to_tractors = sum(final['Total Quantity'])\n",
        "to_tractors"
      ],
      "execution_count": 0,
      "outputs": [
        {
          "output_type": "execute_result",
          "data": {
            "text/plain": [
              "173983"
            ]
          },
          "metadata": {
            "tags": []
          },
          "execution_count": 35
        }
      ]
    },
    {
      "metadata": {
        "id": "MfiO_RoO336s",
        "colab_type": "code",
        "outputId": "efe0c3aa-eca5-468a-ac15-3c3c5671be98",
        "colab": {
          "base_uri": "https://localhost:8080/",
          "height": 51
        }
      },
      "cell_type": "code",
      "source": [
        "to_tractors + name_total_quantity[name_total_quantity.Name == 'mehmood']['Total Quantity']"
      ],
      "execution_count": 0,
      "outputs": [
        {
          "output_type": "execute_result",
          "data": {
            "text/plain": [
              "14    177620\n",
              "Name: Total Quantity, dtype: object"
            ]
          },
          "metadata": {
            "tags": []
          },
          "execution_count": 36
        }
      ]
    },
    {
      "metadata": {
        "id": "99Mbstbv4MyU",
        "colab_type": "code",
        "colab": {}
      },
      "cell_type": "code",
      "source": [
        ""
      ],
      "execution_count": 0,
      "outputs": []
    }
  ]
}