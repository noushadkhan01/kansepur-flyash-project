{
  "nbformat": 4,
  "nbformat_minor": 0,
  "metadata": {
    "colab": {
      "name": "1_14_feb-bill5.ipynb",
      "version": "0.3.2",
      "provenance": [],
      "collapsed_sections": [],
      "include_colab_link": true
    },
    "kernelspec": {
      "name": "python3",
      "display_name": "Python 3"
    },
    "accelerator": "GPU"
  },
  "cells": [
    {
      "cell_type": "markdown",
      "metadata": {
        "id": "view-in-github",
        "colab_type": "text"
      },
      "source": [
        "<a href=\"https://colab.research.google.com/github/noushadkhan01/kansepur-flyash-project/blob/master/1-14-feb-bill5/1_14_feb_bill5.ipynb\" target=\"_parent\"><img src=\"https://colab.research.google.com/assets/colab-badge.svg\" alt=\"Open In Colab\"/></a>"
      ]
    },
    {
      "metadata": {
        "id": "so-LEjYwlBUq",
        "colab_type": "code",
        "outputId": "4a983197-3449-4a4a-a9bc-97f64a1ee518",
        "colab": {
          "base_uri": "https://localhost:8080/",
          "height": 136
        }
      },
      "cell_type": "code",
      "source": [
        "!git clone https://github.com/noushadkhan01/kansepur-flyash-project.git"
      ],
      "execution_count": 2,
      "outputs": [
        {
          "output_type": "stream",
          "text": [
            "Cloning into 'kansepur-flyash-project'...\n",
            "remote: Enumerating objects: 71, done.\u001b[K\n",
            "remote: Counting objects:   1% (1/71)   \u001b[K\rremote: Counting objects:   2% (2/71)   \u001b[K\rremote: Counting objects:   4% (3/71)   \u001b[K\rremote: Counting objects:   5% (4/71)   \u001b[K\rremote: Counting objects:   7% (5/71)   \u001b[K\rremote: Counting objects:   8% (6/71)   \u001b[K\rremote: Counting objects:   9% (7/71)   \u001b[K\rremote: Counting objects:  11% (8/71)   \u001b[K\rremote: Counting objects:  12% (9/71)   \u001b[K\rremote: Counting objects:  14% (10/71)   \u001b[K\rremote: Counting objects:  15% (11/71)   \u001b[K\rremote: Counting objects:  16% (12/71)   \u001b[K\rremote: Counting objects:  18% (13/71)   \u001b[K\rremote: Counting objects:  19% (14/71)   \u001b[K\rremote: Counting objects:  21% (15/71)   \u001b[K\rremote: Counting objects:  22% (16/71)   \u001b[K\rremote: Counting objects:  23% (17/71)   \u001b[K\rremote: Counting objects:  25% (18/71)   \u001b[K\rremote: Counting objects:  26% (19/71)   \u001b[K\rremote: Counting objects:  28% (20/71)   \u001b[K\rremote: Counting objects:  29% (21/71)   \u001b[K\rremote: Counting objects:  30% (22/71)   \u001b[K\rremote: Counting objects:  32% (23/71)   \u001b[K\rremote: Counting objects:  33% (24/71)   \u001b[K\rremote: Counting objects:  35% (25/71)   \u001b[K\rremote: Counting objects:  36% (26/71)   \u001b[K\rremote: Counting objects:  38% (27/71)   \u001b[K\rremote: Counting objects:  39% (28/71)   \u001b[K\rremote: Counting objects:  40% (29/71)   \u001b[K\rremote: Counting objects:  42% (30/71)   \u001b[K\rremote: Counting objects:  43% (31/71)   \u001b[K\rremote: Counting objects:  45% (32/71)   \u001b[K\rremote: Counting objects:  46% (33/71)   \u001b[K\rremote: Counting objects:  47% (34/71)   \u001b[K\rremote: Counting objects:  49% (35/71)   \u001b[K\rremote: Counting objects:  50% (36/71)   \u001b[K\rremote: Counting objects:  52% (37/71)   \u001b[K\rremote: Counting objects:  53% (38/71)   \u001b[K\rremote: Counting objects:  54% (39/71)   \u001b[K\rremote: Counting objects:  56% (40/71)   \u001b[K\rremote: Counting objects:  57% (41/71)   \u001b[K\rremote: Counting objects:  59% (42/71)   \u001b[K\rremote: Counting objects:  60% (43/71)   \u001b[K\rremote: Counting objects:  61% (44/71)   \u001b[K\rremote: Counting objects:  63% (45/71)   \u001b[K\rremote: Counting objects:  64% (46/71)   \u001b[K\rremote: Counting objects:  66% (47/71)   \u001b[K\rremote: Counting objects:  67% (48/71)   \u001b[K\rremote: Counting objects:  69% (49/71)   \u001b[K\rremote: Counting objects:  70% (50/71)   \u001b[K\rremote: Counting objects:  71% (51/71)   \u001b[K\rremote: Counting objects:  73% (52/71)   \u001b[K\rremote: Counting objects:  74% (53/71)   \u001b[K\rremote: Counting objects:  76% (54/71)   \u001b[K\rremote: Counting objects:  77% (55/71)   \u001b[K\rremote: Counting objects:  78% (56/71)   \u001b[K\rremote: Counting objects:  80% (57/71)   \u001b[K\rremote: Counting objects:  81% (58/71)   \u001b[K\rremote: Counting objects:  83% (59/71)   \u001b[K\rremote: Counting objects:  84% (60/71)   \u001b[K\rremote: Counting objects:  85% (61/71)   \u001b[K\rremote: Counting objects:  87% (62/71)   \u001b[K\rremote: Counting objects:  88% (63/71)   \u001b[K\rremote: Counting objects:  90% (64/71)   \u001b[K\rremote: Counting objects:  91% (65/71)   \u001b[K\rremote: Counting objects:  92% (66/71)   \u001b[K\rremote: Counting objects:  94% (67/71)   \u001b[K\rremote: Counting objects:  95% (68/71)   \u001b[K\rremote: Counting objects:  97% (69/71)   \u001b[K\rremote: Counting objects:  98% (70/71)   \u001b[K\rremote: Counting objects: 100% (71/71)   \u001b[K\rremote: Counting objects: 100% (71/71), done.\u001b[K\n",
            "remote: Compressing objects: 100% (68/68), done.\u001b[K\n",
            "remote: Total 311 (delta 35), reused 0 (delta 0), pack-reused 240\u001b[K\n",
            "Receiving objects: 100% (311/311), 710.48 KiB | 7.48 MiB/s, done.\n",
            "Resolving deltas: 100% (143/143), done.\n"
          ],
          "name": "stdout"
        }
      ]
    },
    {
      "metadata": {
        "id": "g1NpP5jtlH5r",
        "colab_type": "code",
        "colab": {}
      },
      "cell_type": "code",
      "source": [
        "import pandas as pd"
      ],
      "execution_count": 0,
      "outputs": []
    },
    {
      "metadata": {
        "id": "vgRnsjiMlJvN",
        "colab_type": "code",
        "outputId": "5219d3e0-cc69-43c4-bea3-05c556aba08a",
        "colab": {
          "base_uri": "https://localhost:8080/",
          "height": 34
        }
      },
      "cell_type": "code",
      "source": [
        "%cd ./kansepur-flyash-project/1-14-feb-bill5/"
      ],
      "execution_count": 4,
      "outputs": [
        {
          "output_type": "stream",
          "text": [
            "/content/kansepur-flyash-project/1-14-feb-bill5\n"
          ],
          "name": "stdout"
        }
      ]
    },
    {
      "metadata": {
        "id": "B6lL48hFlOrB",
        "colab_type": "code",
        "outputId": "0e30b876-e7e4-4ff8-bc8c-df162dbba7b5",
        "colab": {
          "base_uri": "https://localhost:8080/",
          "height": 34
        }
      },
      "cell_type": "code",
      "source": [
        "!ls"
      ],
      "execution_count": 5,
      "outputs": [
        {
          "output_type": "stream",
          "text": [
            "1_14_feb_bill5.ipynb  1_14_feb_bill.xlsx\n"
          ],
          "name": "stdout"
        }
      ]
    },
    {
      "metadata": {
        "id": "THAUXyC0lPYh",
        "colab_type": "code",
        "outputId": "5ae5d199-0321-47a1-d827-af158d0722ee",
        "colab": {
          "base_uri": "https://localhost:8080/",
          "height": 204
        }
      },
      "cell_type": "code",
      "source": [
        "df = pd.read_excel('1_14_feb_bill.xlsx', 'Sheet1')\n",
        "df.head()"
      ],
      "execution_count": 6,
      "outputs": [
        {
          "output_type": "execute_result",
          "data": {
            "text/html": [
              "<div>\n",
              "<style scoped>\n",
              "    .dataframe tbody tr th:only-of-type {\n",
              "        vertical-align: middle;\n",
              "    }\n",
              "\n",
              "    .dataframe tbody tr th {\n",
              "        vertical-align: top;\n",
              "    }\n",
              "\n",
              "    .dataframe thead th {\n",
              "        text-align: right;\n",
              "    }\n",
              "</style>\n",
              "<table border=\"1\" class=\"dataframe\">\n",
              "  <thead>\n",
              "    <tr style=\"text-align: right;\">\n",
              "      <th></th>\n",
              "      <th>S.No.</th>\n",
              "      <th>Date</th>\n",
              "      <th>Counts</th>\n",
              "      <th>Name</th>\n",
              "      <th>Quantity</th>\n",
              "      <th>Diesel</th>\n",
              "    </tr>\n",
              "  </thead>\n",
              "  <tbody>\n",
              "    <tr>\n",
              "      <th>0</th>\n",
              "      <td>1.0</td>\n",
              "      <td>2019-02-01</td>\n",
              "      <td>1.0</td>\n",
              "      <td>khurseed</td>\n",
              "      <td>455</td>\n",
              "      <td>NaN</td>\n",
              "    </tr>\n",
              "    <tr>\n",
              "      <th>1</th>\n",
              "      <td>2.0</td>\n",
              "      <td>NaT</td>\n",
              "      <td>2.0</td>\n",
              "      <td>momin</td>\n",
              "      <td>415</td>\n",
              "      <td>NaN</td>\n",
              "    </tr>\n",
              "    <tr>\n",
              "      <th>2</th>\n",
              "      <td>3.0</td>\n",
              "      <td>NaT</td>\n",
              "      <td>3.0</td>\n",
              "      <td>jabir</td>\n",
              "      <td>419</td>\n",
              "      <td>NaN</td>\n",
              "    </tr>\n",
              "    <tr>\n",
              "      <th>3</th>\n",
              "      <td>4.0</td>\n",
              "      <td>NaT</td>\n",
              "      <td>4.0</td>\n",
              "      <td>farookh</td>\n",
              "      <td>420</td>\n",
              "      <td>NaN</td>\n",
              "    </tr>\n",
              "    <tr>\n",
              "      <th>4</th>\n",
              "      <td>5.0</td>\n",
              "      <td>NaT</td>\n",
              "      <td>5.0</td>\n",
              "      <td>haseen</td>\n",
              "      <td>496</td>\n",
              "      <td>NaN</td>\n",
              "    </tr>\n",
              "  </tbody>\n",
              "</table>\n",
              "</div>"
            ],
            "text/plain": [
              "   S.No.       Date  Counts      Name  Quantity  Diesel\n",
              "0    1.0 2019-02-01     1.0  khurseed       455     NaN\n",
              "1    2.0        NaT     2.0     momin       415     NaN\n",
              "2    3.0        NaT     3.0     jabir       419     NaN\n",
              "3    4.0        NaT     4.0   farookh       420     NaN\n",
              "4    5.0        NaT     5.0    haseen       496     NaN"
            ]
          },
          "metadata": {
            "tags": []
          },
          "execution_count": 6
        }
      ]
    },
    {
      "metadata": {
        "id": "e1gUo92O-r5c",
        "colab_type": "code",
        "outputId": "034deab0-b7c4-4c53-90ce-e850293f3b27",
        "colab": {
          "base_uri": "https://localhost:8080/",
          "height": 111
        }
      },
      "cell_type": "code",
      "source": [
        "df.tail(2)"
      ],
      "execution_count": 7,
      "outputs": [
        {
          "output_type": "execute_result",
          "data": {
            "text/html": [
              "<div>\n",
              "<style scoped>\n",
              "    .dataframe tbody tr th:only-of-type {\n",
              "        vertical-align: middle;\n",
              "    }\n",
              "\n",
              "    .dataframe tbody tr th {\n",
              "        vertical-align: top;\n",
              "    }\n",
              "\n",
              "    .dataframe thead th {\n",
              "        text-align: right;\n",
              "    }\n",
              "</style>\n",
              "<table border=\"1\" class=\"dataframe\">\n",
              "  <thead>\n",
              "    <tr style=\"text-align: right;\">\n",
              "      <th></th>\n",
              "      <th>S.No.</th>\n",
              "      <th>Date</th>\n",
              "      <th>Counts</th>\n",
              "      <th>Name</th>\n",
              "      <th>Quantity</th>\n",
              "      <th>Diesel</th>\n",
              "    </tr>\n",
              "  </thead>\n",
              "  <tbody>\n",
              "    <tr>\n",
              "      <th>270</th>\n",
              "      <td>271.0</td>\n",
              "      <td>2019-02-14</td>\n",
              "      <td>NaN</td>\n",
              "      <td>jabir</td>\n",
              "      <td>419</td>\n",
              "      <td>NaN</td>\n",
              "    </tr>\n",
              "    <tr>\n",
              "      <th>271</th>\n",
              "      <td>NaN</td>\n",
              "      <td>NaT</td>\n",
              "      <td>NaN</td>\n",
              "      <td>NaN</td>\n",
              "      <td>120389</td>\n",
              "      <td>NaN</td>\n",
              "    </tr>\n",
              "  </tbody>\n",
              "</table>\n",
              "</div>"
            ],
            "text/plain": [
              "     S.No.       Date  Counts   Name  Quantity  Diesel\n",
              "270  271.0 2019-02-14     NaN  jabir       419     NaN\n",
              "271    NaN        NaT     NaN    NaN    120389     NaN"
            ]
          },
          "metadata": {
            "tags": []
          },
          "execution_count": 7
        }
      ]
    },
    {
      "metadata": {
        "id": "oUmdiUIj-xel",
        "colab_type": "code",
        "outputId": "89589b14-3da3-4cd3-89dd-3bff40b2245c",
        "colab": {
          "base_uri": "https://localhost:8080/",
          "height": 80
        }
      },
      "cell_type": "code",
      "source": [
        "df = df[:-1]\n",
        "df.tail(1)"
      ],
      "execution_count": 8,
      "outputs": [
        {
          "output_type": "execute_result",
          "data": {
            "text/html": [
              "<div>\n",
              "<style scoped>\n",
              "    .dataframe tbody tr th:only-of-type {\n",
              "        vertical-align: middle;\n",
              "    }\n",
              "\n",
              "    .dataframe tbody tr th {\n",
              "        vertical-align: top;\n",
              "    }\n",
              "\n",
              "    .dataframe thead th {\n",
              "        text-align: right;\n",
              "    }\n",
              "</style>\n",
              "<table border=\"1\" class=\"dataframe\">\n",
              "  <thead>\n",
              "    <tr style=\"text-align: right;\">\n",
              "      <th></th>\n",
              "      <th>S.No.</th>\n",
              "      <th>Date</th>\n",
              "      <th>Counts</th>\n",
              "      <th>Name</th>\n",
              "      <th>Quantity</th>\n",
              "      <th>Diesel</th>\n",
              "    </tr>\n",
              "  </thead>\n",
              "  <tbody>\n",
              "    <tr>\n",
              "      <th>270</th>\n",
              "      <td>271.0</td>\n",
              "      <td>2019-02-14</td>\n",
              "      <td>NaN</td>\n",
              "      <td>jabir</td>\n",
              "      <td>419</td>\n",
              "      <td>NaN</td>\n",
              "    </tr>\n",
              "  </tbody>\n",
              "</table>\n",
              "</div>"
            ],
            "text/plain": [
              "     S.No.       Date  Counts   Name  Quantity  Diesel\n",
              "270  271.0 2019-02-14     NaN  jabir       419     NaN"
            ]
          },
          "metadata": {
            "tags": []
          },
          "execution_count": 8
        }
      ]
    },
    {
      "metadata": {
        "id": "vYJmIHd8lWZY",
        "colab_type": "code",
        "outputId": "bbde4703-6894-4d82-9edd-b902fe729b4f",
        "colab": {
          "base_uri": "https://localhost:8080/",
          "height": 204
        }
      },
      "cell_type": "code",
      "source": [
        "df.info()"
      ],
      "execution_count": 9,
      "outputs": [
        {
          "output_type": "stream",
          "text": [
            "<class 'pandas.core.frame.DataFrame'>\n",
            "RangeIndex: 271 entries, 0 to 270\n",
            "Data columns (total 6 columns):\n",
            "S.No.       271 non-null float64\n",
            "Date        10 non-null datetime64[ns]\n",
            "Counts      270 non-null float64\n",
            "Name        271 non-null object\n",
            "Quantity    271 non-null int64\n",
            "Diesel      0 non-null float64\n",
            "dtypes: datetime64[ns](1), float64(3), int64(1), object(1)\n",
            "memory usage: 12.8+ KB\n"
          ],
          "name": "stdout"
        }
      ]
    },
    {
      "metadata": {
        "id": "vZ9H0uvuAxf5",
        "colab_type": "code",
        "outputId": "e25d3161-3301-4dea-ac48-62afcaa445e4",
        "colab": {
          "base_uri": "https://localhost:8080/",
          "height": 204
        }
      },
      "cell_type": "code",
      "source": [
        "unique_dates = df.Date.unique()\n",
        "unique_dates = pd.Series(unique_dates).dropna()\n",
        "print(unique_dates)"
      ],
      "execution_count": 10,
      "outputs": [
        {
          "output_type": "stream",
          "text": [
            "0    2019-02-01\n",
            "2    2019-02-02\n",
            "3    2019-02-05\n",
            "4    2019-02-06\n",
            "5    2019-02-07\n",
            "6    2019-02-10\n",
            "7    2019-02-11\n",
            "8    2019-02-12\n",
            "9    2019-02-13\n",
            "10   2019-02-14\n",
            "dtype: datetime64[ns]\n"
          ],
          "name": "stdout"
        }
      ]
    },
    {
      "metadata": {
        "id": "yOdejLAFA7j1",
        "colab_type": "code",
        "outputId": "d57d31dd-d789-4de3-ba35-66fdb0fa04ac",
        "colab": {
          "base_uri": "https://localhost:8080/",
          "height": 34
        }
      },
      "cell_type": "code",
      "source": [
        "df.Date.nunique()"
      ],
      "execution_count": 11,
      "outputs": [
        {
          "output_type": "execute_result",
          "data": {
            "text/plain": [
              "10"
            ]
          },
          "metadata": {
            "tags": []
          },
          "execution_count": 11
        }
      ]
    },
    {
      "metadata": {
        "id": "TTiF585xBBNC",
        "colab_type": "code",
        "outputId": "d1452674-20d1-47da-fa2f-2253ebf06423",
        "colab": {
          "base_uri": "https://localhost:8080/",
          "height": 204
        }
      },
      "cell_type": "code",
      "source": [
        "df.Date.value_counts()"
      ],
      "execution_count": 12,
      "outputs": [
        {
          "output_type": "execute_result",
          "data": {
            "text/plain": [
              "2019-02-07    1\n",
              "2019-02-10    1\n",
              "2019-02-13    1\n",
              "2019-02-02    1\n",
              "2019-02-05    1\n",
              "2019-02-11    1\n",
              "2019-02-14    1\n",
              "2019-02-06    1\n",
              "2019-02-12    1\n",
              "2019-02-01    1\n",
              "Name: Date, dtype: int64"
            ]
          },
          "metadata": {
            "tags": []
          },
          "execution_count": 12
        }
      ]
    },
    {
      "metadata": {
        "id": "uXqNsOzRDDSf",
        "colab_type": "code",
        "colab": {}
      },
      "cell_type": "code",
      "source": [
        "import numpy as np"
      ],
      "execution_count": 0,
      "outputs": []
    },
    {
      "metadata": {
        "id": "jsPDiLK9mCMB",
        "colab_type": "code",
        "outputId": "42a01076-afdd-4150-9bcd-1f27102c32c3",
        "colab": {
          "base_uri": "https://localhost:8080/",
          "height": 85
        }
      },
      "cell_type": "code",
      "source": [
        "df.Name.unique()"
      ],
      "execution_count": 14,
      "outputs": [
        {
          "output_type": "execute_result",
          "data": {
            "text/plain": [
              "array(['khurseed', 'momin', 'jabir', 'farookh', 'haseen', 'rasid',\n",
              "       'isran', 'aarif', 'hasan', 'rafakat', 'shokeen', 'amjad', 'toheed',\n",
              "       'shabir', 'aashu', 'mehmood', 'mustakim', 'gulfam', 'wajid',\n",
              "       'irsad'], dtype=object)"
            ]
          },
          "metadata": {
            "tags": []
          },
          "execution_count": 14
        }
      ]
    },
    {
      "metadata": {
        "id": "cJArT99yo39E",
        "colab_type": "code",
        "outputId": "f29ff8ae-7f4b-4349-c8ca-9004d071bf26",
        "colab": {
          "base_uri": "https://localhost:8080/",
          "height": 34
        }
      },
      "cell_type": "code",
      "source": [
        "total_quantity = sum(df.Quantity)\n",
        "total_quantity"
      ],
      "execution_count": 15,
      "outputs": [
        {
          "output_type": "execute_result",
          "data": {
            "text/plain": [
              "120389"
            ]
          },
          "metadata": {
            "tags": []
          },
          "execution_count": 15
        }
      ]
    },
    {
      "metadata": {
        "id": "KDfUKDebnJUR",
        "colab_type": "code",
        "outputId": "156ece09-6d74-4831-deb5-cc35c2add6c4",
        "colab": {
          "base_uri": "https://localhost:8080/",
          "height": 374
        }
      },
      "cell_type": "code",
      "source": [
        "rounds_per_name = df.Name.value_counts()\n",
        "rounds_per_name"
      ],
      "execution_count": 16,
      "outputs": [
        {
          "output_type": "execute_result",
          "data": {
            "text/plain": [
              "jabir       25\n",
              "khurseed    21\n",
              "haseen      20\n",
              "momin       17\n",
              "aarif       17\n",
              "isran       17\n",
              "hasan       17\n",
              "rasid       16\n",
              "mehmood     15\n",
              "toheed      15\n",
              "mustakim    15\n",
              "farookh     13\n",
              "wajid       13\n",
              "amjad       12\n",
              "shokeen     11\n",
              "gulfam      10\n",
              "irsad        9\n",
              "rafakat      3\n",
              "shabir       3\n",
              "aashu        2\n",
              "Name: Name, dtype: int64"
            ]
          },
          "metadata": {
            "tags": []
          },
          "execution_count": 16
        }
      ]
    },
    {
      "metadata": {
        "id": "XN6SqFu8rOBZ",
        "colab_type": "code",
        "colab": {
          "base_uri": "https://localhost:8080/",
          "height": 34
        },
        "outputId": "583fc84b-4a8b-493e-a333-9f2c88d48485"
      },
      "cell_type": "code",
      "source": [
        "sum(rounds_per_name.values)"
      ],
      "execution_count": 17,
      "outputs": [
        {
          "output_type": "execute_result",
          "data": {
            "text/plain": [
              "271"
            ]
          },
          "metadata": {
            "tags": []
          },
          "execution_count": 17
        }
      ]
    },
    {
      "metadata": {
        "id": "vegaPxckns74",
        "colab_type": "text"
      },
      "cell_type": "markdown",
      "source": [
        "## unique feets per name"
      ]
    },
    {
      "metadata": {
        "id": "-ITvOwaBwJ1t",
        "colab_type": "code",
        "outputId": "9b5407a1-71e6-4c85-dc60-1ae124f43e4d",
        "colab": {
          "base_uri": "https://localhost:8080/",
          "height": 34
        }
      },
      "cell_type": "code",
      "source": [
        "group = df.groupby(df.Name)\n",
        "group"
      ],
      "execution_count": 18,
      "outputs": [
        {
          "output_type": "execute_result",
          "data": {
            "text/plain": [
              "<pandas.core.groupby.DataFrameGroupBy object at 0x7fd8f93df5f8>"
            ]
          },
          "metadata": {
            "tags": []
          },
          "execution_count": 18
        }
      ]
    },
    {
      "metadata": {
        "id": "R0pQUd6CZ4Eg",
        "colab_type": "text"
      },
      "cell_type": "markdown",
      "source": [
        "for i, j in group:\n",
        "  print(i, '\\n', j.Quantity, '\\n')  "
      ]
    },
    {
      "metadata": {
        "id": "ndW_Qg-IwSkJ",
        "colab_type": "code",
        "outputId": "c9e910e4-f6e2-44b4-b512-59cb864546d7",
        "colab": {
          "base_uri": "https://localhost:8080/",
          "height": 697
        }
      },
      "cell_type": "code",
      "source": [
        "for i, j in group:\n",
        "  print(i, j.Quantity.unique(), '\\n')"
      ],
      "execution_count": 20,
      "outputs": [
        {
          "output_type": "stream",
          "text": [
            "aarif [416] \n",
            "\n",
            "aashu [430] \n",
            "\n",
            "amjad [411] \n",
            "\n",
            "farookh [420] \n",
            "\n",
            "gulfam [500 480] \n",
            "\n",
            "hasan [538 518] \n",
            "\n",
            "haseen [496] \n",
            "\n",
            "irsad [435 415] \n",
            "\n",
            "isran [470] \n",
            "\n",
            "jabir [419 399] \n",
            "\n",
            "khurseed [455 435] \n",
            "\n",
            "mehmood [538 430 496 410 455 420 405 500 470 453] \n",
            "\n",
            "momin [415 405] \n",
            "\n",
            "mustakim [405] \n",
            "\n",
            "rafakat [538] \n",
            "\n",
            "rasid [410 390] \n",
            "\n",
            "shabir [470] \n",
            "\n",
            "shokeen [453] \n",
            "\n",
            "toheed [320 455 405 445] \n",
            "\n",
            "wajid [419 409] \n",
            "\n"
          ],
          "name": "stdout"
        }
      ]
    },
    {
      "metadata": {
        "id": "0y2uPtUlJ6jo",
        "colab_type": "text"
      },
      "cell_type": "markdown",
      "source": [
        "# Diesel"
      ]
    },
    {
      "metadata": {
        "id": "O5znZR4bJ8Ri",
        "colab_type": "code",
        "outputId": "14e214b8-d353-4de7-ce3a-84dd76c09f05",
        "colab": {
          "base_uri": "https://localhost:8080/",
          "height": 204
        }
      },
      "cell_type": "code",
      "source": [
        "diesel = pd.read_excel('1_14_feb_bill.xlsx', 'Diesel')\n",
        "diesel.head()"
      ],
      "execution_count": 21,
      "outputs": [
        {
          "output_type": "execute_result",
          "data": {
            "text/html": [
              "<div>\n",
              "<style scoped>\n",
              "    .dataframe tbody tr th:only-of-type {\n",
              "        vertical-align: middle;\n",
              "    }\n",
              "\n",
              "    .dataframe tbody tr th {\n",
              "        vertical-align: top;\n",
              "    }\n",
              "\n",
              "    .dataframe thead th {\n",
              "        text-align: right;\n",
              "    }\n",
              "</style>\n",
              "<table border=\"1\" class=\"dataframe\">\n",
              "  <thead>\n",
              "    <tr style=\"text-align: right;\">\n",
              "      <th></th>\n",
              "      <th>Date</th>\n",
              "      <th>Name</th>\n",
              "      <th>Diesel</th>\n",
              "      <th>cash</th>\n",
              "    </tr>\n",
              "  </thead>\n",
              "  <tbody>\n",
              "    <tr>\n",
              "      <th>0</th>\n",
              "      <td>2019-02-01</td>\n",
              "      <td>hasan</td>\n",
              "      <td>2000</td>\n",
              "      <td>NaN</td>\n",
              "    </tr>\n",
              "    <tr>\n",
              "      <th>1</th>\n",
              "      <td>NaT</td>\n",
              "      <td>aarif</td>\n",
              "      <td>2000</td>\n",
              "      <td>NaN</td>\n",
              "    </tr>\n",
              "    <tr>\n",
              "      <th>2</th>\n",
              "      <td>NaT</td>\n",
              "      <td>jabir</td>\n",
              "      <td>2000</td>\n",
              "      <td>NaN</td>\n",
              "    </tr>\n",
              "    <tr>\n",
              "      <th>3</th>\n",
              "      <td>NaT</td>\n",
              "      <td>aashu</td>\n",
              "      <td>1500</td>\n",
              "      <td>1000.0</td>\n",
              "    </tr>\n",
              "    <tr>\n",
              "      <th>4</th>\n",
              "      <td>NaT</td>\n",
              "      <td>rasid</td>\n",
              "      <td>1500</td>\n",
              "      <td>NaN</td>\n",
              "    </tr>\n",
              "  </tbody>\n",
              "</table>\n",
              "</div>"
            ],
            "text/plain": [
              "        Date   Name  Diesel    cash\n",
              "0 2019-02-01  hasan    2000     NaN\n",
              "1        NaT  aarif    2000     NaN\n",
              "2        NaT  jabir    2000     NaN\n",
              "3        NaT  aashu    1500  1000.0\n",
              "4        NaT  rasid    1500     NaN"
            ]
          },
          "metadata": {
            "tags": []
          },
          "execution_count": 21
        }
      ]
    },
    {
      "metadata": {
        "id": "aNms0DItMFZ8",
        "colab_type": "code",
        "outputId": "e018aa62-25aa-4598-a453-fc32feb97146",
        "colab": {
          "base_uri": "https://localhost:8080/",
          "height": 34
        }
      },
      "cell_type": "code",
      "source": [
        "diesel.shape"
      ],
      "execution_count": 22,
      "outputs": [
        {
          "output_type": "execute_result",
          "data": {
            "text/plain": [
              "(125, 4)"
            ]
          },
          "metadata": {
            "tags": []
          },
          "execution_count": 22
        }
      ]
    },
    {
      "metadata": {
        "id": "FtBbwdi6GaOe",
        "colab_type": "code",
        "outputId": "97441bd0-2381-411d-8ef2-890ef36748ab",
        "colab": {
          "base_uri": "https://localhost:8080/",
          "height": 119
        }
      },
      "cell_type": "code",
      "source": [
        "diesel.Date.unique()"
      ],
      "execution_count": 23,
      "outputs": [
        {
          "output_type": "execute_result",
          "data": {
            "text/plain": [
              "array(['2019-02-01T00:00:00.000000000',                           'NaT',\n",
              "       '2019-02-02T00:00:00.000000000', '2019-02-05T00:00:00.000000000',\n",
              "       '2019-02-06T00:00:00.000000000', '2019-02-07T00:00:00.000000000',\n",
              "       '2019-02-10T00:00:00.000000000', '2019-02-11T00:00:00.000000000',\n",
              "       '2019-02-12T00:00:00.000000000', '2019-02-13T00:00:00.000000000'],\n",
              "      dtype='datetime64[ns]')"
            ]
          },
          "metadata": {
            "tags": []
          },
          "execution_count": 23
        }
      ]
    },
    {
      "metadata": {
        "id": "n6yM4M_2GZJH",
        "colab_type": "code",
        "colab": {}
      },
      "cell_type": "code",
      "source": [
        "for n, i in enumerate(diesel.Date.values):\n",
        "  if not pd.isnull(i):\n",
        "    date = i\n",
        "  else:\n",
        "    diesel.iloc[n, 0] = date"
      ],
      "execution_count": 0,
      "outputs": []
    },
    {
      "metadata": {
        "id": "4iSR7MyjHAQf",
        "colab_type": "code",
        "outputId": "a191eed2-22c0-4326-ab99-a4f9b26fe414",
        "colab": {
          "base_uri": "https://localhost:8080/",
          "height": 204
        }
      },
      "cell_type": "code",
      "source": [
        "diesel.head()"
      ],
      "execution_count": 25,
      "outputs": [
        {
          "output_type": "execute_result",
          "data": {
            "text/html": [
              "<div>\n",
              "<style scoped>\n",
              "    .dataframe tbody tr th:only-of-type {\n",
              "        vertical-align: middle;\n",
              "    }\n",
              "\n",
              "    .dataframe tbody tr th {\n",
              "        vertical-align: top;\n",
              "    }\n",
              "\n",
              "    .dataframe thead th {\n",
              "        text-align: right;\n",
              "    }\n",
              "</style>\n",
              "<table border=\"1\" class=\"dataframe\">\n",
              "  <thead>\n",
              "    <tr style=\"text-align: right;\">\n",
              "      <th></th>\n",
              "      <th>Date</th>\n",
              "      <th>Name</th>\n",
              "      <th>Diesel</th>\n",
              "      <th>cash</th>\n",
              "    </tr>\n",
              "  </thead>\n",
              "  <tbody>\n",
              "    <tr>\n",
              "      <th>0</th>\n",
              "      <td>2019-02-01</td>\n",
              "      <td>hasan</td>\n",
              "      <td>2000</td>\n",
              "      <td>NaN</td>\n",
              "    </tr>\n",
              "    <tr>\n",
              "      <th>1</th>\n",
              "      <td>2019-02-01</td>\n",
              "      <td>aarif</td>\n",
              "      <td>2000</td>\n",
              "      <td>NaN</td>\n",
              "    </tr>\n",
              "    <tr>\n",
              "      <th>2</th>\n",
              "      <td>2019-02-01</td>\n",
              "      <td>jabir</td>\n",
              "      <td>2000</td>\n",
              "      <td>NaN</td>\n",
              "    </tr>\n",
              "    <tr>\n",
              "      <th>3</th>\n",
              "      <td>2019-02-01</td>\n",
              "      <td>aashu</td>\n",
              "      <td>1500</td>\n",
              "      <td>1000.0</td>\n",
              "    </tr>\n",
              "    <tr>\n",
              "      <th>4</th>\n",
              "      <td>2019-02-01</td>\n",
              "      <td>rasid</td>\n",
              "      <td>1500</td>\n",
              "      <td>NaN</td>\n",
              "    </tr>\n",
              "  </tbody>\n",
              "</table>\n",
              "</div>"
            ],
            "text/plain": [
              "        Date   Name  Diesel    cash\n",
              "0 2019-02-01  hasan    2000     NaN\n",
              "1 2019-02-01  aarif    2000     NaN\n",
              "2 2019-02-01  jabir    2000     NaN\n",
              "3 2019-02-01  aashu    1500  1000.0\n",
              "4 2019-02-01  rasid    1500     NaN"
            ]
          },
          "metadata": {
            "tags": []
          },
          "execution_count": 25
        }
      ]
    },
    {
      "metadata": {
        "id": "-rLhXMKrHTRe",
        "colab_type": "text"
      },
      "cell_type": "markdown",
      "source": [
        "# pivot table"
      ]
    },
    {
      "metadata": {
        "id": "605hniozHVuB",
        "colab_type": "code",
        "outputId": "09e7e096-79fa-4f36-edde-657272cf6187",
        "colab": {
          "base_uri": "https://localhost:8080/",
          "height": 841
        }
      },
      "cell_type": "code",
      "source": [
        "pivot_diesel = diesel.pivot_table(index = 'Name', columns = 'Date', values = 'Diesel')\n",
        "pivot_diesel"
      ],
      "execution_count": 26,
      "outputs": [
        {
          "output_type": "execute_result",
          "data": {
            "text/html": [
              "<div>\n",
              "<style scoped>\n",
              "    .dataframe tbody tr th:only-of-type {\n",
              "        vertical-align: middle;\n",
              "    }\n",
              "\n",
              "    .dataframe tbody tr th {\n",
              "        vertical-align: top;\n",
              "    }\n",
              "\n",
              "    .dataframe thead th {\n",
              "        text-align: right;\n",
              "    }\n",
              "</style>\n",
              "<table border=\"1\" class=\"dataframe\">\n",
              "  <thead>\n",
              "    <tr style=\"text-align: right;\">\n",
              "      <th>Date</th>\n",
              "      <th>2019-02-01 00:00:00</th>\n",
              "      <th>2019-02-02 00:00:00</th>\n",
              "      <th>2019-02-05 00:00:00</th>\n",
              "      <th>2019-02-06 00:00:00</th>\n",
              "      <th>2019-02-07 00:00:00</th>\n",
              "      <th>2019-02-10 00:00:00</th>\n",
              "      <th>2019-02-11 00:00:00</th>\n",
              "      <th>2019-02-12 00:00:00</th>\n",
              "      <th>2019-02-13 00:00:00</th>\n",
              "    </tr>\n",
              "    <tr>\n",
              "      <th>Name</th>\n",
              "      <th></th>\n",
              "      <th></th>\n",
              "      <th></th>\n",
              "      <th></th>\n",
              "      <th></th>\n",
              "      <th></th>\n",
              "      <th></th>\n",
              "      <th></th>\n",
              "      <th></th>\n",
              "    </tr>\n",
              "  </thead>\n",
              "  <tbody>\n",
              "    <tr>\n",
              "      <th>Total</th>\n",
              "      <td>43500.0</td>\n",
              "      <td>3000.0</td>\n",
              "      <td>32000.0</td>\n",
              "      <td>30000.0</td>\n",
              "      <td>21000.0</td>\n",
              "      <td>32000.0</td>\n",
              "      <td>38000.0</td>\n",
              "      <td>36500.0</td>\n",
              "      <td>30000.0</td>\n",
              "    </tr>\n",
              "    <tr>\n",
              "      <th>aarif</th>\n",
              "      <td>2000.0</td>\n",
              "      <td>NaN</td>\n",
              "      <td>2000.0</td>\n",
              "      <td>2000.0</td>\n",
              "      <td>NaN</td>\n",
              "      <td>NaN</td>\n",
              "      <td>2000.0</td>\n",
              "      <td>2500.0</td>\n",
              "      <td>1500.0</td>\n",
              "    </tr>\n",
              "    <tr>\n",
              "      <th>aashu</th>\n",
              "      <td>1500.0</td>\n",
              "      <td>NaN</td>\n",
              "      <td>NaN</td>\n",
              "      <td>NaN</td>\n",
              "      <td>NaN</td>\n",
              "      <td>NaN</td>\n",
              "      <td>NaN</td>\n",
              "      <td>NaN</td>\n",
              "      <td>NaN</td>\n",
              "    </tr>\n",
              "    <tr>\n",
              "      <th>amjad</th>\n",
              "      <td>NaN</td>\n",
              "      <td>NaN</td>\n",
              "      <td>2000.0</td>\n",
              "      <td>2000.0</td>\n",
              "      <td>1000.0</td>\n",
              "      <td>NaN</td>\n",
              "      <td>NaN</td>\n",
              "      <td>2000.0</td>\n",
              "      <td>NaN</td>\n",
              "    </tr>\n",
              "    <tr>\n",
              "      <th>farookh</th>\n",
              "      <td>1500.0</td>\n",
              "      <td>NaN</td>\n",
              "      <td>NaN</td>\n",
              "      <td>NaN</td>\n",
              "      <td>NaN</td>\n",
              "      <td>2000.0</td>\n",
              "      <td>2000.0</td>\n",
              "      <td>1500.0</td>\n",
              "      <td>2000.0</td>\n",
              "    </tr>\n",
              "    <tr>\n",
              "      <th>gulfam</th>\n",
              "      <td>NaN</td>\n",
              "      <td>NaN</td>\n",
              "      <td>NaN</td>\n",
              "      <td>2000.0</td>\n",
              "      <td>2000.0</td>\n",
              "      <td>2000.0</td>\n",
              "      <td>NaN</td>\n",
              "      <td>2000.0</td>\n",
              "      <td>2000.0</td>\n",
              "    </tr>\n",
              "    <tr>\n",
              "      <th>hasan</th>\n",
              "      <td>2000.0</td>\n",
              "      <td>1000.0</td>\n",
              "      <td>1500.0</td>\n",
              "      <td>1500.0</td>\n",
              "      <td>NaN</td>\n",
              "      <td>2000.0</td>\n",
              "      <td>2000.0</td>\n",
              "      <td>1500.0</td>\n",
              "      <td>1000.0</td>\n",
              "    </tr>\n",
              "    <tr>\n",
              "      <th>haseen</th>\n",
              "      <td>2000.0</td>\n",
              "      <td>NaN</td>\n",
              "      <td>2000.0</td>\n",
              "      <td>2000.0</td>\n",
              "      <td>1500.0</td>\n",
              "      <td>2000.0</td>\n",
              "      <td>2500.0</td>\n",
              "      <td>1500.0</td>\n",
              "      <td>1500.0</td>\n",
              "    </tr>\n",
              "    <tr>\n",
              "      <th>irsad</th>\n",
              "      <td>NaN</td>\n",
              "      <td>NaN</td>\n",
              "      <td>NaN</td>\n",
              "      <td>500.0</td>\n",
              "      <td>2000.0</td>\n",
              "      <td>NaN</td>\n",
              "      <td>2000.0</td>\n",
              "      <td>2000.0</td>\n",
              "      <td>1500.0</td>\n",
              "    </tr>\n",
              "    <tr>\n",
              "      <th>isran</th>\n",
              "      <td>NaN</td>\n",
              "      <td>NaN</td>\n",
              "      <td>2000.0</td>\n",
              "      <td>2000.0</td>\n",
              "      <td>1000.0</td>\n",
              "      <td>2000.0</td>\n",
              "      <td>2000.0</td>\n",
              "      <td>2000.0</td>\n",
              "      <td>1500.0</td>\n",
              "    </tr>\n",
              "    <tr>\n",
              "      <th>jabir</th>\n",
              "      <td>2000.0</td>\n",
              "      <td>NaN</td>\n",
              "      <td>2000.0</td>\n",
              "      <td>2000.0</td>\n",
              "      <td>1000.0</td>\n",
              "      <td>2000.0</td>\n",
              "      <td>2500.0</td>\n",
              "      <td>1500.0</td>\n",
              "      <td>2000.0</td>\n",
              "    </tr>\n",
              "    <tr>\n",
              "      <th>khurseed</th>\n",
              "      <td>NaN</td>\n",
              "      <td>2000.0</td>\n",
              "      <td>2000.0</td>\n",
              "      <td>1300.0</td>\n",
              "      <td>NaN</td>\n",
              "      <td>2000.0</td>\n",
              "      <td>2000.0</td>\n",
              "      <td>2000.0</td>\n",
              "      <td>NaN</td>\n",
              "    </tr>\n",
              "    <tr>\n",
              "      <th>momin</th>\n",
              "      <td>2000.0</td>\n",
              "      <td>NaN</td>\n",
              "      <td>2000.0</td>\n",
              "      <td>1270.0</td>\n",
              "      <td>NaN</td>\n",
              "      <td>1500.0</td>\n",
              "      <td>NaN</td>\n",
              "      <td>2000.0</td>\n",
              "      <td>1500.0</td>\n",
              "    </tr>\n",
              "    <tr>\n",
              "      <th>mustakim</th>\n",
              "      <td>NaN</td>\n",
              "      <td>NaN</td>\n",
              "      <td>NaN</td>\n",
              "      <td>1500.0</td>\n",
              "      <td>NaN</td>\n",
              "      <td>2000.0</td>\n",
              "      <td>2000.0</td>\n",
              "      <td>2000.0</td>\n",
              "      <td>1500.0</td>\n",
              "    </tr>\n",
              "    <tr>\n",
              "      <th>noushad</th>\n",
              "      <td>9500.0</td>\n",
              "      <td>NaN</td>\n",
              "      <td>4240.0</td>\n",
              "      <td>3430.0</td>\n",
              "      <td>4000.0</td>\n",
              "      <td>4000.0</td>\n",
              "      <td>7500.0</td>\n",
              "      <td>6500.0</td>\n",
              "      <td>8500.0</td>\n",
              "    </tr>\n",
              "    <tr>\n",
              "      <th>poclain</th>\n",
              "      <td>3500.0</td>\n",
              "      <td>NaN</td>\n",
              "      <td>5260.0</td>\n",
              "      <td>5000.0</td>\n",
              "      <td>4000.0</td>\n",
              "      <td>3500.0</td>\n",
              "      <td>3000.0</td>\n",
              "      <td>3500.0</td>\n",
              "      <td>NaN</td>\n",
              "    </tr>\n",
              "    <tr>\n",
              "      <th>rafakat</th>\n",
              "      <td>2000.0</td>\n",
              "      <td>NaN</td>\n",
              "      <td>2000.0</td>\n",
              "      <td>NaN</td>\n",
              "      <td>NaN</td>\n",
              "      <td>NaN</td>\n",
              "      <td>NaN</td>\n",
              "      <td>NaN</td>\n",
              "      <td>NaN</td>\n",
              "    </tr>\n",
              "    <tr>\n",
              "      <th>rasid</th>\n",
              "      <td>1500.0</td>\n",
              "      <td>NaN</td>\n",
              "      <td>1500.0</td>\n",
              "      <td>1500.0</td>\n",
              "      <td>NaN</td>\n",
              "      <td>2000.0</td>\n",
              "      <td>2000.0</td>\n",
              "      <td>NaN</td>\n",
              "      <td>NaN</td>\n",
              "    </tr>\n",
              "    <tr>\n",
              "      <th>sabir jcb</th>\n",
              "      <td>10000.0</td>\n",
              "      <td>NaN</td>\n",
              "      <td>NaN</td>\n",
              "      <td>NaN</td>\n",
              "      <td>NaN</td>\n",
              "      <td>NaN</td>\n",
              "      <td>NaN</td>\n",
              "      <td>NaN</td>\n",
              "      <td>NaN</td>\n",
              "    </tr>\n",
              "    <tr>\n",
              "      <th>sanjay</th>\n",
              "      <td>NaN</td>\n",
              "      <td>NaN</td>\n",
              "      <td>NaN</td>\n",
              "      <td>NaN</td>\n",
              "      <td>NaN</td>\n",
              "      <td>NaN</td>\n",
              "      <td>NaN</td>\n",
              "      <td>NaN</td>\n",
              "      <td>2500.0</td>\n",
              "    </tr>\n",
              "    <tr>\n",
              "      <th>shabir</th>\n",
              "      <td>2000.0</td>\n",
              "      <td>0.0</td>\n",
              "      <td>NaN</td>\n",
              "      <td>NaN</td>\n",
              "      <td>2500.0</td>\n",
              "      <td>NaN</td>\n",
              "      <td>NaN</td>\n",
              "      <td>NaN</td>\n",
              "      <td>NaN</td>\n",
              "    </tr>\n",
              "    <tr>\n",
              "      <th>shokeen</th>\n",
              "      <td>NaN</td>\n",
              "      <td>NaN</td>\n",
              "      <td>2000.0</td>\n",
              "      <td>NaN</td>\n",
              "      <td>NaN</td>\n",
              "      <td>1500.0</td>\n",
              "      <td>2000.0</td>\n",
              "      <td>NaN</td>\n",
              "      <td>1500.0</td>\n",
              "    </tr>\n",
              "    <tr>\n",
              "      <th>toheed</th>\n",
              "      <td>2000.0</td>\n",
              "      <td>NaN</td>\n",
              "      <td>1500.0</td>\n",
              "      <td>NaN</td>\n",
              "      <td>NaN</td>\n",
              "      <td>2000.0</td>\n",
              "      <td>2500.0</td>\n",
              "      <td>1500.0</td>\n",
              "      <td>NaN</td>\n",
              "    </tr>\n",
              "    <tr>\n",
              "      <th>wajid</th>\n",
              "      <td>NaN</td>\n",
              "      <td>NaN</td>\n",
              "      <td>NaN</td>\n",
              "      <td>2000.0</td>\n",
              "      <td>2000.0</td>\n",
              "      <td>1000.0</td>\n",
              "      <td>2000.0</td>\n",
              "      <td>2500.0</td>\n",
              "      <td>1500.0</td>\n",
              "    </tr>\n",
              "  </tbody>\n",
              "</table>\n",
              "</div>"
            ],
            "text/plain": [
              "Date       2019-02-01  2019-02-02  2019-02-05  2019-02-06  2019-02-07  \\\n",
              "Name                                                                    \n",
              "Total         43500.0      3000.0     32000.0     30000.0     21000.0   \n",
              "aarif          2000.0         NaN      2000.0      2000.0         NaN   \n",
              "aashu          1500.0         NaN         NaN         NaN         NaN   \n",
              "amjad             NaN         NaN      2000.0      2000.0      1000.0   \n",
              "farookh        1500.0         NaN         NaN         NaN         NaN   \n",
              "gulfam            NaN         NaN         NaN      2000.0      2000.0   \n",
              "hasan          2000.0      1000.0      1500.0      1500.0         NaN   \n",
              "haseen         2000.0         NaN      2000.0      2000.0      1500.0   \n",
              "irsad             NaN         NaN         NaN       500.0      2000.0   \n",
              "isran             NaN         NaN      2000.0      2000.0      1000.0   \n",
              "jabir          2000.0         NaN      2000.0      2000.0      1000.0   \n",
              "khurseed          NaN      2000.0      2000.0      1300.0         NaN   \n",
              "momin          2000.0         NaN      2000.0      1270.0         NaN   \n",
              "mustakim          NaN         NaN         NaN      1500.0         NaN   \n",
              "noushad        9500.0         NaN      4240.0      3430.0      4000.0   \n",
              "poclain        3500.0         NaN      5260.0      5000.0      4000.0   \n",
              "rafakat        2000.0         NaN      2000.0         NaN         NaN   \n",
              "rasid          1500.0         NaN      1500.0      1500.0         NaN   \n",
              "sabir jcb     10000.0         NaN         NaN         NaN         NaN   \n",
              "sanjay            NaN         NaN         NaN         NaN         NaN   \n",
              "shabir         2000.0         0.0         NaN         NaN      2500.0   \n",
              "shokeen           NaN         NaN      2000.0         NaN         NaN   \n",
              "toheed         2000.0         NaN      1500.0         NaN         NaN   \n",
              "wajid             NaN         NaN         NaN      2000.0      2000.0   \n",
              "\n",
              "Date       2019-02-10  2019-02-11  2019-02-12  2019-02-13  \n",
              "Name                                                       \n",
              "Total         32000.0     38000.0     36500.0     30000.0  \n",
              "aarif             NaN      2000.0      2500.0      1500.0  \n",
              "aashu             NaN         NaN         NaN         NaN  \n",
              "amjad             NaN         NaN      2000.0         NaN  \n",
              "farookh        2000.0      2000.0      1500.0      2000.0  \n",
              "gulfam         2000.0         NaN      2000.0      2000.0  \n",
              "hasan          2000.0      2000.0      1500.0      1000.0  \n",
              "haseen         2000.0      2500.0      1500.0      1500.0  \n",
              "irsad             NaN      2000.0      2000.0      1500.0  \n",
              "isran          2000.0      2000.0      2000.0      1500.0  \n",
              "jabir          2000.0      2500.0      1500.0      2000.0  \n",
              "khurseed       2000.0      2000.0      2000.0         NaN  \n",
              "momin          1500.0         NaN      2000.0      1500.0  \n",
              "mustakim       2000.0      2000.0      2000.0      1500.0  \n",
              "noushad        4000.0      7500.0      6500.0      8500.0  \n",
              "poclain        3500.0      3000.0      3500.0         NaN  \n",
              "rafakat           NaN         NaN         NaN         NaN  \n",
              "rasid          2000.0      2000.0         NaN         NaN  \n",
              "sabir jcb         NaN         NaN         NaN         NaN  \n",
              "sanjay            NaN         NaN         NaN      2500.0  \n",
              "shabir            NaN         NaN         NaN         NaN  \n",
              "shokeen        1500.0      2000.0         NaN      1500.0  \n",
              "toheed         2000.0      2500.0      1500.0         NaN  \n",
              "wajid          1000.0      2000.0      2500.0      1500.0  "
            ]
          },
          "metadata": {
            "tags": []
          },
          "execution_count": 26
        }
      ]
    },
    {
      "metadata": {
        "id": "oB45FXvkLUo_",
        "colab_type": "code",
        "colab": {}
      },
      "cell_type": "code",
      "source": [
        "pivot_diesel.fillna(value = 0, inplace = True)"
      ],
      "execution_count": 0,
      "outputs": []
    },
    {
      "metadata": {
        "id": "xEonX1pxLeBD",
        "colab_type": "code",
        "outputId": "51241131-2ee7-4f5f-b89a-e5fa567dd5ce",
        "colab": {
          "base_uri": "https://localhost:8080/",
          "height": 159
        }
      },
      "cell_type": "code",
      "source": [
        "pivot_diesel.head(2)"
      ],
      "execution_count": 28,
      "outputs": [
        {
          "output_type": "execute_result",
          "data": {
            "text/html": [
              "<div>\n",
              "<style scoped>\n",
              "    .dataframe tbody tr th:only-of-type {\n",
              "        vertical-align: middle;\n",
              "    }\n",
              "\n",
              "    .dataframe tbody tr th {\n",
              "        vertical-align: top;\n",
              "    }\n",
              "\n",
              "    .dataframe thead th {\n",
              "        text-align: right;\n",
              "    }\n",
              "</style>\n",
              "<table border=\"1\" class=\"dataframe\">\n",
              "  <thead>\n",
              "    <tr style=\"text-align: right;\">\n",
              "      <th>Date</th>\n",
              "      <th>2019-02-01 00:00:00</th>\n",
              "      <th>2019-02-02 00:00:00</th>\n",
              "      <th>2019-02-05 00:00:00</th>\n",
              "      <th>2019-02-06 00:00:00</th>\n",
              "      <th>2019-02-07 00:00:00</th>\n",
              "      <th>2019-02-10 00:00:00</th>\n",
              "      <th>2019-02-11 00:00:00</th>\n",
              "      <th>2019-02-12 00:00:00</th>\n",
              "      <th>2019-02-13 00:00:00</th>\n",
              "    </tr>\n",
              "    <tr>\n",
              "      <th>Name</th>\n",
              "      <th></th>\n",
              "      <th></th>\n",
              "      <th></th>\n",
              "      <th></th>\n",
              "      <th></th>\n",
              "      <th></th>\n",
              "      <th></th>\n",
              "      <th></th>\n",
              "      <th></th>\n",
              "    </tr>\n",
              "  </thead>\n",
              "  <tbody>\n",
              "    <tr>\n",
              "      <th>Total</th>\n",
              "      <td>43500.0</td>\n",
              "      <td>3000.0</td>\n",
              "      <td>32000.0</td>\n",
              "      <td>30000.0</td>\n",
              "      <td>21000.0</td>\n",
              "      <td>32000.0</td>\n",
              "      <td>38000.0</td>\n",
              "      <td>36500.0</td>\n",
              "      <td>30000.0</td>\n",
              "    </tr>\n",
              "    <tr>\n",
              "      <th>aarif</th>\n",
              "      <td>2000.0</td>\n",
              "      <td>0.0</td>\n",
              "      <td>2000.0</td>\n",
              "      <td>2000.0</td>\n",
              "      <td>0.0</td>\n",
              "      <td>0.0</td>\n",
              "      <td>2000.0</td>\n",
              "      <td>2500.0</td>\n",
              "      <td>1500.0</td>\n",
              "    </tr>\n",
              "  </tbody>\n",
              "</table>\n",
              "</div>"
            ],
            "text/plain": [
              "Date   2019-02-01  2019-02-02  2019-02-05  2019-02-06  2019-02-07  2019-02-10  \\\n",
              "Name                                                                            \n",
              "Total     43500.0      3000.0     32000.0     30000.0     21000.0     32000.0   \n",
              "aarif      2000.0         0.0      2000.0      2000.0         0.0         0.0   \n",
              "\n",
              "Date   2019-02-11  2019-02-12  2019-02-13  \n",
              "Name                                       \n",
              "Total     38000.0     36500.0     30000.0  \n",
              "aarif      2000.0      2500.0      1500.0  "
            ]
          },
          "metadata": {
            "tags": []
          },
          "execution_count": 28
        }
      ]
    },
    {
      "metadata": {
        "id": "rEELWCKs_5Nx",
        "colab_type": "code",
        "outputId": "582f5a97-f3ad-4429-db5c-0f5f2981701e",
        "colab": {
          "base_uri": "https://localhost:8080/",
          "height": 128
        }
      },
      "cell_type": "code",
      "source": [
        "pivot_diesel['Total Diesel'] = pd.Series([0 for i in range(len(pivot_diesel))])\n",
        "pivot_diesel.head(1)"
      ],
      "execution_count": 29,
      "outputs": [
        {
          "output_type": "execute_result",
          "data": {
            "text/html": [
              "<div>\n",
              "<style scoped>\n",
              "    .dataframe tbody tr th:only-of-type {\n",
              "        vertical-align: middle;\n",
              "    }\n",
              "\n",
              "    .dataframe tbody tr th {\n",
              "        vertical-align: top;\n",
              "    }\n",
              "\n",
              "    .dataframe thead th {\n",
              "        text-align: right;\n",
              "    }\n",
              "</style>\n",
              "<table border=\"1\" class=\"dataframe\">\n",
              "  <thead>\n",
              "    <tr style=\"text-align: right;\">\n",
              "      <th>Date</th>\n",
              "      <th>2019-02-01 00:00:00</th>\n",
              "      <th>2019-02-02 00:00:00</th>\n",
              "      <th>2019-02-05 00:00:00</th>\n",
              "      <th>2019-02-06 00:00:00</th>\n",
              "      <th>2019-02-07 00:00:00</th>\n",
              "      <th>2019-02-10 00:00:00</th>\n",
              "      <th>2019-02-11 00:00:00</th>\n",
              "      <th>2019-02-12 00:00:00</th>\n",
              "      <th>2019-02-13 00:00:00</th>\n",
              "      <th>Total Diesel</th>\n",
              "    </tr>\n",
              "    <tr>\n",
              "      <th>Name</th>\n",
              "      <th></th>\n",
              "      <th></th>\n",
              "      <th></th>\n",
              "      <th></th>\n",
              "      <th></th>\n",
              "      <th></th>\n",
              "      <th></th>\n",
              "      <th></th>\n",
              "      <th></th>\n",
              "      <th></th>\n",
              "    </tr>\n",
              "  </thead>\n",
              "  <tbody>\n",
              "    <tr>\n",
              "      <th>Total</th>\n",
              "      <td>43500.0</td>\n",
              "      <td>3000.0</td>\n",
              "      <td>32000.0</td>\n",
              "      <td>30000.0</td>\n",
              "      <td>21000.0</td>\n",
              "      <td>32000.0</td>\n",
              "      <td>38000.0</td>\n",
              "      <td>36500.0</td>\n",
              "      <td>30000.0</td>\n",
              "      <td>NaN</td>\n",
              "    </tr>\n",
              "  </tbody>\n",
              "</table>\n",
              "</div>"
            ],
            "text/plain": [
              "Date   2019-02-01 00:00:00  2019-02-02 00:00:00  2019-02-05 00:00:00  \\\n",
              "Name                                                                   \n",
              "Total              43500.0               3000.0              32000.0   \n",
              "\n",
              "Date   2019-02-06 00:00:00  2019-02-07 00:00:00  2019-02-10 00:00:00  \\\n",
              "Name                                                                   \n",
              "Total              30000.0              21000.0              32000.0   \n",
              "\n",
              "Date   2019-02-11 00:00:00  2019-02-12 00:00:00  2019-02-13 00:00:00  \\\n",
              "Name                                                                   \n",
              "Total              38000.0              36500.0              30000.0   \n",
              "\n",
              "Date   Total Diesel  \n",
              "Name                 \n",
              "Total           NaN  "
            ]
          },
          "metadata": {
            "tags": []
          },
          "execution_count": 29
        }
      ]
    },
    {
      "metadata": {
        "id": "Y2EvagJaL13R",
        "colab_type": "code",
        "colab": {}
      },
      "cell_type": "code",
      "source": [
        "for i in range(len(pivot_diesel)):\n",
        "  pivot_diesel['Total Diesel'][i] = sum(pivot_diesel.iloc[i, 0:-1])"
      ],
      "execution_count": 0,
      "outputs": []
    },
    {
      "metadata": {
        "id": "jmPDiMVJASVB",
        "colab_type": "code",
        "outputId": "1d9dede1-0bd0-43fa-dc5b-f7091b60ee4e",
        "colab": {
          "base_uri": "https://localhost:8080/",
          "height": 841
        }
      },
      "cell_type": "code",
      "source": [
        "pivot_diesel"
      ],
      "execution_count": 31,
      "outputs": [
        {
          "output_type": "execute_result",
          "data": {
            "text/html": [
              "<div>\n",
              "<style scoped>\n",
              "    .dataframe tbody tr th:only-of-type {\n",
              "        vertical-align: middle;\n",
              "    }\n",
              "\n",
              "    .dataframe tbody tr th {\n",
              "        vertical-align: top;\n",
              "    }\n",
              "\n",
              "    .dataframe thead th {\n",
              "        text-align: right;\n",
              "    }\n",
              "</style>\n",
              "<table border=\"1\" class=\"dataframe\">\n",
              "  <thead>\n",
              "    <tr style=\"text-align: right;\">\n",
              "      <th>Date</th>\n",
              "      <th>2019-02-01 00:00:00</th>\n",
              "      <th>2019-02-02 00:00:00</th>\n",
              "      <th>2019-02-05 00:00:00</th>\n",
              "      <th>2019-02-06 00:00:00</th>\n",
              "      <th>2019-02-07 00:00:00</th>\n",
              "      <th>2019-02-10 00:00:00</th>\n",
              "      <th>2019-02-11 00:00:00</th>\n",
              "      <th>2019-02-12 00:00:00</th>\n",
              "      <th>2019-02-13 00:00:00</th>\n",
              "      <th>Total Diesel</th>\n",
              "    </tr>\n",
              "    <tr>\n",
              "      <th>Name</th>\n",
              "      <th></th>\n",
              "      <th></th>\n",
              "      <th></th>\n",
              "      <th></th>\n",
              "      <th></th>\n",
              "      <th></th>\n",
              "      <th></th>\n",
              "      <th></th>\n",
              "      <th></th>\n",
              "      <th></th>\n",
              "    </tr>\n",
              "  </thead>\n",
              "  <tbody>\n",
              "    <tr>\n",
              "      <th>Total</th>\n",
              "      <td>43500.0</td>\n",
              "      <td>3000.0</td>\n",
              "      <td>32000.0</td>\n",
              "      <td>30000.0</td>\n",
              "      <td>21000.0</td>\n",
              "      <td>32000.0</td>\n",
              "      <td>38000.0</td>\n",
              "      <td>36500.0</td>\n",
              "      <td>30000.0</td>\n",
              "      <td>266000.0</td>\n",
              "    </tr>\n",
              "    <tr>\n",
              "      <th>aarif</th>\n",
              "      <td>2000.0</td>\n",
              "      <td>0.0</td>\n",
              "      <td>2000.0</td>\n",
              "      <td>2000.0</td>\n",
              "      <td>0.0</td>\n",
              "      <td>0.0</td>\n",
              "      <td>2000.0</td>\n",
              "      <td>2500.0</td>\n",
              "      <td>1500.0</td>\n",
              "      <td>12000.0</td>\n",
              "    </tr>\n",
              "    <tr>\n",
              "      <th>aashu</th>\n",
              "      <td>1500.0</td>\n",
              "      <td>0.0</td>\n",
              "      <td>0.0</td>\n",
              "      <td>0.0</td>\n",
              "      <td>0.0</td>\n",
              "      <td>0.0</td>\n",
              "      <td>0.0</td>\n",
              "      <td>0.0</td>\n",
              "      <td>0.0</td>\n",
              "      <td>1500.0</td>\n",
              "    </tr>\n",
              "    <tr>\n",
              "      <th>amjad</th>\n",
              "      <td>0.0</td>\n",
              "      <td>0.0</td>\n",
              "      <td>2000.0</td>\n",
              "      <td>2000.0</td>\n",
              "      <td>1000.0</td>\n",
              "      <td>0.0</td>\n",
              "      <td>0.0</td>\n",
              "      <td>2000.0</td>\n",
              "      <td>0.0</td>\n",
              "      <td>7000.0</td>\n",
              "    </tr>\n",
              "    <tr>\n",
              "      <th>farookh</th>\n",
              "      <td>1500.0</td>\n",
              "      <td>0.0</td>\n",
              "      <td>0.0</td>\n",
              "      <td>0.0</td>\n",
              "      <td>0.0</td>\n",
              "      <td>2000.0</td>\n",
              "      <td>2000.0</td>\n",
              "      <td>1500.0</td>\n",
              "      <td>2000.0</td>\n",
              "      <td>9000.0</td>\n",
              "    </tr>\n",
              "    <tr>\n",
              "      <th>gulfam</th>\n",
              "      <td>0.0</td>\n",
              "      <td>0.0</td>\n",
              "      <td>0.0</td>\n",
              "      <td>2000.0</td>\n",
              "      <td>2000.0</td>\n",
              "      <td>2000.0</td>\n",
              "      <td>0.0</td>\n",
              "      <td>2000.0</td>\n",
              "      <td>2000.0</td>\n",
              "      <td>10000.0</td>\n",
              "    </tr>\n",
              "    <tr>\n",
              "      <th>hasan</th>\n",
              "      <td>2000.0</td>\n",
              "      <td>1000.0</td>\n",
              "      <td>1500.0</td>\n",
              "      <td>1500.0</td>\n",
              "      <td>0.0</td>\n",
              "      <td>2000.0</td>\n",
              "      <td>2000.0</td>\n",
              "      <td>1500.0</td>\n",
              "      <td>1000.0</td>\n",
              "      <td>12500.0</td>\n",
              "    </tr>\n",
              "    <tr>\n",
              "      <th>haseen</th>\n",
              "      <td>2000.0</td>\n",
              "      <td>0.0</td>\n",
              "      <td>2000.0</td>\n",
              "      <td>2000.0</td>\n",
              "      <td>1500.0</td>\n",
              "      <td>2000.0</td>\n",
              "      <td>2500.0</td>\n",
              "      <td>1500.0</td>\n",
              "      <td>1500.0</td>\n",
              "      <td>15000.0</td>\n",
              "    </tr>\n",
              "    <tr>\n",
              "      <th>irsad</th>\n",
              "      <td>0.0</td>\n",
              "      <td>0.0</td>\n",
              "      <td>0.0</td>\n",
              "      <td>500.0</td>\n",
              "      <td>2000.0</td>\n",
              "      <td>0.0</td>\n",
              "      <td>2000.0</td>\n",
              "      <td>2000.0</td>\n",
              "      <td>1500.0</td>\n",
              "      <td>8000.0</td>\n",
              "    </tr>\n",
              "    <tr>\n",
              "      <th>isran</th>\n",
              "      <td>0.0</td>\n",
              "      <td>0.0</td>\n",
              "      <td>2000.0</td>\n",
              "      <td>2000.0</td>\n",
              "      <td>1000.0</td>\n",
              "      <td>2000.0</td>\n",
              "      <td>2000.0</td>\n",
              "      <td>2000.0</td>\n",
              "      <td>1500.0</td>\n",
              "      <td>12500.0</td>\n",
              "    </tr>\n",
              "    <tr>\n",
              "      <th>jabir</th>\n",
              "      <td>2000.0</td>\n",
              "      <td>0.0</td>\n",
              "      <td>2000.0</td>\n",
              "      <td>2000.0</td>\n",
              "      <td>1000.0</td>\n",
              "      <td>2000.0</td>\n",
              "      <td>2500.0</td>\n",
              "      <td>1500.0</td>\n",
              "      <td>2000.0</td>\n",
              "      <td>15000.0</td>\n",
              "    </tr>\n",
              "    <tr>\n",
              "      <th>khurseed</th>\n",
              "      <td>0.0</td>\n",
              "      <td>2000.0</td>\n",
              "      <td>2000.0</td>\n",
              "      <td>1300.0</td>\n",
              "      <td>0.0</td>\n",
              "      <td>2000.0</td>\n",
              "      <td>2000.0</td>\n",
              "      <td>2000.0</td>\n",
              "      <td>0.0</td>\n",
              "      <td>11300.0</td>\n",
              "    </tr>\n",
              "    <tr>\n",
              "      <th>momin</th>\n",
              "      <td>2000.0</td>\n",
              "      <td>0.0</td>\n",
              "      <td>2000.0</td>\n",
              "      <td>1270.0</td>\n",
              "      <td>0.0</td>\n",
              "      <td>1500.0</td>\n",
              "      <td>0.0</td>\n",
              "      <td>2000.0</td>\n",
              "      <td>1500.0</td>\n",
              "      <td>10270.0</td>\n",
              "    </tr>\n",
              "    <tr>\n",
              "      <th>mustakim</th>\n",
              "      <td>0.0</td>\n",
              "      <td>0.0</td>\n",
              "      <td>0.0</td>\n",
              "      <td>1500.0</td>\n",
              "      <td>0.0</td>\n",
              "      <td>2000.0</td>\n",
              "      <td>2000.0</td>\n",
              "      <td>2000.0</td>\n",
              "      <td>1500.0</td>\n",
              "      <td>9000.0</td>\n",
              "    </tr>\n",
              "    <tr>\n",
              "      <th>noushad</th>\n",
              "      <td>9500.0</td>\n",
              "      <td>0.0</td>\n",
              "      <td>4240.0</td>\n",
              "      <td>3430.0</td>\n",
              "      <td>4000.0</td>\n",
              "      <td>4000.0</td>\n",
              "      <td>7500.0</td>\n",
              "      <td>6500.0</td>\n",
              "      <td>8500.0</td>\n",
              "      <td>47670.0</td>\n",
              "    </tr>\n",
              "    <tr>\n",
              "      <th>poclain</th>\n",
              "      <td>3500.0</td>\n",
              "      <td>0.0</td>\n",
              "      <td>5260.0</td>\n",
              "      <td>5000.0</td>\n",
              "      <td>4000.0</td>\n",
              "      <td>3500.0</td>\n",
              "      <td>3000.0</td>\n",
              "      <td>3500.0</td>\n",
              "      <td>0.0</td>\n",
              "      <td>27760.0</td>\n",
              "    </tr>\n",
              "    <tr>\n",
              "      <th>rafakat</th>\n",
              "      <td>2000.0</td>\n",
              "      <td>0.0</td>\n",
              "      <td>2000.0</td>\n",
              "      <td>0.0</td>\n",
              "      <td>0.0</td>\n",
              "      <td>0.0</td>\n",
              "      <td>0.0</td>\n",
              "      <td>0.0</td>\n",
              "      <td>0.0</td>\n",
              "      <td>4000.0</td>\n",
              "    </tr>\n",
              "    <tr>\n",
              "      <th>rasid</th>\n",
              "      <td>1500.0</td>\n",
              "      <td>0.0</td>\n",
              "      <td>1500.0</td>\n",
              "      <td>1500.0</td>\n",
              "      <td>0.0</td>\n",
              "      <td>2000.0</td>\n",
              "      <td>2000.0</td>\n",
              "      <td>0.0</td>\n",
              "      <td>0.0</td>\n",
              "      <td>8500.0</td>\n",
              "    </tr>\n",
              "    <tr>\n",
              "      <th>sabir jcb</th>\n",
              "      <td>10000.0</td>\n",
              "      <td>0.0</td>\n",
              "      <td>0.0</td>\n",
              "      <td>0.0</td>\n",
              "      <td>0.0</td>\n",
              "      <td>0.0</td>\n",
              "      <td>0.0</td>\n",
              "      <td>0.0</td>\n",
              "      <td>0.0</td>\n",
              "      <td>10000.0</td>\n",
              "    </tr>\n",
              "    <tr>\n",
              "      <th>sanjay</th>\n",
              "      <td>0.0</td>\n",
              "      <td>0.0</td>\n",
              "      <td>0.0</td>\n",
              "      <td>0.0</td>\n",
              "      <td>0.0</td>\n",
              "      <td>0.0</td>\n",
              "      <td>0.0</td>\n",
              "      <td>0.0</td>\n",
              "      <td>2500.0</td>\n",
              "      <td>2500.0</td>\n",
              "    </tr>\n",
              "    <tr>\n",
              "      <th>shabir</th>\n",
              "      <td>2000.0</td>\n",
              "      <td>0.0</td>\n",
              "      <td>0.0</td>\n",
              "      <td>0.0</td>\n",
              "      <td>2500.0</td>\n",
              "      <td>0.0</td>\n",
              "      <td>0.0</td>\n",
              "      <td>0.0</td>\n",
              "      <td>0.0</td>\n",
              "      <td>4500.0</td>\n",
              "    </tr>\n",
              "    <tr>\n",
              "      <th>shokeen</th>\n",
              "      <td>0.0</td>\n",
              "      <td>0.0</td>\n",
              "      <td>2000.0</td>\n",
              "      <td>0.0</td>\n",
              "      <td>0.0</td>\n",
              "      <td>1500.0</td>\n",
              "      <td>2000.0</td>\n",
              "      <td>0.0</td>\n",
              "      <td>1500.0</td>\n",
              "      <td>7000.0</td>\n",
              "    </tr>\n",
              "    <tr>\n",
              "      <th>toheed</th>\n",
              "      <td>2000.0</td>\n",
              "      <td>0.0</td>\n",
              "      <td>1500.0</td>\n",
              "      <td>0.0</td>\n",
              "      <td>0.0</td>\n",
              "      <td>2000.0</td>\n",
              "      <td>2500.0</td>\n",
              "      <td>1500.0</td>\n",
              "      <td>0.0</td>\n",
              "      <td>9500.0</td>\n",
              "    </tr>\n",
              "    <tr>\n",
              "      <th>wajid</th>\n",
              "      <td>0.0</td>\n",
              "      <td>0.0</td>\n",
              "      <td>0.0</td>\n",
              "      <td>2000.0</td>\n",
              "      <td>2000.0</td>\n",
              "      <td>1000.0</td>\n",
              "      <td>2000.0</td>\n",
              "      <td>2500.0</td>\n",
              "      <td>1500.0</td>\n",
              "      <td>11000.0</td>\n",
              "    </tr>\n",
              "  </tbody>\n",
              "</table>\n",
              "</div>"
            ],
            "text/plain": [
              "Date       2019-02-01 00:00:00  2019-02-02 00:00:00  2019-02-05 00:00:00  \\\n",
              "Name                                                                       \n",
              "Total                  43500.0               3000.0              32000.0   \n",
              "aarif                   2000.0                  0.0               2000.0   \n",
              "aashu                   1500.0                  0.0                  0.0   \n",
              "amjad                      0.0                  0.0               2000.0   \n",
              "farookh                 1500.0                  0.0                  0.0   \n",
              "gulfam                     0.0                  0.0                  0.0   \n",
              "hasan                   2000.0               1000.0               1500.0   \n",
              "haseen                  2000.0                  0.0               2000.0   \n",
              "irsad                      0.0                  0.0                  0.0   \n",
              "isran                      0.0                  0.0               2000.0   \n",
              "jabir                   2000.0                  0.0               2000.0   \n",
              "khurseed                   0.0               2000.0               2000.0   \n",
              "momin                   2000.0                  0.0               2000.0   \n",
              "mustakim                   0.0                  0.0                  0.0   \n",
              "noushad                 9500.0                  0.0               4240.0   \n",
              "poclain                 3500.0                  0.0               5260.0   \n",
              "rafakat                 2000.0                  0.0               2000.0   \n",
              "rasid                   1500.0                  0.0               1500.0   \n",
              "sabir jcb              10000.0                  0.0                  0.0   \n",
              "sanjay                     0.0                  0.0                  0.0   \n",
              "shabir                  2000.0                  0.0                  0.0   \n",
              "shokeen                    0.0                  0.0               2000.0   \n",
              "toheed                  2000.0                  0.0               1500.0   \n",
              "wajid                      0.0                  0.0                  0.0   \n",
              "\n",
              "Date       2019-02-06 00:00:00  2019-02-07 00:00:00  2019-02-10 00:00:00  \\\n",
              "Name                                                                       \n",
              "Total                  30000.0              21000.0              32000.0   \n",
              "aarif                   2000.0                  0.0                  0.0   \n",
              "aashu                      0.0                  0.0                  0.0   \n",
              "amjad                   2000.0               1000.0                  0.0   \n",
              "farookh                    0.0                  0.0               2000.0   \n",
              "gulfam                  2000.0               2000.0               2000.0   \n",
              "hasan                   1500.0                  0.0               2000.0   \n",
              "haseen                  2000.0               1500.0               2000.0   \n",
              "irsad                    500.0               2000.0                  0.0   \n",
              "isran                   2000.0               1000.0               2000.0   \n",
              "jabir                   2000.0               1000.0               2000.0   \n",
              "khurseed                1300.0                  0.0               2000.0   \n",
              "momin                   1270.0                  0.0               1500.0   \n",
              "mustakim                1500.0                  0.0               2000.0   \n",
              "noushad                 3430.0               4000.0               4000.0   \n",
              "poclain                 5000.0               4000.0               3500.0   \n",
              "rafakat                    0.0                  0.0                  0.0   \n",
              "rasid                   1500.0                  0.0               2000.0   \n",
              "sabir jcb                  0.0                  0.0                  0.0   \n",
              "sanjay                     0.0                  0.0                  0.0   \n",
              "shabir                     0.0               2500.0                  0.0   \n",
              "shokeen                    0.0                  0.0               1500.0   \n",
              "toheed                     0.0                  0.0               2000.0   \n",
              "wajid                   2000.0               2000.0               1000.0   \n",
              "\n",
              "Date       2019-02-11 00:00:00  2019-02-12 00:00:00  2019-02-13 00:00:00  \\\n",
              "Name                                                                       \n",
              "Total                  38000.0              36500.0              30000.0   \n",
              "aarif                   2000.0               2500.0               1500.0   \n",
              "aashu                      0.0                  0.0                  0.0   \n",
              "amjad                      0.0               2000.0                  0.0   \n",
              "farookh                 2000.0               1500.0               2000.0   \n",
              "gulfam                     0.0               2000.0               2000.0   \n",
              "hasan                   2000.0               1500.0               1000.0   \n",
              "haseen                  2500.0               1500.0               1500.0   \n",
              "irsad                   2000.0               2000.0               1500.0   \n",
              "isran                   2000.0               2000.0               1500.0   \n",
              "jabir                   2500.0               1500.0               2000.0   \n",
              "khurseed                2000.0               2000.0                  0.0   \n",
              "momin                      0.0               2000.0               1500.0   \n",
              "mustakim                2000.0               2000.0               1500.0   \n",
              "noushad                 7500.0               6500.0               8500.0   \n",
              "poclain                 3000.0               3500.0                  0.0   \n",
              "rafakat                    0.0                  0.0                  0.0   \n",
              "rasid                   2000.0                  0.0                  0.0   \n",
              "sabir jcb                  0.0                  0.0                  0.0   \n",
              "sanjay                     0.0                  0.0               2500.0   \n",
              "shabir                     0.0                  0.0                  0.0   \n",
              "shokeen                 2000.0                  0.0               1500.0   \n",
              "toheed                  2500.0               1500.0                  0.0   \n",
              "wajid                   2000.0               2500.0               1500.0   \n",
              "\n",
              "Date       Total Diesel  \n",
              "Name                     \n",
              "Total          266000.0  \n",
              "aarif           12000.0  \n",
              "aashu            1500.0  \n",
              "amjad            7000.0  \n",
              "farookh          9000.0  \n",
              "gulfam          10000.0  \n",
              "hasan           12500.0  \n",
              "haseen          15000.0  \n",
              "irsad            8000.0  \n",
              "isran           12500.0  \n",
              "jabir           15000.0  \n",
              "khurseed        11300.0  \n",
              "momin           10270.0  \n",
              "mustakim         9000.0  \n",
              "noushad         47670.0  \n",
              "poclain         27760.0  \n",
              "rafakat          4000.0  \n",
              "rasid            8500.0  \n",
              "sabir jcb       10000.0  \n",
              "sanjay           2500.0  \n",
              "shabir           4500.0  \n",
              "shokeen          7000.0  \n",
              "toheed           9500.0  \n",
              "wajid           11000.0  "
            ]
          },
          "metadata": {
            "tags": []
          },
          "execution_count": 31
        }
      ]
    },
    {
      "metadata": {
        "id": "Qe4-nCZrOLKW",
        "colab_type": "code",
        "outputId": "63afb8ec-30ea-446a-9bc3-dbf5c061290e",
        "colab": {
          "base_uri": "https://localhost:8080/",
          "height": 34
        }
      },
      "cell_type": "code",
      "source": [
        "total_diesel = pivot_diesel.iloc[0, -1]\n",
        "total_diesel"
      ],
      "execution_count": 32,
      "outputs": [
        {
          "output_type": "execute_result",
          "data": {
            "text/plain": [
              "266000.0"
            ]
          },
          "metadata": {
            "tags": []
          },
          "execution_count": 32
        }
      ]
    },
    {
      "metadata": {
        "id": "jsQ52FyRCZz9",
        "colab_type": "text"
      },
      "cell_type": "markdown",
      "source": [
        "# Total Quantity per name"
      ]
    },
    {
      "metadata": {
        "id": "aAtFy8oyD3dM",
        "colab_type": "code",
        "colab": {}
      },
      "cell_type": "code",
      "source": [
        "name_groups = df.groupby('Name')\n",
        "name_total_quantity = pd.DataFrame(columns = ['Name', 'Total Quantity'])\n",
        "for i, j in name_groups:\n",
        "  name_total_quantity = name_total_quantity.append({'Name':i, 'Total Quantity': sum(j.Quantity)}, ignore_index = True)\n",
        "  \n",
        "name_total_quantity.sort_values(by = ['Total Quantity'], ascending = False, inplace = True)"
      ],
      "execution_count": 0,
      "outputs": []
    },
    {
      "metadata": {
        "id": "4VCgjQr2INk1",
        "colab_type": "code",
        "outputId": "f9129daf-6db8-4819-c7f9-09a09e516c09",
        "colab": {
          "base_uri": "https://localhost:8080/",
          "height": 669
        }
      },
      "cell_type": "code",
      "source": [
        "name_total_quantity"
      ],
      "execution_count": 34,
      "outputs": [
        {
          "output_type": "execute_result",
          "data": {
            "text/html": [
              "<div>\n",
              "<style scoped>\n",
              "    .dataframe tbody tr th:only-of-type {\n",
              "        vertical-align: middle;\n",
              "    }\n",
              "\n",
              "    .dataframe tbody tr th {\n",
              "        vertical-align: top;\n",
              "    }\n",
              "\n",
              "    .dataframe thead th {\n",
              "        text-align: right;\n",
              "    }\n",
              "</style>\n",
              "<table border=\"1\" class=\"dataframe\">\n",
              "  <thead>\n",
              "    <tr style=\"text-align: right;\">\n",
              "      <th></th>\n",
              "      <th>Name</th>\n",
              "      <th>Total Quantity</th>\n",
              "    </tr>\n",
              "  </thead>\n",
              "  <tbody>\n",
              "    <tr>\n",
              "      <th>9</th>\n",
              "      <td>jabir</td>\n",
              "      <td>10455</td>\n",
              "    </tr>\n",
              "    <tr>\n",
              "      <th>6</th>\n",
              "      <td>haseen</td>\n",
              "      <td>9920</td>\n",
              "    </tr>\n",
              "    <tr>\n",
              "      <th>10</th>\n",
              "      <td>khurseed</td>\n",
              "      <td>9515</td>\n",
              "    </tr>\n",
              "    <tr>\n",
              "      <th>5</th>\n",
              "      <td>hasan</td>\n",
              "      <td>9126</td>\n",
              "    </tr>\n",
              "    <tr>\n",
              "      <th>8</th>\n",
              "      <td>isran</td>\n",
              "      <td>7990</td>\n",
              "    </tr>\n",
              "    <tr>\n",
              "      <th>0</th>\n",
              "      <td>aarif</td>\n",
              "      <td>7072</td>\n",
              "    </tr>\n",
              "    <tr>\n",
              "      <th>12</th>\n",
              "      <td>momin</td>\n",
              "      <td>7045</td>\n",
              "    </tr>\n",
              "    <tr>\n",
              "      <th>11</th>\n",
              "      <td>mehmood</td>\n",
              "      <td>6885</td>\n",
              "    </tr>\n",
              "    <tr>\n",
              "      <th>15</th>\n",
              "      <td>rasid</td>\n",
              "      <td>6540</td>\n",
              "    </tr>\n",
              "    <tr>\n",
              "      <th>18</th>\n",
              "      <td>toheed</td>\n",
              "      <td>6215</td>\n",
              "    </tr>\n",
              "    <tr>\n",
              "      <th>13</th>\n",
              "      <td>mustakim</td>\n",
              "      <td>6075</td>\n",
              "    </tr>\n",
              "    <tr>\n",
              "      <th>3</th>\n",
              "      <td>farookh</td>\n",
              "      <td>5460</td>\n",
              "    </tr>\n",
              "    <tr>\n",
              "      <th>19</th>\n",
              "      <td>wajid</td>\n",
              "      <td>5437</td>\n",
              "    </tr>\n",
              "    <tr>\n",
              "      <th>17</th>\n",
              "      <td>shokeen</td>\n",
              "      <td>4983</td>\n",
              "    </tr>\n",
              "    <tr>\n",
              "      <th>4</th>\n",
              "      <td>gulfam</td>\n",
              "      <td>4980</td>\n",
              "    </tr>\n",
              "    <tr>\n",
              "      <th>2</th>\n",
              "      <td>amjad</td>\n",
              "      <td>4932</td>\n",
              "    </tr>\n",
              "    <tr>\n",
              "      <th>7</th>\n",
              "      <td>irsad</td>\n",
              "      <td>3875</td>\n",
              "    </tr>\n",
              "    <tr>\n",
              "      <th>14</th>\n",
              "      <td>rafakat</td>\n",
              "      <td>1614</td>\n",
              "    </tr>\n",
              "    <tr>\n",
              "      <th>16</th>\n",
              "      <td>shabir</td>\n",
              "      <td>1410</td>\n",
              "    </tr>\n",
              "    <tr>\n",
              "      <th>1</th>\n",
              "      <td>aashu</td>\n",
              "      <td>860</td>\n",
              "    </tr>\n",
              "  </tbody>\n",
              "</table>\n",
              "</div>"
            ],
            "text/plain": [
              "        Name Total Quantity\n",
              "9      jabir          10455\n",
              "6     haseen           9920\n",
              "10  khurseed           9515\n",
              "5      hasan           9126\n",
              "8      isran           7990\n",
              "0      aarif           7072\n",
              "12     momin           7045\n",
              "11   mehmood           6885\n",
              "15     rasid           6540\n",
              "18    toheed           6215\n",
              "13  mustakim           6075\n",
              "3    farookh           5460\n",
              "19     wajid           5437\n",
              "17   shokeen           4983\n",
              "4     gulfam           4980\n",
              "2      amjad           4932\n",
              "7      irsad           3875\n",
              "14   rafakat           1614\n",
              "16    shabir           1410\n",
              "1      aashu            860"
            ]
          },
          "metadata": {
            "tags": []
          },
          "execution_count": 34
        }
      ]
    },
    {
      "metadata": {
        "id": "INqOC5E_EZTz",
        "colab_type": "code",
        "outputId": "e665929d-1ce7-4812-ad5d-954f34b5244c",
        "colab": {
          "base_uri": "https://localhost:8080/",
          "height": 128
        }
      },
      "cell_type": "code",
      "source": [
        "pivot_diesel.head(1)"
      ],
      "execution_count": 35,
      "outputs": [
        {
          "output_type": "execute_result",
          "data": {
            "text/html": [
              "<div>\n",
              "<style scoped>\n",
              "    .dataframe tbody tr th:only-of-type {\n",
              "        vertical-align: middle;\n",
              "    }\n",
              "\n",
              "    .dataframe tbody tr th {\n",
              "        vertical-align: top;\n",
              "    }\n",
              "\n",
              "    .dataframe thead th {\n",
              "        text-align: right;\n",
              "    }\n",
              "</style>\n",
              "<table border=\"1\" class=\"dataframe\">\n",
              "  <thead>\n",
              "    <tr style=\"text-align: right;\">\n",
              "      <th>Date</th>\n",
              "      <th>2019-02-01 00:00:00</th>\n",
              "      <th>2019-02-02 00:00:00</th>\n",
              "      <th>2019-02-05 00:00:00</th>\n",
              "      <th>2019-02-06 00:00:00</th>\n",
              "      <th>2019-02-07 00:00:00</th>\n",
              "      <th>2019-02-10 00:00:00</th>\n",
              "      <th>2019-02-11 00:00:00</th>\n",
              "      <th>2019-02-12 00:00:00</th>\n",
              "      <th>2019-02-13 00:00:00</th>\n",
              "      <th>Total Diesel</th>\n",
              "    </tr>\n",
              "    <tr>\n",
              "      <th>Name</th>\n",
              "      <th></th>\n",
              "      <th></th>\n",
              "      <th></th>\n",
              "      <th></th>\n",
              "      <th></th>\n",
              "      <th></th>\n",
              "      <th></th>\n",
              "      <th></th>\n",
              "      <th></th>\n",
              "      <th></th>\n",
              "    </tr>\n",
              "  </thead>\n",
              "  <tbody>\n",
              "    <tr>\n",
              "      <th>Total</th>\n",
              "      <td>43500.0</td>\n",
              "      <td>3000.0</td>\n",
              "      <td>32000.0</td>\n",
              "      <td>30000.0</td>\n",
              "      <td>21000.0</td>\n",
              "      <td>32000.0</td>\n",
              "      <td>38000.0</td>\n",
              "      <td>36500.0</td>\n",
              "      <td>30000.0</td>\n",
              "      <td>266000.0</td>\n",
              "    </tr>\n",
              "  </tbody>\n",
              "</table>\n",
              "</div>"
            ],
            "text/plain": [
              "Date   2019-02-01 00:00:00  2019-02-02 00:00:00  2019-02-05 00:00:00  \\\n",
              "Name                                                                   \n",
              "Total              43500.0               3000.0              32000.0   \n",
              "\n",
              "Date   2019-02-06 00:00:00  2019-02-07 00:00:00  2019-02-10 00:00:00  \\\n",
              "Name                                                                   \n",
              "Total              30000.0              21000.0              32000.0   \n",
              "\n",
              "Date   2019-02-11 00:00:00  2019-02-12 00:00:00  2019-02-13 00:00:00  \\\n",
              "Name                                                                   \n",
              "Total              38000.0              36500.0              30000.0   \n",
              "\n",
              "Date   Total Diesel  \n",
              "Name                 \n",
              "Total      266000.0  "
            ]
          },
          "metadata": {
            "tags": []
          },
          "execution_count": 35
        }
      ]
    },
    {
      "metadata": {
        "id": "rQ38mb0NKfBu",
        "colab_type": "code",
        "outputId": "7f0437fa-a7ee-4904-d951-f072b49d17cb",
        "colab": {
          "base_uri": "https://localhost:8080/",
          "height": 442
        }
      },
      "cell_type": "code",
      "source": [
        "pivot_diesel.iloc[1:, 9]"
      ],
      "execution_count": 36,
      "outputs": [
        {
          "output_type": "execute_result",
          "data": {
            "text/plain": [
              "Name\n",
              "aarif        12000.0\n",
              "aashu         1500.0\n",
              "amjad         7000.0\n",
              "farookh       9000.0\n",
              "gulfam       10000.0\n",
              "hasan        12500.0\n",
              "haseen       15000.0\n",
              "irsad         8000.0\n",
              "isran        12500.0\n",
              "jabir        15000.0\n",
              "khurseed     11300.0\n",
              "momin        10270.0\n",
              "mustakim      9000.0\n",
              "noushad      47670.0\n",
              "poclain      27760.0\n",
              "rafakat       4000.0\n",
              "rasid         8500.0\n",
              "sabir jcb    10000.0\n",
              "sanjay        2500.0\n",
              "shabir        4500.0\n",
              "shokeen       7000.0\n",
              "toheed        9500.0\n",
              "wajid        11000.0\n",
              "Name: Total Diesel, dtype: float64"
            ]
          },
          "metadata": {
            "tags": []
          },
          "execution_count": 36
        }
      ]
    },
    {
      "metadata": {
        "id": "y5QZO633IIu2",
        "colab_type": "code",
        "outputId": "438fe7a0-f0e3-4d45-a9cf-f19beeb42492",
        "colab": {
          "base_uri": "https://localhost:8080/",
          "height": 34
        }
      },
      "cell_type": "code",
      "source": [
        "sum(pivot_diesel.iloc[1:, 9])"
      ],
      "execution_count": 37,
      "outputs": [
        {
          "output_type": "execute_result",
          "data": {
            "text/plain": [
              "265500.0"
            ]
          },
          "metadata": {
            "tags": []
          },
          "execution_count": 37
        }
      ]
    },
    {
      "metadata": {
        "id": "TYYS60VIGZMD",
        "colab_type": "code",
        "outputId": "2c1ba316-d2d6-45c1-8ca7-8be987623a3c",
        "colab": {
          "base_uri": "https://localhost:8080/",
          "height": 793
        }
      },
      "cell_type": "code",
      "source": [
        "diesel = pd.DataFrame(pivot_diesel.iloc[1:, 9])\n",
        "diesel"
      ],
      "execution_count": 38,
      "outputs": [
        {
          "output_type": "execute_result",
          "data": {
            "text/html": [
              "<div>\n",
              "<style scoped>\n",
              "    .dataframe tbody tr th:only-of-type {\n",
              "        vertical-align: middle;\n",
              "    }\n",
              "\n",
              "    .dataframe tbody tr th {\n",
              "        vertical-align: top;\n",
              "    }\n",
              "\n",
              "    .dataframe thead th {\n",
              "        text-align: right;\n",
              "    }\n",
              "</style>\n",
              "<table border=\"1\" class=\"dataframe\">\n",
              "  <thead>\n",
              "    <tr style=\"text-align: right;\">\n",
              "      <th></th>\n",
              "      <th>Total Diesel</th>\n",
              "    </tr>\n",
              "    <tr>\n",
              "      <th>Name</th>\n",
              "      <th></th>\n",
              "    </tr>\n",
              "  </thead>\n",
              "  <tbody>\n",
              "    <tr>\n",
              "      <th>aarif</th>\n",
              "      <td>12000.0</td>\n",
              "    </tr>\n",
              "    <tr>\n",
              "      <th>aashu</th>\n",
              "      <td>1500.0</td>\n",
              "    </tr>\n",
              "    <tr>\n",
              "      <th>amjad</th>\n",
              "      <td>7000.0</td>\n",
              "    </tr>\n",
              "    <tr>\n",
              "      <th>farookh</th>\n",
              "      <td>9000.0</td>\n",
              "    </tr>\n",
              "    <tr>\n",
              "      <th>gulfam</th>\n",
              "      <td>10000.0</td>\n",
              "    </tr>\n",
              "    <tr>\n",
              "      <th>hasan</th>\n",
              "      <td>12500.0</td>\n",
              "    </tr>\n",
              "    <tr>\n",
              "      <th>haseen</th>\n",
              "      <td>15000.0</td>\n",
              "    </tr>\n",
              "    <tr>\n",
              "      <th>irsad</th>\n",
              "      <td>8000.0</td>\n",
              "    </tr>\n",
              "    <tr>\n",
              "      <th>isran</th>\n",
              "      <td>12500.0</td>\n",
              "    </tr>\n",
              "    <tr>\n",
              "      <th>jabir</th>\n",
              "      <td>15000.0</td>\n",
              "    </tr>\n",
              "    <tr>\n",
              "      <th>khurseed</th>\n",
              "      <td>11300.0</td>\n",
              "    </tr>\n",
              "    <tr>\n",
              "      <th>momin</th>\n",
              "      <td>10270.0</td>\n",
              "    </tr>\n",
              "    <tr>\n",
              "      <th>mustakim</th>\n",
              "      <td>9000.0</td>\n",
              "    </tr>\n",
              "    <tr>\n",
              "      <th>noushad</th>\n",
              "      <td>47670.0</td>\n",
              "    </tr>\n",
              "    <tr>\n",
              "      <th>poclain</th>\n",
              "      <td>27760.0</td>\n",
              "    </tr>\n",
              "    <tr>\n",
              "      <th>rafakat</th>\n",
              "      <td>4000.0</td>\n",
              "    </tr>\n",
              "    <tr>\n",
              "      <th>rasid</th>\n",
              "      <td>8500.0</td>\n",
              "    </tr>\n",
              "    <tr>\n",
              "      <th>sabir jcb</th>\n",
              "      <td>10000.0</td>\n",
              "    </tr>\n",
              "    <tr>\n",
              "      <th>sanjay</th>\n",
              "      <td>2500.0</td>\n",
              "    </tr>\n",
              "    <tr>\n",
              "      <th>shabir</th>\n",
              "      <td>4500.0</td>\n",
              "    </tr>\n",
              "    <tr>\n",
              "      <th>shokeen</th>\n",
              "      <td>7000.0</td>\n",
              "    </tr>\n",
              "    <tr>\n",
              "      <th>toheed</th>\n",
              "      <td>9500.0</td>\n",
              "    </tr>\n",
              "    <tr>\n",
              "      <th>wajid</th>\n",
              "      <td>11000.0</td>\n",
              "    </tr>\n",
              "  </tbody>\n",
              "</table>\n",
              "</div>"
            ],
            "text/plain": [
              "           Total Diesel\n",
              "Name                   \n",
              "aarif           12000.0\n",
              "aashu            1500.0\n",
              "amjad            7000.0\n",
              "farookh          9000.0\n",
              "gulfam          10000.0\n",
              "hasan           12500.0\n",
              "haseen          15000.0\n",
              "irsad            8000.0\n",
              "isran           12500.0\n",
              "jabir           15000.0\n",
              "khurseed        11300.0\n",
              "momin           10270.0\n",
              "mustakim         9000.0\n",
              "noushad         47670.0\n",
              "poclain         27760.0\n",
              "rafakat          4000.0\n",
              "rasid            8500.0\n",
              "sabir jcb       10000.0\n",
              "sanjay           2500.0\n",
              "shabir           4500.0\n",
              "shokeen          7000.0\n",
              "toheed           9500.0\n",
              "wajid           11000.0"
            ]
          },
          "metadata": {
            "tags": []
          },
          "execution_count": 38
        }
      ]
    },
    {
      "metadata": {
        "id": "O41jy7MMMnRo",
        "colab_type": "code",
        "colab": {}
      },
      "cell_type": "code",
      "source": [
        "diesel.reset_index(inplace = True)"
      ],
      "execution_count": 0,
      "outputs": []
    },
    {
      "metadata": {
        "id": "QmuplIIOMtwd",
        "colab_type": "code",
        "outputId": "d90f1951-920c-4540-b3a1-041f03681427",
        "colab": {
          "base_uri": "https://localhost:8080/",
          "height": 80
        }
      },
      "cell_type": "code",
      "source": [
        "diesel.head(1)"
      ],
      "execution_count": 40,
      "outputs": [
        {
          "output_type": "execute_result",
          "data": {
            "text/html": [
              "<div>\n",
              "<style scoped>\n",
              "    .dataframe tbody tr th:only-of-type {\n",
              "        vertical-align: middle;\n",
              "    }\n",
              "\n",
              "    .dataframe tbody tr th {\n",
              "        vertical-align: top;\n",
              "    }\n",
              "\n",
              "    .dataframe thead th {\n",
              "        text-align: right;\n",
              "    }\n",
              "</style>\n",
              "<table border=\"1\" class=\"dataframe\">\n",
              "  <thead>\n",
              "    <tr style=\"text-align: right;\">\n",
              "      <th></th>\n",
              "      <th>Name</th>\n",
              "      <th>Total Diesel</th>\n",
              "    </tr>\n",
              "  </thead>\n",
              "  <tbody>\n",
              "    <tr>\n",
              "      <th>0</th>\n",
              "      <td>aarif</td>\n",
              "      <td>12000.0</td>\n",
              "    </tr>\n",
              "  </tbody>\n",
              "</table>\n",
              "</div>"
            ],
            "text/plain": [
              "    Name  Total Diesel\n",
              "0  aarif       12000.0"
            ]
          },
          "metadata": {
            "tags": []
          },
          "execution_count": 40
        }
      ]
    },
    {
      "metadata": {
        "id": "cJvCrs5eHUzH",
        "colab_type": "code",
        "outputId": "e0414ca5-b03f-4638-fc29-d906c57a922d",
        "colab": {
          "base_uri": "https://localhost:8080/",
          "height": 34
        }
      },
      "cell_type": "code",
      "source": [
        "name_total_quantity.shape"
      ],
      "execution_count": 41,
      "outputs": [
        {
          "output_type": "execute_result",
          "data": {
            "text/plain": [
              "(20, 2)"
            ]
          },
          "metadata": {
            "tags": []
          },
          "execution_count": 41
        }
      ]
    },
    {
      "metadata": {
        "id": "bIgFlZSgHZ2Z",
        "colab_type": "code",
        "outputId": "32f2d265-fb2d-46a5-af64-5d03cd591240",
        "colab": {
          "base_uri": "https://localhost:8080/",
          "height": 34
        }
      },
      "cell_type": "code",
      "source": [
        "diesel.shape"
      ],
      "execution_count": 42,
      "outputs": [
        {
          "output_type": "execute_result",
          "data": {
            "text/plain": [
              "(23, 2)"
            ]
          },
          "metadata": {
            "tags": []
          },
          "execution_count": 42
        }
      ]
    },
    {
      "metadata": {
        "id": "Dt0tY1MmKWaE",
        "colab_type": "code",
        "colab": {}
      },
      "cell_type": "code",
      "source": [
        "final = pd.DataFrame(columns = ['Name','Count' , 'Total Quantity', 'Amount', 'Diesel', 'Amount - Diesel'])\n",
        "for i in range(len(name_total_quantity)):\n",
        "  for j in range(len(diesel)):\n",
        "    if name_total_quantity.Name[i] == diesel.Name[j]:\n",
        "      final = final.append({'Name': diesel.Name[j],'Total Quantity':name_total_quantity['Total Quantity'][i] ,\n",
        "                            'Count':rounds_per_name.get(diesel.Name[j]),\n",
        "                            'Amount':name_total_quantity['Total Quantity'][i]*3,\n",
        "                            'Diesel':diesel['Total Diesel'][j],\n",
        "                            'Amount - Diesel':name_total_quantity['Total Quantity'][i]*3 - diesel['Total Diesel'][j]},\n",
        "                           ignore_index = True)\n",
        "    "
      ],
      "execution_count": 0,
      "outputs": []
    },
    {
      "metadata": {
        "id": "pqq9bOw3M6j4",
        "colab_type": "code",
        "outputId": "bc59871e-4f46-439d-c2d4-0a576e1f8a23",
        "colab": {
          "base_uri": "https://localhost:8080/",
          "height": 638
        }
      },
      "cell_type": "code",
      "source": [
        "final.sort_values(by = 'Total Quantity', ascending = False, inplace = True)\n",
        "final"
      ],
      "execution_count": 44,
      "outputs": [
        {
          "output_type": "execute_result",
          "data": {
            "text/html": [
              "<div>\n",
              "<style scoped>\n",
              "    .dataframe tbody tr th:only-of-type {\n",
              "        vertical-align: middle;\n",
              "    }\n",
              "\n",
              "    .dataframe tbody tr th {\n",
              "        vertical-align: top;\n",
              "    }\n",
              "\n",
              "    .dataframe thead th {\n",
              "        text-align: right;\n",
              "    }\n",
              "</style>\n",
              "<table border=\"1\" class=\"dataframe\">\n",
              "  <thead>\n",
              "    <tr style=\"text-align: right;\">\n",
              "      <th></th>\n",
              "      <th>Name</th>\n",
              "      <th>Count</th>\n",
              "      <th>Total Quantity</th>\n",
              "      <th>Amount</th>\n",
              "      <th>Diesel</th>\n",
              "      <th>Amount - Diesel</th>\n",
              "    </tr>\n",
              "  </thead>\n",
              "  <tbody>\n",
              "    <tr>\n",
              "      <th>9</th>\n",
              "      <td>jabir</td>\n",
              "      <td>25</td>\n",
              "      <td>10455</td>\n",
              "      <td>31365</td>\n",
              "      <td>15000.0</td>\n",
              "      <td>16365.0</td>\n",
              "    </tr>\n",
              "    <tr>\n",
              "      <th>6</th>\n",
              "      <td>haseen</td>\n",
              "      <td>20</td>\n",
              "      <td>9920</td>\n",
              "      <td>29760</td>\n",
              "      <td>15000.0</td>\n",
              "      <td>14760.0</td>\n",
              "    </tr>\n",
              "    <tr>\n",
              "      <th>10</th>\n",
              "      <td>khurseed</td>\n",
              "      <td>21</td>\n",
              "      <td>9515</td>\n",
              "      <td>28545</td>\n",
              "      <td>11300.0</td>\n",
              "      <td>17245.0</td>\n",
              "    </tr>\n",
              "    <tr>\n",
              "      <th>5</th>\n",
              "      <td>hasan</td>\n",
              "      <td>17</td>\n",
              "      <td>9126</td>\n",
              "      <td>27378</td>\n",
              "      <td>12500.0</td>\n",
              "      <td>14878.0</td>\n",
              "    </tr>\n",
              "    <tr>\n",
              "      <th>8</th>\n",
              "      <td>isran</td>\n",
              "      <td>17</td>\n",
              "      <td>7990</td>\n",
              "      <td>23970</td>\n",
              "      <td>12500.0</td>\n",
              "      <td>11470.0</td>\n",
              "    </tr>\n",
              "    <tr>\n",
              "      <th>0</th>\n",
              "      <td>aarif</td>\n",
              "      <td>17</td>\n",
              "      <td>7072</td>\n",
              "      <td>21216</td>\n",
              "      <td>12000.0</td>\n",
              "      <td>9216.0</td>\n",
              "    </tr>\n",
              "    <tr>\n",
              "      <th>11</th>\n",
              "      <td>momin</td>\n",
              "      <td>17</td>\n",
              "      <td>7045</td>\n",
              "      <td>21135</td>\n",
              "      <td>10270.0</td>\n",
              "      <td>10865.0</td>\n",
              "    </tr>\n",
              "    <tr>\n",
              "      <th>14</th>\n",
              "      <td>rasid</td>\n",
              "      <td>16</td>\n",
              "      <td>6540</td>\n",
              "      <td>19620</td>\n",
              "      <td>8500.0</td>\n",
              "      <td>11120.0</td>\n",
              "    </tr>\n",
              "    <tr>\n",
              "      <th>17</th>\n",
              "      <td>toheed</td>\n",
              "      <td>15</td>\n",
              "      <td>6215</td>\n",
              "      <td>18645</td>\n",
              "      <td>9500.0</td>\n",
              "      <td>9145.0</td>\n",
              "    </tr>\n",
              "    <tr>\n",
              "      <th>12</th>\n",
              "      <td>mustakim</td>\n",
              "      <td>15</td>\n",
              "      <td>6075</td>\n",
              "      <td>18225</td>\n",
              "      <td>9000.0</td>\n",
              "      <td>9225.0</td>\n",
              "    </tr>\n",
              "    <tr>\n",
              "      <th>3</th>\n",
              "      <td>farookh</td>\n",
              "      <td>13</td>\n",
              "      <td>5460</td>\n",
              "      <td>16380</td>\n",
              "      <td>9000.0</td>\n",
              "      <td>7380.0</td>\n",
              "    </tr>\n",
              "    <tr>\n",
              "      <th>18</th>\n",
              "      <td>wajid</td>\n",
              "      <td>13</td>\n",
              "      <td>5437</td>\n",
              "      <td>16311</td>\n",
              "      <td>11000.0</td>\n",
              "      <td>5311.0</td>\n",
              "    </tr>\n",
              "    <tr>\n",
              "      <th>16</th>\n",
              "      <td>shokeen</td>\n",
              "      <td>11</td>\n",
              "      <td>4983</td>\n",
              "      <td>14949</td>\n",
              "      <td>7000.0</td>\n",
              "      <td>7949.0</td>\n",
              "    </tr>\n",
              "    <tr>\n",
              "      <th>4</th>\n",
              "      <td>gulfam</td>\n",
              "      <td>10</td>\n",
              "      <td>4980</td>\n",
              "      <td>14940</td>\n",
              "      <td>10000.0</td>\n",
              "      <td>4940.0</td>\n",
              "    </tr>\n",
              "    <tr>\n",
              "      <th>2</th>\n",
              "      <td>amjad</td>\n",
              "      <td>12</td>\n",
              "      <td>4932</td>\n",
              "      <td>14796</td>\n",
              "      <td>7000.0</td>\n",
              "      <td>7796.0</td>\n",
              "    </tr>\n",
              "    <tr>\n",
              "      <th>7</th>\n",
              "      <td>irsad</td>\n",
              "      <td>9</td>\n",
              "      <td>3875</td>\n",
              "      <td>11625</td>\n",
              "      <td>8000.0</td>\n",
              "      <td>3625.0</td>\n",
              "    </tr>\n",
              "    <tr>\n",
              "      <th>13</th>\n",
              "      <td>rafakat</td>\n",
              "      <td>3</td>\n",
              "      <td>1614</td>\n",
              "      <td>4842</td>\n",
              "      <td>4000.0</td>\n",
              "      <td>842.0</td>\n",
              "    </tr>\n",
              "    <tr>\n",
              "      <th>15</th>\n",
              "      <td>shabir</td>\n",
              "      <td>3</td>\n",
              "      <td>1410</td>\n",
              "      <td>4230</td>\n",
              "      <td>4500.0</td>\n",
              "      <td>-270.0</td>\n",
              "    </tr>\n",
              "    <tr>\n",
              "      <th>1</th>\n",
              "      <td>aashu</td>\n",
              "      <td>2</td>\n",
              "      <td>860</td>\n",
              "      <td>2580</td>\n",
              "      <td>1500.0</td>\n",
              "      <td>1080.0</td>\n",
              "    </tr>\n",
              "  </tbody>\n",
              "</table>\n",
              "</div>"
            ],
            "text/plain": [
              "        Name Count Total Quantity Amount   Diesel  Amount - Diesel\n",
              "9      jabir    25          10455  31365  15000.0          16365.0\n",
              "6     haseen    20           9920  29760  15000.0          14760.0\n",
              "10  khurseed    21           9515  28545  11300.0          17245.0\n",
              "5      hasan    17           9126  27378  12500.0          14878.0\n",
              "8      isran    17           7990  23970  12500.0          11470.0\n",
              "0      aarif    17           7072  21216  12000.0           9216.0\n",
              "11     momin    17           7045  21135  10270.0          10865.0\n",
              "14     rasid    16           6540  19620   8500.0          11120.0\n",
              "17    toheed    15           6215  18645   9500.0           9145.0\n",
              "12  mustakim    15           6075  18225   9000.0           9225.0\n",
              "3    farookh    13           5460  16380   9000.0           7380.0\n",
              "18     wajid    13           5437  16311  11000.0           5311.0\n",
              "16   shokeen    11           4983  14949   7000.0           7949.0\n",
              "4     gulfam    10           4980  14940  10000.0           4940.0\n",
              "2      amjad    12           4932  14796   7000.0           7796.0\n",
              "7      irsad     9           3875  11625   8000.0           3625.0\n",
              "13   rafakat     3           1614   4842   4000.0            842.0\n",
              "15    shabir     3           1410   4230   4500.0           -270.0\n",
              "1      aashu     2            860   2580   1500.0           1080.0"
            ]
          },
          "metadata": {
            "tags": []
          },
          "execution_count": 44
        }
      ]
    },
    {
      "metadata": {
        "id": "j9mtOxxVNFDu",
        "colab_type": "code",
        "outputId": "0b22c1f1-f7cf-4f66-f538-fc85efe6ab5e",
        "colab": {
          "base_uri": "https://localhost:8080/",
          "height": 34
        }
      },
      "cell_type": "code",
      "source": [
        "final.shape"
      ],
      "execution_count": 45,
      "outputs": [
        {
          "output_type": "execute_result",
          "data": {
            "text/plain": [
              "(19, 6)"
            ]
          },
          "metadata": {
            "tags": []
          },
          "execution_count": 45
        }
      ]
    },
    {
      "metadata": {
        "id": "2dFxg-EjQHiR",
        "colab_type": "code",
        "outputId": "c869be33-f4cd-463b-ee94-6e54d2112f59",
        "colab": {
          "base_uri": "https://localhost:8080/",
          "height": 34
        }
      },
      "cell_type": "code",
      "source": [
        "total_q = sum(final['Total Quantity'])\n",
        "total_q"
      ],
      "execution_count": 46,
      "outputs": [
        {
          "output_type": "execute_result",
          "data": {
            "text/plain": [
              "113504"
            ]
          },
          "metadata": {
            "tags": []
          },
          "execution_count": 46
        }
      ]
    },
    {
      "metadata": {
        "id": "_0al7GQXkDXf",
        "colab_type": "text"
      },
      "cell_type": "markdown",
      "source": [
        "# Total payable"
      ]
    },
    {
      "metadata": {
        "id": "Gnvgr72nOi46",
        "colab_type": "code",
        "outputId": "bf55c83d-3f0b-4b3e-93d3-6aba6147283f",
        "colab": {
          "base_uri": "https://localhost:8080/",
          "height": 34
        }
      },
      "cell_type": "code",
      "source": [
        "our_amount = total_quantity*4.25\n",
        "our_amount"
      ],
      "execution_count": 47,
      "outputs": [
        {
          "output_type": "execute_result",
          "data": {
            "text/plain": [
              "511653.25"
            ]
          },
          "metadata": {
            "tags": []
          },
          "execution_count": 47
        }
      ]
    },
    {
      "metadata": {
        "id": "2y-CqyDROs15",
        "colab_type": "code",
        "outputId": "822207c2-a6fb-4921-c58d-41c2302c8802",
        "colab": {
          "base_uri": "https://localhost:8080/",
          "height": 34
        }
      },
      "cell_type": "code",
      "source": [
        "total_diesel"
      ],
      "execution_count": 48,
      "outputs": [
        {
          "output_type": "execute_result",
          "data": {
            "text/plain": [
              "266000.0"
            ]
          },
          "metadata": {
            "tags": []
          },
          "execution_count": 48
        }
      ]
    },
    {
      "metadata": {
        "id": "sv2o9USAu_-y",
        "colab_type": "code",
        "colab": {
          "base_uri": "https://localhost:8080/",
          "height": 34
        },
        "outputId": "b3dbacea-6a31-4c5c-d066-3e935a384a06"
      },
      "cell_type": "code",
      "source": [
        "poclain_diesel = pivot_diesel.loc['poclain']['Total Diesel']\n",
        "poclain_diesel"
      ],
      "execution_count": 55,
      "outputs": [
        {
          "output_type": "execute_result",
          "data": {
            "text/plain": [
              "27760.0"
            ]
          },
          "metadata": {
            "tags": []
          },
          "execution_count": 55
        }
      ]
    },
    {
      "metadata": {
        "id": "fWPGu8mdvoVe",
        "colab_type": "code",
        "colab": {
          "base_uri": "https://localhost:8080/",
          "height": 34
        },
        "outputId": "705c2016-d21d-41e3-d70e-6c27b54aecee"
      },
      "cell_type": "code",
      "source": [
        "sabir_jcb = pivot_diesel.loc['sabir jcb']['Total Diesel']\n",
        "sabir_jcb"
      ],
      "execution_count": 54,
      "outputs": [
        {
          "output_type": "execute_result",
          "data": {
            "text/plain": [
              "10000.0"
            ]
          },
          "metadata": {
            "tags": []
          },
          "execution_count": 54
        }
      ]
    },
    {
      "metadata": {
        "id": "RcA_MAG7O8eW",
        "colab_type": "text"
      },
      "cell_type": "markdown",
      "source": [
        "# Our Balance"
      ]
    },
    {
      "metadata": {
        "id": "0sA_9sP9OxEs",
        "colab_type": "code",
        "outputId": "021490b8-2124-404d-dc59-f32415ca59dd",
        "colab": {
          "base_uri": "https://localhost:8080/",
          "height": 34
        }
      },
      "cell_type": "code",
      "source": [
        "balance = our_amount - total_diesel\n",
        "balance"
      ],
      "execution_count": 50,
      "outputs": [
        {
          "output_type": "execute_result",
          "data": {
            "text/plain": [
              "245653.25"
            ]
          },
          "metadata": {
            "tags": []
          },
          "execution_count": 50
        }
      ]
    },
    {
      "metadata": {
        "id": "qjdbMaeqO5Mo",
        "colab_type": "text"
      },
      "cell_type": "markdown",
      "source": [
        "# Tot to People"
      ]
    },
    {
      "metadata": {
        "id": "6XWkfa0VyQGy",
        "colab_type": "code",
        "outputId": "9d1ed365-d6c3-4b60-e418-f77004b8e07f",
        "colab": {
          "base_uri": "https://localhost:8080/",
          "height": 34
        }
      },
      "cell_type": "code",
      "source": [
        "to_people = total_quantity*3\n",
        "to_people"
      ],
      "execution_count": 56,
      "outputs": [
        {
          "output_type": "execute_result",
          "data": {
            "text/plain": [
              "361167"
            ]
          },
          "metadata": {
            "tags": []
          },
          "execution_count": 56
        }
      ]
    },
    {
      "metadata": {
        "id": "4f6mB_2rxNJ4",
        "colab_type": "code",
        "colab": {
          "base_uri": "https://localhost:8080/",
          "height": 34
        },
        "outputId": "b922aa78-4c48-4915-d26a-c8e2fd518d10"
      },
      "cell_type": "code",
      "source": [
        "diesel_to_people = total_diesel - noushad - poclain_diesel - sabir_jcb\n",
        "diesel_to_people"
      ],
      "execution_count": 59,
      "outputs": [
        {
          "output_type": "execute_result",
          "data": {
            "text/plain": [
              "180570.0"
            ]
          },
          "metadata": {
            "tags": []
          },
          "execution_count": 59
        }
      ]
    },
    {
      "metadata": {
        "id": "FQTB9rMpwSSS",
        "colab_type": "text"
      },
      "cell_type": "markdown",
      "source": [
        "## after diesel"
      ]
    },
    {
      "metadata": {
        "id": "r-fkZxn8wUXp",
        "colab_type": "code",
        "colab": {
          "base_uri": "https://localhost:8080/",
          "height": 34
        },
        "outputId": "0159587e-5c6e-4e63-9cb3-3c767ec6abe5"
      },
      "cell_type": "code",
      "source": [
        "amount_to_people_after_diesel = to_people - diesel_to_people\n",
        "amount_to_people_after_diesel"
      ],
      "execution_count": 60,
      "outputs": [
        {
          "output_type": "execute_result",
          "data": {
            "text/plain": [
              "180597.0"
            ]
          },
          "metadata": {
            "tags": []
          },
          "execution_count": 60
        }
      ]
    },
    {
      "metadata": {
        "id": "tPhUGIFiN7bm",
        "colab_type": "text"
      },
      "cell_type": "markdown",
      "source": [
        "# Profit"
      ]
    },
    {
      "metadata": {
        "id": "6pDOWf5cPM9R",
        "colab_type": "code",
        "outputId": "0f21cb63-7881-41f3-9248-11cd71651ddb",
        "colab": {
          "base_uri": "https://localhost:8080/",
          "height": 34
        }
      },
      "cell_type": "code",
      "source": [
        "balance - amount_to_people_after_diesel + noushad + sabir_jcb"
      ],
      "execution_count": 61,
      "outputs": [
        {
          "output_type": "execute_result",
          "data": {
            "text/plain": [
              "122726.25"
            ]
          },
          "metadata": {
            "tags": []
          },
          "execution_count": 61
        }
      ]
    },
    {
      "metadata": {
        "id": "Oyg4UMsKyHDB",
        "colab_type": "code",
        "colab": {}
      },
      "cell_type": "code",
      "source": [
        ""
      ],
      "execution_count": 0,
      "outputs": []
    }
  ]
}