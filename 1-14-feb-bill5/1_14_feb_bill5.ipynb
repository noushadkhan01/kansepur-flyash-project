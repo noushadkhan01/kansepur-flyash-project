{
  "nbformat": 4,
  "nbformat_minor": 0,
  "metadata": {
    "colab": {
      "name": "1_14_feb-bill5.ipynb",
      "version": "0.3.2",
      "provenance": [],
      "collapsed_sections": [],
      "include_colab_link": true
    },
    "kernelspec": {
      "name": "python3",
      "display_name": "Python 3"
    }
  },
  "cells": [
    {
      "cell_type": "markdown",
      "metadata": {
        "id": "view-in-github",
        "colab_type": "text"
      },
      "source": [
        "<a href=\"https://colab.research.google.com/github/noushadkhan01/kansepur-flyash-project/blob/master/1-14-feb-bill5/1_14_feb_bill5.ipynb\" target=\"_parent\"><img src=\"https://colab.research.google.com/assets/colab-badge.svg\" alt=\"Open In Colab\"/></a>"
      ]
    },
    {
      "metadata": {
        "id": "so-LEjYwlBUq",
        "colab_type": "code",
        "outputId": "8a3ee9b4-7d4b-47ec-d307-2b84847d4c0d",
        "colab": {
          "base_uri": "https://localhost:8080/",
          "height": 136
        }
      },
      "cell_type": "code",
      "source": [
        "!git clone https://github.com/noushadkhan01/kansepur-flyash-project.git"
      ],
      "execution_count": 1,
      "outputs": [
        {
          "output_type": "stream",
          "text": [
            "Cloning into 'kansepur-flyash-project'...\n",
            "remote: Enumerating objects: 43, done.\u001b[K\n",
            "remote: Counting objects:   2% (1/43)   \u001b[K\rremote: Counting objects:   4% (2/43)   \u001b[K\rremote: Counting objects:   6% (3/43)   \u001b[K\rremote: Counting objects:   9% (4/43)   \u001b[K\rremote: Counting objects:  11% (5/43)   \u001b[K\rremote: Counting objects:  13% (6/43)   \u001b[K\rremote: Counting objects:  16% (7/43)   \u001b[K\rremote: Counting objects:  18% (8/43)   \u001b[K\rremote: Counting objects:  20% (9/43)   \u001b[K\rremote: Counting objects:  23% (10/43)   \u001b[K\rremote: Counting objects:  25% (11/43)   \u001b[K\rremote: Counting objects:  27% (12/43)   \u001b[K\rremote: Counting objects:  30% (13/43)   \u001b[K\rremote: Counting objects:  32% (14/43)   \u001b[K\rremote: Counting objects:  34% (15/43)   \u001b[K\rremote: Counting objects:  37% (16/43)   \u001b[K\rremote: Counting objects:  39% (17/43)   \u001b[K\rremote: Counting objects:  41% (18/43)   \u001b[K\rremote: Counting objects:  44% (19/43)   \u001b[K\rremote: Counting objects:  46% (20/43)   \u001b[K\rremote: Counting objects:  48% (21/43)   \u001b[K\rremote: Counting objects:  51% (22/43)   \u001b[K\rremote: Counting objects:  53% (23/43)   \u001b[K\rremote: Counting objects:  55% (24/43)   \u001b[K\rremote: Counting objects:  58% (25/43)   \u001b[K\rremote: Counting objects:  60% (26/43)   \u001b[K\rremote: Counting objects:  62% (27/43)   \u001b[K\rremote: Counting objects:  65% (28/43)   \u001b[K\rremote: Counting objects:  67% (29/43)   \u001b[K\rremote: Counting objects:  69% (30/43)   \u001b[K\rremote: Counting objects:  72% (31/43)   \u001b[K\rremote: Counting objects:  74% (32/43)   \u001b[K\rremote: Counting objects:  76% (33/43)   \u001b[K\rremote: Counting objects:  79% (34/43)   \u001b[K\rremote: Counting objects:  81% (35/43)   \u001b[K\rremote: Counting objects:  83% (36/43)   \u001b[K\rremote: Counting objects:  86% (37/43)   \u001b[K\rremote: Counting objects:  88% (38/43)   \u001b[K\rremote: Counting objects:  90% (39/43)   \u001b[K\rremote: Counting objects:  93% (40/43)   \u001b[K\rremote: Counting objects:  95% (41/43)   \u001b[K\rremote: Counting objects:  97% (42/43)   \u001b[K\rremote: Counting objects: 100% (43/43)   \u001b[K\rremote: Counting objects: 100% (43/43), done.\u001b[K\n",
            "remote: Compressing objects:   2% (1/40)   \u001b[K\rremote: Compressing objects:   5% (2/40)   \u001b[K\rremote: Compressing objects:   7% (3/40)   \u001b[K\rremote: Compressing objects:  10% (4/40)   \u001b[K\rremote: Compressing objects:  12% (5/40)   \u001b[K\rremote: Compressing objects:  15% (6/40)   \u001b[K\rremote: Compressing objects:  17% (7/40)   \u001b[K\rremote: Compressing objects:  20% (8/40)   \u001b[K\rremote: Compressing objects:  22% (9/40)   \u001b[K\rremote: Compressing objects:  25% (10/40)   \u001b[K\rremote: Compressing objects:  27% (11/40)   \u001b[K\rremote: Compressing objects:  30% (12/40)   \u001b[K\rremote: Compressing objects:  32% (13/40)   \u001b[K\rremote: Compressing objects:  35% (14/40)   \u001b[K\rremote: Compressing objects:  37% (15/40)   \u001b[K\rremote: Compressing objects:  40% (16/40)   \u001b[K\rremote: Compressing objects:  42% (17/40)   \u001b[K\rremote: Compressing objects:  45% (18/40)   \u001b[K\rremote: Compressing objects:  47% (19/40)   \u001b[K\rremote: Compressing objects:  50% (20/40)   \u001b[K\rremote: Compressing objects:  52% (21/40)   \u001b[K\rremote: Compressing objects:  55% (22/40)   \u001b[K\rremote: Compressing objects:  57% (23/40)   \u001b[K\rremote: Compressing objects:  60% (24/40)   \u001b[K\rremote: Compressing objects:  62% (25/40)   \u001b[K\rremote: Compressing objects:  65% (26/40)   \u001b[K\rremote: Compressing objects:  67% (27/40)   \u001b[K\rremote: Compressing objects:  70% (28/40)   \u001b[K\rremote: Compressing objects:  72% (29/40)   \u001b[K\rremote: Compressing objects:  75% (30/40)   \u001b[K\rremote: Compressing objects:  77% (31/40)   \u001b[K\rremote: Compressing objects:  80% (32/40)   \u001b[K\rremote: Compressing objects:  82% (33/40)   \u001b[K\rremote: Compressing objects:  85% (34/40)   \u001b[K\rremote: Compressing objects:  87% (35/40)   \u001b[K\rremote: Compressing objects:  90% (36/40)   \u001b[K\rremote: Compressing objects:  92% (37/40)   \u001b[K\rremote: Compressing objects:  95% (38/40)   \u001b[K\rremote: Compressing objects:  97% (39/40)   \u001b[K\rremote: Compressing objects: 100% (40/40)   \u001b[K\rremote: Compressing objects: 100% (40/40), done.\u001b[K\n",
            "Receiving objects:   0% (1/283)   \rReceiving objects:   1% (3/283)   \rReceiving objects:   2% (6/283)   \rReceiving objects:   3% (9/283)   \rReceiving objects:   4% (12/283)   \rReceiving objects:   5% (15/283)   \rReceiving objects:   6% (17/283)   \rReceiving objects:   7% (20/283)   \rReceiving objects:   8% (23/283)   \rReceiving objects:   9% (26/283)   \rReceiving objects:  10% (29/283)   \rReceiving objects:  11% (32/283)   \rReceiving objects:  12% (34/283)   \rReceiving objects:  13% (37/283)   \rReceiving objects:  14% (40/283)   \rReceiving objects:  15% (43/283)   \rReceiving objects:  16% (46/283)   \rReceiving objects:  17% (49/283)   \rReceiving objects:  18% (51/283)   \rReceiving objects:  19% (54/283)   \rReceiving objects:  20% (57/283)   \rReceiving objects:  21% (60/283)   \rReceiving objects:  22% (63/283)   \rReceiving objects:  23% (66/283)   \rReceiving objects:  24% (68/283)   \rReceiving objects:  25% (71/283)   \rReceiving objects:  26% (74/283)   \rReceiving objects:  27% (77/283)   \rReceiving objects:  28% (80/283)   \rReceiving objects:  29% (83/283)   \rReceiving objects:  30% (85/283)   \rReceiving objects:  31% (88/283)   \rReceiving objects:  32% (91/283)   \rReceiving objects:  33% (94/283)   \rReceiving objects:  34% (97/283)   \rReceiving objects:  35% (100/283)   \rReceiving objects:  36% (102/283)   \rReceiving objects:  37% (105/283)   \rReceiving objects:  38% (108/283)   \rReceiving objects:  39% (111/283)   \rReceiving objects:  40% (114/283)   \rReceiving objects:  41% (117/283)   \rReceiving objects:  42% (119/283)   \rReceiving objects:  43% (122/283)   \rReceiving objects:  44% (125/283)   \rReceiving objects:  45% (128/283)   \rReceiving objects:  46% (131/283)   \rReceiving objects:  47% (134/283)   \rReceiving objects:  48% (136/283)   \rReceiving objects:  49% (139/283)   \rReceiving objects:  50% (142/283)   \rReceiving objects:  51% (145/283)   \rReceiving objects:  52% (148/283)   \rReceiving objects:  53% (150/283)   \rReceiving objects:  54% (153/283)   \rReceiving objects:  55% (156/283)   \rReceiving objects:  56% (159/283)   \rReceiving objects:  57% (162/283)   \rReceiving objects:  58% (165/283)   \rReceiving objects:  59% (167/283)   \rReceiving objects:  60% (170/283)   \rReceiving objects:  61% (173/283)   \rReceiving objects:  62% (176/283)   \rReceiving objects:  63% (179/283)   \rReceiving objects:  64% (182/283)   \rReceiving objects:  65% (184/283)   \rReceiving objects:  66% (187/283)   \rReceiving objects:  67% (190/283)   \rReceiving objects:  68% (193/283)   \rReceiving objects:  69% (196/283)   \rReceiving objects:  70% (199/283)   \rReceiving objects:  71% (201/283)   \rReceiving objects:  72% (204/283)   \rReceiving objects:  73% (207/283)   \rReceiving objects:  74% (210/283)   \rReceiving objects:  75% (213/283)   \rReceiving objects:  76% (216/283)   \rReceiving objects:  77% (218/283)   \rReceiving objects:  78% (221/283)   \rReceiving objects:  79% (224/283)   \rReceiving objects:  80% (227/283)   \rReceiving objects:  81% (230/283)   \rReceiving objects:  82% (233/283)   \rReceiving objects:  83% (235/283)   \rReceiving objects:  84% (238/283)   \rReceiving objects:  85% (241/283)   \rReceiving objects:  86% (244/283)   \rReceiving objects:  87% (247/283)   \rReceiving objects:  88% (250/283)   \rReceiving objects:  89% (252/283)   \rremote: Total 283 (delta 17), reused 0 (delta 0), pack-reused 240\u001b[K\n",
            "Receiving objects:  90% (255/283)   \rReceiving objects:  91% (258/283)   \rReceiving objects:  92% (261/283)   \rReceiving objects:  93% (264/283)   \rReceiving objects:  94% (267/283)   \rReceiving objects:  95% (269/283)   \rReceiving objects:  96% (272/283)   \rReceiving objects:  97% (275/283)   \rReceiving objects:  98% (278/283)   \rReceiving objects:  99% (281/283)   \rReceiving objects: 100% (283/283)   \rReceiving objects: 100% (283/283), 660.90 KiB | 15.37 MiB/s, done.\n",
            "Resolving deltas:   0% (0/125)   \rResolving deltas:  16% (21/125)   \rResolving deltas:  17% (22/125)   \rResolving deltas:  27% (34/125)   \rResolving deltas:  28% (35/125)   \rResolving deltas:  29% (37/125)   \rResolving deltas:  30% (38/125)   \rResolving deltas:  32% (40/125)   \rResolving deltas:  50% (63/125)   \rResolving deltas:  51% (64/125)   \rResolving deltas:  52% (66/125)   \rResolving deltas:  54% (68/125)   \rResolving deltas:  56% (70/125)   \rResolving deltas:  59% (74/125)   \rResolving deltas:  68% (86/125)   \rResolving deltas:  69% (87/125)   \rResolving deltas:  70% (88/125)   \rResolving deltas:  73% (92/125)   \rResolving deltas:  82% (103/125)   \rResolving deltas:  84% (106/125)   \rResolving deltas:  91% (114/125)   \rResolving deltas:  92% (115/125)   \rResolving deltas:  94% (118/125)   \rResolving deltas: 100% (125/125)   \rResolving deltas: 100% (125/125), done.\n"
          ],
          "name": "stdout"
        }
      ]
    },
    {
      "metadata": {
        "id": "g1NpP5jtlH5r",
        "colab_type": "code",
        "colab": {}
      },
      "cell_type": "code",
      "source": [
        "import pandas as pd"
      ],
      "execution_count": 0,
      "outputs": []
    },
    {
      "metadata": {
        "id": "vgRnsjiMlJvN",
        "colab_type": "code",
        "outputId": "c03828b7-8911-482d-e4e8-8387adc87f9b",
        "colab": {
          "base_uri": "https://localhost:8080/",
          "height": 34
        }
      },
      "cell_type": "code",
      "source": [
        "%cd ./kansepur-flyash-project/1-14-feb-bill5/"
      ],
      "execution_count": 3,
      "outputs": [
        {
          "output_type": "stream",
          "text": [
            "/content/kansepur-flyash-project/1-14-feb-bill5\n"
          ],
          "name": "stdout"
        }
      ]
    },
    {
      "metadata": {
        "id": "B6lL48hFlOrB",
        "colab_type": "code",
        "outputId": "7ba330d4-008a-4b44-dde7-7f28b4b8a387",
        "colab": {
          "base_uri": "https://localhost:8080/",
          "height": 34
        }
      },
      "cell_type": "code",
      "source": [
        "!ls"
      ],
      "execution_count": 4,
      "outputs": [
        {
          "output_type": "stream",
          "text": [
            "1_14_feb_bill5.ipynb  1_14_feb_bill.xlsx\n"
          ],
          "name": "stdout"
        }
      ]
    },
    {
      "metadata": {
        "id": "THAUXyC0lPYh",
        "colab_type": "code",
        "outputId": "0326ccd6-dbc5-42a5-8150-f2a720bb6c76",
        "colab": {
          "base_uri": "https://localhost:8080/",
          "height": 204
        }
      },
      "cell_type": "code",
      "source": [
        "df = pd.read_excel('1_14_feb_bill.xlsx', 'Sheet1')\n",
        "df.head()"
      ],
      "execution_count": 5,
      "outputs": [
        {
          "output_type": "execute_result",
          "data": {
            "text/html": [
              "<div>\n",
              "<style scoped>\n",
              "    .dataframe tbody tr th:only-of-type {\n",
              "        vertical-align: middle;\n",
              "    }\n",
              "\n",
              "    .dataframe tbody tr th {\n",
              "        vertical-align: top;\n",
              "    }\n",
              "\n",
              "    .dataframe thead th {\n",
              "        text-align: right;\n",
              "    }\n",
              "</style>\n",
              "<table border=\"1\" class=\"dataframe\">\n",
              "  <thead>\n",
              "    <tr style=\"text-align: right;\">\n",
              "      <th></th>\n",
              "      <th>S.No.</th>\n",
              "      <th>Date</th>\n",
              "      <th>Counts</th>\n",
              "      <th>Name</th>\n",
              "      <th>Quantity</th>\n",
              "      <th>Diesel</th>\n",
              "    </tr>\n",
              "  </thead>\n",
              "  <tbody>\n",
              "    <tr>\n",
              "      <th>0</th>\n",
              "      <td>1.0</td>\n",
              "      <td>2019-02-01</td>\n",
              "      <td>1.0</td>\n",
              "      <td>khurseed</td>\n",
              "      <td>455</td>\n",
              "      <td>NaN</td>\n",
              "    </tr>\n",
              "    <tr>\n",
              "      <th>1</th>\n",
              "      <td>2.0</td>\n",
              "      <td>NaT</td>\n",
              "      <td>2.0</td>\n",
              "      <td>momin</td>\n",
              "      <td>415</td>\n",
              "      <td>NaN</td>\n",
              "    </tr>\n",
              "    <tr>\n",
              "      <th>2</th>\n",
              "      <td>3.0</td>\n",
              "      <td>NaT</td>\n",
              "      <td>3.0</td>\n",
              "      <td>jabir</td>\n",
              "      <td>419</td>\n",
              "      <td>NaN</td>\n",
              "    </tr>\n",
              "    <tr>\n",
              "      <th>3</th>\n",
              "      <td>4.0</td>\n",
              "      <td>NaT</td>\n",
              "      <td>4.0</td>\n",
              "      <td>farookh</td>\n",
              "      <td>420</td>\n",
              "      <td>NaN</td>\n",
              "    </tr>\n",
              "    <tr>\n",
              "      <th>4</th>\n",
              "      <td>5.0</td>\n",
              "      <td>NaT</td>\n",
              "      <td>5.0</td>\n",
              "      <td>haseen</td>\n",
              "      <td>496</td>\n",
              "      <td>NaN</td>\n",
              "    </tr>\n",
              "  </tbody>\n",
              "</table>\n",
              "</div>"
            ],
            "text/plain": [
              "   S.No.       Date  Counts      Name  Quantity  Diesel\n",
              "0    1.0 2019-02-01     1.0  khurseed       455     NaN\n",
              "1    2.0        NaT     2.0     momin       415     NaN\n",
              "2    3.0        NaT     3.0     jabir       419     NaN\n",
              "3    4.0        NaT     4.0   farookh       420     NaN\n",
              "4    5.0        NaT     5.0    haseen       496     NaN"
            ]
          },
          "metadata": {
            "tags": []
          },
          "execution_count": 5
        }
      ]
    },
    {
      "metadata": {
        "id": "e1gUo92O-r5c",
        "colab_type": "code",
        "outputId": "3bcec270-11e5-4b09-a5da-ab0a3f8d0c4f",
        "colab": {
          "base_uri": "https://localhost:8080/",
          "height": 111
        }
      },
      "cell_type": "code",
      "source": [
        "df.tail(2)"
      ],
      "execution_count": 6,
      "outputs": [
        {
          "output_type": "execute_result",
          "data": {
            "text/html": [
              "<div>\n",
              "<style scoped>\n",
              "    .dataframe tbody tr th:only-of-type {\n",
              "        vertical-align: middle;\n",
              "    }\n",
              "\n",
              "    .dataframe tbody tr th {\n",
              "        vertical-align: top;\n",
              "    }\n",
              "\n",
              "    .dataframe thead th {\n",
              "        text-align: right;\n",
              "    }\n",
              "</style>\n",
              "<table border=\"1\" class=\"dataframe\">\n",
              "  <thead>\n",
              "    <tr style=\"text-align: right;\">\n",
              "      <th></th>\n",
              "      <th>S.No.</th>\n",
              "      <th>Date</th>\n",
              "      <th>Counts</th>\n",
              "      <th>Name</th>\n",
              "      <th>Quantity</th>\n",
              "      <th>Diesel</th>\n",
              "    </tr>\n",
              "  </thead>\n",
              "  <tbody>\n",
              "    <tr>\n",
              "      <th>270</th>\n",
              "      <td>271.0</td>\n",
              "      <td>2019-02-14</td>\n",
              "      <td>NaN</td>\n",
              "      <td>jabir</td>\n",
              "      <td>419</td>\n",
              "      <td>NaN</td>\n",
              "    </tr>\n",
              "    <tr>\n",
              "      <th>271</th>\n",
              "      <td>NaN</td>\n",
              "      <td>NaT</td>\n",
              "      <td>NaN</td>\n",
              "      <td>NaN</td>\n",
              "      <td>120389</td>\n",
              "      <td>NaN</td>\n",
              "    </tr>\n",
              "  </tbody>\n",
              "</table>\n",
              "</div>"
            ],
            "text/plain": [
              "     S.No.       Date  Counts   Name  Quantity  Diesel\n",
              "270  271.0 2019-02-14     NaN  jabir       419     NaN\n",
              "271    NaN        NaT     NaN    NaN    120389     NaN"
            ]
          },
          "metadata": {
            "tags": []
          },
          "execution_count": 6
        }
      ]
    },
    {
      "metadata": {
        "id": "oUmdiUIj-xel",
        "colab_type": "code",
        "outputId": "bff3eba0-5656-4b87-bbc5-ddecd5a7c2d3",
        "colab": {
          "base_uri": "https://localhost:8080/",
          "height": 80
        }
      },
      "cell_type": "code",
      "source": [
        "df = df[:-1]\n",
        "df.tail(1)"
      ],
      "execution_count": 7,
      "outputs": [
        {
          "output_type": "execute_result",
          "data": {
            "text/html": [
              "<div>\n",
              "<style scoped>\n",
              "    .dataframe tbody tr th:only-of-type {\n",
              "        vertical-align: middle;\n",
              "    }\n",
              "\n",
              "    .dataframe tbody tr th {\n",
              "        vertical-align: top;\n",
              "    }\n",
              "\n",
              "    .dataframe thead th {\n",
              "        text-align: right;\n",
              "    }\n",
              "</style>\n",
              "<table border=\"1\" class=\"dataframe\">\n",
              "  <thead>\n",
              "    <tr style=\"text-align: right;\">\n",
              "      <th></th>\n",
              "      <th>S.No.</th>\n",
              "      <th>Date</th>\n",
              "      <th>Counts</th>\n",
              "      <th>Name</th>\n",
              "      <th>Quantity</th>\n",
              "      <th>Diesel</th>\n",
              "    </tr>\n",
              "  </thead>\n",
              "  <tbody>\n",
              "    <tr>\n",
              "      <th>270</th>\n",
              "      <td>271.0</td>\n",
              "      <td>2019-02-14</td>\n",
              "      <td>NaN</td>\n",
              "      <td>jabir</td>\n",
              "      <td>419</td>\n",
              "      <td>NaN</td>\n",
              "    </tr>\n",
              "  </tbody>\n",
              "</table>\n",
              "</div>"
            ],
            "text/plain": [
              "     S.No.       Date  Counts   Name  Quantity  Diesel\n",
              "270  271.0 2019-02-14     NaN  jabir       419     NaN"
            ]
          },
          "metadata": {
            "tags": []
          },
          "execution_count": 7
        }
      ]
    },
    {
      "metadata": {
        "id": "vYJmIHd8lWZY",
        "colab_type": "code",
        "outputId": "0cacfc3e-2d14-45ba-8de1-7f5e2469b3f0",
        "colab": {
          "base_uri": "https://localhost:8080/",
          "height": 204
        }
      },
      "cell_type": "code",
      "source": [
        "df.info()"
      ],
      "execution_count": 8,
      "outputs": [
        {
          "output_type": "stream",
          "text": [
            "<class 'pandas.core.frame.DataFrame'>\n",
            "RangeIndex: 271 entries, 0 to 270\n",
            "Data columns (total 6 columns):\n",
            "S.No.       271 non-null float64\n",
            "Date        10 non-null datetime64[ns]\n",
            "Counts      270 non-null float64\n",
            "Name        271 non-null object\n",
            "Quantity    271 non-null int64\n",
            "Diesel      0 non-null float64\n",
            "dtypes: datetime64[ns](1), float64(3), int64(1), object(1)\n",
            "memory usage: 12.8+ KB\n"
          ],
          "name": "stdout"
        }
      ]
    },
    {
      "metadata": {
        "id": "vZ9H0uvuAxf5",
        "colab_type": "code",
        "outputId": "5380f14c-9f82-43c3-e6ab-f5b709a9bb26",
        "colab": {
          "base_uri": "https://localhost:8080/",
          "height": 204
        }
      },
      "cell_type": "code",
      "source": [
        "unique_dates = df.Date.unique()\n",
        "unique_dates = pd.Series(unique_dates).dropna()\n",
        "print(unique_dates)"
      ],
      "execution_count": 9,
      "outputs": [
        {
          "output_type": "stream",
          "text": [
            "0    2019-02-01\n",
            "2    2019-02-02\n",
            "3    2019-02-05\n",
            "4    2019-02-06\n",
            "5    2019-02-07\n",
            "6    2019-02-10\n",
            "7    2019-02-11\n",
            "8    2019-02-12\n",
            "9    2019-02-13\n",
            "10   2019-02-14\n",
            "dtype: datetime64[ns]\n"
          ],
          "name": "stdout"
        }
      ]
    },
    {
      "metadata": {
        "id": "yOdejLAFA7j1",
        "colab_type": "code",
        "outputId": "6f0db47a-0c8d-4958-c1a7-47ea61c1b620",
        "colab": {
          "base_uri": "https://localhost:8080/",
          "height": 34
        }
      },
      "cell_type": "code",
      "source": [
        "df.Date.nunique()"
      ],
      "execution_count": 10,
      "outputs": [
        {
          "output_type": "execute_result",
          "data": {
            "text/plain": [
              "10"
            ]
          },
          "metadata": {
            "tags": []
          },
          "execution_count": 10
        }
      ]
    },
    {
      "metadata": {
        "id": "TTiF585xBBNC",
        "colab_type": "code",
        "outputId": "e87653f7-a506-46ec-8685-3508fb5743a5",
        "colab": {
          "base_uri": "https://localhost:8080/",
          "height": 204
        }
      },
      "cell_type": "code",
      "source": [
        "df.Date.value_counts()"
      ],
      "execution_count": 11,
      "outputs": [
        {
          "output_type": "execute_result",
          "data": {
            "text/plain": [
              "2019-02-07    1\n",
              "2019-02-10    1\n",
              "2019-02-13    1\n",
              "2019-02-02    1\n",
              "2019-02-05    1\n",
              "2019-02-11    1\n",
              "2019-02-14    1\n",
              "2019-02-06    1\n",
              "2019-02-12    1\n",
              "2019-02-01    1\n",
              "Name: Date, dtype: int64"
            ]
          },
          "metadata": {
            "tags": []
          },
          "execution_count": 11
        }
      ]
    },
    {
      "metadata": {
        "id": "uXqNsOzRDDSf",
        "colab_type": "code",
        "colab": {}
      },
      "cell_type": "code",
      "source": [
        "import numpy as np"
      ],
      "execution_count": 0,
      "outputs": []
    },
    {
      "metadata": {
        "id": "jsPDiLK9mCMB",
        "colab_type": "code",
        "outputId": "0d9fa940-b326-419f-f5eb-03e39a300f8a",
        "colab": {
          "base_uri": "https://localhost:8080/",
          "height": 85
        }
      },
      "cell_type": "code",
      "source": [
        "df.Name.unique()"
      ],
      "execution_count": 13,
      "outputs": [
        {
          "output_type": "execute_result",
          "data": {
            "text/plain": [
              "array(['khurseed', 'momin', 'jabir', 'farookh', 'haseen', 'rasid',\n",
              "       'isran', 'aarif', 'hasan', 'rafakat', 'shokeen', 'amjad', 'toheed',\n",
              "       'shabir', 'aashu', 'mehmood', 'mustakim', 'gulfam', 'wajid',\n",
              "       'irsad'], dtype=object)"
            ]
          },
          "metadata": {
            "tags": []
          },
          "execution_count": 13
        }
      ]
    },
    {
      "metadata": {
        "id": "cJArT99yo39E",
        "colab_type": "code",
        "outputId": "61689ead-d2e0-428f-e6a0-13f384b8789f",
        "colab": {
          "base_uri": "https://localhost:8080/",
          "height": 34
        }
      },
      "cell_type": "code",
      "source": [
        "sum(df.Quantity)"
      ],
      "execution_count": 14,
      "outputs": [
        {
          "output_type": "execute_result",
          "data": {
            "text/plain": [
              "120389"
            ]
          },
          "metadata": {
            "tags": []
          },
          "execution_count": 14
        }
      ]
    },
    {
      "metadata": {
        "id": "KDfUKDebnJUR",
        "colab_type": "code",
        "outputId": "fccb9d89-5e5e-46a9-aa3e-beb5e25ae85e",
        "colab": {
          "base_uri": "https://localhost:8080/",
          "height": 374
        }
      },
      "cell_type": "code",
      "source": [
        "rounds_per_name = df.Name.value_counts()\n",
        "rounds_per_name"
      ],
      "execution_count": 15,
      "outputs": [
        {
          "output_type": "execute_result",
          "data": {
            "text/plain": [
              "jabir       25\n",
              "khurseed    21\n",
              "haseen      20\n",
              "isran       17\n",
              "momin       17\n",
              "aarif       17\n",
              "rasid       16\n",
              "hasan       16\n",
              "mehmood     15\n",
              "mustakim    15\n",
              "toheed      15\n",
              "wajid       13\n",
              "farookh     13\n",
              "amjad       12\n",
              "shokeen     11\n",
              "gulfam      10\n",
              "irsad        9\n",
              "rafakat      4\n",
              "shabir       3\n",
              "aashu        2\n",
              "Name: Name, dtype: int64"
            ]
          },
          "metadata": {
            "tags": []
          },
          "execution_count": 15
        }
      ]
    },
    {
      "metadata": {
        "id": "vegaPxckns74",
        "colab_type": "text"
      },
      "cell_type": "markdown",
      "source": [
        "## unique feets per name"
      ]
    },
    {
      "metadata": {
        "id": "-ITvOwaBwJ1t",
        "colab_type": "code",
        "outputId": "56deda64-b492-490c-c6b9-fa84fd50bfd9",
        "colab": {
          "base_uri": "https://localhost:8080/",
          "height": 34
        }
      },
      "cell_type": "code",
      "source": [
        "group = df.groupby(df.Name)\n",
        "group"
      ],
      "execution_count": 16,
      "outputs": [
        {
          "output_type": "execute_result",
          "data": {
            "text/plain": [
              "<pandas.core.groupby.DataFrameGroupBy object at 0x7f278f663240>"
            ]
          },
          "metadata": {
            "tags": []
          },
          "execution_count": 16
        }
      ]
    },
    {
      "metadata": {
        "id": "R0pQUd6CZ4Eg",
        "colab_type": "code",
        "colab": {
          "base_uri": "https://localhost:8080/",
          "height": 5644
        },
        "outputId": "b8f35590-6d53-4cfd-a6f7-f9be1979d428"
      },
      "cell_type": "code",
      "source": [
        "for i, j in group:\n",
        "  print(i, '\\n', j.Quantity, '\\n')  "
      ],
      "execution_count": 17,
      "outputs": [
        {
          "output_type": "stream",
          "text": [
            "aarif \n",
            " 7      416\n",
            "21     416\n",
            "28     416\n",
            "46     416\n",
            "54     416\n",
            "63     416\n",
            "75     416\n",
            "85     416\n",
            "98     416\n",
            "118    416\n",
            "169    416\n",
            "184    416\n",
            "199    416\n",
            "208    416\n",
            "214    416\n",
            "226    416\n",
            "258    416\n",
            "Name: Quantity, dtype: int64 \n",
            "\n",
            "aashu \n",
            " 15    430\n",
            "26    430\n",
            "Name: Quantity, dtype: int64 \n",
            "\n",
            "amjad \n",
            " 11     411\n",
            "32     411\n",
            "44     411\n",
            "57     411\n",
            "64     411\n",
            "79     411\n",
            "90     411\n",
            "100    411\n",
            "119    411\n",
            "222    411\n",
            "235    411\n",
            "250    411\n",
            "Name: Quantity, dtype: int64 \n",
            "\n",
            "farookh \n",
            " 3      420\n",
            "24     420\n",
            "35     420\n",
            "111    420\n",
            "127    420\n",
            "142    420\n",
            "152    420\n",
            "168    420\n",
            "191    420\n",
            "213    420\n",
            "227    420\n",
            "241    420\n",
            "257    420\n",
            "Name: Quantity, dtype: int64 \n",
            "\n",
            "gulfam \n",
            " 76     500\n",
            "91     500\n",
            "114    500\n",
            "129    500\n",
            "144    480\n",
            "176    500\n",
            "221    500\n",
            "238    500\n",
            "247    500\n",
            "255    500\n",
            "Name: Quantity, dtype: int64 \n",
            "\n",
            "hasan \n",
            " 8      538\n",
            "22     538\n",
            "41     538\n",
            "50     538\n",
            "80     538\n",
            "89     538\n",
            "102    538\n",
            "112    538\n",
            "134    538\n",
            "175    538\n",
            "194    538\n",
            "206    538\n",
            "215    538\n",
            "230    538\n",
            "245    538\n",
            "261    518\n",
            "Name: Quantity, dtype: int64 \n",
            "\n",
            "haseen \n",
            " 4      496\n",
            "18     496\n",
            "27     496\n",
            "52     496\n",
            "61     496\n",
            "78     496\n",
            "93     496\n",
            "104    496\n",
            "121    496\n",
            "125    496\n",
            "138    496\n",
            "149    496\n",
            "160    496\n",
            "173    496\n",
            "187    496\n",
            "202    496\n",
            "220    496\n",
            "233    496\n",
            "246    496\n",
            "263    496\n",
            "Name: Quantity, dtype: int64 \n",
            "\n",
            "irsad \n",
            " 106    435\n",
            "122    435\n",
            "182    435\n",
            "196    435\n",
            "207    415\n",
            "224    435\n",
            "237    435\n",
            "252    435\n",
            "262    415\n",
            "Name: Quantity, dtype: int64 \n",
            "\n",
            "isran \n",
            " 6      470\n",
            "43     470\n",
            "55     470\n",
            "67     470\n",
            "73     470\n",
            "84     470\n",
            "99     470\n",
            "117    470\n",
            "135    470\n",
            "146    470\n",
            "157    470\n",
            "171    470\n",
            "185    470\n",
            "217    470\n",
            "228    470\n",
            "248    470\n",
            "266    470\n",
            "Name: Quantity, dtype: int64 \n",
            "\n",
            "jabir \n",
            " 2      419\n",
            "14     419\n",
            "25     419\n",
            "39     419\n",
            "58     419\n",
            "66     419\n",
            "72     419\n",
            "83     419\n",
            "94     419\n",
            "105    419\n",
            "110    419\n",
            "123    399\n",
            "128    419\n",
            "137    419\n",
            "147    419\n",
            "158    419\n",
            "167    419\n",
            "181    419\n",
            "212    419\n",
            "225    419\n",
            "239    419\n",
            "242    419\n",
            "253    419\n",
            "264    419\n",
            "270    419\n",
            "Name: Quantity, dtype: int64 \n",
            "\n",
            "khurseed \n",
            " 0      455\n",
            "20     455\n",
            "33     455\n",
            "42     455\n",
            "49     455\n",
            "60     455\n",
            "69     435\n",
            "77     455\n",
            "88     455\n",
            "96     455\n",
            "116    455\n",
            "132    455\n",
            "141    435\n",
            "153    455\n",
            "170    455\n",
            "186    455\n",
            "198    455\n",
            "210    455\n",
            "216    455\n",
            "234    455\n",
            "259    455\n",
            "Name: Quantity, dtype: int64 \n",
            "\n",
            "mehmood \n",
            " 37     538\n",
            "40     430\n",
            "59     538\n",
            "70     496\n",
            "107    410\n",
            "108    455\n",
            "161    420\n",
            "162    455\n",
            "164    405\n",
            "172    410\n",
            "188    500\n",
            "200    470\n",
            "205    453\n",
            "267    405\n",
            "268    500\n",
            "Name: Quantity, dtype: int64 \n",
            "\n",
            "momin \n",
            " 1      415\n",
            "17     415\n",
            "31     415\n",
            "51     415\n",
            "65     415\n",
            "81     415\n",
            "92     415\n",
            "130    415\n",
            "139    405\n",
            "151    415\n",
            "163    415\n",
            "174    415\n",
            "189    415\n",
            "218    415\n",
            "232    415\n",
            "244    415\n",
            "265    415\n",
            "Name: Quantity, dtype: int64 \n",
            "\n",
            "mustakim \n",
            " 71     405\n",
            "86     405\n",
            "97     405\n",
            "109    405\n",
            "126    405\n",
            "140    405\n",
            "155    405\n",
            "166    405\n",
            "183    405\n",
            "197    405\n",
            "209    405\n",
            "211    405\n",
            "229    405\n",
            "240    405\n",
            "254    405\n",
            "Name: Quantity, dtype: int64 \n",
            "\n",
            "rafakat \n",
            " 9     538\n",
            "16    538\n",
            "30    538\n",
            "62    538\n",
            "Name: Quantity, dtype: int64 \n",
            "\n",
            "rasid \n",
            " 5      410\n",
            "19     410\n",
            "29     410\n",
            "48     410\n",
            "56     410\n",
            "68     410\n",
            "74     410\n",
            "87     410\n",
            "95     410\n",
            "113    410\n",
            "124    410\n",
            "136    390\n",
            "148    410\n",
            "180    410\n",
            "193    410\n",
            "204    410\n",
            "Name: Quantity, dtype: int64 \n",
            "\n",
            "shabir \n",
            " 13    470\n",
            "23    470\n",
            "34    470\n",
            "Name: Quantity, dtype: int64 \n",
            "\n",
            "shokeen \n",
            " 10     453\n",
            "38     453\n",
            "45     453\n",
            "131    453\n",
            "143    453\n",
            "154    453\n",
            "165    453\n",
            "179    453\n",
            "195    453\n",
            "243    453\n",
            "260    453\n",
            "Name: Quantity, dtype: int64 \n",
            "\n",
            "toheed \n",
            " 12     320\n",
            "36     320\n",
            "47     320\n",
            "53     320\n",
            "101    455\n",
            "120    405\n",
            "133    455\n",
            "145    445\n",
            "156    445\n",
            "178    455\n",
            "190    455\n",
            "203    455\n",
            "223    455\n",
            "231    455\n",
            "251    455\n",
            "Name: Quantity, dtype: int64 \n",
            "\n",
            "wajid \n",
            " 82     419\n",
            "103    419\n",
            "115    409\n",
            "150    419\n",
            "159    419\n",
            "177    419\n",
            "192    419\n",
            "201    419\n",
            "219    419\n",
            "236    419\n",
            "249    419\n",
            "256    419\n",
            "269    419\n",
            "Name: Quantity, dtype: int64 \n",
            "\n"
          ],
          "name": "stdout"
        }
      ]
    },
    {
      "metadata": {
        "id": "ndW_Qg-IwSkJ",
        "colab_type": "code",
        "outputId": "cc16ce87-35ec-4ce8-8d6d-cc3b11b922c5",
        "colab": {
          "base_uri": "https://localhost:8080/",
          "height": 697
        }
      },
      "cell_type": "code",
      "source": [
        "for i, j in group:\n",
        "  print(i, j.Quantity.unique(), '\\n')"
      ],
      "execution_count": 18,
      "outputs": [
        {
          "output_type": "stream",
          "text": [
            "aarif [416] \n",
            "\n",
            "aashu [430] \n",
            "\n",
            "amjad [411] \n",
            "\n",
            "farookh [420] \n",
            "\n",
            "gulfam [500 480] \n",
            "\n",
            "hasan [538 518] \n",
            "\n",
            "haseen [496] \n",
            "\n",
            "irsad [435 415] \n",
            "\n",
            "isran [470] \n",
            "\n",
            "jabir [419 399] \n",
            "\n",
            "khurseed [455 435] \n",
            "\n",
            "mehmood [538 430 496 410 455 420 405 500 470 453] \n",
            "\n",
            "momin [415 405] \n",
            "\n",
            "mustakim [405] \n",
            "\n",
            "rafakat [538] \n",
            "\n",
            "rasid [410 390] \n",
            "\n",
            "shabir [470] \n",
            "\n",
            "shokeen [453] \n",
            "\n",
            "toheed [320 455 405 445] \n",
            "\n",
            "wajid [419 409] \n",
            "\n"
          ],
          "name": "stdout"
        }
      ]
    },
    {
      "metadata": {
        "id": "0y2uPtUlJ6jo",
        "colab_type": "text"
      },
      "cell_type": "markdown",
      "source": [
        "# Diesel"
      ]
    },
    {
      "metadata": {
        "id": "O5znZR4bJ8Ri",
        "colab_type": "code",
        "outputId": "85a76f54-7677-4556-89bf-bb54bae5b764",
        "colab": {
          "base_uri": "https://localhost:8080/",
          "height": 204
        }
      },
      "cell_type": "code",
      "source": [
        "diesel = pd.read_excel('1_14_feb_bill.xlsx', 'Diesel')\n",
        "diesel.head()"
      ],
      "execution_count": 19,
      "outputs": [
        {
          "output_type": "execute_result",
          "data": {
            "text/html": [
              "<div>\n",
              "<style scoped>\n",
              "    .dataframe tbody tr th:only-of-type {\n",
              "        vertical-align: middle;\n",
              "    }\n",
              "\n",
              "    .dataframe tbody tr th {\n",
              "        vertical-align: top;\n",
              "    }\n",
              "\n",
              "    .dataframe thead th {\n",
              "        text-align: right;\n",
              "    }\n",
              "</style>\n",
              "<table border=\"1\" class=\"dataframe\">\n",
              "  <thead>\n",
              "    <tr style=\"text-align: right;\">\n",
              "      <th></th>\n",
              "      <th>Date</th>\n",
              "      <th>Name</th>\n",
              "      <th>Diesel</th>\n",
              "      <th>cash</th>\n",
              "    </tr>\n",
              "  </thead>\n",
              "  <tbody>\n",
              "    <tr>\n",
              "      <th>0</th>\n",
              "      <td>2019-02-01</td>\n",
              "      <td>hasan</td>\n",
              "      <td>2000</td>\n",
              "      <td>NaN</td>\n",
              "    </tr>\n",
              "    <tr>\n",
              "      <th>1</th>\n",
              "      <td>NaT</td>\n",
              "      <td>aarif</td>\n",
              "      <td>2000</td>\n",
              "      <td>NaN</td>\n",
              "    </tr>\n",
              "    <tr>\n",
              "      <th>2</th>\n",
              "      <td>NaT</td>\n",
              "      <td>jabir</td>\n",
              "      <td>2000</td>\n",
              "      <td>NaN</td>\n",
              "    </tr>\n",
              "    <tr>\n",
              "      <th>3</th>\n",
              "      <td>NaT</td>\n",
              "      <td>aashu</td>\n",
              "      <td>1500</td>\n",
              "      <td>1000.0</td>\n",
              "    </tr>\n",
              "    <tr>\n",
              "      <th>4</th>\n",
              "      <td>NaT</td>\n",
              "      <td>rasid</td>\n",
              "      <td>1500</td>\n",
              "      <td>NaN</td>\n",
              "    </tr>\n",
              "  </tbody>\n",
              "</table>\n",
              "</div>"
            ],
            "text/plain": [
              "        Date   Name  Diesel    cash\n",
              "0 2019-02-01  hasan    2000     NaN\n",
              "1        NaT  aarif    2000     NaN\n",
              "2        NaT  jabir    2000     NaN\n",
              "3        NaT  aashu    1500  1000.0\n",
              "4        NaT  rasid    1500     NaN"
            ]
          },
          "metadata": {
            "tags": []
          },
          "execution_count": 19
        }
      ]
    },
    {
      "metadata": {
        "id": "aNms0DItMFZ8",
        "colab_type": "code",
        "outputId": "45e51191-bd49-4c34-c110-fed44f20094c",
        "colab": {
          "base_uri": "https://localhost:8080/",
          "height": 34
        }
      },
      "cell_type": "code",
      "source": [
        "diesel.shape"
      ],
      "execution_count": 20,
      "outputs": [
        {
          "output_type": "execute_result",
          "data": {
            "text/plain": [
              "(125, 4)"
            ]
          },
          "metadata": {
            "tags": []
          },
          "execution_count": 20
        }
      ]
    },
    {
      "metadata": {
        "id": "FtBbwdi6GaOe",
        "colab_type": "code",
        "outputId": "d2e2be6f-4020-49e4-c711-1712fd3df795",
        "colab": {
          "base_uri": "https://localhost:8080/",
          "height": 119
        }
      },
      "cell_type": "code",
      "source": [
        "diesel.Date.unique()"
      ],
      "execution_count": 21,
      "outputs": [
        {
          "output_type": "execute_result",
          "data": {
            "text/plain": [
              "array(['2019-02-01T00:00:00.000000000',                           'NaT',\n",
              "       '2019-02-02T00:00:00.000000000', '2019-02-05T00:00:00.000000000',\n",
              "       '2019-02-06T00:00:00.000000000', '2019-02-07T00:00:00.000000000',\n",
              "       '2019-02-10T00:00:00.000000000', '2019-02-11T00:00:00.000000000',\n",
              "       '2019-02-12T00:00:00.000000000', '2019-02-13T00:00:00.000000000'],\n",
              "      dtype='datetime64[ns]')"
            ]
          },
          "metadata": {
            "tags": []
          },
          "execution_count": 21
        }
      ]
    },
    {
      "metadata": {
        "id": "n6yM4M_2GZJH",
        "colab_type": "code",
        "colab": {}
      },
      "cell_type": "code",
      "source": [
        "for n, i in enumerate(diesel.Date.values):\n",
        "  if not pd.isnull(i):\n",
        "    date = i\n",
        "  else:\n",
        "    diesel.iloc[n, 0] = date"
      ],
      "execution_count": 0,
      "outputs": []
    },
    {
      "metadata": {
        "id": "4iSR7MyjHAQf",
        "colab_type": "code",
        "outputId": "e4d35655-f280-423f-b670-4c81a2823fba",
        "colab": {
          "base_uri": "https://localhost:8080/",
          "height": 204
        }
      },
      "cell_type": "code",
      "source": [
        "diesel.head()"
      ],
      "execution_count": 23,
      "outputs": [
        {
          "output_type": "execute_result",
          "data": {
            "text/html": [
              "<div>\n",
              "<style scoped>\n",
              "    .dataframe tbody tr th:only-of-type {\n",
              "        vertical-align: middle;\n",
              "    }\n",
              "\n",
              "    .dataframe tbody tr th {\n",
              "        vertical-align: top;\n",
              "    }\n",
              "\n",
              "    .dataframe thead th {\n",
              "        text-align: right;\n",
              "    }\n",
              "</style>\n",
              "<table border=\"1\" class=\"dataframe\">\n",
              "  <thead>\n",
              "    <tr style=\"text-align: right;\">\n",
              "      <th></th>\n",
              "      <th>Date</th>\n",
              "      <th>Name</th>\n",
              "      <th>Diesel</th>\n",
              "      <th>cash</th>\n",
              "    </tr>\n",
              "  </thead>\n",
              "  <tbody>\n",
              "    <tr>\n",
              "      <th>0</th>\n",
              "      <td>2019-02-01</td>\n",
              "      <td>hasan</td>\n",
              "      <td>2000</td>\n",
              "      <td>NaN</td>\n",
              "    </tr>\n",
              "    <tr>\n",
              "      <th>1</th>\n",
              "      <td>2019-02-01</td>\n",
              "      <td>aarif</td>\n",
              "      <td>2000</td>\n",
              "      <td>NaN</td>\n",
              "    </tr>\n",
              "    <tr>\n",
              "      <th>2</th>\n",
              "      <td>2019-02-01</td>\n",
              "      <td>jabir</td>\n",
              "      <td>2000</td>\n",
              "      <td>NaN</td>\n",
              "    </tr>\n",
              "    <tr>\n",
              "      <th>3</th>\n",
              "      <td>2019-02-01</td>\n",
              "      <td>aashu</td>\n",
              "      <td>1500</td>\n",
              "      <td>1000.0</td>\n",
              "    </tr>\n",
              "    <tr>\n",
              "      <th>4</th>\n",
              "      <td>2019-02-01</td>\n",
              "      <td>rasid</td>\n",
              "      <td>1500</td>\n",
              "      <td>NaN</td>\n",
              "    </tr>\n",
              "  </tbody>\n",
              "</table>\n",
              "</div>"
            ],
            "text/plain": [
              "        Date   Name  Diesel    cash\n",
              "0 2019-02-01  hasan    2000     NaN\n",
              "1 2019-02-01  aarif    2000     NaN\n",
              "2 2019-02-01  jabir    2000     NaN\n",
              "3 2019-02-01  aashu    1500  1000.0\n",
              "4 2019-02-01  rasid    1500     NaN"
            ]
          },
          "metadata": {
            "tags": []
          },
          "execution_count": 23
        }
      ]
    },
    {
      "metadata": {
        "id": "-rLhXMKrHTRe",
        "colab_type": "text"
      },
      "cell_type": "markdown",
      "source": [
        "# pivot table"
      ]
    },
    {
      "metadata": {
        "id": "605hniozHVuB",
        "colab_type": "code",
        "outputId": "059d4fcf-d578-4399-f5d0-11048e2802db",
        "colab": {
          "base_uri": "https://localhost:8080/",
          "height": 841
        }
      },
      "cell_type": "code",
      "source": [
        "pivot_diesel = diesel.pivot_table(index = 'Name', columns = 'Date', values = 'Diesel')\n",
        "pivot_diesel"
      ],
      "execution_count": 24,
      "outputs": [
        {
          "output_type": "execute_result",
          "data": {
            "text/html": [
              "<div>\n",
              "<style scoped>\n",
              "    .dataframe tbody tr th:only-of-type {\n",
              "        vertical-align: middle;\n",
              "    }\n",
              "\n",
              "    .dataframe tbody tr th {\n",
              "        vertical-align: top;\n",
              "    }\n",
              "\n",
              "    .dataframe thead th {\n",
              "        text-align: right;\n",
              "    }\n",
              "</style>\n",
              "<table border=\"1\" class=\"dataframe\">\n",
              "  <thead>\n",
              "    <tr style=\"text-align: right;\">\n",
              "      <th>Date</th>\n",
              "      <th>2019-02-01 00:00:00</th>\n",
              "      <th>2019-02-02 00:00:00</th>\n",
              "      <th>2019-02-05 00:00:00</th>\n",
              "      <th>2019-02-06 00:00:00</th>\n",
              "      <th>2019-02-07 00:00:00</th>\n",
              "      <th>2019-02-10 00:00:00</th>\n",
              "      <th>2019-02-11 00:00:00</th>\n",
              "      <th>2019-02-12 00:00:00</th>\n",
              "      <th>2019-02-13 00:00:00</th>\n",
              "    </tr>\n",
              "    <tr>\n",
              "      <th>Name</th>\n",
              "      <th></th>\n",
              "      <th></th>\n",
              "      <th></th>\n",
              "      <th></th>\n",
              "      <th></th>\n",
              "      <th></th>\n",
              "      <th></th>\n",
              "      <th></th>\n",
              "      <th></th>\n",
              "    </tr>\n",
              "  </thead>\n",
              "  <tbody>\n",
              "    <tr>\n",
              "      <th>Total</th>\n",
              "      <td>43500.0</td>\n",
              "      <td>3000.0</td>\n",
              "      <td>32000.0</td>\n",
              "      <td>30000.0</td>\n",
              "      <td>21000.0</td>\n",
              "      <td>32000.0</td>\n",
              "      <td>39000.0</td>\n",
              "      <td>36500.0</td>\n",
              "      <td>30000.0</td>\n",
              "    </tr>\n",
              "    <tr>\n",
              "      <th>aarif</th>\n",
              "      <td>2000.0</td>\n",
              "      <td>NaN</td>\n",
              "      <td>2000.0</td>\n",
              "      <td>2000.0</td>\n",
              "      <td>NaN</td>\n",
              "      <td>NaN</td>\n",
              "      <td>2000.0</td>\n",
              "      <td>2500.0</td>\n",
              "      <td>1500.0</td>\n",
              "    </tr>\n",
              "    <tr>\n",
              "      <th>aashu</th>\n",
              "      <td>1500.0</td>\n",
              "      <td>NaN</td>\n",
              "      <td>NaN</td>\n",
              "      <td>NaN</td>\n",
              "      <td>NaN</td>\n",
              "      <td>NaN</td>\n",
              "      <td>NaN</td>\n",
              "      <td>NaN</td>\n",
              "      <td>NaN</td>\n",
              "    </tr>\n",
              "    <tr>\n",
              "      <th>amjad</th>\n",
              "      <td>NaN</td>\n",
              "      <td>NaN</td>\n",
              "      <td>2000.0</td>\n",
              "      <td>2000.0</td>\n",
              "      <td>1000.0</td>\n",
              "      <td>NaN</td>\n",
              "      <td>NaN</td>\n",
              "      <td>2000.0</td>\n",
              "      <td>NaN</td>\n",
              "    </tr>\n",
              "    <tr>\n",
              "      <th>farookh</th>\n",
              "      <td>1500.0</td>\n",
              "      <td>NaN</td>\n",
              "      <td>NaN</td>\n",
              "      <td>NaN</td>\n",
              "      <td>NaN</td>\n",
              "      <td>2000.0</td>\n",
              "      <td>2000.0</td>\n",
              "      <td>1500.0</td>\n",
              "      <td>2000.0</td>\n",
              "    </tr>\n",
              "    <tr>\n",
              "      <th>gulfam</th>\n",
              "      <td>NaN</td>\n",
              "      <td>NaN</td>\n",
              "      <td>NaN</td>\n",
              "      <td>2000.0</td>\n",
              "      <td>2000.0</td>\n",
              "      <td>2000.0</td>\n",
              "      <td>NaN</td>\n",
              "      <td>2000.0</td>\n",
              "      <td>2000.0</td>\n",
              "    </tr>\n",
              "    <tr>\n",
              "      <th>hasan</th>\n",
              "      <td>2000.0</td>\n",
              "      <td>1000.0</td>\n",
              "      <td>1500.0</td>\n",
              "      <td>1500.0</td>\n",
              "      <td>NaN</td>\n",
              "      <td>2000.0</td>\n",
              "      <td>2000.0</td>\n",
              "      <td>1500.0</td>\n",
              "      <td>1000.0</td>\n",
              "    </tr>\n",
              "    <tr>\n",
              "      <th>haseen</th>\n",
              "      <td>2000.0</td>\n",
              "      <td>NaN</td>\n",
              "      <td>2000.0</td>\n",
              "      <td>2000.0</td>\n",
              "      <td>1500.0</td>\n",
              "      <td>2000.0</td>\n",
              "      <td>2500.0</td>\n",
              "      <td>1500.0</td>\n",
              "      <td>1500.0</td>\n",
              "    </tr>\n",
              "    <tr>\n",
              "      <th>irsad</th>\n",
              "      <td>NaN</td>\n",
              "      <td>NaN</td>\n",
              "      <td>NaN</td>\n",
              "      <td>500.0</td>\n",
              "      <td>2000.0</td>\n",
              "      <td>NaN</td>\n",
              "      <td>2000.0</td>\n",
              "      <td>2000.0</td>\n",
              "      <td>1500.0</td>\n",
              "    </tr>\n",
              "    <tr>\n",
              "      <th>isran</th>\n",
              "      <td>NaN</td>\n",
              "      <td>NaN</td>\n",
              "      <td>2000.0</td>\n",
              "      <td>2000.0</td>\n",
              "      <td>1000.0</td>\n",
              "      <td>2000.0</td>\n",
              "      <td>2000.0</td>\n",
              "      <td>2000.0</td>\n",
              "      <td>1500.0</td>\n",
              "    </tr>\n",
              "    <tr>\n",
              "      <th>jabir</th>\n",
              "      <td>2000.0</td>\n",
              "      <td>NaN</td>\n",
              "      <td>2000.0</td>\n",
              "      <td>2000.0</td>\n",
              "      <td>1000.0</td>\n",
              "      <td>2000.0</td>\n",
              "      <td>2500.0</td>\n",
              "      <td>1500.0</td>\n",
              "      <td>2000.0</td>\n",
              "    </tr>\n",
              "    <tr>\n",
              "      <th>khurseed</th>\n",
              "      <td>NaN</td>\n",
              "      <td>2000.0</td>\n",
              "      <td>2000.0</td>\n",
              "      <td>1300.0</td>\n",
              "      <td>NaN</td>\n",
              "      <td>2000.0</td>\n",
              "      <td>2000.0</td>\n",
              "      <td>2000.0</td>\n",
              "      <td>NaN</td>\n",
              "    </tr>\n",
              "    <tr>\n",
              "      <th>momin</th>\n",
              "      <td>2000.0</td>\n",
              "      <td>NaN</td>\n",
              "      <td>2000.0</td>\n",
              "      <td>1270.0</td>\n",
              "      <td>NaN</td>\n",
              "      <td>1500.0</td>\n",
              "      <td>NaN</td>\n",
              "      <td>2000.0</td>\n",
              "      <td>1500.0</td>\n",
              "    </tr>\n",
              "    <tr>\n",
              "      <th>mustakim</th>\n",
              "      <td>NaN</td>\n",
              "      <td>NaN</td>\n",
              "      <td>NaN</td>\n",
              "      <td>1500.0</td>\n",
              "      <td>NaN</td>\n",
              "      <td>2000.0</td>\n",
              "      <td>2000.0</td>\n",
              "      <td>2000.0</td>\n",
              "      <td>1500.0</td>\n",
              "    </tr>\n",
              "    <tr>\n",
              "      <th>noushad</th>\n",
              "      <td>9500.0</td>\n",
              "      <td>NaN</td>\n",
              "      <td>4240.0</td>\n",
              "      <td>3430.0</td>\n",
              "      <td>4000.0</td>\n",
              "      <td>4000.0</td>\n",
              "      <td>8500.0</td>\n",
              "      <td>6500.0</td>\n",
              "      <td>8500.0</td>\n",
              "    </tr>\n",
              "    <tr>\n",
              "      <th>poclain</th>\n",
              "      <td>3500.0</td>\n",
              "      <td>NaN</td>\n",
              "      <td>5260.0</td>\n",
              "      <td>5000.0</td>\n",
              "      <td>4000.0</td>\n",
              "      <td>3500.0</td>\n",
              "      <td>3000.0</td>\n",
              "      <td>3500.0</td>\n",
              "      <td>NaN</td>\n",
              "    </tr>\n",
              "    <tr>\n",
              "      <th>rafakat</th>\n",
              "      <td>2000.0</td>\n",
              "      <td>NaN</td>\n",
              "      <td>2000.0</td>\n",
              "      <td>NaN</td>\n",
              "      <td>NaN</td>\n",
              "      <td>NaN</td>\n",
              "      <td>NaN</td>\n",
              "      <td>NaN</td>\n",
              "      <td>NaN</td>\n",
              "    </tr>\n",
              "    <tr>\n",
              "      <th>rasid</th>\n",
              "      <td>1500.0</td>\n",
              "      <td>NaN</td>\n",
              "      <td>1500.0</td>\n",
              "      <td>1500.0</td>\n",
              "      <td>NaN</td>\n",
              "      <td>2000.0</td>\n",
              "      <td>2000.0</td>\n",
              "      <td>NaN</td>\n",
              "      <td>NaN</td>\n",
              "    </tr>\n",
              "    <tr>\n",
              "      <th>sabir jcb</th>\n",
              "      <td>10000.0</td>\n",
              "      <td>NaN</td>\n",
              "      <td>NaN</td>\n",
              "      <td>NaN</td>\n",
              "      <td>NaN</td>\n",
              "      <td>NaN</td>\n",
              "      <td>NaN</td>\n",
              "      <td>NaN</td>\n",
              "      <td>NaN</td>\n",
              "    </tr>\n",
              "    <tr>\n",
              "      <th>sanjay</th>\n",
              "      <td>NaN</td>\n",
              "      <td>NaN</td>\n",
              "      <td>NaN</td>\n",
              "      <td>NaN</td>\n",
              "      <td>NaN</td>\n",
              "      <td>NaN</td>\n",
              "      <td>NaN</td>\n",
              "      <td>NaN</td>\n",
              "      <td>2500.0</td>\n",
              "    </tr>\n",
              "    <tr>\n",
              "      <th>shabir</th>\n",
              "      <td>2000.0</td>\n",
              "      <td>0.0</td>\n",
              "      <td>NaN</td>\n",
              "      <td>NaN</td>\n",
              "      <td>2500.0</td>\n",
              "      <td>NaN</td>\n",
              "      <td>NaN</td>\n",
              "      <td>NaN</td>\n",
              "      <td>NaN</td>\n",
              "    </tr>\n",
              "    <tr>\n",
              "      <th>shokeen</th>\n",
              "      <td>NaN</td>\n",
              "      <td>NaN</td>\n",
              "      <td>2000.0</td>\n",
              "      <td>NaN</td>\n",
              "      <td>NaN</td>\n",
              "      <td>1500.0</td>\n",
              "      <td>2000.0</td>\n",
              "      <td>NaN</td>\n",
              "      <td>1500.0</td>\n",
              "    </tr>\n",
              "    <tr>\n",
              "      <th>toheed</th>\n",
              "      <td>2000.0</td>\n",
              "      <td>NaN</td>\n",
              "      <td>1500.0</td>\n",
              "      <td>NaN</td>\n",
              "      <td>NaN</td>\n",
              "      <td>2000.0</td>\n",
              "      <td>2500.0</td>\n",
              "      <td>1500.0</td>\n",
              "      <td>NaN</td>\n",
              "    </tr>\n",
              "    <tr>\n",
              "      <th>wajid</th>\n",
              "      <td>NaN</td>\n",
              "      <td>NaN</td>\n",
              "      <td>NaN</td>\n",
              "      <td>2000.0</td>\n",
              "      <td>2000.0</td>\n",
              "      <td>1000.0</td>\n",
              "      <td>2000.0</td>\n",
              "      <td>2500.0</td>\n",
              "      <td>1500.0</td>\n",
              "    </tr>\n",
              "  </tbody>\n",
              "</table>\n",
              "</div>"
            ],
            "text/plain": [
              "Date       2019-02-01  2019-02-02  2019-02-05  2019-02-06  2019-02-07  \\\n",
              "Name                                                                    \n",
              "Total         43500.0      3000.0     32000.0     30000.0     21000.0   \n",
              "aarif          2000.0         NaN      2000.0      2000.0         NaN   \n",
              "aashu          1500.0         NaN         NaN         NaN         NaN   \n",
              "amjad             NaN         NaN      2000.0      2000.0      1000.0   \n",
              "farookh        1500.0         NaN         NaN         NaN         NaN   \n",
              "gulfam            NaN         NaN         NaN      2000.0      2000.0   \n",
              "hasan          2000.0      1000.0      1500.0      1500.0         NaN   \n",
              "haseen         2000.0         NaN      2000.0      2000.0      1500.0   \n",
              "irsad             NaN         NaN         NaN       500.0      2000.0   \n",
              "isran             NaN         NaN      2000.0      2000.0      1000.0   \n",
              "jabir          2000.0         NaN      2000.0      2000.0      1000.0   \n",
              "khurseed          NaN      2000.0      2000.0      1300.0         NaN   \n",
              "momin          2000.0         NaN      2000.0      1270.0         NaN   \n",
              "mustakim          NaN         NaN         NaN      1500.0         NaN   \n",
              "noushad        9500.0         NaN      4240.0      3430.0      4000.0   \n",
              "poclain        3500.0         NaN      5260.0      5000.0      4000.0   \n",
              "rafakat        2000.0         NaN      2000.0         NaN         NaN   \n",
              "rasid          1500.0         NaN      1500.0      1500.0         NaN   \n",
              "sabir jcb     10000.0         NaN         NaN         NaN         NaN   \n",
              "sanjay            NaN         NaN         NaN         NaN         NaN   \n",
              "shabir         2000.0         0.0         NaN         NaN      2500.0   \n",
              "shokeen           NaN         NaN      2000.0         NaN         NaN   \n",
              "toheed         2000.0         NaN      1500.0         NaN         NaN   \n",
              "wajid             NaN         NaN         NaN      2000.0      2000.0   \n",
              "\n",
              "Date       2019-02-10  2019-02-11  2019-02-12  2019-02-13  \n",
              "Name                                                       \n",
              "Total         32000.0     39000.0     36500.0     30000.0  \n",
              "aarif             NaN      2000.0      2500.0      1500.0  \n",
              "aashu             NaN         NaN         NaN         NaN  \n",
              "amjad             NaN         NaN      2000.0         NaN  \n",
              "farookh        2000.0      2000.0      1500.0      2000.0  \n",
              "gulfam         2000.0         NaN      2000.0      2000.0  \n",
              "hasan          2000.0      2000.0      1500.0      1000.0  \n",
              "haseen         2000.0      2500.0      1500.0      1500.0  \n",
              "irsad             NaN      2000.0      2000.0      1500.0  \n",
              "isran          2000.0      2000.0      2000.0      1500.0  \n",
              "jabir          2000.0      2500.0      1500.0      2000.0  \n",
              "khurseed       2000.0      2000.0      2000.0         NaN  \n",
              "momin          1500.0         NaN      2000.0      1500.0  \n",
              "mustakim       2000.0      2000.0      2000.0      1500.0  \n",
              "noushad        4000.0      8500.0      6500.0      8500.0  \n",
              "poclain        3500.0      3000.0      3500.0         NaN  \n",
              "rafakat           NaN         NaN         NaN         NaN  \n",
              "rasid          2000.0      2000.0         NaN         NaN  \n",
              "sabir jcb         NaN         NaN         NaN         NaN  \n",
              "sanjay            NaN         NaN         NaN      2500.0  \n",
              "shabir            NaN         NaN         NaN         NaN  \n",
              "shokeen        1500.0      2000.0         NaN      1500.0  \n",
              "toheed         2000.0      2500.0      1500.0         NaN  \n",
              "wajid          1000.0      2000.0      2500.0      1500.0  "
            ]
          },
          "metadata": {
            "tags": []
          },
          "execution_count": 24
        }
      ]
    },
    {
      "metadata": {
        "id": "oB45FXvkLUo_",
        "colab_type": "code",
        "colab": {}
      },
      "cell_type": "code",
      "source": [
        "pivot_diesel.fillna(value = 0, inplace = True)"
      ],
      "execution_count": 0,
      "outputs": []
    },
    {
      "metadata": {
        "id": "xEonX1pxLeBD",
        "colab_type": "code",
        "colab": {
          "base_uri": "https://localhost:8080/",
          "height": 159
        },
        "outputId": "0be4c746-c3bb-45ee-a336-a3de5eba8b2d"
      },
      "cell_type": "code",
      "source": [
        "pivot_diesel.head(2)"
      ],
      "execution_count": 26,
      "outputs": [
        {
          "output_type": "execute_result",
          "data": {
            "text/html": [
              "<div>\n",
              "<style scoped>\n",
              "    .dataframe tbody tr th:only-of-type {\n",
              "        vertical-align: middle;\n",
              "    }\n",
              "\n",
              "    .dataframe tbody tr th {\n",
              "        vertical-align: top;\n",
              "    }\n",
              "\n",
              "    .dataframe thead th {\n",
              "        text-align: right;\n",
              "    }\n",
              "</style>\n",
              "<table border=\"1\" class=\"dataframe\">\n",
              "  <thead>\n",
              "    <tr style=\"text-align: right;\">\n",
              "      <th>Date</th>\n",
              "      <th>2019-02-01 00:00:00</th>\n",
              "      <th>2019-02-02 00:00:00</th>\n",
              "      <th>2019-02-05 00:00:00</th>\n",
              "      <th>2019-02-06 00:00:00</th>\n",
              "      <th>2019-02-07 00:00:00</th>\n",
              "      <th>2019-02-10 00:00:00</th>\n",
              "      <th>2019-02-11 00:00:00</th>\n",
              "      <th>2019-02-12 00:00:00</th>\n",
              "      <th>2019-02-13 00:00:00</th>\n",
              "    </tr>\n",
              "    <tr>\n",
              "      <th>Name</th>\n",
              "      <th></th>\n",
              "      <th></th>\n",
              "      <th></th>\n",
              "      <th></th>\n",
              "      <th></th>\n",
              "      <th></th>\n",
              "      <th></th>\n",
              "      <th></th>\n",
              "      <th></th>\n",
              "    </tr>\n",
              "  </thead>\n",
              "  <tbody>\n",
              "    <tr>\n",
              "      <th>Total</th>\n",
              "      <td>43500.0</td>\n",
              "      <td>3000.0</td>\n",
              "      <td>32000.0</td>\n",
              "      <td>30000.0</td>\n",
              "      <td>21000.0</td>\n",
              "      <td>32000.0</td>\n",
              "      <td>39000.0</td>\n",
              "      <td>36500.0</td>\n",
              "      <td>30000.0</td>\n",
              "    </tr>\n",
              "    <tr>\n",
              "      <th>aarif</th>\n",
              "      <td>2000.0</td>\n",
              "      <td>0.0</td>\n",
              "      <td>2000.0</td>\n",
              "      <td>2000.0</td>\n",
              "      <td>0.0</td>\n",
              "      <td>0.0</td>\n",
              "      <td>2000.0</td>\n",
              "      <td>2500.0</td>\n",
              "      <td>1500.0</td>\n",
              "    </tr>\n",
              "  </tbody>\n",
              "</table>\n",
              "</div>"
            ],
            "text/plain": [
              "Date   2019-02-01  2019-02-02  2019-02-05  2019-02-06  2019-02-07  2019-02-10  \\\n",
              "Name                                                                            \n",
              "Total     43500.0      3000.0     32000.0     30000.0     21000.0     32000.0   \n",
              "aarif      2000.0         0.0      2000.0      2000.0         0.0         0.0   \n",
              "\n",
              "Date   2019-02-11  2019-02-12  2019-02-13  \n",
              "Name                                       \n",
              "Total     39000.0     36500.0     30000.0  \n",
              "aarif      2000.0      2500.0      1500.0  "
            ]
          },
          "metadata": {
            "tags": []
          },
          "execution_count": 26
        }
      ]
    },
    {
      "metadata": {
        "id": "Y2EvagJaL13R",
        "colab_type": "code",
        "colab": {
          "base_uri": "https://localhost:8080/",
          "height": 2458
        },
        "outputId": "640c4c25-7898-491e-8e02-6508739ccf5f"
      },
      "cell_type": "code",
      "source": [
        "for i in range(len(pivot_diesel)):\n",
        "  pivot_diesel['Total Diesel'][i] = pivot_diesel.iloc[i, :]"
      ],
      "execution_count": 29,
      "outputs": [
        {
          "output_type": "error",
          "ename": "KeyError",
          "evalue": "ignored",
          "traceback": [
            "\u001b[0;31m---------------------------------------------------------------------------\u001b[0m",
            "\u001b[0;31mTypeError\u001b[0m                                 Traceback (most recent call last)",
            "\u001b[0;32mpandas/_libs/index.pyx\u001b[0m in \u001b[0;36mpandas._libs.index.DatetimeEngine.get_loc\u001b[0;34m()\u001b[0m\n",
            "\u001b[0;32mpandas/_libs/hashtable_class_helper.pxi\u001b[0m in \u001b[0;36mpandas._libs.hashtable.Int64HashTable.get_item\u001b[0;34m()\u001b[0m\n",
            "\u001b[0;31mTypeError\u001b[0m: an integer is required",
            "\nDuring handling of the above exception, another exception occurred:\n",
            "\u001b[0;31mKeyError\u001b[0m                                  Traceback (most recent call last)",
            "\u001b[0;32m/usr/local/lib/python3.6/dist-packages/pandas/core/indexes/base.py\u001b[0m in \u001b[0;36mget_loc\u001b[0;34m(self, key, method, tolerance)\u001b[0m\n\u001b[1;32m   2524\u001b[0m             \u001b[0;32mtry\u001b[0m\u001b[0;34m:\u001b[0m\u001b[0;34m\u001b[0m\u001b[0;34m\u001b[0m\u001b[0m\n\u001b[0;32m-> 2525\u001b[0;31m                 \u001b[0;32mreturn\u001b[0m \u001b[0mself\u001b[0m\u001b[0;34m.\u001b[0m\u001b[0m_engine\u001b[0m\u001b[0;34m.\u001b[0m\u001b[0mget_loc\u001b[0m\u001b[0;34m(\u001b[0m\u001b[0mkey\u001b[0m\u001b[0;34m)\u001b[0m\u001b[0;34m\u001b[0m\u001b[0;34m\u001b[0m\u001b[0m\n\u001b[0m\u001b[1;32m   2526\u001b[0m             \u001b[0;32mexcept\u001b[0m \u001b[0mKeyError\u001b[0m\u001b[0;34m:\u001b[0m\u001b[0;34m\u001b[0m\u001b[0;34m\u001b[0m\u001b[0m\n",
            "\u001b[0;32mpandas/_libs/index.pyx\u001b[0m in \u001b[0;36mpandas._libs.index.DatetimeEngine.get_loc\u001b[0;34m()\u001b[0m\n",
            "\u001b[0;32mpandas/_libs/index.pyx\u001b[0m in \u001b[0;36mpandas._libs.index.DatetimeEngine.get_loc\u001b[0;34m()\u001b[0m\n",
            "\u001b[0;32mpandas/_libs/index.pyx\u001b[0m in \u001b[0;36mpandas._libs.index.DatetimeEngine._date_check_type\u001b[0;34m()\u001b[0m\n",
            "\u001b[0;31mKeyError\u001b[0m: 'Total Diesel'",
            "\nDuring handling of the above exception, another exception occurred:\n",
            "\u001b[0;31mTypeError\u001b[0m                                 Traceback (most recent call last)",
            "\u001b[0;32mpandas/_libs/index.pyx\u001b[0m in \u001b[0;36mpandas._libs.index.DatetimeEngine.get_loc\u001b[0;34m()\u001b[0m\n",
            "\u001b[0;32mpandas/_libs/hashtable_class_helper.pxi\u001b[0m in \u001b[0;36mpandas._libs.hashtable.Int64HashTable.get_item\u001b[0;34m()\u001b[0m\n",
            "\u001b[0;31mTypeError\u001b[0m: an integer is required",
            "\nDuring handling of the above exception, another exception occurred:\n",
            "\u001b[0;31mKeyError\u001b[0m                                  Traceback (most recent call last)",
            "\u001b[0;32m/usr/local/lib/python3.6/dist-packages/pandas/core/indexes/datetimes.py\u001b[0m in \u001b[0;36mget_loc\u001b[0;34m(self, key, method, tolerance)\u001b[0m\n\u001b[1;32m   1434\u001b[0m         \u001b[0;32mtry\u001b[0m\u001b[0;34m:\u001b[0m\u001b[0;34m\u001b[0m\u001b[0;34m\u001b[0m\u001b[0m\n\u001b[0;32m-> 1435\u001b[0;31m             \u001b[0;32mreturn\u001b[0m \u001b[0mIndex\u001b[0m\u001b[0;34m.\u001b[0m\u001b[0mget_loc\u001b[0m\u001b[0;34m(\u001b[0m\u001b[0mself\u001b[0m\u001b[0;34m,\u001b[0m \u001b[0mkey\u001b[0m\u001b[0;34m,\u001b[0m \u001b[0mmethod\u001b[0m\u001b[0;34m,\u001b[0m \u001b[0mtolerance\u001b[0m\u001b[0;34m)\u001b[0m\u001b[0;34m\u001b[0m\u001b[0;34m\u001b[0m\u001b[0m\n\u001b[0m\u001b[1;32m   1436\u001b[0m         \u001b[0;32mexcept\u001b[0m \u001b[0;34m(\u001b[0m\u001b[0mKeyError\u001b[0m\u001b[0;34m,\u001b[0m \u001b[0mValueError\u001b[0m\u001b[0;34m,\u001b[0m \u001b[0mTypeError\u001b[0m\u001b[0;34m)\u001b[0m\u001b[0;34m:\u001b[0m\u001b[0;34m\u001b[0m\u001b[0;34m\u001b[0m\u001b[0m\n",
            "\u001b[0;32m/usr/local/lib/python3.6/dist-packages/pandas/core/indexes/base.py\u001b[0m in \u001b[0;36mget_loc\u001b[0;34m(self, key, method, tolerance)\u001b[0m\n\u001b[1;32m   2526\u001b[0m             \u001b[0;32mexcept\u001b[0m \u001b[0mKeyError\u001b[0m\u001b[0;34m:\u001b[0m\u001b[0;34m\u001b[0m\u001b[0;34m\u001b[0m\u001b[0m\n\u001b[0;32m-> 2527\u001b[0;31m                 \u001b[0;32mreturn\u001b[0m \u001b[0mself\u001b[0m\u001b[0;34m.\u001b[0m\u001b[0m_engine\u001b[0m\u001b[0;34m.\u001b[0m\u001b[0mget_loc\u001b[0m\u001b[0;34m(\u001b[0m\u001b[0mself\u001b[0m\u001b[0;34m.\u001b[0m\u001b[0m_maybe_cast_indexer\u001b[0m\u001b[0;34m(\u001b[0m\u001b[0mkey\u001b[0m\u001b[0;34m)\u001b[0m\u001b[0;34m)\u001b[0m\u001b[0;34m\u001b[0m\u001b[0;34m\u001b[0m\u001b[0m\n\u001b[0m\u001b[1;32m   2528\u001b[0m \u001b[0;34m\u001b[0m\u001b[0m\n",
            "\u001b[0;32mpandas/_libs/index.pyx\u001b[0m in \u001b[0;36mpandas._libs.index.DatetimeEngine.get_loc\u001b[0;34m()\u001b[0m\n",
            "\u001b[0;32mpandas/_libs/index.pyx\u001b[0m in \u001b[0;36mpandas._libs.index.DatetimeEngine.get_loc\u001b[0;34m()\u001b[0m\n",
            "\u001b[0;32mpandas/_libs/index.pyx\u001b[0m in \u001b[0;36mpandas._libs.index.DatetimeEngine._date_check_type\u001b[0;34m()\u001b[0m\n",
            "\u001b[0;31mKeyError\u001b[0m: 'Total Diesel'",
            "\nDuring handling of the above exception, another exception occurred:\n",
            "\u001b[0;31mValueError\u001b[0m                                Traceback (most recent call last)",
            "\u001b[0;32mpandas/_libs/tslib.pyx\u001b[0m in \u001b[0;36mpandas._libs.tslib.convert_str_to_tsobject\u001b[0;34m()\u001b[0m\n",
            "\u001b[0;32mpandas/_libs/src/datetime.pxd\u001b[0m in \u001b[0;36mdatetime._string_to_dts\u001b[0;34m()\u001b[0m\n",
            "\u001b[0;31mValueError\u001b[0m: Error parsing datetime string \"Total Diesel\" at position 0",
            "\nDuring handling of the above exception, another exception occurred:\n",
            "\u001b[0;31mValueError\u001b[0m                                Traceback (most recent call last)",
            "\u001b[0;32mpandas/_libs/tslib.pyx\u001b[0m in \u001b[0;36mpandas._libs.tslib.convert_str_to_tsobject\u001b[0;34m()\u001b[0m\n",
            "\u001b[0;32mpandas/_libs/tslibs/parsing.pyx\u001b[0m in \u001b[0;36mpandas._libs.tslibs.parsing.parse_datetime_string\u001b[0;34m()\u001b[0m\n",
            "\u001b[0;32m/usr/local/lib/python3.6/dist-packages/dateutil/parser.py\u001b[0m in \u001b[0;36mparse\u001b[0;34m(timestr, parserinfo, **kwargs)\u001b[0m\n\u001b[1;32m   1163\u001b[0m     \u001b[0;32melse\u001b[0m\u001b[0;34m:\u001b[0m\u001b[0;34m\u001b[0m\u001b[0;34m\u001b[0m\u001b[0m\n\u001b[0;32m-> 1164\u001b[0;31m         \u001b[0;32mreturn\u001b[0m \u001b[0mDEFAULTPARSER\u001b[0m\u001b[0;34m.\u001b[0m\u001b[0mparse\u001b[0m\u001b[0;34m(\u001b[0m\u001b[0mtimestr\u001b[0m\u001b[0;34m,\u001b[0m \u001b[0;34m**\u001b[0m\u001b[0mkwargs\u001b[0m\u001b[0;34m)\u001b[0m\u001b[0;34m\u001b[0m\u001b[0;34m\u001b[0m\u001b[0m\n\u001b[0m\u001b[1;32m   1165\u001b[0m \u001b[0;34m\u001b[0m\u001b[0m\n",
            "\u001b[0;32m/usr/local/lib/python3.6/dist-packages/dateutil/parser.py\u001b[0m in \u001b[0;36mparse\u001b[0;34m(self, timestr, default, ignoretz, tzinfos, **kwargs)\u001b[0m\n\u001b[1;32m    554\u001b[0m         \u001b[0;32mif\u001b[0m \u001b[0mres\u001b[0m \u001b[0;32mis\u001b[0m \u001b[0;32mNone\u001b[0m\u001b[0;34m:\u001b[0m\u001b[0;34m\u001b[0m\u001b[0;34m\u001b[0m\u001b[0m\n\u001b[0;32m--> 555\u001b[0;31m             \u001b[0;32mraise\u001b[0m \u001b[0mValueError\u001b[0m\u001b[0;34m(\u001b[0m\u001b[0;34m\"Unknown string format\"\u001b[0m\u001b[0;34m)\u001b[0m\u001b[0;34m\u001b[0m\u001b[0;34m\u001b[0m\u001b[0m\n\u001b[0m\u001b[1;32m    556\u001b[0m \u001b[0;34m\u001b[0m\u001b[0m\n",
            "\u001b[0;31mValueError\u001b[0m: Unknown string format",
            "\nDuring handling of the above exception, another exception occurred:\n",
            "\u001b[0;31mValueError\u001b[0m                                Traceback (most recent call last)",
            "\u001b[0;32m/usr/local/lib/python3.6/dist-packages/pandas/core/indexes/datetimes.py\u001b[0m in \u001b[0;36mget_loc\u001b[0;34m(self, key, method, tolerance)\u001b[0m\n\u001b[1;32m   1442\u001b[0m             \u001b[0;32mtry\u001b[0m\u001b[0;34m:\u001b[0m\u001b[0;34m\u001b[0m\u001b[0;34m\u001b[0m\u001b[0m\n\u001b[0;32m-> 1443\u001b[0;31m                 \u001b[0mstamp\u001b[0m \u001b[0;34m=\u001b[0m \u001b[0mTimestamp\u001b[0m\u001b[0;34m(\u001b[0m\u001b[0mkey\u001b[0m\u001b[0;34m,\u001b[0m \u001b[0mtz\u001b[0m\u001b[0;34m=\u001b[0m\u001b[0mself\u001b[0m\u001b[0;34m.\u001b[0m\u001b[0mtz\u001b[0m\u001b[0;34m)\u001b[0m\u001b[0;34m\u001b[0m\u001b[0;34m\u001b[0m\u001b[0m\n\u001b[0m\u001b[1;32m   1444\u001b[0m                 \u001b[0;32mreturn\u001b[0m \u001b[0mIndex\u001b[0m\u001b[0;34m.\u001b[0m\u001b[0mget_loc\u001b[0m\u001b[0;34m(\u001b[0m\u001b[0mself\u001b[0m\u001b[0;34m,\u001b[0m \u001b[0mstamp\u001b[0m\u001b[0;34m,\u001b[0m \u001b[0mmethod\u001b[0m\u001b[0;34m,\u001b[0m \u001b[0mtolerance\u001b[0m\u001b[0;34m)\u001b[0m\u001b[0;34m\u001b[0m\u001b[0;34m\u001b[0m\u001b[0m\n",
            "\u001b[0;32mpandas/_libs/tslib.pyx\u001b[0m in \u001b[0;36mpandas._libs.tslib.Timestamp.__new__\u001b[0;34m()\u001b[0m\n",
            "\u001b[0;32mpandas/_libs/tslib.pyx\u001b[0m in \u001b[0;36mpandas._libs.tslib.convert_to_tsobject\u001b[0;34m()\u001b[0m\n",
            "\u001b[0;32mpandas/_libs/tslib.pyx\u001b[0m in \u001b[0;36mpandas._libs.tslib.convert_str_to_tsobject\u001b[0;34m()\u001b[0m\n",
            "\u001b[0;31mValueError\u001b[0m: could not convert string to Timestamp",
            "\nDuring handling of the above exception, another exception occurred:\n",
            "\u001b[0;31mKeyError\u001b[0m                                  Traceback (most recent call last)",
            "\u001b[0;32m<ipython-input-29-34b5209bd4ac>\u001b[0m in \u001b[0;36m<module>\u001b[0;34m()\u001b[0m\n\u001b[1;32m      1\u001b[0m \u001b[0;32mfor\u001b[0m \u001b[0mi\u001b[0m \u001b[0;32min\u001b[0m \u001b[0mrange\u001b[0m\u001b[0;34m(\u001b[0m\u001b[0mlen\u001b[0m\u001b[0;34m(\u001b[0m\u001b[0mpivot_diesel\u001b[0m\u001b[0;34m)\u001b[0m\u001b[0;34m)\u001b[0m\u001b[0;34m:\u001b[0m\u001b[0;34m\u001b[0m\u001b[0;34m\u001b[0m\u001b[0m\n\u001b[0;32m----> 2\u001b[0;31m   \u001b[0mpivot_diesel\u001b[0m\u001b[0;34m[\u001b[0m\u001b[0;34m'Total Diesel'\u001b[0m\u001b[0;34m]\u001b[0m\u001b[0;34m[\u001b[0m\u001b[0mi\u001b[0m\u001b[0;34m]\u001b[0m \u001b[0;34m=\u001b[0m \u001b[0mpivot_diesel\u001b[0m\u001b[0;34m.\u001b[0m\u001b[0miloc\u001b[0m\u001b[0;34m[\u001b[0m\u001b[0mi\u001b[0m\u001b[0;34m,\u001b[0m \u001b[0;34m:\u001b[0m\u001b[0;34m]\u001b[0m\u001b[0;34m\u001b[0m\u001b[0;34m\u001b[0m\u001b[0m\n\u001b[0m",
            "\u001b[0;32m/usr/local/lib/python3.6/dist-packages/pandas/core/frame.py\u001b[0m in \u001b[0;36m__getitem__\u001b[0;34m(self, key)\u001b[0m\n\u001b[1;32m   2137\u001b[0m             \u001b[0;32mreturn\u001b[0m \u001b[0mself\u001b[0m\u001b[0;34m.\u001b[0m\u001b[0m_getitem_multilevel\u001b[0m\u001b[0;34m(\u001b[0m\u001b[0mkey\u001b[0m\u001b[0;34m)\u001b[0m\u001b[0;34m\u001b[0m\u001b[0;34m\u001b[0m\u001b[0m\n\u001b[1;32m   2138\u001b[0m         \u001b[0;32melse\u001b[0m\u001b[0;34m:\u001b[0m\u001b[0;34m\u001b[0m\u001b[0;34m\u001b[0m\u001b[0m\n\u001b[0;32m-> 2139\u001b[0;31m             \u001b[0;32mreturn\u001b[0m \u001b[0mself\u001b[0m\u001b[0;34m.\u001b[0m\u001b[0m_getitem_column\u001b[0m\u001b[0;34m(\u001b[0m\u001b[0mkey\u001b[0m\u001b[0;34m)\u001b[0m\u001b[0;34m\u001b[0m\u001b[0;34m\u001b[0m\u001b[0m\n\u001b[0m\u001b[1;32m   2140\u001b[0m \u001b[0;34m\u001b[0m\u001b[0m\n\u001b[1;32m   2141\u001b[0m     \u001b[0;32mdef\u001b[0m \u001b[0m_getitem_column\u001b[0m\u001b[0;34m(\u001b[0m\u001b[0mself\u001b[0m\u001b[0;34m,\u001b[0m \u001b[0mkey\u001b[0m\u001b[0;34m)\u001b[0m\u001b[0;34m:\u001b[0m\u001b[0;34m\u001b[0m\u001b[0;34m\u001b[0m\u001b[0m\n",
            "\u001b[0;32m/usr/local/lib/python3.6/dist-packages/pandas/core/frame.py\u001b[0m in \u001b[0;36m_getitem_column\u001b[0;34m(self, key)\u001b[0m\n\u001b[1;32m   2144\u001b[0m         \u001b[0;31m# get column\u001b[0m\u001b[0;34m\u001b[0m\u001b[0;34m\u001b[0m\u001b[0;34m\u001b[0m\u001b[0m\n\u001b[1;32m   2145\u001b[0m         \u001b[0;32mif\u001b[0m \u001b[0mself\u001b[0m\u001b[0;34m.\u001b[0m\u001b[0mcolumns\u001b[0m\u001b[0;34m.\u001b[0m\u001b[0mis_unique\u001b[0m\u001b[0;34m:\u001b[0m\u001b[0;34m\u001b[0m\u001b[0;34m\u001b[0m\u001b[0m\n\u001b[0;32m-> 2146\u001b[0;31m             \u001b[0;32mreturn\u001b[0m \u001b[0mself\u001b[0m\u001b[0;34m.\u001b[0m\u001b[0m_get_item_cache\u001b[0m\u001b[0;34m(\u001b[0m\u001b[0mkey\u001b[0m\u001b[0;34m)\u001b[0m\u001b[0;34m\u001b[0m\u001b[0;34m\u001b[0m\u001b[0m\n\u001b[0m\u001b[1;32m   2147\u001b[0m \u001b[0;34m\u001b[0m\u001b[0m\n\u001b[1;32m   2148\u001b[0m         \u001b[0;31m# duplicate columns & possible reduce dimensionality\u001b[0m\u001b[0;34m\u001b[0m\u001b[0;34m\u001b[0m\u001b[0;34m\u001b[0m\u001b[0m\n",
            "\u001b[0;32m/usr/local/lib/python3.6/dist-packages/pandas/core/generic.py\u001b[0m in \u001b[0;36m_get_item_cache\u001b[0;34m(self, item)\u001b[0m\n\u001b[1;32m   1840\u001b[0m         \u001b[0mres\u001b[0m \u001b[0;34m=\u001b[0m \u001b[0mcache\u001b[0m\u001b[0;34m.\u001b[0m\u001b[0mget\u001b[0m\u001b[0;34m(\u001b[0m\u001b[0mitem\u001b[0m\u001b[0;34m)\u001b[0m\u001b[0;34m\u001b[0m\u001b[0;34m\u001b[0m\u001b[0m\n\u001b[1;32m   1841\u001b[0m         \u001b[0;32mif\u001b[0m \u001b[0mres\u001b[0m \u001b[0;32mis\u001b[0m \u001b[0;32mNone\u001b[0m\u001b[0;34m:\u001b[0m\u001b[0;34m\u001b[0m\u001b[0;34m\u001b[0m\u001b[0m\n\u001b[0;32m-> 1842\u001b[0;31m             \u001b[0mvalues\u001b[0m \u001b[0;34m=\u001b[0m \u001b[0mself\u001b[0m\u001b[0;34m.\u001b[0m\u001b[0m_data\u001b[0m\u001b[0;34m.\u001b[0m\u001b[0mget\u001b[0m\u001b[0;34m(\u001b[0m\u001b[0mitem\u001b[0m\u001b[0;34m)\u001b[0m\u001b[0;34m\u001b[0m\u001b[0;34m\u001b[0m\u001b[0m\n\u001b[0m\u001b[1;32m   1843\u001b[0m             \u001b[0mres\u001b[0m \u001b[0;34m=\u001b[0m \u001b[0mself\u001b[0m\u001b[0;34m.\u001b[0m\u001b[0m_box_item_values\u001b[0m\u001b[0;34m(\u001b[0m\u001b[0mitem\u001b[0m\u001b[0;34m,\u001b[0m \u001b[0mvalues\u001b[0m\u001b[0;34m)\u001b[0m\u001b[0;34m\u001b[0m\u001b[0;34m\u001b[0m\u001b[0m\n\u001b[1;32m   1844\u001b[0m             \u001b[0mcache\u001b[0m\u001b[0;34m[\u001b[0m\u001b[0mitem\u001b[0m\u001b[0;34m]\u001b[0m \u001b[0;34m=\u001b[0m \u001b[0mres\u001b[0m\u001b[0;34m\u001b[0m\u001b[0;34m\u001b[0m\u001b[0m\n",
            "\u001b[0;32m/usr/local/lib/python3.6/dist-packages/pandas/core/internals.py\u001b[0m in \u001b[0;36mget\u001b[0;34m(self, item, fastpath)\u001b[0m\n\u001b[1;32m   3841\u001b[0m \u001b[0;34m\u001b[0m\u001b[0m\n\u001b[1;32m   3842\u001b[0m             \u001b[0;32mif\u001b[0m \u001b[0;32mnot\u001b[0m \u001b[0misna\u001b[0m\u001b[0;34m(\u001b[0m\u001b[0mitem\u001b[0m\u001b[0;34m)\u001b[0m\u001b[0;34m:\u001b[0m\u001b[0;34m\u001b[0m\u001b[0;34m\u001b[0m\u001b[0m\n\u001b[0;32m-> 3843\u001b[0;31m                 \u001b[0mloc\u001b[0m \u001b[0;34m=\u001b[0m \u001b[0mself\u001b[0m\u001b[0;34m.\u001b[0m\u001b[0mitems\u001b[0m\u001b[0;34m.\u001b[0m\u001b[0mget_loc\u001b[0m\u001b[0;34m(\u001b[0m\u001b[0mitem\u001b[0m\u001b[0;34m)\u001b[0m\u001b[0;34m\u001b[0m\u001b[0;34m\u001b[0m\u001b[0m\n\u001b[0m\u001b[1;32m   3844\u001b[0m             \u001b[0;32melse\u001b[0m\u001b[0;34m:\u001b[0m\u001b[0;34m\u001b[0m\u001b[0;34m\u001b[0m\u001b[0m\n\u001b[1;32m   3845\u001b[0m                 \u001b[0mindexer\u001b[0m \u001b[0;34m=\u001b[0m \u001b[0mnp\u001b[0m\u001b[0;34m.\u001b[0m\u001b[0marange\u001b[0m\u001b[0;34m(\u001b[0m\u001b[0mlen\u001b[0m\u001b[0;34m(\u001b[0m\u001b[0mself\u001b[0m\u001b[0;34m.\u001b[0m\u001b[0mitems\u001b[0m\u001b[0;34m)\u001b[0m\u001b[0;34m)\u001b[0m\u001b[0;34m[\u001b[0m\u001b[0misna\u001b[0m\u001b[0;34m(\u001b[0m\u001b[0mself\u001b[0m\u001b[0;34m.\u001b[0m\u001b[0mitems\u001b[0m\u001b[0;34m)\u001b[0m\u001b[0;34m]\u001b[0m\u001b[0;34m\u001b[0m\u001b[0;34m\u001b[0m\u001b[0m\n",
            "\u001b[0;32m/usr/local/lib/python3.6/dist-packages/pandas/core/indexes/datetimes.py\u001b[0m in \u001b[0;36mget_loc\u001b[0;34m(self, key, method, tolerance)\u001b[0m\n\u001b[1;32m   1449\u001b[0m                 \u001b[0;32mif\u001b[0m \u001b[0;34m'list-like'\u001b[0m \u001b[0;32min\u001b[0m \u001b[0mstr\u001b[0m\u001b[0;34m(\u001b[0m\u001b[0me\u001b[0m\u001b[0;34m)\u001b[0m\u001b[0;34m:\u001b[0m\u001b[0;34m\u001b[0m\u001b[0;34m\u001b[0m\u001b[0m\n\u001b[1;32m   1450\u001b[0m                     \u001b[0;32mraise\u001b[0m \u001b[0me\u001b[0m\u001b[0;34m\u001b[0m\u001b[0;34m\u001b[0m\u001b[0m\n\u001b[0;32m-> 1451\u001b[0;31m                 \u001b[0;32mraise\u001b[0m \u001b[0mKeyError\u001b[0m\u001b[0;34m(\u001b[0m\u001b[0mkey\u001b[0m\u001b[0;34m)\u001b[0m\u001b[0;34m\u001b[0m\u001b[0;34m\u001b[0m\u001b[0m\n\u001b[0m\u001b[1;32m   1452\u001b[0m \u001b[0;34m\u001b[0m\u001b[0m\n\u001b[1;32m   1453\u001b[0m     \u001b[0;32mdef\u001b[0m \u001b[0m_maybe_cast_slice_bound\u001b[0m\u001b[0;34m(\u001b[0m\u001b[0mself\u001b[0m\u001b[0;34m,\u001b[0m \u001b[0mlabel\u001b[0m\u001b[0;34m,\u001b[0m \u001b[0mside\u001b[0m\u001b[0;34m,\u001b[0m \u001b[0mkind\u001b[0m\u001b[0;34m)\u001b[0m\u001b[0;34m:\u001b[0m\u001b[0;34m\u001b[0m\u001b[0;34m\u001b[0m\u001b[0m\n",
            "\u001b[0;31mKeyError\u001b[0m: 'Total Diesel'"
          ]
        }
      ]
    },
    {
      "metadata": {
        "id": "jsQ52FyRCZz9",
        "colab_type": "text"
      },
      "cell_type": "markdown",
      "source": [
        "# Total Quantity per name"
      ]
    },
    {
      "metadata": {
        "id": "aAtFy8oyD3dM",
        "colab_type": "code",
        "colab": {}
      },
      "cell_type": "code",
      "source": [
        "name_groups = df.groupby('Name')\n",
        "name_total_quantity = pd.DataFrame(columns = ['Name', 'Total Quantity'])\n",
        "for i, j in name_groups:\n",
        "  name_total_quantity = name_total_quantity.append({'Name':i, 'Total Quantity': sum(j.Quantity)}, ignore_index = True)\n",
        "  \n",
        "name_total_quantity.sort_values(by = ['Total Quantity'], ascending = False, inplace = True)"
      ],
      "execution_count": 0,
      "outputs": []
    },
    {
      "metadata": {
        "id": "4VCgjQr2INk1",
        "colab_type": "code",
        "outputId": "6bf02473-9a6b-4cb7-e5c6-8ae54dbdb445",
        "colab": {
          "base_uri": "https://localhost:8080/",
          "height": 762
        }
      },
      "cell_type": "code",
      "source": [
        "name_total_quantity"
      ],
      "execution_count": 0,
      "outputs": [
        {
          "output_type": "execute_result",
          "data": {
            "text/html": [
              "<div>\n",
              "<style scoped>\n",
              "    .dataframe tbody tr th:only-of-type {\n",
              "        vertical-align: middle;\n",
              "    }\n",
              "\n",
              "    .dataframe tbody tr th {\n",
              "        vertical-align: top;\n",
              "    }\n",
              "\n",
              "    .dataframe thead th {\n",
              "        text-align: right;\n",
              "    }\n",
              "</style>\n",
              "<table border=\"1\" class=\"dataframe\">\n",
              "  <thead>\n",
              "    <tr style=\"text-align: right;\">\n",
              "      <th></th>\n",
              "      <th>Name</th>\n",
              "      <th>Total Quantity</th>\n",
              "    </tr>\n",
              "  </thead>\n",
              "  <tbody>\n",
              "    <tr>\n",
              "      <th>6</th>\n",
              "      <td>hasan</td>\n",
              "      <td>15462</td>\n",
              "    </tr>\n",
              "    <tr>\n",
              "      <th>10</th>\n",
              "      <td>isran</td>\n",
              "      <td>12690</td>\n",
              "    </tr>\n",
              "    <tr>\n",
              "      <th>7</th>\n",
              "      <td>haseen</td>\n",
              "      <td>12400</td>\n",
              "    </tr>\n",
              "    <tr>\n",
              "      <th>18</th>\n",
              "      <td>rasid</td>\n",
              "      <td>11890</td>\n",
              "    </tr>\n",
              "    <tr>\n",
              "      <th>4</th>\n",
              "      <td>farookh</td>\n",
              "      <td>11760</td>\n",
              "    </tr>\n",
              "    <tr>\n",
              "      <th>5</th>\n",
              "      <td>gulfam</td>\n",
              "      <td>11500</td>\n",
              "    </tr>\n",
              "    <tr>\n",
              "      <th>20</th>\n",
              "      <td>shokeen</td>\n",
              "      <td>9513</td>\n",
              "    </tr>\n",
              "    <tr>\n",
              "      <th>15</th>\n",
              "      <td>momin</td>\n",
              "      <td>9130</td>\n",
              "    </tr>\n",
              "    <tr>\n",
              "      <th>13</th>\n",
              "      <td>khurseed</td>\n",
              "      <td>8805</td>\n",
              "    </tr>\n",
              "    <tr>\n",
              "      <th>16</th>\n",
              "      <td>mustakim</td>\n",
              "      <td>8505</td>\n",
              "    </tr>\n",
              "    <tr>\n",
              "      <th>17</th>\n",
              "      <td>rafakat</td>\n",
              "      <td>8070</td>\n",
              "    </tr>\n",
              "    <tr>\n",
              "      <th>21</th>\n",
              "      <td>toheed</td>\n",
              "      <td>8048</td>\n",
              "    </tr>\n",
              "    <tr>\n",
              "      <th>9</th>\n",
              "      <td>irsad</td>\n",
              "      <td>7395</td>\n",
              "    </tr>\n",
              "    <tr>\n",
              "      <th>22</th>\n",
              "      <td>wajid</td>\n",
              "      <td>6704</td>\n",
              "    </tr>\n",
              "    <tr>\n",
              "      <th>1</th>\n",
              "      <td>aashu</td>\n",
              "      <td>6450</td>\n",
              "    </tr>\n",
              "    <tr>\n",
              "      <th>0</th>\n",
              "      <td>aarif</td>\n",
              "      <td>6240</td>\n",
              "    </tr>\n",
              "    <tr>\n",
              "      <th>19</th>\n",
              "      <td>shabir</td>\n",
              "      <td>5640</td>\n",
              "    </tr>\n",
              "    <tr>\n",
              "      <th>11</th>\n",
              "      <td>jabir</td>\n",
              "      <td>5028</td>\n",
              "    </tr>\n",
              "    <tr>\n",
              "      <th>14</th>\n",
              "      <td>mehmood</td>\n",
              "      <td>3637</td>\n",
              "    </tr>\n",
              "    <tr>\n",
              "      <th>2</th>\n",
              "      <td>amjad</td>\n",
              "      <td>3288</td>\n",
              "    </tr>\n",
              "    <tr>\n",
              "      <th>3</th>\n",
              "      <td>anwar</td>\n",
              "      <td>2765</td>\n",
              "    </tr>\n",
              "    <tr>\n",
              "      <th>12</th>\n",
              "      <td>kayum</td>\n",
              "      <td>2700</td>\n",
              "    </tr>\n",
              "    <tr>\n",
              "      <th>8</th>\n",
              "      <td>intazar</td>\n",
              "      <td>517</td>\n",
              "    </tr>\n",
              "  </tbody>\n",
              "</table>\n",
              "</div>"
            ],
            "text/plain": [
              "        Name Total Quantity\n",
              "6      hasan          15462\n",
              "10     isran          12690\n",
              "7     haseen          12400\n",
              "18     rasid          11890\n",
              "4    farookh          11760\n",
              "5     gulfam          11500\n",
              "20   shokeen           9513\n",
              "15     momin           9130\n",
              "13  khurseed           8805\n",
              "16  mustakim           8505\n",
              "17   rafakat           8070\n",
              "21    toheed           8048\n",
              "9      irsad           7395\n",
              "22     wajid           6704\n",
              "1      aashu           6450\n",
              "0      aarif           6240\n",
              "19    shabir           5640\n",
              "11     jabir           5028\n",
              "14   mehmood           3637\n",
              "2      amjad           3288\n",
              "3      anwar           2765\n",
              "12     kayum           2700\n",
              "8    intazar            517"
            ]
          },
          "metadata": {
            "tags": []
          },
          "execution_count": 25
        }
      ]
    },
    {
      "metadata": {
        "id": "INqOC5E_EZTz",
        "colab_type": "code",
        "outputId": "6d1cd33a-1d6e-4734-beaf-b120d0facdfa",
        "colab": {
          "base_uri": "https://localhost:8080/",
          "height": 97
        }
      },
      "cell_type": "code",
      "source": [
        "diesel.head(1)"
      ],
      "execution_count": 0,
      "outputs": [
        {
          "output_type": "execute_result",
          "data": {
            "text/html": [
              "<div>\n",
              "<style scoped>\n",
              "    .dataframe tbody tr th:only-of-type {\n",
              "        vertical-align: middle;\n",
              "    }\n",
              "\n",
              "    .dataframe tbody tr th {\n",
              "        vertical-align: top;\n",
              "    }\n",
              "\n",
              "    .dataframe thead th {\n",
              "        text-align: right;\n",
              "    }\n",
              "</style>\n",
              "<table border=\"1\" class=\"dataframe\">\n",
              "  <thead>\n",
              "    <tr style=\"text-align: right;\">\n",
              "      <th></th>\n",
              "      <th>Name</th>\n",
              "      <th>2019-01-15 00:00:00</th>\n",
              "      <th>2019-01-16 00:00:00</th>\n",
              "      <th>2019-01-20 00:00:00</th>\n",
              "      <th>2019-01-21 00:00:00</th>\n",
              "      <th>2019-01-24 00:00:00</th>\n",
              "      <th>2019-01-25 00:00:00</th>\n",
              "      <th>2019-01-26 00:00:00</th>\n",
              "      <th>2019-01-27 00:00:00</th>\n",
              "      <th>2019-01-28 00:00:00</th>\n",
              "      <th>2019-01-29 00:00:00</th>\n",
              "      <th>2019-01-30 00:00:00</th>\n",
              "      <th>2019-01-31 00:00:00</th>\n",
              "      <th>Total Diesel</th>\n",
              "    </tr>\n",
              "  </thead>\n",
              "  <tbody>\n",
              "    <tr>\n",
              "      <th>0</th>\n",
              "      <td>aarif</td>\n",
              "      <td>2000</td>\n",
              "      <td>0</td>\n",
              "      <td>0</td>\n",
              "      <td>0</td>\n",
              "      <td>0</td>\n",
              "      <td>0</td>\n",
              "      <td>2000</td>\n",
              "      <td>2000</td>\n",
              "      <td>2000</td>\n",
              "      <td>0</td>\n",
              "      <td>0</td>\n",
              "      <td>2000</td>\n",
              "      <td>10000</td>\n",
              "    </tr>\n",
              "  </tbody>\n",
              "</table>\n",
              "</div>"
            ],
            "text/plain": [
              "    Name  2019-01-15 00:00:00  2019-01-16 00:00:00  2019-01-20 00:00:00  \\\n",
              "0  aarif                 2000                    0                    0   \n",
              "\n",
              "   2019-01-21 00:00:00  2019-01-24 00:00:00  2019-01-25 00:00:00  \\\n",
              "0                    0                    0                    0   \n",
              "\n",
              "   2019-01-26 00:00:00  2019-01-27 00:00:00  2019-01-28 00:00:00  \\\n",
              "0                 2000                 2000                 2000   \n",
              "\n",
              "   2019-01-29 00:00:00  2019-01-30 00:00:00  2019-01-31 00:00:00  Total Diesel  \n",
              "0                    0                    0                 2000         10000  "
            ]
          },
          "metadata": {
            "tags": []
          },
          "execution_count": 26
        }
      ]
    },
    {
      "metadata": {
        "id": "2yjavOQTNghu",
        "colab_type": "code",
        "outputId": "226d38d3-3e75-4043-cfea-da70091169b5",
        "colab": {
          "base_uri": "https://localhost:8080/",
          "height": 824
        }
      },
      "cell_type": "code",
      "source": [
        "diesel = diesel[['Name', 'Total Diesel']]\n",
        "diesel.sort_values(by = 'Total Diesel', ascending = False, inplace = True)\n",
        "diesel"
      ],
      "execution_count": 0,
      "outputs": [
        {
          "output_type": "execute_result",
          "data": {
            "text/html": [
              "<div>\n",
              "<style scoped>\n",
              "    .dataframe tbody tr th:only-of-type {\n",
              "        vertical-align: middle;\n",
              "    }\n",
              "\n",
              "    .dataframe tbody tr th {\n",
              "        vertical-align: top;\n",
              "    }\n",
              "\n",
              "    .dataframe thead th {\n",
              "        text-align: right;\n",
              "    }\n",
              "</style>\n",
              "<table border=\"1\" class=\"dataframe\">\n",
              "  <thead>\n",
              "    <tr style=\"text-align: right;\">\n",
              "      <th></th>\n",
              "      <th>Name</th>\n",
              "      <th>Total Diesel</th>\n",
              "    </tr>\n",
              "  </thead>\n",
              "  <tbody>\n",
              "    <tr>\n",
              "      <th>24</th>\n",
              "      <td>Zztotal</td>\n",
              "      <td>384500</td>\n",
              "    </tr>\n",
              "    <tr>\n",
              "      <th>23</th>\n",
              "      <td>zzcash</td>\n",
              "      <td>51170</td>\n",
              "    </tr>\n",
              "    <tr>\n",
              "      <th>14</th>\n",
              "      <td>poclain</td>\n",
              "      <td>45500</td>\n",
              "    </tr>\n",
              "    <tr>\n",
              "      <th>6</th>\n",
              "      <td>hasan</td>\n",
              "      <td>21130</td>\n",
              "    </tr>\n",
              "    <tr>\n",
              "      <th>5</th>\n",
              "      <td>gulfam</td>\n",
              "      <td>19000</td>\n",
              "    </tr>\n",
              "    <tr>\n",
              "      <th>4</th>\n",
              "      <td>farookh</td>\n",
              "      <td>18500</td>\n",
              "    </tr>\n",
              "    <tr>\n",
              "      <th>17</th>\n",
              "      <td>sabir jcb</td>\n",
              "      <td>18500</td>\n",
              "    </tr>\n",
              "    <tr>\n",
              "      <th>16</th>\n",
              "      <td>rasid</td>\n",
              "      <td>17470</td>\n",
              "    </tr>\n",
              "    <tr>\n",
              "      <th>15</th>\n",
              "      <td>rafakat</td>\n",
              "      <td>16500</td>\n",
              "    </tr>\n",
              "    <tr>\n",
              "      <th>9</th>\n",
              "      <td>isran</td>\n",
              "      <td>16500</td>\n",
              "    </tr>\n",
              "    <tr>\n",
              "      <th>7</th>\n",
              "      <td>haseen</td>\n",
              "      <td>16330</td>\n",
              "    </tr>\n",
              "    <tr>\n",
              "      <th>21</th>\n",
              "      <td>toheed</td>\n",
              "      <td>14500</td>\n",
              "    </tr>\n",
              "    <tr>\n",
              "      <th>20</th>\n",
              "      <td>shokeen</td>\n",
              "      <td>13500</td>\n",
              "    </tr>\n",
              "    <tr>\n",
              "      <th>8</th>\n",
              "      <td>irsad</td>\n",
              "      <td>13000</td>\n",
              "    </tr>\n",
              "    <tr>\n",
              "      <th>18</th>\n",
              "      <td>momin</td>\n",
              "      <td>13000</td>\n",
              "    </tr>\n",
              "    <tr>\n",
              "      <th>12</th>\n",
              "      <td>khurseed</td>\n",
              "      <td>12900</td>\n",
              "    </tr>\n",
              "    <tr>\n",
              "      <th>1</th>\n",
              "      <td>aashu</td>\n",
              "      <td>12000</td>\n",
              "    </tr>\n",
              "    <tr>\n",
              "      <th>22</th>\n",
              "      <td>wajid</td>\n",
              "      <td>12000</td>\n",
              "    </tr>\n",
              "    <tr>\n",
              "      <th>19</th>\n",
              "      <td>shabir</td>\n",
              "      <td>10500</td>\n",
              "    </tr>\n",
              "    <tr>\n",
              "      <th>13</th>\n",
              "      <td>mustakim</td>\n",
              "      <td>10000</td>\n",
              "    </tr>\n",
              "    <tr>\n",
              "      <th>0</th>\n",
              "      <td>aarif</td>\n",
              "      <td>10000</td>\n",
              "    </tr>\n",
              "    <tr>\n",
              "      <th>10</th>\n",
              "      <td>jabir</td>\n",
              "      <td>8000</td>\n",
              "    </tr>\n",
              "    <tr>\n",
              "      <th>2</th>\n",
              "      <td>amjad</td>\n",
              "      <td>6000</td>\n",
              "    </tr>\n",
              "    <tr>\n",
              "      <th>3</th>\n",
              "      <td>anwar</td>\n",
              "      <td>5000</td>\n",
              "    </tr>\n",
              "    <tr>\n",
              "      <th>11</th>\n",
              "      <td>kayum</td>\n",
              "      <td>3500</td>\n",
              "    </tr>\n",
              "  </tbody>\n",
              "</table>\n",
              "</div>"
            ],
            "text/plain": [
              "         Name  Total Diesel\n",
              "24    Zztotal        384500\n",
              "23     zzcash         51170\n",
              "14    poclain         45500\n",
              "6       hasan         21130\n",
              "5      gulfam         19000\n",
              "4     farookh         18500\n",
              "17  sabir jcb         18500\n",
              "16      rasid         17470\n",
              "15    rafakat         16500\n",
              "9       isran         16500\n",
              "7      haseen         16330\n",
              "21     toheed         14500\n",
              "20    shokeen         13500\n",
              "8       irsad         13000\n",
              "18      momin         13000\n",
              "12   khurseed         12900\n",
              "1       aashu         12000\n",
              "22      wajid         12000\n",
              "19     shabir         10500\n",
              "13   mustakim         10000\n",
              "0       aarif         10000\n",
              "10      jabir          8000\n",
              "2       amjad          6000\n",
              "3       anwar          5000\n",
              "11      kayum          3500"
            ]
          },
          "metadata": {
            "tags": []
          },
          "execution_count": 27
        }
      ]
    },
    {
      "metadata": {
        "id": "cJvCrs5eHUzH",
        "colab_type": "code",
        "outputId": "b132ae73-17d7-4458-ab17-6abd399413f7",
        "colab": {
          "base_uri": "https://localhost:8080/",
          "height": 34
        }
      },
      "cell_type": "code",
      "source": [
        "name_total_quantity.shape"
      ],
      "execution_count": 0,
      "outputs": [
        {
          "output_type": "execute_result",
          "data": {
            "text/plain": [
              "(23, 2)"
            ]
          },
          "metadata": {
            "tags": []
          },
          "execution_count": 28
        }
      ]
    },
    {
      "metadata": {
        "id": "bIgFlZSgHZ2Z",
        "colab_type": "code",
        "outputId": "32918b12-d8ef-464b-8e91-48f68b0aa752",
        "colab": {
          "base_uri": "https://localhost:8080/",
          "height": 34
        }
      },
      "cell_type": "code",
      "source": [
        "diesel.shape"
      ],
      "execution_count": 0,
      "outputs": [
        {
          "output_type": "execute_result",
          "data": {
            "text/plain": [
              "(25, 2)"
            ]
          },
          "metadata": {
            "tags": []
          },
          "execution_count": 29
        }
      ]
    },
    {
      "metadata": {
        "id": "Dt0tY1MmKWaE",
        "colab_type": "code",
        "colab": {}
      },
      "cell_type": "code",
      "source": [
        "final = pd.DataFrame(columns = ['Name','Count' , 'Total Quantity', 'Amount', 'Diesel', 'Amount - Diesel','Balance(Amount - Diesel)'])\n",
        "for i in range(len(name_total_quantity)):\n",
        "  for j in range(len(diesel)):\n",
        "    if name_total_quantity.Name[i] == diesel.Name[j]:\n",
        "      final = final.append({'Name': diesel.Name[j],'Total Quantity':name_total_quantity['Total Quantity'][i] ,\n",
        "                            'Count':quantity_per_name.get(diesel.Name[j]),\n",
        "                            'Amount':name_total_quantity['Total Quantity'][i]*3,\n",
        "                            'Diesel':diesel['Total Diesel'][j],\n",
        "                            'Amount - Diesel':name_total_quantity['Total Quantity'][i]*3 - diesel['Total Diesel'][j],\n",
        "                           'Balance(Amount - Diesel)': name_total_quantity['Total Quantity'][i]*3 - diesel['Total Diesel'][j]},\n",
        "                           ignore_index = True)\n",
        "    "
      ],
      "execution_count": 0,
      "outputs": []
    },
    {
      "metadata": {
        "id": "pqq9bOw3M6j4",
        "colab_type": "code",
        "outputId": "a57cc9c7-8647-4db2-83b7-a5ef458b4e65",
        "colab": {
          "base_uri": "https://localhost:8080/",
          "height": 700
        }
      },
      "cell_type": "code",
      "source": [
        "final.sort_values(by = 'Total Quantity', ascending = False, inplace = True)\n",
        "final"
      ],
      "execution_count": 0,
      "outputs": [
        {
          "output_type": "execute_result",
          "data": {
            "text/html": [
              "<div>\n",
              "<style scoped>\n",
              "    .dataframe tbody tr th:only-of-type {\n",
              "        vertical-align: middle;\n",
              "    }\n",
              "\n",
              "    .dataframe tbody tr th {\n",
              "        vertical-align: top;\n",
              "    }\n",
              "\n",
              "    .dataframe thead th {\n",
              "        text-align: right;\n",
              "    }\n",
              "</style>\n",
              "<table border=\"1\" class=\"dataframe\">\n",
              "  <thead>\n",
              "    <tr style=\"text-align: right;\">\n",
              "      <th></th>\n",
              "      <th>Name</th>\n",
              "      <th>Count</th>\n",
              "      <th>Total Quantity</th>\n",
              "      <th>Amount</th>\n",
              "      <th>Diesel</th>\n",
              "      <th>Amount - Diesel</th>\n",
              "      <th>Balance(Amount - Diesel)</th>\n",
              "    </tr>\n",
              "  </thead>\n",
              "  <tbody>\n",
              "    <tr>\n",
              "      <th>6</th>\n",
              "      <td>hasan</td>\n",
              "      <td>29</td>\n",
              "      <td>15462</td>\n",
              "      <td>46386</td>\n",
              "      <td>21130</td>\n",
              "      <td>25256</td>\n",
              "      <td>25256</td>\n",
              "    </tr>\n",
              "    <tr>\n",
              "      <th>9</th>\n",
              "      <td>isran</td>\n",
              "      <td>27</td>\n",
              "      <td>12690</td>\n",
              "      <td>38070</td>\n",
              "      <td>16500</td>\n",
              "      <td>21570</td>\n",
              "      <td>21570</td>\n",
              "    </tr>\n",
              "    <tr>\n",
              "      <th>7</th>\n",
              "      <td>haseen</td>\n",
              "      <td>25</td>\n",
              "      <td>12400</td>\n",
              "      <td>37200</td>\n",
              "      <td>16330</td>\n",
              "      <td>20870</td>\n",
              "      <td>20870</td>\n",
              "    </tr>\n",
              "    <tr>\n",
              "      <th>16</th>\n",
              "      <td>rasid</td>\n",
              "      <td>29</td>\n",
              "      <td>11890</td>\n",
              "      <td>35670</td>\n",
              "      <td>17470</td>\n",
              "      <td>18200</td>\n",
              "      <td>18200</td>\n",
              "    </tr>\n",
              "    <tr>\n",
              "      <th>4</th>\n",
              "      <td>farookh</td>\n",
              "      <td>28</td>\n",
              "      <td>11760</td>\n",
              "      <td>35280</td>\n",
              "      <td>18500</td>\n",
              "      <td>16780</td>\n",
              "      <td>16780</td>\n",
              "    </tr>\n",
              "    <tr>\n",
              "      <th>5</th>\n",
              "      <td>gulfam</td>\n",
              "      <td>23</td>\n",
              "      <td>11500</td>\n",
              "      <td>34500</td>\n",
              "      <td>19000</td>\n",
              "      <td>15500</td>\n",
              "      <td>15500</td>\n",
              "    </tr>\n",
              "    <tr>\n",
              "      <th>18</th>\n",
              "      <td>shokeen</td>\n",
              "      <td>21</td>\n",
              "      <td>9513</td>\n",
              "      <td>28539</td>\n",
              "      <td>13500</td>\n",
              "      <td>15039</td>\n",
              "      <td>15039</td>\n",
              "    </tr>\n",
              "    <tr>\n",
              "      <th>13</th>\n",
              "      <td>momin</td>\n",
              "      <td>22</td>\n",
              "      <td>9130</td>\n",
              "      <td>27390</td>\n",
              "      <td>13000</td>\n",
              "      <td>14390</td>\n",
              "      <td>14390</td>\n",
              "    </tr>\n",
              "    <tr>\n",
              "      <th>12</th>\n",
              "      <td>khurseed</td>\n",
              "      <td>21</td>\n",
              "      <td>8805</td>\n",
              "      <td>26415</td>\n",
              "      <td>12900</td>\n",
              "      <td>13515</td>\n",
              "      <td>13515</td>\n",
              "    </tr>\n",
              "    <tr>\n",
              "      <th>14</th>\n",
              "      <td>mustakim</td>\n",
              "      <td>21</td>\n",
              "      <td>8505</td>\n",
              "      <td>25515</td>\n",
              "      <td>10000</td>\n",
              "      <td>15515</td>\n",
              "      <td>15515</td>\n",
              "    </tr>\n",
              "    <tr>\n",
              "      <th>15</th>\n",
              "      <td>rafakat</td>\n",
              "      <td>15</td>\n",
              "      <td>8070</td>\n",
              "      <td>24210</td>\n",
              "      <td>16500</td>\n",
              "      <td>7710</td>\n",
              "      <td>7710</td>\n",
              "    </tr>\n",
              "    <tr>\n",
              "      <th>19</th>\n",
              "      <td>toheed</td>\n",
              "      <td>21</td>\n",
              "      <td>8048</td>\n",
              "      <td>24144</td>\n",
              "      <td>14500</td>\n",
              "      <td>9644</td>\n",
              "      <td>9644</td>\n",
              "    </tr>\n",
              "    <tr>\n",
              "      <th>8</th>\n",
              "      <td>irsad</td>\n",
              "      <td>17</td>\n",
              "      <td>7395</td>\n",
              "      <td>22185</td>\n",
              "      <td>13000</td>\n",
              "      <td>9185</td>\n",
              "      <td>9185</td>\n",
              "    </tr>\n",
              "    <tr>\n",
              "      <th>20</th>\n",
              "      <td>wajid</td>\n",
              "      <td>16</td>\n",
              "      <td>6704</td>\n",
              "      <td>20112</td>\n",
              "      <td>12000</td>\n",
              "      <td>8112</td>\n",
              "      <td>8112</td>\n",
              "    </tr>\n",
              "    <tr>\n",
              "      <th>1</th>\n",
              "      <td>aashu</td>\n",
              "      <td>15</td>\n",
              "      <td>6450</td>\n",
              "      <td>19350</td>\n",
              "      <td>12000</td>\n",
              "      <td>7350</td>\n",
              "      <td>7350</td>\n",
              "    </tr>\n",
              "    <tr>\n",
              "      <th>0</th>\n",
              "      <td>aarif</td>\n",
              "      <td>15</td>\n",
              "      <td>6240</td>\n",
              "      <td>18720</td>\n",
              "      <td>10000</td>\n",
              "      <td>8720</td>\n",
              "      <td>8720</td>\n",
              "    </tr>\n",
              "    <tr>\n",
              "      <th>17</th>\n",
              "      <td>shabir</td>\n",
              "      <td>12</td>\n",
              "      <td>5640</td>\n",
              "      <td>16920</td>\n",
              "      <td>10500</td>\n",
              "      <td>6420</td>\n",
              "      <td>6420</td>\n",
              "    </tr>\n",
              "    <tr>\n",
              "      <th>10</th>\n",
              "      <td>jabir</td>\n",
              "      <td>12</td>\n",
              "      <td>5028</td>\n",
              "      <td>15084</td>\n",
              "      <td>8000</td>\n",
              "      <td>7084</td>\n",
              "      <td>7084</td>\n",
              "    </tr>\n",
              "    <tr>\n",
              "      <th>2</th>\n",
              "      <td>amjad</td>\n",
              "      <td>8</td>\n",
              "      <td>3288</td>\n",
              "      <td>9864</td>\n",
              "      <td>6000</td>\n",
              "      <td>3864</td>\n",
              "      <td>3864</td>\n",
              "    </tr>\n",
              "    <tr>\n",
              "      <th>3</th>\n",
              "      <td>anwar</td>\n",
              "      <td>7</td>\n",
              "      <td>2765</td>\n",
              "      <td>8295</td>\n",
              "      <td>5000</td>\n",
              "      <td>3295</td>\n",
              "      <td>3295</td>\n",
              "    </tr>\n",
              "    <tr>\n",
              "      <th>11</th>\n",
              "      <td>kayum</td>\n",
              "      <td>6</td>\n",
              "      <td>2700</td>\n",
              "      <td>8100</td>\n",
              "      <td>3500</td>\n",
              "      <td>4600</td>\n",
              "      <td>4600</td>\n",
              "    </tr>\n",
              "  </tbody>\n",
              "</table>\n",
              "</div>"
            ],
            "text/plain": [
              "        Name Count Total Quantity Amount Diesel Amount - Diesel  \\\n",
              "6      hasan    29          15462  46386  21130           25256   \n",
              "9      isran    27          12690  38070  16500           21570   \n",
              "7     haseen    25          12400  37200  16330           20870   \n",
              "16     rasid    29          11890  35670  17470           18200   \n",
              "4    farookh    28          11760  35280  18500           16780   \n",
              "5     gulfam    23          11500  34500  19000           15500   \n",
              "18   shokeen    21           9513  28539  13500           15039   \n",
              "13     momin    22           9130  27390  13000           14390   \n",
              "12  khurseed    21           8805  26415  12900           13515   \n",
              "14  mustakim    21           8505  25515  10000           15515   \n",
              "15   rafakat    15           8070  24210  16500            7710   \n",
              "19    toheed    21           8048  24144  14500            9644   \n",
              "8      irsad    17           7395  22185  13000            9185   \n",
              "20     wajid    16           6704  20112  12000            8112   \n",
              "1      aashu    15           6450  19350  12000            7350   \n",
              "0      aarif    15           6240  18720  10000            8720   \n",
              "17    shabir    12           5640  16920  10500            6420   \n",
              "10     jabir    12           5028  15084   8000            7084   \n",
              "2      amjad     8           3288   9864   6000            3864   \n",
              "3      anwar     7           2765   8295   5000            3295   \n",
              "11     kayum     6           2700   8100   3500            4600   \n",
              "\n",
              "   Balance(Amount - Diesel)  \n",
              "6                     25256  \n",
              "9                     21570  \n",
              "7                     20870  \n",
              "16                    18200  \n",
              "4                     16780  \n",
              "5                     15500  \n",
              "18                    15039  \n",
              "13                    14390  \n",
              "12                    13515  \n",
              "14                    15515  \n",
              "15                     7710  \n",
              "19                     9644  \n",
              "8                      9185  \n",
              "20                     8112  \n",
              "1                      7350  \n",
              "0                      8720  \n",
              "17                     6420  \n",
              "10                     7084  \n",
              "2                      3864  \n",
              "3                      3295  \n",
              "11                     4600  "
            ]
          },
          "metadata": {
            "tags": []
          },
          "execution_count": 31
        }
      ]
    },
    {
      "metadata": {
        "id": "j9mtOxxVNFDu",
        "colab_type": "code",
        "outputId": "2c56185b-a6ee-45ec-e247-50b394549d80",
        "colab": {
          "base_uri": "https://localhost:8080/",
          "height": 34
        }
      },
      "cell_type": "code",
      "source": [
        "final.shape"
      ],
      "execution_count": 0,
      "outputs": [
        {
          "output_type": "execute_result",
          "data": {
            "text/plain": [
              "(21, 7)"
            ]
          },
          "metadata": {
            "tags": []
          },
          "execution_count": 32
        }
      ]
    },
    {
      "metadata": {
        "id": "_0al7GQXkDXf",
        "colab_type": "text"
      },
      "cell_type": "markdown",
      "source": [
        "# Total payable"
      ]
    },
    {
      "metadata": {
        "id": "6XWkfa0VyQGy",
        "colab_type": "code",
        "outputId": "80148dc6-ed02-41a8-df43-7aac07293ec2",
        "colab": {
          "base_uri": "https://localhost:8080/",
          "height": 34
        }
      },
      "cell_type": "code",
      "source": [
        "sum(final['Amount - Diesel'])"
      ],
      "execution_count": 0,
      "outputs": [
        {
          "output_type": "execute_result",
          "data": {
            "text/plain": [
              "252619"
            ]
          },
          "metadata": {
            "tags": []
          },
          "execution_count": 33
        }
      ]
    },
    {
      "metadata": {
        "id": "pv6MLYbwyWxf",
        "colab_type": "text"
      },
      "cell_type": "markdown",
      "source": [
        "# Total Diesel to peoples"
      ]
    },
    {
      "metadata": {
        "id": "cgGCqVLEzDYa",
        "colab_type": "code",
        "outputId": "bfcd5ed9-a771-4f57-ab2e-d438d8eef8f6",
        "colab": {
          "base_uri": "https://localhost:8080/",
          "height": 34
        }
      },
      "cell_type": "code",
      "source": [
        "sum(final['Diesel'])"
      ],
      "execution_count": 0,
      "outputs": [
        {
          "output_type": "execute_result",
          "data": {
            "text/plain": [
              "269330"
            ]
          },
          "metadata": {
            "tags": []
          },
          "execution_count": 34
        }
      ]
    },
    {
      "metadata": {
        "id": "pBnjQATezE1-",
        "colab_type": "code",
        "outputId": "e8eb517d-65b4-4323-91ab-c7fb447af461",
        "colab": {
          "base_uri": "https://localhost:8080/",
          "height": 34
        }
      },
      "cell_type": "code",
      "source": [
        "to_tractors = sum(final['Total Quantity'])\n",
        "to_tractors"
      ],
      "execution_count": 0,
      "outputs": [
        {
          "output_type": "execute_result",
          "data": {
            "text/plain": [
              "173983"
            ]
          },
          "metadata": {
            "tags": []
          },
          "execution_count": 35
        }
      ]
    },
    {
      "metadata": {
        "id": "MfiO_RoO336s",
        "colab_type": "code",
        "outputId": "efe0c3aa-eca5-468a-ac15-3c3c5671be98",
        "colab": {
          "base_uri": "https://localhost:8080/",
          "height": 51
        }
      },
      "cell_type": "code",
      "source": [
        "to_tractors + name_total_quantity[name_total_quantity.Name == 'mehmood']['Total Quantity']"
      ],
      "execution_count": 0,
      "outputs": [
        {
          "output_type": "execute_result",
          "data": {
            "text/plain": [
              "14    177620\n",
              "Name: Total Quantity, dtype: object"
            ]
          },
          "metadata": {
            "tags": []
          },
          "execution_count": 36
        }
      ]
    },
    {
      "metadata": {
        "id": "99Mbstbv4MyU",
        "colab_type": "code",
        "colab": {}
      },
      "cell_type": "code",
      "source": [
        ""
      ],
      "execution_count": 0,
      "outputs": []
    }
  ]
}