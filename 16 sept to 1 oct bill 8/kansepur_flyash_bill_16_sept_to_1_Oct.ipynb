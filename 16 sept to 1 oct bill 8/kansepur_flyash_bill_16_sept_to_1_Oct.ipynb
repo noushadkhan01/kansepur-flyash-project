{
  "nbformat": 4,
  "nbformat_minor": 0,
  "metadata": {
    "colab": {
      "name": "kansepur flyash bill 16 sept to 1 oct.ipynb",
      "provenance": [],
      "collapsed_sections": [],
      "include_colab_link": true
    },
    "kernelspec": {
      "name": "python3",
      "display_name": "Python 3"
    },
    "accelerator": "GPU"
  },
  "cells": [
    {
      "cell_type": "markdown",
      "metadata": {
        "id": "view-in-github",
        "colab_type": "text"
      },
      "source": [
        "<a href=\"https://colab.research.google.com/github/noushadkhan01/kansepur-flyash-project/blob/master/16%20sept%20to%201%20oct%20bill%208/kansepur_flyash_bill_16_sept_to_1_Oct.ipynb\" target=\"_parent\"><img src=\"https://colab.research.google.com/assets/colab-badge.svg\" alt=\"Open In Colab\"/></a>"
      ]
    },
    {
      "cell_type": "code",
      "metadata": {
        "id": "jRYDQCkk5vS3",
        "colab_type": "code",
        "colab": {}
      },
      "source": [
        "from google.colab import drive"
      ],
      "execution_count": 0,
      "outputs": []
    },
    {
      "cell_type": "code",
      "metadata": {
        "id": "JYLWwJR-5xcy",
        "colab_type": "code",
        "outputId": "808defb9-cff0-43c2-b4a8-a48fd0afafc3",
        "colab": {
          "base_uri": "https://localhost:8080/",
          "height": 122
        }
      },
      "source": [
        "drive.mount('mydrive')"
      ],
      "execution_count": 0,
      "outputs": [
        {
          "output_type": "stream",
          "text": [
            "Go to this URL in a browser: https://accounts.google.com/o/oauth2/auth?client_id=947318989803-6bn6qk8qdgf4n4g3pfee6491hc0brc4i.apps.googleusercontent.com&redirect_uri=urn%3Aietf%3Awg%3Aoauth%3A2.0%3Aoob&scope=email%20https%3A%2F%2Fwww.googleapis.com%2Fauth%2Fdocs.test%20https%3A%2F%2Fwww.googleapis.com%2Fauth%2Fdrive%20https%3A%2F%2Fwww.googleapis.com%2Fauth%2Fdrive.photos.readonly%20https%3A%2F%2Fwww.googleapis.com%2Fauth%2Fpeopleapi.readonly&response_type=code\n",
            "\n",
            "Enter your authorization code:\n",
            "··········\n",
            "Mounted at mydrive\n"
          ],
          "name": "stdout"
        }
      ]
    },
    {
      "cell_type": "code",
      "metadata": {
        "id": "T2qwtKxc5zBV",
        "colab_type": "code",
        "outputId": "44b84bfe-7b6a-47f7-ef3b-1e25346940be",
        "colab": {
          "base_uri": "https://localhost:8080/",
          "height": 34
        }
      },
      "source": [
        "!ls"
      ],
      "execution_count": 0,
      "outputs": [
        {
          "output_type": "stream",
          "text": [
            "mydrive  sample_data\n"
          ],
          "name": "stdout"
        }
      ]
    },
    {
      "cell_type": "code",
      "metadata": {
        "id": "lMmIctPx5_MB",
        "colab_type": "code",
        "outputId": "df5d76ef-c2ee-4022-e5d8-6b35eb454d99",
        "colab": {
          "base_uri": "https://localhost:8080/",
          "height": 51
        }
      },
      "source": [
        "%cd mydrive/\n",
        "!ls"
      ],
      "execution_count": 0,
      "outputs": [
        {
          "output_type": "stream",
          "text": [
            "/content/mydrive\n",
            "'My Drive'\n"
          ],
          "name": "stdout"
        }
      ]
    },
    {
      "cell_type": "code",
      "metadata": {
        "id": "GeBbbC946m-d",
        "colab_type": "code",
        "outputId": "6d5645f6-7cf8-4af9-d73a-52ac90e98e35",
        "colab": {
          "base_uri": "https://localhost:8080/",
          "height": 34
        }
      },
      "source": [
        "%cd My Drive/kansepur flyash project"
      ],
      "execution_count": 0,
      "outputs": [
        {
          "output_type": "stream",
          "text": [
            "/content/mydrive/My Drive/kansepur flyash project\n"
          ],
          "name": "stdout"
        }
      ]
    },
    {
      "cell_type": "code",
      "metadata": {
        "id": "OYr5tPY26rYV",
        "colab_type": "code",
        "outputId": "48c457c7-ca60-4426-b6f2-2e6403b9e821",
        "colab": {
          "base_uri": "https://localhost:8080/",
          "height": 170
        }
      },
      "source": [
        "!ls"
      ],
      "execution_count": 0,
      "outputs": [
        {
          "output_type": "stream",
          "text": [
            " 1_14_feb_bill.xlsx\n",
            " 11_mar_to_5_apr.xlsx\n",
            "'16 sept to 1 oct bill8.xlsx'\n",
            "'16 sept to 30 sept bill8 2.xlsx'\n",
            "'kansepur bill2.xlsx'\n",
            " kansepur_bill3.xlsx\n",
            " kansepur_bill4.xlsx\n",
            "'kansepur flyash bill 10 aug to 15 sept bill7.xlsx'\n",
            " kansepur_soil_bill.xlsx\n"
          ],
          "name": "stdout"
        }
      ]
    },
    {
      "cell_type": "code",
      "metadata": {
        "id": "g1NpP5jtlH5r",
        "colab_type": "code",
        "colab": {}
      },
      "source": [
        "import pandas as pd"
      ],
      "execution_count": 0,
      "outputs": []
    },
    {
      "cell_type": "code",
      "metadata": {
        "id": "THAUXyC0lPYh",
        "colab_type": "code",
        "outputId": "d6fa4cca-efaf-439d-d49c-a894aeca2cf7",
        "colab": {
          "base_uri": "https://localhost:8080/",
          "height": 204
        }
      },
      "source": [
        "df = pd.read_excel('16 sept to 1 oct bill8.xlsx', 'Sheet1')\n",
        "df.head()"
      ],
      "execution_count": 0,
      "outputs": [
        {
          "output_type": "execute_result",
          "data": {
            "text/html": [
              "<div>\n",
              "<style scoped>\n",
              "    .dataframe tbody tr th:only-of-type {\n",
              "        vertical-align: middle;\n",
              "    }\n",
              "\n",
              "    .dataframe tbody tr th {\n",
              "        vertical-align: top;\n",
              "    }\n",
              "\n",
              "    .dataframe thead th {\n",
              "        text-align: right;\n",
              "    }\n",
              "</style>\n",
              "<table border=\"1\" class=\"dataframe\">\n",
              "  <thead>\n",
              "    <tr style=\"text-align: right;\">\n",
              "      <th></th>\n",
              "      <th>S.No.</th>\n",
              "      <th>Date</th>\n",
              "      <th>Counts</th>\n",
              "      <th>Name</th>\n",
              "      <th>Quantity</th>\n",
              "      <th>Diesel</th>\n",
              "    </tr>\n",
              "  </thead>\n",
              "  <tbody>\n",
              "    <tr>\n",
              "      <th>0</th>\n",
              "      <td>1.0</td>\n",
              "      <td>2019-09-16</td>\n",
              "      <td>1</td>\n",
              "      <td>khurseed</td>\n",
              "      <td>391</td>\n",
              "      <td>22000.0</td>\n",
              "    </tr>\n",
              "    <tr>\n",
              "      <th>1</th>\n",
              "      <td>2.0</td>\n",
              "      <td>NaT</td>\n",
              "      <td>2</td>\n",
              "      <td>gulfam</td>\n",
              "      <td>411</td>\n",
              "      <td>NaN</td>\n",
              "    </tr>\n",
              "    <tr>\n",
              "      <th>2</th>\n",
              "      <td>3.0</td>\n",
              "      <td>NaT</td>\n",
              "      <td>3</td>\n",
              "      <td>bhura</td>\n",
              "      <td>397</td>\n",
              "      <td>NaN</td>\n",
              "    </tr>\n",
              "    <tr>\n",
              "      <th>3</th>\n",
              "      <td>4.0</td>\n",
              "      <td>NaT</td>\n",
              "      <td>4</td>\n",
              "      <td>rasid</td>\n",
              "      <td>406</td>\n",
              "      <td>NaN</td>\n",
              "    </tr>\n",
              "    <tr>\n",
              "      <th>4</th>\n",
              "      <td>5.0</td>\n",
              "      <td>NaT</td>\n",
              "      <td>5</td>\n",
              "      <td>akram</td>\n",
              "      <td>360</td>\n",
              "      <td>NaN</td>\n",
              "    </tr>\n",
              "  </tbody>\n",
              "</table>\n",
              "</div>"
            ],
            "text/plain": [
              "   S.No.       Date Counts      Name  Quantity   Diesel\n",
              "0    1.0 2019-09-16      1  khurseed       391  22000.0\n",
              "1    2.0        NaT      2    gulfam       411      NaN\n",
              "2    3.0        NaT      3     bhura       397      NaN\n",
              "3    4.0        NaT      4     rasid       406      NaN\n",
              "4    5.0        NaT      5     akram       360      NaN"
            ]
          },
          "metadata": {
            "tags": []
          },
          "execution_count": 8
        }
      ]
    },
    {
      "cell_type": "code",
      "metadata": {
        "id": "e1gUo92O-r5c",
        "colab_type": "code",
        "outputId": "5059a6c4-684f-4907-c5ea-960ccd9da77d",
        "colab": {
          "base_uri": "https://localhost:8080/",
          "height": 204
        }
      },
      "source": [
        "df.tail(5)"
      ],
      "execution_count": 0,
      "outputs": [
        {
          "output_type": "execute_result",
          "data": {
            "text/html": [
              "<div>\n",
              "<style scoped>\n",
              "    .dataframe tbody tr th:only-of-type {\n",
              "        vertical-align: middle;\n",
              "    }\n",
              "\n",
              "    .dataframe tbody tr th {\n",
              "        vertical-align: top;\n",
              "    }\n",
              "\n",
              "    .dataframe thead th {\n",
              "        text-align: right;\n",
              "    }\n",
              "</style>\n",
              "<table border=\"1\" class=\"dataframe\">\n",
              "  <thead>\n",
              "    <tr style=\"text-align: right;\">\n",
              "      <th></th>\n",
              "      <th>S.No.</th>\n",
              "      <th>Date</th>\n",
              "      <th>Counts</th>\n",
              "      <th>Name</th>\n",
              "      <th>Quantity</th>\n",
              "      <th>Diesel</th>\n",
              "    </tr>\n",
              "  </thead>\n",
              "  <tbody>\n",
              "    <tr>\n",
              "      <th>240</th>\n",
              "      <td>241.0</td>\n",
              "      <td>NaT</td>\n",
              "      <td>4</td>\n",
              "      <td>bhura</td>\n",
              "      <td>397</td>\n",
              "      <td>NaN</td>\n",
              "    </tr>\n",
              "    <tr>\n",
              "      <th>241</th>\n",
              "      <td>NaN</td>\n",
              "      <td>NaT</td>\n",
              "      <td>Total Qty. =</td>\n",
              "      <td>NaN</td>\n",
              "      <td>99588</td>\n",
              "      <td>220300.0</td>\n",
              "    </tr>\n",
              "    <tr>\n",
              "      <th>242</th>\n",
              "      <td>NaN</td>\n",
              "      <td>NaT</td>\n",
              "      <td>Amount = Qty *4.25</td>\n",
              "      <td>NaN</td>\n",
              "      <td>423249</td>\n",
              "      <td>NaN</td>\n",
              "    </tr>\n",
              "    <tr>\n",
              "      <th>243</th>\n",
              "      <td>NaN</td>\n",
              "      <td>NaT</td>\n",
              "      <td>Diesel =</td>\n",
              "      <td>NaN</td>\n",
              "      <td>220300</td>\n",
              "      <td>NaN</td>\n",
              "    </tr>\n",
              "    <tr>\n",
              "      <th>244</th>\n",
              "      <td>NaN</td>\n",
              "      <td>NaT</td>\n",
              "      <td>Balance =</td>\n",
              "      <td>NaN</td>\n",
              "      <td>202949</td>\n",
              "      <td>NaN</td>\n",
              "    </tr>\n",
              "  </tbody>\n",
              "</table>\n",
              "</div>"
            ],
            "text/plain": [
              "     S.No. Date              Counts   Name  Quantity    Diesel\n",
              "240  241.0  NaT                   4  bhura       397       NaN\n",
              "241    NaN  NaT        Total Qty. =    NaN     99588  220300.0\n",
              "242    NaN  NaT  Amount = Qty *4.25    NaN    423249       NaN\n",
              "243    NaN  NaT            Diesel =    NaN    220300       NaN\n",
              "244    NaN  NaT          Balance =     NaN    202949       NaN"
            ]
          },
          "metadata": {
            "tags": []
          },
          "execution_count": 9
        }
      ]
    },
    {
      "cell_type": "code",
      "metadata": {
        "id": "3_LSuyIY8-aY",
        "colab_type": "code",
        "outputId": "3a44b44f-5a26-47d9-c2e2-bc8c0cbcde71",
        "colab": {
          "base_uri": "https://localhost:8080/",
          "height": 111
        }
      },
      "source": [
        "df = df[:-4]\n",
        "df.tail(2)"
      ],
      "execution_count": 0,
      "outputs": [
        {
          "output_type": "execute_result",
          "data": {
            "text/html": [
              "<div>\n",
              "<style scoped>\n",
              "    .dataframe tbody tr th:only-of-type {\n",
              "        vertical-align: middle;\n",
              "    }\n",
              "\n",
              "    .dataframe tbody tr th {\n",
              "        vertical-align: top;\n",
              "    }\n",
              "\n",
              "    .dataframe thead th {\n",
              "        text-align: right;\n",
              "    }\n",
              "</style>\n",
              "<table border=\"1\" class=\"dataframe\">\n",
              "  <thead>\n",
              "    <tr style=\"text-align: right;\">\n",
              "      <th></th>\n",
              "      <th>S.No.</th>\n",
              "      <th>Date</th>\n",
              "      <th>Counts</th>\n",
              "      <th>Name</th>\n",
              "      <th>Quantity</th>\n",
              "      <th>Diesel</th>\n",
              "    </tr>\n",
              "  </thead>\n",
              "  <tbody>\n",
              "    <tr>\n",
              "      <th>239</th>\n",
              "      <td>240.0</td>\n",
              "      <td>NaT</td>\n",
              "      <td>3</td>\n",
              "      <td>mukarram</td>\n",
              "      <td>400</td>\n",
              "      <td>NaN</td>\n",
              "    </tr>\n",
              "    <tr>\n",
              "      <th>240</th>\n",
              "      <td>241.0</td>\n",
              "      <td>NaT</td>\n",
              "      <td>4</td>\n",
              "      <td>bhura</td>\n",
              "      <td>397</td>\n",
              "      <td>NaN</td>\n",
              "    </tr>\n",
              "  </tbody>\n",
              "</table>\n",
              "</div>"
            ],
            "text/plain": [
              "     S.No. Date Counts      Name  Quantity  Diesel\n",
              "239  240.0  NaT      3  mukarram       400     NaN\n",
              "240  241.0  NaT      4     bhura       397     NaN"
            ]
          },
          "metadata": {
            "tags": []
          },
          "execution_count": 10
        }
      ]
    },
    {
      "cell_type": "code",
      "metadata": {
        "id": "JPFtx9DsA9QT",
        "colab_type": "code",
        "colab": {}
      },
      "source": [
        "maap = {'imran':397, 'julfan':390, 'gulfam':411, 'saddam': 465, 'khurseed': 391, 'jabir': 416, \n",
        "        'akram': 360, 'wajid': 357, 'kayum': 308, 'bhura': 397, 'zishan': 484, 'rasid':406\n",
        "        ,'mujahid':380, 'mukarram':400, 'jahid':435,'khan':425, 'dinesh':465, 'hasan':400, 'amjad':395, 'aslam':484\n",
        "        }"
      ],
      "execution_count": 0,
      "outputs": []
    },
    {
      "cell_type": "code",
      "metadata": {
        "id": "vYJmIHd8lWZY",
        "colab_type": "code",
        "outputId": "9d96b2a1-05c1-410b-f8d0-69e58ca568e3",
        "colab": {
          "base_uri": "https://localhost:8080/",
          "height": 204
        }
      },
      "source": [
        "df.info()"
      ],
      "execution_count": 0,
      "outputs": [
        {
          "output_type": "stream",
          "text": [
            "<class 'pandas.core.frame.DataFrame'>\n",
            "RangeIndex: 241 entries, 0 to 240\n",
            "Data columns (total 6 columns):\n",
            "S.No.       241 non-null float64\n",
            "Date        12 non-null datetime64[ns]\n",
            "Counts      241 non-null object\n",
            "Name        241 non-null object\n",
            "Quantity    241 non-null int64\n",
            "Diesel      12 non-null float64\n",
            "dtypes: datetime64[ns](1), float64(2), int64(1), object(2)\n",
            "memory usage: 11.4+ KB\n"
          ],
          "name": "stdout"
        }
      ]
    },
    {
      "cell_type": "markdown",
      "metadata": {
        "id": "lBL0gCRvC42b",
        "colab_type": "text"
      },
      "source": [
        "##fill values"
      ]
    },
    {
      "cell_type": "code",
      "metadata": {
        "id": "AVk4AP-bC7wb",
        "colab_type": "code",
        "outputId": "cbb3eb39-7bdb-46f4-9ab4-c026e58cd9c8",
        "colab": {
          "base_uri": "https://localhost:8080/",
          "height": 34
        }
      },
      "source": [
        "df.columns"
      ],
      "execution_count": 0,
      "outputs": [
        {
          "output_type": "execute_result",
          "data": {
            "text/plain": [
              "Index(['S.No.', 'Date', 'Counts', 'Name', 'Quantity', 'Diesel'], dtype='object')"
            ]
          },
          "metadata": {
            "tags": []
          },
          "execution_count": 13
        }
      ]
    },
    {
      "cell_type": "code",
      "metadata": {
        "id": "3lrZIDhX1Rus",
        "colab_type": "code",
        "outputId": "e760ab54-4942-4594-9a04-99b1d8c95652",
        "colab": {
          "base_uri": "https://localhost:8080/",
          "height": 34
        }
      },
      "source": [
        "df.Quantity.isnull().sum()"
      ],
      "execution_count": 0,
      "outputs": [
        {
          "output_type": "execute_result",
          "data": {
            "text/plain": [
              "0"
            ]
          },
          "metadata": {
            "tags": []
          },
          "execution_count": 14
        }
      ]
    },
    {
      "cell_type": "code",
      "metadata": {
        "id": "HOiPaH_eDNGg",
        "colab_type": "code",
        "colab": {}
      },
      "source": [
        "def fill_quantity(a):\n",
        "  name, qty = a\n",
        "  if pd.isnull(qty):\n",
        "    return maap.get(name)\n",
        "  else:\n",
        "    maap[name] = qty\n",
        "    return qty"
      ],
      "execution_count": 0,
      "outputs": []
    },
    {
      "cell_type": "code",
      "metadata": {
        "id": "7gXmpQqCDAER",
        "colab_type": "code",
        "colab": {}
      },
      "source": [
        "df['Quantity'] = df[['Name', 'Quantity']].apply(fill_quantity, axis = 1)"
      ],
      "execution_count": 0,
      "outputs": []
    },
    {
      "cell_type": "code",
      "metadata": {
        "id": "MZ1jBm5U1b8_",
        "colab_type": "code",
        "outputId": "c84c642a-8538-45a3-a5cd-b784cf53ff12",
        "colab": {
          "base_uri": "https://localhost:8080/",
          "height": 34
        }
      },
      "source": [
        "df.Quantity.isnull().sum()"
      ],
      "execution_count": 0,
      "outputs": [
        {
          "output_type": "execute_result",
          "data": {
            "text/plain": [
              "0"
            ]
          },
          "metadata": {
            "tags": []
          },
          "execution_count": 17
        }
      ]
    },
    {
      "cell_type": "code",
      "metadata": {
        "id": "fB6Jb_Mc1lpB",
        "colab_type": "code",
        "colab": {}
      },
      "source": [
        "import numpy as np"
      ],
      "execution_count": 0,
      "outputs": []
    },
    {
      "cell_type": "code",
      "metadata": {
        "id": "JC2hr9mFDu2U",
        "colab_type": "code",
        "outputId": "e533e842-3819-4dd3-f055-5ec09c9918da",
        "colab": {
          "base_uri": "https://localhost:8080/",
          "height": 85
        }
      },
      "source": [
        "df.Quantity[:3]"
      ],
      "execution_count": 0,
      "outputs": [
        {
          "output_type": "execute_result",
          "data": {
            "text/plain": [
              "0    391\n",
              "1    411\n",
              "2    397\n",
              "Name: Quantity, dtype: int64"
            ]
          },
          "metadata": {
            "tags": []
          },
          "execution_count": 19
        }
      ]
    },
    {
      "cell_type": "code",
      "metadata": {
        "id": "vZ9H0uvuAxf5",
        "colab_type": "code",
        "outputId": "d5075c6e-3062-498c-f424-b7fa78d90044",
        "colab": {
          "base_uri": "https://localhost:8080/",
          "height": 238
        }
      },
      "source": [
        "unique_dates = df.Date.unique()\n",
        "unique_dates = pd.Series(unique_dates).dropna()\n",
        "print(unique_dates)"
      ],
      "execution_count": 0,
      "outputs": [
        {
          "output_type": "stream",
          "text": [
            "0    2019-09-16\n",
            "2    2019-09-17\n",
            "3    2019-09-19\n",
            "4    2019-09-20\n",
            "5    2019-09-21\n",
            "6    2019-09-24\n",
            "7    2019-09-25\n",
            "8    2019-09-26\n",
            "9    2019-09-27\n",
            "10   2019-09-28\n",
            "11   2019-09-29\n",
            "12   2019-10-01\n",
            "dtype: datetime64[ns]\n"
          ],
          "name": "stdout"
        }
      ]
    },
    {
      "cell_type": "code",
      "metadata": {
        "id": "yOdejLAFA7j1",
        "colab_type": "code",
        "outputId": "e2970d8f-2d3e-44e4-e0bd-e00c0167b8e9",
        "colab": {
          "base_uri": "https://localhost:8080/",
          "height": 34
        }
      },
      "source": [
        "df.Date.nunique()"
      ],
      "execution_count": 0,
      "outputs": [
        {
          "output_type": "execute_result",
          "data": {
            "text/plain": [
              "12"
            ]
          },
          "metadata": {
            "tags": []
          },
          "execution_count": 21
        }
      ]
    },
    {
      "cell_type": "code",
      "metadata": {
        "id": "TTiF585xBBNC",
        "colab_type": "code",
        "outputId": "54765229-fffb-4c02-fc97-f195fcc4cb50",
        "colab": {
          "base_uri": "https://localhost:8080/",
          "height": 238
        }
      },
      "source": [
        "df.Date.value_counts()"
      ],
      "execution_count": 0,
      "outputs": [
        {
          "output_type": "execute_result",
          "data": {
            "text/plain": [
              "2019-09-26    1\n",
              "2019-09-19    1\n",
              "2019-09-29    1\n",
              "2019-09-25    1\n",
              "2019-09-28    1\n",
              "2019-09-21    1\n",
              "2019-10-01    1\n",
              "2019-09-24    1\n",
              "2019-09-17    1\n",
              "2019-09-27    1\n",
              "2019-09-20    1\n",
              "2019-09-16    1\n",
              "Name: Date, dtype: int64"
            ]
          },
          "metadata": {
            "tags": []
          },
          "execution_count": 22
        }
      ]
    },
    {
      "cell_type": "code",
      "metadata": {
        "id": "uXqNsOzRDDSf",
        "colab_type": "code",
        "colab": {}
      },
      "source": [
        "import numpy as np"
      ],
      "execution_count": 0,
      "outputs": []
    },
    {
      "cell_type": "code",
      "metadata": {
        "id": "jsPDiLK9mCMB",
        "colab_type": "code",
        "outputId": "f9a6df67-2039-4f2c-e97d-7f7627af4f2b",
        "colab": {
          "base_uri": "https://localhost:8080/",
          "height": 68
        }
      },
      "source": [
        "df.Name.unique()"
      ],
      "execution_count": 0,
      "outputs": [
        {
          "output_type": "execute_result",
          "data": {
            "text/plain": [
              "array(['khurseed', 'gulfam', 'bhura', 'rasid', 'akram', 'imran',\n",
              "       'mukarram', 'julfan', 'jabir', 'dinesh', 'zishan', 'khan',\n",
              "       'mujahid', 'saddam', 'aslam', 'amjad', 'hasan'], dtype=object)"
            ]
          },
          "metadata": {
            "tags": []
          },
          "execution_count": 24
        }
      ]
    },
    {
      "cell_type": "code",
      "metadata": {
        "id": "cJArT99yo39E",
        "colab_type": "code",
        "outputId": "6874d21c-2eb1-44d2-caac-52518c6dcba8",
        "colab": {
          "base_uri": "https://localhost:8080/",
          "height": 34
        }
      },
      "source": [
        "total_quantity = sum(df.Quantity)\n",
        "total_quantity"
      ],
      "execution_count": 0,
      "outputs": [
        {
          "output_type": "execute_result",
          "data": {
            "text/plain": [
              "99588"
            ]
          },
          "metadata": {
            "tags": []
          },
          "execution_count": 25
        }
      ]
    },
    {
      "cell_type": "code",
      "metadata": {
        "id": "KDfUKDebnJUR",
        "colab_type": "code",
        "outputId": "26cce5cc-78b9-43fa-cf19-d0caa6c6c194",
        "colab": {
          "base_uri": "https://localhost:8080/",
          "height": 323
        }
      },
      "source": [
        "rounds_per_name = df.Name.value_counts()\n",
        "rounds_per_name"
      ],
      "execution_count": 0,
      "outputs": [
        {
          "output_type": "execute_result",
          "data": {
            "text/plain": [
              "imran       29\n",
              "rasid       27\n",
              "khurseed    25\n",
              "bhura       21\n",
              "gulfam      19\n",
              "saddam      18\n",
              "jabir       17\n",
              "julfan      17\n",
              "amjad       15\n",
              "dinesh      13\n",
              "hasan       12\n",
              "mukarram    10\n",
              "akram        6\n",
              "zishan       4\n",
              "khan         4\n",
              "mujahid      3\n",
              "aslam        1\n",
              "Name: Name, dtype: int64"
            ]
          },
          "metadata": {
            "tags": []
          },
          "execution_count": 26
        }
      ]
    },
    {
      "cell_type": "code",
      "metadata": {
        "id": "XN6SqFu8rOBZ",
        "colab_type": "code",
        "outputId": "545ee034-9948-4909-9748-4ec501808e29",
        "colab": {
          "base_uri": "https://localhost:8080/",
          "height": 34
        }
      },
      "source": [
        "sum(rounds_per_name.values)"
      ],
      "execution_count": 0,
      "outputs": [
        {
          "output_type": "execute_result",
          "data": {
            "text/plain": [
              "241"
            ]
          },
          "metadata": {
            "tags": []
          },
          "execution_count": 27
        }
      ]
    },
    {
      "cell_type": "markdown",
      "metadata": {
        "id": "vegaPxckns74",
        "colab_type": "text"
      },
      "source": [
        "## unique feets per name"
      ]
    },
    {
      "cell_type": "code",
      "metadata": {
        "id": "-ITvOwaBwJ1t",
        "colab_type": "code",
        "outputId": "e5647207-55f7-4b44-ea57-1fc1dbf3a3c8",
        "colab": {
          "base_uri": "https://localhost:8080/",
          "height": 34
        }
      },
      "source": [
        "group = df.groupby(df.Name)\n",
        "group"
      ],
      "execution_count": 0,
      "outputs": [
        {
          "output_type": "execute_result",
          "data": {
            "text/plain": [
              "<pandas.core.groupby.generic.DataFrameGroupBy object at 0x7f68df4f6cf8>"
            ]
          },
          "metadata": {
            "tags": []
          },
          "execution_count": 28
        }
      ]
    },
    {
      "cell_type": "markdown",
      "metadata": {
        "id": "R0pQUd6CZ4Eg",
        "colab_type": "text"
      },
      "source": [
        "for i, j in group:\n",
        "  print(i, '\\n', j.Quantity, '\\n')"
      ]
    },
    {
      "cell_type": "markdown",
      "metadata": {
        "id": "qdoqwuTDYaQ3",
        "colab_type": "text"
      },
      "source": [
        "print(group.get_group('gulfam'))"
      ]
    },
    {
      "cell_type": "code",
      "metadata": {
        "id": "ndW_Qg-IwSkJ",
        "colab_type": "code",
        "outputId": "cd97fe32-ecb3-4f99-d15e-ba513ac65382",
        "colab": {
          "base_uri": "https://localhost:8080/",
          "height": 595
        }
      },
      "source": [
        "for i, j in group:\n",
        "  print(i, j.Quantity.unique(), '\\n')"
      ],
      "execution_count": 0,
      "outputs": [
        {
          "output_type": "stream",
          "text": [
            "akram [360] \n",
            "\n",
            "amjad [395] \n",
            "\n",
            "aslam [484] \n",
            "\n",
            "bhura [397] \n",
            "\n",
            "dinesh [465] \n",
            "\n",
            "gulfam [411 473] \n",
            "\n",
            "hasan [400] \n",
            "\n",
            "imran [397] \n",
            "\n",
            "jabir [416] \n",
            "\n",
            "julfan [390] \n",
            "\n",
            "khan [425] \n",
            "\n",
            "khurseed [391] \n",
            "\n",
            "mujahid [380] \n",
            "\n",
            "mukarram [400] \n",
            "\n",
            "rasid [406] \n",
            "\n",
            "saddam [465] \n",
            "\n",
            "zishan [484] \n",
            "\n"
          ],
          "name": "stdout"
        }
      ]
    },
    {
      "cell_type": "markdown",
      "metadata": {
        "id": "F2hlXCQ6D562",
        "colab_type": "text"
      },
      "source": [
        "df.to_excel('16 sept to 30 sept bill8 2.xlsx', index = False)\n",
        "!ls"
      ]
    },
    {
      "cell_type": "markdown",
      "metadata": {
        "id": "LsJrON4hEEhD",
        "colab_type": "text"
      },
      "source": [
        "from google.colab import files"
      ]
    },
    {
      "cell_type": "markdown",
      "metadata": {
        "id": "r3bUrv4XFWzY",
        "colab_type": "text"
      },
      "source": [
        "files.download('16 sept to 30 sept bill8 2.xlsx')"
      ]
    },
    {
      "cell_type": "markdown",
      "metadata": {
        "id": "0y2uPtUlJ6jo",
        "colab_type": "text"
      },
      "source": [
        "# Diesel"
      ]
    },
    {
      "cell_type": "code",
      "metadata": {
        "id": "3J2Umg-NIYag",
        "colab_type": "code",
        "outputId": "a94a0b5b-a39a-4e38-a071-2d4ec3db2ebe",
        "colab": {
          "base_uri": "https://localhost:8080/",
          "height": 170
        }
      },
      "source": [
        "!ls"
      ],
      "execution_count": 0,
      "outputs": [
        {
          "output_type": "stream",
          "text": [
            " 1_14_feb_bill.xlsx\n",
            " 11_mar_to_5_apr.xlsx\n",
            "'16 sept to 1 oct bill8.xlsx'\n",
            "'16 sept to 30 sept bill8 2.xlsx'\n",
            "'kansepur bill2.xlsx'\n",
            " kansepur_bill3.xlsx\n",
            " kansepur_bill4.xlsx\n",
            "'kansepur flyash bill 10 aug to 15 sept bill7.xlsx'\n",
            " kansepur_soil_bill.xlsx\n"
          ],
          "name": "stdout"
        }
      ]
    },
    {
      "cell_type": "code",
      "metadata": {
        "id": "O5znZR4bJ8Ri",
        "colab_type": "code",
        "outputId": "fdbfadd9-03d1-46ae-f65d-7f261add1b4f",
        "colab": {
          "base_uri": "https://localhost:8080/",
          "height": 204
        }
      },
      "source": [
        "diesel = pd.read_excel('16 sept to 1 oct bill8.xlsx', 'Diesel')\n",
        "diesel.head()"
      ],
      "execution_count": 0,
      "outputs": [
        {
          "output_type": "execute_result",
          "data": {
            "text/html": [
              "<div>\n",
              "<style scoped>\n",
              "    .dataframe tbody tr th:only-of-type {\n",
              "        vertical-align: middle;\n",
              "    }\n",
              "\n",
              "    .dataframe tbody tr th {\n",
              "        vertical-align: top;\n",
              "    }\n",
              "\n",
              "    .dataframe thead th {\n",
              "        text-align: right;\n",
              "    }\n",
              "</style>\n",
              "<table border=\"1\" class=\"dataframe\">\n",
              "  <thead>\n",
              "    <tr style=\"text-align: right;\">\n",
              "      <th></th>\n",
              "      <th>Date</th>\n",
              "      <th>Name</th>\n",
              "      <th>Diesel</th>\n",
              "      <th>Cash</th>\n",
              "    </tr>\n",
              "  </thead>\n",
              "  <tbody>\n",
              "    <tr>\n",
              "      <th>0</th>\n",
              "      <td>2019-09-16</td>\n",
              "      <td>khurseed</td>\n",
              "      <td>2000</td>\n",
              "      <td>NaN</td>\n",
              "    </tr>\n",
              "    <tr>\n",
              "      <th>1</th>\n",
              "      <td>NaT</td>\n",
              "      <td>bhura</td>\n",
              "      <td>2000</td>\n",
              "      <td>NaN</td>\n",
              "    </tr>\n",
              "    <tr>\n",
              "      <th>2</th>\n",
              "      <td>NaT</td>\n",
              "      <td>julfan</td>\n",
              "      <td>2000</td>\n",
              "      <td>500.0</td>\n",
              "    </tr>\n",
              "    <tr>\n",
              "      <th>3</th>\n",
              "      <td>NaT</td>\n",
              "      <td>gulfam</td>\n",
              "      <td>2000</td>\n",
              "      <td>NaN</td>\n",
              "    </tr>\n",
              "    <tr>\n",
              "      <th>4</th>\n",
              "      <td>NaT</td>\n",
              "      <td>jabir</td>\n",
              "      <td>2000</td>\n",
              "      <td>NaN</td>\n",
              "    </tr>\n",
              "  </tbody>\n",
              "</table>\n",
              "</div>"
            ],
            "text/plain": [
              "        Date      Name  Diesel   Cash\n",
              "0 2019-09-16  khurseed    2000    NaN\n",
              "1        NaT     bhura    2000    NaN\n",
              "2        NaT    julfan    2000  500.0\n",
              "3        NaT    gulfam    2000    NaN\n",
              "4        NaT     jabir    2000    NaN"
            ]
          },
          "metadata": {
            "tags": []
          },
          "execution_count": 31
        }
      ]
    },
    {
      "cell_type": "code",
      "metadata": {
        "id": "bCZ5Rz1_IfVw",
        "colab_type": "code",
        "outputId": "b4b662d7-a619-4c80-cb8b-8444687064c0",
        "colab": {
          "base_uri": "https://localhost:8080/",
          "height": 142
        }
      },
      "source": [
        "diesel.tail(3)"
      ],
      "execution_count": 0,
      "outputs": [
        {
          "output_type": "execute_result",
          "data": {
            "text/html": [
              "<div>\n",
              "<style scoped>\n",
              "    .dataframe tbody tr th:only-of-type {\n",
              "        vertical-align: middle;\n",
              "    }\n",
              "\n",
              "    .dataframe tbody tr th {\n",
              "        vertical-align: top;\n",
              "    }\n",
              "\n",
              "    .dataframe thead th {\n",
              "        text-align: right;\n",
              "    }\n",
              "</style>\n",
              "<table border=\"1\" class=\"dataframe\">\n",
              "  <thead>\n",
              "    <tr style=\"text-align: right;\">\n",
              "      <th></th>\n",
              "      <th>Date</th>\n",
              "      <th>Name</th>\n",
              "      <th>Diesel</th>\n",
              "      <th>Cash</th>\n",
              "    </tr>\n",
              "  </thead>\n",
              "  <tbody>\n",
              "    <tr>\n",
              "      <th>129</th>\n",
              "      <td>NaT</td>\n",
              "      <td>khurseed</td>\n",
              "      <td>0</td>\n",
              "      <td>200.0</td>\n",
              "    </tr>\n",
              "    <tr>\n",
              "      <th>130</th>\n",
              "      <td>NaT</td>\n",
              "      <td>mujahid</td>\n",
              "      <td>0</td>\n",
              "      <td>1000.0</td>\n",
              "    </tr>\n",
              "    <tr>\n",
              "      <th>131</th>\n",
              "      <td>NaT</td>\n",
              "      <td>NaN</td>\n",
              "      <td>220300</td>\n",
              "      <td>49670.0</td>\n",
              "    </tr>\n",
              "  </tbody>\n",
              "</table>\n",
              "</div>"
            ],
            "text/plain": [
              "    Date      Name  Diesel     Cash\n",
              "129  NaT  khurseed       0    200.0\n",
              "130  NaT   mujahid       0   1000.0\n",
              "131  NaT       NaN  220300  49670.0"
            ]
          },
          "metadata": {
            "tags": []
          },
          "execution_count": 32
        }
      ]
    },
    {
      "cell_type": "code",
      "metadata": {
        "id": "t5VeoCeiIhnC",
        "colab_type": "code",
        "outputId": "93e7ef26-43c5-4b1a-f006-d7065dc34eb4",
        "colab": {
          "base_uri": "https://localhost:8080/",
          "height": 111
        }
      },
      "source": [
        "diesel = diesel[:-1]\n",
        "diesel.tail(2)"
      ],
      "execution_count": 0,
      "outputs": [
        {
          "output_type": "execute_result",
          "data": {
            "text/html": [
              "<div>\n",
              "<style scoped>\n",
              "    .dataframe tbody tr th:only-of-type {\n",
              "        vertical-align: middle;\n",
              "    }\n",
              "\n",
              "    .dataframe tbody tr th {\n",
              "        vertical-align: top;\n",
              "    }\n",
              "\n",
              "    .dataframe thead th {\n",
              "        text-align: right;\n",
              "    }\n",
              "</style>\n",
              "<table border=\"1\" class=\"dataframe\">\n",
              "  <thead>\n",
              "    <tr style=\"text-align: right;\">\n",
              "      <th></th>\n",
              "      <th>Date</th>\n",
              "      <th>Name</th>\n",
              "      <th>Diesel</th>\n",
              "      <th>Cash</th>\n",
              "    </tr>\n",
              "  </thead>\n",
              "  <tbody>\n",
              "    <tr>\n",
              "      <th>129</th>\n",
              "      <td>NaT</td>\n",
              "      <td>khurseed</td>\n",
              "      <td>0</td>\n",
              "      <td>200.0</td>\n",
              "    </tr>\n",
              "    <tr>\n",
              "      <th>130</th>\n",
              "      <td>NaT</td>\n",
              "      <td>mujahid</td>\n",
              "      <td>0</td>\n",
              "      <td>1000.0</td>\n",
              "    </tr>\n",
              "  </tbody>\n",
              "</table>\n",
              "</div>"
            ],
            "text/plain": [
              "    Date      Name  Diesel    Cash\n",
              "129  NaT  khurseed       0   200.0\n",
              "130  NaT   mujahid       0  1000.0"
            ]
          },
          "metadata": {
            "tags": []
          },
          "execution_count": 33
        }
      ]
    },
    {
      "cell_type": "code",
      "metadata": {
        "id": "aNms0DItMFZ8",
        "colab_type": "code",
        "outputId": "84466f4b-aef8-4d63-d37a-73edb8b9bfbe",
        "colab": {
          "base_uri": "https://localhost:8080/",
          "height": 34
        }
      },
      "source": [
        "diesel.shape"
      ],
      "execution_count": 0,
      "outputs": [
        {
          "output_type": "execute_result",
          "data": {
            "text/plain": [
              "(131, 4)"
            ]
          },
          "metadata": {
            "tags": []
          },
          "execution_count": 34
        }
      ]
    },
    {
      "cell_type": "code",
      "metadata": {
        "id": "FtBbwdi6GaOe",
        "colab_type": "code",
        "outputId": "ac028a63-419a-4696-e27a-ba0793302d1a",
        "colab": {
          "base_uri": "https://localhost:8080/",
          "height": 153
        }
      },
      "source": [
        "diesel.Date.unique()"
      ],
      "execution_count": 0,
      "outputs": [
        {
          "output_type": "execute_result",
          "data": {
            "text/plain": [
              "array(['2019-09-16T00:00:00.000000000',                           'NaT',\n",
              "       '2019-09-17T00:00:00.000000000', '2019-09-19T00:00:00.000000000',\n",
              "       '2019-09-20T00:00:00.000000000', '2019-09-21T00:00:00.000000000',\n",
              "       '2019-09-23T00:00:00.000000000', '2019-09-24T00:00:00.000000000',\n",
              "       '2019-09-25T00:00:00.000000000', '2019-09-26T00:00:00.000000000',\n",
              "       '2019-09-27T00:00:00.000000000', '2019-09-28T00:00:00.000000000',\n",
              "       '2019-09-29T00:00:00.000000000', '2019-10-01T00:00:00.000000000'],\n",
              "      dtype='datetime64[ns]')"
            ]
          },
          "metadata": {
            "tags": []
          },
          "execution_count": 35
        }
      ]
    },
    {
      "cell_type": "code",
      "metadata": {
        "id": "n6yM4M_2GZJH",
        "colab_type": "code",
        "colab": {}
      },
      "source": [
        "for n, i in enumerate(diesel.Date.values):\n",
        "  if not pd.isnull(i):\n",
        "    date = i\n",
        "  else:\n",
        "    diesel.iloc[n, 0] = date"
      ],
      "execution_count": 0,
      "outputs": []
    },
    {
      "cell_type": "code",
      "metadata": {
        "id": "4iSR7MyjHAQf",
        "colab_type": "code",
        "outputId": "d7f826d4-d71d-4f9d-9a23-e7e8a60a9e99",
        "colab": {
          "base_uri": "https://localhost:8080/",
          "height": 204
        }
      },
      "source": [
        "diesel.head()"
      ],
      "execution_count": 0,
      "outputs": [
        {
          "output_type": "execute_result",
          "data": {
            "text/html": [
              "<div>\n",
              "<style scoped>\n",
              "    .dataframe tbody tr th:only-of-type {\n",
              "        vertical-align: middle;\n",
              "    }\n",
              "\n",
              "    .dataframe tbody tr th {\n",
              "        vertical-align: top;\n",
              "    }\n",
              "\n",
              "    .dataframe thead th {\n",
              "        text-align: right;\n",
              "    }\n",
              "</style>\n",
              "<table border=\"1\" class=\"dataframe\">\n",
              "  <thead>\n",
              "    <tr style=\"text-align: right;\">\n",
              "      <th></th>\n",
              "      <th>Date</th>\n",
              "      <th>Name</th>\n",
              "      <th>Diesel</th>\n",
              "      <th>Cash</th>\n",
              "    </tr>\n",
              "  </thead>\n",
              "  <tbody>\n",
              "    <tr>\n",
              "      <th>0</th>\n",
              "      <td>2019-09-16</td>\n",
              "      <td>khurseed</td>\n",
              "      <td>2000</td>\n",
              "      <td>NaN</td>\n",
              "    </tr>\n",
              "    <tr>\n",
              "      <th>1</th>\n",
              "      <td>2019-09-16</td>\n",
              "      <td>bhura</td>\n",
              "      <td>2000</td>\n",
              "      <td>NaN</td>\n",
              "    </tr>\n",
              "    <tr>\n",
              "      <th>2</th>\n",
              "      <td>2019-09-16</td>\n",
              "      <td>julfan</td>\n",
              "      <td>2000</td>\n",
              "      <td>500.0</td>\n",
              "    </tr>\n",
              "    <tr>\n",
              "      <th>3</th>\n",
              "      <td>2019-09-16</td>\n",
              "      <td>gulfam</td>\n",
              "      <td>2000</td>\n",
              "      <td>NaN</td>\n",
              "    </tr>\n",
              "    <tr>\n",
              "      <th>4</th>\n",
              "      <td>2019-09-16</td>\n",
              "      <td>jabir</td>\n",
              "      <td>2000</td>\n",
              "      <td>NaN</td>\n",
              "    </tr>\n",
              "  </tbody>\n",
              "</table>\n",
              "</div>"
            ],
            "text/plain": [
              "        Date      Name  Diesel   Cash\n",
              "0 2019-09-16  khurseed    2000    NaN\n",
              "1 2019-09-16     bhura    2000    NaN\n",
              "2 2019-09-16    julfan    2000  500.0\n",
              "3 2019-09-16    gulfam    2000    NaN\n",
              "4 2019-09-16     jabir    2000    NaN"
            ]
          },
          "metadata": {
            "tags": []
          },
          "execution_count": 37
        }
      ]
    },
    {
      "cell_type": "code",
      "metadata": {
        "id": "J-BPdgZ5sXrV",
        "colab_type": "code",
        "outputId": "e1c93fc4-9d33-4b62-9752-cfe6a3382157",
        "colab": {
          "base_uri": "https://localhost:8080/",
          "height": 204
        }
      },
      "source": [
        "diesel.tail()"
      ],
      "execution_count": 0,
      "outputs": [
        {
          "output_type": "execute_result",
          "data": {
            "text/html": [
              "<div>\n",
              "<style scoped>\n",
              "    .dataframe tbody tr th:only-of-type {\n",
              "        vertical-align: middle;\n",
              "    }\n",
              "\n",
              "    .dataframe tbody tr th {\n",
              "        vertical-align: top;\n",
              "    }\n",
              "\n",
              "    .dataframe thead th {\n",
              "        text-align: right;\n",
              "    }\n",
              "</style>\n",
              "<table border=\"1\" class=\"dataframe\">\n",
              "  <thead>\n",
              "    <tr style=\"text-align: right;\">\n",
              "      <th></th>\n",
              "      <th>Date</th>\n",
              "      <th>Name</th>\n",
              "      <th>Diesel</th>\n",
              "      <th>Cash</th>\n",
              "    </tr>\n",
              "  </thead>\n",
              "  <tbody>\n",
              "    <tr>\n",
              "      <th>126</th>\n",
              "      <td>2019-09-29</td>\n",
              "      <td>car</td>\n",
              "      <td>500</td>\n",
              "      <td>NaN</td>\n",
              "    </tr>\n",
              "    <tr>\n",
              "      <th>127</th>\n",
              "      <td>2019-09-29</td>\n",
              "      <td>total</td>\n",
              "      <td>16000</td>\n",
              "      <td>NaN</td>\n",
              "    </tr>\n",
              "    <tr>\n",
              "      <th>128</th>\n",
              "      <td>2019-10-01</td>\n",
              "      <td>vakil jcb</td>\n",
              "      <td>0</td>\n",
              "      <td>5000.0</td>\n",
              "    </tr>\n",
              "    <tr>\n",
              "      <th>129</th>\n",
              "      <td>2019-10-01</td>\n",
              "      <td>khurseed</td>\n",
              "      <td>0</td>\n",
              "      <td>200.0</td>\n",
              "    </tr>\n",
              "    <tr>\n",
              "      <th>130</th>\n",
              "      <td>2019-10-01</td>\n",
              "      <td>mujahid</td>\n",
              "      <td>0</td>\n",
              "      <td>1000.0</td>\n",
              "    </tr>\n",
              "  </tbody>\n",
              "</table>\n",
              "</div>"
            ],
            "text/plain": [
              "          Date       Name  Diesel    Cash\n",
              "126 2019-09-29        car     500     NaN\n",
              "127 2019-09-29      total   16000     NaN\n",
              "128 2019-10-01  vakil jcb       0  5000.0\n",
              "129 2019-10-01   khurseed       0   200.0\n",
              "130 2019-10-01    mujahid       0  1000.0"
            ]
          },
          "metadata": {
            "tags": []
          },
          "execution_count": 38
        }
      ]
    },
    {
      "cell_type": "code",
      "metadata": {
        "id": "bnKzgxLLscjJ",
        "colab_type": "code",
        "outputId": "4776570a-f708-45b8-c077-90f33c38deca",
        "colab": {
          "base_uri": "https://localhost:8080/",
          "height": 111
        }
      },
      "source": [
        "diesel = diesel[:-1]\n",
        "diesel.tail(2)"
      ],
      "execution_count": 0,
      "outputs": [
        {
          "output_type": "execute_result",
          "data": {
            "text/html": [
              "<div>\n",
              "<style scoped>\n",
              "    .dataframe tbody tr th:only-of-type {\n",
              "        vertical-align: middle;\n",
              "    }\n",
              "\n",
              "    .dataframe tbody tr th {\n",
              "        vertical-align: top;\n",
              "    }\n",
              "\n",
              "    .dataframe thead th {\n",
              "        text-align: right;\n",
              "    }\n",
              "</style>\n",
              "<table border=\"1\" class=\"dataframe\">\n",
              "  <thead>\n",
              "    <tr style=\"text-align: right;\">\n",
              "      <th></th>\n",
              "      <th>Date</th>\n",
              "      <th>Name</th>\n",
              "      <th>Diesel</th>\n",
              "      <th>Cash</th>\n",
              "    </tr>\n",
              "  </thead>\n",
              "  <tbody>\n",
              "    <tr>\n",
              "      <th>128</th>\n",
              "      <td>2019-10-01</td>\n",
              "      <td>vakil jcb</td>\n",
              "      <td>0</td>\n",
              "      <td>5000.0</td>\n",
              "    </tr>\n",
              "    <tr>\n",
              "      <th>129</th>\n",
              "      <td>2019-10-01</td>\n",
              "      <td>khurseed</td>\n",
              "      <td>0</td>\n",
              "      <td>200.0</td>\n",
              "    </tr>\n",
              "  </tbody>\n",
              "</table>\n",
              "</div>"
            ],
            "text/plain": [
              "          Date       Name  Diesel    Cash\n",
              "128 2019-10-01  vakil jcb       0  5000.0\n",
              "129 2019-10-01   khurseed       0   200.0"
            ]
          },
          "metadata": {
            "tags": []
          },
          "execution_count": 39
        }
      ]
    },
    {
      "cell_type": "markdown",
      "metadata": {
        "id": "-rLhXMKrHTRe",
        "colab_type": "text"
      },
      "source": [
        "# pivot table"
      ]
    },
    {
      "cell_type": "code",
      "metadata": {
        "id": "605hniozHVuB",
        "colab_type": "code",
        "outputId": "9144b616-f4a8-490c-9029-96734af82adf",
        "colab": {
          "base_uri": "https://localhost:8080/",
          "height": 765
        }
      },
      "source": [
        "pivot_diesel = diesel.pivot_table(index = 'Name', columns = 'Date', values = 'Diesel')\n",
        "pivot_diesel"
      ],
      "execution_count": 0,
      "outputs": [
        {
          "output_type": "execute_result",
          "data": {
            "text/html": [
              "<div>\n",
              "<style scoped>\n",
              "    .dataframe tbody tr th:only-of-type {\n",
              "        vertical-align: middle;\n",
              "    }\n",
              "\n",
              "    .dataframe tbody tr th {\n",
              "        vertical-align: top;\n",
              "    }\n",
              "\n",
              "    .dataframe thead th {\n",
              "        text-align: right;\n",
              "    }\n",
              "</style>\n",
              "<table border=\"1\" class=\"dataframe\">\n",
              "  <thead>\n",
              "    <tr style=\"text-align: right;\">\n",
              "      <th>Date</th>\n",
              "      <th>2019-09-16 00:00:00</th>\n",
              "      <th>2019-09-17 00:00:00</th>\n",
              "      <th>2019-09-19 00:00:00</th>\n",
              "      <th>2019-09-20 00:00:00</th>\n",
              "      <th>2019-09-21 00:00:00</th>\n",
              "      <th>2019-09-23 00:00:00</th>\n",
              "      <th>2019-09-24 00:00:00</th>\n",
              "      <th>2019-09-25 00:00:00</th>\n",
              "      <th>2019-09-26 00:00:00</th>\n",
              "      <th>2019-09-27 00:00:00</th>\n",
              "      <th>2019-09-28 00:00:00</th>\n",
              "      <th>2019-09-29 00:00:00</th>\n",
              "      <th>2019-10-01 00:00:00</th>\n",
              "    </tr>\n",
              "    <tr>\n",
              "      <th>Name</th>\n",
              "      <th></th>\n",
              "      <th></th>\n",
              "      <th></th>\n",
              "      <th></th>\n",
              "      <th></th>\n",
              "      <th></th>\n",
              "      <th></th>\n",
              "      <th></th>\n",
              "      <th></th>\n",
              "      <th></th>\n",
              "      <th></th>\n",
              "      <th></th>\n",
              "      <th></th>\n",
              "    </tr>\n",
              "  </thead>\n",
              "  <tbody>\n",
              "    <tr>\n",
              "      <th>akram</th>\n",
              "      <td>NaN</td>\n",
              "      <td>2000.0</td>\n",
              "      <td>NaN</td>\n",
              "      <td>0.0</td>\n",
              "      <td>NaN</td>\n",
              "      <td>0.0</td>\n",
              "      <td>2000.0</td>\n",
              "      <td>0.0</td>\n",
              "      <td>NaN</td>\n",
              "      <td>NaN</td>\n",
              "      <td>NaN</td>\n",
              "      <td>NaN</td>\n",
              "      <td>NaN</td>\n",
              "    </tr>\n",
              "    <tr>\n",
              "      <th>amjad</th>\n",
              "      <td>NaN</td>\n",
              "      <td>NaN</td>\n",
              "      <td>NaN</td>\n",
              "      <td>1000.0</td>\n",
              "      <td>1000.0</td>\n",
              "      <td>NaN</td>\n",
              "      <td>NaN</td>\n",
              "      <td>2000.0</td>\n",
              "      <td>2000.0</td>\n",
              "      <td>2000.0</td>\n",
              "      <td>NaN</td>\n",
              "      <td>2000.0</td>\n",
              "      <td>NaN</td>\n",
              "    </tr>\n",
              "    <tr>\n",
              "      <th>bhura</th>\n",
              "      <td>2000.0</td>\n",
              "      <td>2000.0</td>\n",
              "      <td>2000.0</td>\n",
              "      <td>2000.0</td>\n",
              "      <td>0.0</td>\n",
              "      <td>0.0</td>\n",
              "      <td>NaN</td>\n",
              "      <td>NaN</td>\n",
              "      <td>NaN</td>\n",
              "      <td>2000.0</td>\n",
              "      <td>2000.0</td>\n",
              "      <td>2000.0</td>\n",
              "      <td>NaN</td>\n",
              "    </tr>\n",
              "    <tr>\n",
              "      <th>car</th>\n",
              "      <td>NaN</td>\n",
              "      <td>NaN</td>\n",
              "      <td>NaN</td>\n",
              "      <td>NaN</td>\n",
              "      <td>NaN</td>\n",
              "      <td>NaN</td>\n",
              "      <td>NaN</td>\n",
              "      <td>NaN</td>\n",
              "      <td>NaN</td>\n",
              "      <td>NaN</td>\n",
              "      <td>500.0</td>\n",
              "      <td>500.0</td>\n",
              "      <td>NaN</td>\n",
              "    </tr>\n",
              "    <tr>\n",
              "      <th>cash</th>\n",
              "      <td>4000.0</td>\n",
              "      <td>4000.0</td>\n",
              "      <td>4000.0</td>\n",
              "      <td>3700.0</td>\n",
              "      <td>4500.0</td>\n",
              "      <td>NaN</td>\n",
              "      <td>0.0</td>\n",
              "      <td>7200.0</td>\n",
              "      <td>8000.0</td>\n",
              "      <td>NaN</td>\n",
              "      <td>3000.0</td>\n",
              "      <td>5500.0</td>\n",
              "      <td>NaN</td>\n",
              "    </tr>\n",
              "    <tr>\n",
              "      <th>dinesh</th>\n",
              "      <td>0.0</td>\n",
              "      <td>NaN</td>\n",
              "      <td>NaN</td>\n",
              "      <td>NaN</td>\n",
              "      <td>NaN</td>\n",
              "      <td>0.0</td>\n",
              "      <td>2000.0</td>\n",
              "      <td>2000.0</td>\n",
              "      <td>NaN</td>\n",
              "      <td>2000.0</td>\n",
              "      <td>NaN</td>\n",
              "      <td>NaN</td>\n",
              "      <td>NaN</td>\n",
              "    </tr>\n",
              "    <tr>\n",
              "      <th>gulfam</th>\n",
              "      <td>2000.0</td>\n",
              "      <td>NaN</td>\n",
              "      <td>NaN</td>\n",
              "      <td>2000.0</td>\n",
              "      <td>1000.0</td>\n",
              "      <td>NaN</td>\n",
              "      <td>2000.0</td>\n",
              "      <td>2000.0</td>\n",
              "      <td>2000.0</td>\n",
              "      <td>NaN</td>\n",
              "      <td>2000.0</td>\n",
              "      <td>NaN</td>\n",
              "      <td>NaN</td>\n",
              "    </tr>\n",
              "    <tr>\n",
              "      <th>hasan</th>\n",
              "      <td>NaN</td>\n",
              "      <td>NaN</td>\n",
              "      <td>NaN</td>\n",
              "      <td>NaN</td>\n",
              "      <td>NaN</td>\n",
              "      <td>NaN</td>\n",
              "      <td>NaN</td>\n",
              "      <td>2000.0</td>\n",
              "      <td>2000.0</td>\n",
              "      <td>NaN</td>\n",
              "      <td>2000.0</td>\n",
              "      <td>2000.0</td>\n",
              "      <td>NaN</td>\n",
              "    </tr>\n",
              "    <tr>\n",
              "      <th>imran</th>\n",
              "      <td>0.0</td>\n",
              "      <td>2000.0</td>\n",
              "      <td>1000.0</td>\n",
              "      <td>2000.0</td>\n",
              "      <td>1000.0</td>\n",
              "      <td>NaN</td>\n",
              "      <td>2000.0</td>\n",
              "      <td>2000.0</td>\n",
              "      <td>2000.0</td>\n",
              "      <td>2000.0</td>\n",
              "      <td>2000.0</td>\n",
              "      <td>2000.0</td>\n",
              "      <td>NaN</td>\n",
              "    </tr>\n",
              "    <tr>\n",
              "      <th>jabir</th>\n",
              "      <td>2000.0</td>\n",
              "      <td>NaN</td>\n",
              "      <td>NaN</td>\n",
              "      <td>2000.0</td>\n",
              "      <td>1000.0</td>\n",
              "      <td>NaN</td>\n",
              "      <td>2000.0</td>\n",
              "      <td>2000.0</td>\n",
              "      <td>2000.0</td>\n",
              "      <td>NaN</td>\n",
              "      <td>2000.0</td>\n",
              "      <td>NaN</td>\n",
              "      <td>NaN</td>\n",
              "    </tr>\n",
              "    <tr>\n",
              "      <th>julfan</th>\n",
              "      <td>2000.0</td>\n",
              "      <td>NaN</td>\n",
              "      <td>2000.0</td>\n",
              "      <td>1900.0</td>\n",
              "      <td>0.0</td>\n",
              "      <td>NaN</td>\n",
              "      <td>2000.0</td>\n",
              "      <td>2000.0</td>\n",
              "      <td>2000.0</td>\n",
              "      <td>0.0</td>\n",
              "      <td>NaN</td>\n",
              "      <td>NaN</td>\n",
              "      <td>NaN</td>\n",
              "    </tr>\n",
              "    <tr>\n",
              "      <th>khan</th>\n",
              "      <td>2000.0</td>\n",
              "      <td>NaN</td>\n",
              "      <td>NaN</td>\n",
              "      <td>NaN</td>\n",
              "      <td>NaN</td>\n",
              "      <td>NaN</td>\n",
              "      <td>NaN</td>\n",
              "      <td>NaN</td>\n",
              "      <td>NaN</td>\n",
              "      <td>NaN</td>\n",
              "      <td>NaN</td>\n",
              "      <td>NaN</td>\n",
              "      <td>NaN</td>\n",
              "    </tr>\n",
              "    <tr>\n",
              "      <th>khurseed</th>\n",
              "      <td>2000.0</td>\n",
              "      <td>2000.0</td>\n",
              "      <td>0.0</td>\n",
              "      <td>2000.0</td>\n",
              "      <td>1000.0</td>\n",
              "      <td>NaN</td>\n",
              "      <td>2200.0</td>\n",
              "      <td>2000.0</td>\n",
              "      <td>NaN</td>\n",
              "      <td>2000.0</td>\n",
              "      <td>2000.0</td>\n",
              "      <td>2000.0</td>\n",
              "      <td>0.0</td>\n",
              "    </tr>\n",
              "    <tr>\n",
              "      <th>mujahid</th>\n",
              "      <td>2000.0</td>\n",
              "      <td>NaN</td>\n",
              "      <td>NaN</td>\n",
              "      <td>NaN</td>\n",
              "      <td>NaN</td>\n",
              "      <td>NaN</td>\n",
              "      <td>NaN</td>\n",
              "      <td>NaN</td>\n",
              "      <td>NaN</td>\n",
              "      <td>NaN</td>\n",
              "      <td>NaN</td>\n",
              "      <td>NaN</td>\n",
              "      <td>NaN</td>\n",
              "    </tr>\n",
              "    <tr>\n",
              "      <th>mukarram</th>\n",
              "      <td>2000.0</td>\n",
              "      <td>NaN</td>\n",
              "      <td>NaN</td>\n",
              "      <td>2000.0</td>\n",
              "      <td>1000.0</td>\n",
              "      <td>NaN</td>\n",
              "      <td>NaN</td>\n",
              "      <td>NaN</td>\n",
              "      <td>NaN</td>\n",
              "      <td>NaN</td>\n",
              "      <td>NaN</td>\n",
              "      <td>NaN</td>\n",
              "      <td>NaN</td>\n",
              "    </tr>\n",
              "    <tr>\n",
              "      <th>rasid</th>\n",
              "      <td>NaN</td>\n",
              "      <td>2000.0</td>\n",
              "      <td>NaN</td>\n",
              "      <td>2000.0</td>\n",
              "      <td>NaN</td>\n",
              "      <td>NaN</td>\n",
              "      <td>2000.0</td>\n",
              "      <td>2000.0</td>\n",
              "      <td>2000.0</td>\n",
              "      <td>2000.0</td>\n",
              "      <td>2000.0</td>\n",
              "      <td>NaN</td>\n",
              "      <td>NaN</td>\n",
              "    </tr>\n",
              "    <tr>\n",
              "      <th>sabir jcb</th>\n",
              "      <td>NaN</td>\n",
              "      <td>3000.0</td>\n",
              "      <td>NaN</td>\n",
              "      <td>NaN</td>\n",
              "      <td>NaN</td>\n",
              "      <td>NaN</td>\n",
              "      <td>NaN</td>\n",
              "      <td>NaN</td>\n",
              "      <td>500.0</td>\n",
              "      <td>NaN</td>\n",
              "      <td>NaN</td>\n",
              "      <td>NaN</td>\n",
              "      <td>NaN</td>\n",
              "    </tr>\n",
              "    <tr>\n",
              "      <th>saddam</th>\n",
              "      <td>NaN</td>\n",
              "      <td>2000.0</td>\n",
              "      <td>NaN</td>\n",
              "      <td>2000.0</td>\n",
              "      <td>1000.0</td>\n",
              "      <td>NaN</td>\n",
              "      <td>2000.0</td>\n",
              "      <td>1000.0</td>\n",
              "      <td>2000.0</td>\n",
              "      <td>2000.0</td>\n",
              "      <td>NaN</td>\n",
              "      <td>NaN</td>\n",
              "      <td>NaN</td>\n",
              "    </tr>\n",
              "    <tr>\n",
              "      <th>total</th>\n",
              "      <td>22000.0</td>\n",
              "      <td>19000.0</td>\n",
              "      <td>12000.0</td>\n",
              "      <td>25600.0</td>\n",
              "      <td>11500.0</td>\n",
              "      <td>NaN</td>\n",
              "      <td>23000.0</td>\n",
              "      <td>29200.0</td>\n",
              "      <td>27500.0</td>\n",
              "      <td>17000.0</td>\n",
              "      <td>17500.0</td>\n",
              "      <td>16000.0</td>\n",
              "      <td>NaN</td>\n",
              "    </tr>\n",
              "    <tr>\n",
              "      <th>vakil jcb</th>\n",
              "      <td>NaN</td>\n",
              "      <td>0.0</td>\n",
              "      <td>3000.0</td>\n",
              "      <td>3000.0</td>\n",
              "      <td>0.0</td>\n",
              "      <td>NaN</td>\n",
              "      <td>4800.0</td>\n",
              "      <td>3000.0</td>\n",
              "      <td>3000.0</td>\n",
              "      <td>3000.0</td>\n",
              "      <td>NaN</td>\n",
              "      <td>0.0</td>\n",
              "      <td>0.0</td>\n",
              "    </tr>\n",
              "    <tr>\n",
              "      <th>zishan</th>\n",
              "      <td>2000.0</td>\n",
              "      <td>0.0</td>\n",
              "      <td>NaN</td>\n",
              "      <td>NaN</td>\n",
              "      <td>NaN</td>\n",
              "      <td>NaN</td>\n",
              "      <td>NaN</td>\n",
              "      <td>NaN</td>\n",
              "      <td>NaN</td>\n",
              "      <td>NaN</td>\n",
              "      <td>NaN</td>\n",
              "      <td>0.0</td>\n",
              "      <td>NaN</td>\n",
              "    </tr>\n",
              "  </tbody>\n",
              "</table>\n",
              "</div>"
            ],
            "text/plain": [
              "Date       2019-09-16  2019-09-17  ...  2019-09-29  2019-10-01\n",
              "Name                               ...                        \n",
              "akram             NaN      2000.0  ...         NaN         NaN\n",
              "amjad             NaN         NaN  ...      2000.0         NaN\n",
              "bhura          2000.0      2000.0  ...      2000.0         NaN\n",
              "car               NaN         NaN  ...       500.0         NaN\n",
              "cash           4000.0      4000.0  ...      5500.0         NaN\n",
              "dinesh            0.0         NaN  ...         NaN         NaN\n",
              "gulfam         2000.0         NaN  ...         NaN         NaN\n",
              "hasan             NaN         NaN  ...      2000.0         NaN\n",
              "imran             0.0      2000.0  ...      2000.0         NaN\n",
              "jabir          2000.0         NaN  ...         NaN         NaN\n",
              "julfan         2000.0         NaN  ...         NaN         NaN\n",
              "khan           2000.0         NaN  ...         NaN         NaN\n",
              "khurseed       2000.0      2000.0  ...      2000.0         0.0\n",
              "mujahid        2000.0         NaN  ...         NaN         NaN\n",
              "mukarram       2000.0         NaN  ...         NaN         NaN\n",
              "rasid             NaN      2000.0  ...         NaN         NaN\n",
              "sabir jcb         NaN      3000.0  ...         NaN         NaN\n",
              "saddam            NaN      2000.0  ...         NaN         NaN\n",
              "total         22000.0     19000.0  ...     16000.0         NaN\n",
              "vakil jcb         NaN         0.0  ...         0.0         0.0\n",
              "zishan         2000.0         0.0  ...         0.0         NaN\n",
              "\n",
              "[21 rows x 13 columns]"
            ]
          },
          "metadata": {
            "tags": []
          },
          "execution_count": 40
        }
      ]
    },
    {
      "cell_type": "code",
      "metadata": {
        "id": "Ok39L-T5snuB",
        "colab_type": "code",
        "outputId": "8e1e7ea0-25f8-4aff-d788-7be653c6bff7",
        "colab": {
          "base_uri": "https://localhost:8080/",
          "height": 455
        }
      },
      "source": [
        "pivot_cash = diesel.pivot_table(index = 'Name', columns = 'Date', values = 'Cash')\n",
        "pivot_cash"
      ],
      "execution_count": 0,
      "outputs": [
        {
          "output_type": "execute_result",
          "data": {
            "text/html": [
              "<div>\n",
              "<style scoped>\n",
              "    .dataframe tbody tr th:only-of-type {\n",
              "        vertical-align: middle;\n",
              "    }\n",
              "\n",
              "    .dataframe tbody tr th {\n",
              "        vertical-align: top;\n",
              "    }\n",
              "\n",
              "    .dataframe thead th {\n",
              "        text-align: right;\n",
              "    }\n",
              "</style>\n",
              "<table border=\"1\" class=\"dataframe\">\n",
              "  <thead>\n",
              "    <tr style=\"text-align: right;\">\n",
              "      <th>Date</th>\n",
              "      <th>2019-09-16 00:00:00</th>\n",
              "      <th>2019-09-17 00:00:00</th>\n",
              "      <th>2019-09-19 00:00:00</th>\n",
              "      <th>2019-09-20 00:00:00</th>\n",
              "      <th>2019-09-21 00:00:00</th>\n",
              "      <th>2019-09-23 00:00:00</th>\n",
              "      <th>2019-09-24 00:00:00</th>\n",
              "      <th>2019-09-25 00:00:00</th>\n",
              "      <th>2019-09-26 00:00:00</th>\n",
              "      <th>2019-09-27 00:00:00</th>\n",
              "      <th>2019-09-28 00:00:00</th>\n",
              "      <th>2019-09-29 00:00:00</th>\n",
              "      <th>2019-10-01 00:00:00</th>\n",
              "    </tr>\n",
              "    <tr>\n",
              "      <th>Name</th>\n",
              "      <th></th>\n",
              "      <th></th>\n",
              "      <th></th>\n",
              "      <th></th>\n",
              "      <th></th>\n",
              "      <th></th>\n",
              "      <th></th>\n",
              "      <th></th>\n",
              "      <th></th>\n",
              "      <th></th>\n",
              "      <th></th>\n",
              "      <th></th>\n",
              "      <th></th>\n",
              "    </tr>\n",
              "  </thead>\n",
              "  <tbody>\n",
              "    <tr>\n",
              "      <th>akram</th>\n",
              "      <td>NaN</td>\n",
              "      <td>200.0</td>\n",
              "      <td>NaN</td>\n",
              "      <td>150.0</td>\n",
              "      <td>NaN</td>\n",
              "      <td>1250.0</td>\n",
              "      <td>NaN</td>\n",
              "      <td>200.0</td>\n",
              "      <td>NaN</td>\n",
              "      <td>NaN</td>\n",
              "      <td>NaN</td>\n",
              "      <td>NaN</td>\n",
              "      <td>NaN</td>\n",
              "    </tr>\n",
              "    <tr>\n",
              "      <th>bhura</th>\n",
              "      <td>NaN</td>\n",
              "      <td>NaN</td>\n",
              "      <td>100.0</td>\n",
              "      <td>NaN</td>\n",
              "      <td>500.0</td>\n",
              "      <td>100.0</td>\n",
              "      <td>NaN</td>\n",
              "      <td>NaN</td>\n",
              "      <td>NaN</td>\n",
              "      <td>NaN</td>\n",
              "      <td>NaN</td>\n",
              "      <td>170.0</td>\n",
              "      <td>NaN</td>\n",
              "    </tr>\n",
              "    <tr>\n",
              "      <th>dinesh</th>\n",
              "      <td>300.0</td>\n",
              "      <td>NaN</td>\n",
              "      <td>NaN</td>\n",
              "      <td>NaN</td>\n",
              "      <td>NaN</td>\n",
              "      <td>1000.0</td>\n",
              "      <td>NaN</td>\n",
              "      <td>NaN</td>\n",
              "      <td>NaN</td>\n",
              "      <td>NaN</td>\n",
              "      <td>NaN</td>\n",
              "      <td>NaN</td>\n",
              "      <td>NaN</td>\n",
              "    </tr>\n",
              "    <tr>\n",
              "      <th>gulfam</th>\n",
              "      <td>NaN</td>\n",
              "      <td>NaN</td>\n",
              "      <td>NaN</td>\n",
              "      <td>500.0</td>\n",
              "      <td>NaN</td>\n",
              "      <td>NaN</td>\n",
              "      <td>600.0</td>\n",
              "      <td>NaN</td>\n",
              "      <td>1000.0</td>\n",
              "      <td>NaN</td>\n",
              "      <td>1000.0</td>\n",
              "      <td>NaN</td>\n",
              "      <td>NaN</td>\n",
              "    </tr>\n",
              "    <tr>\n",
              "      <th>imran</th>\n",
              "      <td>400.0</td>\n",
              "      <td>200.0</td>\n",
              "      <td>100.0</td>\n",
              "      <td>200.0</td>\n",
              "      <td>1000.0</td>\n",
              "      <td>NaN</td>\n",
              "      <td>NaN</td>\n",
              "      <td>NaN</td>\n",
              "      <td>500.0</td>\n",
              "      <td>NaN</td>\n",
              "      <td>NaN</td>\n",
              "      <td>NaN</td>\n",
              "      <td>NaN</td>\n",
              "    </tr>\n",
              "    <tr>\n",
              "      <th>jabir</th>\n",
              "      <td>NaN</td>\n",
              "      <td>NaN</td>\n",
              "      <td>NaN</td>\n",
              "      <td>NaN</td>\n",
              "      <td>NaN</td>\n",
              "      <td>NaN</td>\n",
              "      <td>NaN</td>\n",
              "      <td>1000.0</td>\n",
              "      <td>NaN</td>\n",
              "      <td>NaN</td>\n",
              "      <td>NaN</td>\n",
              "      <td>NaN</td>\n",
              "      <td>NaN</td>\n",
              "    </tr>\n",
              "    <tr>\n",
              "      <th>julfan</th>\n",
              "      <td>500.0</td>\n",
              "      <td>NaN</td>\n",
              "      <td>6000.0</td>\n",
              "      <td>NaN</td>\n",
              "      <td>200.0</td>\n",
              "      <td>NaN</td>\n",
              "      <td>NaN</td>\n",
              "      <td>NaN</td>\n",
              "      <td>200.0</td>\n",
              "      <td>3000.0</td>\n",
              "      <td>NaN</td>\n",
              "      <td>NaN</td>\n",
              "      <td>NaN</td>\n",
              "    </tr>\n",
              "    <tr>\n",
              "      <th>khurseed</th>\n",
              "      <td>NaN</td>\n",
              "      <td>500.0</td>\n",
              "      <td>13000.0</td>\n",
              "      <td>200.0</td>\n",
              "      <td>NaN</td>\n",
              "      <td>NaN</td>\n",
              "      <td>NaN</td>\n",
              "      <td>NaN</td>\n",
              "      <td>NaN</td>\n",
              "      <td>NaN</td>\n",
              "      <td>NaN</td>\n",
              "      <td>NaN</td>\n",
              "      <td>200.0</td>\n",
              "    </tr>\n",
              "    <tr>\n",
              "      <th>saddam</th>\n",
              "      <td>NaN</td>\n",
              "      <td>NaN</td>\n",
              "      <td>NaN</td>\n",
              "      <td>NaN</td>\n",
              "      <td>NaN</td>\n",
              "      <td>NaN</td>\n",
              "      <td>NaN</td>\n",
              "      <td>NaN</td>\n",
              "      <td>500.0</td>\n",
              "      <td>NaN</td>\n",
              "      <td>NaN</td>\n",
              "      <td>NaN</td>\n",
              "      <td>NaN</td>\n",
              "    </tr>\n",
              "    <tr>\n",
              "      <th>vakil jcb</th>\n",
              "      <td>NaN</td>\n",
              "      <td>1000.0</td>\n",
              "      <td>1000.0</td>\n",
              "      <td>NaN</td>\n",
              "      <td>3000.0</td>\n",
              "      <td>NaN</td>\n",
              "      <td>1900.0</td>\n",
              "      <td>NaN</td>\n",
              "      <td>500.0</td>\n",
              "      <td>NaN</td>\n",
              "      <td>NaN</td>\n",
              "      <td>500.0</td>\n",
              "      <td>5000.0</td>\n",
              "    </tr>\n",
              "    <tr>\n",
              "      <th>zishan</th>\n",
              "      <td>NaN</td>\n",
              "      <td>500.0</td>\n",
              "      <td>NaN</td>\n",
              "      <td>NaN</td>\n",
              "      <td>NaN</td>\n",
              "      <td>NaN</td>\n",
              "      <td>NaN</td>\n",
              "      <td>NaN</td>\n",
              "      <td>NaN</td>\n",
              "      <td>NaN</td>\n",
              "      <td>NaN</td>\n",
              "      <td>500.0</td>\n",
              "      <td>NaN</td>\n",
              "    </tr>\n",
              "  </tbody>\n",
              "</table>\n",
              "</div>"
            ],
            "text/plain": [
              "Date       2019-09-16  2019-09-17  ...  2019-09-29  2019-10-01\n",
              "Name                               ...                        \n",
              "akram             NaN       200.0  ...         NaN         NaN\n",
              "bhura             NaN         NaN  ...       170.0         NaN\n",
              "dinesh          300.0         NaN  ...         NaN         NaN\n",
              "gulfam            NaN         NaN  ...         NaN         NaN\n",
              "imran           400.0       200.0  ...         NaN         NaN\n",
              "jabir             NaN         NaN  ...         NaN         NaN\n",
              "julfan          500.0         NaN  ...         NaN         NaN\n",
              "khurseed          NaN       500.0  ...         NaN       200.0\n",
              "saddam            NaN         NaN  ...         NaN         NaN\n",
              "vakil jcb         NaN      1000.0  ...       500.0      5000.0\n",
              "zishan            NaN       500.0  ...       500.0         NaN\n",
              "\n",
              "[11 rows x 13 columns]"
            ]
          },
          "metadata": {
            "tags": []
          },
          "execution_count": 41
        }
      ]
    },
    {
      "cell_type": "code",
      "metadata": {
        "id": "oB45FXvkLUo_",
        "colab_type": "code",
        "colab": {}
      },
      "source": [
        "pivot_diesel.fillna(value = 0, inplace = True)"
      ],
      "execution_count": 0,
      "outputs": []
    },
    {
      "cell_type": "code",
      "metadata": {
        "id": "s_ReF89Ts_aE",
        "colab_type": "code",
        "colab": {}
      },
      "source": [
        "pivot_cash.fillna(value = 0, inplace = True)"
      ],
      "execution_count": 0,
      "outputs": []
    },
    {
      "cell_type": "code",
      "metadata": {
        "id": "xEonX1pxLeBD",
        "colab_type": "code",
        "outputId": "8cb0289a-a291-4952-e301-b9b3d8e5bbfa",
        "colab": {
          "base_uri": "https://localhost:8080/",
          "height": 765
        }
      },
      "source": [
        "pivot_diesel"
      ],
      "execution_count": 0,
      "outputs": [
        {
          "output_type": "execute_result",
          "data": {
            "text/html": [
              "<div>\n",
              "<style scoped>\n",
              "    .dataframe tbody tr th:only-of-type {\n",
              "        vertical-align: middle;\n",
              "    }\n",
              "\n",
              "    .dataframe tbody tr th {\n",
              "        vertical-align: top;\n",
              "    }\n",
              "\n",
              "    .dataframe thead th {\n",
              "        text-align: right;\n",
              "    }\n",
              "</style>\n",
              "<table border=\"1\" class=\"dataframe\">\n",
              "  <thead>\n",
              "    <tr style=\"text-align: right;\">\n",
              "      <th>Date</th>\n",
              "      <th>2019-09-16 00:00:00</th>\n",
              "      <th>2019-09-17 00:00:00</th>\n",
              "      <th>2019-09-19 00:00:00</th>\n",
              "      <th>2019-09-20 00:00:00</th>\n",
              "      <th>2019-09-21 00:00:00</th>\n",
              "      <th>2019-09-23 00:00:00</th>\n",
              "      <th>2019-09-24 00:00:00</th>\n",
              "      <th>2019-09-25 00:00:00</th>\n",
              "      <th>2019-09-26 00:00:00</th>\n",
              "      <th>2019-09-27 00:00:00</th>\n",
              "      <th>2019-09-28 00:00:00</th>\n",
              "      <th>2019-09-29 00:00:00</th>\n",
              "      <th>2019-10-01 00:00:00</th>\n",
              "    </tr>\n",
              "    <tr>\n",
              "      <th>Name</th>\n",
              "      <th></th>\n",
              "      <th></th>\n",
              "      <th></th>\n",
              "      <th></th>\n",
              "      <th></th>\n",
              "      <th></th>\n",
              "      <th></th>\n",
              "      <th></th>\n",
              "      <th></th>\n",
              "      <th></th>\n",
              "      <th></th>\n",
              "      <th></th>\n",
              "      <th></th>\n",
              "    </tr>\n",
              "  </thead>\n",
              "  <tbody>\n",
              "    <tr>\n",
              "      <th>akram</th>\n",
              "      <td>0.0</td>\n",
              "      <td>2000.0</td>\n",
              "      <td>0.0</td>\n",
              "      <td>0.0</td>\n",
              "      <td>0.0</td>\n",
              "      <td>0.0</td>\n",
              "      <td>2000.0</td>\n",
              "      <td>0.0</td>\n",
              "      <td>0.0</td>\n",
              "      <td>0.0</td>\n",
              "      <td>0.0</td>\n",
              "      <td>0.0</td>\n",
              "      <td>0.0</td>\n",
              "    </tr>\n",
              "    <tr>\n",
              "      <th>amjad</th>\n",
              "      <td>0.0</td>\n",
              "      <td>0.0</td>\n",
              "      <td>0.0</td>\n",
              "      <td>1000.0</td>\n",
              "      <td>1000.0</td>\n",
              "      <td>0.0</td>\n",
              "      <td>0.0</td>\n",
              "      <td>2000.0</td>\n",
              "      <td>2000.0</td>\n",
              "      <td>2000.0</td>\n",
              "      <td>0.0</td>\n",
              "      <td>2000.0</td>\n",
              "      <td>0.0</td>\n",
              "    </tr>\n",
              "    <tr>\n",
              "      <th>bhura</th>\n",
              "      <td>2000.0</td>\n",
              "      <td>2000.0</td>\n",
              "      <td>2000.0</td>\n",
              "      <td>2000.0</td>\n",
              "      <td>0.0</td>\n",
              "      <td>0.0</td>\n",
              "      <td>0.0</td>\n",
              "      <td>0.0</td>\n",
              "      <td>0.0</td>\n",
              "      <td>2000.0</td>\n",
              "      <td>2000.0</td>\n",
              "      <td>2000.0</td>\n",
              "      <td>0.0</td>\n",
              "    </tr>\n",
              "    <tr>\n",
              "      <th>car</th>\n",
              "      <td>0.0</td>\n",
              "      <td>0.0</td>\n",
              "      <td>0.0</td>\n",
              "      <td>0.0</td>\n",
              "      <td>0.0</td>\n",
              "      <td>0.0</td>\n",
              "      <td>0.0</td>\n",
              "      <td>0.0</td>\n",
              "      <td>0.0</td>\n",
              "      <td>0.0</td>\n",
              "      <td>500.0</td>\n",
              "      <td>500.0</td>\n",
              "      <td>0.0</td>\n",
              "    </tr>\n",
              "    <tr>\n",
              "      <th>cash</th>\n",
              "      <td>4000.0</td>\n",
              "      <td>4000.0</td>\n",
              "      <td>4000.0</td>\n",
              "      <td>3700.0</td>\n",
              "      <td>4500.0</td>\n",
              "      <td>0.0</td>\n",
              "      <td>0.0</td>\n",
              "      <td>7200.0</td>\n",
              "      <td>8000.0</td>\n",
              "      <td>0.0</td>\n",
              "      <td>3000.0</td>\n",
              "      <td>5500.0</td>\n",
              "      <td>0.0</td>\n",
              "    </tr>\n",
              "    <tr>\n",
              "      <th>dinesh</th>\n",
              "      <td>0.0</td>\n",
              "      <td>0.0</td>\n",
              "      <td>0.0</td>\n",
              "      <td>0.0</td>\n",
              "      <td>0.0</td>\n",
              "      <td>0.0</td>\n",
              "      <td>2000.0</td>\n",
              "      <td>2000.0</td>\n",
              "      <td>0.0</td>\n",
              "      <td>2000.0</td>\n",
              "      <td>0.0</td>\n",
              "      <td>0.0</td>\n",
              "      <td>0.0</td>\n",
              "    </tr>\n",
              "    <tr>\n",
              "      <th>gulfam</th>\n",
              "      <td>2000.0</td>\n",
              "      <td>0.0</td>\n",
              "      <td>0.0</td>\n",
              "      <td>2000.0</td>\n",
              "      <td>1000.0</td>\n",
              "      <td>0.0</td>\n",
              "      <td>2000.0</td>\n",
              "      <td>2000.0</td>\n",
              "      <td>2000.0</td>\n",
              "      <td>0.0</td>\n",
              "      <td>2000.0</td>\n",
              "      <td>0.0</td>\n",
              "      <td>0.0</td>\n",
              "    </tr>\n",
              "    <tr>\n",
              "      <th>hasan</th>\n",
              "      <td>0.0</td>\n",
              "      <td>0.0</td>\n",
              "      <td>0.0</td>\n",
              "      <td>0.0</td>\n",
              "      <td>0.0</td>\n",
              "      <td>0.0</td>\n",
              "      <td>0.0</td>\n",
              "      <td>2000.0</td>\n",
              "      <td>2000.0</td>\n",
              "      <td>0.0</td>\n",
              "      <td>2000.0</td>\n",
              "      <td>2000.0</td>\n",
              "      <td>0.0</td>\n",
              "    </tr>\n",
              "    <tr>\n",
              "      <th>imran</th>\n",
              "      <td>0.0</td>\n",
              "      <td>2000.0</td>\n",
              "      <td>1000.0</td>\n",
              "      <td>2000.0</td>\n",
              "      <td>1000.0</td>\n",
              "      <td>0.0</td>\n",
              "      <td>2000.0</td>\n",
              "      <td>2000.0</td>\n",
              "      <td>2000.0</td>\n",
              "      <td>2000.0</td>\n",
              "      <td>2000.0</td>\n",
              "      <td>2000.0</td>\n",
              "      <td>0.0</td>\n",
              "    </tr>\n",
              "    <tr>\n",
              "      <th>jabir</th>\n",
              "      <td>2000.0</td>\n",
              "      <td>0.0</td>\n",
              "      <td>0.0</td>\n",
              "      <td>2000.0</td>\n",
              "      <td>1000.0</td>\n",
              "      <td>0.0</td>\n",
              "      <td>2000.0</td>\n",
              "      <td>2000.0</td>\n",
              "      <td>2000.0</td>\n",
              "      <td>0.0</td>\n",
              "      <td>2000.0</td>\n",
              "      <td>0.0</td>\n",
              "      <td>0.0</td>\n",
              "    </tr>\n",
              "    <tr>\n",
              "      <th>julfan</th>\n",
              "      <td>2000.0</td>\n",
              "      <td>0.0</td>\n",
              "      <td>2000.0</td>\n",
              "      <td>1900.0</td>\n",
              "      <td>0.0</td>\n",
              "      <td>0.0</td>\n",
              "      <td>2000.0</td>\n",
              "      <td>2000.0</td>\n",
              "      <td>2000.0</td>\n",
              "      <td>0.0</td>\n",
              "      <td>0.0</td>\n",
              "      <td>0.0</td>\n",
              "      <td>0.0</td>\n",
              "    </tr>\n",
              "    <tr>\n",
              "      <th>khan</th>\n",
              "      <td>2000.0</td>\n",
              "      <td>0.0</td>\n",
              "      <td>0.0</td>\n",
              "      <td>0.0</td>\n",
              "      <td>0.0</td>\n",
              "      <td>0.0</td>\n",
              "      <td>0.0</td>\n",
              "      <td>0.0</td>\n",
              "      <td>0.0</td>\n",
              "      <td>0.0</td>\n",
              "      <td>0.0</td>\n",
              "      <td>0.0</td>\n",
              "      <td>0.0</td>\n",
              "    </tr>\n",
              "    <tr>\n",
              "      <th>khurseed</th>\n",
              "      <td>2000.0</td>\n",
              "      <td>2000.0</td>\n",
              "      <td>0.0</td>\n",
              "      <td>2000.0</td>\n",
              "      <td>1000.0</td>\n",
              "      <td>0.0</td>\n",
              "      <td>2200.0</td>\n",
              "      <td>2000.0</td>\n",
              "      <td>0.0</td>\n",
              "      <td>2000.0</td>\n",
              "      <td>2000.0</td>\n",
              "      <td>2000.0</td>\n",
              "      <td>0.0</td>\n",
              "    </tr>\n",
              "    <tr>\n",
              "      <th>mujahid</th>\n",
              "      <td>2000.0</td>\n",
              "      <td>0.0</td>\n",
              "      <td>0.0</td>\n",
              "      <td>0.0</td>\n",
              "      <td>0.0</td>\n",
              "      <td>0.0</td>\n",
              "      <td>0.0</td>\n",
              "      <td>0.0</td>\n",
              "      <td>0.0</td>\n",
              "      <td>0.0</td>\n",
              "      <td>0.0</td>\n",
              "      <td>0.0</td>\n",
              "      <td>0.0</td>\n",
              "    </tr>\n",
              "    <tr>\n",
              "      <th>mukarram</th>\n",
              "      <td>2000.0</td>\n",
              "      <td>0.0</td>\n",
              "      <td>0.0</td>\n",
              "      <td>2000.0</td>\n",
              "      <td>1000.0</td>\n",
              "      <td>0.0</td>\n",
              "      <td>0.0</td>\n",
              "      <td>0.0</td>\n",
              "      <td>0.0</td>\n",
              "      <td>0.0</td>\n",
              "      <td>0.0</td>\n",
              "      <td>0.0</td>\n",
              "      <td>0.0</td>\n",
              "    </tr>\n",
              "    <tr>\n",
              "      <th>rasid</th>\n",
              "      <td>0.0</td>\n",
              "      <td>2000.0</td>\n",
              "      <td>0.0</td>\n",
              "      <td>2000.0</td>\n",
              "      <td>0.0</td>\n",
              "      <td>0.0</td>\n",
              "      <td>2000.0</td>\n",
              "      <td>2000.0</td>\n",
              "      <td>2000.0</td>\n",
              "      <td>2000.0</td>\n",
              "      <td>2000.0</td>\n",
              "      <td>0.0</td>\n",
              "      <td>0.0</td>\n",
              "    </tr>\n",
              "    <tr>\n",
              "      <th>sabir jcb</th>\n",
              "      <td>0.0</td>\n",
              "      <td>3000.0</td>\n",
              "      <td>0.0</td>\n",
              "      <td>0.0</td>\n",
              "      <td>0.0</td>\n",
              "      <td>0.0</td>\n",
              "      <td>0.0</td>\n",
              "      <td>0.0</td>\n",
              "      <td>500.0</td>\n",
              "      <td>0.0</td>\n",
              "      <td>0.0</td>\n",
              "      <td>0.0</td>\n",
              "      <td>0.0</td>\n",
              "    </tr>\n",
              "    <tr>\n",
              "      <th>saddam</th>\n",
              "      <td>0.0</td>\n",
              "      <td>2000.0</td>\n",
              "      <td>0.0</td>\n",
              "      <td>2000.0</td>\n",
              "      <td>1000.0</td>\n",
              "      <td>0.0</td>\n",
              "      <td>2000.0</td>\n",
              "      <td>1000.0</td>\n",
              "      <td>2000.0</td>\n",
              "      <td>2000.0</td>\n",
              "      <td>0.0</td>\n",
              "      <td>0.0</td>\n",
              "      <td>0.0</td>\n",
              "    </tr>\n",
              "    <tr>\n",
              "      <th>total</th>\n",
              "      <td>22000.0</td>\n",
              "      <td>19000.0</td>\n",
              "      <td>12000.0</td>\n",
              "      <td>25600.0</td>\n",
              "      <td>11500.0</td>\n",
              "      <td>0.0</td>\n",
              "      <td>23000.0</td>\n",
              "      <td>29200.0</td>\n",
              "      <td>27500.0</td>\n",
              "      <td>17000.0</td>\n",
              "      <td>17500.0</td>\n",
              "      <td>16000.0</td>\n",
              "      <td>0.0</td>\n",
              "    </tr>\n",
              "    <tr>\n",
              "      <th>vakil jcb</th>\n",
              "      <td>0.0</td>\n",
              "      <td>0.0</td>\n",
              "      <td>3000.0</td>\n",
              "      <td>3000.0</td>\n",
              "      <td>0.0</td>\n",
              "      <td>0.0</td>\n",
              "      <td>4800.0</td>\n",
              "      <td>3000.0</td>\n",
              "      <td>3000.0</td>\n",
              "      <td>3000.0</td>\n",
              "      <td>0.0</td>\n",
              "      <td>0.0</td>\n",
              "      <td>0.0</td>\n",
              "    </tr>\n",
              "    <tr>\n",
              "      <th>zishan</th>\n",
              "      <td>2000.0</td>\n",
              "      <td>0.0</td>\n",
              "      <td>0.0</td>\n",
              "      <td>0.0</td>\n",
              "      <td>0.0</td>\n",
              "      <td>0.0</td>\n",
              "      <td>0.0</td>\n",
              "      <td>0.0</td>\n",
              "      <td>0.0</td>\n",
              "      <td>0.0</td>\n",
              "      <td>0.0</td>\n",
              "      <td>0.0</td>\n",
              "      <td>0.0</td>\n",
              "    </tr>\n",
              "  </tbody>\n",
              "</table>\n",
              "</div>"
            ],
            "text/plain": [
              "Date       2019-09-16  2019-09-17  ...  2019-09-29  2019-10-01\n",
              "Name                               ...                        \n",
              "akram             0.0      2000.0  ...         0.0         0.0\n",
              "amjad             0.0         0.0  ...      2000.0         0.0\n",
              "bhura          2000.0      2000.0  ...      2000.0         0.0\n",
              "car               0.0         0.0  ...       500.0         0.0\n",
              "cash           4000.0      4000.0  ...      5500.0         0.0\n",
              "dinesh            0.0         0.0  ...         0.0         0.0\n",
              "gulfam         2000.0         0.0  ...         0.0         0.0\n",
              "hasan             0.0         0.0  ...      2000.0         0.0\n",
              "imran             0.0      2000.0  ...      2000.0         0.0\n",
              "jabir          2000.0         0.0  ...         0.0         0.0\n",
              "julfan         2000.0         0.0  ...         0.0         0.0\n",
              "khan           2000.0         0.0  ...         0.0         0.0\n",
              "khurseed       2000.0      2000.0  ...      2000.0         0.0\n",
              "mujahid        2000.0         0.0  ...         0.0         0.0\n",
              "mukarram       2000.0         0.0  ...         0.0         0.0\n",
              "rasid             0.0      2000.0  ...         0.0         0.0\n",
              "sabir jcb         0.0      3000.0  ...         0.0         0.0\n",
              "saddam            0.0      2000.0  ...         0.0         0.0\n",
              "total         22000.0     19000.0  ...     16000.0         0.0\n",
              "vakil jcb         0.0         0.0  ...         0.0         0.0\n",
              "zishan         2000.0         0.0  ...         0.0         0.0\n",
              "\n",
              "[21 rows x 13 columns]"
            ]
          },
          "metadata": {
            "tags": []
          },
          "execution_count": 45
        }
      ]
    },
    {
      "cell_type": "code",
      "metadata": {
        "id": "9wbLTMB_tHLM",
        "colab_type": "code",
        "outputId": "494d3d0a-96d9-496d-c2de-5c6c0f8025fd",
        "colab": {
          "base_uri": "https://localhost:8080/",
          "height": 455
        }
      },
      "source": [
        "pivot_cash"
      ],
      "execution_count": 0,
      "outputs": [
        {
          "output_type": "execute_result",
          "data": {
            "text/html": [
              "<div>\n",
              "<style scoped>\n",
              "    .dataframe tbody tr th:only-of-type {\n",
              "        vertical-align: middle;\n",
              "    }\n",
              "\n",
              "    .dataframe tbody tr th {\n",
              "        vertical-align: top;\n",
              "    }\n",
              "\n",
              "    .dataframe thead th {\n",
              "        text-align: right;\n",
              "    }\n",
              "</style>\n",
              "<table border=\"1\" class=\"dataframe\">\n",
              "  <thead>\n",
              "    <tr style=\"text-align: right;\">\n",
              "      <th>Date</th>\n",
              "      <th>2019-09-16 00:00:00</th>\n",
              "      <th>2019-09-17 00:00:00</th>\n",
              "      <th>2019-09-19 00:00:00</th>\n",
              "      <th>2019-09-20 00:00:00</th>\n",
              "      <th>2019-09-21 00:00:00</th>\n",
              "      <th>2019-09-23 00:00:00</th>\n",
              "      <th>2019-09-24 00:00:00</th>\n",
              "      <th>2019-09-25 00:00:00</th>\n",
              "      <th>2019-09-26 00:00:00</th>\n",
              "      <th>2019-09-27 00:00:00</th>\n",
              "      <th>2019-09-28 00:00:00</th>\n",
              "      <th>2019-09-29 00:00:00</th>\n",
              "      <th>2019-10-01 00:00:00</th>\n",
              "    </tr>\n",
              "    <tr>\n",
              "      <th>Name</th>\n",
              "      <th></th>\n",
              "      <th></th>\n",
              "      <th></th>\n",
              "      <th></th>\n",
              "      <th></th>\n",
              "      <th></th>\n",
              "      <th></th>\n",
              "      <th></th>\n",
              "      <th></th>\n",
              "      <th></th>\n",
              "      <th></th>\n",
              "      <th></th>\n",
              "      <th></th>\n",
              "    </tr>\n",
              "  </thead>\n",
              "  <tbody>\n",
              "    <tr>\n",
              "      <th>akram</th>\n",
              "      <td>0.0</td>\n",
              "      <td>200.0</td>\n",
              "      <td>0.0</td>\n",
              "      <td>150.0</td>\n",
              "      <td>0.0</td>\n",
              "      <td>1250.0</td>\n",
              "      <td>0.0</td>\n",
              "      <td>200.0</td>\n",
              "      <td>0.0</td>\n",
              "      <td>0.0</td>\n",
              "      <td>0.0</td>\n",
              "      <td>0.0</td>\n",
              "      <td>0.0</td>\n",
              "    </tr>\n",
              "    <tr>\n",
              "      <th>bhura</th>\n",
              "      <td>0.0</td>\n",
              "      <td>0.0</td>\n",
              "      <td>100.0</td>\n",
              "      <td>0.0</td>\n",
              "      <td>500.0</td>\n",
              "      <td>100.0</td>\n",
              "      <td>0.0</td>\n",
              "      <td>0.0</td>\n",
              "      <td>0.0</td>\n",
              "      <td>0.0</td>\n",
              "      <td>0.0</td>\n",
              "      <td>170.0</td>\n",
              "      <td>0.0</td>\n",
              "    </tr>\n",
              "    <tr>\n",
              "      <th>dinesh</th>\n",
              "      <td>300.0</td>\n",
              "      <td>0.0</td>\n",
              "      <td>0.0</td>\n",
              "      <td>0.0</td>\n",
              "      <td>0.0</td>\n",
              "      <td>1000.0</td>\n",
              "      <td>0.0</td>\n",
              "      <td>0.0</td>\n",
              "      <td>0.0</td>\n",
              "      <td>0.0</td>\n",
              "      <td>0.0</td>\n",
              "      <td>0.0</td>\n",
              "      <td>0.0</td>\n",
              "    </tr>\n",
              "    <tr>\n",
              "      <th>gulfam</th>\n",
              "      <td>0.0</td>\n",
              "      <td>0.0</td>\n",
              "      <td>0.0</td>\n",
              "      <td>500.0</td>\n",
              "      <td>0.0</td>\n",
              "      <td>0.0</td>\n",
              "      <td>600.0</td>\n",
              "      <td>0.0</td>\n",
              "      <td>1000.0</td>\n",
              "      <td>0.0</td>\n",
              "      <td>1000.0</td>\n",
              "      <td>0.0</td>\n",
              "      <td>0.0</td>\n",
              "    </tr>\n",
              "    <tr>\n",
              "      <th>imran</th>\n",
              "      <td>400.0</td>\n",
              "      <td>200.0</td>\n",
              "      <td>100.0</td>\n",
              "      <td>200.0</td>\n",
              "      <td>1000.0</td>\n",
              "      <td>0.0</td>\n",
              "      <td>0.0</td>\n",
              "      <td>0.0</td>\n",
              "      <td>500.0</td>\n",
              "      <td>0.0</td>\n",
              "      <td>0.0</td>\n",
              "      <td>0.0</td>\n",
              "      <td>0.0</td>\n",
              "    </tr>\n",
              "    <tr>\n",
              "      <th>jabir</th>\n",
              "      <td>0.0</td>\n",
              "      <td>0.0</td>\n",
              "      <td>0.0</td>\n",
              "      <td>0.0</td>\n",
              "      <td>0.0</td>\n",
              "      <td>0.0</td>\n",
              "      <td>0.0</td>\n",
              "      <td>1000.0</td>\n",
              "      <td>0.0</td>\n",
              "      <td>0.0</td>\n",
              "      <td>0.0</td>\n",
              "      <td>0.0</td>\n",
              "      <td>0.0</td>\n",
              "    </tr>\n",
              "    <tr>\n",
              "      <th>julfan</th>\n",
              "      <td>500.0</td>\n",
              "      <td>0.0</td>\n",
              "      <td>6000.0</td>\n",
              "      <td>0.0</td>\n",
              "      <td>200.0</td>\n",
              "      <td>0.0</td>\n",
              "      <td>0.0</td>\n",
              "      <td>0.0</td>\n",
              "      <td>200.0</td>\n",
              "      <td>3000.0</td>\n",
              "      <td>0.0</td>\n",
              "      <td>0.0</td>\n",
              "      <td>0.0</td>\n",
              "    </tr>\n",
              "    <tr>\n",
              "      <th>khurseed</th>\n",
              "      <td>0.0</td>\n",
              "      <td>500.0</td>\n",
              "      <td>13000.0</td>\n",
              "      <td>200.0</td>\n",
              "      <td>0.0</td>\n",
              "      <td>0.0</td>\n",
              "      <td>0.0</td>\n",
              "      <td>0.0</td>\n",
              "      <td>0.0</td>\n",
              "      <td>0.0</td>\n",
              "      <td>0.0</td>\n",
              "      <td>0.0</td>\n",
              "      <td>200.0</td>\n",
              "    </tr>\n",
              "    <tr>\n",
              "      <th>saddam</th>\n",
              "      <td>0.0</td>\n",
              "      <td>0.0</td>\n",
              "      <td>0.0</td>\n",
              "      <td>0.0</td>\n",
              "      <td>0.0</td>\n",
              "      <td>0.0</td>\n",
              "      <td>0.0</td>\n",
              "      <td>0.0</td>\n",
              "      <td>500.0</td>\n",
              "      <td>0.0</td>\n",
              "      <td>0.0</td>\n",
              "      <td>0.0</td>\n",
              "      <td>0.0</td>\n",
              "    </tr>\n",
              "    <tr>\n",
              "      <th>vakil jcb</th>\n",
              "      <td>0.0</td>\n",
              "      <td>1000.0</td>\n",
              "      <td>1000.0</td>\n",
              "      <td>0.0</td>\n",
              "      <td>3000.0</td>\n",
              "      <td>0.0</td>\n",
              "      <td>1900.0</td>\n",
              "      <td>0.0</td>\n",
              "      <td>500.0</td>\n",
              "      <td>0.0</td>\n",
              "      <td>0.0</td>\n",
              "      <td>500.0</td>\n",
              "      <td>5000.0</td>\n",
              "    </tr>\n",
              "    <tr>\n",
              "      <th>zishan</th>\n",
              "      <td>0.0</td>\n",
              "      <td>500.0</td>\n",
              "      <td>0.0</td>\n",
              "      <td>0.0</td>\n",
              "      <td>0.0</td>\n",
              "      <td>0.0</td>\n",
              "      <td>0.0</td>\n",
              "      <td>0.0</td>\n",
              "      <td>0.0</td>\n",
              "      <td>0.0</td>\n",
              "      <td>0.0</td>\n",
              "      <td>500.0</td>\n",
              "      <td>0.0</td>\n",
              "    </tr>\n",
              "  </tbody>\n",
              "</table>\n",
              "</div>"
            ],
            "text/plain": [
              "Date       2019-09-16  2019-09-17  ...  2019-09-29  2019-10-01\n",
              "Name                               ...                        \n",
              "akram             0.0       200.0  ...         0.0         0.0\n",
              "bhura             0.0         0.0  ...       170.0         0.0\n",
              "dinesh          300.0         0.0  ...         0.0         0.0\n",
              "gulfam            0.0         0.0  ...         0.0         0.0\n",
              "imran           400.0       200.0  ...         0.0         0.0\n",
              "jabir             0.0         0.0  ...         0.0         0.0\n",
              "julfan          500.0         0.0  ...         0.0         0.0\n",
              "khurseed          0.0       500.0  ...         0.0       200.0\n",
              "saddam            0.0         0.0  ...         0.0         0.0\n",
              "vakil jcb         0.0      1000.0  ...       500.0      5000.0\n",
              "zishan            0.0       500.0  ...       500.0         0.0\n",
              "\n",
              "[11 rows x 13 columns]"
            ]
          },
          "metadata": {
            "tags": []
          },
          "execution_count": 46
        }
      ]
    },
    {
      "cell_type": "code",
      "metadata": {
        "id": "rEELWCKs_5Nx",
        "colab_type": "code",
        "outputId": "73f1c46f-d0e3-4b66-b584-fabe7b2166ea",
        "colab": {
          "base_uri": "https://localhost:8080/",
          "height": 145
        }
      },
      "source": [
        "pivot_diesel['Total Diesel'] = pd.Series([0 for i in range(len(pivot_diesel))])\n",
        "pivot_diesel.head(1)"
      ],
      "execution_count": 0,
      "outputs": [
        {
          "output_type": "execute_result",
          "data": {
            "text/html": [
              "<div>\n",
              "<style scoped>\n",
              "    .dataframe tbody tr th:only-of-type {\n",
              "        vertical-align: middle;\n",
              "    }\n",
              "\n",
              "    .dataframe tbody tr th {\n",
              "        vertical-align: top;\n",
              "    }\n",
              "\n",
              "    .dataframe thead th {\n",
              "        text-align: right;\n",
              "    }\n",
              "</style>\n",
              "<table border=\"1\" class=\"dataframe\">\n",
              "  <thead>\n",
              "    <tr style=\"text-align: right;\">\n",
              "      <th>Date</th>\n",
              "      <th>2019-09-16 00:00:00</th>\n",
              "      <th>2019-09-17 00:00:00</th>\n",
              "      <th>2019-09-19 00:00:00</th>\n",
              "      <th>2019-09-20 00:00:00</th>\n",
              "      <th>2019-09-21 00:00:00</th>\n",
              "      <th>2019-09-23 00:00:00</th>\n",
              "      <th>2019-09-24 00:00:00</th>\n",
              "      <th>2019-09-25 00:00:00</th>\n",
              "      <th>2019-09-26 00:00:00</th>\n",
              "      <th>2019-09-27 00:00:00</th>\n",
              "      <th>2019-09-28 00:00:00</th>\n",
              "      <th>2019-09-29 00:00:00</th>\n",
              "      <th>2019-10-01 00:00:00</th>\n",
              "      <th>Total Diesel</th>\n",
              "    </tr>\n",
              "    <tr>\n",
              "      <th>Name</th>\n",
              "      <th></th>\n",
              "      <th></th>\n",
              "      <th></th>\n",
              "      <th></th>\n",
              "      <th></th>\n",
              "      <th></th>\n",
              "      <th></th>\n",
              "      <th></th>\n",
              "      <th></th>\n",
              "      <th></th>\n",
              "      <th></th>\n",
              "      <th></th>\n",
              "      <th></th>\n",
              "      <th></th>\n",
              "    </tr>\n",
              "  </thead>\n",
              "  <tbody>\n",
              "    <tr>\n",
              "      <th>akram</th>\n",
              "      <td>0.0</td>\n",
              "      <td>2000.0</td>\n",
              "      <td>0.0</td>\n",
              "      <td>0.0</td>\n",
              "      <td>0.0</td>\n",
              "      <td>0.0</td>\n",
              "      <td>2000.0</td>\n",
              "      <td>0.0</td>\n",
              "      <td>0.0</td>\n",
              "      <td>0.0</td>\n",
              "      <td>0.0</td>\n",
              "      <td>0.0</td>\n",
              "      <td>0.0</td>\n",
              "      <td>NaN</td>\n",
              "    </tr>\n",
              "  </tbody>\n",
              "</table>\n",
              "</div>"
            ],
            "text/plain": [
              "Date   2019-09-16 00:00:00  ...  Total Diesel\n",
              "Name                        ...              \n",
              "akram                  0.0  ...           NaN\n",
              "\n",
              "[1 rows x 14 columns]"
            ]
          },
          "metadata": {
            "tags": []
          },
          "execution_count": 47
        }
      ]
    },
    {
      "cell_type": "code",
      "metadata": {
        "id": "1hnq4oMRtLs-",
        "colab_type": "code",
        "outputId": "a2b29191-3f67-4280-aca0-7f9f696ad0e2",
        "colab": {
          "base_uri": "https://localhost:8080/",
          "height": 145
        }
      },
      "source": [
        "pivot_cash['Total Cash'] = pd.Series([0 for i in range(len(pivot_cash))])\n",
        "pivot_cash.head(1)"
      ],
      "execution_count": 0,
      "outputs": [
        {
          "output_type": "execute_result",
          "data": {
            "text/html": [
              "<div>\n",
              "<style scoped>\n",
              "    .dataframe tbody tr th:only-of-type {\n",
              "        vertical-align: middle;\n",
              "    }\n",
              "\n",
              "    .dataframe tbody tr th {\n",
              "        vertical-align: top;\n",
              "    }\n",
              "\n",
              "    .dataframe thead th {\n",
              "        text-align: right;\n",
              "    }\n",
              "</style>\n",
              "<table border=\"1\" class=\"dataframe\">\n",
              "  <thead>\n",
              "    <tr style=\"text-align: right;\">\n",
              "      <th>Date</th>\n",
              "      <th>2019-09-16 00:00:00</th>\n",
              "      <th>2019-09-17 00:00:00</th>\n",
              "      <th>2019-09-19 00:00:00</th>\n",
              "      <th>2019-09-20 00:00:00</th>\n",
              "      <th>2019-09-21 00:00:00</th>\n",
              "      <th>2019-09-23 00:00:00</th>\n",
              "      <th>2019-09-24 00:00:00</th>\n",
              "      <th>2019-09-25 00:00:00</th>\n",
              "      <th>2019-09-26 00:00:00</th>\n",
              "      <th>2019-09-27 00:00:00</th>\n",
              "      <th>2019-09-28 00:00:00</th>\n",
              "      <th>2019-09-29 00:00:00</th>\n",
              "      <th>2019-10-01 00:00:00</th>\n",
              "      <th>Total Cash</th>\n",
              "    </tr>\n",
              "    <tr>\n",
              "      <th>Name</th>\n",
              "      <th></th>\n",
              "      <th></th>\n",
              "      <th></th>\n",
              "      <th></th>\n",
              "      <th></th>\n",
              "      <th></th>\n",
              "      <th></th>\n",
              "      <th></th>\n",
              "      <th></th>\n",
              "      <th></th>\n",
              "      <th></th>\n",
              "      <th></th>\n",
              "      <th></th>\n",
              "      <th></th>\n",
              "    </tr>\n",
              "  </thead>\n",
              "  <tbody>\n",
              "    <tr>\n",
              "      <th>akram</th>\n",
              "      <td>0.0</td>\n",
              "      <td>200.0</td>\n",
              "      <td>0.0</td>\n",
              "      <td>150.0</td>\n",
              "      <td>0.0</td>\n",
              "      <td>1250.0</td>\n",
              "      <td>0.0</td>\n",
              "      <td>200.0</td>\n",
              "      <td>0.0</td>\n",
              "      <td>0.0</td>\n",
              "      <td>0.0</td>\n",
              "      <td>0.0</td>\n",
              "      <td>0.0</td>\n",
              "      <td>NaN</td>\n",
              "    </tr>\n",
              "  </tbody>\n",
              "</table>\n",
              "</div>"
            ],
            "text/plain": [
              "Date   2019-09-16 00:00:00  ...  Total Cash\n",
              "Name                        ...            \n",
              "akram                  0.0  ...         NaN\n",
              "\n",
              "[1 rows x 14 columns]"
            ]
          },
          "metadata": {
            "tags": []
          },
          "execution_count": 48
        }
      ]
    },
    {
      "cell_type": "code",
      "metadata": {
        "id": "Y2EvagJaL13R",
        "colab_type": "code",
        "colab": {}
      },
      "source": [
        "for i in range(len(pivot_diesel)):\n",
        "  pivot_diesel['Total Diesel'][i] = sum(pivot_diesel.iloc[i, 0:-1])"
      ],
      "execution_count": 0,
      "outputs": []
    },
    {
      "cell_type": "code",
      "metadata": {
        "id": "jmPDiMVJASVB",
        "colab_type": "code",
        "outputId": "d65dea88-91f8-4f8c-dce9-947451abaf10",
        "colab": {
          "base_uri": "https://localhost:8080/",
          "height": 765
        }
      },
      "source": [
        "pivot_diesel"
      ],
      "execution_count": 0,
      "outputs": [
        {
          "output_type": "execute_result",
          "data": {
            "text/html": [
              "<div>\n",
              "<style scoped>\n",
              "    .dataframe tbody tr th:only-of-type {\n",
              "        vertical-align: middle;\n",
              "    }\n",
              "\n",
              "    .dataframe tbody tr th {\n",
              "        vertical-align: top;\n",
              "    }\n",
              "\n",
              "    .dataframe thead th {\n",
              "        text-align: right;\n",
              "    }\n",
              "</style>\n",
              "<table border=\"1\" class=\"dataframe\">\n",
              "  <thead>\n",
              "    <tr style=\"text-align: right;\">\n",
              "      <th>Date</th>\n",
              "      <th>2019-09-16 00:00:00</th>\n",
              "      <th>2019-09-17 00:00:00</th>\n",
              "      <th>2019-09-19 00:00:00</th>\n",
              "      <th>2019-09-20 00:00:00</th>\n",
              "      <th>2019-09-21 00:00:00</th>\n",
              "      <th>2019-09-23 00:00:00</th>\n",
              "      <th>2019-09-24 00:00:00</th>\n",
              "      <th>2019-09-25 00:00:00</th>\n",
              "      <th>2019-09-26 00:00:00</th>\n",
              "      <th>2019-09-27 00:00:00</th>\n",
              "      <th>2019-09-28 00:00:00</th>\n",
              "      <th>2019-09-29 00:00:00</th>\n",
              "      <th>2019-10-01 00:00:00</th>\n",
              "      <th>Total Diesel</th>\n",
              "    </tr>\n",
              "    <tr>\n",
              "      <th>Name</th>\n",
              "      <th></th>\n",
              "      <th></th>\n",
              "      <th></th>\n",
              "      <th></th>\n",
              "      <th></th>\n",
              "      <th></th>\n",
              "      <th></th>\n",
              "      <th></th>\n",
              "      <th></th>\n",
              "      <th></th>\n",
              "      <th></th>\n",
              "      <th></th>\n",
              "      <th></th>\n",
              "      <th></th>\n",
              "    </tr>\n",
              "  </thead>\n",
              "  <tbody>\n",
              "    <tr>\n",
              "      <th>akram</th>\n",
              "      <td>0.0</td>\n",
              "      <td>2000.0</td>\n",
              "      <td>0.0</td>\n",
              "      <td>0.0</td>\n",
              "      <td>0.0</td>\n",
              "      <td>0.0</td>\n",
              "      <td>2000.0</td>\n",
              "      <td>0.0</td>\n",
              "      <td>0.0</td>\n",
              "      <td>0.0</td>\n",
              "      <td>0.0</td>\n",
              "      <td>0.0</td>\n",
              "      <td>0.0</td>\n",
              "      <td>4000.0</td>\n",
              "    </tr>\n",
              "    <tr>\n",
              "      <th>amjad</th>\n",
              "      <td>0.0</td>\n",
              "      <td>0.0</td>\n",
              "      <td>0.0</td>\n",
              "      <td>1000.0</td>\n",
              "      <td>1000.0</td>\n",
              "      <td>0.0</td>\n",
              "      <td>0.0</td>\n",
              "      <td>2000.0</td>\n",
              "      <td>2000.0</td>\n",
              "      <td>2000.0</td>\n",
              "      <td>0.0</td>\n",
              "      <td>2000.0</td>\n",
              "      <td>0.0</td>\n",
              "      <td>10000.0</td>\n",
              "    </tr>\n",
              "    <tr>\n",
              "      <th>bhura</th>\n",
              "      <td>2000.0</td>\n",
              "      <td>2000.0</td>\n",
              "      <td>2000.0</td>\n",
              "      <td>2000.0</td>\n",
              "      <td>0.0</td>\n",
              "      <td>0.0</td>\n",
              "      <td>0.0</td>\n",
              "      <td>0.0</td>\n",
              "      <td>0.0</td>\n",
              "      <td>2000.0</td>\n",
              "      <td>2000.0</td>\n",
              "      <td>2000.0</td>\n",
              "      <td>0.0</td>\n",
              "      <td>14000.0</td>\n",
              "    </tr>\n",
              "    <tr>\n",
              "      <th>car</th>\n",
              "      <td>0.0</td>\n",
              "      <td>0.0</td>\n",
              "      <td>0.0</td>\n",
              "      <td>0.0</td>\n",
              "      <td>0.0</td>\n",
              "      <td>0.0</td>\n",
              "      <td>0.0</td>\n",
              "      <td>0.0</td>\n",
              "      <td>0.0</td>\n",
              "      <td>0.0</td>\n",
              "      <td>500.0</td>\n",
              "      <td>500.0</td>\n",
              "      <td>0.0</td>\n",
              "      <td>1000.0</td>\n",
              "    </tr>\n",
              "    <tr>\n",
              "      <th>cash</th>\n",
              "      <td>4000.0</td>\n",
              "      <td>4000.0</td>\n",
              "      <td>4000.0</td>\n",
              "      <td>3700.0</td>\n",
              "      <td>4500.0</td>\n",
              "      <td>0.0</td>\n",
              "      <td>0.0</td>\n",
              "      <td>7200.0</td>\n",
              "      <td>8000.0</td>\n",
              "      <td>0.0</td>\n",
              "      <td>3000.0</td>\n",
              "      <td>5500.0</td>\n",
              "      <td>0.0</td>\n",
              "      <td>43900.0</td>\n",
              "    </tr>\n",
              "    <tr>\n",
              "      <th>dinesh</th>\n",
              "      <td>0.0</td>\n",
              "      <td>0.0</td>\n",
              "      <td>0.0</td>\n",
              "      <td>0.0</td>\n",
              "      <td>0.0</td>\n",
              "      <td>0.0</td>\n",
              "      <td>2000.0</td>\n",
              "      <td>2000.0</td>\n",
              "      <td>0.0</td>\n",
              "      <td>2000.0</td>\n",
              "      <td>0.0</td>\n",
              "      <td>0.0</td>\n",
              "      <td>0.0</td>\n",
              "      <td>6000.0</td>\n",
              "    </tr>\n",
              "    <tr>\n",
              "      <th>gulfam</th>\n",
              "      <td>2000.0</td>\n",
              "      <td>0.0</td>\n",
              "      <td>0.0</td>\n",
              "      <td>2000.0</td>\n",
              "      <td>1000.0</td>\n",
              "      <td>0.0</td>\n",
              "      <td>2000.0</td>\n",
              "      <td>2000.0</td>\n",
              "      <td>2000.0</td>\n",
              "      <td>0.0</td>\n",
              "      <td>2000.0</td>\n",
              "      <td>0.0</td>\n",
              "      <td>0.0</td>\n",
              "      <td>13000.0</td>\n",
              "    </tr>\n",
              "    <tr>\n",
              "      <th>hasan</th>\n",
              "      <td>0.0</td>\n",
              "      <td>0.0</td>\n",
              "      <td>0.0</td>\n",
              "      <td>0.0</td>\n",
              "      <td>0.0</td>\n",
              "      <td>0.0</td>\n",
              "      <td>0.0</td>\n",
              "      <td>2000.0</td>\n",
              "      <td>2000.0</td>\n",
              "      <td>0.0</td>\n",
              "      <td>2000.0</td>\n",
              "      <td>2000.0</td>\n",
              "      <td>0.0</td>\n",
              "      <td>8000.0</td>\n",
              "    </tr>\n",
              "    <tr>\n",
              "      <th>imran</th>\n",
              "      <td>0.0</td>\n",
              "      <td>2000.0</td>\n",
              "      <td>1000.0</td>\n",
              "      <td>2000.0</td>\n",
              "      <td>1000.0</td>\n",
              "      <td>0.0</td>\n",
              "      <td>2000.0</td>\n",
              "      <td>2000.0</td>\n",
              "      <td>2000.0</td>\n",
              "      <td>2000.0</td>\n",
              "      <td>2000.0</td>\n",
              "      <td>2000.0</td>\n",
              "      <td>0.0</td>\n",
              "      <td>18000.0</td>\n",
              "    </tr>\n",
              "    <tr>\n",
              "      <th>jabir</th>\n",
              "      <td>2000.0</td>\n",
              "      <td>0.0</td>\n",
              "      <td>0.0</td>\n",
              "      <td>2000.0</td>\n",
              "      <td>1000.0</td>\n",
              "      <td>0.0</td>\n",
              "      <td>2000.0</td>\n",
              "      <td>2000.0</td>\n",
              "      <td>2000.0</td>\n",
              "      <td>0.0</td>\n",
              "      <td>2000.0</td>\n",
              "      <td>0.0</td>\n",
              "      <td>0.0</td>\n",
              "      <td>13000.0</td>\n",
              "    </tr>\n",
              "    <tr>\n",
              "      <th>julfan</th>\n",
              "      <td>2000.0</td>\n",
              "      <td>0.0</td>\n",
              "      <td>2000.0</td>\n",
              "      <td>1900.0</td>\n",
              "      <td>0.0</td>\n",
              "      <td>0.0</td>\n",
              "      <td>2000.0</td>\n",
              "      <td>2000.0</td>\n",
              "      <td>2000.0</td>\n",
              "      <td>0.0</td>\n",
              "      <td>0.0</td>\n",
              "      <td>0.0</td>\n",
              "      <td>0.0</td>\n",
              "      <td>11900.0</td>\n",
              "    </tr>\n",
              "    <tr>\n",
              "      <th>khan</th>\n",
              "      <td>2000.0</td>\n",
              "      <td>0.0</td>\n",
              "      <td>0.0</td>\n",
              "      <td>0.0</td>\n",
              "      <td>0.0</td>\n",
              "      <td>0.0</td>\n",
              "      <td>0.0</td>\n",
              "      <td>0.0</td>\n",
              "      <td>0.0</td>\n",
              "      <td>0.0</td>\n",
              "      <td>0.0</td>\n",
              "      <td>0.0</td>\n",
              "      <td>0.0</td>\n",
              "      <td>2000.0</td>\n",
              "    </tr>\n",
              "    <tr>\n",
              "      <th>khurseed</th>\n",
              "      <td>2000.0</td>\n",
              "      <td>2000.0</td>\n",
              "      <td>0.0</td>\n",
              "      <td>2000.0</td>\n",
              "      <td>1000.0</td>\n",
              "      <td>0.0</td>\n",
              "      <td>2200.0</td>\n",
              "      <td>2000.0</td>\n",
              "      <td>0.0</td>\n",
              "      <td>2000.0</td>\n",
              "      <td>2000.0</td>\n",
              "      <td>2000.0</td>\n",
              "      <td>0.0</td>\n",
              "      <td>17200.0</td>\n",
              "    </tr>\n",
              "    <tr>\n",
              "      <th>mujahid</th>\n",
              "      <td>2000.0</td>\n",
              "      <td>0.0</td>\n",
              "      <td>0.0</td>\n",
              "      <td>0.0</td>\n",
              "      <td>0.0</td>\n",
              "      <td>0.0</td>\n",
              "      <td>0.0</td>\n",
              "      <td>0.0</td>\n",
              "      <td>0.0</td>\n",
              "      <td>0.0</td>\n",
              "      <td>0.0</td>\n",
              "      <td>0.0</td>\n",
              "      <td>0.0</td>\n",
              "      <td>2000.0</td>\n",
              "    </tr>\n",
              "    <tr>\n",
              "      <th>mukarram</th>\n",
              "      <td>2000.0</td>\n",
              "      <td>0.0</td>\n",
              "      <td>0.0</td>\n",
              "      <td>2000.0</td>\n",
              "      <td>1000.0</td>\n",
              "      <td>0.0</td>\n",
              "      <td>0.0</td>\n",
              "      <td>0.0</td>\n",
              "      <td>0.0</td>\n",
              "      <td>0.0</td>\n",
              "      <td>0.0</td>\n",
              "      <td>0.0</td>\n",
              "      <td>0.0</td>\n",
              "      <td>5000.0</td>\n",
              "    </tr>\n",
              "    <tr>\n",
              "      <th>rasid</th>\n",
              "      <td>0.0</td>\n",
              "      <td>2000.0</td>\n",
              "      <td>0.0</td>\n",
              "      <td>2000.0</td>\n",
              "      <td>0.0</td>\n",
              "      <td>0.0</td>\n",
              "      <td>2000.0</td>\n",
              "      <td>2000.0</td>\n",
              "      <td>2000.0</td>\n",
              "      <td>2000.0</td>\n",
              "      <td>2000.0</td>\n",
              "      <td>0.0</td>\n",
              "      <td>0.0</td>\n",
              "      <td>14000.0</td>\n",
              "    </tr>\n",
              "    <tr>\n",
              "      <th>sabir jcb</th>\n",
              "      <td>0.0</td>\n",
              "      <td>3000.0</td>\n",
              "      <td>0.0</td>\n",
              "      <td>0.0</td>\n",
              "      <td>0.0</td>\n",
              "      <td>0.0</td>\n",
              "      <td>0.0</td>\n",
              "      <td>0.0</td>\n",
              "      <td>500.0</td>\n",
              "      <td>0.0</td>\n",
              "      <td>0.0</td>\n",
              "      <td>0.0</td>\n",
              "      <td>0.0</td>\n",
              "      <td>3500.0</td>\n",
              "    </tr>\n",
              "    <tr>\n",
              "      <th>saddam</th>\n",
              "      <td>0.0</td>\n",
              "      <td>2000.0</td>\n",
              "      <td>0.0</td>\n",
              "      <td>2000.0</td>\n",
              "      <td>1000.0</td>\n",
              "      <td>0.0</td>\n",
              "      <td>2000.0</td>\n",
              "      <td>1000.0</td>\n",
              "      <td>2000.0</td>\n",
              "      <td>2000.0</td>\n",
              "      <td>0.0</td>\n",
              "      <td>0.0</td>\n",
              "      <td>0.0</td>\n",
              "      <td>12000.0</td>\n",
              "    </tr>\n",
              "    <tr>\n",
              "      <th>total</th>\n",
              "      <td>22000.0</td>\n",
              "      <td>19000.0</td>\n",
              "      <td>12000.0</td>\n",
              "      <td>25600.0</td>\n",
              "      <td>11500.0</td>\n",
              "      <td>0.0</td>\n",
              "      <td>23000.0</td>\n",
              "      <td>29200.0</td>\n",
              "      <td>27500.0</td>\n",
              "      <td>17000.0</td>\n",
              "      <td>17500.0</td>\n",
              "      <td>16000.0</td>\n",
              "      <td>0.0</td>\n",
              "      <td>220300.0</td>\n",
              "    </tr>\n",
              "    <tr>\n",
              "      <th>vakil jcb</th>\n",
              "      <td>0.0</td>\n",
              "      <td>0.0</td>\n",
              "      <td>3000.0</td>\n",
              "      <td>3000.0</td>\n",
              "      <td>0.0</td>\n",
              "      <td>0.0</td>\n",
              "      <td>4800.0</td>\n",
              "      <td>3000.0</td>\n",
              "      <td>3000.0</td>\n",
              "      <td>3000.0</td>\n",
              "      <td>0.0</td>\n",
              "      <td>0.0</td>\n",
              "      <td>0.0</td>\n",
              "      <td>19800.0</td>\n",
              "    </tr>\n",
              "    <tr>\n",
              "      <th>zishan</th>\n",
              "      <td>2000.0</td>\n",
              "      <td>0.0</td>\n",
              "      <td>0.0</td>\n",
              "      <td>0.0</td>\n",
              "      <td>0.0</td>\n",
              "      <td>0.0</td>\n",
              "      <td>0.0</td>\n",
              "      <td>0.0</td>\n",
              "      <td>0.0</td>\n",
              "      <td>0.0</td>\n",
              "      <td>0.0</td>\n",
              "      <td>0.0</td>\n",
              "      <td>0.0</td>\n",
              "      <td>2000.0</td>\n",
              "    </tr>\n",
              "  </tbody>\n",
              "</table>\n",
              "</div>"
            ],
            "text/plain": [
              "Date       2019-09-16 00:00:00  ...  Total Diesel\n",
              "Name                            ...              \n",
              "akram                      0.0  ...        4000.0\n",
              "amjad                      0.0  ...       10000.0\n",
              "bhura                   2000.0  ...       14000.0\n",
              "car                        0.0  ...        1000.0\n",
              "cash                    4000.0  ...       43900.0\n",
              "dinesh                     0.0  ...        6000.0\n",
              "gulfam                  2000.0  ...       13000.0\n",
              "hasan                      0.0  ...        8000.0\n",
              "imran                      0.0  ...       18000.0\n",
              "jabir                   2000.0  ...       13000.0\n",
              "julfan                  2000.0  ...       11900.0\n",
              "khan                    2000.0  ...        2000.0\n",
              "khurseed                2000.0  ...       17200.0\n",
              "mujahid                 2000.0  ...        2000.0\n",
              "mukarram                2000.0  ...        5000.0\n",
              "rasid                      0.0  ...       14000.0\n",
              "sabir jcb                  0.0  ...        3500.0\n",
              "saddam                     0.0  ...       12000.0\n",
              "total                  22000.0  ...      220300.0\n",
              "vakil jcb                  0.0  ...       19800.0\n",
              "zishan                  2000.0  ...        2000.0\n",
              "\n",
              "[21 rows x 14 columns]"
            ]
          },
          "metadata": {
            "tags": []
          },
          "execution_count": 50
        }
      ]
    },
    {
      "cell_type": "code",
      "metadata": {
        "id": "R6qistNwt-oy",
        "colab_type": "code",
        "colab": {}
      },
      "source": [
        "for i in range(len(pivot_cash)):\n",
        "  pivot_cash['Total Cash'][i] = sum(pivot_cash.iloc[i, 0:-1])"
      ],
      "execution_count": 0,
      "outputs": []
    },
    {
      "cell_type": "code",
      "metadata": {
        "id": "oT2u-axXuHyI",
        "colab_type": "code",
        "outputId": "b4cfebbe-f877-49d0-896d-4e0da94caf70",
        "colab": {
          "base_uri": "https://localhost:8080/",
          "height": 455
        }
      },
      "source": [
        "pivot_cash"
      ],
      "execution_count": 0,
      "outputs": [
        {
          "output_type": "execute_result",
          "data": {
            "text/html": [
              "<div>\n",
              "<style scoped>\n",
              "    .dataframe tbody tr th:only-of-type {\n",
              "        vertical-align: middle;\n",
              "    }\n",
              "\n",
              "    .dataframe tbody tr th {\n",
              "        vertical-align: top;\n",
              "    }\n",
              "\n",
              "    .dataframe thead th {\n",
              "        text-align: right;\n",
              "    }\n",
              "</style>\n",
              "<table border=\"1\" class=\"dataframe\">\n",
              "  <thead>\n",
              "    <tr style=\"text-align: right;\">\n",
              "      <th>Date</th>\n",
              "      <th>2019-09-16 00:00:00</th>\n",
              "      <th>2019-09-17 00:00:00</th>\n",
              "      <th>2019-09-19 00:00:00</th>\n",
              "      <th>2019-09-20 00:00:00</th>\n",
              "      <th>2019-09-21 00:00:00</th>\n",
              "      <th>2019-09-23 00:00:00</th>\n",
              "      <th>2019-09-24 00:00:00</th>\n",
              "      <th>2019-09-25 00:00:00</th>\n",
              "      <th>2019-09-26 00:00:00</th>\n",
              "      <th>2019-09-27 00:00:00</th>\n",
              "      <th>2019-09-28 00:00:00</th>\n",
              "      <th>2019-09-29 00:00:00</th>\n",
              "      <th>2019-10-01 00:00:00</th>\n",
              "      <th>Total Cash</th>\n",
              "    </tr>\n",
              "    <tr>\n",
              "      <th>Name</th>\n",
              "      <th></th>\n",
              "      <th></th>\n",
              "      <th></th>\n",
              "      <th></th>\n",
              "      <th></th>\n",
              "      <th></th>\n",
              "      <th></th>\n",
              "      <th></th>\n",
              "      <th></th>\n",
              "      <th></th>\n",
              "      <th></th>\n",
              "      <th></th>\n",
              "      <th></th>\n",
              "      <th></th>\n",
              "    </tr>\n",
              "  </thead>\n",
              "  <tbody>\n",
              "    <tr>\n",
              "      <th>akram</th>\n",
              "      <td>0.0</td>\n",
              "      <td>200.0</td>\n",
              "      <td>0.0</td>\n",
              "      <td>150.0</td>\n",
              "      <td>0.0</td>\n",
              "      <td>1250.0</td>\n",
              "      <td>0.0</td>\n",
              "      <td>200.0</td>\n",
              "      <td>0.0</td>\n",
              "      <td>0.0</td>\n",
              "      <td>0.0</td>\n",
              "      <td>0.0</td>\n",
              "      <td>0.0</td>\n",
              "      <td>1800.0</td>\n",
              "    </tr>\n",
              "    <tr>\n",
              "      <th>bhura</th>\n",
              "      <td>0.0</td>\n",
              "      <td>0.0</td>\n",
              "      <td>100.0</td>\n",
              "      <td>0.0</td>\n",
              "      <td>500.0</td>\n",
              "      <td>100.0</td>\n",
              "      <td>0.0</td>\n",
              "      <td>0.0</td>\n",
              "      <td>0.0</td>\n",
              "      <td>0.0</td>\n",
              "      <td>0.0</td>\n",
              "      <td>170.0</td>\n",
              "      <td>0.0</td>\n",
              "      <td>870.0</td>\n",
              "    </tr>\n",
              "    <tr>\n",
              "      <th>dinesh</th>\n",
              "      <td>300.0</td>\n",
              "      <td>0.0</td>\n",
              "      <td>0.0</td>\n",
              "      <td>0.0</td>\n",
              "      <td>0.0</td>\n",
              "      <td>1000.0</td>\n",
              "      <td>0.0</td>\n",
              "      <td>0.0</td>\n",
              "      <td>0.0</td>\n",
              "      <td>0.0</td>\n",
              "      <td>0.0</td>\n",
              "      <td>0.0</td>\n",
              "      <td>0.0</td>\n",
              "      <td>1300.0</td>\n",
              "    </tr>\n",
              "    <tr>\n",
              "      <th>gulfam</th>\n",
              "      <td>0.0</td>\n",
              "      <td>0.0</td>\n",
              "      <td>0.0</td>\n",
              "      <td>500.0</td>\n",
              "      <td>0.0</td>\n",
              "      <td>0.0</td>\n",
              "      <td>600.0</td>\n",
              "      <td>0.0</td>\n",
              "      <td>1000.0</td>\n",
              "      <td>0.0</td>\n",
              "      <td>1000.0</td>\n",
              "      <td>0.0</td>\n",
              "      <td>0.0</td>\n",
              "      <td>3100.0</td>\n",
              "    </tr>\n",
              "    <tr>\n",
              "      <th>imran</th>\n",
              "      <td>400.0</td>\n",
              "      <td>200.0</td>\n",
              "      <td>100.0</td>\n",
              "      <td>200.0</td>\n",
              "      <td>1000.0</td>\n",
              "      <td>0.0</td>\n",
              "      <td>0.0</td>\n",
              "      <td>0.0</td>\n",
              "      <td>500.0</td>\n",
              "      <td>0.0</td>\n",
              "      <td>0.0</td>\n",
              "      <td>0.0</td>\n",
              "      <td>0.0</td>\n",
              "      <td>2400.0</td>\n",
              "    </tr>\n",
              "    <tr>\n",
              "      <th>jabir</th>\n",
              "      <td>0.0</td>\n",
              "      <td>0.0</td>\n",
              "      <td>0.0</td>\n",
              "      <td>0.0</td>\n",
              "      <td>0.0</td>\n",
              "      <td>0.0</td>\n",
              "      <td>0.0</td>\n",
              "      <td>1000.0</td>\n",
              "      <td>0.0</td>\n",
              "      <td>0.0</td>\n",
              "      <td>0.0</td>\n",
              "      <td>0.0</td>\n",
              "      <td>0.0</td>\n",
              "      <td>1000.0</td>\n",
              "    </tr>\n",
              "    <tr>\n",
              "      <th>julfan</th>\n",
              "      <td>500.0</td>\n",
              "      <td>0.0</td>\n",
              "      <td>6000.0</td>\n",
              "      <td>0.0</td>\n",
              "      <td>200.0</td>\n",
              "      <td>0.0</td>\n",
              "      <td>0.0</td>\n",
              "      <td>0.0</td>\n",
              "      <td>200.0</td>\n",
              "      <td>3000.0</td>\n",
              "      <td>0.0</td>\n",
              "      <td>0.0</td>\n",
              "      <td>0.0</td>\n",
              "      <td>9900.0</td>\n",
              "    </tr>\n",
              "    <tr>\n",
              "      <th>khurseed</th>\n",
              "      <td>0.0</td>\n",
              "      <td>500.0</td>\n",
              "      <td>13000.0</td>\n",
              "      <td>200.0</td>\n",
              "      <td>0.0</td>\n",
              "      <td>0.0</td>\n",
              "      <td>0.0</td>\n",
              "      <td>0.0</td>\n",
              "      <td>0.0</td>\n",
              "      <td>0.0</td>\n",
              "      <td>0.0</td>\n",
              "      <td>0.0</td>\n",
              "      <td>200.0</td>\n",
              "      <td>13900.0</td>\n",
              "    </tr>\n",
              "    <tr>\n",
              "      <th>saddam</th>\n",
              "      <td>0.0</td>\n",
              "      <td>0.0</td>\n",
              "      <td>0.0</td>\n",
              "      <td>0.0</td>\n",
              "      <td>0.0</td>\n",
              "      <td>0.0</td>\n",
              "      <td>0.0</td>\n",
              "      <td>0.0</td>\n",
              "      <td>500.0</td>\n",
              "      <td>0.0</td>\n",
              "      <td>0.0</td>\n",
              "      <td>0.0</td>\n",
              "      <td>0.0</td>\n",
              "      <td>500.0</td>\n",
              "    </tr>\n",
              "    <tr>\n",
              "      <th>vakil jcb</th>\n",
              "      <td>0.0</td>\n",
              "      <td>1000.0</td>\n",
              "      <td>1000.0</td>\n",
              "      <td>0.0</td>\n",
              "      <td>3000.0</td>\n",
              "      <td>0.0</td>\n",
              "      <td>1900.0</td>\n",
              "      <td>0.0</td>\n",
              "      <td>500.0</td>\n",
              "      <td>0.0</td>\n",
              "      <td>0.0</td>\n",
              "      <td>500.0</td>\n",
              "      <td>5000.0</td>\n",
              "      <td>12900.0</td>\n",
              "    </tr>\n",
              "    <tr>\n",
              "      <th>zishan</th>\n",
              "      <td>0.0</td>\n",
              "      <td>500.0</td>\n",
              "      <td>0.0</td>\n",
              "      <td>0.0</td>\n",
              "      <td>0.0</td>\n",
              "      <td>0.0</td>\n",
              "      <td>0.0</td>\n",
              "      <td>0.0</td>\n",
              "      <td>0.0</td>\n",
              "      <td>0.0</td>\n",
              "      <td>0.0</td>\n",
              "      <td>500.0</td>\n",
              "      <td>0.0</td>\n",
              "      <td>1000.0</td>\n",
              "    </tr>\n",
              "  </tbody>\n",
              "</table>\n",
              "</div>"
            ],
            "text/plain": [
              "Date       2019-09-16 00:00:00  ...  Total Cash\n",
              "Name                            ...            \n",
              "akram                      0.0  ...      1800.0\n",
              "bhura                      0.0  ...       870.0\n",
              "dinesh                   300.0  ...      1300.0\n",
              "gulfam                     0.0  ...      3100.0\n",
              "imran                    400.0  ...      2400.0\n",
              "jabir                      0.0  ...      1000.0\n",
              "julfan                   500.0  ...      9900.0\n",
              "khurseed                   0.0  ...     13900.0\n",
              "saddam                     0.0  ...       500.0\n",
              "vakil jcb                  0.0  ...     12900.0\n",
              "zishan                     0.0  ...      1000.0\n",
              "\n",
              "[11 rows x 14 columns]"
            ]
          },
          "metadata": {
            "tags": []
          },
          "execution_count": 53
        }
      ]
    },
    {
      "cell_type": "code",
      "metadata": {
        "id": "jyp4QkHLo82j",
        "colab_type": "code",
        "outputId": "f1d2c3f6-3488-4c5a-ffff-e21862579207",
        "colab": {
          "base_uri": "https://localhost:8080/",
          "height": 731
        }
      },
      "source": [
        "diesel_by_name = pivot_diesel[['Total Diesel']]\n",
        "diesel_by_name"
      ],
      "execution_count": 0,
      "outputs": [
        {
          "output_type": "execute_result",
          "data": {
            "text/html": [
              "<div>\n",
              "<style scoped>\n",
              "    .dataframe tbody tr th:only-of-type {\n",
              "        vertical-align: middle;\n",
              "    }\n",
              "\n",
              "    .dataframe tbody tr th {\n",
              "        vertical-align: top;\n",
              "    }\n",
              "\n",
              "    .dataframe thead th {\n",
              "        text-align: right;\n",
              "    }\n",
              "</style>\n",
              "<table border=\"1\" class=\"dataframe\">\n",
              "  <thead>\n",
              "    <tr style=\"text-align: right;\">\n",
              "      <th>Date</th>\n",
              "      <th>Total Diesel</th>\n",
              "    </tr>\n",
              "    <tr>\n",
              "      <th>Name</th>\n",
              "      <th></th>\n",
              "    </tr>\n",
              "  </thead>\n",
              "  <tbody>\n",
              "    <tr>\n",
              "      <th>akram</th>\n",
              "      <td>4000.0</td>\n",
              "    </tr>\n",
              "    <tr>\n",
              "      <th>amjad</th>\n",
              "      <td>10000.0</td>\n",
              "    </tr>\n",
              "    <tr>\n",
              "      <th>bhura</th>\n",
              "      <td>14000.0</td>\n",
              "    </tr>\n",
              "    <tr>\n",
              "      <th>car</th>\n",
              "      <td>1000.0</td>\n",
              "    </tr>\n",
              "    <tr>\n",
              "      <th>cash</th>\n",
              "      <td>43900.0</td>\n",
              "    </tr>\n",
              "    <tr>\n",
              "      <th>dinesh</th>\n",
              "      <td>6000.0</td>\n",
              "    </tr>\n",
              "    <tr>\n",
              "      <th>gulfam</th>\n",
              "      <td>13000.0</td>\n",
              "    </tr>\n",
              "    <tr>\n",
              "      <th>hasan</th>\n",
              "      <td>8000.0</td>\n",
              "    </tr>\n",
              "    <tr>\n",
              "      <th>imran</th>\n",
              "      <td>18000.0</td>\n",
              "    </tr>\n",
              "    <tr>\n",
              "      <th>jabir</th>\n",
              "      <td>13000.0</td>\n",
              "    </tr>\n",
              "    <tr>\n",
              "      <th>julfan</th>\n",
              "      <td>11900.0</td>\n",
              "    </tr>\n",
              "    <tr>\n",
              "      <th>khan</th>\n",
              "      <td>2000.0</td>\n",
              "    </tr>\n",
              "    <tr>\n",
              "      <th>khurseed</th>\n",
              "      <td>17200.0</td>\n",
              "    </tr>\n",
              "    <tr>\n",
              "      <th>mujahid</th>\n",
              "      <td>2000.0</td>\n",
              "    </tr>\n",
              "    <tr>\n",
              "      <th>mukarram</th>\n",
              "      <td>5000.0</td>\n",
              "    </tr>\n",
              "    <tr>\n",
              "      <th>rasid</th>\n",
              "      <td>14000.0</td>\n",
              "    </tr>\n",
              "    <tr>\n",
              "      <th>sabir jcb</th>\n",
              "      <td>3500.0</td>\n",
              "    </tr>\n",
              "    <tr>\n",
              "      <th>saddam</th>\n",
              "      <td>12000.0</td>\n",
              "    </tr>\n",
              "    <tr>\n",
              "      <th>total</th>\n",
              "      <td>220300.0</td>\n",
              "    </tr>\n",
              "    <tr>\n",
              "      <th>vakil jcb</th>\n",
              "      <td>19800.0</td>\n",
              "    </tr>\n",
              "    <tr>\n",
              "      <th>zishan</th>\n",
              "      <td>2000.0</td>\n",
              "    </tr>\n",
              "  </tbody>\n",
              "</table>\n",
              "</div>"
            ],
            "text/plain": [
              "Date       Total Diesel\n",
              "Name                   \n",
              "akram            4000.0\n",
              "amjad           10000.0\n",
              "bhura           14000.0\n",
              "car              1000.0\n",
              "cash            43900.0\n",
              "dinesh           6000.0\n",
              "gulfam          13000.0\n",
              "hasan            8000.0\n",
              "imran           18000.0\n",
              "jabir           13000.0\n",
              "julfan          11900.0\n",
              "khan             2000.0\n",
              "khurseed        17200.0\n",
              "mujahid          2000.0\n",
              "mukarram         5000.0\n",
              "rasid           14000.0\n",
              "sabir jcb        3500.0\n",
              "saddam          12000.0\n",
              "total          220300.0\n",
              "vakil jcb       19800.0\n",
              "zishan           2000.0"
            ]
          },
          "metadata": {
            "tags": []
          },
          "execution_count": 54
        }
      ]
    },
    {
      "cell_type": "code",
      "metadata": {
        "id": "xr3GfPY8uZh4",
        "colab_type": "code",
        "outputId": "967cda06-4e0e-4765-ccba-e8cfed1aaaf3",
        "colab": {
          "base_uri": "https://localhost:8080/",
          "height": 374
        }
      },
      "source": [
        "name1 = set(diesel_by_name.index)\n",
        "name1"
      ],
      "execution_count": 0,
      "outputs": [
        {
          "output_type": "execute_result",
          "data": {
            "text/plain": [
              "{'akram',\n",
              " 'amjad',\n",
              " 'bhura',\n",
              " 'car',\n",
              " 'cash',\n",
              " 'dinesh',\n",
              " 'gulfam',\n",
              " 'hasan',\n",
              " 'imran',\n",
              " 'jabir',\n",
              " 'julfan',\n",
              " 'khan',\n",
              " 'khurseed',\n",
              " 'mujahid',\n",
              " 'mukarram',\n",
              " 'rasid',\n",
              " 'sabir jcb',\n",
              " 'saddam',\n",
              " 'total',\n",
              " 'vakil jcb',\n",
              " 'zishan'}"
            ]
          },
          "metadata": {
            "tags": []
          },
          "execution_count": 55
        }
      ]
    },
    {
      "cell_type": "code",
      "metadata": {
        "id": "h10vC_kFukc8",
        "colab_type": "code",
        "outputId": "657e4eec-b478-4a38-9ec0-39f2e29e5da1",
        "colab": {
          "base_uri": "https://localhost:8080/",
          "height": 306
        }
      },
      "source": [
        "name2 = set(df.Name.unique())\n",
        "name2"
      ],
      "execution_count": 0,
      "outputs": [
        {
          "output_type": "execute_result",
          "data": {
            "text/plain": [
              "{'akram',\n",
              " 'amjad',\n",
              " 'aslam',\n",
              " 'bhura',\n",
              " 'dinesh',\n",
              " 'gulfam',\n",
              " 'hasan',\n",
              " 'imran',\n",
              " 'jabir',\n",
              " 'julfan',\n",
              " 'khan',\n",
              " 'khurseed',\n",
              " 'mujahid',\n",
              " 'mukarram',\n",
              " 'rasid',\n",
              " 'saddam',\n",
              " 'zishan'}"
            ]
          },
          "metadata": {
            "tags": []
          },
          "execution_count": 56
        }
      ]
    },
    {
      "cell_type": "code",
      "metadata": {
        "id": "kqNXDGCtut-9",
        "colab_type": "code",
        "outputId": "f4e2efe8-5750-4b5a-f7f4-7052f40a8072",
        "colab": {
          "base_uri": "https://localhost:8080/",
          "height": 34
        }
      },
      "source": [
        "name1 - name2"
      ],
      "execution_count": 0,
      "outputs": [
        {
          "output_type": "execute_result",
          "data": {
            "text/plain": [
              "{'car', 'cash', 'sabir jcb', 'total', 'vakil jcb'}"
            ]
          },
          "metadata": {
            "tags": []
          },
          "execution_count": 57
        }
      ]
    },
    {
      "cell_type": "code",
      "metadata": {
        "id": "430Wpvz0u0zn",
        "colab_type": "code",
        "outputId": "d7a1bc14-6d49-4b32-f2fa-c8debd1ea4d6",
        "colab": {
          "base_uri": "https://localhost:8080/",
          "height": 421
        }
      },
      "source": [
        "cash_by_name = pivot_cash[['Total Cash']]\n",
        "cash_by_name"
      ],
      "execution_count": 0,
      "outputs": [
        {
          "output_type": "execute_result",
          "data": {
            "text/html": [
              "<div>\n",
              "<style scoped>\n",
              "    .dataframe tbody tr th:only-of-type {\n",
              "        vertical-align: middle;\n",
              "    }\n",
              "\n",
              "    .dataframe tbody tr th {\n",
              "        vertical-align: top;\n",
              "    }\n",
              "\n",
              "    .dataframe thead th {\n",
              "        text-align: right;\n",
              "    }\n",
              "</style>\n",
              "<table border=\"1\" class=\"dataframe\">\n",
              "  <thead>\n",
              "    <tr style=\"text-align: right;\">\n",
              "      <th>Date</th>\n",
              "      <th>Total Cash</th>\n",
              "    </tr>\n",
              "    <tr>\n",
              "      <th>Name</th>\n",
              "      <th></th>\n",
              "    </tr>\n",
              "  </thead>\n",
              "  <tbody>\n",
              "    <tr>\n",
              "      <th>akram</th>\n",
              "      <td>1800.0</td>\n",
              "    </tr>\n",
              "    <tr>\n",
              "      <th>bhura</th>\n",
              "      <td>870.0</td>\n",
              "    </tr>\n",
              "    <tr>\n",
              "      <th>dinesh</th>\n",
              "      <td>1300.0</td>\n",
              "    </tr>\n",
              "    <tr>\n",
              "      <th>gulfam</th>\n",
              "      <td>3100.0</td>\n",
              "    </tr>\n",
              "    <tr>\n",
              "      <th>imran</th>\n",
              "      <td>2400.0</td>\n",
              "    </tr>\n",
              "    <tr>\n",
              "      <th>jabir</th>\n",
              "      <td>1000.0</td>\n",
              "    </tr>\n",
              "    <tr>\n",
              "      <th>julfan</th>\n",
              "      <td>9900.0</td>\n",
              "    </tr>\n",
              "    <tr>\n",
              "      <th>khurseed</th>\n",
              "      <td>13900.0</td>\n",
              "    </tr>\n",
              "    <tr>\n",
              "      <th>saddam</th>\n",
              "      <td>500.0</td>\n",
              "    </tr>\n",
              "    <tr>\n",
              "      <th>vakil jcb</th>\n",
              "      <td>12900.0</td>\n",
              "    </tr>\n",
              "    <tr>\n",
              "      <th>zishan</th>\n",
              "      <td>1000.0</td>\n",
              "    </tr>\n",
              "  </tbody>\n",
              "</table>\n",
              "</div>"
            ],
            "text/plain": [
              "Date       Total Cash\n",
              "Name                 \n",
              "akram          1800.0\n",
              "bhura           870.0\n",
              "dinesh         1300.0\n",
              "gulfam         3100.0\n",
              "imran          2400.0\n",
              "jabir          1000.0\n",
              "julfan         9900.0\n",
              "khurseed      13900.0\n",
              "saddam          500.0\n",
              "vakil jcb     12900.0\n",
              "zishan         1000.0"
            ]
          },
          "metadata": {
            "tags": []
          },
          "execution_count": 58
        }
      ]
    },
    {
      "cell_type": "markdown",
      "metadata": {
        "id": "jsQ52FyRCZz9",
        "colab_type": "text"
      },
      "source": [
        "# Total Quantity per name"
      ]
    },
    {
      "cell_type": "code",
      "metadata": {
        "id": "aAtFy8oyD3dM",
        "colab_type": "code",
        "colab": {}
      },
      "source": [
        "name_groups = df.groupby('Name')\n",
        "name_total_quantity = pd.DataFrame(columns = ['Name', 'Total Quantity'])\n",
        "for i, j in name_groups:\n",
        "  name_total_quantity = name_total_quantity.append({'Name':i, 'Total Quantity': sum(j.Quantity)}, ignore_index = True)\n",
        "  \n",
        "name_total_quantity.sort_values(by = ['Total Quantity'], ascending = False, inplace = True)"
      ],
      "execution_count": 0,
      "outputs": []
    },
    {
      "cell_type": "code",
      "metadata": {
        "id": "4VCgjQr2INk1",
        "colab_type": "code",
        "outputId": "a0045f24-e8f2-45f6-95a8-e57845d00fa3",
        "colab": {
          "base_uri": "https://localhost:8080/",
          "height": 576
        }
      },
      "source": [
        "name_total_quantity"
      ],
      "execution_count": 0,
      "outputs": [
        {
          "output_type": "execute_result",
          "data": {
            "text/html": [
              "<div>\n",
              "<style scoped>\n",
              "    .dataframe tbody tr th:only-of-type {\n",
              "        vertical-align: middle;\n",
              "    }\n",
              "\n",
              "    .dataframe tbody tr th {\n",
              "        vertical-align: top;\n",
              "    }\n",
              "\n",
              "    .dataframe thead th {\n",
              "        text-align: right;\n",
              "    }\n",
              "</style>\n",
              "<table border=\"1\" class=\"dataframe\">\n",
              "  <thead>\n",
              "    <tr style=\"text-align: right;\">\n",
              "      <th></th>\n",
              "      <th>Name</th>\n",
              "      <th>Total Quantity</th>\n",
              "    </tr>\n",
              "  </thead>\n",
              "  <tbody>\n",
              "    <tr>\n",
              "      <th>7</th>\n",
              "      <td>imran</td>\n",
              "      <td>11513</td>\n",
              "    </tr>\n",
              "    <tr>\n",
              "      <th>14</th>\n",
              "      <td>rasid</td>\n",
              "      <td>10962</td>\n",
              "    </tr>\n",
              "    <tr>\n",
              "      <th>11</th>\n",
              "      <td>khurseed</td>\n",
              "      <td>9775</td>\n",
              "    </tr>\n",
              "    <tr>\n",
              "      <th>5</th>\n",
              "      <td>gulfam</td>\n",
              "      <td>8739</td>\n",
              "    </tr>\n",
              "    <tr>\n",
              "      <th>15</th>\n",
              "      <td>saddam</td>\n",
              "      <td>8370</td>\n",
              "    </tr>\n",
              "    <tr>\n",
              "      <th>3</th>\n",
              "      <td>bhura</td>\n",
              "      <td>8337</td>\n",
              "    </tr>\n",
              "    <tr>\n",
              "      <th>8</th>\n",
              "      <td>jabir</td>\n",
              "      <td>7072</td>\n",
              "    </tr>\n",
              "    <tr>\n",
              "      <th>9</th>\n",
              "      <td>julfan</td>\n",
              "      <td>6630</td>\n",
              "    </tr>\n",
              "    <tr>\n",
              "      <th>4</th>\n",
              "      <td>dinesh</td>\n",
              "      <td>6045</td>\n",
              "    </tr>\n",
              "    <tr>\n",
              "      <th>1</th>\n",
              "      <td>amjad</td>\n",
              "      <td>5925</td>\n",
              "    </tr>\n",
              "    <tr>\n",
              "      <th>6</th>\n",
              "      <td>hasan</td>\n",
              "      <td>4800</td>\n",
              "    </tr>\n",
              "    <tr>\n",
              "      <th>13</th>\n",
              "      <td>mukarram</td>\n",
              "      <td>4000</td>\n",
              "    </tr>\n",
              "    <tr>\n",
              "      <th>0</th>\n",
              "      <td>akram</td>\n",
              "      <td>2160</td>\n",
              "    </tr>\n",
              "    <tr>\n",
              "      <th>16</th>\n",
              "      <td>zishan</td>\n",
              "      <td>1936</td>\n",
              "    </tr>\n",
              "    <tr>\n",
              "      <th>10</th>\n",
              "      <td>khan</td>\n",
              "      <td>1700</td>\n",
              "    </tr>\n",
              "    <tr>\n",
              "      <th>12</th>\n",
              "      <td>mujahid</td>\n",
              "      <td>1140</td>\n",
              "    </tr>\n",
              "    <tr>\n",
              "      <th>2</th>\n",
              "      <td>aslam</td>\n",
              "      <td>484</td>\n",
              "    </tr>\n",
              "  </tbody>\n",
              "</table>\n",
              "</div>"
            ],
            "text/plain": [
              "        Name Total Quantity\n",
              "7      imran          11513\n",
              "14     rasid          10962\n",
              "11  khurseed           9775\n",
              "5     gulfam           8739\n",
              "15    saddam           8370\n",
              "3      bhura           8337\n",
              "8      jabir           7072\n",
              "9     julfan           6630\n",
              "4     dinesh           6045\n",
              "1      amjad           5925\n",
              "6      hasan           4800\n",
              "13  mukarram           4000\n",
              "0      akram           2160\n",
              "16    zishan           1936\n",
              "10      khan           1700\n",
              "12   mujahid           1140\n",
              "2      aslam            484"
            ]
          },
          "metadata": {
            "tags": []
          },
          "execution_count": 60
        }
      ]
    },
    {
      "cell_type": "code",
      "metadata": {
        "colab_type": "code",
        "id": "DDtvAy58pvm_",
        "colab": {}
      },
      "source": [
        "diesel_by_name.reset_index(inplace = True)"
      ],
      "execution_count": 0,
      "outputs": []
    },
    {
      "cell_type": "code",
      "metadata": {
        "id": "QmuplIIOMtwd",
        "colab_type": "code",
        "outputId": "b72724a2-cda8-43c0-b960-582082452390",
        "colab": {
          "base_uri": "https://localhost:8080/",
          "height": 80
        }
      },
      "source": [
        "diesel_by_name.head(1)"
      ],
      "execution_count": 0,
      "outputs": [
        {
          "output_type": "execute_result",
          "data": {
            "text/html": [
              "<div>\n",
              "<style scoped>\n",
              "    .dataframe tbody tr th:only-of-type {\n",
              "        vertical-align: middle;\n",
              "    }\n",
              "\n",
              "    .dataframe tbody tr th {\n",
              "        vertical-align: top;\n",
              "    }\n",
              "\n",
              "    .dataframe thead th {\n",
              "        text-align: right;\n",
              "    }\n",
              "</style>\n",
              "<table border=\"1\" class=\"dataframe\">\n",
              "  <thead>\n",
              "    <tr style=\"text-align: right;\">\n",
              "      <th>Date</th>\n",
              "      <th>Name</th>\n",
              "      <th>Total Diesel</th>\n",
              "    </tr>\n",
              "  </thead>\n",
              "  <tbody>\n",
              "    <tr>\n",
              "      <th>0</th>\n",
              "      <td>akram</td>\n",
              "      <td>4000.0</td>\n",
              "    </tr>\n",
              "  </tbody>\n",
              "</table>\n",
              "</div>"
            ],
            "text/plain": [
              "Date   Name  Total Diesel\n",
              "0     akram        4000.0"
            ]
          },
          "metadata": {
            "tags": []
          },
          "execution_count": 62
        }
      ]
    },
    {
      "cell_type": "code",
      "metadata": {
        "id": "so70WbIwvQtl",
        "colab_type": "code",
        "colab": {}
      },
      "source": [
        "cash_by_name.reset_index(inplace = True)"
      ],
      "execution_count": 0,
      "outputs": []
    },
    {
      "cell_type": "code",
      "metadata": {
        "id": "u7AQP4nOvUJE",
        "colab_type": "code",
        "outputId": "f6610c14-6221-49c8-b7e1-e8b440f405ff",
        "colab": {
          "base_uri": "https://localhost:8080/",
          "height": 111
        }
      },
      "source": [
        "cash_by_name.head(2)"
      ],
      "execution_count": 0,
      "outputs": [
        {
          "output_type": "execute_result",
          "data": {
            "text/html": [
              "<div>\n",
              "<style scoped>\n",
              "    .dataframe tbody tr th:only-of-type {\n",
              "        vertical-align: middle;\n",
              "    }\n",
              "\n",
              "    .dataframe tbody tr th {\n",
              "        vertical-align: top;\n",
              "    }\n",
              "\n",
              "    .dataframe thead th {\n",
              "        text-align: right;\n",
              "    }\n",
              "</style>\n",
              "<table border=\"1\" class=\"dataframe\">\n",
              "  <thead>\n",
              "    <tr style=\"text-align: right;\">\n",
              "      <th>Date</th>\n",
              "      <th>Name</th>\n",
              "      <th>Total Cash</th>\n",
              "    </tr>\n",
              "  </thead>\n",
              "  <tbody>\n",
              "    <tr>\n",
              "      <th>0</th>\n",
              "      <td>akram</td>\n",
              "      <td>1800.0</td>\n",
              "    </tr>\n",
              "    <tr>\n",
              "      <th>1</th>\n",
              "      <td>bhura</td>\n",
              "      <td>870.0</td>\n",
              "    </tr>\n",
              "  </tbody>\n",
              "</table>\n",
              "</div>"
            ],
            "text/plain": [
              "Date   Name  Total Cash\n",
              "0     akram      1800.0\n",
              "1     bhura       870.0"
            ]
          },
          "metadata": {
            "tags": []
          },
          "execution_count": 64
        }
      ]
    },
    {
      "cell_type": "code",
      "metadata": {
        "id": "cJvCrs5eHUzH",
        "colab_type": "code",
        "outputId": "ce18803d-8c3a-4b84-dff0-e0413366d51e",
        "colab": {
          "base_uri": "https://localhost:8080/",
          "height": 34
        }
      },
      "source": [
        "name_total_quantity.shape"
      ],
      "execution_count": 0,
      "outputs": [
        {
          "output_type": "execute_result",
          "data": {
            "text/plain": [
              "(17, 2)"
            ]
          },
          "metadata": {
            "tags": []
          },
          "execution_count": 67
        }
      ]
    },
    {
      "cell_type": "code",
      "metadata": {
        "id": "bIgFlZSgHZ2Z",
        "colab_type": "code",
        "outputId": "345c9f9d-c3b9-461e-93c4-6c72775eba9e",
        "colab": {
          "base_uri": "https://localhost:8080/",
          "height": 34
        }
      },
      "source": [
        "diesel_by_name.shape"
      ],
      "execution_count": 0,
      "outputs": [
        {
          "output_type": "execute_result",
          "data": {
            "text/plain": [
              "(21, 2)"
            ]
          },
          "metadata": {
            "tags": []
          },
          "execution_count": 68
        }
      ]
    },
    {
      "cell_type": "code",
      "metadata": {
        "id": "46Noe8OuvaSQ",
        "colab_type": "code",
        "outputId": "3709452a-2b01-44bc-c159-cb020353f202",
        "colab": {
          "base_uri": "https://localhost:8080/",
          "height": 34
        }
      },
      "source": [
        "name1 - name2"
      ],
      "execution_count": 0,
      "outputs": [
        {
          "output_type": "execute_result",
          "data": {
            "text/plain": [
              "{'car', 'cash', 'sabir jcb', 'total', 'vakil jcb'}"
            ]
          },
          "metadata": {
            "tags": []
          },
          "execution_count": 69
        }
      ]
    },
    {
      "cell_type": "code",
      "metadata": {
        "id": "p8XeiyaPw1eD",
        "colab_type": "code",
        "outputId": "9b7916cf-c3f9-46fe-edc8-f4590b68e60e",
        "colab": {
          "base_uri": "https://localhost:8080/",
          "height": 68
        }
      },
      "source": [
        "names = df.Name.unique()\n",
        "names"
      ],
      "execution_count": 0,
      "outputs": [
        {
          "output_type": "execute_result",
          "data": {
            "text/plain": [
              "array(['khurseed', 'gulfam', 'bhura', 'rasid', 'akram', 'imran',\n",
              "       'mukarram', 'julfan', 'jabir', 'dinesh', 'zishan', 'khan',\n",
              "       'mujahid', 'saddam', 'aslam', 'amjad', 'hasan'], dtype=object)"
            ]
          },
          "metadata": {
            "tags": []
          },
          "execution_count": 71
        }
      ]
    },
    {
      "cell_type": "code",
      "metadata": {
        "id": "QSmut8iIxZ5J",
        "colab_type": "code",
        "outputId": "d8ebe475-b0ef-4d0b-9279-8715b559c54a",
        "colab": {
          "base_uri": "https://localhost:8080/",
          "height": 80
        }
      },
      "source": [
        "diesel_by_name.head(1)"
      ],
      "execution_count": 0,
      "outputs": [
        {
          "output_type": "execute_result",
          "data": {
            "text/html": [
              "<div>\n",
              "<style scoped>\n",
              "    .dataframe tbody tr th:only-of-type {\n",
              "        vertical-align: middle;\n",
              "    }\n",
              "\n",
              "    .dataframe tbody tr th {\n",
              "        vertical-align: top;\n",
              "    }\n",
              "\n",
              "    .dataframe thead th {\n",
              "        text-align: right;\n",
              "    }\n",
              "</style>\n",
              "<table border=\"1\" class=\"dataframe\">\n",
              "  <thead>\n",
              "    <tr style=\"text-align: right;\">\n",
              "      <th>Date</th>\n",
              "      <th>Name</th>\n",
              "      <th>Total Diesel</th>\n",
              "    </tr>\n",
              "  </thead>\n",
              "  <tbody>\n",
              "    <tr>\n",
              "      <th>0</th>\n",
              "      <td>akram</td>\n",
              "      <td>4000.0</td>\n",
              "    </tr>\n",
              "  </tbody>\n",
              "</table>\n",
              "</div>"
            ],
            "text/plain": [
              "Date   Name  Total Diesel\n",
              "0     akram        4000.0"
            ]
          },
          "metadata": {
            "tags": []
          },
          "execution_count": 72
        }
      ]
    },
    {
      "cell_type": "code",
      "metadata": {
        "id": "Dt0tY1MmKWaE",
        "colab_type": "code",
        "colab": {}
      },
      "source": [
        "final = pd.DataFrame(columns = ['Name','Rounds' , 'Total Quantity', 'Amount', 'Diesel', 'Amount - Diesel', 'Cash', 'Balance'])\n",
        "for i in names:\n",
        "    total_quantity = name_total_quantity[name_total_quantity.Name == i]['Total Quantity'].values[0]\n",
        "    if i in diesel_by_name.Name.values:\n",
        "      total_diesel = diesel_by_name[diesel_by_name.Name == i]['Total Diesel'].values[0]\n",
        "    else:\n",
        "      total_diesel = 0\n",
        "    try:\n",
        "        total_cash = cash_by_name[cash_by_name.Name == i]['Total Cash'].values[0]\n",
        "    except:\n",
        "        total_cash = 0\n",
        "    #print(i, total_cash)\n",
        "    final = final.append({'Name': i,'Total Quantity':total_quantity,\n",
        "                            'Rounds':rounds_per_name.get(i),\n",
        "                            'Amount':total_quantity*3,\n",
        "                            'Diesel':total_diesel,\n",
        "                            'Cash':total_cash,\n",
        "                            'Amount - Diesel':total_quantity*3 - total_diesel,\n",
        "                            'Balance':total_quantity*3 - total_diesel - total_cash},\n",
        "                           ignore_index = True)\n",
        "        \n",
        "    "
      ],
      "execution_count": 0,
      "outputs": []
    },
    {
      "cell_type": "code",
      "metadata": {
        "id": "pqq9bOw3M6j4",
        "colab_type": "code",
        "outputId": "3dfad3d0-b3c5-40c8-be63-df33b561bfd2",
        "colab": {
          "base_uri": "https://localhost:8080/",
          "height": 576
        }
      },
      "source": [
        "final.sort_values(by = 'Total Quantity', ascending = False, inplace = True)\n",
        "final"
      ],
      "execution_count": 0,
      "outputs": [
        {
          "output_type": "execute_result",
          "data": {
            "text/html": [
              "<div>\n",
              "<style scoped>\n",
              "    .dataframe tbody tr th:only-of-type {\n",
              "        vertical-align: middle;\n",
              "    }\n",
              "\n",
              "    .dataframe tbody tr th {\n",
              "        vertical-align: top;\n",
              "    }\n",
              "\n",
              "    .dataframe thead th {\n",
              "        text-align: right;\n",
              "    }\n",
              "</style>\n",
              "<table border=\"1\" class=\"dataframe\">\n",
              "  <thead>\n",
              "    <tr style=\"text-align: right;\">\n",
              "      <th></th>\n",
              "      <th>Name</th>\n",
              "      <th>Rounds</th>\n",
              "      <th>Total Quantity</th>\n",
              "      <th>Amount</th>\n",
              "      <th>Diesel</th>\n",
              "      <th>Amount - Diesel</th>\n",
              "      <th>Cash</th>\n",
              "      <th>Balance</th>\n",
              "    </tr>\n",
              "  </thead>\n",
              "  <tbody>\n",
              "    <tr>\n",
              "      <th>5</th>\n",
              "      <td>imran</td>\n",
              "      <td>29</td>\n",
              "      <td>11513</td>\n",
              "      <td>34539</td>\n",
              "      <td>18000.0</td>\n",
              "      <td>16539.0</td>\n",
              "      <td>2400.0</td>\n",
              "      <td>14139.0</td>\n",
              "    </tr>\n",
              "    <tr>\n",
              "      <th>3</th>\n",
              "      <td>rasid</td>\n",
              "      <td>27</td>\n",
              "      <td>10962</td>\n",
              "      <td>32886</td>\n",
              "      <td>14000.0</td>\n",
              "      <td>18886.0</td>\n",
              "      <td>0.0</td>\n",
              "      <td>18886.0</td>\n",
              "    </tr>\n",
              "    <tr>\n",
              "      <th>0</th>\n",
              "      <td>khurseed</td>\n",
              "      <td>25</td>\n",
              "      <td>9775</td>\n",
              "      <td>29325</td>\n",
              "      <td>17200.0</td>\n",
              "      <td>12125.0</td>\n",
              "      <td>13900.0</td>\n",
              "      <td>-1775.0</td>\n",
              "    </tr>\n",
              "    <tr>\n",
              "      <th>1</th>\n",
              "      <td>gulfam</td>\n",
              "      <td>19</td>\n",
              "      <td>8739</td>\n",
              "      <td>26217</td>\n",
              "      <td>13000.0</td>\n",
              "      <td>13217.0</td>\n",
              "      <td>3100.0</td>\n",
              "      <td>10117.0</td>\n",
              "    </tr>\n",
              "    <tr>\n",
              "      <th>13</th>\n",
              "      <td>saddam</td>\n",
              "      <td>18</td>\n",
              "      <td>8370</td>\n",
              "      <td>25110</td>\n",
              "      <td>12000.0</td>\n",
              "      <td>13110.0</td>\n",
              "      <td>500.0</td>\n",
              "      <td>12610.0</td>\n",
              "    </tr>\n",
              "    <tr>\n",
              "      <th>2</th>\n",
              "      <td>bhura</td>\n",
              "      <td>21</td>\n",
              "      <td>8337</td>\n",
              "      <td>25011</td>\n",
              "      <td>14000.0</td>\n",
              "      <td>11011.0</td>\n",
              "      <td>870.0</td>\n",
              "      <td>10141.0</td>\n",
              "    </tr>\n",
              "    <tr>\n",
              "      <th>8</th>\n",
              "      <td>jabir</td>\n",
              "      <td>17</td>\n",
              "      <td>7072</td>\n",
              "      <td>21216</td>\n",
              "      <td>13000.0</td>\n",
              "      <td>8216.0</td>\n",
              "      <td>1000.0</td>\n",
              "      <td>7216.0</td>\n",
              "    </tr>\n",
              "    <tr>\n",
              "      <th>7</th>\n",
              "      <td>julfan</td>\n",
              "      <td>17</td>\n",
              "      <td>6630</td>\n",
              "      <td>19890</td>\n",
              "      <td>11900.0</td>\n",
              "      <td>7990.0</td>\n",
              "      <td>9900.0</td>\n",
              "      <td>-1910.0</td>\n",
              "    </tr>\n",
              "    <tr>\n",
              "      <th>9</th>\n",
              "      <td>dinesh</td>\n",
              "      <td>13</td>\n",
              "      <td>6045</td>\n",
              "      <td>18135</td>\n",
              "      <td>6000.0</td>\n",
              "      <td>12135.0</td>\n",
              "      <td>1300.0</td>\n",
              "      <td>10835.0</td>\n",
              "    </tr>\n",
              "    <tr>\n",
              "      <th>15</th>\n",
              "      <td>amjad</td>\n",
              "      <td>15</td>\n",
              "      <td>5925</td>\n",
              "      <td>17775</td>\n",
              "      <td>10000.0</td>\n",
              "      <td>7775.0</td>\n",
              "      <td>0.0</td>\n",
              "      <td>7775.0</td>\n",
              "    </tr>\n",
              "    <tr>\n",
              "      <th>16</th>\n",
              "      <td>hasan</td>\n",
              "      <td>12</td>\n",
              "      <td>4800</td>\n",
              "      <td>14400</td>\n",
              "      <td>8000.0</td>\n",
              "      <td>6400.0</td>\n",
              "      <td>0.0</td>\n",
              "      <td>6400.0</td>\n",
              "    </tr>\n",
              "    <tr>\n",
              "      <th>6</th>\n",
              "      <td>mukarram</td>\n",
              "      <td>10</td>\n",
              "      <td>4000</td>\n",
              "      <td>12000</td>\n",
              "      <td>5000.0</td>\n",
              "      <td>7000.0</td>\n",
              "      <td>0.0</td>\n",
              "      <td>7000.0</td>\n",
              "    </tr>\n",
              "    <tr>\n",
              "      <th>4</th>\n",
              "      <td>akram</td>\n",
              "      <td>6</td>\n",
              "      <td>2160</td>\n",
              "      <td>6480</td>\n",
              "      <td>4000.0</td>\n",
              "      <td>2480.0</td>\n",
              "      <td>1800.0</td>\n",
              "      <td>680.0</td>\n",
              "    </tr>\n",
              "    <tr>\n",
              "      <th>10</th>\n",
              "      <td>zishan</td>\n",
              "      <td>4</td>\n",
              "      <td>1936</td>\n",
              "      <td>5808</td>\n",
              "      <td>2000.0</td>\n",
              "      <td>3808.0</td>\n",
              "      <td>1000.0</td>\n",
              "      <td>2808.0</td>\n",
              "    </tr>\n",
              "    <tr>\n",
              "      <th>11</th>\n",
              "      <td>khan</td>\n",
              "      <td>4</td>\n",
              "      <td>1700</td>\n",
              "      <td>5100</td>\n",
              "      <td>2000.0</td>\n",
              "      <td>3100.0</td>\n",
              "      <td>0.0</td>\n",
              "      <td>3100.0</td>\n",
              "    </tr>\n",
              "    <tr>\n",
              "      <th>12</th>\n",
              "      <td>mujahid</td>\n",
              "      <td>3</td>\n",
              "      <td>1140</td>\n",
              "      <td>3420</td>\n",
              "      <td>2000.0</td>\n",
              "      <td>1420.0</td>\n",
              "      <td>0.0</td>\n",
              "      <td>1420.0</td>\n",
              "    </tr>\n",
              "    <tr>\n",
              "      <th>14</th>\n",
              "      <td>aslam</td>\n",
              "      <td>1</td>\n",
              "      <td>484</td>\n",
              "      <td>1452</td>\n",
              "      <td>0.0</td>\n",
              "      <td>1452.0</td>\n",
              "      <td>0.0</td>\n",
              "      <td>1452.0</td>\n",
              "    </tr>\n",
              "  </tbody>\n",
              "</table>\n",
              "</div>"
            ],
            "text/plain": [
              "        Name Rounds Total Quantity  ... Amount - Diesel     Cash  Balance\n",
              "5      imran     29          11513  ...         16539.0   2400.0  14139.0\n",
              "3      rasid     27          10962  ...         18886.0      0.0  18886.0\n",
              "0   khurseed     25           9775  ...         12125.0  13900.0  -1775.0\n",
              "1     gulfam     19           8739  ...         13217.0   3100.0  10117.0\n",
              "13    saddam     18           8370  ...         13110.0    500.0  12610.0\n",
              "2      bhura     21           8337  ...         11011.0    870.0  10141.0\n",
              "8      jabir     17           7072  ...          8216.0   1000.0   7216.0\n",
              "7     julfan     17           6630  ...          7990.0   9900.0  -1910.0\n",
              "9     dinesh     13           6045  ...         12135.0   1300.0  10835.0\n",
              "15     amjad     15           5925  ...          7775.0      0.0   7775.0\n",
              "16     hasan     12           4800  ...          6400.0      0.0   6400.0\n",
              "6   mukarram     10           4000  ...          7000.0      0.0   7000.0\n",
              "4      akram      6           2160  ...          2480.0   1800.0    680.0\n",
              "10    zishan      4           1936  ...          3808.0   1000.0   2808.0\n",
              "11      khan      4           1700  ...          3100.0      0.0   3100.0\n",
              "12   mujahid      3           1140  ...          1420.0      0.0   1420.0\n",
              "14     aslam      1            484  ...          1452.0      0.0   1452.0\n",
              "\n",
              "[17 rows x 8 columns]"
            ]
          },
          "metadata": {
            "tags": []
          },
          "execution_count": 74
        }
      ]
    },
    {
      "cell_type": "code",
      "metadata": {
        "id": "K99WwZ-T7seR",
        "colab_type": "code",
        "outputId": "0e50dcb2-55c7-4541-fd6f-6b693ed99a42",
        "colab": {
          "base_uri": "https://localhost:8080/",
          "height": 170
        }
      },
      "source": [
        "final.sum()"
      ],
      "execution_count": 0,
      "outputs": [
        {
          "output_type": "execute_result",
          "data": {
            "text/plain": [
              "Name               imranrasidkhurseedgulfamsaddambhurajabirjulfan...\n",
              "Rounds                                                           241\n",
              "Total Quantity                                                 99588\n",
              "Amount                                                        298764\n",
              "Diesel                                                        152100\n",
              "Amount - Diesel                                               146664\n",
              "Cash                                                           35770\n",
              "Balance                                                       110894\n",
              "dtype: object"
            ]
          },
          "metadata": {
            "tags": []
          },
          "execution_count": 75
        }
      ]
    },
    {
      "cell_type": "code",
      "metadata": {
        "id": "gnLKK1AMtx7o",
        "colab_type": "code",
        "outputId": "78e3f9f4-e1bc-441b-95fc-492229bb8996",
        "colab": {
          "base_uri": "https://localhost:8080/",
          "height": 607
        }
      },
      "source": [
        "final.append({'Name': 'Total', 'Rounds': sum(final.Rounds), 'Total Quantity':sum(final['Total Quantity']),\t'Amount':sum(final.Amount),\n",
        "              'Diesel':sum(final.Diesel), 'Amount - Diesel':sum(final['Amount - Diesel']), 'Cash':sum(final['Cash']), \n",
        "              'Balance':sum(final['Balance'])},\n",
        "              ignore_index = True)"
      ],
      "execution_count": 0,
      "outputs": [
        {
          "output_type": "execute_result",
          "data": {
            "text/html": [
              "<div>\n",
              "<style scoped>\n",
              "    .dataframe tbody tr th:only-of-type {\n",
              "        vertical-align: middle;\n",
              "    }\n",
              "\n",
              "    .dataframe tbody tr th {\n",
              "        vertical-align: top;\n",
              "    }\n",
              "\n",
              "    .dataframe thead th {\n",
              "        text-align: right;\n",
              "    }\n",
              "</style>\n",
              "<table border=\"1\" class=\"dataframe\">\n",
              "  <thead>\n",
              "    <tr style=\"text-align: right;\">\n",
              "      <th></th>\n",
              "      <th>Name</th>\n",
              "      <th>Rounds</th>\n",
              "      <th>Total Quantity</th>\n",
              "      <th>Amount</th>\n",
              "      <th>Diesel</th>\n",
              "      <th>Amount - Diesel</th>\n",
              "      <th>Cash</th>\n",
              "      <th>Balance</th>\n",
              "    </tr>\n",
              "  </thead>\n",
              "  <tbody>\n",
              "    <tr>\n",
              "      <th>0</th>\n",
              "      <td>imran</td>\n",
              "      <td>29</td>\n",
              "      <td>11513</td>\n",
              "      <td>34539</td>\n",
              "      <td>18000.0</td>\n",
              "      <td>16539.0</td>\n",
              "      <td>2400.0</td>\n",
              "      <td>14139.0</td>\n",
              "    </tr>\n",
              "    <tr>\n",
              "      <th>1</th>\n",
              "      <td>rasid</td>\n",
              "      <td>27</td>\n",
              "      <td>10962</td>\n",
              "      <td>32886</td>\n",
              "      <td>14000.0</td>\n",
              "      <td>18886.0</td>\n",
              "      <td>0.0</td>\n",
              "      <td>18886.0</td>\n",
              "    </tr>\n",
              "    <tr>\n",
              "      <th>2</th>\n",
              "      <td>khurseed</td>\n",
              "      <td>25</td>\n",
              "      <td>9775</td>\n",
              "      <td>29325</td>\n",
              "      <td>17200.0</td>\n",
              "      <td>12125.0</td>\n",
              "      <td>13900.0</td>\n",
              "      <td>-1775.0</td>\n",
              "    </tr>\n",
              "    <tr>\n",
              "      <th>3</th>\n",
              "      <td>gulfam</td>\n",
              "      <td>19</td>\n",
              "      <td>8739</td>\n",
              "      <td>26217</td>\n",
              "      <td>13000.0</td>\n",
              "      <td>13217.0</td>\n",
              "      <td>3100.0</td>\n",
              "      <td>10117.0</td>\n",
              "    </tr>\n",
              "    <tr>\n",
              "      <th>4</th>\n",
              "      <td>saddam</td>\n",
              "      <td>18</td>\n",
              "      <td>8370</td>\n",
              "      <td>25110</td>\n",
              "      <td>12000.0</td>\n",
              "      <td>13110.0</td>\n",
              "      <td>500.0</td>\n",
              "      <td>12610.0</td>\n",
              "    </tr>\n",
              "    <tr>\n",
              "      <th>5</th>\n",
              "      <td>bhura</td>\n",
              "      <td>21</td>\n",
              "      <td>8337</td>\n",
              "      <td>25011</td>\n",
              "      <td>14000.0</td>\n",
              "      <td>11011.0</td>\n",
              "      <td>870.0</td>\n",
              "      <td>10141.0</td>\n",
              "    </tr>\n",
              "    <tr>\n",
              "      <th>6</th>\n",
              "      <td>jabir</td>\n",
              "      <td>17</td>\n",
              "      <td>7072</td>\n",
              "      <td>21216</td>\n",
              "      <td>13000.0</td>\n",
              "      <td>8216.0</td>\n",
              "      <td>1000.0</td>\n",
              "      <td>7216.0</td>\n",
              "    </tr>\n",
              "    <tr>\n",
              "      <th>7</th>\n",
              "      <td>julfan</td>\n",
              "      <td>17</td>\n",
              "      <td>6630</td>\n",
              "      <td>19890</td>\n",
              "      <td>11900.0</td>\n",
              "      <td>7990.0</td>\n",
              "      <td>9900.0</td>\n",
              "      <td>-1910.0</td>\n",
              "    </tr>\n",
              "    <tr>\n",
              "      <th>8</th>\n",
              "      <td>dinesh</td>\n",
              "      <td>13</td>\n",
              "      <td>6045</td>\n",
              "      <td>18135</td>\n",
              "      <td>6000.0</td>\n",
              "      <td>12135.0</td>\n",
              "      <td>1300.0</td>\n",
              "      <td>10835.0</td>\n",
              "    </tr>\n",
              "    <tr>\n",
              "      <th>9</th>\n",
              "      <td>amjad</td>\n",
              "      <td>15</td>\n",
              "      <td>5925</td>\n",
              "      <td>17775</td>\n",
              "      <td>10000.0</td>\n",
              "      <td>7775.0</td>\n",
              "      <td>0.0</td>\n",
              "      <td>7775.0</td>\n",
              "    </tr>\n",
              "    <tr>\n",
              "      <th>10</th>\n",
              "      <td>hasan</td>\n",
              "      <td>12</td>\n",
              "      <td>4800</td>\n",
              "      <td>14400</td>\n",
              "      <td>8000.0</td>\n",
              "      <td>6400.0</td>\n",
              "      <td>0.0</td>\n",
              "      <td>6400.0</td>\n",
              "    </tr>\n",
              "    <tr>\n",
              "      <th>11</th>\n",
              "      <td>mukarram</td>\n",
              "      <td>10</td>\n",
              "      <td>4000</td>\n",
              "      <td>12000</td>\n",
              "      <td>5000.0</td>\n",
              "      <td>7000.0</td>\n",
              "      <td>0.0</td>\n",
              "      <td>7000.0</td>\n",
              "    </tr>\n",
              "    <tr>\n",
              "      <th>12</th>\n",
              "      <td>akram</td>\n",
              "      <td>6</td>\n",
              "      <td>2160</td>\n",
              "      <td>6480</td>\n",
              "      <td>4000.0</td>\n",
              "      <td>2480.0</td>\n",
              "      <td>1800.0</td>\n",
              "      <td>680.0</td>\n",
              "    </tr>\n",
              "    <tr>\n",
              "      <th>13</th>\n",
              "      <td>zishan</td>\n",
              "      <td>4</td>\n",
              "      <td>1936</td>\n",
              "      <td>5808</td>\n",
              "      <td>2000.0</td>\n",
              "      <td>3808.0</td>\n",
              "      <td>1000.0</td>\n",
              "      <td>2808.0</td>\n",
              "    </tr>\n",
              "    <tr>\n",
              "      <th>14</th>\n",
              "      <td>khan</td>\n",
              "      <td>4</td>\n",
              "      <td>1700</td>\n",
              "      <td>5100</td>\n",
              "      <td>2000.0</td>\n",
              "      <td>3100.0</td>\n",
              "      <td>0.0</td>\n",
              "      <td>3100.0</td>\n",
              "    </tr>\n",
              "    <tr>\n",
              "      <th>15</th>\n",
              "      <td>mujahid</td>\n",
              "      <td>3</td>\n",
              "      <td>1140</td>\n",
              "      <td>3420</td>\n",
              "      <td>2000.0</td>\n",
              "      <td>1420.0</td>\n",
              "      <td>0.0</td>\n",
              "      <td>1420.0</td>\n",
              "    </tr>\n",
              "    <tr>\n",
              "      <th>16</th>\n",
              "      <td>aslam</td>\n",
              "      <td>1</td>\n",
              "      <td>484</td>\n",
              "      <td>1452</td>\n",
              "      <td>0.0</td>\n",
              "      <td>1452.0</td>\n",
              "      <td>0.0</td>\n",
              "      <td>1452.0</td>\n",
              "    </tr>\n",
              "    <tr>\n",
              "      <th>17</th>\n",
              "      <td>Total</td>\n",
              "      <td>241</td>\n",
              "      <td>99588</td>\n",
              "      <td>298764</td>\n",
              "      <td>152100.0</td>\n",
              "      <td>146664.0</td>\n",
              "      <td>35770.0</td>\n",
              "      <td>110894.0</td>\n",
              "    </tr>\n",
              "  </tbody>\n",
              "</table>\n",
              "</div>"
            ],
            "text/plain": [
              "        Name Rounds Total Quantity  ... Amount - Diesel     Cash   Balance\n",
              "0      imran     29          11513  ...         16539.0   2400.0   14139.0\n",
              "1      rasid     27          10962  ...         18886.0      0.0   18886.0\n",
              "2   khurseed     25           9775  ...         12125.0  13900.0   -1775.0\n",
              "3     gulfam     19           8739  ...         13217.0   3100.0   10117.0\n",
              "4     saddam     18           8370  ...         13110.0    500.0   12610.0\n",
              "5      bhura     21           8337  ...         11011.0    870.0   10141.0\n",
              "6      jabir     17           7072  ...          8216.0   1000.0    7216.0\n",
              "7     julfan     17           6630  ...          7990.0   9900.0   -1910.0\n",
              "8     dinesh     13           6045  ...         12135.0   1300.0   10835.0\n",
              "9      amjad     15           5925  ...          7775.0      0.0    7775.0\n",
              "10     hasan     12           4800  ...          6400.0      0.0    6400.0\n",
              "11  mukarram     10           4000  ...          7000.0      0.0    7000.0\n",
              "12     akram      6           2160  ...          2480.0   1800.0     680.0\n",
              "13    zishan      4           1936  ...          3808.0   1000.0    2808.0\n",
              "14      khan      4           1700  ...          3100.0      0.0    3100.0\n",
              "15   mujahid      3           1140  ...          1420.0      0.0    1420.0\n",
              "16     aslam      1            484  ...          1452.0      0.0    1452.0\n",
              "17     Total    241          99588  ...        146664.0  35770.0  110894.0\n",
              "\n",
              "[18 rows x 8 columns]"
            ]
          },
          "metadata": {
            "tags": []
          },
          "execution_count": 76
        }
      ]
    },
    {
      "cell_type": "code",
      "metadata": {
        "id": "X_t0w-KR52TS",
        "colab_type": "code",
        "outputId": "06a3fa1f-6fee-40ed-c177-b69d0572e7ce",
        "colab": {
          "base_uri": "https://localhost:8080/",
          "height": 51
        }
      },
      "source": [
        "vakil_diesel = diesel_by_name[diesel_by_name.Name == 'vakil jcb']['Total Diesel']\n",
        "vakil_diesel"
      ],
      "execution_count": 0,
      "outputs": [
        {
          "output_type": "execute_result",
          "data": {
            "text/plain": [
              "19    19800.0\n",
              "Name: Total Diesel, dtype: float64"
            ]
          },
          "metadata": {
            "tags": []
          },
          "execution_count": 77
        }
      ]
    },
    {
      "cell_type": "code",
      "metadata": {
        "id": "T2-eJHC-59sL",
        "colab_type": "code",
        "outputId": "892bb37a-b4f9-4f67-c673-fd600378f680",
        "colab": {
          "base_uri": "https://localhost:8080/",
          "height": 51
        }
      },
      "source": [
        "cash_diesel = diesel_by_name[diesel_by_name.Name == 'cash']['Total Diesel']\n",
        "cash_diesel"
      ],
      "execution_count": 0,
      "outputs": [
        {
          "output_type": "execute_result",
          "data": {
            "text/plain": [
              "4    43900.0\n",
              "Name: Total Diesel, dtype: float64"
            ]
          },
          "metadata": {
            "tags": []
          },
          "execution_count": 78
        }
      ]
    },
    {
      "cell_type": "code",
      "metadata": {
        "id": "-U1aP5Q66BjX",
        "colab_type": "code",
        "outputId": "b77b3076-85a7-4538-8b06-968fcf75854c",
        "colab": {
          "base_uri": "https://localhost:8080/",
          "height": 34
        }
      },
      "source": [
        "diesel_to_people = final.sum().get('Diesel')\n",
        "diesel_to_people"
      ],
      "execution_count": 0,
      "outputs": [
        {
          "output_type": "execute_result",
          "data": {
            "text/plain": [
              "152100.0"
            ]
          },
          "metadata": {
            "tags": []
          },
          "execution_count": 79
        }
      ]
    },
    {
      "cell_type": "code",
      "metadata": {
        "id": "gkyISOrK8CoI",
        "colab_type": "code",
        "outputId": "2f798b25-c24e-4c61-bcc7-8934ee98b5b2",
        "colab": {
          "base_uri": "https://localhost:8080/",
          "height": 34
        }
      },
      "source": [
        "car = diesel_by_name[diesel_by_name.Name == 'car']['Total Diesel'].values[0]\n",
        "car"
      ],
      "execution_count": 0,
      "outputs": [
        {
          "output_type": "execute_result",
          "data": {
            "text/plain": [
              "1000.0"
            ]
          },
          "metadata": {
            "tags": []
          },
          "execution_count": 80
        }
      ]
    },
    {
      "cell_type": "code",
      "metadata": {
        "id": "4qByZQESnxAl",
        "colab_type": "code",
        "outputId": "9fedc8fa-f4c1-44d9-f534-926a281fe8bb",
        "colab": {
          "base_uri": "https://localhost:8080/",
          "height": 170
        }
      },
      "source": [
        "final.sum(axis = 0, skipna = True)"
      ],
      "execution_count": 0,
      "outputs": [
        {
          "output_type": "execute_result",
          "data": {
            "text/plain": [
              "Name               imranrasidkhurseedgulfamsaddambhurajabirjulfan...\n",
              "Rounds                                                           241\n",
              "Total Quantity                                                 99588\n",
              "Amount                                                        298764\n",
              "Diesel                                                        152100\n",
              "Amount - Diesel                                               146664\n",
              "Cash                                                           35770\n",
              "Balance                                                       110894\n",
              "dtype: object"
            ]
          },
          "metadata": {
            "tags": []
          },
          "execution_count": 81
        }
      ]
    },
    {
      "cell_type": "code",
      "metadata": {
        "id": "2dFxg-EjQHiR",
        "colab_type": "code",
        "outputId": "ed76b0fc-b02b-4eca-c246-7dfa9a5d393b",
        "colab": {
          "base_uri": "https://localhost:8080/",
          "height": 34
        }
      },
      "source": [
        "total_q = sum(final['Total Quantity'])\n",
        "total_q"
      ],
      "execution_count": 0,
      "outputs": [
        {
          "output_type": "execute_result",
          "data": {
            "text/plain": [
              "99588"
            ]
          },
          "metadata": {
            "tags": []
          },
          "execution_count": 82
        }
      ]
    },
    {
      "cell_type": "markdown",
      "metadata": {
        "id": "_0al7GQXkDXf",
        "colab_type": "text"
      },
      "source": [
        "# Total payable"
      ]
    }
  ]
}